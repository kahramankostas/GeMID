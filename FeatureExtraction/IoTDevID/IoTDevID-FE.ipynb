{
 "cells": [
  {
   "cell_type": "code",
   "execution_count": 110,
   "metadata": {},
   "outputs": [],
   "source": [
    "import pandas as pd\n",
    "import os\n",
    "import time\n",
    "from tqdm import tqdm\n",
    "import shutil\n",
    "import pandas as pd\n",
    "import warnings\n",
    "warnings.filterwarnings(\"ignore\")"
   ]
  },
  {
   "cell_type": "code",
   "execution_count": 111,
   "metadata": {},
   "outputs": [],
   "source": [
    "def folder(f_name): #this function creates a folder named \"attacks\" in the program directory.\n",
    "    try:\n",
    "        if not os.path.exists(f_name):\n",
    "            os.makedirs(f_name)\n",
    "    except OSError:\n",
    "        print (\"The folder could not be created!\")"
   ]
  },
  {
   "cell_type": "code",
   "execution_count": 112,
   "metadata": {},
   "outputs": [
    {
     "data": {
      "text/plain": [
       "['pcaps\\\\1\\\\AALTO\\\\EdimaxCam1\\\\Setup-A-1-STA.pcap',\n",
       " 'pcaps\\\\1\\\\AALTO\\\\EdimaxCam1\\\\Setup-A-2-STA.pcap',\n",
       " 'pcaps\\\\1\\\\AALTO\\\\EdimaxCam1\\\\Setup-A-3-STA.pcap',\n",
       " 'pcaps\\\\1\\\\AALTO\\\\EdimaxCam1\\\\Setup-A-4-STA.pcap',\n",
       " 'pcaps\\\\1\\\\AALTO\\\\EdimaxCam1\\\\Setup-A-5-STA.pcap',\n",
       " 'pcaps\\\\1\\\\AALTO\\\\EdimaxCam1\\\\Setup-A-6-STA.pcap',\n",
       " 'pcaps\\\\1\\\\AALTO\\\\EdimaxCam2\\\\Setup-A-1-STA.pcap',\n",
       " 'pcaps\\\\1\\\\AALTO\\\\EdimaxCam2\\\\Setup-A-2-STA.pcap',\n",
       " 'pcaps\\\\1\\\\AALTO\\\\EdimaxCam2\\\\Setup-A-3-STA.pcap',\n",
       " 'pcaps\\\\1\\\\AALTO\\\\EdimaxCam2\\\\Setup-A-4-STA.pcap',\n",
       " 'pcaps\\\\1\\\\AALTO\\\\EdnetCam1\\\\Setup-A-1-STA.pcap',\n",
       " 'pcaps\\\\1\\\\AALTO\\\\EdnetCam1\\\\Setup-C-1-STA.pcap',\n",
       " 'pcaps\\\\1\\\\AALTO\\\\EdnetCam1\\\\Setup-C-2-STA.pcap',\n",
       " 'pcaps\\\\1\\\\AALTO\\\\EdnetCam1\\\\Setup-C-3-STA.pcap',\n",
       " 'pcaps\\\\1\\\\AALTO\\\\EdnetCam1\\\\Setup-C-4-STA.pcap',\n",
       " 'pcaps\\\\1\\\\AALTO\\\\EdnetCam1\\\\Setup-C-5-STA.pcap',\n",
       " 'pcaps\\\\1\\\\AALTO\\\\EdnetCam2\\\\Setup-A-1-STA.pcap',\n",
       " 'pcaps\\\\1\\\\AALTO\\\\EdnetCam2\\\\Setup-C-1-STA.pcap',\n",
       " 'pcaps\\\\1\\\\AALTO\\\\EdnetCam2\\\\Setup-C-2-STA.pcap',\n",
       " 'pcaps\\\\1\\\\AALTO\\\\EdnetCam2\\\\Setup-C-3-STA.pcap',\n",
       " 'pcaps\\\\1\\\\AALTO\\\\EdnetCam2\\\\Setup-C-4-STA.pcap',\n",
       " 'pcaps\\\\1\\\\AALTO\\\\WeMoInsightSwitch\\\\Setup-A-1-STA.pcap',\n",
       " 'pcaps\\\\1\\\\AALTO\\\\WeMoInsightSwitch\\\\Setup-A-10-STA.pcap',\n",
       " 'pcaps\\\\1\\\\AALTO\\\\WeMoInsightSwitch\\\\Setup-A-2-STA.pcap',\n",
       " 'pcaps\\\\1\\\\AALTO\\\\WeMoInsightSwitch\\\\Setup-A-3-STA.pcap',\n",
       " 'pcaps\\\\1\\\\AALTO\\\\WeMoInsightSwitch\\\\Setup-A-4-STA.pcap',\n",
       " 'pcaps\\\\1\\\\AALTO\\\\WeMoInsightSwitch\\\\Setup-A-5-STA.pcap',\n",
       " 'pcaps\\\\1\\\\AALTO\\\\WeMoInsightSwitch\\\\Setup-A-6-STA.pcap',\n",
       " 'pcaps\\\\1\\\\AALTO\\\\WeMoInsightSwitch\\\\Setup-A-7-STA.pcap',\n",
       " 'pcaps\\\\1\\\\AALTO\\\\WeMoInsightSwitch\\\\Setup-A-8-STA.pcap',\n",
       " 'pcaps\\\\1\\\\AALTO\\\\WeMoInsightSwitch\\\\Setup-A-9-STA.pcap',\n",
       " 'pcaps\\\\1\\\\AALTO\\\\WeMoInsightSwitch2\\\\Setup-C-1-STA.pcap',\n",
       " 'pcaps\\\\1\\\\AALTO\\\\WeMoInsightSwitch2\\\\Setup-C-2-STA.pcap',\n",
       " 'pcaps\\\\1\\\\AALTO\\\\WeMoInsightSwitch2\\\\Setup-C-3-STA.pcap',\n",
       " 'pcaps\\\\1\\\\AALTO\\\\WeMoSwitch\\\\Setup-A-1-STA.pcap',\n",
       " 'pcaps\\\\1\\\\AALTO\\\\WeMoSwitch\\\\Setup-A-10-STA.pcap',\n",
       " 'pcaps\\\\1\\\\AALTO\\\\WeMoSwitch\\\\Setup-A-2-STA.pcap',\n",
       " 'pcaps\\\\1\\\\AALTO\\\\WeMoSwitch\\\\Setup-A-3-STA.pcap',\n",
       " 'pcaps\\\\1\\\\AALTO\\\\WeMoSwitch\\\\Setup-A-4-STA.pcap',\n",
       " 'pcaps\\\\1\\\\AALTO\\\\WeMoSwitch\\\\Setup-A-5-STA.pcap',\n",
       " 'pcaps\\\\1\\\\AALTO\\\\WeMoSwitch\\\\Setup-A-6-STA.pcap',\n",
       " 'pcaps\\\\1\\\\AALTO\\\\WeMoSwitch\\\\Setup-A-7-STA.pcap',\n",
       " 'pcaps\\\\1\\\\AALTO\\\\WeMoSwitch\\\\Setup-A-8-STA.pcap',\n",
       " 'pcaps\\\\1\\\\AALTO\\\\WeMoSwitch\\\\Setup-A-9-STA.pcap',\n",
       " 'pcaps\\\\1\\\\AALTO\\\\WeMoSwitch2\\\\Setup-C-1-STA.pcap',\n",
       " 'pcaps\\\\1\\\\AALTO\\\\WeMoSwitch2\\\\Setup-C-2-STA.pcap',\n",
       " 'pcaps\\\\1\\\\AALTO\\\\WeMoSwitch2\\\\Setup-C-3-STA.pcap',\n",
       " 'pcaps\\\\1\\\\CIC\\\\2021_11_19_Active.pcap',\n",
       " 'pcaps\\\\1\\\\D-Link-IoT-Datasets\\\\D-LinkCam1\\\\D-LinkCam1_a4-2020-12-12.pcap',\n",
       " 'pcaps\\\\1\\\\D-Link-IoT-Datasets\\\\D-LinkCam1\\\\D-LinkCam1_a4-2020-12-13.pcap',\n",
       " 'pcaps\\\\1\\\\D-Link-IoT-Datasets\\\\D-LinkCam2\\\\D-LinkCam2_11-2020-12-12.pcap',\n",
       " 'pcaps\\\\1\\\\D-Link-IoT-Datasets\\\\D-LinkCam2\\\\D-LinkCam2_11-2020-12-13.pcap',\n",
       " 'pcaps\\\\1\\\\D-Link-IoT-Datasets\\\\D-LinkDayCam1\\\\D-LinkDayCam1_5d-2020-12-12.pcap',\n",
       " 'pcaps\\\\1\\\\D-Link-IoT-Datasets\\\\D-LinkDayCam1\\\\D-LinkDayCam1_5d-2020-12-13.pcap',\n",
       " 'pcaps\\\\1\\\\D-Link-IoT-Datasets\\\\D-LinkDayCam6\\\\D-LinkDayCam6_e5-2020-12-12.pcap',\n",
       " 'pcaps\\\\1\\\\D-Link-IoT-Datasets\\\\D-LinkDayCam6\\\\D-LinkDayCam6_e5-2020-12-13.pcap',\n",
       " 'pcaps\\\\1\\\\D-Link-IoT-Datasets\\\\D-LinkSmartPlug_3b\\\\D-LinkSmartPlug_3b-2020-12-12.pcap',\n",
       " 'pcaps\\\\1\\\\D-Link-IoT-Datasets\\\\D-LinkSmartPlug_3b\\\\D-LinkSmartPlug_3b-2020-12-13.pcap',\n",
       " 'pcaps\\\\1\\\\D-Link-IoT-Datasets\\\\D-LinkSmartPlug_55\\\\D-LinkSmartPlug_55-2020-12-12.pcap',\n",
       " 'pcaps\\\\1\\\\D-Link-IoT-Datasets\\\\D-LinkSmartPlug_55\\\\D-LinkSmartPlug_55-2020-12-13.pcap',\n",
       " 'pcaps\\\\1\\\\D-Link-IoT-Datasets\\\\D-LinkSmartPlug_6e\\\\D-LinkSmartPlug_6e-2020-12-12.pcap',\n",
       " 'pcaps\\\\1\\\\D-Link-IoT-Datasets\\\\D-LinkSmartPlug_6e\\\\D-LinkSmartPlug_6e-2020-12-13.pcap',\n",
       " 'pcaps\\\\2\\\\AALTO\\\\EdimaxCam1\\\\Setup-A-7-STA.pcap',\n",
       " 'pcaps\\\\2\\\\AALTO\\\\EdimaxCam1\\\\Setup-C-1-STA.pcap',\n",
       " 'pcaps\\\\2\\\\AALTO\\\\EdimaxCam1\\\\Setup-C-2-STA.pcap',\n",
       " 'pcaps\\\\2\\\\AALTO\\\\EdimaxCam1\\\\Setup-C-3-STA.pcap',\n",
       " 'pcaps\\\\2\\\\AALTO\\\\EdimaxCam1\\\\Setup-C-4-STA.pcap',\n",
       " 'pcaps\\\\2\\\\AALTO\\\\EdimaxCam1\\\\Setup-C-5-STA.pcap',\n",
       " 'pcaps\\\\2\\\\AALTO\\\\EdimaxCam2\\\\Setup-C-1-STA.pcap',\n",
       " 'pcaps\\\\2\\\\AALTO\\\\EdimaxCam2\\\\Setup-C-2-STA.pcap',\n",
       " 'pcaps\\\\2\\\\AALTO\\\\EdimaxCam2\\\\Setup-C-3-STA.pcap',\n",
       " 'pcaps\\\\2\\\\AALTO\\\\EdimaxCam2\\\\Setup-C-4-STA.pcap',\n",
       " 'pcaps\\\\2\\\\AALTO\\\\EdnetCam1\\\\Setup-C-10-STA.pcap',\n",
       " 'pcaps\\\\2\\\\AALTO\\\\EdnetCam1\\\\Setup-C-6-STA.pcap',\n",
       " 'pcaps\\\\2\\\\AALTO\\\\EdnetCam1\\\\Setup-C-7-STA.pcap',\n",
       " 'pcaps\\\\2\\\\AALTO\\\\EdnetCam1\\\\Setup-C-8-STA.pcap',\n",
       " 'pcaps\\\\2\\\\AALTO\\\\EdnetCam1\\\\Setup-C-9-STA.pcap',\n",
       " 'pcaps\\\\2\\\\AALTO\\\\EdnetCam2\\\\Setup-C-5-STA.pcap',\n",
       " 'pcaps\\\\2\\\\AALTO\\\\EdnetCam2\\\\Setup-C-6-STA.pcap',\n",
       " 'pcaps\\\\2\\\\AALTO\\\\EdnetCam2\\\\Setup-C-7-STA.pcap',\n",
       " 'pcaps\\\\2\\\\AALTO\\\\EdnetCam2\\\\Setup-C-8-STA.pcap',\n",
       " 'pcaps\\\\2\\\\AALTO\\\\WeMoInsightSwitch\\\\Setup-A-11-STA.pcap',\n",
       " 'pcaps\\\\2\\\\AALTO\\\\WeMoInsightSwitch\\\\Setup-C-1-STA.pcap',\n",
       " 'pcaps\\\\2\\\\AALTO\\\\WeMoInsightSwitch\\\\Setup-C-2-STA.pcap',\n",
       " 'pcaps\\\\2\\\\AALTO\\\\WeMoInsightSwitch\\\\Setup-C-3-STA.pcap',\n",
       " 'pcaps\\\\2\\\\AALTO\\\\WeMoInsightSwitch\\\\Setup-C-4-STA.pcap',\n",
       " 'pcaps\\\\2\\\\AALTO\\\\WeMoInsightSwitch\\\\Setup-C-5-STA.pcap',\n",
       " 'pcaps\\\\2\\\\AALTO\\\\WeMoInsightSwitch\\\\Setup-C-6-STA.pcap',\n",
       " 'pcaps\\\\2\\\\AALTO\\\\WeMoInsightSwitch\\\\Setup-C-7-STA.pcap',\n",
       " 'pcaps\\\\2\\\\AALTO\\\\WeMoInsightSwitch\\\\Setup-C-8-STA.pcap',\n",
       " 'pcaps\\\\2\\\\AALTO\\\\WeMoInsightSwitch\\\\Setup-C-9-STA.pcap',\n",
       " 'pcaps\\\\2\\\\AALTO\\\\WeMoInsightSwitch2\\\\Setup-C-4-STA.pcap',\n",
       " 'pcaps\\\\2\\\\AALTO\\\\WeMoInsightSwitch2\\\\Setup-C-5-STA.pcap',\n",
       " 'pcaps\\\\2\\\\AALTO\\\\WeMoSwitch\\\\Setup-C-1-STA.pcap',\n",
       " 'pcaps\\\\2\\\\AALTO\\\\WeMoSwitch\\\\Setup-C-10-STA.pcap',\n",
       " 'pcaps\\\\2\\\\AALTO\\\\WeMoSwitch\\\\Setup-C-2-STA.pcap',\n",
       " 'pcaps\\\\2\\\\AALTO\\\\WeMoSwitch\\\\Setup-C-3-STA.pcap',\n",
       " 'pcaps\\\\2\\\\AALTO\\\\WeMoSwitch\\\\Setup-C-4-STA.pcap',\n",
       " 'pcaps\\\\2\\\\AALTO\\\\WeMoSwitch\\\\Setup-C-5-STA.pcap',\n",
       " 'pcaps\\\\2\\\\AALTO\\\\WeMoSwitch\\\\Setup-C-6-STA.pcap',\n",
       " 'pcaps\\\\2\\\\AALTO\\\\WeMoSwitch\\\\Setup-C-7-STA.pcap',\n",
       " 'pcaps\\\\2\\\\AALTO\\\\WeMoSwitch\\\\Setup-C-8-STA.pcap',\n",
       " 'pcaps\\\\2\\\\AALTO\\\\WeMoSwitch\\\\Setup-C-9-STA.pcap',\n",
       " 'pcaps\\\\2\\\\AALTO\\\\WeMoSwitch2\\\\Setup-C-4-STA.pcap',\n",
       " 'pcaps\\\\2\\\\AALTO\\\\WeMoSwitch2\\\\Setup-C-5-STA.pcap',\n",
       " 'pcaps\\\\2\\\\CIC\\\\2022_01_03_Active.pcap',\n",
       " 'pcaps\\\\2\\\\D-Link-IoT-Datasets\\\\D-LinkCam1\\\\D-LinkCam1_a4-2020-12-20.pcap',\n",
       " 'pcaps\\\\2\\\\D-Link-IoT-Datasets\\\\D-LinkCam1\\\\D-LinkCam1_a4-2020-12-21.pcap',\n",
       " 'pcaps\\\\2\\\\D-Link-IoT-Datasets\\\\D-LinkCam2\\\\D-LinkCam2_11-2020-12-20.pcap',\n",
       " 'pcaps\\\\2\\\\D-Link-IoT-Datasets\\\\D-LinkCam2\\\\D-LinkCam2_11-2020-12-21.pcap',\n",
       " 'pcaps\\\\2\\\\D-Link-IoT-Datasets\\\\D-LinkDayCam1\\\\D-LinkDayCam1_5d-2020-12-20.pcap',\n",
       " 'pcaps\\\\2\\\\D-Link-IoT-Datasets\\\\D-LinkDayCam1\\\\D-LinkDayCam1_5d-2020-12-21.pcap',\n",
       " 'pcaps\\\\2\\\\D-Link-IoT-Datasets\\\\D-LinkDayCam6\\\\D-LinkDayCam6_e5-2020-12-20.pcap',\n",
       " 'pcaps\\\\2\\\\D-Link-IoT-Datasets\\\\D-LinkDayCam6\\\\D-LinkDayCam6_e5-2020-12-21.pcap',\n",
       " 'pcaps\\\\2\\\\D-Link-IoT-Datasets\\\\D-LinkSmartPlug_3b\\\\D-LinkSmartPlug_3b-2020-12-20.pcap',\n",
       " 'pcaps\\\\2\\\\D-Link-IoT-Datasets\\\\D-LinkSmartPlug_3b\\\\D-LinkSmartPlug_3b-2020-12-21.pcap',\n",
       " 'pcaps\\\\2\\\\D-Link-IoT-Datasets\\\\D-LinkSmartPlug_55\\\\D-LinkSmartPlug_55-2020-12-20.pcap',\n",
       " 'pcaps\\\\2\\\\D-Link-IoT-Datasets\\\\D-LinkSmartPlug_55\\\\D-LinkSmartPlug_55-2020-12-21.pcap',\n",
       " 'pcaps\\\\2\\\\D-Link-IoT-Datasets\\\\D-LinkSmartPlug_6e\\\\D-LinkSmartPlug_6e-2020-12-20.pcap',\n",
       " 'pcaps\\\\2\\\\D-Link-IoT-Datasets\\\\D-LinkSmartPlug_6e\\\\D-LinkSmartPlug_6e-2020-12-21.pcap']"
      ]
     },
     "execution_count": 112,
     "metadata": {},
     "output_type": "execute_result"
    }
   ],
   "source": [
    "def find_the_way(path,file_format,con=\"\"):\n",
    "    files_add = []\n",
    "    # r=root, d=directories, f = files\n",
    "    for r, d, f in os.walk(path):\n",
    "        for file in f:\n",
    "            if file_format in file:\n",
    "                if con in file:\n",
    "                    files_add.append(os.path.join(r, file))  \n",
    "            \n",
    "    return files_add\n",
    "path=\"pcaps\"\n",
    "files_add=find_the_way(path,'.pcap')\n",
    "files_add"
   ]
  },
  {
   "cell_type": "code",
   "execution_count": 113,
   "metadata": {},
   "outputs": [],
   "source": [
    "MAC_list={\n",
    "\n",
    "#AALTO    \n",
    "\"74:da:38:80:7a:08\":\"EdimaxCam_08\",\n",
    "\"74:da:38:80:79:fc\":\"EdimaxCam_fc\",\n",
    "\"3c:49:37:03:17:db\":\"EdnetCam_db\",\n",
    "\"3c:49:37:03:17:f0\":\"EdnetCam_f0\",\n",
    "\"94:10:3e:41:c2:05\":\"WeMoInsightSwitch_05\",\n",
    "\"94:10:3e:42:80:69\":\"WeMoInsightSwitch_69\",\n",
    "\"94:10:3e:35:01:c1\":\"WeMoSwitch_c1\",\n",
    "\"94:10:3e:34:0c:b5\":\"WeMoSwitch_b5\",\n",
    "#D-LinkIoT\n",
    "\"c4:12:f5:16:40:6e\":\"LinkSmartPlug_6e\",\n",
    "\"c4:12:f5:16:40:3b\": \"LinkSmartPlug_3b\",\n",
    "\"b2:c5:54:44:0f:a4\":\"D-LinkCam1_a4\", \n",
    "\"b2:c5:54:44:0f:11\":\"D-LinkCam2_11\",\n",
    "\"b0:c5:54:46:48:5d\": \"D-LinkDayCam1_5d\",\n",
    "\"b0:c5:54:42:8f:a6\":\"D-LinkDayCam4_a6\",\n",
    "#CIC-IoT-22\n",
    "\"b8:f0:09:03:9a:af\":\"GosundSocket_af\",\n",
    "\"50:02:91:10:09:8f\":\"GosundSocket_8f\",\n",
    "\"c4:dd:57:0c:39:94\":\"GosundPlug_94\",\n",
    "\"50:02:91:10:ac:d8\":\"GosundPlug_d8\",\n",
    "\"d4:a6:51:76:06:64\":\"TeckinPlug_64\",\n",
    "\"d4:a6:51:78:97:4e\":\"TeckinPlug_4e\",\n",
    "\"d4:a6:51:20:91:d1\":\"YutronPlug_d1\",\n",
    "\"d4:a6:51:21:6c:29\":\"YutronPlug_29\",\n",
    "\"1c:fe:2b:98:16:dd\":\"AmazonAlexaEchoDot_dd\",\n",
    "\"a0:d0:dc:c4:08:ff\":\"AmazonAlexaEchoDot_ff\"}"
   ]
  },
  {
   "cell_type": "code",
   "execution_count": 114,
   "metadata": {},
   "outputs": [],
   "source": [
    "def flag_fixer(file):\n",
    "\n",
    "    IP_flags = {'0': 1, '<Flag 0 ()>': 2, '<Flag 2 (DF)>': 3, '<Flag 1 (MF)>': 4,'<Flag 3 (MF+DF)>':5,\n",
    "     '<Flag 4 (evil)>':6,\n",
    "     '<Flag 5 (MF+evil)>':7,\n",
    "     '<Flag 6 (DF+evil)>':8,\n",
    "     '<Flag 7 (MF+DF+evil)>':9,\n",
    "     '<Flag 3 (MF+DF)>':10,\n",
    "     '<Flag 4 (evil)>':11,\n",
    "     '<Flag 5 (MF+evil)>':12,\n",
    "     '<Flag 6 (DF+evil)>':13,\n",
    "     '<Flag 7 (MF+DF+evil)>':14,\n",
    "     '<Flag 3 (MF+DF)>':15,\n",
    "     '<Flag 4 (evil)>':16,\n",
    "     '<Flag 5 (MF+evil)>':17,\n",
    "     '<Flag 6 (DF+evil)>':18,\n",
    "     '<Flag 7 (MF+DF+evil)>':19,\n",
    "     '<Flag 3 (MF+DF)>':20,\n",
    "     '<Flag 4 (evil)>':21,\n",
    "     '<Flag 5 (MF+evil)>':22,\n",
    "     '<Flag 6 (DF+evil)>':23,\n",
    "     '<Flag 7 (MF+DF+evil)>':24,\n",
    "     '<Flag 3 (MF+DF)>':25,\n",
    "     '<Flag 4 (evil)>':26,\n",
    "     '<Flag 5 (MF+evil)>':27,\n",
    "     '<Flag 6 (DF+evil)>':28,\n",
    "     '<Flag 7 (MF+DF+evil)>':29,\n",
    "     '<Flag 3 (MF+DF)>':30,\n",
    "     '<Flag 4 (evil)>':31,\n",
    "     '<Flag 5 (MF+evil)>':32,\n",
    "     '<Flag 6 (DF+evil)>':33,\n",
    "     '<Flag 7 (MF+DF+evil)>':34,\n",
    "     '<Flag 3 (MF+DF)>':35,\n",
    "     '<Flag 4 (evil)>':36,\n",
    "     '<Flag 5 (MF+evil)>':37,\n",
    "     '<Flag 6 (DF+evil)>':38,\n",
    "     '<Flag 7 (MF+DF+evil)>':39,\n",
    "     '<Flag 3 (MF+DF)>':40,\n",
    "     '<Flag 4 (evil)>':41,\n",
    "     '<Flag 5 (MF+evil)>':42,\n",
    "     '<Flag 6 (DF+evil)>':43,\n",
    "     '<Flag 7 (MF+DF+evil)>':44}\n",
    "    TCP_flags = {'0': 1, '<Flag 2 (S)>': 2, '<Flag 18 (SA)>': 3, '<Flag 16 (A)>': 4, '<Flag 24 (PA)>': 5, '<Flag 25 (FPA)>': 6, '<Flag 17 (FA)>': 7, '<Flag 4 (R)>': 8, '<Flag 20 (RA)>': 9, '<Flag 194 (SEC)>': 10, '<Flag 1 (F)>': 11, '<Flag 152 (PAC)>': 12, '<Flag 144 (AC)>': 13,'<Flag 82 (SAE)>':14,'<Flag 49 (FAU)>':15, '<Flag 0 ()>':16,\n",
    "     '<Flag 10 (SP)>':17,\n",
    "     '<Flag 100 (RUE)>':18,\n",
    "     '<Flag 102 (SRUE)>':19,\n",
    "     '<Flag 103 (FSRUE)>':20,\n",
    "     '<Flag 104 (PUE)>':21,\n",
    "     '<Flag 106 (SPUE)>':22,\n",
    "     '<Flag 108 (RPUE)>':23,\n",
    "     '<Flag 11 (FSP)>':24,\n",
    "     '<Flag 110 (SRPUE)>':25,\n",
    "     '<Flag 111 (FSRPUE)>':26,\n",
    "     '<Flag 112 (AUE)>':27,\n",
    "     '<Flag 113 (FAUE)>':28,\n",
    "     '<Flag 114 (SAUE)>':29,\n",
    "     '<Flag 116 (RAUE)>':30,\n",
    "     '<Flag 117 (FRAUE)>':31,\n",
    "     '<Flag 119 (FSRAUE)>':32,\n",
    "     '<Flag 121 (FPAUE)>':33,\n",
    "     '<Flag 123 (FSPAUE)>':34,\n",
    "     '<Flag 124 (RPAUE)>':35,\n",
    "     '<Flag 125 (FRPAUE)>':36,\n",
    "     '<Flag 126 (SRPAUE)>':37,\n",
    "     '<Flag 127 (FSRPAUE)>':38,\n",
    "     '<Flag 128 (C)>':39,\n",
    "     '<Flag 129 (FC)>':40,\n",
    "     '<Flag 13 (FRP)>':41,\n",
    "     '<Flag 130 (SC)>':42,\n",
    "     '<Flag 131 (FSC)>':43,\n",
    "     '<Flag 133 (FRC)>':44,\n",
    "     '<Flag 134 (SRC)>':45,\n",
    "     '<Flag 135 (FSRC)>':46,\n",
    "     '<Flag 136 (PC)>':47,\n",
    "     '<Flag 137 (FPC)>':48,\n",
    "     '<Flag 138 (SPC)>':49,\n",
    "     '<Flag 139 (FSPC)>':50,\n",
    "     '<Flag 14 (SRP)>':51,\n",
    "     '<Flag 140 (RPC)>':52,\n",
    "     '<Flag 145 (FAC)>':53,\n",
    "     '<Flag 146 (SAC)>':54,\n",
    "     '<Flag 147 (FSAC)>':55,\n",
    "     '<Flag 148 (RAC)>':56,\n",
    "     '<Flag 150 (SRAC)>':57,\n",
    "     '<Flag 151 (FSRAC)>':58,\n",
    "     '<Flag 153 (FPAC)>':59,\n",
    "     '<Flag 154 (SPAC)>':60,\n",
    "     '<Flag 155 (FSPAC)>':61,\n",
    "     '<Flag 156 (RPAC)>':62,\n",
    "     '<Flag 157 (FRPAC)>':63,\n",
    "     '<Flag 158 (SRPAC)>':64,\n",
    "     '<Flag 159 (FSRPAC)>':65,\n",
    "     '<Flag 160 (UC)>':66,\n",
    "     '<Flag 162 (SUC)>':67,\n",
    "     '<Flag 163 (FSUC)>':68,\n",
    "     '<Flag 164 (RUC)>':69,\n",
    "     '<Flag 166 (SRUC)>':70,\n",
    "     '<Flag 169 (FPUC)>':71,\n",
    "     '<Flag 170 (SPUC)>':72,\n",
    "     '<Flag 171 (FSPUC)>':73,\n",
    "     '<Flag 172 (RPUC)>':74,\n",
    "     '<Flag 174 (SRPUC)>':75,\n",
    "     '<Flag 176 (AUC)>':76,\n",
    "     '<Flag 177 (FAUC)>':77,\n",
    "     '<Flag 179 (FSAUC)>':78,\n",
    "     '<Flag 180 (RAUC)>':79,\n",
    "     '<Flag 181 (FRAUC)>':80,\n",
    "     '<Flag 182 (SRAUC)>':81,\n",
    "     '<Flag 185 (FPAUC)>':82,\n",
    "     '<Flag 186 (SPAUC)>':83,\n",
    "     '<Flag 187 (FSPAUC)>':84,\n",
    "     '<Flag 188 (RPAUC)>':85,\n",
    "     '<Flag 190 (SRPAUC)>':86,\n",
    "     '<Flag 191 (FSRPAUC)>':87,\n",
    "     '<Flag 195 (FSEC)>':88,\n",
    "     '<Flag 197 (FREC)>':89,\n",
    "     '<Flag 199 (FSREC)>':90,\n",
    "     '<Flag 200 (PEC)>':91,\n",
    "     '<Flag 201 (FPEC)>':92,\n",
    "     '<Flag 202 (SPEC)>':93,\n",
    "     '<Flag 203 (FSPEC)>':94,\n",
    "     '<Flag 204 (RPEC)>':95,\n",
    "     '<Flag 205 (FRPEC)>':96,\n",
    "     '<Flag 206 (SRPEC)>':97,\n",
    "     '<Flag 207 (FSRPEC)>':98,\n",
    "     '<Flag 208 (AEC)>':99,\n",
    "     '<Flag 209 (FAEC)>':100,\n",
    "     '<Flag 210 (SAEC)>':101,\n",
    "     '<Flag 212 (RAEC)>':102,\n",
    "     '<Flag 213 (FRAEC)>':103,\n",
    "     '<Flag 214 (SRAEC)>':104,\n",
    "     '<Flag 216 (PAEC)>':105,\n",
    "     '<Flag 218 (SPAEC)>':106,\n",
    "     '<Flag 219 (FSPAEC)>':107,\n",
    "     '<Flag 22 (SRA)>':108,\n",
    "     '<Flag 220 (RPAEC)>':109,\n",
    "     '<Flag 222 (SRPAEC)>':110,\n",
    "     '<Flag 224 (UEC)>':111,\n",
    "     '<Flag 228 (RUEC)>':112,\n",
    "     '<Flag 229 (FRUEC)>':113,\n",
    "     '<Flag 23 (FSRA)>':114,\n",
    "     '<Flag 232 (PUEC)>':115,\n",
    "     '<Flag 233 (FPUEC)>':116,\n",
    "     '<Flag 234 (SPUEC)>':117,\n",
    "     '<Flag 236 (RPUEC)>':118,\n",
    "     '<Flag 237 (FRPUEC)>':119,\n",
    "     '<Flag 238 (SRPUEC)>':120,\n",
    "     '<Flag 240 (AUEC)>':121,\n",
    "     '<Flag 241 (FAUEC)>':122,\n",
    "     '<Flag 242 (SAUEC)>':123,\n",
    "     '<Flag 244 (RAUEC)>':124,\n",
    "     '<Flag 246 (SRAUEC)>':125,\n",
    "     '<Flag 248 (PAUEC)>':126,\n",
    "     '<Flag 249 (FPAUEC)>':127,\n",
    "     '<Flag 251 (FSPAUEC)>':128,\n",
    "     '<Flag 252 (RPAUEC)>':129,\n",
    "     '<Flag 253 (FRPAUEC)>':130,\n",
    "     '<Flag 254 (SRPAUEC)>':131,\n",
    "     '<Flag 255 (FSRPAUEC)>':132,\n",
    "     '<Flag 256 (N)>':133,\n",
    "     '<Flag 257 (FN)>':134,\n",
    "     '<Flag 258 (SN)>':135,\n",
    "     '<Flag 259 (FSN)>':136,\n",
    "     '<Flag 26 (SPA)>':137,\n",
    "     '<Flag 260 (RN)>':138,\n",
    "     '<Flag 261 (FRN)>':139,\n",
    "     '<Flag 262 (SRN)>':140,\n",
    "     '<Flag 263 (FSRN)>':141,\n",
    "     '<Flag 264 (PN)>':142,\n",
    "     '<Flag 267 (FSPN)>':143,\n",
    "     '<Flag 268 (RPN)>':144,\n",
    "     '<Flag 270 (SRPN)>':145,\n",
    "     '<Flag 272 (AN)>':146,\n",
    "     '<Flag 273 (FAN)>':147,\n",
    "     '<Flag 274 (SAN)>':148,\n",
    "     '<Flag 275 (FSAN)>':149,\n",
    "     '<Flag 276 (RAN)>':150,\n",
    "     '<Flag 278 (SRAN)>':151,\n",
    "     '<Flag 28 (RPA)>':152,\n",
    "     '<Flag 280 (PAN)>':153,\n",
    "     '<Flag 281 (FPAN)>':154,\n",
    "     '<Flag 282 (SPAN)>':155,\n",
    "     '<Flag 283 (FSPAN)>':156,\n",
    "     '<Flag 285 (FRPAN)>':157,\n",
    "     '<Flag 286 (SRPAN)>':158,\n",
    "     '<Flag 287 (FSRPAN)>':159,\n",
    "     '<Flag 288 (UN)>':160,\n",
    "     '<Flag 29 (FRPA)>':161,\n",
    "     '<Flag 291 (FSUN)>':162,\n",
    "     '<Flag 292 (RUN)>':163,\n",
    "     '<Flag 293 (FRUN)>':164,\n",
    "     '<Flag 296 (PUN)>':165,\n",
    "     '<Flag 297 (FPUN)>':166,\n",
    "     '<Flag 298 (SPUN)>':167,\n",
    "     '<Flag 3 (FS)>':168,\n",
    "     '<Flag 30 (SRPA)>':169,\n",
    "     '<Flag 301 (FRPUN)>':170,\n",
    "     '<Flag 302 (SRPUN)>':171,\n",
    "     '<Flag 306 (SAUN)>':172,\n",
    "     '<Flag 307 (FSAUN)>':173,\n",
    "     '<Flag 308 (RAUN)>':174,\n",
    "     '<Flag 309 (FRAUN)>':175,\n",
    "     '<Flag 31 (FSRPA)>':176,\n",
    "     '<Flag 311 (FSRAUN)>':177,\n",
    "     '<Flag 312 (PAUN)>':178,\n",
    "     '<Flag 313 (FPAUN)>':179,\n",
    "     '<Flag 314 (SPAUN)>':180,\n",
    "     '<Flag 315 (FSPAUN)>':181,\n",
    "     '<Flag 316 (RPAUN)>':182,\n",
    "     '<Flag 318 (SRPAUN)>':183,\n",
    "     '<Flag 32 (U)>':184,\n",
    "     '<Flag 323 (FSEN)>':185,\n",
    "     '<Flag 324 (REN)>':186,\n",
    "     '<Flag 325 (FREN)>':187,\n",
    "     '<Flag 326 (SREN)>':188,\n",
    "     '<Flag 329 (FPEN)>':189,\n",
    "     '<Flag 33 (FU)>':190,\n",
    "     '<Flag 330 (SPEN)>':191,\n",
    "     '<Flag 332 (RPEN)>':192,\n",
    "     '<Flag 333 (FRPEN)>':193,\n",
    "     '<Flag 335 (FSRPEN)>':194,\n",
    "     '<Flag 336 (AEN)>':195,\n",
    "     '<Flag 338 (SAEN)>':196,\n",
    "     '<Flag 339 (FSAEN)>':197,\n",
    "     '<Flag 34 (SU)>':198,\n",
    "     '<Flag 340 (RAEN)>':199,\n",
    "     '<Flag 341 (FRAEN)>':200,\n",
    "     '<Flag 342 (SRAEN)>':201,\n",
    "     '<Flag 343 (FSRAEN)>':202,\n",
    "     '<Flag 344 (PAEN)>':203,\n",
    "     '<Flag 347 (FSPAEN)>':204,\n",
    "     '<Flag 348 (RPAEN)>':205,\n",
    "     '<Flag 349 (FRPAEN)>':206,\n",
    "     '<Flag 350 (SRPAEN)>':207,\n",
    "     '<Flag 351 (FSRPAEN)>':208,\n",
    "     '<Flag 352 (UEN)>':209,\n",
    "     '<Flag 353 (FUEN)>':210,\n",
    "     '<Flag 354 (SUEN)>':211,\n",
    "     '<Flag 355 (FSUEN)>':212,\n",
    "     '<Flag 356 (RUEN)>':213,\n",
    "     '<Flag 357 (FRUEN)>':214,\n",
    "     '<Flag 358 (SRUEN)>':215,\n",
    "     '<Flag 359 (FSRUEN)>':216,\n",
    "     '<Flag 36 (RU)>':217,\n",
    "     '<Flag 361 (FPUEN)>':218,\n",
    "     '<Flag 365 (FRPUEN)>':219,\n",
    "     '<Flag 366 (SRPUEN)>':220,\n",
    "     '<Flag 368 (AUEN)>':221,\n",
    "     '<Flag 369 (FAUEN)>':222,\n",
    "     '<Flag 37 (FRU)>':223,\n",
    "     '<Flag 370 (SAUEN)>':224,\n",
    "     '<Flag 372 (RAUEN)>':225,\n",
    "     '<Flag 374 (SRAUEN)>':226,\n",
    "     '<Flag 376 (PAUEN)>':227,\n",
    "     '<Flag 377 (FPAUEN)>':228,\n",
    "     '<Flag 378 (SPAUEN)>':229,\n",
    "     '<Flag 379 (FSPAUEN)>':230,\n",
    "     '<Flag 38 (SRU)>':231,\n",
    "     '<Flag 380 (RPAUEN)>':232,\n",
    "     '<Flag 383 (FSRPAUEN)>':233,\n",
    "     '<Flag 384 (CN)>':234,\n",
    "     '<Flag 385 (FCN)>':235,\n",
    "     '<Flag 389 (FRCN)>':236,\n",
    "     '<Flag 390 (SRCN)>':237,\n",
    "     '<Flag 391 (FSRCN)>':238,\n",
    "     '<Flag 392 (PCN)>':239,\n",
    "     '<Flag 393 (FPCN)>':240,\n",
    "     '<Flag 394 (SPCN)>':241,\n",
    "     '<Flag 396 (RPCN)>':242,\n",
    "     '<Flag 398 (SRPCN)>':243,\n",
    "     '<Flag 40 (PU)>':244,\n",
    "     '<Flag 401 (FACN)>':245,\n",
    "     '<Flag 402 (SACN)>':246,\n",
    "     '<Flag 403 (FSACN)>':247,\n",
    "     '<Flag 404 (RACN)>':248,\n",
    "     '<Flag 405 (FRACN)>':249,\n",
    "     '<Flag 406 (SRACN)>':250,\n",
    "     '<Flag 408 (PACN)>':251,\n",
    "     '<Flag 409 (FPACN)>':252,\n",
    "     '<Flag 41 (FPU)>':253,\n",
    "     '<Flag 410 (SPACN)>':254,\n",
    "     '<Flag 411 (FSPACN)>':255,\n",
    "     '<Flag 412 (RPACN)>':256,\n",
    "     '<Flag 413 (FRPACN)>':257,\n",
    "     '<Flag 415 (FSRPACN)>':258,\n",
    "     '<Flag 418 (SUCN)>':259,\n",
    "     '<Flag 419 (FSUCN)>':260,\n",
    "     '<Flag 42 (SPU)>':261,\n",
    "     '<Flag 420 (RUCN)>':262,\n",
    "     '<Flag 421 (FRUCN)>':263,\n",
    "     '<Flag 422 (SRUCN)>':264,\n",
    "     '<Flag 424 (PUCN)>':265,\n",
    "     '<Flag 426 (SPUCN)>':266,\n",
    "     '<Flag 427 (FSPUCN)>':267,\n",
    "     '<Flag 43 (FSPU)>':268,\n",
    "     '<Flag 433 (FAUCN)>':269,\n",
    "     '<Flag 436 (RAUCN)>':270,\n",
    "     '<Flag 437 (FRAUCN)>':271,\n",
    "     '<Flag 438 (SRAUCN)>':272,\n",
    "     '<Flag 44 (RPU)>':273,\n",
    "     '<Flag 440 (PAUCN)>':274,\n",
    "     '<Flag 442 (SPAUCN)>':275,\n",
    "     '<Flag 444 (RPAUCN)>':276,\n",
    "     '<Flag 445 (FRPAUCN)>':277,\n",
    "     '<Flag 446 (SRPAUCN)>':278,\n",
    "     '<Flag 447 (FSRPAUCN)>':279,\n",
    "     '<Flag 448 (ECN)>':280,\n",
    "     '<Flag 449 (FECN)>':281,\n",
    "     '<Flag 450 (SECN)>':282,\n",
    "     '<Flag 451 (FSECN)>':283,\n",
    "     '<Flag 455 (FSRECN)>':284,\n",
    "     '<Flag 456 (PECN)>':285,\n",
    "     '<Flag 458 (SPECN)>':286,\n",
    "     '<Flag 46 (SRPU)>':287,\n",
    "     '<Flag 463 (FSRPECN)>':288,\n",
    "     '<Flag 464 (AECN)>':289,\n",
    "     '<Flag 465 (FAECN)>':290,\n",
    "     '<Flag 466 (SAECN)>':291,\n",
    "     '<Flag 467 (FSAECN)>':292,\n",
    "     '<Flag 468 (RAECN)>':293,\n",
    "     '<Flag 469 (FRAECN)>':294,\n",
    "     '<Flag 47 (FSRPU)>':295,\n",
    "     '<Flag 472 (PAECN)>':296,\n",
    "     '<Flag 474 (SPAECN)>':297,\n",
    "     '<Flag 475 (FSPAECN)>':298,\n",
    "     '<Flag 476 (RPAECN)>':299,\n",
    "     '<Flag 478 (SRPAECN)>':300,\n",
    "     '<Flag 48 (AU)>':301,\n",
    "     '<Flag 482 (SUECN)>':302,\n",
    "     '<Flag 483 (FSUECN)>':303,\n",
    "     '<Flag 484 (RUECN)>':304,\n",
    "     '<Flag 485 (FRUECN)>':305,\n",
    "     '<Flag 489 (FPUECN)>':306,\n",
    "     '<Flag 491 (FSPUECN)>':307,\n",
    "     '<Flag 492 (RPUECN)>':308,\n",
    "     '<Flag 493 (FRPUECN)>':309,\n",
    "     '<Flag 495 (FSRPUECN)>':310,\n",
    "     '<Flag 497 (FAUECN)>':311,\n",
    "     '<Flag 498 (SAUECN)>':312,\n",
    "     '<Flag 5 (FR)>':313,\n",
    "     '<Flag 50 (SAU)>':314,\n",
    "     '<Flag 502 (SRAUECN)>':315,\n",
    "     '<Flag 503 (FSRAUECN)>':316,\n",
    "     '<Flag 505 (FPAUECN)>':317,\n",
    "     '<Flag 507 (FSPAUECN)>':318,\n",
    "     '<Flag 508 (RPAUECN)>':319,\n",
    "     '<Flag 51 (FSAU)>':320,\n",
    "     '<Flag 510 (SRPAUECN)>':321,\n",
    "     '<Flag 511 (FSRPAUECN)>':322,\n",
    "     '<Flag 52 (RAU)>':323,\n",
    "     '<Flag 55 (FSRAU)>':324,\n",
    "     '<Flag 56 (PAU)>':325,\n",
    "     '<Flag 57 (FPAU)>':326,\n",
    "     '<Flag 58 (SPAU)>':327,\n",
    "     '<Flag 59 (FSPAU)>':328,\n",
    "     '<Flag 6 (SR)>':329,\n",
    "     '<Flag 61 (FRPAU)>':330,\n",
    "     '<Flag 62 (SRPAU)>':331,\n",
    "     '<Flag 66 (SE)>':332,\n",
    "     '<Flag 67 (FSE)>':333,\n",
    "     '<Flag 68 (RE)>':334,\n",
    "     '<Flag 7 (FSR)>':335,\n",
    "     '<Flag 72 (PE)>':336,\n",
    "     '<Flag 73 (FPE)>':337,\n",
    "     '<Flag 74 (SPE)>':338,\n",
    "     '<Flag 75 (FSPE)>':339,\n",
    "     '<Flag 76 (RPE)>':340,\n",
    "     '<Flag 77 (FRPE)>':341,\n",
    "     '<Flag 79 (FSRPE)>':342,\n",
    "     '<Flag 8 (P)>':343,\n",
    "     '<Flag 80 (AE)>':344,\n",
    "     '<Flag 81 (FAE)>':345,\n",
    "     '<Flag 83 (FSAE)>':346,\n",
    "     '<Flag 84 (RAE)>':347,\n",
    "     '<Flag 85 (FRAE)>':348,\n",
    "     '<Flag 86 (SRAE)>':349,\n",
    "     '<Flag 87 (FSRAE)>':350,\n",
    "     '<Flag 88 (PAE)>':351,\n",
    "     '<Flag 89 (FPAE)>':352,\n",
    "     '<Flag 90 (SPAE)>':353,\n",
    "     '<Flag 92 (RPAE)>':354,\n",
    "     '<Flag 93 (FRPAE)>':355,\n",
    "     '<Flag 94 (SRPAE)>':356,\n",
    "     '<Flag 95 (FSRPAE)>':357,\n",
    "     '<Flag 96 (UE)>':358,\n",
    "     '<Flag 98 (SUE)>':359,\n",
    "     '<Flag 99 (FSUE)>':360}\n",
    "    BOOTP_flags = {'0': 1, '<Flag 0 ()>': 2, '<Flag 32768 (B)>': 3, 0: 1}\n",
    "    Protocol = {'EAPOL': 1, 'DHCP': 2, 'DNS': 3, 'TCP': 4, 'HTTP': 5, 'ICMP': 6, 'MDNS': 7, 'IGMPv3': 8, 'SSDP': 9, 'NTP': 10, 'HTTP/XML': 11, 'UDP': 12, 'SSLv2': 13, 'TLSv1': 14, 'ADwin Config': 15, 'TLSv1.2': 16, 'ICMPv6': 17, 'HTTP/JSON': 18, 'XID': 19, 'TFTP': 20, 'NXP 802.15.4 SNIFFER': 21, 'IGMPv2': 22, 'A21': 23, 'STUN': 24, 'Gearman': 25, '? KNXnet/IP': 26, 'UDPENCAP': 27, 'ESP': 28, 'SSL': 29, 'NBNS': 30, 'SIP': 31, 'BROWSER': 32, 'SABP': 33, 'ISAKMP': 34, 'CLASSIC-STUN': 35, 'Omni-Path': 36, 'XMPP/XML': 37, 'ULP': 38, 'TFP over TCP': 39, 'AX4000': 40, 'MIH': 41, 'DHCPv6': 42, 'TDLS': 43, 'RTMP': 44, 'TCPCL': 45, 'IPA': 46, 'GQUIC': 47, '0x86dd': 48, 'DB-LSP-DISC': 49, 'SSLv3': 50, 'LLMNR': 51, 'FB_ZERO': 52, 'OCSP': 53, 'IPv4': 54, 'STP': 55, 'SSH': 56, 'TLSv1.1': 57, 'KINK': 58, 'MANOLITO': 59, 'PKTC': 60, 'TELNET': 61, 'RTSP': 62, 'HCrt': 63, 'MPTCP': 64, 'S101': 65, 'IRC': 66, 'AJP13': 67, 'PMPROXY': 68, 'PNIO': 69, 'AMS': 70, 'ECATF': 71, 'LLC': 72, 'TZSP': 73,'RSIP':74,'SSHv2':75\n",
    "    ,'DIAMETER':76\n",
    "    ,'BFD Control':77\n",
    "    ,'ASAP':78\n",
    "    ,'DISTCC':79 \n",
    "    ,'DISTCC ':79       \n",
    "    ,'LISP':80\n",
    "    ,'WOW':81\n",
    "    ,'DTLSv1.0':82\n",
    "    ,'SNMP':83\n",
    "    ,'SMB2':84\n",
    "    ,'SMB':85\n",
    "    ,'NBSS':86\n",
    "    ,'UDT':87,'HiQnet':88\n",
    "    ,'POWERLINK/UDP':89\n",
    "    ,'RTP':90\n",
    "    ,'WebSocket':91\n",
    "    ,'NAT-PMP':92\n",
    "    ,'RTCP':93,'Syslog':94\n",
    "    ,'Portmap':95\n",
    "    ,'OpenVPN':96\n",
    "    ,'BJNP':97\n",
    "    ,'RIPv1':98\n",
    "    ,'MAC-Telnet':99\n",
    "    ,'ECHO':100\n",
    "    ,'ASF':101\n",
    "    ,'DAYTIME':102\n",
    "    ,'SRVLOC':103\n",
    "    ,'KRB4':104\n",
    "    ,'CAPWAP-Control':105\n",
    "    ,'XDMCP':106\n",
    "    ,'Chargen':107\n",
    "    ,'RADIUS':108\n",
    "    ,'L2TP':109\n",
    "    ,'DCERPC':110\n",
    "    ,'KPASSWD':111\n",
    "    ,'H264':112\n",
    "    ,'FTP':113\n",
    "    ,'FTP-DATA':114\n",
    "    ,'ENIP':115\n",
    "    ,'RIPv2':116\n",
    "    ,'ICP':117,\n",
    "    \"BACnet-APDU\":118,\n",
    "    \"IAX2\":119,\n",
    "    \"RX\":120,\n",
    "    \"HTTP2\":121,\n",
    "    \"SIP/SDP\":122,\n",
    "    \"TIME\":123,\n",
    "    \"Elasticsearch\":124,\n",
    "    \"RSL\":125,\n",
    "    \"TPCP\":126,\n",
    "     \"IPv6\":  127,\"ARP\":  128 }\n",
    "\n",
    "    df=pd.read_csv(file)\n",
    "    IP_flags\n",
    "    \n",
    "    df[\"IP_flags\"]=df[\"IP_flags\"].map(IP_flags.get)\n",
    "    df[\"TCP_flags\"]=df[\"TCP_flags\"].map(TCP_flags.get)\n",
    "    df[\"BOOTP_flags\"]=df[\"BOOTP_flags\"].map(BOOTP_flags.get)\n",
    "    df[\"Protocol\"]=df[\"Protocol\"].map(Protocol.get)\n",
    "    \n",
    "    #df=df.replace({\"IP_flags\": IP_flags})\n",
    "    #df=df.replace({\"TCP_flags\": TCP_flags})\n",
    "    #df=df.replace({\"BOOTP_flags\": BOOTP_flags})\n",
    "    #df=df.replace({\"Protocol\": Protocol})\n",
    "    #df=df.replace({\"Label\": label})\n",
    "    df.to_csv(file,index=None)\n",
    "\n",
    "\n",
    "\n"
   ]
  },
  {
   "cell_type": "markdown",
   "metadata": {
    "id": "xhtFBx88w82H"
   },
   "source": [
    "# PCAP2CSV"
   ]
  },
  {
   "cell_type": "code",
   "execution_count": 115,
   "metadata": {
    "executionInfo": {
     "elapsed": 54679,
     "status": "ok",
     "timestamp": 1618599130335,
     "user": {
      "displayName": "bozkır bilgesi",
      "photoUrl": "",
      "userId": "00518659040232779705"
     },
     "user_tz": -60
    },
    "id": "Rqb4fmeWw82I"
   },
   "outputs": [],
   "source": [
    "from scapy.all import*"
   ]
  },
  {
   "cell_type": "code",
   "execution_count": 116,
   "metadata": {},
   "outputs": [],
   "source": [
    "import math\n",
    "import pandas as pd\n",
    "import os\n",
    "import numpy as np"
   ]
  },
  {
   "cell_type": "code",
   "execution_count": 117,
   "metadata": {},
   "outputs": [],
   "source": [
    "def folder(f_name): #this function creates a folder.\n",
    "    try:\n",
    "        if not os.path.exists(f_name):\n",
    "            os.makedirs(f_name)\n",
    "    except OSError:\n",
    "        print (\"The folder could not be created!\")"
   ]
  },
  {
   "cell_type": "code",
   "execution_count": null,
   "metadata": {
    "id": "xSBVZs3ow82O"
   },
   "outputs": [],
   "source": []
  },
  {
   "cell_type": "code",
   "execution_count": null,
   "metadata": {},
   "outputs": [],
   "source": []
  },
  {
   "cell_type": "code",
   "execution_count": 118,
   "metadata": {
    "executionInfo": {
     "elapsed": 765,
     "status": "ok",
     "timestamp": 1618599164353,
     "user": {
      "displayName": "bozkır bilgesi",
      "photoUrl": "",
      "userId": "00518659040232779705"
     },
     "user_tz": -60
    },
    "id": "ak_Dk3mww82Q"
   },
   "outputs": [],
   "source": [
    "def shannon(data):\n",
    "    LOG_BASE = 2\n",
    "   # We determine the frequency of each byte\n",
    "   # in the dataset and if this frequency is not null we use it for the\n",
    "   # entropy calculation\n",
    "    dataSize = len(data)\n",
    "    ent = 0.0\n",
    "    freq={} \n",
    "    for c in data:\n",
    "        if c in freq:\n",
    "            freq[c] += 1\n",
    "        else:\n",
    "            freq[c] = 1\n",
    "   # to determine if each possible value of a byte is in the list\n",
    "    for key in freq.keys():\n",
    "        f = float(freq[key])/dataSize\n",
    "        if f > 0: # to avoid an error for log(0)\n",
    "            ent = ent + f * math.log(f, LOG_BASE)\n",
    "    return -ent\n",
    "\n",
    "def pre_entropy(payload):\n",
    "    \n",
    "    characters=[]\n",
    "    for i in payload:\n",
    "            characters.append(i)\n",
    "    return shannon(characters)\n",
    "            "
   ]
  },
  {
   "cell_type": "code",
   "execution_count": null,
   "metadata": {
    "colab": {
     "base_uri": "https://localhost:8080/",
     "height": 86
    },
    "executionInfo": {
     "elapsed": 780,
     "status": "ok",
     "timestamp": 1618599167036,
     "user": {
      "displayName": "bozkır bilgesi",
      "photoUrl": "",
      "userId": "00518659040232779705"
     },
     "user_tz": -60
    },
    "id": "Jkfuo7JCw82Q",
    "outputId": "5fb49477-f3c3-40ec-8e81-8742dbbfff67"
   },
   "outputs": [],
   "source": []
  },
  {
   "cell_type": "code",
   "execution_count": 119,
   "metadata": {
    "executionInfo": {
     "elapsed": 2282,
     "status": "ok",
     "timestamp": 1618600263666,
     "user": {
      "displayName": "bozkır bilgesi",
      "photoUrl": "",
      "userId": "00518659040232779705"
     },
     "user_tz": -60
    },
    "id": "LA0otM18FyXn"
   },
   "outputs": [],
   "source": [
    "def port_class(port):\n",
    "    port_list=[0,53,67,68,80,123,443,1900,5353,49153]# private port list (0-Reserved,53-DNS, 67-BOOTP server, 68-BOOTP client...)\n",
    "    if port in port_list: #Is the port number in the list?\n",
    "        return port_list.index(port)+1 # return the port's index number in the list (actually with index+1)\n",
    "    elif 0 <= port <= 1023: # return 11 if the port number is in the range 0 :1023\n",
    "        return 11\n",
    "    elif  1024 <= port <= 49151 : # return 12 if the port number is in the range 1024:49151\n",
    "        return 12\n",
    "    elif 49152 <=port <= 65535 :# return 13 if the port number is in the range 49152:65535\n",
    "        return 13\n",
    "    else:# return 0 if no previous conditions are met\n",
    "        return 0\n",
    "    \n",
    "    \n",
    "def port_1023(port):\n",
    "    if 0 <= port <= 1023:\n",
    "        return port\n",
    "    elif  1024 <= port <= 49151 :\n",
    "        return 2\n",
    "    elif 49152 <=port <= 65535 :\n",
    "        return 3\n",
    "    else:\n",
    "        return 0"
   ]
  },
  {
   "cell_type": "code",
   "execution_count": 120,
   "metadata": {
    "executionInfo": {
     "elapsed": 832,
     "status": "ok",
     "timestamp": 1618599170305,
     "user": {
      "displayName": "bozkır bilgesi",
      "photoUrl": "",
      "userId": "00518659040232779705"
     },
     "user_tz": -60
    },
    "id": "zqssqFuLw82R"
   },
   "outputs": [],
   "source": [
    "header=\"ts,Ether_dst,Ether_src,IP_src,IP_dst,pck_size,Ether_type,LLC_dsap,LLC_ssap,LLC_ctrl,EAPOL_version,EAPOL_type,EAPOL_len,IP_version,IP_ihl,IP_tos,IP_len,IP_flags,IP_Z,IP_MF,IP_id,IP_chksum,IP_DF,IP_frag,IP_ttl,IP_proto,IP_options,ICMP_type,ICMP_code,ICMP_chksum,ICMP_id,ICMP_seq,ICMP_ts_ori,ICMP_ts_rx,ICMP_ts_tx,ICMP_ptr,ICMP_reserved,ICMP_length,ICMP_nexthopmtu,ICMP_unused,TCP_seq,TCP_ack,TCP_dataofs,TCP_reserved,TCP_flags,TCP_FIN,TCP_SYN,TCP_RST,TCP_PSH,TCP_ACK,TCP_URG,TCP_ECE,TCP_CWR,TCP_window,TCP_chksum,TCP_urgptr,TCP_options,UDP_len,UDP_chksum,DHCP_options,BOOTP_op,BOOTP_htype,BOOTP_hlen,BOOTP_hops,BOOTP_xid,BOOTP_secs,BOOTP_flags,BOOTP_sname,BOOTP_file,BOOTP_options,DNS_length,DNS_id,DNS_qr,DNS_opcode,DNS_aa,DNS_tc,DNS_rd,DNS_ra,DNS_z,DNS_ad,DNS_cd,DNS_rcode,DNS_qdcount,DNS_ancount,DNS_nscount,DNS_arcount,sport_class,dport_class,sport23,dport23,sport_bare,dport_bare,TCP_sport,TCP_dport,UDP_sport,UDP_dport,payload_bytes,entropy,Label\\n\"\n",
    "\n",
    "#header=\"pck_size,Ether_type,LLC_dsap,LLC_ssap,LLC_ctrl,EAPOL_version,EAPOL_type,EAPOL_len,IP_version,IP_ihl,IP_tos,IP_len,IP_flags,IP_frag,IP_ttl,IP_proto,IP_options,IP_add_count,ICMP_type,ICMP_code,ICMP_seq,ICMP_ts_ori,ICMP_ts_rx,ICMP_ts_tx,ICMP_gw,ICMP_ptr,ICMP_reserved,ICMP_length,ICMP_nexthopmtu,ICMP_unused,TCP_dataofs,TCP_reserved,TCP_flags,TCP_window,TCP_urgptr,UDP_len,BOOTP_op,BOOTP_htype,BOOTP_hlen,BOOTP_hops,BOOTP_secs,BOOTP_flags,DNS_length,DNS_qr,DNS_opcode,DNS_aa,DNS_tc,DNS_rd,DNS_ra,DNS_z,DNS_ad,DNS_cd,DNS_rcode,DNS_qdcount,DNS_ancount,DNS_nscount,DNS_arcount,sport,dport,entropy,Label,MAC\\n\""
   ]
  },
  {
   "cell_type": "code",
   "execution_count": 121,
   "metadata": {
    "executionInfo": {
     "elapsed": 670,
     "status": "ok",
     "timestamp": 1618599182214,
     "user": {
      "displayName": "bozkır bilgesi",
      "photoUrl": "",
      "userId": "00518659040232779705"
     },
     "user_tz": -60
    },
    "id": "tZKgl-4Kw82R"
   },
   "outputs": [],
   "source": [
    "#flags\n",
    "#TCP\n",
    "FIN = 0x01\n",
    "SYN = 0x02\n",
    "RST = 0x04\n",
    "PSH = 0x08\n",
    "ACK = 0x10\n",
    "URG = 0x20\n",
    "ECE = 0x40\n",
    "CWR = 0x80\n",
    "#IP\n",
    "Z = 0x00\n",
    "MF= 0x01\n",
    "DF= 0x02\n"
   ]
  },
  {
   "cell_type": "markdown",
   "metadata": {},
   "source": [
    "# Individual paket pased faetures"
   ]
  },
  {
   "cell_type": "code",
   "execution_count": 122,
   "metadata": {},
   "outputs": [],
   "source": [
    "def pcap_parser(oldname):\n",
    "    piece_size=50000\n",
    "    new_name=oldname.replace(\".pcap\",\"_smaller.pcap\")\n",
    "    command='C:/\\\"Program Files\\\"/Wireshark/editcap.exe -c '+str(piece_size)+\" \\\"\"+oldname+\"\\\" \"+new_name   \n",
    "    os.system(command)\n",
    "    parsed=find_the_way(\"./\",new_name[6:-5])\n",
    "    return parsed,new_name[6:-5]\n",
    "    "
   ]
  },
  {
   "cell_type": "code",
   "execution_count": 123,
   "metadata": {},
   "outputs": [],
   "source": [
    "def merged_csv(name,keyword):\n",
    "    for merger in [\"_FE.csv\",\"_WS.csv\"]:\n",
    "        merged_name=f\"{name[:-4]}{merger}\"\n",
    "        csv_files=find_the_way(\"./\",keyword,merger)\n",
    "        df=pd.read_csv(csv_files[0])\n",
    "        col_names=list(df.columns)\n",
    "\n",
    "        empty = pd.DataFrame(columns=col_names)\n",
    "        empty.to_csv(merged_name, mode=\"w\", index=False)#,header=False)\n",
    "\n",
    "\n",
    "        for j in csv_files:\n",
    "\n",
    "            df=pd.read_csv(j)\n",
    "            #print(\"name and shape of dataframe :\",i,df.shape)\n",
    "            df.to_csv(merged_name, mode=\"a\", index=False,header=False)\n",
    "\n",
    "\n",
    "            os.remove(j)\n",
    "            try:\n",
    "                os.remove(j.replace(\"_FE.csv\",\".pcap\"))\n",
    "            except:pass\n",
    "\n",
    "            #print(\"\\n\\n\\nname and shape of dataframe :\",name,df.shape)"
   ]
  },
  {
   "cell_type": "code",
   "execution_count": 124,
   "metadata": {
    "id": "A6BKuGebw82S",
    "scrolled": true
   },
   "outputs": [
    {
     "name": "stdout",
     "output_type": "stream",
     "text": [
      "1/120-pcaps\\1\\AALTO\\EdimaxCam1\\Setup-A-1-STA.pcap\n"
     ]
    },
    {
     "name": "stderr",
     "output_type": "stream",
     "text": [
      "100%|████████████████████████████████████████████████████████████████████████████████| 49/49 [00:00<00:00, 2537.95it/s]\n"
     ]
    },
    {
     "name": "stdout",
     "output_type": "stream",
     "text": [
      "2/120-pcaps\\1\\AALTO\\EdimaxCam1\\Setup-A-2-STA.pcap\n"
     ]
    },
    {
     "name": "stderr",
     "output_type": "stream",
     "text": [
      "100%|████████████████████████████████████████████████████████████████████████████████| 41/41 [00:00<00:00, 1719.94it/s]\n"
     ]
    },
    {
     "name": "stdout",
     "output_type": "stream",
     "text": [
      "3/120-pcaps\\1\\AALTO\\EdimaxCam1\\Setup-A-3-STA.pcap\n"
     ]
    },
    {
     "name": "stderr",
     "output_type": "stream",
     "text": [
      "100%|████████████████████████████████████████████████████████████████████████████████| 55/55 [00:00<00:00, 1649.55it/s]\n"
     ]
    },
    {
     "name": "stdout",
     "output_type": "stream",
     "text": [
      "4/120-pcaps\\1\\AALTO\\EdimaxCam1\\Setup-A-4-STA.pcap\n"
     ]
    },
    {
     "name": "stderr",
     "output_type": "stream",
     "text": [
      "100%|████████████████████████████████████████████████████████████████████████████████| 45/45 [00:00<00:00, 2205.90it/s]\n"
     ]
    },
    {
     "name": "stdout",
     "output_type": "stream",
     "text": [
      "5/120-pcaps\\1\\AALTO\\EdimaxCam1\\Setup-A-5-STA.pcap\n"
     ]
    },
    {
     "name": "stderr",
     "output_type": "stream",
     "text": [
      "100%|████████████████████████████████████████████████████████████████████████████████| 40/40 [00:00<00:00, 2107.69it/s]\n"
     ]
    },
    {
     "name": "stdout",
     "output_type": "stream",
     "text": [
      "6/120-pcaps\\1\\AALTO\\EdimaxCam1\\Setup-A-6-STA.pcap\n"
     ]
    },
    {
     "name": "stderr",
     "output_type": "stream",
     "text": [
      "100%|████████████████████████████████████████████████████████████████████████████████| 40/40 [00:00<00:00, 1803.63it/s]\n"
     ]
    },
    {
     "name": "stdout",
     "output_type": "stream",
     "text": [
      "7/120-pcaps\\1\\AALTO\\EdimaxCam2\\Setup-A-1-STA.pcap\n"
     ]
    },
    {
     "name": "stderr",
     "output_type": "stream",
     "text": [
      "100%|████████████████████████████████████████████████████████████████████████████████| 42/42 [00:00<00:00, 2239.18it/s]\n"
     ]
    },
    {
     "name": "stdout",
     "output_type": "stream",
     "text": [
      "8/120-pcaps\\1\\AALTO\\EdimaxCam2\\Setup-A-2-STA.pcap\n"
     ]
    },
    {
     "name": "stderr",
     "output_type": "stream",
     "text": [
      "100%|████████████████████████████████████████████████████████████████████████████████| 42/42 [00:00<00:00, 2243.83it/s]\n"
     ]
    },
    {
     "name": "stdout",
     "output_type": "stream",
     "text": [
      "9/120-pcaps\\1\\AALTO\\EdimaxCam2\\Setup-A-3-STA.pcap\n"
     ]
    },
    {
     "name": "stderr",
     "output_type": "stream",
     "text": [
      "100%|████████████████████████████████████████████████████████████████████████████████| 52/52 [00:00<00:00, 2060.23it/s]\n"
     ]
    },
    {
     "name": "stdout",
     "output_type": "stream",
     "text": [
      "10/120-pcaps\\1\\AALTO\\EdimaxCam2\\Setup-A-4-STA.pcap\n"
     ]
    },
    {
     "name": "stderr",
     "output_type": "stream",
     "text": [
      "100%|████████████████████████████████████████████████████████████████████████████████| 41/41 [00:00<00:00, 1887.81it/s]\n"
     ]
    },
    {
     "name": "stdout",
     "output_type": "stream",
     "text": [
      "11/120-pcaps\\1\\AALTO\\EdnetCam1\\Setup-A-1-STA.pcap\n"
     ]
    },
    {
     "name": "stderr",
     "output_type": "stream",
     "text": [
      "100%|████████████████████████████████████████████████████████████████████████████████| 21/21 [00:00<00:00, 1823.38it/s]\n"
     ]
    },
    {
     "name": "stdout",
     "output_type": "stream",
     "text": [
      "12/120-pcaps\\1\\AALTO\\EdnetCam1\\Setup-C-1-STA.pcap\n"
     ]
    },
    {
     "name": "stderr",
     "output_type": "stream",
     "text": [
      "100%|████████████████████████████████████████████████████████████████████████████████| 19/19 [00:00<00:00, 3014.06it/s]\n"
     ]
    },
    {
     "name": "stdout",
     "output_type": "stream",
     "text": [
      "13/120-pcaps\\1\\AALTO\\EdnetCam1\\Setup-C-2-STA.pcap\n"
     ]
    },
    {
     "name": "stderr",
     "output_type": "stream",
     "text": [
      "100%|████████████████████████████████████████████████████████████████████████████████| 23/23 [00:00<00:00, 2051.88it/s]\n"
     ]
    },
    {
     "name": "stdout",
     "output_type": "stream",
     "text": [
      "14/120-pcaps\\1\\AALTO\\EdnetCam1\\Setup-C-3-STA.pcap\n"
     ]
    },
    {
     "name": "stderr",
     "output_type": "stream",
     "text": [
      "100%|████████████████████████████████████████████████████████████████████████████████| 23/23 [00:00<00:00, 2833.57it/s]\n"
     ]
    },
    {
     "name": "stdout",
     "output_type": "stream",
     "text": [
      "15/120-pcaps\\1\\AALTO\\EdnetCam1\\Setup-C-4-STA.pcap\n"
     ]
    },
    {
     "name": "stderr",
     "output_type": "stream",
     "text": [
      "100%|████████████████████████████████████████████████████████████████████████████████| 23/23 [00:00<00:00, 2200.83it/s]\n"
     ]
    },
    {
     "name": "stdout",
     "output_type": "stream",
     "text": [
      "16/120-pcaps\\1\\AALTO\\EdnetCam1\\Setup-C-5-STA.pcap\n"
     ]
    },
    {
     "name": "stderr",
     "output_type": "stream",
     "text": [
      "100%|████████████████████████████████████████████████████████████████████████████████| 26/26 [00:00<00:00, 2341.27it/s]\n"
     ]
    },
    {
     "name": "stdout",
     "output_type": "stream",
     "text": [
      "17/120-pcaps\\1\\AALTO\\EdnetCam2\\Setup-A-1-STA.pcap\n"
     ]
    },
    {
     "name": "stderr",
     "output_type": "stream",
     "text": [
      "100%|████████████████████████████████████████████████████████████████████████████████| 22/22 [00:00<00:00, 1793.90it/s]\n"
     ]
    },
    {
     "name": "stdout",
     "output_type": "stream",
     "text": [
      "18/120-pcaps\\1\\AALTO\\EdnetCam2\\Setup-C-1-STA.pcap\n"
     ]
    },
    {
     "name": "stderr",
     "output_type": "stream",
     "text": [
      "100%|████████████████████████████████████████████████████████████████████████████████| 21/21 [00:00<00:00, 1304.39it/s]\n"
     ]
    },
    {
     "name": "stdout",
     "output_type": "stream",
     "text": [
      "19/120-pcaps\\1\\AALTO\\EdnetCam2\\Setup-C-2-STA.pcap\n"
     ]
    },
    {
     "name": "stderr",
     "output_type": "stream",
     "text": [
      "100%|████████████████████████████████████████████████████████████████████████████████| 24/24 [00:00<00:00, 1867.46it/s]\n"
     ]
    },
    {
     "name": "stdout",
     "output_type": "stream",
     "text": [
      "20/120-pcaps\\1\\AALTO\\EdnetCam2\\Setup-C-3-STA.pcap\n"
     ]
    },
    {
     "name": "stderr",
     "output_type": "stream",
     "text": [
      "100%|████████████████████████████████████████████████████████████████████████████████| 38/38 [00:00<00:00, 2064.79it/s]\n"
     ]
    },
    {
     "name": "stdout",
     "output_type": "stream",
     "text": [
      "21/120-pcaps\\1\\AALTO\\EdnetCam2\\Setup-C-4-STA.pcap\n"
     ]
    },
    {
     "name": "stderr",
     "output_type": "stream",
     "text": [
      "100%|████████████████████████████████████████████████████████████████████████████████| 20/20 [00:00<00:00, 3922.66it/s]\n"
     ]
    },
    {
     "name": "stdout",
     "output_type": "stream",
     "text": [
      "22/120-pcaps\\1\\AALTO\\WeMoInsightSwitch\\Setup-A-1-STA.pcap\n"
     ]
    },
    {
     "name": "stderr",
     "output_type": "stream",
     "text": [
      "100%|██████████████████████████████████████████████████████████████████████████████| 326/326 [00:00<00:00, 1864.91it/s]\n"
     ]
    },
    {
     "name": "stdout",
     "output_type": "stream",
     "text": [
      "23/120-pcaps\\1\\AALTO\\WeMoInsightSwitch\\Setup-A-10-STA.pcap\n"
     ]
    },
    {
     "name": "stderr",
     "output_type": "stream",
     "text": [
      "100%|██████████████████████████████████████████████████████████████████████████████| 445/445 [00:00<00:00, 2224.46it/s]\n"
     ]
    },
    {
     "name": "stdout",
     "output_type": "stream",
     "text": [
      "24/120-pcaps\\1\\AALTO\\WeMoInsightSwitch\\Setup-A-2-STA.pcap\n"
     ]
    },
    {
     "name": "stderr",
     "output_type": "stream",
     "text": [
      "100%|██████████████████████████████████████████████████████████████████████████████| 273/273 [00:00<00:00, 2386.02it/s]\n"
     ]
    },
    {
     "name": "stdout",
     "output_type": "stream",
     "text": [
      "25/120-pcaps\\1\\AALTO\\WeMoInsightSwitch\\Setup-A-3-STA.pcap\n"
     ]
    },
    {
     "name": "stderr",
     "output_type": "stream",
     "text": [
      "100%|██████████████████████████████████████████████████████████████████████████████| 275/275 [00:00<00:00, 1794.70it/s]\n"
     ]
    },
    {
     "name": "stdout",
     "output_type": "stream",
     "text": [
      "26/120-pcaps\\1\\AALTO\\WeMoInsightSwitch\\Setup-A-4-STA.pcap\n"
     ]
    },
    {
     "name": "stderr",
     "output_type": "stream",
     "text": [
      "100%|██████████████████████████████████████████████████████████████████████████████| 298/298 [00:00<00:00, 2375.99it/s]\n"
     ]
    },
    {
     "name": "stdout",
     "output_type": "stream",
     "text": [
      "27/120-pcaps\\1\\AALTO\\WeMoInsightSwitch\\Setup-A-5-STA.pcap\n"
     ]
    },
    {
     "name": "stderr",
     "output_type": "stream",
     "text": [
      "100%|██████████████████████████████████████████████████████████████████████████████| 287/287 [00:00<00:00, 1845.36it/s]\n"
     ]
    },
    {
     "name": "stdout",
     "output_type": "stream",
     "text": [
      "28/120-pcaps\\1\\AALTO\\WeMoInsightSwitch\\Setup-A-6-STA.pcap\n"
     ]
    },
    {
     "name": "stderr",
     "output_type": "stream",
     "text": [
      "100%|██████████████████████████████████████████████████████████████████████████████| 413/413 [00:00<00:00, 2198.96it/s]\n"
     ]
    },
    {
     "name": "stdout",
     "output_type": "stream",
     "text": [
      "29/120-pcaps\\1\\AALTO\\WeMoInsightSwitch\\Setup-A-7-STA.pcap\n"
     ]
    },
    {
     "name": "stderr",
     "output_type": "stream",
     "text": [
      "100%|██████████████████████████████████████████████████████████████████████████████| 314/314 [00:00<00:00, 2158.49it/s]\n"
     ]
    },
    {
     "name": "stdout",
     "output_type": "stream",
     "text": [
      "30/120-pcaps\\1\\AALTO\\WeMoInsightSwitch\\Setup-A-8-STA.pcap\n"
     ]
    },
    {
     "name": "stderr",
     "output_type": "stream",
     "text": [
      "100%|██████████████████████████████████████████████████████████████████████████████| 306/306 [00:00<00:00, 1623.67it/s]\n"
     ]
    },
    {
     "name": "stdout",
     "output_type": "stream",
     "text": [
      "31/120-pcaps\\1\\AALTO\\WeMoInsightSwitch\\Setup-A-9-STA.pcap\n"
     ]
    },
    {
     "name": "stderr",
     "output_type": "stream",
     "text": [
      "100%|██████████████████████████████████████████████████████████████████████████████| 533/533 [00:00<00:00, 2091.86it/s]\n"
     ]
    },
    {
     "name": "stdout",
     "output_type": "stream",
     "text": [
      "32/120-pcaps\\1\\AALTO\\WeMoInsightSwitch2\\Setup-C-1-STA.pcap\n"
     ]
    },
    {
     "name": "stderr",
     "output_type": "stream",
     "text": [
      "100%|██████████████████████████████████████████████████████████████████████████████| 574/574 [00:00<00:00, 1955.16it/s]\n"
     ]
    },
    {
     "name": "stdout",
     "output_type": "stream",
     "text": [
      "33/120-pcaps\\1\\AALTO\\WeMoInsightSwitch2\\Setup-C-2-STA.pcap\n"
     ]
    },
    {
     "name": "stderr",
     "output_type": "stream",
     "text": [
      "100%|██████████████████████████████████████████████████████████████████████████████| 576/576 [00:00<00:00, 2258.14it/s]\n"
     ]
    },
    {
     "name": "stdout",
     "output_type": "stream",
     "text": [
      "34/120-pcaps\\1\\AALTO\\WeMoInsightSwitch2\\Setup-C-3-STA.pcap\n"
     ]
    },
    {
     "name": "stderr",
     "output_type": "stream",
     "text": [
      "100%|██████████████████████████████████████████████████████████████████████████████| 587/587 [00:00<00:00, 1980.51it/s]\n"
     ]
    },
    {
     "name": "stdout",
     "output_type": "stream",
     "text": [
      "35/120-pcaps\\1\\AALTO\\WeMoSwitch\\Setup-A-1-STA.pcap\n"
     ]
    },
    {
     "name": "stderr",
     "output_type": "stream",
     "text": [
      "100%|██████████████████████████████████████████████████████████████████████████████| 290/290 [00:00<00:00, 2090.28it/s]\n"
     ]
    },
    {
     "name": "stdout",
     "output_type": "stream",
     "text": [
      "36/120-pcaps\\1\\AALTO\\WeMoSwitch\\Setup-A-10-STA.pcap\n"
     ]
    },
    {
     "name": "stderr",
     "output_type": "stream",
     "text": [
      "100%|██████████████████████████████████████████████████████████████████████████████| 359/359 [00:00<00:00, 2163.03it/s]\n"
     ]
    },
    {
     "name": "stdout",
     "output_type": "stream",
     "text": [
      "37/120-pcaps\\1\\AALTO\\WeMoSwitch\\Setup-A-2-STA.pcap\n"
     ]
    },
    {
     "name": "stderr",
     "output_type": "stream",
     "text": [
      "100%|██████████████████████████████████████████████████████████████████████████████| 285/285 [00:00<00:00, 2237.26it/s]\n"
     ]
    },
    {
     "name": "stdout",
     "output_type": "stream",
     "text": [
      "38/120-pcaps\\1\\AALTO\\WeMoSwitch\\Setup-A-3-STA.pcap\n"
     ]
    },
    {
     "name": "stderr",
     "output_type": "stream",
     "text": [
      "100%|██████████████████████████████████████████████████████████████████████████████| 366/366 [00:00<00:00, 2281.27it/s]\n"
     ]
    },
    {
     "name": "stdout",
     "output_type": "stream",
     "text": [
      "39/120-pcaps\\1\\AALTO\\WeMoSwitch\\Setup-A-4-STA.pcap\n"
     ]
    },
    {
     "name": "stderr",
     "output_type": "stream",
     "text": [
      "100%|██████████████████████████████████████████████████████████████████████████████| 283/283 [00:00<00:00, 2501.86it/s]\n"
     ]
    },
    {
     "name": "stdout",
     "output_type": "stream",
     "text": [
      "40/120-pcaps\\1\\AALTO\\WeMoSwitch\\Setup-A-5-STA.pcap\n"
     ]
    },
    {
     "name": "stderr",
     "output_type": "stream",
     "text": [
      "100%|██████████████████████████████████████████████████████████████████████████████| 293/293 [00:00<00:00, 3798.45it/s]\n"
     ]
    },
    {
     "name": "stdout",
     "output_type": "stream",
     "text": [
      "41/120-pcaps\\1\\AALTO\\WeMoSwitch\\Setup-A-6-STA.pcap\n"
     ]
    },
    {
     "name": "stderr",
     "output_type": "stream",
     "text": [
      "100%|██████████████████████████████████████████████████████████████████████████████| 345/345 [00:00<00:00, 2270.41it/s]\n"
     ]
    },
    {
     "name": "stdout",
     "output_type": "stream",
     "text": [
      "42/120-pcaps\\1\\AALTO\\WeMoSwitch\\Setup-A-7-STA.pcap\n"
     ]
    },
    {
     "name": "stderr",
     "output_type": "stream",
     "text": [
      "100%|██████████████████████████████████████████████████████████████████████████████| 293/293 [00:00<00:00, 1864.16it/s]\n"
     ]
    },
    {
     "name": "stdout",
     "output_type": "stream",
     "text": [
      "43/120-pcaps\\1\\AALTO\\WeMoSwitch\\Setup-A-8-STA.pcap\n"
     ]
    },
    {
     "name": "stderr",
     "output_type": "stream",
     "text": [
      "100%|██████████████████████████████████████████████████████████████████████████████| 285/285 [00:00<00:00, 1618.61it/s]\n"
     ]
    },
    {
     "name": "stdout",
     "output_type": "stream",
     "text": [
      "44/120-pcaps\\1\\AALTO\\WeMoSwitch\\Setup-A-9-STA.pcap\n"
     ]
    },
    {
     "name": "stderr",
     "output_type": "stream",
     "text": [
      "100%|██████████████████████████████████████████████████████████████████████████████| 348/348 [00:00<00:00, 2336.89it/s]\n"
     ]
    },
    {
     "name": "stdout",
     "output_type": "stream",
     "text": [
      "45/120-pcaps\\1\\AALTO\\WeMoSwitch2\\Setup-C-1-STA.pcap\n"
     ]
    },
    {
     "name": "stderr",
     "output_type": "stream",
     "text": [
      "100%|██████████████████████████████████████████████████████████████████████████████| 217/217 [00:00<00:00, 2470.70it/s]\n"
     ]
    },
    {
     "name": "stdout",
     "output_type": "stream",
     "text": [
      "46/120-pcaps\\1\\AALTO\\WeMoSwitch2\\Setup-C-2-STA.pcap\n"
     ]
    },
    {
     "name": "stderr",
     "output_type": "stream",
     "text": [
      "100%|██████████████████████████████████████████████████████████████████████████████| 319/319 [00:00<00:00, 2462.13it/s]\n"
     ]
    },
    {
     "name": "stdout",
     "output_type": "stream",
     "text": [
      "47/120-pcaps\\1\\AALTO\\WeMoSwitch2\\Setup-C-3-STA.pcap\n"
     ]
    },
    {
     "name": "stderr",
     "output_type": "stream",
     "text": [
      "100%|██████████████████████████████████████████████████████████████████████████████| 219/219 [00:00<00:00, 2191.03it/s]\n"
     ]
    },
    {
     "name": "stdout",
     "output_type": "stream",
     "text": [
      "48/120-pcaps\\1\\CIC\\2021_11_19_Active.pcap\n"
     ]
    },
    {
     "name": "stderr",
     "output_type": "stream",
     "text": [
      "100%|████████████████████████████████████████████████████████████████████████| 578499/578499 [03:27<00:00, 2791.88it/s]\n"
     ]
    },
    {
     "name": "stdout",
     "output_type": "stream",
     "text": [
      "49/120-pcaps\\1\\D-Link-IoT-Datasets\\D-LinkCam1\\D-LinkCam1_a4-2020-12-12.pcap\n"
     ]
    },
    {
     "name": "stderr",
     "output_type": "stream",
     "text": [
      "100%|██████████████████████████████████████████████████████████████████████████| 42129/42129 [00:15<00:00, 2750.01it/s]\n"
     ]
    },
    {
     "name": "stdout",
     "output_type": "stream",
     "text": [
      "50/120-pcaps\\1\\D-Link-IoT-Datasets\\D-LinkCam1\\D-LinkCam1_a4-2020-12-13.pcap\n"
     ]
    },
    {
     "name": "stderr",
     "output_type": "stream",
     "text": [
      "100%|██████████████████████████████████████████████████████████████████████████| 23755/23755 [00:07<00:00, 3294.89it/s]\n"
     ]
    },
    {
     "name": "stdout",
     "output_type": "stream",
     "text": [
      "51/120-pcaps\\1\\D-Link-IoT-Datasets\\D-LinkCam2\\D-LinkCam2_11-2020-12-12.pcap\n"
     ]
    },
    {
     "name": "stderr",
     "output_type": "stream",
     "text": [
      "100%|██████████████████████████████████████████████████████████████████████████| 62123/62123 [00:24<00:00, 2580.44it/s]\n"
     ]
    },
    {
     "name": "stdout",
     "output_type": "stream",
     "text": [
      "52/120-pcaps\\1\\D-Link-IoT-Datasets\\D-LinkCam2\\D-LinkCam2_11-2020-12-13.pcap\n"
     ]
    },
    {
     "name": "stderr",
     "output_type": "stream",
     "text": [
      "100%|████████████████████████████████████████████████████████████████████████| 140434/140434 [00:54<00:00, 2587.95it/s]\n"
     ]
    },
    {
     "name": "stdout",
     "output_type": "stream",
     "text": [
      "53/120-pcaps\\1\\D-Link-IoT-Datasets\\D-LinkDayCam1\\D-LinkDayCam1_5d-2020-12-12.pcap\n"
     ]
    },
    {
     "name": "stderr",
     "output_type": "stream",
     "text": [
      "100%|██████████████████████████████████████████████████████████████████████████| 52397/52397 [00:14<00:00, 3540.40it/s]\n"
     ]
    },
    {
     "name": "stdout",
     "output_type": "stream",
     "text": [
      "54/120-pcaps\\1\\D-Link-IoT-Datasets\\D-LinkDayCam1\\D-LinkDayCam1_5d-2020-12-13.pcap\n"
     ]
    },
    {
     "name": "stderr",
     "output_type": "stream",
     "text": [
      "100%|██████████████████████████████████████████████████████████████████████████| 47901/47901 [00:11<00:00, 3993.42it/s]\n"
     ]
    },
    {
     "name": "stdout",
     "output_type": "stream",
     "text": [
      "55/120-pcaps\\1\\D-Link-IoT-Datasets\\D-LinkDayCam6\\D-LinkDayCam6_e5-2020-12-12.pcap\n"
     ]
    },
    {
     "name": "stderr",
     "output_type": "stream",
     "text": [
      "100%|██████████████████████████████████████████████████████████████████████████| 52821/52821 [00:15<00:00, 3312.26it/s]\n"
     ]
    },
    {
     "name": "stdout",
     "output_type": "stream",
     "text": [
      "56/120-pcaps\\1\\D-Link-IoT-Datasets\\D-LinkDayCam6\\D-LinkDayCam6_e5-2020-12-13.pcap\n"
     ]
    },
    {
     "name": "stderr",
     "output_type": "stream",
     "text": [
      "100%|██████████████████████████████████████████████████████████████████████████| 47990/47990 [00:11<00:00, 4178.35it/s]\n"
     ]
    },
    {
     "name": "stdout",
     "output_type": "stream",
     "text": [
      "57/120-pcaps\\1\\D-Link-IoT-Datasets\\D-LinkSmartPlug_3b\\D-LinkSmartPlug_3b-2020-12-12.pcap\n"
     ]
    },
    {
     "name": "stderr",
     "output_type": "stream",
     "text": [
      "100%|██████████████████████████████████████████████████████████████████████████| 18132/18132 [00:07<00:00, 2461.12it/s]\n"
     ]
    },
    {
     "name": "stdout",
     "output_type": "stream",
     "text": [
      "58/120-pcaps\\1\\D-Link-IoT-Datasets\\D-LinkSmartPlug_3b\\D-LinkSmartPlug_3b-2020-12-13.pcap\n"
     ]
    },
    {
     "name": "stderr",
     "output_type": "stream",
     "text": [
      "100%|██████████████████████████████████████████████████████████████████████████| 11823/11823 [00:02<00:00, 5824.13it/s]\n"
     ]
    },
    {
     "name": "stdout",
     "output_type": "stream",
     "text": [
      "59/120-pcaps\\1\\D-Link-IoT-Datasets\\D-LinkSmartPlug_55\\D-LinkSmartPlug_55-2020-12-12.pcap\n"
     ]
    },
    {
     "name": "stderr",
     "output_type": "stream",
     "text": [
      "100%|██████████████████████████████████████████████████████████████████████████| 18897/18897 [00:07<00:00, 2413.93it/s]\n"
     ]
    },
    {
     "name": "stdout",
     "output_type": "stream",
     "text": [
      "60/120-pcaps\\1\\D-Link-IoT-Datasets\\D-LinkSmartPlug_55\\D-LinkSmartPlug_55-2020-12-13.pcap\n"
     ]
    },
    {
     "name": "stderr",
     "output_type": "stream",
     "text": [
      "100%|██████████████████████████████████████████████████████████████████████████| 11798/11798 [00:02<00:00, 5753.39it/s]\n"
     ]
    },
    {
     "name": "stdout",
     "output_type": "stream",
     "text": [
      "61/120-pcaps\\1\\D-Link-IoT-Datasets\\D-LinkSmartPlug_6e\\D-LinkSmartPlug_6e-2020-12-12.pcap\n"
     ]
    },
    {
     "name": "stderr",
     "output_type": "stream",
     "text": [
      "100%|██████████████████████████████████████████████████████████████████████████| 20118/20118 [00:07<00:00, 2626.29it/s]\n"
     ]
    },
    {
     "name": "stdout",
     "output_type": "stream",
     "text": [
      "62/120-pcaps\\1\\D-Link-IoT-Datasets\\D-LinkSmartPlug_6e\\D-LinkSmartPlug_6e-2020-12-13.pcap\n"
     ]
    },
    {
     "name": "stderr",
     "output_type": "stream",
     "text": [
      "100%|██████████████████████████████████████████████████████████████████████████| 10794/10794 [00:01<00:00, 6130.89it/s]\n"
     ]
    },
    {
     "name": "stdout",
     "output_type": "stream",
     "text": [
      "63/120-pcaps\\2\\AALTO\\EdimaxCam1\\Setup-A-7-STA.pcap\n"
     ]
    },
    {
     "name": "stderr",
     "output_type": "stream",
     "text": [
      "100%|████████████████████████████████████████████████████████████████████████████████| 41/41 [00:00<00:00, 2103.93it/s]\n"
     ]
    },
    {
     "name": "stdout",
     "output_type": "stream",
     "text": [
      "64/120-pcaps\\2\\AALTO\\EdimaxCam1\\Setup-C-1-STA.pcap\n"
     ]
    },
    {
     "name": "stderr",
     "output_type": "stream",
     "text": [
      "100%|████████████████████████████████████████████████████████████████████████████████| 46/46 [00:00<00:00, 2285.02it/s]\n"
     ]
    },
    {
     "name": "stdout",
     "output_type": "stream",
     "text": [
      "65/120-pcaps\\2\\AALTO\\EdimaxCam1\\Setup-C-2-STA.pcap\n"
     ]
    },
    {
     "name": "stderr",
     "output_type": "stream",
     "text": [
      "100%|████████████████████████████████████████████████████████████████████████████████| 40/40 [00:00<00:00, 2599.95it/s]\n"
     ]
    },
    {
     "name": "stdout",
     "output_type": "stream",
     "text": [
      "66/120-pcaps\\2\\AALTO\\EdimaxCam1\\Setup-C-3-STA.pcap\n"
     ]
    },
    {
     "name": "stderr",
     "output_type": "stream",
     "text": [
      "100%|████████████████████████████████████████████████████████████████████████████████| 41/41 [00:00<00:00, 2810.19it/s]\n"
     ]
    },
    {
     "name": "stdout",
     "output_type": "stream",
     "text": [
      "67/120-pcaps\\2\\AALTO\\EdimaxCam1\\Setup-C-4-STA.pcap\n"
     ]
    },
    {
     "name": "stderr",
     "output_type": "stream",
     "text": [
      "100%|████████████████████████████████████████████████████████████████████████████████| 46/46 [00:00<00:00, 2301.92it/s]\n"
     ]
    },
    {
     "name": "stdout",
     "output_type": "stream",
     "text": [
      "68/120-pcaps\\2\\AALTO\\EdimaxCam1\\Setup-C-5-STA.pcap\n"
     ]
    },
    {
     "name": "stderr",
     "output_type": "stream",
     "text": [
      "100%|████████████████████████████████████████████████████████████████████████████████| 41/41 [00:00<00:00, 2139.47it/s]\n"
     ]
    },
    {
     "name": "stdout",
     "output_type": "stream",
     "text": [
      "69/120-pcaps\\2\\AALTO\\EdimaxCam2\\Setup-C-1-STA.pcap\n"
     ]
    },
    {
     "name": "stderr",
     "output_type": "stream",
     "text": [
      "100%|████████████████████████████████████████████████████████████████████████████████| 45/45 [00:00<00:00, 2234.47it/s]\n"
     ]
    },
    {
     "name": "stdout",
     "output_type": "stream",
     "text": [
      "70/120-pcaps\\2\\AALTO\\EdimaxCam2\\Setup-C-2-STA.pcap\n"
     ]
    },
    {
     "name": "stderr",
     "output_type": "stream",
     "text": [
      "100%|████████████████████████████████████████████████████████████████████████████████| 55/55 [00:00<00:00, 2719.91it/s]\n"
     ]
    },
    {
     "name": "stdout",
     "output_type": "stream",
     "text": [
      "71/120-pcaps\\2\\AALTO\\EdimaxCam2\\Setup-C-3-STA.pcap\n"
     ]
    },
    {
     "name": "stderr",
     "output_type": "stream",
     "text": [
      "100%|████████████████████████████████████████████████████████████████████████████████| 42/42 [00:00<00:00, 2921.79it/s]\n"
     ]
    },
    {
     "name": "stdout",
     "output_type": "stream",
     "text": [
      "72/120-pcaps\\2\\AALTO\\EdimaxCam2\\Setup-C-4-STA.pcap\n"
     ]
    },
    {
     "name": "stderr",
     "output_type": "stream",
     "text": [
      "100%|████████████████████████████████████████████████████████████████████████████████| 52/52 [00:00<00:00, 2610.96it/s]\n"
     ]
    },
    {
     "name": "stdout",
     "output_type": "stream",
     "text": [
      "73/120-pcaps\\2\\AALTO\\EdnetCam1\\Setup-C-10-STA.pcap\n"
     ]
    },
    {
     "name": "stderr",
     "output_type": "stream",
     "text": [
      "100%|████████████████████████████████████████████████████████████████████████████████| 20/20 [00:00<00:00, 2305.45it/s]\n"
     ]
    },
    {
     "name": "stdout",
     "output_type": "stream",
     "text": [
      "74/120-pcaps\\2\\AALTO\\EdnetCam1\\Setup-C-6-STA.pcap\n"
     ]
    },
    {
     "name": "stderr",
     "output_type": "stream",
     "text": [
      "100%|████████████████████████████████████████████████████████████████████████████████| 17/17 [00:00<00:00, 1695.39it/s]\n"
     ]
    },
    {
     "name": "stdout",
     "output_type": "stream",
     "text": [
      "75/120-pcaps\\2\\AALTO\\EdnetCam1\\Setup-C-7-STA.pcap\n"
     ]
    },
    {
     "name": "stderr",
     "output_type": "stream",
     "text": [
      "100%|████████████████████████████████████████████████████████████████████████████████| 24/24 [00:00<00:00, 2512.69it/s]\n"
     ]
    },
    {
     "name": "stdout",
     "output_type": "stream",
     "text": [
      "76/120-pcaps\\2\\AALTO\\EdnetCam1\\Setup-C-8-STA.pcap\n"
     ]
    },
    {
     "name": "stderr",
     "output_type": "stream",
     "text": [
      "100%|████████████████████████████████████████████████████████████████████████████████| 22/22 [00:00<00:00, 4390.48it/s]\n"
     ]
    },
    {
     "name": "stdout",
     "output_type": "stream",
     "text": [
      "77/120-pcaps\\2\\AALTO\\EdnetCam1\\Setup-C-9-STA.pcap\n"
     ]
    },
    {
     "name": "stderr",
     "output_type": "stream",
     "text": [
      "100%|████████████████████████████████████████████████████████████████████████████████| 23/23 [00:00<00:00, 2298.03it/s]\n"
     ]
    },
    {
     "name": "stdout",
     "output_type": "stream",
     "text": [
      "78/120-pcaps\\2\\AALTO\\EdnetCam2\\Setup-C-5-STA.pcap\n"
     ]
    },
    {
     "name": "stderr",
     "output_type": "stream",
     "text": [
      "100%|████████████████████████████████████████████████████████████████████████████████| 25/25 [00:00<00:00, 5025.04it/s]\n"
     ]
    },
    {
     "name": "stdout",
     "output_type": "stream",
     "text": [
      "79/120-pcaps\\2\\AALTO\\EdnetCam2\\Setup-C-6-STA.pcap\n"
     ]
    },
    {
     "name": "stderr",
     "output_type": "stream",
     "text": [
      "100%|████████████████████████████████████████████████████████████████████████████████| 25/25 [00:00<00:00, 4509.81it/s]\n"
     ]
    },
    {
     "name": "stdout",
     "output_type": "stream",
     "text": [
      "80/120-pcaps\\2\\AALTO\\EdnetCam2\\Setup-C-7-STA.pcap\n"
     ]
    },
    {
     "name": "stderr",
     "output_type": "stream",
     "text": [
      "100%|████████████████████████████████████████████████████████████████████████████████| 24/24 [00:00<00:00, 3675.59it/s]\n"
     ]
    },
    {
     "name": "stdout",
     "output_type": "stream",
     "text": [
      "81/120-pcaps\\2\\AALTO\\EdnetCam2\\Setup-C-8-STA.pcap\n"
     ]
    },
    {
     "name": "stderr",
     "output_type": "stream",
     "text": [
      "100%|████████████████████████████████████████████████████████████████████████████████| 13/13 [00:00<00:00, 2543.43it/s]\n"
     ]
    },
    {
     "name": "stdout",
     "output_type": "stream",
     "text": [
      "82/120-pcaps\\2\\AALTO\\WeMoInsightSwitch\\Setup-A-11-STA.pcap\n"
     ]
    },
    {
     "name": "stderr",
     "output_type": "stream",
     "text": [
      "100%|██████████████████████████████████████████████████████████████████████████████| 296/296 [00:00<00:00, 1927.37it/s]\n"
     ]
    },
    {
     "name": "stdout",
     "output_type": "stream",
     "text": [
      "83/120-pcaps\\2\\AALTO\\WeMoInsightSwitch\\Setup-C-1-STA.pcap\n"
     ]
    },
    {
     "name": "stderr",
     "output_type": "stream",
     "text": [
      "100%|██████████████████████████████████████████████████████████████████████████████| 328/328 [00:00<00:00, 2171.46it/s]\n"
     ]
    },
    {
     "name": "stdout",
     "output_type": "stream",
     "text": [
      "84/120-pcaps\\2\\AALTO\\WeMoInsightSwitch\\Setup-C-2-STA.pcap\n"
     ]
    },
    {
     "name": "stderr",
     "output_type": "stream",
     "text": [
      "100%|██████████████████████████████████████████████████████████████████████████████| 306/306 [00:00<00:00, 1912.46it/s]\n"
     ]
    },
    {
     "name": "stdout",
     "output_type": "stream",
     "text": [
      "85/120-pcaps\\2\\AALTO\\WeMoInsightSwitch\\Setup-C-3-STA.pcap\n"
     ]
    },
    {
     "name": "stderr",
     "output_type": "stream",
     "text": [
      "100%|██████████████████████████████████████████████████████████████████████████████| 398/398 [00:00<00:00, 2132.04it/s]\n"
     ]
    },
    {
     "name": "stdout",
     "output_type": "stream",
     "text": [
      "86/120-pcaps\\2\\AALTO\\WeMoInsightSwitch\\Setup-C-4-STA.pcap\n"
     ]
    },
    {
     "name": "stderr",
     "output_type": "stream",
     "text": [
      "100%|██████████████████████████████████████████████████████████████████████████████| 370/370 [00:00<00:00, 3151.67it/s]\n"
     ]
    },
    {
     "name": "stdout",
     "output_type": "stream",
     "text": [
      "87/120-pcaps\\2\\AALTO\\WeMoInsightSwitch\\Setup-C-5-STA.pcap\n"
     ]
    },
    {
     "name": "stderr",
     "output_type": "stream",
     "text": [
      "100%|██████████████████████████████████████████████████████████████████████████████| 288/288 [00:00<00:00, 2060.07it/s]\n"
     ]
    },
    {
     "name": "stdout",
     "output_type": "stream",
     "text": [
      "88/120-pcaps\\2\\AALTO\\WeMoInsightSwitch\\Setup-C-6-STA.pcap\n"
     ]
    },
    {
     "name": "stderr",
     "output_type": "stream",
     "text": [
      "100%|██████████████████████████████████████████████████████████████████████████████| 414/414 [00:00<00:00, 1969.58it/s]\n"
     ]
    },
    {
     "name": "stdout",
     "output_type": "stream",
     "text": [
      "89/120-pcaps\\2\\AALTO\\WeMoInsightSwitch\\Setup-C-7-STA.pcap\n"
     ]
    },
    {
     "name": "stderr",
     "output_type": "stream",
     "text": [
      "100%|██████████████████████████████████████████████████████████████████████████████| 291/291 [00:00<00:00, 1981.30it/s]\n"
     ]
    },
    {
     "name": "stdout",
     "output_type": "stream",
     "text": [
      "90/120-pcaps\\2\\AALTO\\WeMoInsightSwitch\\Setup-C-8-STA.pcap\n"
     ]
    },
    {
     "name": "stderr",
     "output_type": "stream",
     "text": [
      "100%|██████████████████████████████████████████████████████████████████████████████| 304/304 [00:00<00:00, 2194.56it/s]\n"
     ]
    },
    {
     "name": "stdout",
     "output_type": "stream",
     "text": [
      "91/120-pcaps\\2\\AALTO\\WeMoInsightSwitch\\Setup-C-9-STA.pcap\n"
     ]
    },
    {
     "name": "stderr",
     "output_type": "stream",
     "text": [
      "100%|██████████████████████████████████████████████████████████████████████████████| 406/406 [00:00<00:00, 1766.09it/s]\n"
     ]
    },
    {
     "name": "stdout",
     "output_type": "stream",
     "text": [
      "92/120-pcaps\\2\\AALTO\\WeMoInsightSwitch2\\Setup-C-4-STA.pcap\n"
     ]
    },
    {
     "name": "stderr",
     "output_type": "stream",
     "text": [
      "100%|██████████████████████████████████████████████████████████████████████████████| 585/585 [00:00<00:00, 2100.41it/s]\n"
     ]
    },
    {
     "name": "stdout",
     "output_type": "stream",
     "text": [
      "93/120-pcaps\\2\\AALTO\\WeMoInsightSwitch2\\Setup-C-5-STA.pcap\n"
     ]
    },
    {
     "name": "stderr",
     "output_type": "stream",
     "text": [
      "100%|██████████████████████████████████████████████████████████████████████████████| 579/579 [00:00<00:00, 2070.15it/s]\n"
     ]
    },
    {
     "name": "stdout",
     "output_type": "stream",
     "text": [
      "94/120-pcaps\\2\\AALTO\\WeMoSwitch\\Setup-C-1-STA.pcap\n"
     ]
    },
    {
     "name": "stderr",
     "output_type": "stream",
     "text": [
      "100%|██████████████████████████████████████████████████████████████████████████████| 284/284 [00:00<00:00, 2197.52it/s]\n"
     ]
    },
    {
     "name": "stdout",
     "output_type": "stream",
     "text": [
      "95/120-pcaps\\2\\AALTO\\WeMoSwitch\\Setup-C-10-STA.pcap\n"
     ]
    },
    {
     "name": "stderr",
     "output_type": "stream",
     "text": [
      "100%|██████████████████████████████████████████████████████████████████████████████| 287/287 [00:00<00:00, 3594.46it/s]\n"
     ]
    },
    {
     "name": "stdout",
     "output_type": "stream",
     "text": [
      "96/120-pcaps\\2\\AALTO\\WeMoSwitch\\Setup-C-2-STA.pcap\n"
     ]
    },
    {
     "name": "stderr",
     "output_type": "stream",
     "text": [
      "100%|██████████████████████████████████████████████████████████████████████████████| 351/351 [00:00<00:00, 2259.00it/s]\n"
     ]
    },
    {
     "name": "stdout",
     "output_type": "stream",
     "text": [
      "97/120-pcaps\\2\\AALTO\\WeMoSwitch\\Setup-C-3-STA.pcap\n"
     ]
    },
    {
     "name": "stderr",
     "output_type": "stream",
     "text": [
      "100%|██████████████████████████████████████████████████████████████████████████████| 262/262 [00:00<00:00, 2176.07it/s]\n"
     ]
    },
    {
     "name": "stdout",
     "output_type": "stream",
     "text": [
      "98/120-pcaps\\2\\AALTO\\WeMoSwitch\\Setup-C-4-STA.pcap\n"
     ]
    },
    {
     "name": "stderr",
     "output_type": "stream",
     "text": [
      "100%|██████████████████████████████████████████████████████████████████████████████| 284/284 [00:00<00:00, 2189.71it/s]\n"
     ]
    },
    {
     "name": "stdout",
     "output_type": "stream",
     "text": [
      "99/120-pcaps\\2\\AALTO\\WeMoSwitch\\Setup-C-5-STA.pcap\n"
     ]
    },
    {
     "name": "stderr",
     "output_type": "stream",
     "text": [
      "100%|██████████████████████████████████████████████████████████████████████████████| 290/290 [00:00<00:00, 2248.11it/s]\n"
     ]
    },
    {
     "name": "stdout",
     "output_type": "stream",
     "text": [
      "100/120-pcaps\\2\\AALTO\\WeMoSwitch\\Setup-C-6-STA.pcap\n"
     ]
    },
    {
     "name": "stderr",
     "output_type": "stream",
     "text": [
      "100%|██████████████████████████████████████████████████████████████████████████████| 286/286 [00:00<00:00, 2042.22it/s]\n"
     ]
    },
    {
     "name": "stdout",
     "output_type": "stream",
     "text": [
      "101/120-pcaps\\2\\AALTO\\WeMoSwitch\\Setup-C-7-STA.pcap\n"
     ]
    },
    {
     "name": "stderr",
     "output_type": "stream",
     "text": [
      "100%|██████████████████████████████████████████████████████████████████████████████| 281/281 [00:00<00:00, 2123.94it/s]\n"
     ]
    },
    {
     "name": "stdout",
     "output_type": "stream",
     "text": [
      "102/120-pcaps\\2\\AALTO\\WeMoSwitch\\Setup-C-8-STA.pcap\n"
     ]
    },
    {
     "name": "stderr",
     "output_type": "stream",
     "text": [
      "100%|██████████████████████████████████████████████████████████████████████████████| 284/284 [00:00<00:00, 1980.80it/s]\n"
     ]
    },
    {
     "name": "stdout",
     "output_type": "stream",
     "text": [
      "103/120-pcaps\\2\\AALTO\\WeMoSwitch\\Setup-C-9-STA.pcap\n"
     ]
    },
    {
     "name": "stderr",
     "output_type": "stream",
     "text": [
      "100%|██████████████████████████████████████████████████████████████████████████████| 281/281 [00:00<00:00, 2046.51it/s]\n"
     ]
    },
    {
     "name": "stdout",
     "output_type": "stream",
     "text": [
      "104/120-pcaps\\2\\AALTO\\WeMoSwitch2\\Setup-C-4-STA.pcap\n"
     ]
    },
    {
     "name": "stderr",
     "output_type": "stream",
     "text": [
      "100%|██████████████████████████████████████████████████████████████████████████████| 361/361 [00:00<00:00, 3013.59it/s]\n"
     ]
    },
    {
     "name": "stdout",
     "output_type": "stream",
     "text": [
      "105/120-pcaps\\2\\AALTO\\WeMoSwitch2\\Setup-C-5-STA.pcap\n"
     ]
    },
    {
     "name": "stderr",
     "output_type": "stream",
     "text": [
      "100%|██████████████████████████████████████████████████████████████████████████████| 325/325 [00:00<00:00, 1973.59it/s]\n"
     ]
    },
    {
     "name": "stdout",
     "output_type": "stream",
     "text": [
      "106/120-pcaps\\2\\CIC\\2022_01_03_Active.pcap\n"
     ]
    },
    {
     "name": "stderr",
     "output_type": "stream",
     "text": [
      "100%|████████████████████████████████████████████████████████████████████████| 541397/541397 [03:48<00:00, 2374.26it/s]\n"
     ]
    },
    {
     "name": "stdout",
     "output_type": "stream",
     "text": [
      "107/120-pcaps\\2\\D-Link-IoT-Datasets\\D-LinkCam1\\D-LinkCam1_a4-2020-12-20.pcap\n"
     ]
    },
    {
     "name": "stderr",
     "output_type": "stream",
     "text": [
      "100%|██████████████████████████████████████████████████████████████████████████| 55630/55630 [00:17<00:00, 3272.15it/s]\n"
     ]
    },
    {
     "name": "stdout",
     "output_type": "stream",
     "text": [
      "108/120-pcaps\\2\\D-Link-IoT-Datasets\\D-LinkCam1\\D-LinkCam1_a4-2020-12-21.pcap\n"
     ]
    },
    {
     "name": "stderr",
     "output_type": "stream",
     "text": [
      "100%|██████████████████████████████████████████████████████████████████████████| 54975/54975 [00:16<00:00, 3236.65it/s]\n"
     ]
    },
    {
     "name": "stdout",
     "output_type": "stream",
     "text": [
      "109/120-pcaps\\2\\D-Link-IoT-Datasets\\D-LinkCam2\\D-LinkCam2_11-2020-12-20.pcap\n"
     ]
    },
    {
     "name": "stderr",
     "output_type": "stream",
     "text": [
      "100%|████████████████████████████████████████████████████████████████████████| 184542/184542 [01:14<00:00, 2466.81it/s]\n"
     ]
    },
    {
     "name": "stdout",
     "output_type": "stream",
     "text": [
      "110/120-pcaps\\2\\D-Link-IoT-Datasets\\D-LinkCam2\\D-LinkCam2_11-2020-12-21.pcap\n"
     ]
    },
    {
     "name": "stderr",
     "output_type": "stream",
     "text": [
      "100%|████████████████████████████████████████████████████████████████████████| 185567/185567 [01:14<00:00, 2501.96it/s]\n"
     ]
    },
    {
     "name": "stdout",
     "output_type": "stream",
     "text": [
      "111/120-pcaps\\2\\D-Link-IoT-Datasets\\D-LinkDayCam1\\D-LinkDayCam1_5d-2020-12-20.pcap\n"
     ]
    },
    {
     "name": "stderr",
     "output_type": "stream",
     "text": [
      "100%|██████████████████████████████████████████████████████████████████████████| 55890/55890 [00:14<00:00, 3890.96it/s]\n"
     ]
    },
    {
     "name": "stdout",
     "output_type": "stream",
     "text": [
      "112/120-pcaps\\2\\D-Link-IoT-Datasets\\D-LinkDayCam1\\D-LinkDayCam1_5d-2020-12-21.pcap\n"
     ]
    },
    {
     "name": "stderr",
     "output_type": "stream",
     "text": [
      "100%|██████████████████████████████████████████████████████████████████████████| 56188/56188 [00:14<00:00, 3747.17it/s]\n"
     ]
    },
    {
     "name": "stdout",
     "output_type": "stream",
     "text": [
      "113/120-pcaps\\2\\D-Link-IoT-Datasets\\D-LinkDayCam6\\D-LinkDayCam6_e5-2020-12-20.pcap\n"
     ]
    },
    {
     "name": "stderr",
     "output_type": "stream",
     "text": [
      "100%|██████████████████████████████████████████████████████████████████████████| 55338/55338 [00:14<00:00, 3807.44it/s]\n"
     ]
    },
    {
     "name": "stdout",
     "output_type": "stream",
     "text": [
      "114/120-pcaps\\2\\D-Link-IoT-Datasets\\D-LinkDayCam6\\D-LinkDayCam6_e5-2020-12-21.pcap\n"
     ]
    },
    {
     "name": "stderr",
     "output_type": "stream",
     "text": [
      "100%|██████████████████████████████████████████████████████████████████████████| 55047/55047 [00:14<00:00, 3791.07it/s]\n"
     ]
    },
    {
     "name": "stdout",
     "output_type": "stream",
     "text": [
      "115/120-pcaps\\2\\D-Link-IoT-Datasets\\D-LinkSmartPlug_3b\\D-LinkSmartPlug_3b-2020-12-20.pcap\n"
     ]
    },
    {
     "name": "stderr",
     "output_type": "stream",
     "text": [
      "100%|████████████████████████████████████████████████████████████████████████████| 8597/8597 [00:01<00:00, 5493.25it/s]\n"
     ]
    },
    {
     "name": "stdout",
     "output_type": "stream",
     "text": [
      "116/120-pcaps\\2\\D-Link-IoT-Datasets\\D-LinkSmartPlug_3b\\D-LinkSmartPlug_3b-2020-12-21.pcap\n"
     ]
    },
    {
     "name": "stderr",
     "output_type": "stream",
     "text": [
      "100%|████████████████████████████████████████████████████████████████████████████| 9466/9466 [00:01<00:00, 5991.43it/s]\n"
     ]
    },
    {
     "name": "stdout",
     "output_type": "stream",
     "text": [
      "117/120-pcaps\\2\\D-Link-IoT-Datasets\\D-LinkSmartPlug_55\\D-LinkSmartPlug_55-2020-12-20.pcap\n"
     ]
    },
    {
     "name": "stderr",
     "output_type": "stream",
     "text": [
      "100%|████████████████████████████████████████████████████████████████████████████| 8695/8695 [00:01<00:00, 5333.60it/s]\n"
     ]
    },
    {
     "name": "stdout",
     "output_type": "stream",
     "text": [
      "118/120-pcaps\\2\\D-Link-IoT-Datasets\\D-LinkSmartPlug_55\\D-LinkSmartPlug_55-2020-12-21.pcap\n"
     ]
    },
    {
     "name": "stderr",
     "output_type": "stream",
     "text": [
      "100%|████████████████████████████████████████████████████████████████████████████| 9346/9346 [00:01<00:00, 6150.05it/s]\n"
     ]
    },
    {
     "name": "stdout",
     "output_type": "stream",
     "text": [
      "119/120-pcaps\\2\\D-Link-IoT-Datasets\\D-LinkSmartPlug_6e\\D-LinkSmartPlug_6e-2020-12-20.pcap\n"
     ]
    },
    {
     "name": "stderr",
     "output_type": "stream",
     "text": [
      "100%|████████████████████████████████████████████████████████████████████████████| 8690/8690 [00:01<00:00, 5718.03it/s]\n"
     ]
    },
    {
     "name": "stdout",
     "output_type": "stream",
     "text": [
      "120/120-pcaps\\2\\D-Link-IoT-Datasets\\D-LinkSmartPlug_6e\\D-LinkSmartPlug_6e-2020-12-21.pcap\n"
     ]
    },
    {
     "name": "stderr",
     "output_type": "stream",
     "text": [
      "100%|████████████████████████████████████████████████████████████████████████████| 9312/9312 [00:01<00:00, 5967.70it/s]\n"
     ]
    }
   ],
   "source": [
    "outputfolder=\"FE\"\n",
    "folder(outputfolder)\n",
    "\n",
    "\n",
    "\n",
    "\n",
    "for sayac,i in enumerate (files_add):\n",
    "    print(f\"{sayac+1}/{len(files_add)}-{i}\")\n",
    "    boyut=os.path.getsize(i)\n",
    "    label_count=0\n",
    "    if boyut >100000000000:\n",
    "        file_list,keyword=pcap_parser(i)\n",
    "\n",
    "    else:\n",
    "        file_list=[i]    \n",
    "    for isim in file_list:\n",
    "    \n",
    "        filename=isim.replace(\".pcap\",\"_FE.csv\")\n",
    "        ths = open(filename, \"w\")\n",
    "        ths.write(header)  \n",
    " \n",
    "    \n",
    "    \n",
    "        pkt = rdpcap(isim)\n",
    "        for j in tqdm(pkt):\n",
    "            \n",
    "            if j.haslayer(ARP):\n",
    "                continue\n",
    "            else:\n",
    "                ts=float(j.time)\n",
    "                try:pck_size=j.len\n",
    "                except:pck_size=0\n",
    "                if j.haslayer(Ether):\n",
    "\n",
    "\n",
    "                    Ether_dst=j[Ether].dst#Ether_adresses.index(j[Ether].dst)+1\n",
    "                    Ether_src=j[Ether].src#Ether_adj[Ether].dstresses.index(j[Ether].src)+1\n",
    "\n",
    "\n",
    "                    Ether_type=j[Ether].type\n",
    "                else:\n",
    "                    Ether_dst=0\n",
    "                    Ether_src=0\n",
    "                    Ether_type=0\n",
    "\n",
    "\n",
    "                if j.haslayer(ARP):\n",
    "                    ARP_hwtype=j[ARP].hwtype\n",
    "                    ARP_ptype=j[ARP].ptype\n",
    "                    ARP_hwlen=j[ARP].hwlen\n",
    "                    ARP_plen=j[ARP].plen\n",
    "                    ARP_op=j[ARP].op\n",
    "\n",
    "\n",
    "                    ARP_hwsrc=j[ARP].hwsrc\n",
    "                    ARP_psrc=j[ARP].psrc\n",
    "                    ARP_hwdst=j[ARP].hwdst\n",
    "                    ARP_pdst=j[ARP].pdst\n",
    "\n",
    "\n",
    "\n",
    "\n",
    "                    ARP_hwsrc=j[ARP].hwsrc#Ether_adresses.index(j[ARP].hwsrc)+1\n",
    "                    ARP_psrc=j[ARP].psrc#IP_adresses.index(j[ARP].psrc)+1\n",
    "                    ARP_hwdst=j[ARP].hwdst#Ether_adresses.index(j[ARP].hwdst)+1\n",
    "                    ARP_pdst=j[ARP].pdst#IP_adresses.index(j[ARP].pdst)+1\n",
    "\n",
    "\n",
    "                else:\n",
    "                    ARP_hwtype=0\n",
    "                    ARP_ptype=0\n",
    "                    ARP_hwlen=0\n",
    "                    ARP_plen=0\n",
    "                    ARP_op=0\n",
    "                    ARP_hwsrc=0\n",
    "                    ARP_psrc=0\n",
    "                    ARP_hwdst=0\n",
    "                    ARP_pdst=0            \n",
    "\n",
    "\n",
    "                if j.haslayer(LLC):\n",
    "                    LLC_dsap=j[LLC].dsap\n",
    "                    LLC_ssap=j[LLC].ssap\n",
    "                    LLC_ctrl=j[LLC].ctrl\n",
    "                else:\n",
    "                    LLC_dsap=0\n",
    "                    LLC_ssap=0\n",
    "                    LLC_ctrl=0            \n",
    "\n",
    "\n",
    "\n",
    "                if j.haslayer(EAPOL):\n",
    "                    EAPOL_version=j[EAPOL].version\n",
    "                    EAPOL_type=j[EAPOL].type\n",
    "                    EAPOL_len=j[EAPOL].len\n",
    "\n",
    "                else:\n",
    "                    EAPOL_version=0\n",
    "                    EAPOL_type=0\n",
    "                    EAPOL_len=0            \n",
    "\n",
    "\n",
    "                if j.haslayer(IP):\n",
    "\n",
    "                    IP_Z = 0\n",
    "                    IP_MF= 0\n",
    "                    IP_DF= 0\n",
    "\n",
    "                    IP_version=j[IP].version\n",
    "                    IP_ihl=j[IP].ihl\n",
    "                    IP_tos=j[IP].tos\n",
    "                    IP_len=j[IP].len\n",
    "                    IP_id=j[IP].id\n",
    "                    IP_flags=j[IP].flags\n",
    "\n",
    "                    IP_frag=j[IP].frag\n",
    "                    IP_ttl=j[IP].ttl\n",
    "                    IP_proto=j[IP].proto\n",
    "                    IP_chksum=j[IP].chksum\n",
    "\n",
    "\n",
    "                    #if j[IP].options!=0:\n",
    "                    IP_options=j[IP].options\n",
    "                    if \"IPOption_Router_Alert\"   in str(IP_options):\n",
    "                        IP_options=1\n",
    "                    else:IP_options=0\n",
    "\n",
    "\n",
    "\n",
    "                    #if IP_flags not in ipf: ipf.append(IP_flags)\n",
    "\n",
    "                    if IP_flags & Z:IP_Z = 1\n",
    "                    if IP_flags & MF:IP_MF = 1\n",
    "                    if IP_flags & DF:IP_DF = 1\n",
    "                    #if \"Flag\" in str(IP_flags):\n",
    "                        #IP_flags=str(IP_flags)\n",
    "                        #temp=IP_flags.find(\"(\")\n",
    "                        #IP_flags=int(IP_flags[6:temp-1])\n",
    "\n",
    "\n",
    "\n",
    "\n",
    "                    IP_src=j[IP].src#IP_adresses.index(j[IP].src)+1\n",
    "                    IP_dst=j[IP].dst#IP_adresses.index(j[IP].dst)+1                \n",
    "\n",
    "\n",
    "\n",
    "                else:\n",
    "                    IP_Z = 0\n",
    "                    IP_MF= 0\n",
    "                    IP_DF= 0\n",
    "\n",
    "                    IP_version=0\n",
    "                    IP_ihl=0\n",
    "                    IP_tos=0\n",
    "                    IP_len=0\n",
    "                    IP_id=0\n",
    "                    IP_flags=0\n",
    "                    IP_frag=0\n",
    "                    IP_ttl=0\n",
    "                    IP_proto=0\n",
    "                    IP_chksum=0\n",
    "                    IP_src=0\n",
    "                    IP_dst=0\n",
    "                    IP_options=0\n",
    "                    IP_add_count=0            \n",
    "\n",
    "                if j.haslayer(ICMP):\n",
    "                    ICMP_type=j[ICMP].type\n",
    "                    ICMP_code=j[ICMP].code\n",
    "                    ICMP_chksum=j[ICMP].chksum\n",
    "                    ICMP_id=j[ICMP].id\n",
    "                    ICMP_seq=j[ICMP].seq\n",
    "                    ICMP_ts_ori=j[ICMP].ts_ori\n",
    "                    ICMP_ts_rx=j[ICMP].ts_rx\n",
    "                    ICMP_ts_tx=j[ICMP].ts_tx\n",
    "                    ICMP_gw=j[ICMP].gw\n",
    "                    ICMP_ptr=j[ICMP].ptr\n",
    "                    ICMP_reserved=j[ICMP].reserved\n",
    "                    ICMP_length=j[ICMP].length\n",
    "                    ICMP_addr_mask=j[ICMP].addr_mask\n",
    "                    ICMP_nexthopmtu=j[ICMP].nexthopmtu\n",
    "                    ICMP_unused=j[ICMP].unused\n",
    "                else:\n",
    "                    ICMP_type=0\n",
    "                    ICMP_code=0\n",
    "                    ICMP_chksum=0\n",
    "                    ICMP_id=0\n",
    "                    ICMP_seq=0\n",
    "                    ICMP_ts_ori=0\n",
    "                    ICMP_ts_rx=0\n",
    "                    ICMP_ts_tx=0\n",
    "                    ICMP_gw=0\n",
    "                    ICMP_ptr=0\n",
    "                    ICMP_reserved=0\n",
    "                    ICMP_length=0\n",
    "                    ICMP_addr_mask=0\n",
    "                    ICMP_nexthopmtu=0\n",
    "                    ICMP_unused=0\n",
    "\n",
    "\n",
    "\n",
    "\n",
    "                if j.haslayer(TCP):\n",
    "                    TCP_FIN = 0\n",
    "                    TCP_SYN = 0\n",
    "                    TCP_RST = 0\n",
    "                    TCP_PSH = 0\n",
    "                    TCP_ACK = 0\n",
    "                    TCP_URG = 0\n",
    "                    TCP_ECE = 0\n",
    "                    TCP_CWR = 0\n",
    "                    TCP_sport=j[TCP].sport\n",
    "                    TCP_dport=j[TCP].dport\n",
    "                    TCP_seq=j[TCP].seq\n",
    "                    TCP_ack=j[TCP].ack\n",
    "                    TCP_dataofs=j[TCP].dataofs\n",
    "                    TCP_reserved=j[TCP].reserved\n",
    "                    TCP_flags=j[TCP].flags\n",
    "\n",
    "                    TCP_window=j[TCP].window\n",
    "                    TCP_chksum=j[TCP].chksum\n",
    "                    TCP_urgptr=j[TCP].urgptr\n",
    "                    TCP_options=j[TCP].options\n",
    "                    TCP_options= str(TCP_options).replace(\",\",\"-\")\n",
    "                    if TCP_options!=\"0\":\n",
    "                        TCP_options=1\n",
    "                    else:\n",
    "                        TCP_options=0\n",
    "\n",
    "\n",
    "\n",
    "\n",
    "                    #if TCP_flags not in tcpf:\n",
    "                        #tcpf.append(TCP_flags)\n",
    "                    #print(TCP_options)\n",
    "                    if TCP_flags & FIN:TCP_FIN = 1\n",
    "                    if TCP_flags & SYN:TCP_SYN = 1\n",
    "                    if TCP_flags & RST:TCP_RST = 1\n",
    "                    if TCP_flags & PSH:TCP_PSH = 1\n",
    "                    if TCP_flags & ACK:TCP_ACK = 1\n",
    "                    if TCP_flags & URG:TCP_URG = 1\n",
    "                    if TCP_flags & ECE:TCP_ECE = 1\n",
    "                    if TCP_flags & CWR:TCP_CWR = 1   \n",
    "                    #print(TCP_flags)\n",
    "                    #if \"Flag\" in str(TCP_flags):\n",
    "                        #TCP_flags=str(TCP_flags)\n",
    "                        #temp=TCP_flags.find(\"(\")\n",
    "                        #TCP_flags=int(TCP_flags[6:temp-1])\n",
    "\n",
    "\n",
    "\n",
    "\n",
    "                else:\n",
    "                    TCP_sport=0\n",
    "                    TCP_dport=0\n",
    "                    TCP_seq=0\n",
    "                    TCP_ack=0\n",
    "                    TCP_dataofs=0\n",
    "                    TCP_reserved=0\n",
    "                    TCP_flags=0\n",
    "                    TCP_window=0\n",
    "                    TCP_chksum=0\n",
    "                    TCP_urgptr=0\n",
    "                    TCP_options=0\n",
    "                    TCP_options=0\n",
    "                    TCP_FIN = 0\n",
    "                    TCP_SYN = 0\n",
    "                    TCP_RST = 0\n",
    "                    TCP_PSH = 0\n",
    "                    TCP_ACK = 0\n",
    "                    TCP_URG = 0\n",
    "                    TCP_ECE = 0\n",
    "                    TCP_CWR = 0\n",
    "\n",
    "\n",
    "                if j.haslayer(UDP):\n",
    "                    UDP_sport=j[UDP].sport\n",
    "                    UDP_dport=j[UDP].dport\n",
    "                    UDP_len=j[UDP].len\n",
    "                    UDP_chksum=j[UDP].chksum\n",
    "                else:\n",
    "                    UDP_sport=0\n",
    "                    UDP_dport=0\n",
    "                    UDP_len=0\n",
    "                    UDP_chksum=0\n",
    "\n",
    "\n",
    "\n",
    "\n",
    "\n",
    "                if j.haslayer(DHCP):\n",
    "                    DHCP_options=str(j[DHCP].options)\n",
    "                    DHCP_options=DHCP_options.replace(\",\",\"-\")\n",
    "                    if \"message\" in DHCP_options:\n",
    "                        x = DHCP_options.find(\")\")\n",
    "                        DHCP_options=int(DHCP_options[x-1])\n",
    "\n",
    "                else:\n",
    "                    DHCP_options=0            \n",
    "\n",
    "\n",
    "                if j.haslayer(BOOTP):\n",
    "                    BOOTP_op=j[BOOTP].op\n",
    "                    BOOTP_htype=j[BOOTP].htype\n",
    "                    BOOTP_hlen=j[BOOTP].hlen\n",
    "                    BOOTP_hops=j[BOOTP].hops\n",
    "                    BOOTP_xid=j[BOOTP].xid\n",
    "                    BOOTP_secs=j[BOOTP].secs\n",
    "                    BOOTP_flags=j[BOOTP].flags\n",
    "                    #if \"Flag\" in str(BOOTP_flags):BOOTP_flags=str(BOOTP_flags)temp=BOOTP_flags.find(\"(\") BOOTP_flags=int(BOOTP_flags[6:temp-1])\n",
    "                    BOOTP_ciaddr=j[BOOTP].ciaddr\n",
    "                    BOOTP_yiaddr=j[BOOTP].yiaddr\n",
    "                    BOOTP_siaddr=j[BOOTP].siaddr\n",
    "                    BOOTP_giaddr=j[BOOTP].giaddr\n",
    "                    BOOTP_chaddr=j[BOOTP].chaddr\n",
    "                    BOOTP_sname=str(j[BOOTP].sname)\n",
    "                    if BOOTP_sname!=\"0\":\n",
    "                        BOOTP_sname=1\n",
    "                    else:\n",
    "                        BOOTP_sname=0\n",
    "                    BOOTP_file=str(j[BOOTP].file)\n",
    "                    if BOOTP_file!=\"0\":\n",
    "                        BOOTP_file=1\n",
    "                    else:\n",
    "                        BOOTP_file=0\n",
    "\n",
    "                    BOOTP_options=str(j[BOOTP].options)\n",
    "                    BOOTP_options=BOOTP_options.replace(\",\",\"-\")\n",
    "                    if BOOTP_options!=\"0\":\n",
    "                        BOOTP_options=1\n",
    "                    else:\n",
    "                        BOOTP_options=0\n",
    "                else:\n",
    "                    BOOTP_op=0\n",
    "                    BOOTP_htype=0\n",
    "                    BOOTP_hlen=0\n",
    "                    BOOTP_hops=0\n",
    "                    BOOTP_xid=0\n",
    "                    BOOTP_secs=0\n",
    "                    BOOTP_flags=0\n",
    "                    BOOTP_ciaddr=0\n",
    "                    BOOTP_yiaddr=0\n",
    "                    BOOTP_siaddr=0\n",
    "                    BOOTP_giaddr=0\n",
    "                    BOOTP_chaddr=0\n",
    "                    BOOTP_sname=0\n",
    "                    BOOTP_file=0\n",
    "                    BOOTP_options=0\n",
    "\n",
    "\n",
    "\n",
    "\n",
    "\n",
    "\n",
    "                if j.haslayer(DNS):\n",
    "                    DNS_length=j[DNS].length\n",
    "                    DNS_id=j[DNS].id\n",
    "                    DNS_qr=j[DNS].qr\n",
    "                    DNS_opcode=j[DNS].opcode\n",
    "                    DNS_aa=j[DNS].aa\n",
    "                    DNS_tc=j[DNS].tc\n",
    "                    DNS_rd=j[DNS].rd\n",
    "                    DNS_ra=j[DNS].ra\n",
    "                    DNS_z=j[DNS].z\n",
    "                    DNS_ad=j[DNS].ad\n",
    "                    DNS_cd=j[DNS].cd\n",
    "                    DNS_rcode=j[DNS].rcode\n",
    "                    DNS_qdcount=j[DNS].qdcount\n",
    "                    DNS_ancount=j[DNS].ancount\n",
    "                    DNS_nscount=j[DNS].nscount\n",
    "                    DNS_arcount=j[DNS].arcount\n",
    "                    DNS_qd=str(j[DNS].qd).replace(\",\",\"-\")\n",
    "                    if DNS_qd!=\"0\":\n",
    "                        DNS_qd=1\n",
    "                    else:\n",
    "                        DNS_qd=0\n",
    "                    DNS_an=str(j[DNS].an).replace(\",\",\"-\")\n",
    "                    if DNS_an!=\"0\":\n",
    "                        DNS_an=1\n",
    "                    else:\n",
    "                        DNS_an=0\n",
    "                    DNS_ns=str(j[DNS].ns).replace(\",\",\"-\")\n",
    "                    if DNS_ns!=\"0\":\n",
    "                        DNS_ns=1\n",
    "                    else:\n",
    "                        DNS_ns=0\n",
    "                    DNS_ar=str(j[DNS].ar).replace(\",\",\"-\")\n",
    "                    if DNS_ar!=\"0\":\n",
    "                        DNS_ar=1\n",
    "                    else:\n",
    "                        DNS_ar=0\n",
    "                else:\n",
    "                    DNS_length=0\n",
    "                    DNS_id=0\n",
    "                    DNS_qr=0\n",
    "                    DNS_opcode=0\n",
    "                    DNS_aa=0\n",
    "                    DNS_tc=0\n",
    "                    DNS_rd=0\n",
    "                    DNS_ra=0\n",
    "                    DNS_z=0\n",
    "                    DNS_ad=0\n",
    "                    DNS_cd=0\n",
    "                    DNS_rcode=0\n",
    "                    DNS_qdcount=0\n",
    "                    DNS_ancount=0\n",
    "                    DNS_nscount=0\n",
    "                    DNS_arcount=0\n",
    "                    DNS_qd=0\n",
    "                    DNS_an=0\n",
    "                    DNS_ns=0\n",
    "                    DNS_ar=0\n",
    "\n",
    "\n",
    "\n",
    "\n",
    "\n",
    "                pdata=[]\n",
    "                if \"TCP\" in j:            \n",
    "                    pdata = (j[TCP].payload)\n",
    "                if \"Raw\" in j:\n",
    "                    pdata = (j[Raw].load)\n",
    "                elif \"UDP\" in j:            \n",
    "                    pdata = (j[UDP].payload)\n",
    "                elif \"ICMP\" in j:            \n",
    "                    pdata = (j[ICMP].payload)\n",
    "                pdata=list(memoryview(bytes(pdata)))            \n",
    "\n",
    "                if pdata!=[]:\n",
    "                    entropy=shannon(pdata)        \n",
    "                else:\n",
    "                    entropy=0\n",
    "                payload_bytes=len(pdata)\n",
    "\n",
    "                sport_class=port_class(TCP_sport+UDP_sport)\n",
    "                dport_class=port_class(TCP_dport+UDP_dport)\n",
    "                sport23=port_1023(TCP_sport+UDP_sport)\n",
    "                dport23=port_1023(TCP_dport+UDP_dport)\n",
    "                sport_bare=TCP_sport+UDP_sport\n",
    "                dport_bare=TCP_dport+UDP_dport#port_class(TCP_dport+UDP_dport)\n",
    "\n",
    "\n",
    "                Mac=j.src             \n",
    "\n",
    "\n",
    "\n",
    "\n",
    "                line=[ts,\n",
    "                      Ether_dst,\n",
    "                Ether_src,\n",
    "                IP_src,\n",
    "                IP_dst,\n",
    "                pck_size,\n",
    "                Ether_type,\n",
    "                LLC_dsap,\n",
    "                LLC_ssap,\n",
    "                LLC_ctrl,\n",
    "                EAPOL_version,\n",
    "                EAPOL_type,\n",
    "                EAPOL_len,\n",
    "                IP_version,\n",
    "                IP_ihl,\n",
    "                IP_tos,\n",
    "                IP_len,\n",
    "                IP_flags,\n",
    "                IP_Z,\n",
    "                IP_MF,\n",
    "                IP_id,\n",
    "                IP_chksum,\n",
    "                IP_DF  ,\n",
    "                IP_frag,\n",
    "                IP_ttl,\n",
    "                IP_proto,\n",
    "                IP_options,\n",
    "                ICMP_type,\n",
    "                ICMP_code,\n",
    "                ICMP_chksum,\n",
    "                ICMP_id,\n",
    "                ICMP_seq,\n",
    "                ICMP_ts_ori,\n",
    "                ICMP_ts_rx,\n",
    "                ICMP_ts_tx,\n",
    "                ICMP_ptr,\n",
    "                ICMP_reserved,\n",
    "                ICMP_length,\n",
    "                #ICMP_addr_mask,\n",
    "                ICMP_nexthopmtu,\n",
    "                ICMP_unused,\n",
    "                TCP_seq,\n",
    "                TCP_ack,\n",
    "                TCP_dataofs,\n",
    "                TCP_reserved,\n",
    "                TCP_flags,\n",
    "                TCP_FIN,\n",
    "                TCP_SYN,\n",
    "                TCP_RST,\n",
    "                TCP_PSH,\n",
    "                TCP_ACK,\n",
    "                TCP_URG,\n",
    "                TCP_ECE,\n",
    "                TCP_CWR   ,\n",
    "                TCP_window,\n",
    "                TCP_chksum,\n",
    "                TCP_urgptr,\n",
    "                TCP_options,\n",
    "                UDP_len,\n",
    "                UDP_chksum,\n",
    "                DHCP_options,\n",
    "                BOOTP_op,\n",
    "                BOOTP_htype,\n",
    "                BOOTP_hlen,\n",
    "                BOOTP_hops,\n",
    "                BOOTP_xid,\n",
    "                BOOTP_secs,\n",
    "                BOOTP_flags,\n",
    "                BOOTP_sname,\n",
    "                BOOTP_file,\n",
    "                BOOTP_options,\n",
    "                DNS_length,\n",
    "                DNS_id,\n",
    "                DNS_qr,\n",
    "                DNS_opcode,\n",
    "                DNS_aa,\n",
    "                DNS_tc,\n",
    "                DNS_rd,\n",
    "                DNS_ra,\n",
    "                DNS_z,\n",
    "                DNS_ad,\n",
    "                DNS_cd,\n",
    "                DNS_rcode,\n",
    "                DNS_qdcount,\n",
    "                DNS_ancount,\n",
    "                DNS_nscount,\n",
    "                DNS_arcount,\n",
    "                sport_class,\n",
    "                dport_class,\n",
    "                sport23,\n",
    "                dport23,\n",
    "                sport_bare,\n",
    "                dport_bare,\n",
    "                TCP_sport,\n",
    "                TCP_dport,\n",
    "                UDP_sport,\n",
    "                UDP_dport, \n",
    "                payload_bytes,\n",
    "                entropy]\n",
    "\n",
    "                #print(line)\n",
    "                line=str(line).replace(\"[\",\"\")\n",
    "                line=str(line).replace(\"]\",\"\")\n",
    "                #line=str(line).replace(\"\\',\",\"-\")\n",
    "                line=str(line).replace(\", \",\",\")\n",
    "                line=str(line).replace(\"\\'\",\"\")\n",
    "                line=str(line).replace(\"None\",\"0\")\n",
    "                if Mac in MAC_list:\n",
    "                    Label=MAC_list[Mac]\n",
    "                else:\n",
    "                    Label=Mac\n",
    "                ths.write(str(line)+f\",{Label}\\n\")  \n",
    "                label_count+=1\n",
    "                #kk=line.split(\",\")\n",
    "                #print(len(kk))\n",
    "                #if len(kk)==112:\n",
    "                #ths.write(line+\"\\n\")\n",
    "\n",
    "                #else:print(line)\n",
    "        name=isim.replace(\"\\\\\",\"/\")\n",
    "        output=filename.replace(\"_FE.csv\",\"_WS.csv\")\n",
    "\n",
    "        if \" \" not in name:\n",
    "            command=f\"tshark -r {name}  -T fields -e _ws.col.Source -e _ws.col.Destination  -e _ws.col.Protocol    -E header=y -E separator=, -E quote=d -E occurrence=f >{output}\"\n",
    "        else:\n",
    "            command=f\"tshark -r \\\"{name}\\\" -T fields -e _ws.col.Source -e _ws.col.Destination  -e _ws.col.Protocol    -E header=y -E separator=, -E quote=d -E occurrence=f >\\\"{output}\\\"\"\n",
    "        os.system(command)\n",
    "        ths.close()          \n",
    "    if len(file_list)>1:\n",
    "        merged_csv(i,keyword)\n",
    "        \n",
    "        "
   ]
  },
  {
   "cell_type": "markdown",
   "metadata": {},
   "source": [
    "# WIRESHARK FEATURES dst,src and Protocol added"
   ]
  },
  {
   "cell_type": "code",
   "execution_count": 125,
   "metadata": {},
   "outputs": [],
   "source": [
    "name_list=find_the_way('./pcaps','_WS.csv')\n",
    "\n",
    "for i in name_list:\n",
    "    df=pd.read_csv(i)\n",
    "    df=df[df[\"_ws.col.Protocol\"]!=\"ARP\"]\n",
    "    df.to_csv(i,index=None) \n",
    "    "
   ]
  },
  {
   "cell_type": "code",
   "execution_count": 126,
   "metadata": {},
   "outputs": [
    {
     "data": {
      "text/plain": [
       "['./pcaps\\\\1\\\\AALTO\\\\EdimaxCam1\\\\Setup-A-1-STA_FE.csv',\n",
       " './pcaps\\\\1\\\\AALTO\\\\EdimaxCam1\\\\Setup-A-2-STA_FE.csv',\n",
       " './pcaps\\\\1\\\\AALTO\\\\EdimaxCam1\\\\Setup-A-3-STA_FE.csv',\n",
       " './pcaps\\\\1\\\\AALTO\\\\EdimaxCam1\\\\Setup-A-4-STA_FE.csv',\n",
       " './pcaps\\\\1\\\\AALTO\\\\EdimaxCam1\\\\Setup-A-5-STA_FE.csv',\n",
       " './pcaps\\\\1\\\\AALTO\\\\EdimaxCam1\\\\Setup-A-6-STA_FE.csv',\n",
       " './pcaps\\\\1\\\\AALTO\\\\EdimaxCam2\\\\Setup-A-1-STA_FE.csv',\n",
       " './pcaps\\\\1\\\\AALTO\\\\EdimaxCam2\\\\Setup-A-2-STA_FE.csv',\n",
       " './pcaps\\\\1\\\\AALTO\\\\EdimaxCam2\\\\Setup-A-3-STA_FE.csv',\n",
       " './pcaps\\\\1\\\\AALTO\\\\EdimaxCam2\\\\Setup-A-4-STA_FE.csv',\n",
       " './pcaps\\\\1\\\\AALTO\\\\EdnetCam1\\\\Setup-A-1-STA_FE.csv',\n",
       " './pcaps\\\\1\\\\AALTO\\\\EdnetCam1\\\\Setup-C-1-STA_FE.csv',\n",
       " './pcaps\\\\1\\\\AALTO\\\\EdnetCam1\\\\Setup-C-2-STA_FE.csv',\n",
       " './pcaps\\\\1\\\\AALTO\\\\EdnetCam1\\\\Setup-C-3-STA_FE.csv',\n",
       " './pcaps\\\\1\\\\AALTO\\\\EdnetCam1\\\\Setup-C-4-STA_FE.csv',\n",
       " './pcaps\\\\1\\\\AALTO\\\\EdnetCam1\\\\Setup-C-5-STA_FE.csv',\n",
       " './pcaps\\\\1\\\\AALTO\\\\EdnetCam2\\\\Setup-A-1-STA_FE.csv',\n",
       " './pcaps\\\\1\\\\AALTO\\\\EdnetCam2\\\\Setup-C-1-STA_FE.csv',\n",
       " './pcaps\\\\1\\\\AALTO\\\\EdnetCam2\\\\Setup-C-2-STA_FE.csv',\n",
       " './pcaps\\\\1\\\\AALTO\\\\EdnetCam2\\\\Setup-C-3-STA_FE.csv',\n",
       " './pcaps\\\\1\\\\AALTO\\\\EdnetCam2\\\\Setup-C-4-STA_FE.csv',\n",
       " './pcaps\\\\1\\\\AALTO\\\\WeMoInsightSwitch\\\\Setup-A-1-STA_FE.csv',\n",
       " './pcaps\\\\1\\\\AALTO\\\\WeMoInsightSwitch\\\\Setup-A-10-STA_FE.csv',\n",
       " './pcaps\\\\1\\\\AALTO\\\\WeMoInsightSwitch\\\\Setup-A-2-STA_FE.csv',\n",
       " './pcaps\\\\1\\\\AALTO\\\\WeMoInsightSwitch\\\\Setup-A-3-STA_FE.csv',\n",
       " './pcaps\\\\1\\\\AALTO\\\\WeMoInsightSwitch\\\\Setup-A-4-STA_FE.csv',\n",
       " './pcaps\\\\1\\\\AALTO\\\\WeMoInsightSwitch\\\\Setup-A-5-STA_FE.csv',\n",
       " './pcaps\\\\1\\\\AALTO\\\\WeMoInsightSwitch\\\\Setup-A-6-STA_FE.csv',\n",
       " './pcaps\\\\1\\\\AALTO\\\\WeMoInsightSwitch\\\\Setup-A-7-STA_FE.csv',\n",
       " './pcaps\\\\1\\\\AALTO\\\\WeMoInsightSwitch\\\\Setup-A-8-STA_FE.csv',\n",
       " './pcaps\\\\1\\\\AALTO\\\\WeMoInsightSwitch\\\\Setup-A-9-STA_FE.csv',\n",
       " './pcaps\\\\1\\\\AALTO\\\\WeMoInsightSwitch2\\\\Setup-C-1-STA_FE.csv',\n",
       " './pcaps\\\\1\\\\AALTO\\\\WeMoInsightSwitch2\\\\Setup-C-2-STA_FE.csv',\n",
       " './pcaps\\\\1\\\\AALTO\\\\WeMoInsightSwitch2\\\\Setup-C-3-STA_FE.csv',\n",
       " './pcaps\\\\1\\\\AALTO\\\\WeMoSwitch\\\\Setup-A-1-STA_FE.csv',\n",
       " './pcaps\\\\1\\\\AALTO\\\\WeMoSwitch\\\\Setup-A-10-STA_FE.csv',\n",
       " './pcaps\\\\1\\\\AALTO\\\\WeMoSwitch\\\\Setup-A-2-STA_FE.csv',\n",
       " './pcaps\\\\1\\\\AALTO\\\\WeMoSwitch\\\\Setup-A-3-STA_FE.csv',\n",
       " './pcaps\\\\1\\\\AALTO\\\\WeMoSwitch\\\\Setup-A-4-STA_FE.csv',\n",
       " './pcaps\\\\1\\\\AALTO\\\\WeMoSwitch\\\\Setup-A-5-STA_FE.csv',\n",
       " './pcaps\\\\1\\\\AALTO\\\\WeMoSwitch\\\\Setup-A-6-STA_FE.csv',\n",
       " './pcaps\\\\1\\\\AALTO\\\\WeMoSwitch\\\\Setup-A-7-STA_FE.csv',\n",
       " './pcaps\\\\1\\\\AALTO\\\\WeMoSwitch\\\\Setup-A-8-STA_FE.csv',\n",
       " './pcaps\\\\1\\\\AALTO\\\\WeMoSwitch\\\\Setup-A-9-STA_FE.csv',\n",
       " './pcaps\\\\1\\\\AALTO\\\\WeMoSwitch2\\\\Setup-C-1-STA_FE.csv',\n",
       " './pcaps\\\\1\\\\AALTO\\\\WeMoSwitch2\\\\Setup-C-2-STA_FE.csv',\n",
       " './pcaps\\\\1\\\\AALTO\\\\WeMoSwitch2\\\\Setup-C-3-STA_FE.csv',\n",
       " './pcaps\\\\1\\\\CIC\\\\2021_11_19_Active_FE.csv',\n",
       " './pcaps\\\\1\\\\D-Link-IoT-Datasets\\\\D-LinkCam1\\\\D-LinkCam1_a4-2020-12-12_FE.csv',\n",
       " './pcaps\\\\1\\\\D-Link-IoT-Datasets\\\\D-LinkCam1\\\\D-LinkCam1_a4-2020-12-13_FE.csv',\n",
       " './pcaps\\\\1\\\\D-Link-IoT-Datasets\\\\D-LinkCam2\\\\D-LinkCam2_11-2020-12-12_FE.csv',\n",
       " './pcaps\\\\1\\\\D-Link-IoT-Datasets\\\\D-LinkCam2\\\\D-LinkCam2_11-2020-12-13_FE.csv',\n",
       " './pcaps\\\\1\\\\D-Link-IoT-Datasets\\\\D-LinkDayCam1\\\\D-LinkDayCam1_5d-2020-12-12_FE.csv',\n",
       " './pcaps\\\\1\\\\D-Link-IoT-Datasets\\\\D-LinkDayCam1\\\\D-LinkDayCam1_5d-2020-12-13_FE.csv',\n",
       " './pcaps\\\\1\\\\D-Link-IoT-Datasets\\\\D-LinkDayCam6\\\\D-LinkDayCam6_e5-2020-12-12_FE.csv',\n",
       " './pcaps\\\\1\\\\D-Link-IoT-Datasets\\\\D-LinkDayCam6\\\\D-LinkDayCam6_e5-2020-12-13_FE.csv',\n",
       " './pcaps\\\\1\\\\D-Link-IoT-Datasets\\\\D-LinkSmartPlug_3b\\\\D-LinkSmartPlug_3b-2020-12-12_FE.csv',\n",
       " './pcaps\\\\1\\\\D-Link-IoT-Datasets\\\\D-LinkSmartPlug_3b\\\\D-LinkSmartPlug_3b-2020-12-13_FE.csv',\n",
       " './pcaps\\\\1\\\\D-Link-IoT-Datasets\\\\D-LinkSmartPlug_55\\\\D-LinkSmartPlug_55-2020-12-12_FE.csv',\n",
       " './pcaps\\\\1\\\\D-Link-IoT-Datasets\\\\D-LinkSmartPlug_55\\\\D-LinkSmartPlug_55-2020-12-13_FE.csv',\n",
       " './pcaps\\\\1\\\\D-Link-IoT-Datasets\\\\D-LinkSmartPlug_6e\\\\D-LinkSmartPlug_6e-2020-12-12_FE.csv',\n",
       " './pcaps\\\\1\\\\D-Link-IoT-Datasets\\\\D-LinkSmartPlug_6e\\\\D-LinkSmartPlug_6e-2020-12-13_FE.csv',\n",
       " './pcaps\\\\2\\\\AALTO\\\\EdimaxCam1\\\\Setup-A-7-STA_FE.csv',\n",
       " './pcaps\\\\2\\\\AALTO\\\\EdimaxCam1\\\\Setup-C-1-STA_FE.csv',\n",
       " './pcaps\\\\2\\\\AALTO\\\\EdimaxCam1\\\\Setup-C-2-STA_FE.csv',\n",
       " './pcaps\\\\2\\\\AALTO\\\\EdimaxCam1\\\\Setup-C-3-STA_FE.csv',\n",
       " './pcaps\\\\2\\\\AALTO\\\\EdimaxCam1\\\\Setup-C-4-STA_FE.csv',\n",
       " './pcaps\\\\2\\\\AALTO\\\\EdimaxCam1\\\\Setup-C-5-STA_FE.csv',\n",
       " './pcaps\\\\2\\\\AALTO\\\\EdimaxCam2\\\\Setup-C-1-STA_FE.csv',\n",
       " './pcaps\\\\2\\\\AALTO\\\\EdimaxCam2\\\\Setup-C-2-STA_FE.csv',\n",
       " './pcaps\\\\2\\\\AALTO\\\\EdimaxCam2\\\\Setup-C-3-STA_FE.csv',\n",
       " './pcaps\\\\2\\\\AALTO\\\\EdimaxCam2\\\\Setup-C-4-STA_FE.csv',\n",
       " './pcaps\\\\2\\\\AALTO\\\\EdnetCam1\\\\Setup-C-10-STA_FE.csv',\n",
       " './pcaps\\\\2\\\\AALTO\\\\EdnetCam1\\\\Setup-C-6-STA_FE.csv',\n",
       " './pcaps\\\\2\\\\AALTO\\\\EdnetCam1\\\\Setup-C-7-STA_FE.csv',\n",
       " './pcaps\\\\2\\\\AALTO\\\\EdnetCam1\\\\Setup-C-8-STA_FE.csv',\n",
       " './pcaps\\\\2\\\\AALTO\\\\EdnetCam1\\\\Setup-C-9-STA_FE.csv',\n",
       " './pcaps\\\\2\\\\AALTO\\\\EdnetCam2\\\\Setup-C-5-STA_FE.csv',\n",
       " './pcaps\\\\2\\\\AALTO\\\\EdnetCam2\\\\Setup-C-6-STA_FE.csv',\n",
       " './pcaps\\\\2\\\\AALTO\\\\EdnetCam2\\\\Setup-C-7-STA_FE.csv',\n",
       " './pcaps\\\\2\\\\AALTO\\\\EdnetCam2\\\\Setup-C-8-STA_FE.csv',\n",
       " './pcaps\\\\2\\\\AALTO\\\\WeMoInsightSwitch\\\\Setup-A-11-STA_FE.csv',\n",
       " './pcaps\\\\2\\\\AALTO\\\\WeMoInsightSwitch\\\\Setup-C-1-STA_FE.csv',\n",
       " './pcaps\\\\2\\\\AALTO\\\\WeMoInsightSwitch\\\\Setup-C-2-STA_FE.csv',\n",
       " './pcaps\\\\2\\\\AALTO\\\\WeMoInsightSwitch\\\\Setup-C-3-STA_FE.csv',\n",
       " './pcaps\\\\2\\\\AALTO\\\\WeMoInsightSwitch\\\\Setup-C-4-STA_FE.csv',\n",
       " './pcaps\\\\2\\\\AALTO\\\\WeMoInsightSwitch\\\\Setup-C-5-STA_FE.csv',\n",
       " './pcaps\\\\2\\\\AALTO\\\\WeMoInsightSwitch\\\\Setup-C-6-STA_FE.csv',\n",
       " './pcaps\\\\2\\\\AALTO\\\\WeMoInsightSwitch\\\\Setup-C-7-STA_FE.csv',\n",
       " './pcaps\\\\2\\\\AALTO\\\\WeMoInsightSwitch\\\\Setup-C-8-STA_FE.csv',\n",
       " './pcaps\\\\2\\\\AALTO\\\\WeMoInsightSwitch\\\\Setup-C-9-STA_FE.csv',\n",
       " './pcaps\\\\2\\\\AALTO\\\\WeMoInsightSwitch2\\\\Setup-C-4-STA_FE.csv',\n",
       " './pcaps\\\\2\\\\AALTO\\\\WeMoInsightSwitch2\\\\Setup-C-5-STA_FE.csv',\n",
       " './pcaps\\\\2\\\\AALTO\\\\WeMoSwitch\\\\Setup-C-1-STA_FE.csv',\n",
       " './pcaps\\\\2\\\\AALTO\\\\WeMoSwitch\\\\Setup-C-10-STA_FE.csv',\n",
       " './pcaps\\\\2\\\\AALTO\\\\WeMoSwitch\\\\Setup-C-2-STA_FE.csv',\n",
       " './pcaps\\\\2\\\\AALTO\\\\WeMoSwitch\\\\Setup-C-3-STA_FE.csv',\n",
       " './pcaps\\\\2\\\\AALTO\\\\WeMoSwitch\\\\Setup-C-4-STA_FE.csv',\n",
       " './pcaps\\\\2\\\\AALTO\\\\WeMoSwitch\\\\Setup-C-5-STA_FE.csv',\n",
       " './pcaps\\\\2\\\\AALTO\\\\WeMoSwitch\\\\Setup-C-6-STA_FE.csv',\n",
       " './pcaps\\\\2\\\\AALTO\\\\WeMoSwitch\\\\Setup-C-7-STA_FE.csv',\n",
       " './pcaps\\\\2\\\\AALTO\\\\WeMoSwitch\\\\Setup-C-8-STA_FE.csv',\n",
       " './pcaps\\\\2\\\\AALTO\\\\WeMoSwitch\\\\Setup-C-9-STA_FE.csv',\n",
       " './pcaps\\\\2\\\\AALTO\\\\WeMoSwitch2\\\\Setup-C-4-STA_FE.csv',\n",
       " './pcaps\\\\2\\\\AALTO\\\\WeMoSwitch2\\\\Setup-C-5-STA_FE.csv',\n",
       " './pcaps\\\\2\\\\CIC\\\\2022_01_03_Active_FE.csv',\n",
       " './pcaps\\\\2\\\\D-Link-IoT-Datasets\\\\D-LinkCam1\\\\D-LinkCam1_a4-2020-12-20_FE.csv',\n",
       " './pcaps\\\\2\\\\D-Link-IoT-Datasets\\\\D-LinkCam1\\\\D-LinkCam1_a4-2020-12-21_FE.csv',\n",
       " './pcaps\\\\2\\\\D-Link-IoT-Datasets\\\\D-LinkCam2\\\\D-LinkCam2_11-2020-12-20_FE.csv',\n",
       " './pcaps\\\\2\\\\D-Link-IoT-Datasets\\\\D-LinkCam2\\\\D-LinkCam2_11-2020-12-21_FE.csv',\n",
       " './pcaps\\\\2\\\\D-Link-IoT-Datasets\\\\D-LinkDayCam1\\\\D-LinkDayCam1_5d-2020-12-20_FE.csv',\n",
       " './pcaps\\\\2\\\\D-Link-IoT-Datasets\\\\D-LinkDayCam1\\\\D-LinkDayCam1_5d-2020-12-21_FE.csv',\n",
       " './pcaps\\\\2\\\\D-Link-IoT-Datasets\\\\D-LinkDayCam6\\\\D-LinkDayCam6_e5-2020-12-20_FE.csv',\n",
       " './pcaps\\\\2\\\\D-Link-IoT-Datasets\\\\D-LinkDayCam6\\\\D-LinkDayCam6_e5-2020-12-21_FE.csv',\n",
       " './pcaps\\\\2\\\\D-Link-IoT-Datasets\\\\D-LinkSmartPlug_3b\\\\D-LinkSmartPlug_3b-2020-12-20_FE.csv',\n",
       " './pcaps\\\\2\\\\D-Link-IoT-Datasets\\\\D-LinkSmartPlug_3b\\\\D-LinkSmartPlug_3b-2020-12-21_FE.csv',\n",
       " './pcaps\\\\2\\\\D-Link-IoT-Datasets\\\\D-LinkSmartPlug_55\\\\D-LinkSmartPlug_55-2020-12-20_FE.csv',\n",
       " './pcaps\\\\2\\\\D-Link-IoT-Datasets\\\\D-LinkSmartPlug_55\\\\D-LinkSmartPlug_55-2020-12-21_FE.csv',\n",
       " './pcaps\\\\2\\\\D-Link-IoT-Datasets\\\\D-LinkSmartPlug_6e\\\\D-LinkSmartPlug_6e-2020-12-20_FE.csv',\n",
       " './pcaps\\\\2\\\\D-Link-IoT-Datasets\\\\D-LinkSmartPlug_6e\\\\D-LinkSmartPlug_6e-2020-12-21_FE.csv']"
      ]
     },
     "execution_count": 126,
     "metadata": {},
     "output_type": "execute_result"
    }
   ],
   "source": [
    "name_list=find_the_way('./pcaps','_FE.csv')\n",
    "name_list"
   ]
  },
  {
   "cell_type": "code",
   "execution_count": 127,
   "metadata": {},
   "outputs": [
    {
     "data": {
      "text/plain": [
       "'./pcaps\\\\2\\\\D-Link-IoT-Datasets\\\\D-LinkSmartPlug_6e\\\\D-LinkSmartPlug_6e-2020-12-21_WS.csv'"
      ]
     },
     "execution_count": 127,
     "metadata": {},
     "output_type": "execute_result"
    }
   ],
   "source": [
    "i"
   ]
  },
  {
   "cell_type": "code",
   "execution_count": 128,
   "metadata": {},
   "outputs": [
    {
     "name": "stderr",
     "output_type": "stream",
     "text": [
      "100%|████████████████████████████████████████████████████████████████████████████████| 120/120 [03:22<00:00,  1.69s/it]\n"
     ]
    }
   ],
   "source": [
    "for i in tqdm(name_list):\n",
    "    df=pd.read_csv(i)\n",
    "    WS_s_d=i.replace(\"_FE.csv\",\"_WS.csv\")\n",
    "    s_d=pd.read_csv(WS_s_d)\n",
    "    df[\"WS_src\"]=s_d[\"_ws.col.Source\"]\n",
    "    df[\"WS_dst\"]=s_d[\"_ws.col.Destination\"]\n",
    "    df[\"Protocol\"]=s_d[\"_ws.col.Protocol\"]\n",
    "    y=df[\"Label\"]\n",
    "    df[\"MAC\"]=df[\"Ether_src\"]\n",
    "    del df[\"Label\"]\n",
    "    df[\"Label\"]=y\n",
    "    df.to_csv(i,index=None) \n",
    "    flag_fixer(i)\n",
    "    os.remove(WS_s_d)"
   ]
  },
  {
   "cell_type": "code",
   "execution_count": 129,
   "metadata": {},
   "outputs": [],
   "source": [
    "# SELECTED DEVICES\n",
    "macs_devicegroup1={\n",
    "#AALTO    \n",
    "\"74:da:38:80:7a:08\":\"EdimaxCam_08\",\n",
    "#\"74:da:38:80:79:fc\":\"EdimaxCam_fc\",\n",
    "\"3c:49:37:03:17:db\":\"EdnetCam_db\",\n",
    "#\"3c:49:37:03:17:f0\":\"EdnetCam_f0\",\n",
    "\"94:10:3e:41:c2:05\":\"WeMoInsightSwitch_05\",\n",
    "#\"94:10:3e:42:80:69\":\"WeMoInsightSwitch_69\",\n",
    "\"94:10:3e:35:01:c1\":\"WeMoSwitch_c1\",\n",
    "#\"94:10:3e:34:0c:b5\":\"WeMoSwitch_b5\",\n",
    "#D-LinkIoT\n",
    "\"c4:12:f5:16:40:6e\":\"LinkSmartPlug_6e\",\n",
    "#\"c4:12:f5:16:40:3b\": \"LinkSmartPlug_3b\",\n",
    "\"b2:c5:54:44:0f:a4\":\"D-LinkCam1_a4\", \n",
    "#\"b2:c5:54:44:0f:11\":\"D-LinkCam2_11\",\n",
    "\"b0:c5:54:46:48:5d\": \"D-LinkDayCam1_5d\",\n",
    "#\"b0:c5:54:42:8f:a6\":\"D-LinkDayCam4_a6\",\n",
    "#CIC-IoT-22\n",
    "\"b8:f0:09:03:9a:af\":\"GosundSocket_af\",\n",
    "#\"50:02:91:10:09:8f\":\"GosundSocket_8f\",\n",
    "\"c4:dd:57:0c:39:94\":\"GosundPlug_94\",\n",
    "#\"50:02:91:10:ac:d8\":\"GosundPlug_d8\",\n",
    "\"d4:a6:51:76:06:64\":\"TeckinPlug_64\",\n",
    "#\"d4:a6:51:78:97:4e\":\"TeckinPlug_4e\",\n",
    "\"d4:a6:51:20:91:d1\":\"YutronPlug_d1\",\n",
    "#\"d4:a6:51:21:6c:29\":\"YutronPlug_29\",\n",
    "\"1c:fe:2b:98:16:dd\":\"AmazonAlexaEchoDot_dd\"\n",
    "#\"a0:d0:dc:c4:08:ff\":\"AmazonAlexaEchoDot_ff\"\n",
    "}\n",
    "\n",
    "# SELECTED DEVICES\n",
    "macs_devicegroup2={\n",
    "#AALTO    \n",
    "#\"74:da:38:80:7a:08\":\"EdimaxCam_08\",\n",
    "\"74:da:38:80:79:fc\":\"EdimaxCam_fc\",\n",
    "#\"3c:49:37:03:17:db\":\"EdnetCam_db\",\n",
    "\"3c:49:37:03:17:f0\":\"EdnetCam_f0\",\n",
    "#\"94:10:3e:41:c2:05\":\"WeMoInsightSwitch_05\",\n",
    "\"94:10:3e:42:80:69\":\"WeMoInsightSwitch_69\",\n",
    "#\"94:10:3e:35:01:c1\":\"WeMoSwitch_c1\",\n",
    "\"94:10:3e:34:0c:b5\":\"WeMoSwitch_b5\",\n",
    "#D-LinkIoT\n",
    "#\"c4:12:f5:16:40:6e\":\"LinkSmartPlug_6e\",\n",
    "\"c4:12:f5:16:40:3b\": \"LinkSmartPlug_3b\",\n",
    "#\"b2:c5:54:44:0f:a4\":\"D-LinkCam1_a4\", \n",
    "\"b2:c5:54:44:0f:11\":\"D-LinkCam2_11\",\n",
    "#\"b0:c5:54:46:48:5d\": \"D-LinkDayCam1_5d\",\n",
    "\"b0:c5:54:42:8f:a6\":\"D-LinkDayCam4_a6\",\n",
    "#CIC-IoT-22\n",
    "#\"b8:f0:09:03:9a:af\":\"GosundSocket_af\",\n",
    "\"50:02:91:10:09:8f\":\"GosundSocket_8f\",\n",
    "#\"c4:dd:57:0c:39:94\":\"GosundPlug_94\",\n",
    "\"50:02:91:10:ac:d8\":\"GosundPlug_d8\",\n",
    "#\"d4:a6:51:76:06:64\":\"TeckinPlug_64\",\n",
    "\"d4:a6:51:78:97:4e\":\"TeckinPlug_4e\",\n",
    "#\"d4:a6:51:20:91:d1\":\"YutronPlug_d1\",\n",
    "\"d4:a6:51:21:6c:29\":\"YutronPlug_29\",\n",
    "#\"1c:fe:2b:98:16:dd\":\"AmazonAlexaEchoDot_dd\",\n",
    "\"a0:d0:dc:c4:08:ff\":\"AmazonAlexaEchoDot_ff\"}"
   ]
  },
  {
   "cell_type": "code",
   "execution_count": 130,
   "metadata": {},
   "outputs": [],
   "source": [
    "#Function that brings together disjoint csv files for ML evaluation. \n",
    "#This function also reduces the csv file size by eliminating unnecessary or unusable samples (irrelevant device names)\n",
    "\n",
    "def csv_merger(output,csvs,devices):\n",
    "    main_labels=\"ts, Ether_dst, Ether_src, IP_src, IP_dst, pck_size, Ether_type, LLC_dsap, LLC_ssap, LLC_ctrl, EAPOL_version, EAPOL_type, EAPOL_len, IP_version, IP_ihl, IP_tos, IP_len, IP_flags, IP_Z, IP_MF, IP_id, IP_chksum, IP_DF, IP_frag, IP_ttl, IP_proto, IP_options, ICMP_type, ICMP_code, ICMP_chksum, ICMP_id, ICMP_seq, ICMP_ts_ori, ICMP_ts_rx, ICMP_ts_tx, ICMP_ptr, ICMP_reserved, ICMP_length, ICMP_nexthopmtu, ICMP_unused, TCP_seq, TCP_ack, TCP_dataofs, TCP_reserved, TCP_flags, TCP_FIN, TCP_SYN, TCP_RST, TCP_PSH, TCP_ACK, TCP_URG, TCP_ECE, TCP_CWR, TCP_window, TCP_chksum, TCP_urgptr, TCP_options, UDP_len, UDP_chksum, DHCP_options, BOOTP_op, BOOTP_htype, BOOTP_hlen, BOOTP_hops, BOOTP_xid, BOOTP_secs, BOOTP_flags, BOOTP_sname, BOOTP_file, BOOTP_options, DNS_length, DNS_id, DNS_qr, DNS_opcode, DNS_aa, DNS_tc, DNS_rd, DNS_ra, DNS_z, DNS_ad, DNS_cd, DNS_rcode, DNS_qdcount, DNS_ancount, DNS_nscount, DNS_arcount, sport_class, dport_class, sport23, dport23, sport_bare, dport_bare, TCP_sport, TCP_dport, UDP_sport, UDP_dport, payload_bytes, entropy, WS_src, WS_dst, Protocol, MAC, Label\\n\"\n",
    "    ths = open(output, \"w\")\n",
    "    ths.write(main_labels)\n",
    "    for c in tqdm(csvs):\n",
    "        with open(c, \"r\") as file:\n",
    "            while True:\n",
    "                line=file.readline()\n",
    "                if line==\"\":break\n",
    "                temp=line[:-1]\n",
    "                temp=temp.split(\",\")\n",
    "                if temp[-1] in devices:\n",
    "                    ths.write(line)\n",
    "    ths.close()\n"
   ]
  },
  {
   "cell_type": "code",
   "execution_count": 131,
   "metadata": {},
   "outputs": [
    {
     "ename": "PermissionError",
     "evalue": "[Errno 13] Permission denied: 'session-1-DeviceGroup-1.csv'",
     "output_type": "error",
     "traceback": [
      "\u001b[1;31m---------------------------------------------------------------------------\u001b[0m",
      "\u001b[1;31mPermissionError\u001b[0m                           Traceback (most recent call last)",
      "Cell \u001b[1;32mIn[131], line 6\u001b[0m\n\u001b[0;32m      4\u001b[0m \u001b[38;5;66;03m# Create the final session 1 device group 1 file by eliminating unwanted, irrelevant samples using MAC addresses (device names)\u001b[39;00m\n\u001b[0;32m      5\u001b[0m devices\u001b[38;5;241m=\u001b[39m\u001b[38;5;28mlist\u001b[39m(macs_devicegroup1\u001b[38;5;241m.\u001b[39mvalues()) \u001b[38;5;66;03m#Devices names\u001b[39;00m\n\u001b[1;32m----> 6\u001b[0m \u001b[43mcsv_merger\u001b[49m\u001b[43m(\u001b[49m\u001b[38;5;124;43m\"\u001b[39;49m\u001b[38;5;124;43msession-1-DeviceGroup-1.csv\u001b[39;49m\u001b[38;5;124;43m\"\u001b[39;49m\u001b[43m,\u001b[49m\u001b[43mcsvs\u001b[49m\u001b[43m,\u001b[49m\u001b[43mdevices\u001b[49m\u001b[43m)\u001b[49m\n\u001b[0;32m      7\u001b[0m \u001b[38;5;66;03m# Create the final session 1 device group 2 file by eliminating unwanted, irrelevant samples using MAC addresses (device names)\u001b[39;00m\n\u001b[0;32m      8\u001b[0m devices\u001b[38;5;241m=\u001b[39m\u001b[38;5;28mlist\u001b[39m(macs_devicegroup2\u001b[38;5;241m.\u001b[39mvalues()) \u001b[38;5;66;03m#Devices names\u001b[39;00m\n",
      "Cell \u001b[1;32mIn[130], line 6\u001b[0m, in \u001b[0;36mcsv_merger\u001b[1;34m(output, csvs, devices)\u001b[0m\n\u001b[0;32m      4\u001b[0m \u001b[38;5;28;01mdef\u001b[39;00m \u001b[38;5;21mcsv_merger\u001b[39m(output,csvs,devices):\n\u001b[0;32m      5\u001b[0m     main_labels\u001b[38;5;241m=\u001b[39m\u001b[38;5;124m\"\u001b[39m\u001b[38;5;124mts, Ether_dst, Ether_src, IP_src, IP_dst, pck_size, Ether_type, LLC_dsap, LLC_ssap, LLC_ctrl, EAPOL_version, EAPOL_type, EAPOL_len, IP_version, IP_ihl, IP_tos, IP_len, IP_flags, IP_Z, IP_MF, IP_id, IP_chksum, IP_DF, IP_frag, IP_ttl, IP_proto, IP_options, ICMP_type, ICMP_code, ICMP_chksum, ICMP_id, ICMP_seq, ICMP_ts_ori, ICMP_ts_rx, ICMP_ts_tx, ICMP_ptr, ICMP_reserved, ICMP_length, ICMP_nexthopmtu, ICMP_unused, TCP_seq, TCP_ack, TCP_dataofs, TCP_reserved, TCP_flags, TCP_FIN, TCP_SYN, TCP_RST, TCP_PSH, TCP_ACK, TCP_URG, TCP_ECE, TCP_CWR, TCP_window, TCP_chksum, TCP_urgptr, TCP_options, UDP_len, UDP_chksum, DHCP_options, BOOTP_op, BOOTP_htype, BOOTP_hlen, BOOTP_hops, BOOTP_xid, BOOTP_secs, BOOTP_flags, BOOTP_sname, BOOTP_file, BOOTP_options, DNS_length, DNS_id, DNS_qr, DNS_opcode, DNS_aa, DNS_tc, DNS_rd, DNS_ra, DNS_z, DNS_ad, DNS_cd, DNS_rcode, DNS_qdcount, DNS_ancount, DNS_nscount, DNS_arcount, sport_class, dport_class, sport23, dport23, sport_bare, dport_bare, TCP_sport, TCP_dport, UDP_sport, UDP_dport, payload_bytes, entropy, WS_src, WS_dst, Protocol, MAC, Label\u001b[39m\u001b[38;5;130;01m\\n\u001b[39;00m\u001b[38;5;124m\"\u001b[39m\n\u001b[1;32m----> 6\u001b[0m     ths \u001b[38;5;241m=\u001b[39m \u001b[38;5;28;43mopen\u001b[39;49m\u001b[43m(\u001b[49m\u001b[43moutput\u001b[49m\u001b[43m,\u001b[49m\u001b[43m \u001b[49m\u001b[38;5;124;43m\"\u001b[39;49m\u001b[38;5;124;43mw\u001b[39;49m\u001b[38;5;124;43m\"\u001b[39;49m\u001b[43m)\u001b[49m\n\u001b[0;32m      7\u001b[0m     ths\u001b[38;5;241m.\u001b[39mwrite(main_labels)\n\u001b[0;32m      8\u001b[0m     \u001b[38;5;28;01mfor\u001b[39;00m c \u001b[38;5;129;01min\u001b[39;00m tqdm(csvs):\n",
      "File \u001b[1;32m~\\AppData\\Local\\Programs\\Python\\Python312\\Lib\\site-packages\\IPython\\core\\interactiveshell.py:310\u001b[0m, in \u001b[0;36m_modified_open\u001b[1;34m(file, *args, **kwargs)\u001b[0m\n\u001b[0;32m    303\u001b[0m \u001b[38;5;28;01mif\u001b[39;00m file \u001b[38;5;129;01min\u001b[39;00m {\u001b[38;5;241m0\u001b[39m, \u001b[38;5;241m1\u001b[39m, \u001b[38;5;241m2\u001b[39m}:\n\u001b[0;32m    304\u001b[0m     \u001b[38;5;28;01mraise\u001b[39;00m \u001b[38;5;167;01mValueError\u001b[39;00m(\n\u001b[0;32m    305\u001b[0m         \u001b[38;5;124mf\u001b[39m\u001b[38;5;124m\"\u001b[39m\u001b[38;5;124mIPython won\u001b[39m\u001b[38;5;124m'\u001b[39m\u001b[38;5;124mt let you open fd=\u001b[39m\u001b[38;5;132;01m{\u001b[39;00mfile\u001b[38;5;132;01m}\u001b[39;00m\u001b[38;5;124m by default \u001b[39m\u001b[38;5;124m\"\u001b[39m\n\u001b[0;32m    306\u001b[0m         \u001b[38;5;124m\"\u001b[39m\u001b[38;5;124mas it is likely to crash IPython. If you know what you are doing, \u001b[39m\u001b[38;5;124m\"\u001b[39m\n\u001b[0;32m    307\u001b[0m         \u001b[38;5;124m\"\u001b[39m\u001b[38;5;124myou can use builtins\u001b[39m\u001b[38;5;124m'\u001b[39m\u001b[38;5;124m open.\u001b[39m\u001b[38;5;124m\"\u001b[39m\n\u001b[0;32m    308\u001b[0m     )\n\u001b[1;32m--> 310\u001b[0m \u001b[38;5;28;01mreturn\u001b[39;00m \u001b[43mio_open\u001b[49m\u001b[43m(\u001b[49m\u001b[43mfile\u001b[49m\u001b[43m,\u001b[49m\u001b[43m \u001b[49m\u001b[38;5;241;43m*\u001b[39;49m\u001b[43margs\u001b[49m\u001b[43m,\u001b[49m\u001b[43m \u001b[49m\u001b[38;5;241;43m*\u001b[39;49m\u001b[38;5;241;43m*\u001b[39;49m\u001b[43mkwargs\u001b[49m\u001b[43m)\u001b[49m\n",
      "\u001b[1;31mPermissionError\u001b[0m: [Errno 13] Permission denied: 'session-1-DeviceGroup-1.csv'"
     ]
    }
   ],
   "source": [
    "# find all csv files in folder 1\n",
    "path=\"./pcaps/1\"\n",
    "csvs=find_the_way(path,\".csv\")\n",
    "# Create the final session 1 device group 1 file by eliminating unwanted, irrelevant samples using MAC addresses (device names)\n",
    "devices=list(macs_devicegroup1.values()) #Devices names\n",
    "csv_merger(\"session-1-DeviceGroup-1.csv\",csvs,devices)\n",
    "# Create the final session 1 device group 2 file by eliminating unwanted, irrelevant samples using MAC addresses (device names)\n",
    "devices=list(macs_devicegroup2.values()) #Devices names\n",
    "csv_merger(\"session-1-DeviceGroup-2.csv\",csvs,devices)"
   ]
  },
  {
   "cell_type": "code",
   "execution_count": null,
   "metadata": {},
   "outputs": [],
   "source": [
    "# find all csv files in folder 1\n",
    "path=\"./pcaps/2\"\n",
    "csvs=find_the_way(path,\".csv\")\n",
    "# Create the final session 2 device group 1 file by eliminating unwanted, irrelevant samples using MAC addresses (device names)\n",
    "devices=list(macs_devicegroup1.values()) #Devices names\n",
    "csv_merger(\"session-2-DeviceGroup-1.csv\",csvs,devices)\n",
    "# Create the final session 2 device group 2 file by eliminating unwanted, irrelevant samples using MAC addresses (device names)\n",
    "devices=list(macs_devicegroup2.values()) #Devices names\n",
    "csv_merger(\"session-2-DeviceGroup-2.csv\",csvs,devices)"
   ]
  },
  {
   "cell_type": "code",
   "execution_count": null,
   "metadata": {},
   "outputs": [],
   "source": []
  },
  {
   "cell_type": "code",
   "execution_count": null,
   "metadata": {},
   "outputs": [],
   "source": []
  },
  {
   "cell_type": "code",
   "execution_count": null,
   "metadata": {},
   "outputs": [],
   "source": []
  }
 ],
 "metadata": {
  "colab": {
   "collapsed_sections": [],
   "name": "(105) feature exracto_colab.ipynb",
   "provenance": []
  },
  "kernelspec": {
   "display_name": "Python 3 (ipykernel)",
   "language": "python",
   "name": "python3"
  },
  "language_info": {
   "codemirror_mode": {
    "name": "ipython",
    "version": 3
   },
   "file_extension": ".py",
   "mimetype": "text/x-python",
   "name": "python",
   "nbconvert_exporter": "python",
   "pygments_lexer": "ipython3",
   "version": "3.12.1"
  }
 },
 "nbformat": 4,
 "nbformat_minor": 4
}
