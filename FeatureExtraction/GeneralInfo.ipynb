{
 "cells": [
  {
   "cell_type": "code",
   "execution_count": null,
   "id": "47ee13da-9fa2-468a-b27d-6ffd19b8ae26",
   "metadata": {},
   "outputs": [],
   "source": []
  },
  {
   "cell_type": "markdown",
   "id": "d9e5d214-e5c5-4e95-b0a4-a693fca33eaa",
   "metadata": {},
   "source": [
    "Table 1 below shows that in some datasets (such as Aalto, CIC, MOni, Dlink) there are differences between the number of physical devices and device classes. This is because in these datasets some devices have more than one instance. For example, in the alto dataset, EdimaxCam, EdnetCam, WeMoInsightSwitch, WeMoSwitch devices have two instances each. However, since the purpose of defining device type is to identify these devices according to their make and model, these devices with the same make and model are considered as a single class. \n",
    "\n"
   ]
  },
  {
   "cell_type": "markdown",
   "id": "94fcc5e5-275f-4ec8-98b8-583a7f2fc397",
   "metadata": {},
   "source": [
    "_______________________<img src=\"./img/t1.svg\" alt=\"drawing\" width=\"800\"/>\n"
   ]
  },
  {
   "cell_type": "markdown",
   "id": "c527b748-cb95-47cd-b2e1-5efd9485898c",
   "metadata": {},
   "source": [
    "We have developed a method for feature extraction by using these devices in datasets containing more than one sample device. One of the main objectives of this method is to evaluate the ability of any feature to detect a device and to investigate the effect of the model trained using this feature on detecting another sample of the same device.\n",
    "\n",
    "Towards this goal, we will perform a three-stage feature selection using datasets with multiple device instances. In these three stages, we will use different types of data. In the first stage, we will measure the effectiveness of features from the same devices acquired in the same session. In the second, we will measure the effectiveness of features from different sessions from the same device. In the third phase, we will test features from different devices in different sessions. See Figure 1.\n"
   ]
  },
  {
   "cell_type": "markdown",
   "id": "d76c788e-4f8c-41f7-85ad-9c0affb0b922",
   "metadata": {},
   "source": [
    "________________________<img src=\"./img/3adim.svg\" alt=\"drawing\" width=\"800\"/>\n",
    "                                                              \n",
    "                                                              Figure 1\n"
   ]
  },
  {
   "cell_type": "markdown",
   "id": "b284ece4-682f-4eba-815c-4865337a01e3",
   "metadata": {},
   "source": [
    "In determining the features to extract, we initially examined the prevalent protocols in a representative dataset (Aalto). The distribution of these protocols is depicted in Figure 2.\n",
    "\n",
    "Subsequently, in selecting a feature extraction tool, we opted for Wireshark due to its notable speed and comprehensive functionality. A list of features that can be extracted using Wireshark can be accessed through the following link: https://www.wireshark.org/docs/dfref/."
   ]
  },
  {
   "cell_type": "markdown",
   "id": "3d2b66b2-b80d-4542-9f9c-12372a29e25e",
   "metadata": {},
   "source": [
    "<p align=\"center\">\n",
    "_______________________________<img src=\"./img/protokols.svg\">\n",
    "    \n",
    "                                                              Figure 2\n",
    "```python \n",
    "\n",
    "Protocol_numbers ={'RSIP': 2, 'A21': 3, 'SABP': 13, 'Gearman': 45, 'SSLv2': 57, 'XID': 150, 'IGMPv2': 155,\n",
    " 'NXP-SNF': 156, 'TFTP': 199, 'ADwinCon': 200, 'STUN': 269, 'HTTP/XML': 462, 'ICMPv6': 908, 'ICMP': 1008,\n",
    " 'EAPOL': 1275, 'IGMPv3': 1759, 'DHCP': 1969, 'NTP': 2853, 'TLSv1.2': 3568, 'HTTP/JSON': 4190, 'ARP': 4449,\n",
    " 'SSDP': 4642, 'UDP': 6726, 'HTTP': 7283, 'DNS': 8511, 'MDNS': 11868, 'TLSv1': 14751, 'TCP': 115950}"
   ]
  },
  {
   "cell_type": "markdown",
   "id": "f6f5c0ec-c082-4254-acc3-ca3c0916a2fd",
   "metadata": {},
   "source": [
    "There are approximately 5000 features related to these protocols. You can find the full list of features below."
   ]
  },
  {
   "cell_type": "code",
   "execution_count": 5,
   "id": "0a0a0b23-965c-430d-ac88-2881a6c09d4e",
   "metadata": {},
   "outputs": [
    {
     "data": {
      "text/html": [
       "<div>\n",
       "<style scoped>\n",
       "    .dataframe tbody tr th:only-of-type {\n",
       "        vertical-align: middle;\n",
       "    }\n",
       "\n",
       "    .dataframe tbody tr th {\n",
       "        vertical-align: top;\n",
       "    }\n",
       "\n",
       "    .dataframe thead th {\n",
       "        text-align: right;\n",
       "    }\n",
       "</style>\n",
       "<table border=\"1\" class=\"dataframe\">\n",
       "  <thead>\n",
       "    <tr style=\"text-align: right;\">\n",
       "      <th></th>\n",
       "      <th>Protocol</th>\n",
       "      <th>Field name</th>\n",
       "      <th>Description</th>\n",
       "      <th>Type</th>\n",
       "      <th>Versions</th>\n",
       "    </tr>\n",
       "  </thead>\n",
       "  <tbody>\n",
       "    <tr>\n",
       "      <th>0</th>\n",
       "      <td>IPv4</td>\n",
       "      <td>ip.addr</td>\n",
       "      <td>Source or Destination Address</td>\n",
       "      <td>IPv4 address</td>\n",
       "      <td>1.0.0 to 4.2.2</td>\n",
       "    </tr>\n",
       "    <tr>\n",
       "      <th>1</th>\n",
       "      <td>IPv4</td>\n",
       "      <td>ip.bogus_header_length</td>\n",
       "      <td>Bogus IP header length</td>\n",
       "      <td>Label</td>\n",
       "      <td>3.0.0 to 4.2.2</td>\n",
       "    </tr>\n",
       "    <tr>\n",
       "      <th>2</th>\n",
       "      <td>IPv4</td>\n",
       "      <td>ip.bogus_ip_length</td>\n",
       "      <td>Bogus IP length</td>\n",
       "      <td>Label</td>\n",
       "      <td>1.12.0 to 4.2.2</td>\n",
       "    </tr>\n",
       "    <tr>\n",
       "      <th>3</th>\n",
       "      <td>IPv4</td>\n",
       "      <td>ip.bogus_ip_version</td>\n",
       "      <td>Bogus IP version</td>\n",
       "      <td>Label</td>\n",
       "      <td>2.0.0 to 4.2.2</td>\n",
       "    </tr>\n",
       "    <tr>\n",
       "      <th>4</th>\n",
       "      <td>IPv4</td>\n",
       "      <td>ip.checksum</td>\n",
       "      <td>Header Checksum</td>\n",
       "      <td>Unsigned integer (16 bits)</td>\n",
       "      <td>1.0.0 to 4.2.2</td>\n",
       "    </tr>\n",
       "    <tr>\n",
       "      <th>...</th>\n",
       "      <td>...</td>\n",
       "      <td>...</td>\n",
       "      <td>...</td>\n",
       "      <td>...</td>\n",
       "      <td>...</td>\n",
       "    </tr>\n",
       "    <tr>\n",
       "      <th>4651</th>\n",
       "      <td>Ethernet</td>\n",
       "      <td>eth.type</td>\n",
       "      <td>Type</td>\n",
       "      <td>Unsigned integer (16 bits)</td>\n",
       "      <td>1.0.0 to 4.2.2</td>\n",
       "    </tr>\n",
       "    <tr>\n",
       "      <th>4652</th>\n",
       "      <td>Ethernet</td>\n",
       "      <td>eth.vlan.cfi</td>\n",
       "      <td>CFI</td>\n",
       "      <td>Unsigned integer (16 bits)</td>\n",
       "      <td>1.6.0 to 1.6.2</td>\n",
       "    </tr>\n",
       "    <tr>\n",
       "      <th>4653</th>\n",
       "      <td>Ethernet</td>\n",
       "      <td>eth.vlan.id</td>\n",
       "      <td>VLAN</td>\n",
       "      <td>Unsigned integer (16 bits)</td>\n",
       "      <td>1.6.0 to 1.6.2</td>\n",
       "    </tr>\n",
       "    <tr>\n",
       "      <th>4654</th>\n",
       "      <td>Ethernet</td>\n",
       "      <td>eth.vlan.pri</td>\n",
       "      <td>Priority</td>\n",
       "      <td>Unsigned integer (16 bits)</td>\n",
       "      <td>1.6.0 to 1.6.2</td>\n",
       "    </tr>\n",
       "    <tr>\n",
       "      <th>4655</th>\n",
       "      <td>Ethernet</td>\n",
       "      <td>eth.vlan.tpid</td>\n",
       "      <td>Identifier</td>\n",
       "      <td>Unsigned integer (16 bits)</td>\n",
       "      <td>1.6.0 to 1.6.2</td>\n",
       "    </tr>\n",
       "  </tbody>\n",
       "</table>\n",
       "<p>4656 rows × 5 columns</p>\n",
       "</div>"
      ],
      "text/plain": [
       "      Protocol              Field name                    Description  \\\n",
       "0         IPv4                 ip.addr  Source or Destination Address   \n",
       "1         IPv4  ip.bogus_header_length         Bogus IP header length   \n",
       "2         IPv4      ip.bogus_ip_length                Bogus IP length   \n",
       "3         IPv4     ip.bogus_ip_version               Bogus IP version   \n",
       "4         IPv4             ip.checksum                Header Checksum   \n",
       "...        ...                     ...                            ...   \n",
       "4651  Ethernet                eth.type                           Type   \n",
       "4652  Ethernet            eth.vlan.cfi                            CFI   \n",
       "4653  Ethernet             eth.vlan.id                           VLAN   \n",
       "4654  Ethernet            eth.vlan.pri                       Priority   \n",
       "4655  Ethernet           eth.vlan.tpid                     Identifier   \n",
       "\n",
       "                            Type         Versions  \n",
       "0                   IPv4 address   1.0.0 to 4.2.2  \n",
       "1                          Label   3.0.0 to 4.2.2  \n",
       "2                          Label  1.12.0 to 4.2.2  \n",
       "3                          Label   2.0.0 to 4.2.2  \n",
       "4     Unsigned integer (16 bits)   1.0.0 to 4.2.2  \n",
       "...                          ...              ...  \n",
       "4651  Unsigned integer (16 bits)   1.0.0 to 4.2.2  \n",
       "4652  Unsigned integer (16 bits)   1.6.0 to 1.6.2  \n",
       "4653  Unsigned integer (16 bits)   1.6.0 to 1.6.2  \n",
       "4654  Unsigned integer (16 bits)   1.6.0 to 1.6.2  \n",
       "4655  Unsigned integer (16 bits)   1.6.0 to 1.6.2  \n",
       "\n",
       "[4656 rows x 5 columns]"
      ]
     },
     "execution_count": 5,
     "metadata": {},
     "output_type": "execute_result"
    }
   ],
   "source": [
    "import pandas as pd\n",
    "data=pd.read_excel(\"./img/feature.xlsx\")\n",
    "data"
   ]
  },
  {
   "cell_type": "markdown",
   "id": "2de80225-e7f0-4721-8f58-c15010b2401f",
   "metadata": {},
   "source": [
    "However, many of these features are useless because they contain string values or descriptive information. After sifting through these features, the features listed below were obtained."
   ]
  },
  {
   "cell_type": "code",
   "execution_count": 3,
   "id": "364c75e0-1b9c-490b-b3f5-a967106681d2",
   "metadata": {},
   "outputs": [],
   "source": [
    "features=[['dns.time',  'http.time',  'icmp.data_time_relative',  'icmp.resptime',  'stun.time',  'tcp.ack',  'tcp.ack_raw',  'tcp.analysis.ack_rtt', \n",
    "           'tcp.analysis.initial_rtt',  'tcp.analysis.rto',  'tcp.nxtseq',  'tcp.options.timestamp.tsecr',  'tcp.options.timestamp.tsval', \n",
    "           'tcp.seq',  'tcp.seq_raw',  'tcp.time_delta',  'tcp.time_relative',  'udp.time_delta',  'udp.time_relative',  'arp.hw.size', \n",
    "           'arp.hw.type',  'arp.isannouncement',  'arp.isgratuitous',  'arp.isprobe',  'arp.opcode',  'arp.proto.size', \n",
    "           'arp.seconds-since-duplicate-address-frame',  'dhcp.flags.bc',  'dhcp.hops',  'dhcp.hw.addr_padding',  'dhcp.hw.len', \n",
    "           'dhcp.option.dhcp',  'dhcp.option.dhcp_max_message_size',  'dhcp.option.end',  'dhcp.option.interface_mtu', \n",
    "           'dhcp.option.ip_address_lease_time',  'dhcp.option.padding',  'dhcp.option.rebinding_time_value',  'dhcp.option.renewal_time_value',\n",
    "           'dhcp.secs',  'dhcp.type',  'dns.count.add_rr',  'dns.count.answers',  'dns.count.auth_rr',  'dns.count.queries',  'dns.extraneous', \n",
    "           'dns.extraneous.data',  'dns.extraneous.length',  'dns.flags.authenticated',  'dns.flags.authoritative',  'dns.flags.checkdisable'],\n",
    "          ['dns.flags.opcode',  'dns.flags.rcode',  'dns.flags.recavail',  'dns.flags.recdesired',  'dns.flags.response',  'dns.flags.truncated', \n",
    "           'dns.flags.z',  'dns.response_to',  'dns.retransmission',  'dns.retransmit_request',  'dns.retransmit_request_in', \n",
    "           'dns.retransmit_response',  'dns.retransmit_response_in',  'dns.soa.expire_limit',  'dns.soa.minimum_ttl',  'dns.soa.refresh_interval', \n",
    "           'dns.soa.retry_interval',  'dns.soa.serial_number',  'dns.unsolicited',  'eapol.keydes.key_iv',  'eapol.keydes.key_len', \n",
    "           'eapol.keydes.replay_counter',  'eapol.keydes.type',  'eapol.len',  'eapol.type',  'eapol.version',  'eth.dst.ig',  'eth.dst.lg', \n",
    "           'eth.dst.oui',  'eth.fcs.status',  'eth.len',  'eth.padding',  'eth.padding_bad',  'eth.src.ig',  'eth.src.lg',  'eth.src.oui',\n",
    "           'http.chat',  'http.content_length',  'http.content_length_header',  'http.notification',  'http.prev_request_in', \n",
    "           'http.prev_response_in',  'http.request',  'http.request_in',  'http.request_number',  'http.response',  'http.response.code', \n",
    "           'http.response_number',  'icmp.checksum.status',  'icmp.code',  'icmp.ident'], ['icmp.ident_le',  'icmp.resp_to',\n",
    "            'icmp.seq',  'icmp.seq_le',  'icmp.type',  'icmp.unused',  'icmpv6.checksum.status',  'icmpv6.code',  'icmpv6.mldr.nb_mcast_records',  'icmpv6.opt',  'icmpv6.opt.length',  'icmpv6.opt.type',  'icmpv6.reserved',  'icmpv6.type',  'igmp.checksum.status',  'igmp.max_resp',  'igmp.num_grp_recs',  'igmp.version',  'ip.bogus_ip_length',  'ip.len',  'ip.opt.len',  'ip.opt.ra',  'ip.opt.type',  'ip.opt.type.class',  'ip.opt.type.copy',  'ip.opt.type.number',  'ipv6.hlim',  'ipv6.hopopts.nxt',  'ipv6.nxt',  'ipv6.opt.router_alert',  'ipv6.plen',  'ipv6.tclass.dscp',  'ipv6.tclass.ecn',  'ipv6.version',  'ntp.flags.li',  'ntp.flags.mode',  'ntp.flags.vn',  'ntp.ppoll',  'ntp.precision',  'ntp.rootdelay',  'ntp.rootdispersion',  'ntp.stratum',  'stun.att.crc32.status',  'stun.att.error',  'stun.att.error.class',  'stun.att.lifetime',  'stun.attributes',  'stun.length',  'stun.network_version',  'stun.response-to',  'tcp.analysis'], ['tcp.analysis.ack_lost_segment',  'tcp.analysis.acks_frame',  'tcp.analysis.bytes_in_flight',  'tcp.analysis.duplicate_ack_frame',  'tcp.analysis.duplicate_ack_num',  'tcp.analysis.flags',  'tcp.analysis.keep_alive',  'tcp.analysis.keep_alive_ack',  'tcp.analysis.lost_segment',  'tcp.analysis.out_of_order',  'tcp.analysis.push_bytes_sent',  'tcp.analysis.retransmission',  'tcp.analysis.reused_ports',  'tcp.analysis.rto_frame',  'tcp.analysis.spurious_retransmission',  'tcp.analysis.window_update',  'tcp.checksum.status',  'tcp.completeness',  'tcp.connection.fin',  'tcp.connection.fin_active',  'tcp.connection.fin_passive',  'tcp.connection.rst',  'tcp.connection.syn',  'tcp.connection.synack',  'tcp.dstport',  'tcp.fin_retransmission',  'tcp.flags.ack',  'tcp.flags.ae',  'tcp.flags.cwr',  'tcp.flags.ece',  'tcp.flags.fin',  'tcp.flags.push',  'tcp.flags.res',  'tcp.flags.reset',  'tcp.flags.syn',  'tcp.flags.urg',  'tcp.hdr_len',  'tcp.len',  'tcp.options.mss_val',  'tcp.options.sack.count',  'tcp.options.sack.dsack',  'tcp.options.sack.dsack_le',  'tcp.options.sack.dsack_re',  'tcp.options.sack_le',  'tcp.options.sack_perm',  'tcp.options.sack_re',  'tcp.options.wscale.multiplier',  'tcp.options.wscale.shift',  'tcp.pdu.size',  'tcp.reassembled.length',  'tcp.segment.count'], ['tcp.segment.overlap',  'tcp.segments',  'tcp.srcport',  'tcp.stream',  'tcp.urgent_pointer',  'tcp.window_size',  'tcp.window_size_scalefactor',  'tcp.window_size_value',  'tls.alert_message',  'tls.change_cipher_spec',  'tls.handshake.certificates',  'tls.handshake.certificates_length',  'tls.handshake.challenge',  'tls.handshake.challenge_length',  'tls.handshake.cipher_spec_len',  'tls.handshake.cipher_suites_length',  'tls.handshake.ciphersuites',  'tls.handshake.client_point_len',  'tls.handshake.comp_method',  'tls.handshake.comp_methods',  'tls.handshake.comp_methods_length',  'tls.handshake.epms_len',  'tls.handshake.extension.heartbeat.mode',  'tls.handshake.extensions_ec_point_formats',  'tls.handshake.extensions_ec_point_formats_length',  'tls.handshake.extensions_length',  'tls.handshake.extensions_reneg_info_len',  'tls.handshake.extensions_server_name_len',  'tls.handshake.extensions_server_name_list_len',  'tls.handshake.extensions_server_name_type',  'tls.handshake.extensions_supported_groups',  'tls.handshake.extensions_supported_groups_length',  'tls.handshake.g_len',  'tls.handshake.p_len',  'tls.handshake.server_point_len',  'tls.handshake.session_id_length',  'tls.handshake.session_ticket_length',  'tls.handshake.session_ticket_lifetime_hint',  'tls.handshake.sig_hash_alg_len',  'tls.handshake.sig_hash_algs',  'tls.handshake.sig_len',  'tls.handshake.yc_len',  'tls.handshake.ys_len',  'tls.resumed',  'tls.sct.scts_length',  'udp.checksum.status',  'udp.dstport',  'udp.length',  'udp.length.bad',  'udp.possible_traceroute',  'udp.srcport'], ['udp.stream',  'eth.dst',  'eth.src',  'ipv6.dst',  'ipv6.src',  '_ws.col.Destination',  '_ws.col.Source',  'udp.payload',  'stun.cookie',  'stun.id',  'stun.value',  'tcp.options',  'tcp.options.mss',  'tcp.options.sack',  'tcp.options.wscale',  'ntp.refid',  'stun.att.username',  'arp.proto.type',  'dhcp.flags',  'dhcp.flags.reserved',  'dhcp.id',  'dns.flags',  'dns.id',  'eth.fcs',  'eth.type',  'icmp.checksum',  'icmpv6.checksum',  'igmp.checksum',  'igmp.type',  'ip.id',  'ipv6.flow',  'ipv6.tclass',  'ntp.flags',  'stun.att.crc32',  'stun.att.transp',  'stun.type',  'stun.type.class',  'stun.type.method',  'stun.type.method-assignment',  'tcp.checksum',  'tcp.flags',  'tls.handshake.server_curve_type',  'tls.handshake.server_named_curve',  'tls.handshake.version',  'udp.checksum',  'http.connection',  'http.request.method',  'http.request.uri.path',  'http.response.code.desc',  'http.response.phrase',  'dns.srv.proto'], ['tcp.flags.str',  'tcp.payload',  '_ws.col.Protocol',  'tls.handshake.sig_hash_alg',  'dhcp.hw.type',  'ip.dsfield',  'ip.flags',  'ipv6.opt.type',  'ipv6.opt.type.rest',  'stun.att.family',  'stun.att.ipv4-xord',  'stun.att.port-xord',  'tcp.segment',  'arp.duplicate-address-detected',  'arp.duplicate-address-frame',  'dns.srv.port',  'dns.srv.priority',  'dns.srv.weight',  'eth.addr.oui',  'eth.ig',  'eth.lg',  'ip.checksum.status',  'ip.dsfield.dscp',  'ip.dsfield.ecn',  'ip.flags.df',  'ip.flags.mf',  'ip.flags.rb',  'ip.frag_offset',  'ip.hdr_len',  'ip.proto',  'ip.ttl',  'ip.version',  'ipv6.opt',  'ipv6.opt.length',  'ipv6.opt.type.action',  'ipv6.opt.type.change',  'stun.att.padding',  'stun.att.port',  'stun.att.reserved',  'tcp.analysis.duplicate_ack',  'tcp.port',  'tls.record.length',  'udp.port',  'ip.dst',  'ip.src',  'ip.src_host',  'stun.att.ipv4',  'dhcp.hw.mac_addr']]\n"
   ]
  },
  {
   "cell_type": "markdown",
   "id": "5c66dc70-65d0-4ccd-98f6-ad7816eece63",
   "metadata": {},
   "source": [
    "The datasets where we can perform this experiment are Aalto, MonIoTr, D-LinkIoT, CIC-IoT-22, which contain multiple instances of the same device. Of these datasets, we will use MonIoTr, which is quite comprehensive, in the evaluation phase of our experiment. To avoid any bias against this dataset, we will not use it at all until the final phase. From the other datasets, we will only use repetitive device data. Since the Aaalto dataset is quite small, we will use all samples from this dataset. For the other two datasets, however, we performed a selection process where we chose the sessions where we could get the most relevant data.\n",
    "\n",
    "\n",
    "For example, in the CIC dataset, we chose sessions 2021.11.19 and 2022-01-03. These sessions both contained enough data for the devices involved and were not too large in file size (among the smallest files in the dataset).\n",
    "```python \n",
    "/csv\\2021_11_19_Active\n",
    "d4:a6:51:21:6c:29 6330\n",
    "b8:f0:09:03:9a:af 6733\n",
    "d4:a6:51:76:06:64 6135\n",
    "d4:a6:51:20:91:d1 6128\n",
    "b8:f0:09:03:29:79 6729\n",
    "50:02:91:1a:ce:e1 6729\n",
    "c4:dd:57:0c:39:94 6751\n",
    "50:02:91:10:09:8f 6756\n",
    "24:a1:60:14:7f:f9 6732\n",
    "50:02:91:10:ac:d8 6737\n",
    "d4:a6:51:78:97:4e 5995\n",
    "1c:fe:2b:98:16:dd 11827\n",
    "a0:d0:dc:c4:08:ff 11146\n",
    "\n",
    "\n",
    "./csv\\2022_01_03_Active\n",
    "b8:f0:09:03:29:79 6726\n",
    "24:a1:60:14:7f:f9 6745\n",
    "d4:a6:51:76:06:64 6679\n",
    "b8:f0:09:03:9a:af 6721\n",
    "d4:a6:51:20:91:d1 6610\n",
    "50:02:91:10:ac:d8 6726\n",
    "50:02:91:1a:ce:e1 6732\n",
    "d4:a6:51:78:97:4e 6366\n",
    "c4:dd:57:0c:39:94 6742\n",
    "50:02:91:10:09:8f 6720\n",
    "a0:d0:dc:c4:08:ff 9357\n",
    "d4:a6:51:21:6c:29 6604\n",
    "1c:fe:2b:98:16:dd 11715\n",
    "\n",
    "```\n",
    "\n",
    "For the D-LinkIoT data, we selected the dates 2020-12-12, 2020-12-13 and 2020-12-20, 2020-12-21, which contained data for all the devices we wanted. In other sessions these devices are not available in bulk.\n"
   ]
  },
  {
   "cell_type": "markdown",
   "id": "52b36447-a469-43eb-834a-a0adb1e05f64",
   "metadata": {},
   "source": [
    "_______________________________________<img src=\"./img/tab.svg\">\n",
    "    \n",
    "                                                              Figure 3"
   ]
  },
  {
   "cell_type": "code",
   "execution_count": null,
   "id": "fc150926-0e6d-40b0-a580-9ac5fe2153ee",
   "metadata": {},
   "outputs": [],
   "source": []
  }
 ],
 "metadata": {
  "kernelspec": {
   "display_name": "Python 3 (ipykernel)",
   "language": "python",
   "name": "python3"
  },
  "language_info": {
   "codemirror_mode": {
    "name": "ipython",
    "version": 3
   },
   "file_extension": ".py",
   "mimetype": "text/x-python",
   "name": "python",
   "nbconvert_exporter": "python",
   "pygments_lexer": "ipython3",
   "version": "3.12.1"
  }
 },
 "nbformat": 4,
 "nbformat_minor": 5
}
