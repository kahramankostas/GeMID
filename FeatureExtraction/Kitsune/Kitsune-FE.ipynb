{
 "cells": [
  {
   "cell_type": "markdown",
   "id": "3b11dbe4",
   "metadata": {},
   "source": [
    "Adapted from the [Kitsune](https://github.com/ymirsky/Kitsune-py). Code uses raw data with the pcap extension in the pcaps folder to create 115 customized csv files and saves them in the csvs folder.\n",
    "\n",
    "\n",
    "The Kitsune Study: \n",
    "\n",
    "* Paper: https://arxiv.org/abs/1802.09089\n",
    "* Code:  https://github.com/ymirsky/Kitsune-py\n"
   ]
  },
  {
   "cell_type": "code",
   "execution_count": 1,
   "id": "4e6c4dc4",
   "metadata": {},
   "outputs": [
    {
     "name": "stderr",
     "output_type": "stream",
     "text": [
      "C:\\Users\\kahra\\AppData\\Local\\Temp\\ipykernel_16280\\2980180834.py:3: DeprecationWarning: \n",
      "Pyarrow will become a required dependency of pandas in the next major release of pandas (pandas 3.0),\n",
      "(to allow more performant data types, such as the Arrow string type, and better interoperability with other libraries)\n",
      "but was not found to be installed on your system.\n",
      "If this would cause problems for you,\n",
      "please provide us feedback at https://github.com/pandas-dev/pandas/issues/54466\n",
      "        \n",
      "  import pandas as pd\n"
     ]
    },
    {
     "name": "stdout",
     "output_type": "stream",
     "text": [
      "Importing Scapy Library\n"
     ]
    }
   ],
   "source": [
    "####  import related modules\n",
    "\n",
    "import warnings\n",
    "warnings.filterwarnings(\"ignore\")\n",
    "import os\n",
    "from tqdm.auto import tqdm\n",
    "import pandas as pd\n",
    "from FeatureExtractor import *\n",
    "import numpy as np"
   ]
  },
  {
   "cell_type": "code",
   "execution_count": 2,
   "id": "7541dc1e",
   "metadata": {},
   "outputs": [],
   "source": [
    "#### Folder creator\n",
    "def folder(f_name): #this function creates a folder named \"attacks\" in the program directory.\n",
    "    try:\n",
    "        if not os.path.exists(f_name):\n",
    "            os.makedirs(f_name)\n",
    "    except OSError:\n",
    "        print (\"The folder could not be created!\")\n",
    "folder(\"csvs\")"
   ]
  },
  {
   "cell_type": "code",
   "execution_count": 15,
   "id": "793f0978-86ea-4731-8ec0-91f51391743d",
   "metadata": {},
   "outputs": [],
   "source": [
    "#### Delete unnecessary files\n",
    "def killthemall(path,key):\n",
    "    them=find_the_way(path,key)\n",
    "    for t in them:\n",
    "        try:\n",
    "            os.remove(t)\n",
    "        except:\n",
    "            print(f\"error about delete {t} file\")\n",
    "killthemall(\"./pcaps\",\".tsv\")"
   ]
  },
  {
   "cell_type": "code",
   "execution_count": 3,
   "id": "2a852505",
   "metadata": {},
   "outputs": [
    {
     "data": {
      "text/plain": [
       "['./pcaps/1\\\\AALTO\\\\EdimaxCam1\\\\Setup-A-1-STA.pcap',\n",
       " './pcaps/1\\\\AALTO\\\\EdimaxCam1\\\\Setup-A-2-STA.pcap',\n",
       " './pcaps/1\\\\AALTO\\\\EdimaxCam1\\\\Setup-A-3-STA.pcap',\n",
       " './pcaps/1\\\\AALTO\\\\EdimaxCam1\\\\Setup-A-4-STA.pcap',\n",
       " './pcaps/1\\\\AALTO\\\\EdimaxCam1\\\\Setup-A-5-STA.pcap',\n",
       " './pcaps/1\\\\AALTO\\\\EdimaxCam1\\\\Setup-A-6-STA.pcap',\n",
       " './pcaps/1\\\\AALTO\\\\EdimaxCam2\\\\Setup-A-1-STA.pcap',\n",
       " './pcaps/1\\\\AALTO\\\\EdimaxCam2\\\\Setup-A-2-STA.pcap',\n",
       " './pcaps/1\\\\AALTO\\\\EdimaxCam2\\\\Setup-A-3-STA.pcap',\n",
       " './pcaps/1\\\\AALTO\\\\EdimaxCam2\\\\Setup-A-4-STA.pcap',\n",
       " './pcaps/1\\\\AALTO\\\\EdnetCam1\\\\Setup-A-1-STA.pcap',\n",
       " './pcaps/1\\\\AALTO\\\\EdnetCam1\\\\Setup-C-1-STA.pcap',\n",
       " './pcaps/1\\\\AALTO\\\\EdnetCam1\\\\Setup-C-2-STA.pcap',\n",
       " './pcaps/1\\\\AALTO\\\\EdnetCam1\\\\Setup-C-3-STA.pcap',\n",
       " './pcaps/1\\\\AALTO\\\\EdnetCam1\\\\Setup-C-4-STA.pcap',\n",
       " './pcaps/1\\\\AALTO\\\\EdnetCam1\\\\Setup-C-5-STA.pcap',\n",
       " './pcaps/1\\\\AALTO\\\\EdnetCam2\\\\Setup-A-1-STA.pcap',\n",
       " './pcaps/1\\\\AALTO\\\\EdnetCam2\\\\Setup-C-1-STA.pcap',\n",
       " './pcaps/1\\\\AALTO\\\\EdnetCam2\\\\Setup-C-2-STA.pcap',\n",
       " './pcaps/1\\\\AALTO\\\\EdnetCam2\\\\Setup-C-3-STA.pcap',\n",
       " './pcaps/1\\\\AALTO\\\\EdnetCam2\\\\Setup-C-4-STA.pcap',\n",
       " './pcaps/1\\\\AALTO\\\\WeMoInsightSwitch\\\\Setup-A-1-STA.pcap',\n",
       " './pcaps/1\\\\AALTO\\\\WeMoInsightSwitch\\\\Setup-A-10-STA.pcap',\n",
       " './pcaps/1\\\\AALTO\\\\WeMoInsightSwitch\\\\Setup-A-2-STA.pcap',\n",
       " './pcaps/1\\\\AALTO\\\\WeMoInsightSwitch\\\\Setup-A-3-STA.pcap',\n",
       " './pcaps/1\\\\AALTO\\\\WeMoInsightSwitch\\\\Setup-A-4-STA.pcap',\n",
       " './pcaps/1\\\\AALTO\\\\WeMoInsightSwitch\\\\Setup-A-5-STA.pcap',\n",
       " './pcaps/1\\\\AALTO\\\\WeMoInsightSwitch\\\\Setup-A-6-STA.pcap',\n",
       " './pcaps/1\\\\AALTO\\\\WeMoInsightSwitch\\\\Setup-A-7-STA.pcap',\n",
       " './pcaps/1\\\\AALTO\\\\WeMoInsightSwitch\\\\Setup-A-8-STA.pcap',\n",
       " './pcaps/1\\\\AALTO\\\\WeMoInsightSwitch\\\\Setup-A-9-STA.pcap',\n",
       " './pcaps/1\\\\AALTO\\\\WeMoInsightSwitch2\\\\Setup-C-1-STA.pcap',\n",
       " './pcaps/1\\\\AALTO\\\\WeMoInsightSwitch2\\\\Setup-C-2-STA.pcap',\n",
       " './pcaps/1\\\\AALTO\\\\WeMoInsightSwitch2\\\\Setup-C-3-STA.pcap',\n",
       " './pcaps/1\\\\AALTO\\\\WeMoSwitch\\\\Setup-A-1-STA.pcap',\n",
       " './pcaps/1\\\\AALTO\\\\WeMoSwitch\\\\Setup-A-10-STA.pcap',\n",
       " './pcaps/1\\\\AALTO\\\\WeMoSwitch\\\\Setup-A-2-STA.pcap',\n",
       " './pcaps/1\\\\AALTO\\\\WeMoSwitch\\\\Setup-A-3-STA.pcap',\n",
       " './pcaps/1\\\\AALTO\\\\WeMoSwitch\\\\Setup-A-4-STA.pcap',\n",
       " './pcaps/1\\\\AALTO\\\\WeMoSwitch\\\\Setup-A-5-STA.pcap',\n",
       " './pcaps/1\\\\AALTO\\\\WeMoSwitch\\\\Setup-A-6-STA.pcap',\n",
       " './pcaps/1\\\\AALTO\\\\WeMoSwitch\\\\Setup-A-7-STA.pcap',\n",
       " './pcaps/1\\\\AALTO\\\\WeMoSwitch\\\\Setup-A-8-STA.pcap',\n",
       " './pcaps/1\\\\AALTO\\\\WeMoSwitch\\\\Setup-A-9-STA.pcap',\n",
       " './pcaps/1\\\\AALTO\\\\WeMoSwitch2\\\\Setup-C-1-STA.pcap',\n",
       " './pcaps/1\\\\AALTO\\\\WeMoSwitch2\\\\Setup-C-2-STA.pcap',\n",
       " './pcaps/1\\\\AALTO\\\\WeMoSwitch2\\\\Setup-C-3-STA.pcap',\n",
       " './pcaps/1\\\\CIC\\\\2021_11_19_Active.pcap',\n",
       " './pcaps/1\\\\D-Link-IoT-Datasets\\\\D-LinkCam1\\\\D-LinkCam1_a4-2020-12-12.pcap',\n",
       " './pcaps/1\\\\D-Link-IoT-Datasets\\\\D-LinkCam1\\\\D-LinkCam1_a4-2020-12-13.pcap',\n",
       " './pcaps/1\\\\D-Link-IoT-Datasets\\\\D-LinkCam2\\\\D-LinkCam2_11-2020-12-12.pcap',\n",
       " './pcaps/1\\\\D-Link-IoT-Datasets\\\\D-LinkCam2\\\\D-LinkCam2_11-2020-12-13.pcap',\n",
       " './pcaps/1\\\\D-Link-IoT-Datasets\\\\D-LinkDayCam1\\\\D-LinkDayCam1_5d-2020-12-12.pcap',\n",
       " './pcaps/1\\\\D-Link-IoT-Datasets\\\\D-LinkDayCam1\\\\D-LinkDayCam1_5d-2020-12-13.pcap',\n",
       " './pcaps/1\\\\D-Link-IoT-Datasets\\\\D-LinkDayCam6\\\\D-LinkDayCam6_e5-2020-12-12.pcap',\n",
       " './pcaps/1\\\\D-Link-IoT-Datasets\\\\D-LinkDayCam6\\\\D-LinkDayCam6_e5-2020-12-13.pcap',\n",
       " './pcaps/1\\\\D-Link-IoT-Datasets\\\\D-LinkSmartPlug_3b\\\\D-LinkSmartPlug_3b-2020-12-12.pcap',\n",
       " './pcaps/1\\\\D-Link-IoT-Datasets\\\\D-LinkSmartPlug_3b\\\\D-LinkSmartPlug_3b-2020-12-13.pcap',\n",
       " './pcaps/1\\\\D-Link-IoT-Datasets\\\\D-LinkSmartPlug_55\\\\D-LinkSmartPlug_55-2020-12-12.pcap',\n",
       " './pcaps/1\\\\D-Link-IoT-Datasets\\\\D-LinkSmartPlug_55\\\\D-LinkSmartPlug_55-2020-12-13.pcap',\n",
       " './pcaps/1\\\\D-Link-IoT-Datasets\\\\D-LinkSmartPlug_6e\\\\D-LinkSmartPlug_6e-2020-12-12.pcap',\n",
       " './pcaps/1\\\\D-Link-IoT-Datasets\\\\D-LinkSmartPlug_6e\\\\D-LinkSmartPlug_6e-2020-12-13.pcap',\n",
       " './pcaps/2\\\\AALTO\\\\EdimaxCam1\\\\Setup-A-7-STA.pcap',\n",
       " './pcaps/2\\\\AALTO\\\\EdimaxCam1\\\\Setup-C-1-STA.pcap',\n",
       " './pcaps/2\\\\AALTO\\\\EdimaxCam1\\\\Setup-C-2-STA.pcap',\n",
       " './pcaps/2\\\\AALTO\\\\EdimaxCam1\\\\Setup-C-3-STA.pcap',\n",
       " './pcaps/2\\\\AALTO\\\\EdimaxCam1\\\\Setup-C-4-STA.pcap',\n",
       " './pcaps/2\\\\AALTO\\\\EdimaxCam1\\\\Setup-C-5-STA.pcap',\n",
       " './pcaps/2\\\\AALTO\\\\EdimaxCam2\\\\Setup-C-1-STA.pcap',\n",
       " './pcaps/2\\\\AALTO\\\\EdimaxCam2\\\\Setup-C-2-STA.pcap',\n",
       " './pcaps/2\\\\AALTO\\\\EdimaxCam2\\\\Setup-C-3-STA.pcap',\n",
       " './pcaps/2\\\\AALTO\\\\EdimaxCam2\\\\Setup-C-4-STA.pcap',\n",
       " './pcaps/2\\\\AALTO\\\\EdnetCam1\\\\Setup-C-10-STA.pcap',\n",
       " './pcaps/2\\\\AALTO\\\\EdnetCam1\\\\Setup-C-6-STA.pcap',\n",
       " './pcaps/2\\\\AALTO\\\\EdnetCam1\\\\Setup-C-7-STA.pcap',\n",
       " './pcaps/2\\\\AALTO\\\\EdnetCam1\\\\Setup-C-8-STA.pcap',\n",
       " './pcaps/2\\\\AALTO\\\\EdnetCam1\\\\Setup-C-9-STA.pcap',\n",
       " './pcaps/2\\\\AALTO\\\\EdnetCam2\\\\Setup-C-5-STA.pcap',\n",
       " './pcaps/2\\\\AALTO\\\\EdnetCam2\\\\Setup-C-6-STA.pcap',\n",
       " './pcaps/2\\\\AALTO\\\\EdnetCam2\\\\Setup-C-7-STA.pcap',\n",
       " './pcaps/2\\\\AALTO\\\\EdnetCam2\\\\Setup-C-8-STA.pcap',\n",
       " './pcaps/2\\\\AALTO\\\\WeMoInsightSwitch\\\\Setup-A-11-STA.pcap',\n",
       " './pcaps/2\\\\AALTO\\\\WeMoInsightSwitch\\\\Setup-C-1-STA.pcap',\n",
       " './pcaps/2\\\\AALTO\\\\WeMoInsightSwitch\\\\Setup-C-2-STA.pcap',\n",
       " './pcaps/2\\\\AALTO\\\\WeMoInsightSwitch\\\\Setup-C-3-STA.pcap',\n",
       " './pcaps/2\\\\AALTO\\\\WeMoInsightSwitch\\\\Setup-C-4-STA.pcap',\n",
       " './pcaps/2\\\\AALTO\\\\WeMoInsightSwitch\\\\Setup-C-5-STA.pcap',\n",
       " './pcaps/2\\\\AALTO\\\\WeMoInsightSwitch\\\\Setup-C-6-STA.pcap',\n",
       " './pcaps/2\\\\AALTO\\\\WeMoInsightSwitch\\\\Setup-C-7-STA.pcap',\n",
       " './pcaps/2\\\\AALTO\\\\WeMoInsightSwitch\\\\Setup-C-8-STA.pcap',\n",
       " './pcaps/2\\\\AALTO\\\\WeMoInsightSwitch\\\\Setup-C-9-STA.pcap',\n",
       " './pcaps/2\\\\AALTO\\\\WeMoInsightSwitch2\\\\Setup-C-4-STA.pcap',\n",
       " './pcaps/2\\\\AALTO\\\\WeMoInsightSwitch2\\\\Setup-C-5-STA.pcap',\n",
       " './pcaps/2\\\\AALTO\\\\WeMoSwitch\\\\Setup-C-1-STA.pcap',\n",
       " './pcaps/2\\\\AALTO\\\\WeMoSwitch\\\\Setup-C-10-STA.pcap',\n",
       " './pcaps/2\\\\AALTO\\\\WeMoSwitch\\\\Setup-C-2-STA.pcap',\n",
       " './pcaps/2\\\\AALTO\\\\WeMoSwitch\\\\Setup-C-3-STA.pcap',\n",
       " './pcaps/2\\\\AALTO\\\\WeMoSwitch\\\\Setup-C-4-STA.pcap',\n",
       " './pcaps/2\\\\AALTO\\\\WeMoSwitch\\\\Setup-C-5-STA.pcap',\n",
       " './pcaps/2\\\\AALTO\\\\WeMoSwitch\\\\Setup-C-6-STA.pcap',\n",
       " './pcaps/2\\\\AALTO\\\\WeMoSwitch\\\\Setup-C-7-STA.pcap',\n",
       " './pcaps/2\\\\AALTO\\\\WeMoSwitch\\\\Setup-C-8-STA.pcap',\n",
       " './pcaps/2\\\\AALTO\\\\WeMoSwitch\\\\Setup-C-9-STA.pcap',\n",
       " './pcaps/2\\\\AALTO\\\\WeMoSwitch2\\\\Setup-C-4-STA.pcap',\n",
       " './pcaps/2\\\\AALTO\\\\WeMoSwitch2\\\\Setup-C-5-STA.pcap',\n",
       " './pcaps/2\\\\CIC\\\\2022_01_03_Active.pcap',\n",
       " './pcaps/2\\\\D-Link-IoT-Datasets\\\\D-LinkCam1\\\\D-LinkCam1_a4-2020-12-20.pcap',\n",
       " './pcaps/2\\\\D-Link-IoT-Datasets\\\\D-LinkCam1\\\\D-LinkCam1_a4-2020-12-21.pcap',\n",
       " './pcaps/2\\\\D-Link-IoT-Datasets\\\\D-LinkCam2\\\\D-LinkCam2_11-2020-12-20.pcap',\n",
       " './pcaps/2\\\\D-Link-IoT-Datasets\\\\D-LinkCam2\\\\D-LinkCam2_11-2020-12-21.pcap',\n",
       " './pcaps/2\\\\D-Link-IoT-Datasets\\\\D-LinkDayCam1\\\\D-LinkDayCam1_5d-2020-12-20.pcap',\n",
       " './pcaps/2\\\\D-Link-IoT-Datasets\\\\D-LinkDayCam1\\\\D-LinkDayCam1_5d-2020-12-21.pcap',\n",
       " './pcaps/2\\\\D-Link-IoT-Datasets\\\\D-LinkDayCam6\\\\D-LinkDayCam6_e5-2020-12-20.pcap',\n",
       " './pcaps/2\\\\D-Link-IoT-Datasets\\\\D-LinkDayCam6\\\\D-LinkDayCam6_e5-2020-12-21.pcap',\n",
       " './pcaps/2\\\\D-Link-IoT-Datasets\\\\D-LinkSmartPlug_3b\\\\D-LinkSmartPlug_3b-2020-12-20.pcap',\n",
       " './pcaps/2\\\\D-Link-IoT-Datasets\\\\D-LinkSmartPlug_3b\\\\D-LinkSmartPlug_3b-2020-12-21.pcap',\n",
       " './pcaps/2\\\\D-Link-IoT-Datasets\\\\D-LinkSmartPlug_55\\\\D-LinkSmartPlug_55-2020-12-20.pcap',\n",
       " './pcaps/2\\\\D-Link-IoT-Datasets\\\\D-LinkSmartPlug_55\\\\D-LinkSmartPlug_55-2020-12-21.pcap',\n",
       " './pcaps/2\\\\D-Link-IoT-Datasets\\\\D-LinkSmartPlug_6e\\\\D-LinkSmartPlug_6e-2020-12-20.pcap',\n",
       " './pcaps/2\\\\D-Link-IoT-Datasets\\\\D-LinkSmartPlug_6e\\\\D-LinkSmartPlug_6e-2020-12-21.pcap']"
      ]
     },
     "execution_count": 3,
     "metadata": {},
     "output_type": "execute_result"
    }
   ],
   "source": [
    "#### File finder\n",
    "def find_the_way(path,file_format,con=\"\"):\n",
    "    files_add = []\n",
    "    # r=root, d=directories, f = files\n",
    "    for r, d, f in os.walk(path):\n",
    "        for file in f:\n",
    "            if file_format in file:\n",
    "                if con in file:\n",
    "                    files_add.append(os.path.join(r, file))  \n",
    "            \n",
    "    return files_add\n",
    "path=\"pcaps\"\n",
    "\n",
    "files_add=find_the_way('./pcaps/',\".pcap\")\n",
    "files_add"
   ]
  },
  {
   "cell_type": "code",
   "execution_count": 4,
   "id": "d37948a7",
   "metadata": {},
   "outputs": [],
   "source": [
    "main_labels=ln=['MI_dir_5_weight', 'MI_dir_5_mean', 'MI_dir_5_std', 'MI_dir_3_weight', 'MI_dir_3_mean', 'MI_dir_3_std', 'MI_dir_1_weight', 'MI_dir_1_mean', 'MI_dir_1_std', 'MI_dir_0.1_weight', 'MI_dir_0.1_mean', 'MI_dir_0.1_std', 'MI_dir_0.01_weight', 'MI_dir_0.01_mean', 'MI_dir_0.01_std', 'HH_5_weight_0', 'HH_5_mean_0', 'HH_5_std_0', 'HH_5_radius_0_1', 'HH_5_magnitude_0_1', 'HH_5_covariance_0_1', 'HH_5_pcc_0_1', 'HH_3_weight_0', 'HH_3_mean_0', 'HH_3_std_0', 'HH_3_radius_0_1', 'HH_3_magnitude_0_1', 'HH_3_covariance_0_1', 'HH_3_pcc_0_1', 'HH_1_weight_0', 'HH_1_mean_0', 'HH_1_std_0', 'HH_1_radius_0_1', 'HH_1_magnitude_0_1', 'HH_1_covariance_0_1', 'HH_1_pcc_0_1', 'HH_0.1_weight_0', 'HH_0.1_mean_0', 'HH_0.1_std_0', 'HH_0.1_radius_0_1', 'HH_0.1_magnitude_0_1', 'HH_0.1_covariance_0_1', 'HH_0.1_pcc_0_1', 'HH_0.01_weight_0', 'HH_0.01_mean_0', 'HH_0.01_std_0', 'HH_0.01_radius_0_1', 'HH_0.01_magnitude_0_1', 'HH_0.01_covariance_0_1', 'HH_0.01_pcc_0_1', 'HH_jit_5_weight', 'HH_jit_5_mean', 'HH_jit_5_std', 'HH_jit_3_weight', 'HH_jit_3_mean', 'HH_jit_3_std', 'HH_jit_1_weight', 'HH_jit_1_mean', 'HH_jit_1_std', 'HH_jit_0.1_weight', 'HH_jit_0.1_mean', 'HH_jit_0.1_std', 'HH_jit_0.01_weight', 'HH_jit_0.01_mean', 'HH_jit_0.01_std', 'HpHp_5_weight_0', 'HpHp_5_mean_0', 'HpHp_5_std_0', 'HpHp_5_radius_0_1', 'HpHp_5_magnitude_0_1', 'HpHp_5_covariance_0_1', 'HpHp_5_pcc_0_1', 'HpHp_3_weight_0', 'HpHp_3_mean_0', 'HpHp_3_std_0', 'HpHp_3_radius_0_1', 'HpHp_3_magnitude_0_1', 'HpHp_3_covariance_0_1', 'HpHp_3_pcc_0_1', 'HpHp_1_weight_0', 'HpHp_1_mean_0', 'HpHp_1_std_0', 'HpHp_1_radius_0_1', 'HpHp_1_magnitude_0_1', 'HpHp_1_covariance_0_1', 'HpHp_1_pcc_0_1', 'HpHp_0.1_weight_0', 'HpHp_0.1_mean_0', 'HpHp_0.1_std_0', 'HpHp_0.1_radius_0_1', 'HpHp_0.1_magnitude_0_1', 'HpHp_0.1_covariance_0_1', 'HpHp_0.1_pcc_0_1', 'HpHp_0.01_weight_0', 'HpHp_0.01_mean_0', 'HpHp_0.01_std_0', 'HpHp_0.01_radius_0_1', 'HpHp_0.01_magnitude_0_1', 'HpHp_0.01_covariance_0_1', 'HpHp_0.01_pcc_0_1']"
   ]
  },
  {
   "cell_type": "code",
   "execution_count": 5,
   "id": "5b00cd83",
   "metadata": {},
   "outputs": [
    {
     "data": {
      "text/plain": [
       "'MI_dir_5_weight,MI_dir_5_mean,MI_dir_5_std,MI_dir_3_weight,MI_dir_3_mean,MI_dir_3_std,MI_dir_1_weight,MI_dir_1_mean,MI_dir_1_std,MI_dir_0.1_weight,MI_dir_0.1_mean,MI_dir_0.1_std,MI_dir_0.01_weight,MI_dir_0.01_mean,MI_dir_0.01_std,HH_5_weight_0,HH_5_mean_0,HH_5_std_0,HH_5_radius_0_1,HH_5_magnitude_0_1,HH_5_covariance_0_1,HH_5_pcc_0_1,HH_3_weight_0,HH_3_mean_0,HH_3_std_0,HH_3_radius_0_1,HH_3_magnitude_0_1,HH_3_covariance_0_1,HH_3_pcc_0_1,HH_1_weight_0,HH_1_mean_0,HH_1_std_0,HH_1_radius_0_1,HH_1_magnitude_0_1,HH_1_covariance_0_1,HH_1_pcc_0_1,HH_0.1_weight_0,HH_0.1_mean_0,HH_0.1_std_0,HH_0.1_radius_0_1,HH_0.1_magnitude_0_1,HH_0.1_covariance_0_1,HH_0.1_pcc_0_1,HH_0.01_weight_0,HH_0.01_mean_0,HH_0.01_std_0,HH_0.01_radius_0_1,HH_0.01_magnitude_0_1,HH_0.01_covariance_0_1,HH_0.01_pcc_0_1,HH_jit_5_weight,HH_jit_5_mean,HH_jit_5_std,HH_jit_3_weight,HH_jit_3_mean,HH_jit_3_std,HH_jit_1_weight,HH_jit_1_mean,HH_jit_1_std,HH_jit_0.1_weight,HH_jit_0.1_mean,HH_jit_0.1_std,HH_jit_0.01_weight,HH_jit_0.01_mean,HH_jit_0.01_std,HpHp_5_weight_0,HpHp_5_mean_0,HpHp_5_std_0,HpHp_5_radius_0_1,HpHp_5_magnitude_0_1,HpHp_5_covariance_0_1,HpHp_5_pcc_0_1,HpHp_3_weight_0,HpHp_3_mean_0,HpHp_3_std_0,HpHp_3_radius_0_1,HpHp_3_magnitude_0_1,HpHp_3_covariance_0_1,HpHp_3_pcc_0_1,HpHp_1_weight_0,HpHp_1_mean_0,HpHp_1_std_0,HpHp_1_radius_0_1,HpHp_1_magnitude_0_1,HpHp_1_covariance_0_1,HpHp_1_pcc_0_1,HpHp_0.1_weight_0,HpHp_0.1_mean_0,HpHp_0.1_std_0,HpHp_0.1_radius_0_1,HpHp_0.1_magnitude_0_1,HpHp_0.1_covariance_0_1,HpHp_0.1_pcc_0_1,HpHp_0.01_weight_0,HpHp_0.01_mean_0,HpHp_0.01_std_0,HpHp_0.01_radius_0_1,HpHp_0.01_magnitude_0_1,HpHp_0.01_covariance_0_1,HpHp_0.01_pcc_0_1'"
      ]
     },
     "execution_count": 5,
     "metadata": {},
     "output_type": "execute_result"
    }
   ],
   "source": [
    "main_labels=( \",\".join( i for i in main_labels ) )\n",
    "main_labels"
   ]
  },
  {
   "cell_type": "code",
   "execution_count": 6,
   "id": "2abf025c",
   "metadata": {},
   "outputs": [],
   "source": [
    "class Kitsune:\n",
    "    def __init__(self,file_path,limit,max_autoencoder_size=10,FM_grace_period=None,AD_grace_period=10000,learning_rate=0.1,hidden_ratio=0.75,):\n",
    "        #init packet feature extractor (AfterImage)\n",
    "        self.FE = FE(file_path,limit)\n",
    "    def proc_next_packet(self):\n",
    "        # create feature vector\n",
    "        x = self.FE.get_next_vector()\n",
    "        if len(x) == 0:\n",
    "            return -1 #Error or no packets left\n",
    "        return x\n"
   ]
  },
  {
   "cell_type": "code",
   "execution_count": 7,
   "id": "64434e2d-973e-4b86-bce8-b4fa20db2abf",
   "metadata": {},
   "outputs": [],
   "source": [
    "def howmanylines(file):\n",
    "    with open(file, 'r') as fp:\n",
    "        x = len(fp.readlines())\n",
    "        return x"
   ]
  },
  {
   "cell_type": "code",
   "execution_count": 8,
   "id": "94b7bff6",
   "metadata": {},
   "outputs": [],
   "source": [
    "# KitNET params:\n",
    "maxAE = 10 #maximum size for any autoencoder in the ensemble layer\n",
    "FMgrace = 5000 #the number of instances taken to learn the feature mapping (the ensemble's architecture)\n",
    "ADgrace = 50000 #the number of instances used to train the anomaly detector (ensemble itself)\n",
    "limit=np.inf"
   ]
  },
  {
   "cell_type": "code",
   "execution_count": 9,
   "id": "c9e64ab5",
   "metadata": {},
   "outputs": [],
   "source": [
    "macrenamer={\n",
    "#AALTO    \n",
    "\"74:da:38:80:7a:08\":\"EdimaxCam_08\",\n",
    "\"74:da:38:80:79:fc\":\"EdimaxCam_fc\",\n",
    "\"3c:49:37:03:17:db\":\"EdnetCam_db\",\n",
    "\"3c:49:37:03:17:f0\":\"EdnetCam_f0\",\n",
    "\"94:10:3e:41:c2:05\":\"WeMoInsightSwitch_05\",\n",
    "\"94:10:3e:42:80:69\":\"WeMoInsightSwitch_69\",\n",
    "\"94:10:3e:35:01:c1\":\"WeMoSwitch_c1\",\n",
    "\"94:10:3e:34:0c:b5\":\"WeMoSwitch_b5\",\n",
    "#D-LinkIoT\n",
    "\"c4:12:f5:16:40:55\": \"LinkSmartPlug_55\",\n",
    "\"c4:12:f5:16:40:6e\":\"LinkSmartPlug_6e\",\n",
    "\"c4:12:f5:16:40:3b\": \"LinkSmartPlug_3b\",\n",
    "\"b2:c5:54:44:0f:a4\":\"D-LinkCam1_a4\", \n",
    "\"b2:c5:54:44:0f:11\":\"D-LinkCam2_11\",\n",
    "\"b0:c5:54:3d:3f:8f\":\"D-LinkDayCam3_8f\", \n",
    "\"b0:c5:54:42:8f:a6\":\"D-LinkDayCam4_a6\",\n",
    "\"b0:c5:54:46:48:5d\": \"D-LinkDayCam1_5d\",\n",
    "\"b0:c5:54:42:8f:e5\":\"D-LinkDayCam5_e5\", \n",
    "\"b0:c5:54:3d:3e:93\": \"D-LinkDayCam2_93\",\n",
    "\"b0:c5:54:42:8f:88\":\"D-LinkDayCam6_88\" ,\n",
    "#CIC-IoT-22\n",
    "\"b8:f0:09:03:9a:af\":\"GosundSocket_af\",\n",
    "\"50:02:91:1a:ce:e1\":\"GosundSocket_e1\",\n",
    "\"50:02:91:10:09:8f\":\"GosundSocket_8f\",\n",
    "\"c4:dd:57:0c:39:94\":\"GosundPlug_94\",\n",
    "\"b8:f0:09:03:29:79\":\"GosundPlug_79\",\n",
    "\"24:a1:60:14:7f:f9\":\"GosundPlug_f9\",\n",
    "\"50:02:91:10:ac:d8\":\"GosundPlug_d8\",\n",
    "\"d4:a6:51:76:06:64\":\"TeckinPlug_64\",\n",
    "\"d4:a6:51:78:97:4e\":\"TeckinPlug_4e\",\n",
    "\"d4:a6:51:20:91:d1\":\"YutronPlug_d1\",\n",
    "\"d4:a6:51:21:6c:29\":\"YutronPlug_29\",\n",
    "\"1c:fe:2b:98:16:dd\":\"AmazonAlexaEchoDot_dd\",\n",
    "\"a0:d0:dc:c4:08:ff\":\"AmazonAlexaEchoDot_ff\"}\n"
   ]
  },
  {
   "cell_type": "code",
   "execution_count": 11,
   "id": "3c3e1929",
   "metadata": {},
   "outputs": [
    {
     "name": "stdout",
     "output_type": "stream",
     "text": [
      "Parsing with tshark...\n",
      "tshark parsing complete. File saved as: ./pcaps/1\\AALTO\\EdimaxCam1\\Setup-A-1-STA.pcap.tsv\n",
      "counting lines in file...\n",
      "There are 50 Packets.\n"
     ]
    },
    {
     "data": {
      "application/vnd.jupyter.widget-view+json": {
       "model_id": "761a63d7056a49ee90819dbf415a3fb2",
       "version_major": 2,
       "version_minor": 0
      },
      "text/plain": [
       "  0%|          | 0/50 [00:00<?, ?it/s]"
      ]
     },
     "metadata": {},
     "output_type": "display_data"
    },
    {
     "name": "stdout",
     "output_type": "stream",
     "text": [
      "Complete. Time elapsed: 0.07864189147949219\n",
      "Parsing with tshark...\n",
      "tshark parsing complete. File saved as: ./pcaps/1\\AALTO\\EdimaxCam1\\Setup-A-2-STA.pcap.tsv\n",
      "counting lines in file...\n",
      "There are 42 Packets.\n"
     ]
    },
    {
     "data": {
      "application/vnd.jupyter.widget-view+json": {
       "model_id": "43e5d73f213f461c98224b8cfcd44f70",
       "version_major": 2,
       "version_minor": 0
      },
      "text/plain": [
       "  0%|          | 0/42 [00:00<?, ?it/s]"
      ]
     },
     "metadata": {},
     "output_type": "display_data"
    },
    {
     "name": "stdout",
     "output_type": "stream",
     "text": [
      "Complete. Time elapsed: 0.04758477210998535\n",
      "Parsing with tshark...\n",
      "tshark parsing complete. File saved as: ./pcaps/1\\AALTO\\EdimaxCam1\\Setup-A-3-STA.pcap.tsv\n",
      "counting lines in file...\n",
      "There are 56 Packets.\n"
     ]
    },
    {
     "data": {
      "application/vnd.jupyter.widget-view+json": {
       "model_id": "791574bfef564f84be6929ab9b3d94d0",
       "version_major": 2,
       "version_minor": 0
      },
      "text/plain": [
       "  0%|          | 0/56 [00:00<?, ?it/s]"
      ]
     },
     "metadata": {},
     "output_type": "display_data"
    },
    {
     "name": "stdout",
     "output_type": "stream",
     "text": [
      "Complete. Time elapsed: 0.09449481964111328\n",
      "Parsing with tshark...\n",
      "tshark parsing complete. File saved as: ./pcaps/1\\AALTO\\EdimaxCam1\\Setup-A-4-STA.pcap.tsv\n",
      "counting lines in file...\n",
      "There are 46 Packets.\n"
     ]
    },
    {
     "data": {
      "application/vnd.jupyter.widget-view+json": {
       "model_id": "878045cb42ec456d830adfdb0f8dfe0a",
       "version_major": 2,
       "version_minor": 0
      },
      "text/plain": [
       "  0%|          | 0/46 [00:00<?, ?it/s]"
      ]
     },
     "metadata": {},
     "output_type": "display_data"
    },
    {
     "name": "stdout",
     "output_type": "stream",
     "text": [
      "Complete. Time elapsed: 0.056268930435180664\n",
      "Parsing with tshark...\n",
      "tshark parsing complete. File saved as: ./pcaps/1\\AALTO\\EdimaxCam1\\Setup-A-5-STA.pcap.tsv\n",
      "counting lines in file...\n",
      "There are 41 Packets.\n"
     ]
    },
    {
     "data": {
      "application/vnd.jupyter.widget-view+json": {
       "model_id": "67dcbcd2b503480eb82be2d1ce3c7011",
       "version_major": 2,
       "version_minor": 0
      },
      "text/plain": [
       "  0%|          | 0/41 [00:00<?, ?it/s]"
      ]
     },
     "metadata": {},
     "output_type": "display_data"
    },
    {
     "name": "stdout",
     "output_type": "stream",
     "text": [
      "Complete. Time elapsed: 0.040970802307128906\n",
      "Parsing with tshark...\n",
      "tshark parsing complete. File saved as: ./pcaps/1\\AALTO\\EdimaxCam1\\Setup-A-6-STA.pcap.tsv\n",
      "counting lines in file...\n",
      "There are 41 Packets.\n"
     ]
    },
    {
     "data": {
      "application/vnd.jupyter.widget-view+json": {
       "model_id": "f2daac896fc441d5b870e4808d86d662",
       "version_major": 2,
       "version_minor": 0
      },
      "text/plain": [
       "  0%|          | 0/41 [00:00<?, ?it/s]"
      ]
     },
     "metadata": {},
     "output_type": "display_data"
    },
    {
     "name": "stdout",
     "output_type": "stream",
     "text": [
      "Complete. Time elapsed: 0.030574560165405273\n",
      "Parsing with tshark...\n",
      "tshark parsing complete. File saved as: ./pcaps/1\\AALTO\\EdimaxCam2\\Setup-A-1-STA.pcap.tsv\n",
      "counting lines in file...\n",
      "There are 43 Packets.\n"
     ]
    },
    {
     "data": {
      "application/vnd.jupyter.widget-view+json": {
       "model_id": "29dd036a245e4dcfad01de641a58ffa7",
       "version_major": 2,
       "version_minor": 0
      },
      "text/plain": [
       "  0%|          | 0/43 [00:00<?, ?it/s]"
      ]
     },
     "metadata": {},
     "output_type": "display_data"
    },
    {
     "name": "stdout",
     "output_type": "stream",
     "text": [
      "Complete. Time elapsed: 0.03641319274902344\n",
      "Parsing with tshark...\n",
      "tshark parsing complete. File saved as: ./pcaps/1\\AALTO\\EdimaxCam2\\Setup-A-2-STA.pcap.tsv\n",
      "counting lines in file...\n",
      "There are 43 Packets.\n"
     ]
    },
    {
     "data": {
      "application/vnd.jupyter.widget-view+json": {
       "model_id": "c26252656a804790ba7c909d743febc2",
       "version_major": 2,
       "version_minor": 0
      },
      "text/plain": [
       "  0%|          | 0/43 [00:00<?, ?it/s]"
      ]
     },
     "metadata": {},
     "output_type": "display_data"
    },
    {
     "name": "stdout",
     "output_type": "stream",
     "text": [
      "Complete. Time elapsed: 0.036568403244018555\n",
      "Parsing with tshark...\n",
      "tshark parsing complete. File saved as: ./pcaps/1\\AALTO\\EdimaxCam2\\Setup-A-3-STA.pcap.tsv\n",
      "counting lines in file...\n",
      "There are 53 Packets.\n"
     ]
    },
    {
     "data": {
      "application/vnd.jupyter.widget-view+json": {
       "model_id": "660d2adc20704a21b2dda66900eabf25",
       "version_major": 2,
       "version_minor": 0
      },
      "text/plain": [
       "  0%|          | 0/53 [00:00<?, ?it/s]"
      ]
     },
     "metadata": {},
     "output_type": "display_data"
    },
    {
     "name": "stdout",
     "output_type": "stream",
     "text": [
      "Complete. Time elapsed: 0.06056618690490723\n",
      "Parsing with tshark...\n",
      "tshark parsing complete. File saved as: ./pcaps/1\\AALTO\\EdimaxCam2\\Setup-A-4-STA.pcap.tsv\n",
      "counting lines in file...\n",
      "There are 42 Packets.\n"
     ]
    },
    {
     "data": {
      "application/vnd.jupyter.widget-view+json": {
       "model_id": "dafdbe5376f547439dc6f42ee4c0ca4d",
       "version_major": 2,
       "version_minor": 0
      },
      "text/plain": [
       "  0%|          | 0/42 [00:00<?, ?it/s]"
      ]
     },
     "metadata": {},
     "output_type": "display_data"
    },
    {
     "name": "stdout",
     "output_type": "stream",
     "text": [
      "Complete. Time elapsed: 0.055864810943603516\n",
      "Parsing with tshark...\n",
      "tshark parsing complete. File saved as: ./pcaps/1\\AALTO\\EdnetCam1\\Setup-A-1-STA.pcap.tsv\n",
      "counting lines in file...\n",
      "There are 22 Packets.\n"
     ]
    },
    {
     "data": {
      "application/vnd.jupyter.widget-view+json": {
       "model_id": "648a83f09e0f445eaa25d109176092d8",
       "version_major": 2,
       "version_minor": 0
      },
      "text/plain": [
       "  0%|          | 0/22 [00:00<?, ?it/s]"
      ]
     },
     "metadata": {},
     "output_type": "display_data"
    },
    {
     "name": "stdout",
     "output_type": "stream",
     "text": [
      "Complete. Time elapsed: 0.02478194236755371\n",
      "Parsing with tshark...\n",
      "tshark parsing complete. File saved as: ./pcaps/1\\AALTO\\EdnetCam1\\Setup-C-1-STA.pcap.tsv\n",
      "counting lines in file...\n",
      "There are 20 Packets.\n"
     ]
    },
    {
     "data": {
      "application/vnd.jupyter.widget-view+json": {
       "model_id": "c8d45c1cb96d4ebf8d549ea99c0ac783",
       "version_major": 2,
       "version_minor": 0
      },
      "text/plain": [
       "  0%|          | 0/20 [00:00<?, ?it/s]"
      ]
     },
     "metadata": {},
     "output_type": "display_data"
    },
    {
     "name": "stdout",
     "output_type": "stream",
     "text": [
      "Complete. Time elapsed: 0.01298069953918457\n",
      "Parsing with tshark...\n",
      "tshark parsing complete. File saved as: ./pcaps/1\\AALTO\\EdnetCam1\\Setup-C-2-STA.pcap.tsv\n",
      "counting lines in file...\n",
      "There are 24 Packets.\n"
     ]
    },
    {
     "data": {
      "application/vnd.jupyter.widget-view+json": {
       "model_id": "a026b2ceb0d240f39092af4dd3258d09",
       "version_major": 2,
       "version_minor": 0
      },
      "text/plain": [
       "  0%|          | 0/24 [00:00<?, ?it/s]"
      ]
     },
     "metadata": {},
     "output_type": "display_data"
    },
    {
     "name": "stdout",
     "output_type": "stream",
     "text": [
      "Complete. Time elapsed: 0.021883487701416016\n",
      "Parsing with tshark...\n",
      "tshark parsing complete. File saved as: ./pcaps/1\\AALTO\\EdnetCam1\\Setup-C-3-STA.pcap.tsv\n",
      "counting lines in file...\n",
      "There are 24 Packets.\n"
     ]
    },
    {
     "data": {
      "application/vnd.jupyter.widget-view+json": {
       "model_id": "842781570cc444f3b187abb8bfccfa85",
       "version_major": 2,
       "version_minor": 0
      },
      "text/plain": [
       "  0%|          | 0/24 [00:00<?, ?it/s]"
      ]
     },
     "metadata": {},
     "output_type": "display_data"
    },
    {
     "name": "stdout",
     "output_type": "stream",
     "text": [
      "Complete. Time elapsed: 0.028064966201782227\n",
      "Parsing with tshark...\n",
      "tshark parsing complete. File saved as: ./pcaps/1\\AALTO\\EdnetCam1\\Setup-C-4-STA.pcap.tsv\n",
      "counting lines in file...\n",
      "There are 24 Packets.\n"
     ]
    },
    {
     "data": {
      "application/vnd.jupyter.widget-view+json": {
       "model_id": "cf5ab659d1ff44b0a435095ca97e2d92",
       "version_major": 2,
       "version_minor": 0
      },
      "text/plain": [
       "  0%|          | 0/24 [00:00<?, ?it/s]"
      ]
     },
     "metadata": {},
     "output_type": "display_data"
    },
    {
     "name": "stdout",
     "output_type": "stream",
     "text": [
      "Complete. Time elapsed: 0.011700868606567383\n",
      "Parsing with tshark...\n",
      "tshark parsing complete. File saved as: ./pcaps/1\\AALTO\\EdnetCam1\\Setup-C-5-STA.pcap.tsv\n",
      "counting lines in file...\n",
      "There are 27 Packets.\n"
     ]
    },
    {
     "data": {
      "application/vnd.jupyter.widget-view+json": {
       "model_id": "074b10650e33409282105192ea3a57ef",
       "version_major": 2,
       "version_minor": 0
      },
      "text/plain": [
       "  0%|          | 0/27 [00:00<?, ?it/s]"
      ]
     },
     "metadata": {},
     "output_type": "display_data"
    },
    {
     "name": "stdout",
     "output_type": "stream",
     "text": [
      "Complete. Time elapsed: 0.024868011474609375\n",
      "Parsing with tshark...\n",
      "tshark parsing complete. File saved as: ./pcaps/1\\AALTO\\EdnetCam2\\Setup-A-1-STA.pcap.tsv\n",
      "counting lines in file...\n",
      "There are 23 Packets.\n"
     ]
    },
    {
     "data": {
      "application/vnd.jupyter.widget-view+json": {
       "model_id": "7d1b1db6937b4897bc02d9701a9b4c51",
       "version_major": 2,
       "version_minor": 0
      },
      "text/plain": [
       "  0%|          | 0/23 [00:00<?, ?it/s]"
      ]
     },
     "metadata": {},
     "output_type": "display_data"
    },
    {
     "name": "stdout",
     "output_type": "stream",
     "text": [
      "Complete. Time elapsed: 0.03406500816345215\n",
      "Parsing with tshark...\n",
      "tshark parsing complete. File saved as: ./pcaps/1\\AALTO\\EdnetCam2\\Setup-C-1-STA.pcap.tsv\n",
      "counting lines in file...\n",
      "There are 22 Packets.\n"
     ]
    },
    {
     "data": {
      "application/vnd.jupyter.widget-view+json": {
       "model_id": "4ea8dd1cf23e4f23a8dcc6bb29743a0e",
       "version_major": 2,
       "version_minor": 0
      },
      "text/plain": [
       "  0%|          | 0/22 [00:00<?, ?it/s]"
      ]
     },
     "metadata": {},
     "output_type": "display_data"
    },
    {
     "name": "stdout",
     "output_type": "stream",
     "text": [
      "Complete. Time elapsed: 0.007468461990356445\n",
      "Parsing with tshark...\n",
      "tshark parsing complete. File saved as: ./pcaps/1\\AALTO\\EdnetCam2\\Setup-C-2-STA.pcap.tsv\n",
      "counting lines in file...\n",
      "There are 25 Packets.\n"
     ]
    },
    {
     "data": {
      "application/vnd.jupyter.widget-view+json": {
       "model_id": "c51854ccd2344a94b9748a3edad3275b",
       "version_major": 2,
       "version_minor": 0
      },
      "text/plain": [
       "  0%|          | 0/25 [00:00<?, ?it/s]"
      ]
     },
     "metadata": {},
     "output_type": "display_data"
    },
    {
     "name": "stdout",
     "output_type": "stream",
     "text": [
      "Complete. Time elapsed: 0.031042098999023438\n",
      "Parsing with tshark...\n",
      "tshark parsing complete. File saved as: ./pcaps/1\\AALTO\\EdnetCam2\\Setup-C-3-STA.pcap.tsv\n",
      "counting lines in file...\n",
      "There are 39 Packets.\n"
     ]
    },
    {
     "data": {
      "application/vnd.jupyter.widget-view+json": {
       "model_id": "e6aad5dd610e4c3f81c36bb91a50de2a",
       "version_major": 2,
       "version_minor": 0
      },
      "text/plain": [
       "  0%|          | 0/39 [00:00<?, ?it/s]"
      ]
     },
     "metadata": {},
     "output_type": "display_data"
    },
    {
     "name": "stdout",
     "output_type": "stream",
     "text": [
      "Complete. Time elapsed: 0.03388071060180664\n",
      "Parsing with tshark...\n",
      "tshark parsing complete. File saved as: ./pcaps/1\\AALTO\\EdnetCam2\\Setup-C-4-STA.pcap.tsv\n",
      "counting lines in file...\n",
      "There are 21 Packets.\n"
     ]
    },
    {
     "data": {
      "application/vnd.jupyter.widget-view+json": {
       "model_id": "5bd6e1483d8a4c858a327dd8cc1480a7",
       "version_major": 2,
       "version_minor": 0
      },
      "text/plain": [
       "  0%|          | 0/21 [00:00<?, ?it/s]"
      ]
     },
     "metadata": {},
     "output_type": "display_data"
    },
    {
     "name": "stdout",
     "output_type": "stream",
     "text": [
      "Complete. Time elapsed: 0.01951146125793457\n",
      "Parsing with tshark...\n",
      "tshark parsing complete. File saved as: ./pcaps/1\\AALTO\\WeMoInsightSwitch\\Setup-A-1-STA.pcap.tsv\n",
      "counting lines in file...\n",
      "There are 327 Packets.\n"
     ]
    },
    {
     "data": {
      "application/vnd.jupyter.widget-view+json": {
       "model_id": "d53ff3a343244f15a70fce71284fdd83",
       "version_major": 2,
       "version_minor": 0
      },
      "text/plain": [
       "  0%|          | 0/327 [00:00<?, ?it/s]"
      ]
     },
     "metadata": {},
     "output_type": "display_data"
    },
    {
     "name": "stdout",
     "output_type": "stream",
     "text": [
      "Complete. Time elapsed: 0.21858549118041992\n",
      "Parsing with tshark...\n",
      "tshark parsing complete. File saved as: ./pcaps/1\\AALTO\\WeMoInsightSwitch\\Setup-A-10-STA.pcap.tsv\n",
      "counting lines in file...\n",
      "There are 446 Packets.\n"
     ]
    },
    {
     "data": {
      "application/vnd.jupyter.widget-view+json": {
       "model_id": "2d4f1acb3fc64565a606317806dac123",
       "version_major": 2,
       "version_minor": 0
      },
      "text/plain": [
       "  0%|          | 0/446 [00:00<?, ?it/s]"
      ]
     },
     "metadata": {},
     "output_type": "display_data"
    },
    {
     "name": "stdout",
     "output_type": "stream",
     "text": [
      "Complete. Time elapsed: 0.31249427795410156\n",
      "Parsing with tshark...\n",
      "tshark parsing complete. File saved as: ./pcaps/1\\AALTO\\WeMoInsightSwitch\\Setup-A-2-STA.pcap.tsv\n",
      "counting lines in file...\n",
      "There are 274 Packets.\n"
     ]
    },
    {
     "data": {
      "application/vnd.jupyter.widget-view+json": {
       "model_id": "dd6dadd3908140c4b5dc47fe887599d6",
       "version_major": 2,
       "version_minor": 0
      },
      "text/plain": [
       "  0%|          | 0/274 [00:00<?, ?it/s]"
      ]
     },
     "metadata": {},
     "output_type": "display_data"
    },
    {
     "name": "stdout",
     "output_type": "stream",
     "text": [
      "Complete. Time elapsed: 0.17075347900390625\n",
      "Parsing with tshark...\n",
      "tshark parsing complete. File saved as: ./pcaps/1\\AALTO\\WeMoInsightSwitch\\Setup-A-3-STA.pcap.tsv\n",
      "counting lines in file...\n",
      "There are 276 Packets.\n"
     ]
    },
    {
     "data": {
      "application/vnd.jupyter.widget-view+json": {
       "model_id": "a519179945ce48d39eaec4e2bd258654",
       "version_major": 2,
       "version_minor": 0
      },
      "text/plain": [
       "  0%|          | 0/276 [00:00<?, ?it/s]"
      ]
     },
     "metadata": {},
     "output_type": "display_data"
    },
    {
     "name": "stdout",
     "output_type": "stream",
     "text": [
      "Complete. Time elapsed: 0.20479702949523926\n",
      "Parsing with tshark...\n",
      "tshark parsing complete. File saved as: ./pcaps/1\\AALTO\\WeMoInsightSwitch\\Setup-A-4-STA.pcap.tsv\n",
      "counting lines in file...\n",
      "There are 299 Packets.\n"
     ]
    },
    {
     "data": {
      "application/vnd.jupyter.widget-view+json": {
       "model_id": "d7315954cd0c4828993ae066330fb17c",
       "version_major": 2,
       "version_minor": 0
      },
      "text/plain": [
       "  0%|          | 0/299 [00:00<?, ?it/s]"
      ]
     },
     "metadata": {},
     "output_type": "display_data"
    },
    {
     "name": "stdout",
     "output_type": "stream",
     "text": [
      "Complete. Time elapsed: 0.23692536354064941\n",
      "Parsing with tshark...\n",
      "tshark parsing complete. File saved as: ./pcaps/1\\AALTO\\WeMoInsightSwitch\\Setup-A-5-STA.pcap.tsv\n",
      "counting lines in file...\n",
      "There are 288 Packets.\n"
     ]
    },
    {
     "data": {
      "application/vnd.jupyter.widget-view+json": {
       "model_id": "6dd7ebf77d5e43e8b2c1d145131b4e0c",
       "version_major": 2,
       "version_minor": 0
      },
      "text/plain": [
       "  0%|          | 0/288 [00:00<?, ?it/s]"
      ]
     },
     "metadata": {},
     "output_type": "display_data"
    },
    {
     "name": "stdout",
     "output_type": "stream",
     "text": [
      "Complete. Time elapsed: 0.21358966827392578\n",
      "Parsing with tshark...\n",
      "tshark parsing complete. File saved as: ./pcaps/1\\AALTO\\WeMoInsightSwitch\\Setup-A-6-STA.pcap.tsv\n",
      "counting lines in file...\n",
      "There are 414 Packets.\n"
     ]
    },
    {
     "data": {
      "application/vnd.jupyter.widget-view+json": {
       "model_id": "c83ac529811e4a238b13122d511d8711",
       "version_major": 2,
       "version_minor": 0
      },
      "text/plain": [
       "  0%|          | 0/414 [00:00<?, ?it/s]"
      ]
     },
     "metadata": {},
     "output_type": "display_data"
    },
    {
     "name": "stdout",
     "output_type": "stream",
     "text": [
      "Complete. Time elapsed: 0.29071927070617676\n",
      "Parsing with tshark...\n",
      "tshark parsing complete. File saved as: ./pcaps/1\\AALTO\\WeMoInsightSwitch\\Setup-A-7-STA.pcap.tsv\n",
      "counting lines in file...\n",
      "There are 315 Packets.\n"
     ]
    },
    {
     "data": {
      "application/vnd.jupyter.widget-view+json": {
       "model_id": "da545b2ea92b4f31884d85871eb8ec8a",
       "version_major": 2,
       "version_minor": 0
      },
      "text/plain": [
       "  0%|          | 0/315 [00:00<?, ?it/s]"
      ]
     },
     "metadata": {},
     "output_type": "display_data"
    },
    {
     "name": "stdout",
     "output_type": "stream",
     "text": [
      "Complete. Time elapsed: 0.2626819610595703\n",
      "Parsing with tshark...\n",
      "tshark parsing complete. File saved as: ./pcaps/1\\AALTO\\WeMoInsightSwitch\\Setup-A-8-STA.pcap.tsv\n",
      "counting lines in file...\n",
      "There are 307 Packets.\n"
     ]
    },
    {
     "data": {
      "application/vnd.jupyter.widget-view+json": {
       "model_id": "cb7de4534b6846e5a0f1b9bb2aee2cbf",
       "version_major": 2,
       "version_minor": 0
      },
      "text/plain": [
       "  0%|          | 0/307 [00:00<?, ?it/s]"
      ]
     },
     "metadata": {},
     "output_type": "display_data"
    },
    {
     "name": "stdout",
     "output_type": "stream",
     "text": [
      "Complete. Time elapsed: 0.1962134838104248\n",
      "Parsing with tshark...\n",
      "tshark parsing complete. File saved as: ./pcaps/1\\AALTO\\WeMoInsightSwitch\\Setup-A-9-STA.pcap.tsv\n",
      "counting lines in file...\n",
      "There are 534 Packets.\n"
     ]
    },
    {
     "data": {
      "application/vnd.jupyter.widget-view+json": {
       "model_id": "1d38110656c44c18907276d0e9470604",
       "version_major": 2,
       "version_minor": 0
      },
      "text/plain": [
       "  0%|          | 0/534 [00:00<?, ?it/s]"
      ]
     },
     "metadata": {},
     "output_type": "display_data"
    },
    {
     "name": "stdout",
     "output_type": "stream",
     "text": [
      "Complete. Time elapsed: 0.44004201889038086\n",
      "Parsing with tshark...\n",
      "tshark parsing complete. File saved as: ./pcaps/1\\AALTO\\WeMoInsightSwitch2\\Setup-C-1-STA.pcap.tsv\n",
      "counting lines in file...\n",
      "There are 575 Packets.\n"
     ]
    },
    {
     "data": {
      "application/vnd.jupyter.widget-view+json": {
       "model_id": "45e2768249a24d729e1f169ce636c05e",
       "version_major": 2,
       "version_minor": 0
      },
      "text/plain": [
       "  0%|          | 0/575 [00:00<?, ?it/s]"
      ]
     },
     "metadata": {},
     "output_type": "display_data"
    },
    {
     "name": "stdout",
     "output_type": "stream",
     "text": [
      "Complete. Time elapsed: 0.39665842056274414\n",
      "Parsing with tshark...\n",
      "tshark parsing complete. File saved as: ./pcaps/1\\AALTO\\WeMoInsightSwitch2\\Setup-C-2-STA.pcap.tsv\n",
      "counting lines in file...\n",
      "There are 577 Packets.\n"
     ]
    },
    {
     "data": {
      "application/vnd.jupyter.widget-view+json": {
       "model_id": "87633552545d434cae55461a11d263ca",
       "version_major": 2,
       "version_minor": 0
      },
      "text/plain": [
       "  0%|          | 0/577 [00:00<?, ?it/s]"
      ]
     },
     "metadata": {},
     "output_type": "display_data"
    },
    {
     "name": "stdout",
     "output_type": "stream",
     "text": [
      "Complete. Time elapsed: 0.37012195587158203\n",
      "Parsing with tshark...\n",
      "tshark parsing complete. File saved as: ./pcaps/1\\AALTO\\WeMoInsightSwitch2\\Setup-C-3-STA.pcap.tsv\n",
      "counting lines in file...\n",
      "There are 588 Packets.\n"
     ]
    },
    {
     "data": {
      "application/vnd.jupyter.widget-view+json": {
       "model_id": "67e4ec83129e41638766a6ca702e86f0",
       "version_major": 2,
       "version_minor": 0
      },
      "text/plain": [
       "  0%|          | 0/588 [00:00<?, ?it/s]"
      ]
     },
     "metadata": {},
     "output_type": "display_data"
    },
    {
     "name": "stdout",
     "output_type": "stream",
     "text": [
      "Complete. Time elapsed: 0.3388633728027344\n",
      "Parsing with tshark...\n",
      "tshark parsing complete. File saved as: ./pcaps/1\\AALTO\\WeMoSwitch\\Setup-A-1-STA.pcap.tsv\n",
      "counting lines in file...\n",
      "There are 291 Packets.\n"
     ]
    },
    {
     "data": {
      "application/vnd.jupyter.widget-view+json": {
       "model_id": "4548510d137f44eeaae3e4604e53c695",
       "version_major": 2,
       "version_minor": 0
      },
      "text/plain": [
       "  0%|          | 0/291 [00:00<?, ?it/s]"
      ]
     },
     "metadata": {},
     "output_type": "display_data"
    },
    {
     "name": "stdout",
     "output_type": "stream",
     "text": [
      "Complete. Time elapsed: 0.19114232063293457\n",
      "Parsing with tshark...\n",
      "tshark parsing complete. File saved as: ./pcaps/1\\AALTO\\WeMoSwitch\\Setup-A-10-STA.pcap.tsv\n",
      "counting lines in file...\n",
      "There are 360 Packets.\n"
     ]
    },
    {
     "data": {
      "application/vnd.jupyter.widget-view+json": {
       "model_id": "9297e9cb05e749ca8b0f7d636cacca16",
       "version_major": 2,
       "version_minor": 0
      },
      "text/plain": [
       "  0%|          | 0/360 [00:00<?, ?it/s]"
      ]
     },
     "metadata": {},
     "output_type": "display_data"
    },
    {
     "name": "stdout",
     "output_type": "stream",
     "text": [
      "Complete. Time elapsed: 0.19836735725402832\n",
      "Parsing with tshark...\n",
      "tshark parsing complete. File saved as: ./pcaps/1\\AALTO\\WeMoSwitch\\Setup-A-2-STA.pcap.tsv\n",
      "counting lines in file...\n",
      "There are 286 Packets.\n"
     ]
    },
    {
     "data": {
      "application/vnd.jupyter.widget-view+json": {
       "model_id": "5145cedf44d1488887e6165d662a32a9",
       "version_major": 2,
       "version_minor": 0
      },
      "text/plain": [
       "  0%|          | 0/286 [00:00<?, ?it/s]"
      ]
     },
     "metadata": {},
     "output_type": "display_data"
    },
    {
     "name": "stdout",
     "output_type": "stream",
     "text": [
      "Complete. Time elapsed: 0.1762857437133789\n",
      "Parsing with tshark...\n",
      "tshark parsing complete. File saved as: ./pcaps/1\\AALTO\\WeMoSwitch\\Setup-A-3-STA.pcap.tsv\n",
      "counting lines in file...\n",
      "There are 367 Packets.\n"
     ]
    },
    {
     "data": {
      "application/vnd.jupyter.widget-view+json": {
       "model_id": "f2025c6b21404ba5b6e3e906abd3b858",
       "version_major": 2,
       "version_minor": 0
      },
      "text/plain": [
       "  0%|          | 0/367 [00:00<?, ?it/s]"
      ]
     },
     "metadata": {},
     "output_type": "display_data"
    },
    {
     "name": "stdout",
     "output_type": "stream",
     "text": [
      "Complete. Time elapsed: 0.25692319869995117\n",
      "Parsing with tshark...\n",
      "tshark parsing complete. File saved as: ./pcaps/1\\AALTO\\WeMoSwitch\\Setup-A-4-STA.pcap.tsv\n",
      "counting lines in file...\n",
      "There are 284 Packets.\n"
     ]
    },
    {
     "data": {
      "application/vnd.jupyter.widget-view+json": {
       "model_id": "f03e08744b894333a1b6b96acda8e9a8",
       "version_major": 2,
       "version_minor": 0
      },
      "text/plain": [
       "  0%|          | 0/284 [00:00<?, ?it/s]"
      ]
     },
     "metadata": {},
     "output_type": "display_data"
    },
    {
     "name": "stdout",
     "output_type": "stream",
     "text": [
      "Complete. Time elapsed: 0.1811532974243164\n",
      "Parsing with tshark...\n",
      "tshark parsing complete. File saved as: ./pcaps/1\\AALTO\\WeMoSwitch\\Setup-A-5-STA.pcap.tsv\n",
      "counting lines in file...\n",
      "There are 294 Packets.\n"
     ]
    },
    {
     "data": {
      "application/vnd.jupyter.widget-view+json": {
       "model_id": "956ec1b4b0cf456093183d1a6cad39ad",
       "version_major": 2,
       "version_minor": 0
      },
      "text/plain": [
       "  0%|          | 0/294 [00:00<?, ?it/s]"
      ]
     },
     "metadata": {},
     "output_type": "display_data"
    },
    {
     "name": "stdout",
     "output_type": "stream",
     "text": [
      "Complete. Time elapsed: 0.2017688751220703\n",
      "Parsing with tshark...\n",
      "tshark parsing complete. File saved as: ./pcaps/1\\AALTO\\WeMoSwitch\\Setup-A-6-STA.pcap.tsv\n",
      "counting lines in file...\n",
      "There are 346 Packets.\n"
     ]
    },
    {
     "data": {
      "application/vnd.jupyter.widget-view+json": {
       "model_id": "a8caf8a29e88488493bc97b66b89cfd7",
       "version_major": 2,
       "version_minor": 0
      },
      "text/plain": [
       "  0%|          | 0/346 [00:00<?, ?it/s]"
      ]
     },
     "metadata": {},
     "output_type": "display_data"
    },
    {
     "name": "stdout",
     "output_type": "stream",
     "text": [
      "Complete. Time elapsed: 0.23121142387390137\n",
      "Parsing with tshark...\n",
      "tshark parsing complete. File saved as: ./pcaps/1\\AALTO\\WeMoSwitch\\Setup-A-7-STA.pcap.tsv\n",
      "counting lines in file...\n",
      "There are 294 Packets.\n"
     ]
    },
    {
     "data": {
      "application/vnd.jupyter.widget-view+json": {
       "model_id": "b7f7c00da3e54d088984055438b76421",
       "version_major": 2,
       "version_minor": 0
      },
      "text/plain": [
       "  0%|          | 0/294 [00:00<?, ?it/s]"
      ]
     },
     "metadata": {},
     "output_type": "display_data"
    },
    {
     "name": "stdout",
     "output_type": "stream",
     "text": [
      "Complete. Time elapsed: 0.20072555541992188\n",
      "Parsing with tshark...\n",
      "tshark parsing complete. File saved as: ./pcaps/1\\AALTO\\WeMoSwitch\\Setup-A-8-STA.pcap.tsv\n",
      "counting lines in file...\n",
      "There are 286 Packets.\n"
     ]
    },
    {
     "data": {
      "application/vnd.jupyter.widget-view+json": {
       "model_id": "1434d11faee54945827de4eed6a2158d",
       "version_major": 2,
       "version_minor": 0
      },
      "text/plain": [
       "  0%|          | 0/286 [00:00<?, ?it/s]"
      ]
     },
     "metadata": {},
     "output_type": "display_data"
    },
    {
     "name": "stdout",
     "output_type": "stream",
     "text": [
      "Complete. Time elapsed: 0.19477367401123047\n",
      "Parsing with tshark...\n",
      "tshark parsing complete. File saved as: ./pcaps/1\\AALTO\\WeMoSwitch\\Setup-A-9-STA.pcap.tsv\n",
      "counting lines in file...\n",
      "There are 349 Packets.\n"
     ]
    },
    {
     "data": {
      "application/vnd.jupyter.widget-view+json": {
       "model_id": "b928b06807ca429db2d820705d3516a6",
       "version_major": 2,
       "version_minor": 0
      },
      "text/plain": [
       "  0%|          | 0/349 [00:00<?, ?it/s]"
      ]
     },
     "metadata": {},
     "output_type": "display_data"
    },
    {
     "name": "stdout",
     "output_type": "stream",
     "text": [
      "Complete. Time elapsed: 0.21715974807739258\n",
      "Parsing with tshark...\n",
      "tshark parsing complete. File saved as: ./pcaps/1\\AALTO\\WeMoSwitch2\\Setup-C-1-STA.pcap.tsv\n",
      "counting lines in file...\n",
      "There are 218 Packets.\n"
     ]
    },
    {
     "data": {
      "application/vnd.jupyter.widget-view+json": {
       "model_id": "1d482ae9faa1446d93d57fb4864b5d21",
       "version_major": 2,
       "version_minor": 0
      },
      "text/plain": [
       "  0%|          | 0/218 [00:00<?, ?it/s]"
      ]
     },
     "metadata": {},
     "output_type": "display_data"
    },
    {
     "name": "stdout",
     "output_type": "stream",
     "text": [
      "Complete. Time elapsed: 0.1283421516418457\n",
      "Parsing with tshark...\n",
      "tshark parsing complete. File saved as: ./pcaps/1\\AALTO\\WeMoSwitch2\\Setup-C-2-STA.pcap.tsv\n",
      "counting lines in file...\n",
      "There are 320 Packets.\n"
     ]
    },
    {
     "data": {
      "application/vnd.jupyter.widget-view+json": {
       "model_id": "149fec5b6ac44c52a03040a70a426300",
       "version_major": 2,
       "version_minor": 0
      },
      "text/plain": [
       "  0%|          | 0/320 [00:00<?, ?it/s]"
      ]
     },
     "metadata": {},
     "output_type": "display_data"
    },
    {
     "name": "stdout",
     "output_type": "stream",
     "text": [
      "Complete. Time elapsed: 0.19751834869384766\n",
      "Parsing with tshark...\n",
      "tshark parsing complete. File saved as: ./pcaps/1\\AALTO\\WeMoSwitch2\\Setup-C-3-STA.pcap.tsv\n",
      "counting lines in file...\n",
      "There are 220 Packets.\n"
     ]
    },
    {
     "data": {
      "application/vnd.jupyter.widget-view+json": {
       "model_id": "e4166b4ea8ea4b15ac8fc5b654f8a8aa",
       "version_major": 2,
       "version_minor": 0
      },
      "text/plain": [
       "  0%|          | 0/220 [00:00<?, ?it/s]"
      ]
     },
     "metadata": {},
     "output_type": "display_data"
    },
    {
     "name": "stdout",
     "output_type": "stream",
     "text": [
      "Complete. Time elapsed: 0.06475186347961426\n",
      "Parsing with tshark...\n",
      "tshark parsing complete. File saved as: ./pcaps/1\\CIC\\2021_11_19_Active.pcap.tsv\n",
      "counting lines in file...\n",
      "There are 578500 Packets.\n"
     ]
    },
    {
     "data": {
      "application/vnd.jupyter.widget-view+json": {
       "model_id": "0e4f5249576f4d04987814884e9db55c",
       "version_major": 2,
       "version_minor": 0
      },
      "text/plain": [
       "  0%|          | 0/578500 [00:00<?, ?it/s]"
      ]
     },
     "metadata": {},
     "output_type": "display_data"
    },
    {
     "name": "stdout",
     "output_type": "stream",
     "text": [
      "Complete. Time elapsed: 2119.0788905620575\n",
      "Parsing with tshark...\n",
      "tshark parsing complete. File saved as: ./pcaps/1\\D-Link-IoT-Datasets\\D-LinkCam1\\D-LinkCam1_a4-2020-12-12.pcap.tsv\n",
      "counting lines in file...\n",
      "There are 42130 Packets.\n"
     ]
    },
    {
     "data": {
      "application/vnd.jupyter.widget-view+json": {
       "model_id": "12ecc7c660b3409db1787bdd836fe3dd",
       "version_major": 2,
       "version_minor": 0
      },
      "text/plain": [
       "  0%|          | 0/42130 [00:00<?, ?it/s]"
      ]
     },
     "metadata": {},
     "output_type": "display_data"
    },
    {
     "name": "stdout",
     "output_type": "stream",
     "text": [
      "Complete. Time elapsed: 33.589519739151\n",
      "Parsing with tshark...\n",
      "tshark parsing complete. File saved as: ./pcaps/1\\D-Link-IoT-Datasets\\D-LinkCam1\\D-LinkCam1_a4-2020-12-13.pcap.tsv\n",
      "counting lines in file...\n",
      "There are 23756 Packets.\n"
     ]
    },
    {
     "data": {
      "application/vnd.jupyter.widget-view+json": {
       "model_id": "837286a1a1a84237a1b18b62b1e11745",
       "version_major": 2,
       "version_minor": 0
      },
      "text/plain": [
       "  0%|          | 0/23756 [00:00<?, ?it/s]"
      ]
     },
     "metadata": {},
     "output_type": "display_data"
    },
    {
     "name": "stdout",
     "output_type": "stream",
     "text": [
      "Complete. Time elapsed: 16.025256156921387\n",
      "Parsing with tshark...\n",
      "tshark parsing complete. File saved as: ./pcaps/1\\D-Link-IoT-Datasets\\D-LinkCam2\\D-LinkCam2_11-2020-12-12.pcap.tsv\n",
      "counting lines in file...\n",
      "There are 62124 Packets.\n"
     ]
    },
    {
     "data": {
      "application/vnd.jupyter.widget-view+json": {
       "model_id": "39490647e1bf4419b1e1a792b7249d8e",
       "version_major": 2,
       "version_minor": 0
      },
      "text/plain": [
       "  0%|          | 0/62124 [00:00<?, ?it/s]"
      ]
     },
     "metadata": {},
     "output_type": "display_data"
    },
    {
     "name": "stdout",
     "output_type": "stream",
     "text": [
      "Complete. Time elapsed: 45.46323561668396\n",
      "Parsing with tshark...\n",
      "tshark parsing complete. File saved as: ./pcaps/1\\D-Link-IoT-Datasets\\D-LinkCam2\\D-LinkCam2_11-2020-12-13.pcap.tsv\n",
      "counting lines in file...\n",
      "There are 140435 Packets.\n"
     ]
    },
    {
     "data": {
      "application/vnd.jupyter.widget-view+json": {
       "model_id": "4e31c8805c4d4a4b8c68ce1900270a67",
       "version_major": 2,
       "version_minor": 0
      },
      "text/plain": [
       "  0%|          | 0/140435 [00:00<?, ?it/s]"
      ]
     },
     "metadata": {},
     "output_type": "display_data"
    },
    {
     "name": "stdout",
     "output_type": "stream",
     "text": [
      "Complete. Time elapsed: 93.02283453941345\n",
      "Parsing with tshark...\n",
      "tshark parsing complete. File saved as: ./pcaps/1\\D-Link-IoT-Datasets\\D-LinkDayCam1\\D-LinkDayCam1_5d-2020-12-12.pcap.tsv\n",
      "counting lines in file...\n",
      "There are 52398 Packets.\n"
     ]
    },
    {
     "data": {
      "application/vnd.jupyter.widget-view+json": {
       "model_id": "ecaec4ab31684b35a672df5cecc87570",
       "version_major": 2,
       "version_minor": 0
      },
      "text/plain": [
       "  0%|          | 0/52398 [00:00<?, ?it/s]"
      ]
     },
     "metadata": {},
     "output_type": "display_data"
    },
    {
     "name": "stdout",
     "output_type": "stream",
     "text": [
      "Complete. Time elapsed: 49.44477820396423\n",
      "Parsing with tshark...\n",
      "tshark parsing complete. File saved as: ./pcaps/1\\D-Link-IoT-Datasets\\D-LinkDayCam1\\D-LinkDayCam1_5d-2020-12-13.pcap.tsv\n",
      "counting lines in file...\n",
      "There are 47902 Packets.\n"
     ]
    },
    {
     "data": {
      "application/vnd.jupyter.widget-view+json": {
       "model_id": "69cfd7a896094079bbe353e16ed64189",
       "version_major": 2,
       "version_minor": 0
      },
      "text/plain": [
       "  0%|          | 0/47902 [00:00<?, ?it/s]"
      ]
     },
     "metadata": {},
     "output_type": "display_data"
    },
    {
     "name": "stdout",
     "output_type": "stream",
     "text": [
      "Complete. Time elapsed: 77.45951652526855\n",
      "Parsing with tshark...\n",
      "tshark parsing complete. File saved as: ./pcaps/1\\D-Link-IoT-Datasets\\D-LinkDayCam6\\D-LinkDayCam6_e5-2020-12-12.pcap.tsv\n",
      "counting lines in file...\n",
      "There are 52822 Packets.\n"
     ]
    },
    {
     "data": {
      "application/vnd.jupyter.widget-view+json": {
       "model_id": "1bc1b42b1fd04c77803065fabbbc36e3",
       "version_major": 2,
       "version_minor": 0
      },
      "text/plain": [
       "  0%|          | 0/52822 [00:00<?, ?it/s]"
      ]
     },
     "metadata": {},
     "output_type": "display_data"
    },
    {
     "name": "stdout",
     "output_type": "stream",
     "text": [
      "Complete. Time elapsed: 125.57335186004639\n",
      "Parsing with tshark...\n",
      "tshark parsing complete. File saved as: ./pcaps/1\\D-Link-IoT-Datasets\\D-LinkDayCam6\\D-LinkDayCam6_e5-2020-12-13.pcap.tsv\n",
      "counting lines in file...\n",
      "There are 47991 Packets.\n"
     ]
    },
    {
     "data": {
      "application/vnd.jupyter.widget-view+json": {
       "model_id": "4499e04a4fac4b82bfb1ea01f588d3de",
       "version_major": 2,
       "version_minor": 0
      },
      "text/plain": [
       "  0%|          | 0/47991 [00:00<?, ?it/s]"
      ]
     },
     "metadata": {},
     "output_type": "display_data"
    },
    {
     "name": "stdout",
     "output_type": "stream",
     "text": [
      "Complete. Time elapsed: 34.685588121414185\n",
      "Parsing with tshark...\n",
      "tshark parsing complete. File saved as: ./pcaps/1\\D-Link-IoT-Datasets\\D-LinkSmartPlug_3b\\D-LinkSmartPlug_3b-2020-12-12.pcap.tsv\n",
      "counting lines in file...\n",
      "There are 18133 Packets.\n"
     ]
    },
    {
     "data": {
      "application/vnd.jupyter.widget-view+json": {
       "model_id": "3e5daa7e156e4e6c90acc366972c8c1f",
       "version_major": 2,
       "version_minor": 0
      },
      "text/plain": [
       "  0%|          | 0/18133 [00:00<?, ?it/s]"
      ]
     },
     "metadata": {},
     "output_type": "display_data"
    },
    {
     "name": "stdout",
     "output_type": "stream",
     "text": [
      "Complete. Time elapsed: 37.83839821815491\n",
      "Parsing with tshark...\n",
      "tshark parsing complete. File saved as: ./pcaps/1\\D-Link-IoT-Datasets\\D-LinkSmartPlug_3b\\D-LinkSmartPlug_3b-2020-12-13.pcap.tsv\n",
      "counting lines in file...\n",
      "There are 11824 Packets.\n"
     ]
    },
    {
     "data": {
      "application/vnd.jupyter.widget-view+json": {
       "model_id": "eaa6dcb3ee4d4c01adec242574445051",
       "version_major": 2,
       "version_minor": 0
      },
      "text/plain": [
       "  0%|          | 0/11824 [00:00<?, ?it/s]"
      ]
     },
     "metadata": {},
     "output_type": "display_data"
    },
    {
     "name": "stdout",
     "output_type": "stream",
     "text": [
      "Complete. Time elapsed: 7.563335418701172\n",
      "Parsing with tshark...\n",
      "tshark parsing complete. File saved as: ./pcaps/1\\D-Link-IoT-Datasets\\D-LinkSmartPlug_55\\D-LinkSmartPlug_55-2020-12-12.pcap.tsv\n",
      "counting lines in file...\n",
      "There are 18898 Packets.\n"
     ]
    },
    {
     "data": {
      "application/vnd.jupyter.widget-view+json": {
       "model_id": "bf371e6b550443e7a252b026bfa6f6cd",
       "version_major": 2,
       "version_minor": 0
      },
      "text/plain": [
       "  0%|          | 0/18898 [00:00<?, ?it/s]"
      ]
     },
     "metadata": {},
     "output_type": "display_data"
    },
    {
     "name": "stdout",
     "output_type": "stream",
     "text": [
      "Complete. Time elapsed: 40.742793798446655\n",
      "Parsing with tshark...\n",
      "tshark parsing complete. File saved as: ./pcaps/1\\D-Link-IoT-Datasets\\D-LinkSmartPlug_55\\D-LinkSmartPlug_55-2020-12-13.pcap.tsv\n",
      "counting lines in file...\n",
      "There are 11799 Packets.\n"
     ]
    },
    {
     "data": {
      "application/vnd.jupyter.widget-view+json": {
       "model_id": "d637577f031f47d686a4c7a76f5b7192",
       "version_major": 2,
       "version_minor": 0
      },
      "text/plain": [
       "  0%|          | 0/11799 [00:00<?, ?it/s]"
      ]
     },
     "metadata": {},
     "output_type": "display_data"
    },
    {
     "name": "stdout",
     "output_type": "stream",
     "text": [
      "Complete. Time elapsed: 7.794029474258423\n",
      "Parsing with tshark...\n",
      "tshark parsing complete. File saved as: ./pcaps/1\\D-Link-IoT-Datasets\\D-LinkSmartPlug_6e\\D-LinkSmartPlug_6e-2020-12-12.pcap.tsv\n",
      "counting lines in file...\n",
      "There are 20119 Packets.\n"
     ]
    },
    {
     "data": {
      "application/vnd.jupyter.widget-view+json": {
       "model_id": "0dd4fc118ffa476ba84675ef3240a74d",
       "version_major": 2,
       "version_minor": 0
      },
      "text/plain": [
       "  0%|          | 0/20119 [00:00<?, ?it/s]"
      ]
     },
     "metadata": {},
     "output_type": "display_data"
    },
    {
     "name": "stdout",
     "output_type": "stream",
     "text": [
      "Complete. Time elapsed: 47.963802099227905\n",
      "Parsing with tshark...\n",
      "tshark parsing complete. File saved as: ./pcaps/1\\D-Link-IoT-Datasets\\D-LinkSmartPlug_6e\\D-LinkSmartPlug_6e-2020-12-13.pcap.tsv\n",
      "counting lines in file...\n",
      "There are 10795 Packets.\n"
     ]
    },
    {
     "data": {
      "application/vnd.jupyter.widget-view+json": {
       "model_id": "48f56dc603824ebfaff69792b290d46f",
       "version_major": 2,
       "version_minor": 0
      },
      "text/plain": [
       "  0%|          | 0/10795 [00:00<?, ?it/s]"
      ]
     },
     "metadata": {},
     "output_type": "display_data"
    },
    {
     "name": "stdout",
     "output_type": "stream",
     "text": [
      "Complete. Time elapsed: 6.984957218170166\n",
      "Parsing with tshark...\n",
      "tshark parsing complete. File saved as: ./pcaps/2\\AALTO\\EdimaxCam1\\Setup-A-7-STA.pcap.tsv\n",
      "counting lines in file...\n",
      "There are 42 Packets.\n"
     ]
    },
    {
     "data": {
      "application/vnd.jupyter.widget-view+json": {
       "model_id": "dbc8a45f6448411491661fd3c785c99b",
       "version_major": 2,
       "version_minor": 0
      },
      "text/plain": [
       "  0%|          | 0/42 [00:00<?, ?it/s]"
      ]
     },
     "metadata": {},
     "output_type": "display_data"
    },
    {
     "name": "stdout",
     "output_type": "stream",
     "text": [
      "Complete. Time elapsed: 0.03664827346801758\n",
      "Parsing with tshark...\n",
      "tshark parsing complete. File saved as: ./pcaps/2\\AALTO\\EdimaxCam1\\Setup-C-1-STA.pcap.tsv\n",
      "counting lines in file...\n",
      "There are 47 Packets.\n"
     ]
    },
    {
     "data": {
      "application/vnd.jupyter.widget-view+json": {
       "model_id": "e11eae9d951d46cc84bb997cf299e181",
       "version_major": 2,
       "version_minor": 0
      },
      "text/plain": [
       "  0%|          | 0/47 [00:00<?, ?it/s]"
      ]
     },
     "metadata": {},
     "output_type": "display_data"
    },
    {
     "name": "stdout",
     "output_type": "stream",
     "text": [
      "Complete. Time elapsed: 0.042755842208862305\n",
      "Parsing with tshark...\n",
      "tshark parsing complete. File saved as: ./pcaps/2\\AALTO\\EdimaxCam1\\Setup-C-2-STA.pcap.tsv\n",
      "counting lines in file...\n",
      "There are 41 Packets.\n"
     ]
    },
    {
     "data": {
      "application/vnd.jupyter.widget-view+json": {
       "model_id": "913235c161144052af2c5cc8ee004e2c",
       "version_major": 2,
       "version_minor": 0
      },
      "text/plain": [
       "  0%|          | 0/41 [00:00<?, ?it/s]"
      ]
     },
     "metadata": {},
     "output_type": "display_data"
    },
    {
     "name": "stdout",
     "output_type": "stream",
     "text": [
      "Complete. Time elapsed: 0.03219866752624512\n",
      "Parsing with tshark...\n",
      "tshark parsing complete. File saved as: ./pcaps/2\\AALTO\\EdimaxCam1\\Setup-C-3-STA.pcap.tsv\n",
      "counting lines in file...\n",
      "There are 42 Packets.\n"
     ]
    },
    {
     "data": {
      "application/vnd.jupyter.widget-view+json": {
       "model_id": "4e1fe8ca3e1244209f8326c2925f7bf0",
       "version_major": 2,
       "version_minor": 0
      },
      "text/plain": [
       "  0%|          | 0/42 [00:00<?, ?it/s]"
      ]
     },
     "metadata": {},
     "output_type": "display_data"
    },
    {
     "name": "stdout",
     "output_type": "stream",
     "text": [
      "Complete. Time elapsed: 0.03024601936340332\n",
      "Parsing with tshark...\n",
      "tshark parsing complete. File saved as: ./pcaps/2\\AALTO\\EdimaxCam1\\Setup-C-4-STA.pcap.tsv\n",
      "counting lines in file...\n",
      "There are 47 Packets.\n"
     ]
    },
    {
     "data": {
      "application/vnd.jupyter.widget-view+json": {
       "model_id": "18266aae96794c3aae97388b3f595828",
       "version_major": 2,
       "version_minor": 0
      },
      "text/plain": [
       "  0%|          | 0/47 [00:00<?, ?it/s]"
      ]
     },
     "metadata": {},
     "output_type": "display_data"
    },
    {
     "name": "stdout",
     "output_type": "stream",
     "text": [
      "Complete. Time elapsed: 0.036998748779296875\n",
      "Parsing with tshark...\n",
      "tshark parsing complete. File saved as: ./pcaps/2\\AALTO\\EdimaxCam1\\Setup-C-5-STA.pcap.tsv\n",
      "counting lines in file...\n",
      "There are 42 Packets.\n"
     ]
    },
    {
     "data": {
      "application/vnd.jupyter.widget-view+json": {
       "model_id": "6b09268b618042c8ac71e9487b22f10a",
       "version_major": 2,
       "version_minor": 0
      },
      "text/plain": [
       "  0%|          | 0/42 [00:00<?, ?it/s]"
      ]
     },
     "metadata": {},
     "output_type": "display_data"
    },
    {
     "name": "stdout",
     "output_type": "stream",
     "text": [
      "Complete. Time elapsed: 0.030709028244018555\n",
      "Parsing with tshark...\n",
      "tshark parsing complete. File saved as: ./pcaps/2\\AALTO\\EdimaxCam2\\Setup-C-1-STA.pcap.tsv\n",
      "counting lines in file...\n",
      "There are 46 Packets.\n"
     ]
    },
    {
     "data": {
      "application/vnd.jupyter.widget-view+json": {
       "model_id": "078659d046704b8898b272c91ce2fc0f",
       "version_major": 2,
       "version_minor": 0
      },
      "text/plain": [
       "  0%|          | 0/46 [00:00<?, ?it/s]"
      ]
     },
     "metadata": {},
     "output_type": "display_data"
    },
    {
     "name": "stdout",
     "output_type": "stream",
     "text": [
      "Complete. Time elapsed: 0.03378605842590332\n",
      "Parsing with tshark...\n",
      "tshark parsing complete. File saved as: ./pcaps/2\\AALTO\\EdimaxCam2\\Setup-C-2-STA.pcap.tsv\n",
      "counting lines in file...\n",
      "There are 56 Packets.\n"
     ]
    },
    {
     "data": {
      "application/vnd.jupyter.widget-view+json": {
       "model_id": "e8117c4427894f29a38fe0eaccab124a",
       "version_major": 2,
       "version_minor": 0
      },
      "text/plain": [
       "  0%|          | 0/56 [00:00<?, ?it/s]"
      ]
     },
     "metadata": {},
     "output_type": "display_data"
    },
    {
     "name": "stdout",
     "output_type": "stream",
     "text": [
      "Complete. Time elapsed: 0.04024338722229004\n",
      "Parsing with tshark...\n",
      "tshark parsing complete. File saved as: ./pcaps/2\\AALTO\\EdimaxCam2\\Setup-C-3-STA.pcap.tsv\n",
      "counting lines in file...\n",
      "There are 43 Packets.\n"
     ]
    },
    {
     "data": {
      "application/vnd.jupyter.widget-view+json": {
       "model_id": "966949e6fe7c4c0381d96941a01ec07a",
       "version_major": 2,
       "version_minor": 0
      },
      "text/plain": [
       "  0%|          | 0/43 [00:00<?, ?it/s]"
      ]
     },
     "metadata": {},
     "output_type": "display_data"
    },
    {
     "name": "stdout",
     "output_type": "stream",
     "text": [
      "Complete. Time elapsed: 0.03265810012817383\n",
      "Parsing with tshark...\n",
      "tshark parsing complete. File saved as: ./pcaps/2\\AALTO\\EdimaxCam2\\Setup-C-4-STA.pcap.tsv\n",
      "counting lines in file...\n",
      "There are 53 Packets.\n"
     ]
    },
    {
     "data": {
      "application/vnd.jupyter.widget-view+json": {
       "model_id": "8e3882e9d7d044d294a8d5cb8740a719",
       "version_major": 2,
       "version_minor": 0
      },
      "text/plain": [
       "  0%|          | 0/53 [00:00<?, ?it/s]"
      ]
     },
     "metadata": {},
     "output_type": "display_data"
    },
    {
     "name": "stdout",
     "output_type": "stream",
     "text": [
      "Complete. Time elapsed: 0.060243844985961914\n",
      "Parsing with tshark...\n",
      "tshark parsing complete. File saved as: ./pcaps/2\\AALTO\\EdnetCam1\\Setup-C-10-STA.pcap.tsv\n",
      "counting lines in file...\n",
      "There are 21 Packets.\n"
     ]
    },
    {
     "data": {
      "application/vnd.jupyter.widget-view+json": {
       "model_id": "b88e1f85605e4841b5314f15cf30a04a",
       "version_major": 2,
       "version_minor": 0
      },
      "text/plain": [
       "  0%|          | 0/21 [00:00<?, ?it/s]"
      ]
     },
     "metadata": {},
     "output_type": "display_data"
    },
    {
     "name": "stdout",
     "output_type": "stream",
     "text": [
      "Complete. Time elapsed: 0.028827190399169922\n",
      "Parsing with tshark...\n",
      "tshark parsing complete. File saved as: ./pcaps/2\\AALTO\\EdnetCam1\\Setup-C-6-STA.pcap.tsv\n",
      "counting lines in file...\n",
      "There are 18 Packets.\n"
     ]
    },
    {
     "data": {
      "application/vnd.jupyter.widget-view+json": {
       "model_id": "f2b44e866065426e856556f349d6f113",
       "version_major": 2,
       "version_minor": 0
      },
      "text/plain": [
       "  0%|          | 0/18 [00:00<?, ?it/s]"
      ]
     },
     "metadata": {},
     "output_type": "display_data"
    },
    {
     "name": "stdout",
     "output_type": "stream",
     "text": [
      "Complete. Time elapsed: 0.01947927474975586\n",
      "Parsing with tshark...\n",
      "tshark parsing complete. File saved as: ./pcaps/2\\AALTO\\EdnetCam1\\Setup-C-7-STA.pcap.tsv\n",
      "counting lines in file...\n",
      "There are 25 Packets.\n"
     ]
    },
    {
     "data": {
      "application/vnd.jupyter.widget-view+json": {
       "model_id": "49303627052a4db2a9c85e12734b13a3",
       "version_major": 2,
       "version_minor": 0
      },
      "text/plain": [
       "  0%|          | 0/25 [00:00<?, ?it/s]"
      ]
     },
     "metadata": {},
     "output_type": "display_data"
    },
    {
     "name": "stdout",
     "output_type": "stream",
     "text": [
      "Complete. Time elapsed: 0.024633169174194336\n",
      "Parsing with tshark...\n",
      "tshark parsing complete. File saved as: ./pcaps/2\\AALTO\\EdnetCam1\\Setup-C-8-STA.pcap.tsv\n",
      "counting lines in file...\n",
      "There are 23 Packets.\n"
     ]
    },
    {
     "data": {
      "application/vnd.jupyter.widget-view+json": {
       "model_id": "16ac09cfa0e74d979e09ae40bcee0861",
       "version_major": 2,
       "version_minor": 0
      },
      "text/plain": [
       "  0%|          | 0/23 [00:00<?, ?it/s]"
      ]
     },
     "metadata": {},
     "output_type": "display_data"
    },
    {
     "name": "stdout",
     "output_type": "stream",
     "text": [
      "Complete. Time elapsed: 0.018729448318481445\n",
      "Parsing with tshark...\n",
      "tshark parsing complete. File saved as: ./pcaps/2\\AALTO\\EdnetCam1\\Setup-C-9-STA.pcap.tsv\n",
      "counting lines in file...\n",
      "There are 24 Packets.\n"
     ]
    },
    {
     "data": {
      "application/vnd.jupyter.widget-view+json": {
       "model_id": "1816252e278e429591548781dfb3bb21",
       "version_major": 2,
       "version_minor": 0
      },
      "text/plain": [
       "  0%|          | 0/24 [00:00<?, ?it/s]"
      ]
     },
     "metadata": {},
     "output_type": "display_data"
    },
    {
     "name": "stdout",
     "output_type": "stream",
     "text": [
      "Complete. Time elapsed: 0.022489547729492188\n",
      "Parsing with tshark...\n",
      "tshark parsing complete. File saved as: ./pcaps/2\\AALTO\\EdnetCam2\\Setup-C-5-STA.pcap.tsv\n",
      "counting lines in file...\n",
      "There are 26 Packets.\n"
     ]
    },
    {
     "data": {
      "application/vnd.jupyter.widget-view+json": {
       "model_id": "1afda6efb8f14c11bc0d3dc1923e451c",
       "version_major": 2,
       "version_minor": 0
      },
      "text/plain": [
       "  0%|          | 0/26 [00:00<?, ?it/s]"
      ]
     },
     "metadata": {},
     "output_type": "display_data"
    },
    {
     "name": "stdout",
     "output_type": "stream",
     "text": [
      "Complete. Time elapsed: 0.023445844650268555\n",
      "Parsing with tshark...\n",
      "tshark parsing complete. File saved as: ./pcaps/2\\AALTO\\EdnetCam2\\Setup-C-6-STA.pcap.tsv\n",
      "counting lines in file...\n",
      "There are 26 Packets.\n"
     ]
    },
    {
     "data": {
      "application/vnd.jupyter.widget-view+json": {
       "model_id": "23bee4a585e148b8a4212094f7ea3319",
       "version_major": 2,
       "version_minor": 0
      },
      "text/plain": [
       "  0%|          | 0/26 [00:00<?, ?it/s]"
      ]
     },
     "metadata": {},
     "output_type": "display_data"
    },
    {
     "name": "stdout",
     "output_type": "stream",
     "text": [
      "Complete. Time elapsed: 0.023756980895996094\n",
      "Parsing with tshark...\n",
      "tshark parsing complete. File saved as: ./pcaps/2\\AALTO\\EdnetCam2\\Setup-C-7-STA.pcap.tsv\n",
      "counting lines in file...\n",
      "There are 25 Packets.\n"
     ]
    },
    {
     "data": {
      "application/vnd.jupyter.widget-view+json": {
       "model_id": "d44d5da6af7c4cf8922e2615d7adfbcd",
       "version_major": 2,
       "version_minor": 0
      },
      "text/plain": [
       "  0%|          | 0/25 [00:00<?, ?it/s]"
      ]
     },
     "metadata": {},
     "output_type": "display_data"
    },
    {
     "name": "stdout",
     "output_type": "stream",
     "text": [
      "Complete. Time elapsed: 0.03183341026306152\n",
      "Parsing with tshark...\n",
      "tshark parsing complete. File saved as: ./pcaps/2\\AALTO\\EdnetCam2\\Setup-C-8-STA.pcap.tsv\n",
      "counting lines in file...\n",
      "There are 14 Packets.\n"
     ]
    },
    {
     "data": {
      "application/vnd.jupyter.widget-view+json": {
       "model_id": "4a4eee9c85134346b1e67ad33666e171",
       "version_major": 2,
       "version_minor": 0
      },
      "text/plain": [
       "  0%|          | 0/14 [00:00<?, ?it/s]"
      ]
     },
     "metadata": {},
     "output_type": "display_data"
    },
    {
     "name": "stdout",
     "output_type": "stream",
     "text": [
      "Complete. Time elapsed: 0.01764059066772461\n",
      "Parsing with tshark...\n",
      "tshark parsing complete. File saved as: ./pcaps/2\\AALTO\\WeMoInsightSwitch\\Setup-A-11-STA.pcap.tsv\n",
      "counting lines in file...\n",
      "There are 297 Packets.\n"
     ]
    },
    {
     "data": {
      "application/vnd.jupyter.widget-view+json": {
       "model_id": "686acdcc1bf94e3baa07339810ac2dd1",
       "version_major": 2,
       "version_minor": 0
      },
      "text/plain": [
       "  0%|          | 0/297 [00:00<?, ?it/s]"
      ]
     },
     "metadata": {},
     "output_type": "display_data"
    },
    {
     "name": "stdout",
     "output_type": "stream",
     "text": [
      "Complete. Time elapsed: 0.1707472801208496\n",
      "Parsing with tshark...\n",
      "tshark parsing complete. File saved as: ./pcaps/2\\AALTO\\WeMoInsightSwitch\\Setup-C-1-STA.pcap.tsv\n",
      "counting lines in file...\n",
      "There are 329 Packets.\n"
     ]
    },
    {
     "data": {
      "application/vnd.jupyter.widget-view+json": {
       "model_id": "3006a2654ea447d8aeb82b70ee060aa3",
       "version_major": 2,
       "version_minor": 0
      },
      "text/plain": [
       "  0%|          | 0/329 [00:00<?, ?it/s]"
      ]
     },
     "metadata": {},
     "output_type": "display_data"
    },
    {
     "name": "stdout",
     "output_type": "stream",
     "text": [
      "Complete. Time elapsed: 0.22467494010925293\n",
      "Parsing with tshark...\n",
      "tshark parsing complete. File saved as: ./pcaps/2\\AALTO\\WeMoInsightSwitch\\Setup-C-2-STA.pcap.tsv\n",
      "counting lines in file...\n",
      "There are 307 Packets.\n"
     ]
    },
    {
     "data": {
      "application/vnd.jupyter.widget-view+json": {
       "model_id": "77053bd2f4d34c48819caaeadc953c0c",
       "version_major": 2,
       "version_minor": 0
      },
      "text/plain": [
       "  0%|          | 0/307 [00:00<?, ?it/s]"
      ]
     },
     "metadata": {},
     "output_type": "display_data"
    },
    {
     "name": "stdout",
     "output_type": "stream",
     "text": [
      "Complete. Time elapsed: 0.18108224868774414\n",
      "Parsing with tshark...\n",
      "tshark parsing complete. File saved as: ./pcaps/2\\AALTO\\WeMoInsightSwitch\\Setup-C-3-STA.pcap.tsv\n",
      "counting lines in file...\n",
      "There are 399 Packets.\n"
     ]
    },
    {
     "data": {
      "application/vnd.jupyter.widget-view+json": {
       "model_id": "28b7abfdcb29450398ea73e6760a25a7",
       "version_major": 2,
       "version_minor": 0
      },
      "text/plain": [
       "  0%|          | 0/399 [00:00<?, ?it/s]"
      ]
     },
     "metadata": {},
     "output_type": "display_data"
    },
    {
     "name": "stdout",
     "output_type": "stream",
     "text": [
      "Complete. Time elapsed: 0.25715088844299316\n",
      "Parsing with tshark...\n",
      "tshark parsing complete. File saved as: ./pcaps/2\\AALTO\\WeMoInsightSwitch\\Setup-C-4-STA.pcap.tsv\n",
      "counting lines in file...\n",
      "There are 371 Packets.\n"
     ]
    },
    {
     "data": {
      "application/vnd.jupyter.widget-view+json": {
       "model_id": "2d438657a9ac4f0f8a5b35657001486e",
       "version_major": 2,
       "version_minor": 0
      },
      "text/plain": [
       "  0%|          | 0/371 [00:00<?, ?it/s]"
      ]
     },
     "metadata": {},
     "output_type": "display_data"
    },
    {
     "name": "stdout",
     "output_type": "stream",
     "text": [
      "Complete. Time elapsed: 0.24022817611694336\n",
      "Parsing with tshark...\n",
      "tshark parsing complete. File saved as: ./pcaps/2\\AALTO\\WeMoInsightSwitch\\Setup-C-5-STA.pcap.tsv\n",
      "counting lines in file...\n",
      "There are 289 Packets.\n"
     ]
    },
    {
     "data": {
      "application/vnd.jupyter.widget-view+json": {
       "model_id": "70e40c1ebc5040579ce96a0bc6cc7c1f",
       "version_major": 2,
       "version_minor": 0
      },
      "text/plain": [
       "  0%|          | 0/289 [00:00<?, ?it/s]"
      ]
     },
     "metadata": {},
     "output_type": "display_data"
    },
    {
     "name": "stdout",
     "output_type": "stream",
     "text": [
      "Complete. Time elapsed: 0.18032574653625488\n",
      "Parsing with tshark...\n",
      "tshark parsing complete. File saved as: ./pcaps/2\\AALTO\\WeMoInsightSwitch\\Setup-C-6-STA.pcap.tsv\n",
      "counting lines in file...\n",
      "There are 415 Packets.\n"
     ]
    },
    {
     "data": {
      "application/vnd.jupyter.widget-view+json": {
       "model_id": "ee7363faa7814e86bd661ef74bcf95e2",
       "version_major": 2,
       "version_minor": 0
      },
      "text/plain": [
       "  0%|          | 0/415 [00:00<?, ?it/s]"
      ]
     },
     "metadata": {},
     "output_type": "display_data"
    },
    {
     "name": "stdout",
     "output_type": "stream",
     "text": [
      "Complete. Time elapsed: 0.30061793327331543\n",
      "Parsing with tshark...\n",
      "tshark parsing complete. File saved as: ./pcaps/2\\AALTO\\WeMoInsightSwitch\\Setup-C-7-STA.pcap.tsv\n",
      "counting lines in file...\n",
      "There are 292 Packets.\n"
     ]
    },
    {
     "data": {
      "application/vnd.jupyter.widget-view+json": {
       "model_id": "e7c92383ff424c1f9a77c13483004d83",
       "version_major": 2,
       "version_minor": 0
      },
      "text/plain": [
       "  0%|          | 0/292 [00:00<?, ?it/s]"
      ]
     },
     "metadata": {},
     "output_type": "display_data"
    },
    {
     "name": "stdout",
     "output_type": "stream",
     "text": [
      "Complete. Time elapsed: 0.18655824661254883\n",
      "Parsing with tshark...\n",
      "tshark parsing complete. File saved as: ./pcaps/2\\AALTO\\WeMoInsightSwitch\\Setup-C-8-STA.pcap.tsv\n",
      "counting lines in file...\n",
      "There are 305 Packets.\n"
     ]
    },
    {
     "data": {
      "application/vnd.jupyter.widget-view+json": {
       "model_id": "cbc3a0fd50574dbcbb7b574c232738c7",
       "version_major": 2,
       "version_minor": 0
      },
      "text/plain": [
       "  0%|          | 0/305 [00:00<?, ?it/s]"
      ]
     },
     "metadata": {},
     "output_type": "display_data"
    },
    {
     "name": "stdout",
     "output_type": "stream",
     "text": [
      "Complete. Time elapsed: 0.19887328147888184\n",
      "Parsing with tshark...\n",
      "tshark parsing complete. File saved as: ./pcaps/2\\AALTO\\WeMoInsightSwitch\\Setup-C-9-STA.pcap.tsv\n",
      "counting lines in file...\n",
      "There are 407 Packets.\n"
     ]
    },
    {
     "data": {
      "application/vnd.jupyter.widget-view+json": {
       "model_id": "484850029c014fa2be3c33d2595a35d4",
       "version_major": 2,
       "version_minor": 0
      },
      "text/plain": [
       "  0%|          | 0/407 [00:00<?, ?it/s]"
      ]
     },
     "metadata": {},
     "output_type": "display_data"
    },
    {
     "name": "stdout",
     "output_type": "stream",
     "text": [
      "Complete. Time elapsed: 0.28563404083251953\n",
      "Parsing with tshark...\n",
      "tshark parsing complete. File saved as: ./pcaps/2\\AALTO\\WeMoInsightSwitch2\\Setup-C-4-STA.pcap.tsv\n",
      "counting lines in file...\n",
      "There are 586 Packets.\n"
     ]
    },
    {
     "data": {
      "application/vnd.jupyter.widget-view+json": {
       "model_id": "788ba62516544401ae424196e5fec03f",
       "version_major": 2,
       "version_minor": 0
      },
      "text/plain": [
       "  0%|          | 0/586 [00:00<?, ?it/s]"
      ]
     },
     "metadata": {},
     "output_type": "display_data"
    },
    {
     "name": "stdout",
     "output_type": "stream",
     "text": [
      "Complete. Time elapsed: 0.36556529998779297\n",
      "Parsing with tshark...\n",
      "tshark parsing complete. File saved as: ./pcaps/2\\AALTO\\WeMoInsightSwitch2\\Setup-C-5-STA.pcap.tsv\n",
      "counting lines in file...\n",
      "There are 580 Packets.\n"
     ]
    },
    {
     "data": {
      "application/vnd.jupyter.widget-view+json": {
       "model_id": "2bc45202efa34112b6b703521c5ac773",
       "version_major": 2,
       "version_minor": 0
      },
      "text/plain": [
       "  0%|          | 0/580 [00:00<?, ?it/s]"
      ]
     },
     "metadata": {},
     "output_type": "display_data"
    },
    {
     "name": "stdout",
     "output_type": "stream",
     "text": [
      "Complete. Time elapsed: 0.4391207695007324\n",
      "Parsing with tshark...\n",
      "tshark parsing complete. File saved as: ./pcaps/2\\AALTO\\WeMoSwitch\\Setup-C-1-STA.pcap.tsv\n",
      "counting lines in file...\n",
      "There are 285 Packets.\n"
     ]
    },
    {
     "data": {
      "application/vnd.jupyter.widget-view+json": {
       "model_id": "fac5c052bb5b478295d50d1eaa3a1bee",
       "version_major": 2,
       "version_minor": 0
      },
      "text/plain": [
       "  0%|          | 0/285 [00:00<?, ?it/s]"
      ]
     },
     "metadata": {},
     "output_type": "display_data"
    },
    {
     "name": "stdout",
     "output_type": "stream",
     "text": [
      "Complete. Time elapsed: 0.15591168403625488\n",
      "Parsing with tshark...\n",
      "tshark parsing complete. File saved as: ./pcaps/2\\AALTO\\WeMoSwitch\\Setup-C-10-STA.pcap.tsv\n",
      "counting lines in file...\n",
      "There are 288 Packets.\n"
     ]
    },
    {
     "data": {
      "application/vnd.jupyter.widget-view+json": {
       "model_id": "0fbde6e5dc594786939dd016a949465d",
       "version_major": 2,
       "version_minor": 0
      },
      "text/plain": [
       "  0%|          | 0/288 [00:00<?, ?it/s]"
      ]
     },
     "metadata": {},
     "output_type": "display_data"
    },
    {
     "name": "stdout",
     "output_type": "stream",
     "text": [
      "Complete. Time elapsed: 0.1970052719116211\n",
      "Parsing with tshark...\n",
      "tshark parsing complete. File saved as: ./pcaps/2\\AALTO\\WeMoSwitch\\Setup-C-2-STA.pcap.tsv\n",
      "counting lines in file...\n",
      "There are 352 Packets.\n"
     ]
    },
    {
     "data": {
      "application/vnd.jupyter.widget-view+json": {
       "model_id": "7805fe59f8304b1fb8913a321b81b356",
       "version_major": 2,
       "version_minor": 0
      },
      "text/plain": [
       "  0%|          | 0/352 [00:00<?, ?it/s]"
      ]
     },
     "metadata": {},
     "output_type": "display_data"
    },
    {
     "name": "stdout",
     "output_type": "stream",
     "text": [
      "Complete. Time elapsed: 0.22087383270263672\n",
      "Parsing with tshark...\n",
      "tshark parsing complete. File saved as: ./pcaps/2\\AALTO\\WeMoSwitch\\Setup-C-3-STA.pcap.tsv\n",
      "counting lines in file...\n",
      "There are 263 Packets.\n"
     ]
    },
    {
     "data": {
      "application/vnd.jupyter.widget-view+json": {
       "model_id": "c4ffa21125d14d0f90eca9e6d9818aab",
       "version_major": 2,
       "version_minor": 0
      },
      "text/plain": [
       "  0%|          | 0/263 [00:00<?, ?it/s]"
      ]
     },
     "metadata": {},
     "output_type": "display_data"
    },
    {
     "name": "stdout",
     "output_type": "stream",
     "text": [
      "Complete. Time elapsed: 0.20837116241455078\n",
      "Parsing with tshark...\n",
      "tshark parsing complete. File saved as: ./pcaps/2\\AALTO\\WeMoSwitch\\Setup-C-4-STA.pcap.tsv\n",
      "counting lines in file...\n",
      "There are 285 Packets.\n"
     ]
    },
    {
     "data": {
      "application/vnd.jupyter.widget-view+json": {
       "model_id": "83777401e33e485f8662211a47ec3009",
       "version_major": 2,
       "version_minor": 0
      },
      "text/plain": [
       "  0%|          | 0/285 [00:00<?, ?it/s]"
      ]
     },
     "metadata": {},
     "output_type": "display_data"
    },
    {
     "name": "stdout",
     "output_type": "stream",
     "text": [
      "Complete. Time elapsed: 0.1843280792236328\n",
      "Parsing with tshark...\n",
      "tshark parsing complete. File saved as: ./pcaps/2\\AALTO\\WeMoSwitch\\Setup-C-5-STA.pcap.tsv\n",
      "counting lines in file...\n",
      "There are 291 Packets.\n"
     ]
    },
    {
     "data": {
      "application/vnd.jupyter.widget-view+json": {
       "model_id": "a3038921acfd4003ac1f29b84d3538a4",
       "version_major": 2,
       "version_minor": 0
      },
      "text/plain": [
       "  0%|          | 0/291 [00:00<?, ?it/s]"
      ]
     },
     "metadata": {},
     "output_type": "display_data"
    },
    {
     "name": "stdout",
     "output_type": "stream",
     "text": [
      "Complete. Time elapsed: 0.18171381950378418\n",
      "Parsing with tshark...\n",
      "tshark parsing complete. File saved as: ./pcaps/2\\AALTO\\WeMoSwitch\\Setup-C-6-STA.pcap.tsv\n",
      "counting lines in file...\n",
      "There are 287 Packets.\n"
     ]
    },
    {
     "data": {
      "application/vnd.jupyter.widget-view+json": {
       "model_id": "30e947d7cad1439a97ac25d8f865a1b2",
       "version_major": 2,
       "version_minor": 0
      },
      "text/plain": [
       "  0%|          | 0/287 [00:00<?, ?it/s]"
      ]
     },
     "metadata": {},
     "output_type": "display_data"
    },
    {
     "name": "stdout",
     "output_type": "stream",
     "text": [
      "Complete. Time elapsed: 0.1968998908996582\n",
      "Parsing with tshark...\n",
      "tshark parsing complete. File saved as: ./pcaps/2\\AALTO\\WeMoSwitch\\Setup-C-7-STA.pcap.tsv\n",
      "counting lines in file...\n",
      "There are 282 Packets.\n"
     ]
    },
    {
     "data": {
      "application/vnd.jupyter.widget-view+json": {
       "model_id": "f2d919b8a6f44fbfb78fa50c2a3681d9",
       "version_major": 2,
       "version_minor": 0
      },
      "text/plain": [
       "  0%|          | 0/282 [00:00<?, ?it/s]"
      ]
     },
     "metadata": {},
     "output_type": "display_data"
    },
    {
     "name": "stdout",
     "output_type": "stream",
     "text": [
      "Complete. Time elapsed: 0.19147086143493652\n",
      "Parsing with tshark...\n",
      "tshark parsing complete. File saved as: ./pcaps/2\\AALTO\\WeMoSwitch\\Setup-C-8-STA.pcap.tsv\n",
      "counting lines in file...\n",
      "There are 285 Packets.\n"
     ]
    },
    {
     "data": {
      "application/vnd.jupyter.widget-view+json": {
       "model_id": "1f951feb6c6542d7a9c48462ecc2450f",
       "version_major": 2,
       "version_minor": 0
      },
      "text/plain": [
       "  0%|          | 0/285 [00:00<?, ?it/s]"
      ]
     },
     "metadata": {},
     "output_type": "display_data"
    },
    {
     "name": "stdout",
     "output_type": "stream",
     "text": [
      "Complete. Time elapsed: 0.18895244598388672\n",
      "Parsing with tshark...\n",
      "tshark parsing complete. File saved as: ./pcaps/2\\AALTO\\WeMoSwitch\\Setup-C-9-STA.pcap.tsv\n",
      "counting lines in file...\n",
      "There are 282 Packets.\n"
     ]
    },
    {
     "data": {
      "application/vnd.jupyter.widget-view+json": {
       "model_id": "a62afecb1f134659942f1f69a88bb7f9",
       "version_major": 2,
       "version_minor": 0
      },
      "text/plain": [
       "  0%|          | 0/282 [00:00<?, ?it/s]"
      ]
     },
     "metadata": {},
     "output_type": "display_data"
    },
    {
     "name": "stdout",
     "output_type": "stream",
     "text": [
      "Complete. Time elapsed: 0.16493463516235352\n",
      "Parsing with tshark...\n",
      "tshark parsing complete. File saved as: ./pcaps/2\\AALTO\\WeMoSwitch2\\Setup-C-4-STA.pcap.tsv\n",
      "counting lines in file...\n",
      "There are 362 Packets.\n"
     ]
    },
    {
     "data": {
      "application/vnd.jupyter.widget-view+json": {
       "model_id": "01208bd5a4ab4ac497dfc1bc22438677",
       "version_major": 2,
       "version_minor": 0
      },
      "text/plain": [
       "  0%|          | 0/362 [00:00<?, ?it/s]"
      ]
     },
     "metadata": {},
     "output_type": "display_data"
    },
    {
     "name": "stdout",
     "output_type": "stream",
     "text": [
      "Complete. Time elapsed: 0.2400989532470703\n",
      "Parsing with tshark...\n",
      "tshark parsing complete. File saved as: ./pcaps/2\\AALTO\\WeMoSwitch2\\Setup-C-5-STA.pcap.tsv\n",
      "counting lines in file...\n",
      "There are 326 Packets.\n"
     ]
    },
    {
     "data": {
      "application/vnd.jupyter.widget-view+json": {
       "model_id": "2128d17246d04ce4bb717f6eccd8f0ae",
       "version_major": 2,
       "version_minor": 0
      },
      "text/plain": [
       "  0%|          | 0/326 [00:00<?, ?it/s]"
      ]
     },
     "metadata": {},
     "output_type": "display_data"
    },
    {
     "name": "stdout",
     "output_type": "stream",
     "text": [
      "Complete. Time elapsed: 0.21993541717529297\n",
      "Parsing with tshark...\n",
      "tshark parsing complete. File saved as: ./pcaps/2\\CIC\\2022_01_03_Active.pcap.tsv\n",
      "counting lines in file...\n",
      "There are 541398 Packets.\n"
     ]
    },
    {
     "data": {
      "application/vnd.jupyter.widget-view+json": {
       "model_id": "5ddf34698d6e43a79d29d0dd3d03e0bf",
       "version_major": 2,
       "version_minor": 0
      },
      "text/plain": [
       "  0%|          | 0/541398 [00:00<?, ?it/s]"
      ]
     },
     "metadata": {},
     "output_type": "display_data"
    },
    {
     "name": "stdout",
     "output_type": "stream",
     "text": [
      "Complete. Time elapsed: 2176.6324672698975\n",
      "Parsing with tshark...\n",
      "tshark parsing complete. File saved as: ./pcaps/2\\D-Link-IoT-Datasets\\D-LinkCam1\\D-LinkCam1_a4-2020-12-20.pcap.tsv\n",
      "counting lines in file...\n",
      "There are 55631 Packets.\n"
     ]
    },
    {
     "data": {
      "application/vnd.jupyter.widget-view+json": {
       "model_id": "381bd52f4ab94b2da72d30d6cf004e2a",
       "version_major": 2,
       "version_minor": 0
      },
      "text/plain": [
       "  0%|          | 0/55631 [00:00<?, ?it/s]"
      ]
     },
     "metadata": {},
     "output_type": "display_data"
    },
    {
     "name": "stdout",
     "output_type": "stream",
     "text": [
      "Complete. Time elapsed: 76.95986843109131\n",
      "Parsing with tshark...\n",
      "tshark parsing complete. File saved as: ./pcaps/2\\D-Link-IoT-Datasets\\D-LinkCam1\\D-LinkCam1_a4-2020-12-21.pcap.tsv\n",
      "counting lines in file...\n",
      "There are 54976 Packets.\n"
     ]
    },
    {
     "data": {
      "application/vnd.jupyter.widget-view+json": {
       "model_id": "e3733eebf2c74088b8a3c1a9b7a20ee3",
       "version_major": 2,
       "version_minor": 0
      },
      "text/plain": [
       "  0%|          | 0/54976 [00:00<?, ?it/s]"
      ]
     },
     "metadata": {},
     "output_type": "display_data"
    },
    {
     "name": "stdout",
     "output_type": "stream",
     "text": [
      "Complete. Time elapsed: 64.27484273910522\n",
      "Parsing with tshark...\n",
      "tshark parsing complete. File saved as: ./pcaps/2\\D-Link-IoT-Datasets\\D-LinkCam2\\D-LinkCam2_11-2020-12-20.pcap.tsv\n",
      "counting lines in file...\n",
      "There are 184543 Packets.\n"
     ]
    },
    {
     "data": {
      "application/vnd.jupyter.widget-view+json": {
       "model_id": "4f76a1e36a934ff9bfc63d4b9a8a81e2",
       "version_major": 2,
       "version_minor": 0
      },
      "text/plain": [
       "  0%|          | 0/184543 [00:00<?, ?it/s]"
      ]
     },
     "metadata": {},
     "output_type": "display_data"
    },
    {
     "name": "stdout",
     "output_type": "stream",
     "text": [
      "Complete. Time elapsed: 209.3376681804657\n",
      "Parsing with tshark...\n",
      "tshark parsing complete. File saved as: ./pcaps/2\\D-Link-IoT-Datasets\\D-LinkCam2\\D-LinkCam2_11-2020-12-21.pcap.tsv\n",
      "counting lines in file...\n",
      "There are 185568 Packets.\n"
     ]
    },
    {
     "data": {
      "application/vnd.jupyter.widget-view+json": {
       "model_id": "4b01bea2dd8c435b8329caab5ea4bf29",
       "version_major": 2,
       "version_minor": 0
      },
      "text/plain": [
       "  0%|          | 0/185568 [00:00<?, ?it/s]"
      ]
     },
     "metadata": {},
     "output_type": "display_data"
    },
    {
     "name": "stdout",
     "output_type": "stream",
     "text": [
      "Complete. Time elapsed: 209.71759700775146\n",
      "Parsing with tshark...\n",
      "tshark parsing complete. File saved as: ./pcaps/2\\D-Link-IoT-Datasets\\D-LinkDayCam1\\D-LinkDayCam1_5d-2020-12-20.pcap.tsv\n",
      "counting lines in file...\n",
      "There are 55891 Packets.\n"
     ]
    },
    {
     "data": {
      "application/vnd.jupyter.widget-view+json": {
       "model_id": "ea735b5c00304c00846c2960b7a1fa16",
       "version_major": 2,
       "version_minor": 0
      },
      "text/plain": [
       "  0%|          | 0/55891 [00:00<?, ?it/s]"
      ]
     },
     "metadata": {},
     "output_type": "display_data"
    },
    {
     "name": "stdout",
     "output_type": "stream",
     "text": [
      "Complete. Time elapsed: 382.46599316596985\n",
      "Parsing with tshark...\n",
      "tshark parsing complete. File saved as: ./pcaps/2\\D-Link-IoT-Datasets\\D-LinkDayCam1\\D-LinkDayCam1_5d-2020-12-21.pcap.tsv\n",
      "counting lines in file...\n",
      "There are 56189 Packets.\n"
     ]
    },
    {
     "data": {
      "application/vnd.jupyter.widget-view+json": {
       "model_id": "2e9359cc4d914244bed63065164aa247",
       "version_major": 2,
       "version_minor": 0
      },
      "text/plain": [
       "  0%|          | 0/56189 [00:00<?, ?it/s]"
      ]
     },
     "metadata": {},
     "output_type": "display_data"
    },
    {
     "name": "stdout",
     "output_type": "stream",
     "text": [
      "Complete. Time elapsed: 310.1750068664551\n",
      "Parsing with tshark...\n",
      "tshark parsing complete. File saved as: ./pcaps/2\\D-Link-IoT-Datasets\\D-LinkDayCam6\\D-LinkDayCam6_e5-2020-12-20.pcap.tsv\n",
      "counting lines in file...\n",
      "There are 55339 Packets.\n"
     ]
    },
    {
     "data": {
      "application/vnd.jupyter.widget-view+json": {
       "model_id": "71e6cabccd494a838b9ed2dd28f379e4",
       "version_major": 2,
       "version_minor": 0
      },
      "text/plain": [
       "  0%|          | 0/55339 [00:00<?, ?it/s]"
      ]
     },
     "metadata": {},
     "output_type": "display_data"
    },
    {
     "name": "stdout",
     "output_type": "stream",
     "text": [
      "Complete. Time elapsed: 357.6438887119293\n",
      "Parsing with tshark...\n",
      "tshark parsing complete. File saved as: ./pcaps/2\\D-Link-IoT-Datasets\\D-LinkDayCam6\\D-LinkDayCam6_e5-2020-12-21.pcap.tsv\n",
      "counting lines in file...\n",
      "There are 55048 Packets.\n"
     ]
    },
    {
     "data": {
      "application/vnd.jupyter.widget-view+json": {
       "model_id": "178896a81e284ff4a7525ad073ba3c01",
       "version_major": 2,
       "version_minor": 0
      },
      "text/plain": [
       "  0%|          | 0/55048 [00:00<?, ?it/s]"
      ]
     },
     "metadata": {},
     "output_type": "display_data"
    },
    {
     "name": "stdout",
     "output_type": "stream",
     "text": [
      "Complete. Time elapsed: 293.5311179161072\n",
      "Parsing with tshark...\n",
      "tshark parsing complete. File saved as: ./pcaps/2\\D-Link-IoT-Datasets\\D-LinkSmartPlug_3b\\D-LinkSmartPlug_3b-2020-12-20.pcap.tsv\n",
      "counting lines in file...\n",
      "There are 8598 Packets.\n"
     ]
    },
    {
     "data": {
      "application/vnd.jupyter.widget-view+json": {
       "model_id": "4b8ac019380546b196bf11f3d46c7694",
       "version_major": 2,
       "version_minor": 0
      },
      "text/plain": [
       "  0%|          | 0/8598 [00:00<?, ?it/s]"
      ]
     },
     "metadata": {},
     "output_type": "display_data"
    },
    {
     "name": "stdout",
     "output_type": "stream",
     "text": [
      "Complete. Time elapsed: 5.096949338912964\n",
      "Parsing with tshark...\n",
      "tshark parsing complete. File saved as: ./pcaps/2\\D-Link-IoT-Datasets\\D-LinkSmartPlug_3b\\D-LinkSmartPlug_3b-2020-12-21.pcap.tsv\n",
      "counting lines in file...\n",
      "There are 9467 Packets.\n"
     ]
    },
    {
     "data": {
      "application/vnd.jupyter.widget-view+json": {
       "model_id": "263fd53f01bd4f77bbf915a0e3ee23b5",
       "version_major": 2,
       "version_minor": 0
      },
      "text/plain": [
       "  0%|          | 0/9467 [00:00<?, ?it/s]"
      ]
     },
     "metadata": {},
     "output_type": "display_data"
    },
    {
     "name": "stdout",
     "output_type": "stream",
     "text": [
      "Complete. Time elapsed: 5.670211553573608\n",
      "Parsing with tshark...\n",
      "tshark parsing complete. File saved as: ./pcaps/2\\D-Link-IoT-Datasets\\D-LinkSmartPlug_55\\D-LinkSmartPlug_55-2020-12-20.pcap.tsv\n",
      "counting lines in file...\n",
      "There are 8696 Packets.\n"
     ]
    },
    {
     "data": {
      "application/vnd.jupyter.widget-view+json": {
       "model_id": "9722d551cde54489a1e21c43ad93e788",
       "version_major": 2,
       "version_minor": 0
      },
      "text/plain": [
       "  0%|          | 0/8696 [00:00<?, ?it/s]"
      ]
     },
     "metadata": {},
     "output_type": "display_data"
    },
    {
     "name": "stdout",
     "output_type": "stream",
     "text": [
      "Complete. Time elapsed: 5.105022668838501\n",
      "Parsing with tshark...\n",
      "tshark parsing complete. File saved as: ./pcaps/2\\D-Link-IoT-Datasets\\D-LinkSmartPlug_55\\D-LinkSmartPlug_55-2020-12-21.pcap.tsv\n",
      "counting lines in file...\n",
      "There are 9347 Packets.\n"
     ]
    },
    {
     "data": {
      "application/vnd.jupyter.widget-view+json": {
       "model_id": "0d301dbcef304761b75a7ac8ed373a01",
       "version_major": 2,
       "version_minor": 0
      },
      "text/plain": [
       "  0%|          | 0/9347 [00:00<?, ?it/s]"
      ]
     },
     "metadata": {},
     "output_type": "display_data"
    },
    {
     "name": "stdout",
     "output_type": "stream",
     "text": [
      "Complete. Time elapsed: 5.337330341339111\n",
      "Parsing with tshark...\n",
      "tshark parsing complete. File saved as: ./pcaps/2\\D-Link-IoT-Datasets\\D-LinkSmartPlug_6e\\D-LinkSmartPlug_6e-2020-12-20.pcap.tsv\n",
      "counting lines in file...\n",
      "There are 8691 Packets.\n"
     ]
    },
    {
     "data": {
      "application/vnd.jupyter.widget-view+json": {
       "model_id": "093562df204f4dedb8ebbbd391a5d7d3",
       "version_major": 2,
       "version_minor": 0
      },
      "text/plain": [
       "  0%|          | 0/8691 [00:00<?, ?it/s]"
      ]
     },
     "metadata": {},
     "output_type": "display_data"
    },
    {
     "name": "stdout",
     "output_type": "stream",
     "text": [
      "Complete. Time elapsed: 5.00642204284668\n",
      "Parsing with tshark...\n",
      "tshark parsing complete. File saved as: ./pcaps/2\\D-Link-IoT-Datasets\\D-LinkSmartPlug_6e\\D-LinkSmartPlug_6e-2020-12-21.pcap.tsv\n",
      "counting lines in file...\n",
      "There are 9313 Packets.\n"
     ]
    },
    {
     "data": {
      "application/vnd.jupyter.widget-view+json": {
       "model_id": "75b06daed19646f3ad60c780a82f8bf2",
       "version_major": 2,
       "version_minor": 0
      },
      "text/plain": [
       "  0%|          | 0/9313 [00:00<?, ?it/s]"
      ]
     },
     "metadata": {},
     "output_type": "display_data"
    },
    {
     "name": "stdout",
     "output_type": "stream",
     "text": [
      "Complete. Time elapsed: 5.335614204406738\n"
     ]
    }
   ],
   "source": [
    "# FE Main function\n",
    "\n",
    "for i in files_add: # in this section, a file is opened for each attack type and is recorded at a random benign flow.\n",
    "    output=i.replace(\"pcap\",\"csv\")    \n",
    "    output=output.replace(\"\\\\\",\"/\")   \n",
    "    folder(output[:output.rfind(\"/\")])\n",
    "\n",
    "    \n",
    "    ths = open(output, \"w\")\n",
    "    \n",
    "    ths.write(str(main_labels)+\"\\n\")\n",
    "    \n",
    "    \n",
    "        # Build Kitsune\n",
    "    K = Kitsune(i,limit,maxAE,FMgrace,ADgrace)\n",
    "    \n",
    "    sayac = 0\n",
    "    start = time.time()\n",
    "    linenum=howmanylines(f\"{i}.tsv\")\n",
    "    pbar = tqdm(total=linenum)\n",
    "    while True:\n",
    "        sayac+=1\n",
    "        if sayac % 1000 == 0:\n",
    "            #print(sayac)\n",
    "            pbar.update(1000)\n",
    "        rmse = K.proc_next_packet()\n",
    "        try:\n",
    "            if rmse==-1:\n",
    "                break\n",
    "        except:\n",
    "            temp= \",\".join( str(j) for j in rmse ) \n",
    "            ths.write(str(temp)+\"\\n\")\n",
    "            #print(rmse)\n",
    "            #print(len(rmse))\n",
    "\n",
    "    stop = time.time()\n",
    "    print(\"Complete. Time elapsed: \"+ str(stop - start))\n",
    "    ths.close()\n",
    "\n",
    "    #LAbelling\n",
    "    output=output.replace(\".csv\",\"_label.csv\")  \n",
    "    if \" \" not in i:\n",
    "        command=f\"tshark -r {i}  -T fields -e eth.src  -E header=y -E separator=, -E quote=d -E occurrence=f >{output}\"\n",
    "    else:\n",
    "        command=f\"tshark -r \\\"{i}\\\" -T fields  -e eth.src  -E header=y -E separator=, -E quote=d -E occurrence=f >\\\"{output}\\\"\"\n",
    "    os.system(command)\n",
    "    \n",
    "    \n",
    "    df=pd.read_csv(output.replace(\"_label\",\"\"))\n",
    "    label=pd.read_csv(output)\n",
    "    \n",
    "    df[\"Label\"]=label[\"eth.src\"]\n",
    "    df[\"Label\"]=df[\"Label\"].replace(macrenamer)\n",
    "    df.to_csv(output.replace(\"_label\",\"\"),index=False)\n",
    "\n",
    "\n"
   ]
  },
  {
   "cell_type": "code",
   "execution_count": 20,
   "id": "dbd5fe53-6422-4a02-a2fd-9f0bee1e91fe",
   "metadata": {},
   "outputs": [],
   "source": [
    "# SELECTED DEVICES\n",
    "macs_devicegroup1={\n",
    "#AALTO    \n",
    "\"74:da:38:80:7a:08\":\"EdimaxCam_08\",\n",
    "#\"74:da:38:80:79:fc\":\"EdimaxCam_fc\",\n",
    "\"3c:49:37:03:17:db\":\"EdnetCam_db\",\n",
    "#\"3c:49:37:03:17:f0\":\"EdnetCam_f0\",\n",
    "\"94:10:3e:41:c2:05\":\"WeMoInsightSwitch_05\",\n",
    "#\"94:10:3e:42:80:69\":\"WeMoInsightSwitch_69\",\n",
    "\"94:10:3e:35:01:c1\":\"WeMoSwitch_c1\",\n",
    "#\"94:10:3e:34:0c:b5\":\"WeMoSwitch_b5\",\n",
    "#D-LinkIoT\n",
    "\"c4:12:f5:16:40:6e\":\"LinkSmartPlug_6e\",\n",
    "#\"c4:12:f5:16:40:3b\": \"LinkSmartPlug_3b\",\n",
    "\"b2:c5:54:44:0f:a4\":\"D-LinkCam1_a4\", \n",
    "#\"b2:c5:54:44:0f:11\":\"D-LinkCam2_11\",\n",
    "\"b0:c5:54:46:48:5d\": \"D-LinkDayCam1_5d\",\n",
    "#\"b0:c5:54:42:8f:88\":\"D-LinkDayCam6_88\" ,\n",
    "#CIC-IoT-22\n",
    "\"b8:f0:09:03:9a:af\":\"GosundSocket_af\",\n",
    "#\"50:02:91:10:09:8f\":\"GosundSocket_8f\",\n",
    "\"c4:dd:57:0c:39:94\":\"GosundPlug_94\",\n",
    "#\"50:02:91:10:ac:d8\":\"GosundPlug_d8\",\n",
    "\"d4:a6:51:76:06:64\":\"TeckinPlug_64\",\n",
    "#\"d4:a6:51:78:97:4e\":\"TeckinPlug_4e\",\n",
    "\"d4:a6:51:20:91:d1\":\"YutronPlug_d1\",\n",
    "#\"d4:a6:51:21:6c:29\":\"YutronPlug_29\",\n",
    "\"1c:fe:2b:98:16:dd\":\"AmazonAlexaEchoDot_dd\"\n",
    "#\"a0:d0:dc:c4:08:ff\":\"AmazonAlexaEchoDot_ff\"\n",
    "}\n",
    "\n",
    "# SELECTED DEVICES\n",
    "macs_devicegroup2={\n",
    "#AALTO    \n",
    "#\"74:da:38:80:7a:08\":\"EdimaxCam_08\",\n",
    "\"74:da:38:80:79:fc\":\"EdimaxCam_fc\",\n",
    "#\"3c:49:37:03:17:db\":\"EdnetCam_db\",\n",
    "\"3c:49:37:03:17:f0\":\"EdnetCam_f0\",\n",
    "#\"94:10:3e:41:c2:05\":\"WeMoInsightSwitch_05\",\n",
    "\"94:10:3e:42:80:69\":\"WeMoInsightSwitch_69\",\n",
    "#\"94:10:3e:35:01:c1\":\"WeMoSwitch_c1\",\n",
    "\"94:10:3e:34:0c:b5\":\"WeMoSwitch_b5\",\n",
    "#D-LinkIoT\n",
    "#\"c4:12:f5:16:40:6e\":\"LinkSmartPlug_6e\",\n",
    "\"c4:12:f5:16:40:3b\": \"LinkSmartPlug_3b\",\n",
    "#\"b2:c5:54:44:0f:a4\":\"D-LinkCam1_a4\", \n",
    "\"b2:c5:54:44:0f:11\":\"D-LinkCam2_11\",\n",
    "#\"b0:c5:54:46:48:5d\": \"D-LinkDayCam1_5d\",\n",
    "\"b0:c5:54:42:8f:88\":\"D-LinkDayCam6_88\" ,\n",
    "#CIC-IoT-22\n",
    "#\"b8:f0:09:03:9a:af\":\"GosundSocket_af\",\n",
    "\"50:02:91:10:09:8f\":\"GosundSocket_8f\",\n",
    "#\"c4:dd:57:0c:39:94\":\"GosundPlug_94\",\n",
    "\"50:02:91:10:ac:d8\":\"GosundPlug_d8\",\n",
    "#\"d4:a6:51:76:06:64\":\"TeckinPlug_64\",\n",
    "\"d4:a6:51:78:97:4e\":\"TeckinPlug_4e\",\n",
    "#\"d4:a6:51:20:91:d1\":\"YutronPlug_d1\",\n",
    "\"d4:a6:51:21:6c:29\":\"YutronPlug_29\",\n",
    "#\"1c:fe:2b:98:16:dd\":\"AmazonAlexaEchoDot_dd\",\n",
    "\"a0:d0:dc:c4:08:ff\":\"AmazonAlexaEchoDot_ff\"}"
   ]
  },
  {
   "cell_type": "code",
   "execution_count": 21,
   "id": "6fbbb34a-3ffc-4906-9a86-6d7df6cfceb5",
   "metadata": {},
   "outputs": [],
   "source": [
    "killthemall(\"./csvs\",\"_label.csv\")"
   ]
  },
  {
   "cell_type": "code",
   "execution_count": 22,
   "id": "540ed799-7606-437b-bea7-e764c01a8ada",
   "metadata": {},
   "outputs": [],
   "source": [
    "#Function that brings together disjoint csv files for ML evaluation. \n",
    "#This function also reduces the csv file size by eliminating unnecessary or unusable samples (irrelevant device names)\n",
    "\n",
    "def csv_merger(output,csvs,devices):\n",
    "    main_labels='MI_dir_5_weight,MI_dir_5_mean,MI_dir_5_std,MI_dir_3_weight,MI_dir_3_mean,MI_dir_3_std,MI_dir_1_weight,MI_dir_1_mean,MI_dir_1_std,MI_dir_0.1_weight,MI_dir_0.1_mean,MI_dir_0.1_std,MI_dir_0.01_weight,MI_dir_0.01_mean,MI_dir_0.01_std,HH_5_weight_0,HH_5_mean_0,HH_5_std_0,HH_5_radius_0_1,HH_5_magnitude_0_1,HH_5_covariance_0_1,HH_5_pcc_0_1,HH_3_weight_0,HH_3_mean_0,HH_3_std_0,HH_3_radius_0_1,HH_3_magnitude_0_1,HH_3_covariance_0_1,HH_3_pcc_0_1,HH_1_weight_0,HH_1_mean_0,HH_1_std_0,HH_1_radius_0_1,HH_1_magnitude_0_1,HH_1_covariance_0_1,HH_1_pcc_0_1,HH_0.1_weight_0,HH_0.1_mean_0,HH_0.1_std_0,HH_0.1_radius_0_1,HH_0.1_magnitude_0_1,HH_0.1_covariance_0_1,HH_0.1_pcc_0_1,HH_0.01_weight_0,HH_0.01_mean_0,HH_0.01_std_0,HH_0.01_radius_0_1,HH_0.01_magnitude_0_1,HH_0.01_covariance_0_1,HH_0.01_pcc_0_1,HH_jit_5_weight,HH_jit_5_mean,HH_jit_5_std,HH_jit_3_weight,HH_jit_3_mean,HH_jit_3_std,HH_jit_1_weight,HH_jit_1_mean,HH_jit_1_std,HH_jit_0.1_weight,HH_jit_0.1_mean,HH_jit_0.1_std,HH_jit_0.01_weight,HH_jit_0.01_mean,HH_jit_0.01_std,HpHp_5_weight_0,HpHp_5_mean_0,HpHp_5_std_0,HpHp_5_radius_0_1,HpHp_5_magnitude_0_1,HpHp_5_covariance_0_1,HpHp_5_pcc_0_1,HpHp_3_weight_0,HpHp_3_mean_0,HpHp_3_std_0,HpHp_3_radius_0_1,HpHp_3_magnitude_0_1,HpHp_3_covariance_0_1,HpHp_3_pcc_0_1,HpHp_1_weight_0,HpHp_1_mean_0,HpHp_1_std_0,HpHp_1_radius_0_1,HpHp_1_magnitude_0_1,HpHp_1_covariance_0_1,HpHp_1_pcc_0_1,HpHp_0.1_weight_0,HpHp_0.1_mean_0,HpHp_0.1_std_0,HpHp_0.1_radius_0_1,HpHp_0.1_magnitude_0_1,HpHp_0.1_covariance_0_1,HpHp_0.1_pcc_0_1,HpHp_0.01_weight_0,HpHp_0.01_mean_0,HpHp_0.01_std_0,HpHp_0.01_radius_0_1,HpHp_0.01_magnitude_0_1,HpHp_0.01_covariance_0_1,HpHp_0.01_pcc_0_1\\n'\n",
    "    ths = open(output, \"w\")\n",
    "    ths.write(main_labels)\n",
    "    for c in tqdm(csvs):\n",
    "        with open(c, \"r\") as file:\n",
    "            while True:\n",
    "                line=file.readline()\n",
    "                if line==\"\":break\n",
    "                temp=line[:-1]\n",
    "                temp=temp.split(\",\")\n",
    "                if temp[-1] in devices:\n",
    "                    ths.write(line)\n",
    "    ths.close()\n"
   ]
  },
  {
   "cell_type": "code",
   "execution_count": 23,
   "id": "0bf64981-0a1c-4390-9bec-ab5617114575",
   "metadata": {},
   "outputs": [
    {
     "data": {
      "application/vnd.jupyter.widget-view+json": {
       "model_id": "ba0c012a076d4b3b8c858962f3f52724",
       "version_major": 2,
       "version_minor": 0
      },
      "text/plain": [
       "  0%|          | 0/62 [00:00<?, ?it/s]"
      ]
     },
     "metadata": {},
     "output_type": "display_data"
    },
    {
     "data": {
      "application/vnd.jupyter.widget-view+json": {
       "model_id": "a4d92c1695834146a7d09b3717a13460",
       "version_major": 2,
       "version_minor": 0
      },
      "text/plain": [
       "  0%|          | 0/62 [00:00<?, ?it/s]"
      ]
     },
     "metadata": {},
     "output_type": "display_data"
    }
   ],
   "source": [
    "# find all csv files in folder 1\n",
    "path=\"./csvs/1\"\n",
    "csvs=find_the_way(path,\".csv\")\n",
    "# Create the final session 1 device group 1 file by eliminating unwanted, irrelevant samples using MAC addresses (device names)\n",
    "devices=list(macs_devicegroup1.values()) #Devices names\n",
    "csv_merger(\"session-1-DeviceGroup-1.csv\",csvs,devices)\n",
    "# Create the final session 1 device group 2 file by eliminating unwanted, irrelevant samples using MAC addresses (device names)\n",
    "devices=list(macs_devicegroup2.values()) #Devices names\n",
    "csv_merger(\"session-1-DeviceGroup-2.csv\",csvs,devices)"
   ]
  },
  {
   "cell_type": "code",
   "execution_count": 24,
   "id": "145e0cd1-c53c-4a2f-b3ae-4341a946f452",
   "metadata": {},
   "outputs": [
    {
     "data": {
      "application/vnd.jupyter.widget-view+json": {
       "model_id": "fe82cbc3ca274341a7b8a64e16697674",
       "version_major": 2,
       "version_minor": 0
      },
      "text/plain": [
       "  0%|          | 0/58 [00:00<?, ?it/s]"
      ]
     },
     "metadata": {},
     "output_type": "display_data"
    },
    {
     "data": {
      "application/vnd.jupyter.widget-view+json": {
       "model_id": "ea9d9d79627d43778ce7fc2e79203a61",
       "version_major": 2,
       "version_minor": 0
      },
      "text/plain": [
       "  0%|          | 0/58 [00:00<?, ?it/s]"
      ]
     },
     "metadata": {},
     "output_type": "display_data"
    }
   ],
   "source": [
    "# find all csv files in folder 1\n",
    "path=\"./csvs/2\"\n",
    "csvs=find_the_way(path,\".csv\")\n",
    "# Create the final session 2 device group 1 file by eliminating unwanted, irrelevant samples using MAC addresses (device names)\n",
    "devices=list(macs_devicegroup1.values()) #Devices names\n",
    "csv_merger(\"session-2-DeviceGroup-1.csv\",csvs,devices)\n",
    "# Create the final session 2 device group 2 file by eliminating unwanted, irrelevant samples using MAC addresses (device names)\n",
    "devices=list(macs_devicegroup2.values()) #Devices names\n",
    "csv_merger(\"session-2-DeviceGroup-2.csv\",csvs,devices)"
   ]
  },
  {
   "cell_type": "code",
   "execution_count": null,
   "id": "f803cf55-c1b0-4fb9-94d8-e890806be78a",
   "metadata": {},
   "outputs": [],
   "source": []
  }
 ],
 "metadata": {
  "kernelspec": {
   "display_name": "Python 3 (ipykernel)",
   "language": "python",
   "name": "python3"
  },
  "language_info": {
   "codemirror_mode": {
    "name": "ipython",
    "version": 3
   },
   "file_extension": ".py",
   "mimetype": "text/x-python",
   "name": "python",
   "nbconvert_exporter": "python",
   "pygments_lexer": "ipython3",
   "version": "3.12.1"
  }
 },
 "nbformat": 4,
 "nbformat_minor": 5
}
