{
 "cells": [
  {
   "cell_type": "code",
   "execution_count": 1,
   "id": "551db502-d21f-49ca-9f59-b84656d32c0d",
   "metadata": {
    "scrolled": true
   },
   "outputs": [],
   "source": [
    "import numpy as np\n",
    "import os\n",
    "\n",
    "\n",
    "import keras"
   ]
  },
  {
   "cell_type": "code",
   "execution_count": 2,
   "id": "5cff92de-d357-4858-8e97-990c4e3c140f",
   "metadata": {},
   "outputs": [],
   "source": [
    "import numpy as np\n",
    "import pandas as pd\n",
    "import tensorflow as tf\n",
    "from tensorflow import keras\n",
    "from tensorflow.keras import layers\n",
    "from keras_tuner.tuners import RandomSearch\n",
    "from sklearn.model_selection import train_test_split\n",
    "from sklearn.metrics import f1_score\n",
    "from keras_tuner import HyperModel, Objective"
   ]
  },
  {
   "cell_type": "code",
   "execution_count": 5,
   "id": "f2a91cb1-c697-430c-a48b-b4971648bd52",
   "metadata": {},
   "outputs": [
    {
     "name": "stdout",
     "output_type": "stream",
     "text": [
      "Trial 25 Complete [00h 00m 50s]\n",
      "val_f1_score: 0.9924461841583252\n",
      "\n",
      "Best val_f1_score So Far: 1.0\n",
      "Total elapsed time: 06h 22m 33s\n"
     ]
    },
    {
     "name": "stderr",
     "output_type": "stream",
     "text": [
      "C:\\Users\\kahra\\AppData\\Local\\Programs\\Python\\Python310\\lib\\site-packages\\keras\\src\\saving\\saving_lib.py:396: UserWarning: Skipping variable loading for optimizer 'adam', because it has 2 variables whereas the saved optimizer has 14 variables. \n",
      "  trackable.load_own_variables(weights_store.get(inner_path))\n"
     ]
    },
    {
     "name": "stdout",
     "output_type": "stream",
     "text": [
      "\u001b[1m638/638\u001b[0m \u001b[32m━━━━━━━━━━━━━━━━━━━━\u001b[0m\u001b[37m\u001b[0m \u001b[1m2s\u001b[0m 3ms/step\n",
      "Weighted F1 Score: 0.17858816568348038\n"
     ]
    },
    {
     "data": {
      "text/html": [
       "<pre style=\"white-space:pre;overflow-x:auto;line-height:normal;font-family:Menlo,'DejaVu Sans Mono',consolas,'Courier New',monospace\"><span style=\"font-weight: bold\">Model: \"sequential\"</span>\n",
       "</pre>\n"
      ],
      "text/plain": [
       "\u001b[1mModel: \"sequential\"\u001b[0m\n"
      ]
     },
     "metadata": {},
     "output_type": "display_data"
    },
    {
     "data": {
      "text/html": [
       "<pre style=\"white-space:pre;overflow-x:auto;line-height:normal;font-family:Menlo,'DejaVu Sans Mono',consolas,'Courier New',monospace\">┏━━━━━━━━━━━━━━━━━━━━━━━━━━━━━━━━━━━━━━┳━━━━━━━━━━━━━━━━━━━━━━━━━━━━━┳━━━━━━━━━━━━━━━━━┓\n",
       "┃<span style=\"font-weight: bold\"> Layer (type)                         </span>┃<span style=\"font-weight: bold\"> Output Shape                </span>┃<span style=\"font-weight: bold\">         Param # </span>┃\n",
       "┡━━━━━━━━━━━━━━━━━━━━━━━━━━━━━━━━━━━━━━╇━━━━━━━━━━━━━━━━━━━━━━━━━━━━━╇━━━━━━━━━━━━━━━━━┩\n",
       "│ dense (<span style=\"color: #0087ff; text-decoration-color: #0087ff\">Dense</span>)                        │ (<span style=\"color: #00d7ff; text-decoration-color: #00d7ff\">None</span>, <span style=\"color: #00af00; text-decoration-color: #00af00\">128</span>)                 │           <span style=\"color: #00af00; text-decoration-color: #00af00\">4,992</span> │\n",
       "├──────────────────────────────────────┼─────────────────────────────┼─────────────────┤\n",
       "│ dense_1 (<span style=\"color: #0087ff; text-decoration-color: #0087ff\">Dense</span>)                      │ (<span style=\"color: #00d7ff; text-decoration-color: #00d7ff\">None</span>, <span style=\"color: #00af00; text-decoration-color: #00af00\">32</span>)                  │           <span style=\"color: #00af00; text-decoration-color: #00af00\">4,128</span> │\n",
       "├──────────────────────────────────────┼─────────────────────────────┼─────────────────┤\n",
       "│ dropout (<span style=\"color: #0087ff; text-decoration-color: #0087ff\">Dropout</span>)                    │ (<span style=\"color: #00d7ff; text-decoration-color: #00d7ff\">None</span>, <span style=\"color: #00af00; text-decoration-color: #00af00\">32</span>)                  │               <span style=\"color: #00af00; text-decoration-color: #00af00\">0</span> │\n",
       "├──────────────────────────────────────┼─────────────────────────────┼─────────────────┤\n",
       "│ dense_2 (<span style=\"color: #0087ff; text-decoration-color: #0087ff\">Dense</span>)                      │ (<span style=\"color: #00d7ff; text-decoration-color: #00d7ff\">None</span>, <span style=\"color: #00af00; text-decoration-color: #00af00\">21</span>)                  │             <span style=\"color: #00af00; text-decoration-color: #00af00\">693</span> │\n",
       "└──────────────────────────────────────┴─────────────────────────────┴─────────────────┘\n",
       "</pre>\n"
      ],
      "text/plain": [
       "┏━━━━━━━━━━━━━━━━━━━━━━━━━━━━━━━━━━━━━━┳━━━━━━━━━━━━━━━━━━━━━━━━━━━━━┳━━━━━━━━━━━━━━━━━┓\n",
       "┃\u001b[1m \u001b[0m\u001b[1mLayer (type)                        \u001b[0m\u001b[1m \u001b[0m┃\u001b[1m \u001b[0m\u001b[1mOutput Shape               \u001b[0m\u001b[1m \u001b[0m┃\u001b[1m \u001b[0m\u001b[1m        Param #\u001b[0m\u001b[1m \u001b[0m┃\n",
       "┡━━━━━━━━━━━━━━━━━━━━━━━━━━━━━━━━━━━━━━╇━━━━━━━━━━━━━━━━━━━━━━━━━━━━━╇━━━━━━━━━━━━━━━━━┩\n",
       "│ dense (\u001b[38;5;33mDense\u001b[0m)                        │ (\u001b[38;5;45mNone\u001b[0m, \u001b[38;5;34m128\u001b[0m)                 │           \u001b[38;5;34m4,992\u001b[0m │\n",
       "├──────────────────────────────────────┼─────────────────────────────┼─────────────────┤\n",
       "│ dense_1 (\u001b[38;5;33mDense\u001b[0m)                      │ (\u001b[38;5;45mNone\u001b[0m, \u001b[38;5;34m32\u001b[0m)                  │           \u001b[38;5;34m4,128\u001b[0m │\n",
       "├──────────────────────────────────────┼─────────────────────────────┼─────────────────┤\n",
       "│ dropout (\u001b[38;5;33mDropout\u001b[0m)                    │ (\u001b[38;5;45mNone\u001b[0m, \u001b[38;5;34m32\u001b[0m)                  │               \u001b[38;5;34m0\u001b[0m │\n",
       "├──────────────────────────────────────┼─────────────────────────────┼─────────────────┤\n",
       "│ dense_2 (\u001b[38;5;33mDense\u001b[0m)                      │ (\u001b[38;5;45mNone\u001b[0m, \u001b[38;5;34m21\u001b[0m)                  │             \u001b[38;5;34m693\u001b[0m │\n",
       "└──────────────────────────────────────┴─────────────────────────────┴─────────────────┘\n"
      ]
     },
     "metadata": {},
     "output_type": "display_data"
    },
    {
     "data": {
      "text/html": [
       "<pre style=\"white-space:pre;overflow-x:auto;line-height:normal;font-family:Menlo,'DejaVu Sans Mono',consolas,'Courier New',monospace\"><span style=\"font-weight: bold\"> Total params: </span><span style=\"color: #00af00; text-decoration-color: #00af00\">9,813</span> (38.33 KB)\n",
       "</pre>\n"
      ],
      "text/plain": [
       "\u001b[1m Total params: \u001b[0m\u001b[38;5;34m9,813\u001b[0m (38.33 KB)\n"
      ]
     },
     "metadata": {},
     "output_type": "display_data"
    },
    {
     "data": {
      "text/html": [
       "<pre style=\"white-space:pre;overflow-x:auto;line-height:normal;font-family:Menlo,'DejaVu Sans Mono',consolas,'Courier New',monospace\"><span style=\"font-weight: bold\"> Trainable params: </span><span style=\"color: #00af00; text-decoration-color: #00af00\">9,813</span> (38.33 KB)\n",
       "</pre>\n"
      ],
      "text/plain": [
       "\u001b[1m Trainable params: \u001b[0m\u001b[38;5;34m9,813\u001b[0m (38.33 KB)\n"
      ]
     },
     "metadata": {},
     "output_type": "display_data"
    },
    {
     "data": {
      "text/html": [
       "<pre style=\"white-space:pre;overflow-x:auto;line-height:normal;font-family:Menlo,'DejaVu Sans Mono',consolas,'Courier New',monospace\"><span style=\"font-weight: bold\"> Non-trainable params: </span><span style=\"color: #00af00; text-decoration-color: #00af00\">0</span> (0.00 B)\n",
       "</pre>\n"
      ],
      "text/plain": [
       "\u001b[1m Non-trainable params: \u001b[0m\u001b[38;5;34m0\u001b[0m (0.00 B)\n"
      ]
     },
     "metadata": {},
     "output_type": "display_data"
    },
    {
     "name": "stdout",
     "output_type": "stream",
     "text": [
      "En iyi modelin hiperparametreleri:\n",
      "{'units_input': 128, 'num_layers': 1, 'units_0': 32, 'dropout_0': 0.2, 'learning_rate': 0.0001, 'units_1': 64, 'dropout_1': 0.2, 'units_2': 96, 'dropout_2': 0.2}\n"
     ]
    }
   ],
   "source": [
    "\n",
    "\n",
    "# Veri yükleme\n",
    "feature_list =['dstport',\n",
    "  'dstport',\n",
    "  'dstport_class',\n",
    "  'http.chat',\n",
    "  'http.notification',\n",
    "  'http.request.method',\n",
    "  'ip.flags.df',\n",
    "  'ip.len',\n",
    "  'ip.proto',\n",
    "  'ip.ttl',\n",
    "  'srcport',\n",
    "  'srcport_class',\n",
    "  'tcp.ack',\n",
    "  'tcp.analysis.ack_rtt',\n",
    "  'tcp.analysis.bytes_in_flight',\n",
    "  'tcp.analysis.initial_rtt',\n",
    "  'tcp.analysis.push_bytes_sent',\n",
    "  'tcp.completeness',\n",
    "  'tcp.dstport',\n",
    "  'tcp.flags',\n",
    "  'tcp.flags.push',\n",
    "  'tcp.flags.str',\n",
    "  'tcp.flags.syn',\n",
    "  'tcp.hdr_len',\n",
    "  'tcp.len',\n",
    "  'tcp.nxtseq',\n",
    "  'tcp.srcport',\n",
    "  'tcp.stream',\n",
    "  'tcp.time_delta',\n",
    "  'tcp.time_relative',\n",
    "  'tcp.window_size',\n",
    "  'tcp.window_size_scalefactor',\n",
    "  'tcp.window_size_value',\n",
    "  'tls.record.length',\n",
    "  'udp.checksum.status',\n",
    "  'udp.dstport',\n",
    "  'udp.srcport',\n",
    "  'udp.time_delta',\n",
    "  'udp.time_relative',\"Label\"]\n",
    "file_list={\"HPO\":['./small/AD-S1.csv','./small/AD-S2.csv']}\n",
    "\n",
    "j=\"HPO\"\n",
    "\n",
    "df=pd.read_csv(file_list[j][0],usecols=feature_list) \n",
    "X_train = df.iloc[:,0:-1]\n",
    "df['Label'] = df['Label'].astype('category')\n",
    "y_train=df['Label'].cat.codes  \n",
    "\n",
    "df=pd.read_csv(file_list[j][1],usecols=feature_list) \n",
    "X_test = df.iloc[:,0:-1]\n",
    "df['Label'] = df['Label'].astype('category')\n",
    "y_test=df['Label'].cat.codes  \n",
    "\n",
    "# Veriyi ANN modeline uygun hale getirme\n",
    "X_train = X_train.values\n",
    "X_test = X_test.values\n",
    "\n",
    "# ANN modeli oluşturma\n",
    "def build_model(hp):\n",
    "    model = keras.Sequential()\n",
    "    model.add(layers.Dense(units=hp.Int('units_input', min_value=32, max_value=128, step=32),\n",
    "                           activation='relu',\n",
    "                           input_shape=(X_train.shape[1],)))\n",
    "    \n",
    "    for i in range(hp.Int('num_layers', 1, 3)):\n",
    "        model.add(layers.Dense(units=hp.Int(f'units_{i}', min_value=32, max_value=128, step=32),\n",
    "                               activation='relu'))\n",
    "        model.add(layers.Dropout(rate=hp.Float(f'dropout_{i}', min_value=0.0, max_value=0.5, step=0.1)))\n",
    "    \n",
    "    model.add(layers.Dense(21, activation='softmax'))  # Çok sınıflı bir problem için 3 sınıf var\n",
    "    \n",
    "    model.compile(optimizer=keras.optimizers.Adam(hp.Choice('learning_rate', values=[1e-2, 1e-3, 1e-4])),\n",
    "                  loss='sparse_categorical_crossentropy',\n",
    "                  metrics=[F1Score()])  # F1Score'u kullanarak ölçüm yapalım\n",
    "    \n",
    "    return model\n",
    "\n",
    "# F1 skoru için özel metrik sınıfı tanımlama\n",
    "class F1Score(keras.metrics.Metric):\n",
    "    def __init__(self, name='f1_score', **kwargs):\n",
    "        super(F1Score, self).__init__(name=name, **kwargs)\n",
    "        self.true_positives = self.add_weight(name='tp', initializer='zeros')\n",
    "        self.false_positives = self.add_weight(name='fp', initializer='zeros')\n",
    "        self.false_negatives = self.add_weight(name='fn', initializer='zeros')\n",
    "\n",
    "    def update_state(self, y_true, y_pred, sample_weight=None):\n",
    "        y_pred = tf.argmax(y_pred, axis=1)\n",
    "        y_true = tf.cast(y_true, tf.int64)\n",
    "        y_pred = tf.cast(y_pred, tf.int64)\n",
    "        \n",
    "        # True positives\n",
    "        tp = tf.reduce_sum(tf.cast(tf.logical_and(tf.equal(y_true, 1), tf.equal(y_pred, 1)), tf.float32))\n",
    "        # False positives\n",
    "        fp = tf.reduce_sum(tf.cast(tf.logical_and(tf.equal(y_true, 0), tf.equal(y_pred, 1)), tf.float32))\n",
    "        # False negatives\n",
    "        fn = tf.reduce_sum(tf.cast(tf.logical_and(tf.equal(y_true, 1), tf.equal(y_pred, 0)), tf.float32))\n",
    "\n",
    "        self.true_positives.assign_add(tp)\n",
    "        self.false_positives.assign_add(fp)\n",
    "        self.false_negatives.assign_add(fn)\n",
    "\n",
    "    def result(self):\n",
    "        precision = self.true_positives / (self.true_positives + self.false_positives + keras.backend.epsilon())\n",
    "        recall = self.true_positives / (self.true_positives + self.false_negatives + keras.backend.epsilon())\n",
    "        f1 = 2 * precision * recall / (precision + recall + keras.backend.epsilon())\n",
    "        return f1\n",
    "\n",
    "    def reset_state(self):\n",
    "        self.true_positives.assign(0)\n",
    "        self.false_positives.assign(0)\n",
    "        self.false_negatives.assign(0)\n",
    "\n",
    "# Hiperparametre araması yapma\n",
    "tuner = RandomSearch(\n",
    "    build_model,\n",
    "    objective=Objective(\"val_f1_score\", direction=\"max\"),\n",
    "    max_trials=25,\n",
    "    directory='ANNmy_dir',\n",
    "    project_name='ann_hyperparameter_tuning')\n",
    "\n",
    "tuner.search(X_train, y_train,\n",
    "             epochs=10,\n",
    "             validation_data=(X_test, y_test))\n",
    "\n",
    "# En iyi modeli seçme ve değerlendirme\n",
    "best_model = tuner.get_best_models(num_models=1)[0]\n",
    "\n",
    "y_pred = best_model.predict(X_test)\n",
    "y_pred_classes = np.argmax(y_pred, axis=1)\n",
    "f1 = f1_score(y_test, y_pred_classes, average='macro')  # Weighted F1 score'u kullanıyoruz\n",
    "print(\"Weighted F1 Score:\", f1)\n",
    "\n",
    "best_model.summary()\n",
    "best_hyperparameters = tuner.get_best_hyperparameters(num_trials=1)[0]\n",
    "print(\"En iyi modelin hiperparametreleri:\")\n",
    "print(best_hyperparameters.values)\n"
   ]
  },
  {
   "cell_type": "code",
   "execution_count": null,
   "id": "4572d48e-25e7-497b-af8d-11d5f156e8ae",
   "metadata": {},
   "outputs": [],
   "source": []
  },
  {
   "cell_type": "code",
   "execution_count": null,
   "id": "e5cd3ef2-fcb2-446e-a91f-65134ac56ab3",
   "metadata": {},
   "outputs": [],
   "source": []
  },
  {
   "cell_type": "code",
   "execution_count": 3,
   "id": "ff48d9c3-58b5-4598-b103-321c56392b3e",
   "metadata": {},
   "outputs": [],
   "source": [
    "\n",
    "\n",
    "# Veri yükleme\n",
    "feature_list =['dstport',\n",
    "  'dstport',\n",
    "  'dstport_class',\n",
    "  'http.chat',\n",
    "  'http.notification',\n",
    "  'http.request.method',\n",
    "  'ip.flags.df',\n",
    "  'ip.len',\n",
    "  'ip.proto',\n",
    "  'ip.ttl',\n",
    "  'srcport',\n",
    "  'srcport_class',\n",
    "  'tcp.ack',\n",
    "  'tcp.analysis.ack_rtt',\n",
    "  'tcp.analysis.bytes_in_flight',\n",
    "  'tcp.analysis.initial_rtt',\n",
    "  'tcp.analysis.push_bytes_sent',\n",
    "  'tcp.completeness',\n",
    "  'tcp.dstport',\n",
    "  'tcp.flags',\n",
    "  'tcp.flags.push',\n",
    "  'tcp.flags.str',\n",
    "  'tcp.flags.syn',\n",
    "  'tcp.hdr_len',\n",
    "  'tcp.len',\n",
    "  'tcp.nxtseq',\n",
    "  'tcp.srcport',\n",
    "  'tcp.stream',\n",
    "  'tcp.time_delta',\n",
    "  'tcp.time_relative',\n",
    "  'tcp.window_size',\n",
    "  'tcp.window_size_scalefactor',\n",
    "  'tcp.window_size_value',\n",
    "  'tls.record.length',\n",
    "  'udp.checksum.status',\n",
    "  'udp.dstport',\n",
    "  'udp.srcport',\n",
    "  'udp.time_delta',\n",
    "  'udp.time_relative',\"Label\"]\n",
    "file_list={\"HPO\":['./small/AD-S1.csv','./small/AD-S2.csv']}\n",
    "\n",
    "j=\"HPO\"\n",
    "\n",
    "df=pd.read_csv(file_list[j][0],usecols=feature_list) \n",
    "\n"
   ]
  },
  {
   "cell_type": "code",
   "execution_count": 5,
   "id": "0ccaa8ee-714c-40d4-aed9-64f872020c33",
   "metadata": {},
   "outputs": [],
   "source": [
    "df.to_csv(\"deneme.csv\",index=False)"
   ]
  },
  {
   "cell_type": "code",
   "execution_count": null,
   "id": "56a26667-37a1-4698-8b94-fa90a370e8ca",
   "metadata": {},
   "outputs": [],
   "source": []
  },
  {
   "cell_type": "code",
   "execution_count": 7,
   "id": "d3008f47-c4cc-4d71-ad22-86647df57979",
   "metadata": {},
   "outputs": [],
   "source": [
    "\n",
    "mylist=[]\n",
    "\n",
    "ths = open(\"dene.csv\", \"w\")\n",
    "with open(\"deneme.csv\", \"r\") as file:\n",
    "    while True:\n",
    "\n",
    "            line=file.readline()\n",
    "            if line==\"\":break\n",
    "            k=line.split(\",\")\n",
    "            if k[-1] not in mylist:\n",
    "                mylist.append(k[-1])\n",
    "                ths.write(line)\n",
    "\n",
    "ths.close()"
   ]
  },
  {
   "cell_type": "code",
   "execution_count": null,
   "id": "0934291e-726e-48af-960d-397ac2f53e25",
   "metadata": {},
   "outputs": [],
   "source": []
  }
 ],
 "metadata": {
  "kernelspec": {
   "display_name": "Python 3 (ipykernel)",
   "language": "python",
   "name": "python3"
  },
  "language_info": {
   "codemirror_mode": {
    "name": "ipython",
    "version": 3
   },
   "file_extension": ".py",
   "mimetype": "text/x-python",
   "name": "python",
   "nbconvert_exporter": "python",
   "pygments_lexer": "ipython3",
   "version": "3.10.11"
  }
 },
 "nbformat": 4,
 "nbformat_minor": 5
}
