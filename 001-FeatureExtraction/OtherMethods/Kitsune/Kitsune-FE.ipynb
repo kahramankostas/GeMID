{
 "cells": [
  {
   "cell_type": "markdown",
   "id": "3b11dbe4",
   "metadata": {},
   "source": [
    "Adapted from the [Kitsune](https://github.com/ymirsky/Kitsune-py). Code uses raw data with the pcap extension in the pcaps folder to create 115 customized csv files and saves them in the csvs folder.\n",
    "\n",
    "\n",
    "The Kitsune Study: \n",
    "\n",
    "* Paper: https://arxiv.org/abs/1802.09089\n",
    "* Code:  https://github.com/ymirsky/Kitsune-py\n"
   ]
  },
  {
   "cell_type": "code",
   "execution_count": 27,
   "id": "4e6c4dc4",
   "metadata": {},
   "outputs": [],
   "source": [
    "####  import related modules\n",
    "\n",
    "import warnings\n",
    "warnings.filterwarnings(\"ignore\")\n",
    "import os\n",
    "from tqdm import tqdm\n",
    "import pandas as pd\n",
    "from FeatureExtractor import *\n",
    "import numpy as np"
   ]
  },
  {
   "cell_type": "code",
   "execution_count": 28,
   "id": "7541dc1e",
   "metadata": {},
   "outputs": [],
   "source": [
    "#### Folder creator\n",
    "def folder(f_name): #this function creates a folder named \"attacks\" in the program directory.\n",
    "    try:\n",
    "        if not os.path.exists(f_name):\n",
    "            os.makedirs(f_name)\n",
    "    except OSError:\n",
    "        print (\"The folder could not be created!\")\n",
    "folder(\"csvs\")"
   ]
  },
  {
   "cell_type": "code",
   "execution_count": 29,
   "id": "2a852505",
   "metadata": {},
   "outputs": [
    {
     "data": {
      "text/plain": [
       "['./pcaps/16-09-29.pcap',\n",
       " './pcaps/16-10-03.pcap',\n",
       " './pcaps/16-11-18.pcap',\n",
       " './pcaps/16-11-22.pcap',\n",
       " './pcaps/18-06-11.pcap',\n",
       " './pcaps/18-06-14.pcap',\n",
       " './pcaps/18-10-13.pcap',\n",
       " './pcaps/18-10-16.pcap']"
      ]
     },
     "execution_count": 29,
     "metadata": {},
     "output_type": "execute_result"
    }
   ],
   "source": [
    "#### File finder\n",
    "def find_the_way(path,file_format,con=\"\"):\n",
    "    files_add = []\n",
    "    # r=root, d=directories, f = files\n",
    "    for r, d, f in os.walk(path):\n",
    "        for file in f:\n",
    "            if file_format in file:\n",
    "                if con in file:\n",
    "                    files_add.append(os.path.join(r, file))  \n",
    "            \n",
    "    return files_add\n",
    "path=\"pcaps\"\n",
    "\n",
    "files_add=find_the_way('./pcaps/',\".pcap\")\n",
    "files_add"
   ]
  },
  {
   "cell_type": "code",
   "execution_count": 30,
   "id": "793f0978-86ea-4731-8ec0-91f51391743d",
   "metadata": {},
   "outputs": [],
   "source": [
    "#### Delete unnecessary files\n",
    "def killthemall(path,key):\n",
    "    them=find_the_way(path,key)\n",
    "    for t in them:\n",
    "        try:\n",
    "            os.remove(t)\n",
    "        except:\n",
    "            print(f\"error about delete {t} file\")\n",
    "killthemall(\"./pcaps\",\".tsv\")"
   ]
  },
  {
   "cell_type": "code",
   "execution_count": 31,
   "id": "d37948a7",
   "metadata": {},
   "outputs": [],
   "source": [
    "main_labels=ln=['MI_dir_5_weight', 'MI_dir_5_mean', 'MI_dir_5_std', 'MI_dir_3_weight', 'MI_dir_3_mean', 'MI_dir_3_std', 'MI_dir_1_weight', 'MI_dir_1_mean', 'MI_dir_1_std', 'MI_dir_0.1_weight', 'MI_dir_0.1_mean', 'MI_dir_0.1_std', 'MI_dir_0.01_weight', 'MI_dir_0.01_mean', 'MI_dir_0.01_std', 'HH_5_weight_0', 'HH_5_mean_0', 'HH_5_std_0', 'HH_5_radius_0_1', 'HH_5_magnitude_0_1', 'HH_5_covariance_0_1', 'HH_5_pcc_0_1', 'HH_3_weight_0', 'HH_3_mean_0', 'HH_3_std_0', 'HH_3_radius_0_1', 'HH_3_magnitude_0_1', 'HH_3_covariance_0_1', 'HH_3_pcc_0_1', 'HH_1_weight_0', 'HH_1_mean_0', 'HH_1_std_0', 'HH_1_radius_0_1', 'HH_1_magnitude_0_1', 'HH_1_covariance_0_1', 'HH_1_pcc_0_1', 'HH_0.1_weight_0', 'HH_0.1_mean_0', 'HH_0.1_std_0', 'HH_0.1_radius_0_1', 'HH_0.1_magnitude_0_1', 'HH_0.1_covariance_0_1', 'HH_0.1_pcc_0_1', 'HH_0.01_weight_0', 'HH_0.01_mean_0', 'HH_0.01_std_0', 'HH_0.01_radius_0_1', 'HH_0.01_magnitude_0_1', 'HH_0.01_covariance_0_1', 'HH_0.01_pcc_0_1', 'HH_jit_5_weight', 'HH_jit_5_mean', 'HH_jit_5_std', 'HH_jit_3_weight', 'HH_jit_3_mean', 'HH_jit_3_std', 'HH_jit_1_weight', 'HH_jit_1_mean', 'HH_jit_1_std', 'HH_jit_0.1_weight', 'HH_jit_0.1_mean', 'HH_jit_0.1_std', 'HH_jit_0.01_weight', 'HH_jit_0.01_mean', 'HH_jit_0.01_std', 'HpHp_5_weight_0', 'HpHp_5_mean_0', 'HpHp_5_std_0', 'HpHp_5_radius_0_1', 'HpHp_5_magnitude_0_1', 'HpHp_5_covariance_0_1', 'HpHp_5_pcc_0_1', 'HpHp_3_weight_0', 'HpHp_3_mean_0', 'HpHp_3_std_0', 'HpHp_3_radius_0_1', 'HpHp_3_magnitude_0_1', 'HpHp_3_covariance_0_1', 'HpHp_3_pcc_0_1', 'HpHp_1_weight_0', 'HpHp_1_mean_0', 'HpHp_1_std_0', 'HpHp_1_radius_0_1', 'HpHp_1_magnitude_0_1', 'HpHp_1_covariance_0_1', 'HpHp_1_pcc_0_1', 'HpHp_0.1_weight_0', 'HpHp_0.1_mean_0', 'HpHp_0.1_std_0', 'HpHp_0.1_radius_0_1', 'HpHp_0.1_magnitude_0_1', 'HpHp_0.1_covariance_0_1', 'HpHp_0.1_pcc_0_1', 'HpHp_0.01_weight_0', 'HpHp_0.01_mean_0', 'HpHp_0.01_std_0', 'HpHp_0.01_radius_0_1', 'HpHp_0.01_magnitude_0_1', 'HpHp_0.01_covariance_0_1', 'HpHp_0.01_pcc_0_1']"
   ]
  },
  {
   "cell_type": "code",
   "execution_count": 32,
   "id": "5b00cd83",
   "metadata": {},
   "outputs": [
    {
     "data": {
      "text/plain": [
       "'MI_dir_5_weight,MI_dir_5_mean,MI_dir_5_std,MI_dir_3_weight,MI_dir_3_mean,MI_dir_3_std,MI_dir_1_weight,MI_dir_1_mean,MI_dir_1_std,MI_dir_0.1_weight,MI_dir_0.1_mean,MI_dir_0.1_std,MI_dir_0.01_weight,MI_dir_0.01_mean,MI_dir_0.01_std,HH_5_weight_0,HH_5_mean_0,HH_5_std_0,HH_5_radius_0_1,HH_5_magnitude_0_1,HH_5_covariance_0_1,HH_5_pcc_0_1,HH_3_weight_0,HH_3_mean_0,HH_3_std_0,HH_3_radius_0_1,HH_3_magnitude_0_1,HH_3_covariance_0_1,HH_3_pcc_0_1,HH_1_weight_0,HH_1_mean_0,HH_1_std_0,HH_1_radius_0_1,HH_1_magnitude_0_1,HH_1_covariance_0_1,HH_1_pcc_0_1,HH_0.1_weight_0,HH_0.1_mean_0,HH_0.1_std_0,HH_0.1_radius_0_1,HH_0.1_magnitude_0_1,HH_0.1_covariance_0_1,HH_0.1_pcc_0_1,HH_0.01_weight_0,HH_0.01_mean_0,HH_0.01_std_0,HH_0.01_radius_0_1,HH_0.01_magnitude_0_1,HH_0.01_covariance_0_1,HH_0.01_pcc_0_1,HH_jit_5_weight,HH_jit_5_mean,HH_jit_5_std,HH_jit_3_weight,HH_jit_3_mean,HH_jit_3_std,HH_jit_1_weight,HH_jit_1_mean,HH_jit_1_std,HH_jit_0.1_weight,HH_jit_0.1_mean,HH_jit_0.1_std,HH_jit_0.01_weight,HH_jit_0.01_mean,HH_jit_0.01_std,HpHp_5_weight_0,HpHp_5_mean_0,HpHp_5_std_0,HpHp_5_radius_0_1,HpHp_5_magnitude_0_1,HpHp_5_covariance_0_1,HpHp_5_pcc_0_1,HpHp_3_weight_0,HpHp_3_mean_0,HpHp_3_std_0,HpHp_3_radius_0_1,HpHp_3_magnitude_0_1,HpHp_3_covariance_0_1,HpHp_3_pcc_0_1,HpHp_1_weight_0,HpHp_1_mean_0,HpHp_1_std_0,HpHp_1_radius_0_1,HpHp_1_magnitude_0_1,HpHp_1_covariance_0_1,HpHp_1_pcc_0_1,HpHp_0.1_weight_0,HpHp_0.1_mean_0,HpHp_0.1_std_0,HpHp_0.1_radius_0_1,HpHp_0.1_magnitude_0_1,HpHp_0.1_covariance_0_1,HpHp_0.1_pcc_0_1,HpHp_0.01_weight_0,HpHp_0.01_mean_0,HpHp_0.01_std_0,HpHp_0.01_radius_0_1,HpHp_0.01_magnitude_0_1,HpHp_0.01_covariance_0_1,HpHp_0.01_pcc_0_1'"
      ]
     },
     "execution_count": 32,
     "metadata": {},
     "output_type": "execute_result"
    }
   ],
   "source": [
    "main_labels=( \",\".join( i for i in main_labels ) )\n",
    "main_labels"
   ]
  },
  {
   "cell_type": "code",
   "execution_count": 33,
   "id": "2abf025c",
   "metadata": {},
   "outputs": [],
   "source": [
    "class Kitsune:\n",
    "    def __init__(self,file_path,limit,max_autoencoder_size=10,FM_grace_period=None,AD_grace_period=10000,learning_rate=0.1,hidden_ratio=0.75,):\n",
    "        #init packet feature extractor (AfterImage)\n",
    "        self.FE = FE(file_path,limit)\n",
    "    def proc_next_packet(self):\n",
    "        # create feature vector\n",
    "        x = self.FE.get_next_vector()\n",
    "        if len(x) == 0:\n",
    "            return -1 #Error or no packets left\n",
    "        return x\n"
   ]
  },
  {
   "cell_type": "code",
   "execution_count": 34,
   "id": "64434e2d-973e-4b86-bce8-b4fa20db2abf",
   "metadata": {},
   "outputs": [],
   "source": [
    "def howmanylines(file):\n",
    "    with open(file, 'r') as fp:\n",
    "        x = len(fp.readlines())\n",
    "        return x"
   ]
  },
  {
   "cell_type": "code",
   "execution_count": 35,
   "id": "94b7bff6",
   "metadata": {},
   "outputs": [],
   "source": [
    "# KitNET params:\n",
    "maxAE = 10 #maximum size for any autoencoder in the ensemble layer\n",
    "FMgrace = 5000 #the number of instances taken to learn the feature mapping (the ensemble's architecture)\n",
    "ADgrace = 50000 #the number of instances used to train the anomaly detector (ensemble itself)\n",
    "limit=np.inf"
   ]
  },
  {
   "cell_type": "code",
   "execution_count": 36,
   "id": "c9e64ab5",
   "metadata": {},
   "outputs": [],
   "source": [
    "macrenamer={'d0:52:a8:00:67:5e': 'Smart Things',\n",
    " '44:65:0d:56:cc:d3': 'Amazon Echo',\n",
    " '70:ee:50:18:34:43': 'Netatmo Welcome',\n",
    " 'f4:f2:6d:93:51:f1': 'TP-Link Day Night Cloud camera',\n",
    " '00:16:6c:ab:6b:88': 'Samsung SmartCam',\n",
    " '30:8c:fb:2f:e4:b2': 'Dropcam',\n",
    " 'ec:1a:59:79:f4:89': 'Belkin Wemo switch',\n",
    " '50:c7:bf:00:56:39': 'TP-Link Smart plug',\n",
    " '74:c6:3b:29:d7:1d': 'iHome',\n",
    " 'ec:1a:59:83:28:11': 'Belkin wemo motion sensor',\n",
    " '18:b4:30:25:be:e4': 'NEST Protect smoke alarm',\n",
    " '70:ee:50:03:b8:ac': 'Netatmo weather station',\n",
    " 'd0:73:d5:01:83:08': 'Light Bulbs LiFX Smart Bulb',\n",
    " '18:b7:9e:02:20:44': 'Triby Speaker',\n",
    " 'e0:76:d0:33:bb:85': 'PIX-STAR Photo-frame',\n",
    " '70:5a:0f:e4:9b:c0': 'HP Printer',\n",
    " '08:21:ef:3b:fc:e3': 'Samsung Galaxy Tab',\n",
    " 'ac:bc:32:d4:6f:2f': 'MacBook',\n",
    " '14:cc:20:51:33:ea': 'TPLink Router Bridge LAN',\n",
    " '00:17:88:2b:9a:25': 'Phillip Hue Lightbulb',\n",
    "# '7c:70:bc:5d:5e:dc': 'Canary Camera',\n",
    " '70:88:6b:10:0f:c6': 'Awair air quality monitor'}\n"
   ]
  },
  {
   "cell_type": "code",
   "execution_count": 37,
   "id": "3c3e1929",
   "metadata": {},
   "outputs": [
    {
     "name": "stdout",
     "output_type": "stream",
     "text": [
      "Parsing with tshark...\n",
      "tshark parsing complete. File saved as: ./pcaps/16-09-29.pcap.tsv\n",
      "counting lines in file...\n",
      "There are 10001 Packets.\n"
     ]
    },
    {
     "name": "stderr",
     "output_type": "stream",
     "text": [
      "100%|███████████████████████████████████████████████████████████████████████████▉| 10000/10001 [02:14<00:00, 74.13it/s]\n",
      "100%|█████████████████████████████████████████████████████████████████████████▉| 10000/10001 [00:06<00:00, 1495.26it/s]"
     ]
    },
    {
     "name": "stdout",
     "output_type": "stream",
     "text": [
      "Complete. Time elapsed: 6.434539318084717\n",
      "Parsing with tshark...\n",
      "tshark parsing complete. File saved as: ./pcaps/16-10-03.pcap.tsv\n",
      "counting lines in file...\n",
      "There are 10001 Packets.\n"
     ]
    },
    {
     "name": "stderr",
     "output_type": "stream",
     "text": [
      "\n",
      "100%|█████████████████████████████████████████████████████████████████████████▉| 10000/10001 [00:09<00:00, 1051.55it/s]\n",
      "\n",
      " 10%|███████▍                                                                   | 1000/10001 [00:00<00:05, 1747.43it/s]\n",
      " 20%|██████████████▉                                                            | 2000/10001 [00:01<00:04, 1654.39it/s]\n",
      " 30%|██████████████████████▍                                                    | 3000/10001 [00:01<00:04, 1532.97it/s]\n",
      " 40%|█████████████████████████████▉                                             | 4000/10001 [00:02<00:03, 1539.36it/s]\n",
      " 50%|█████████████████████████████████████▍                                     | 5000/10001 [00:03<00:03, 1562.07it/s]\n",
      " 60%|████████████████████████████████████████████▉                              | 6000/10001 [00:03<00:02, 1544.54it/s]\n",
      " 70%|████████████████████████████████████████████████████▍                      | 7000/10001 [00:04<00:01, 1535.25it/s]\n",
      " 80%|███████████████████████████████████████████████████████████▉               | 8000/10001 [00:05<00:01, 1542.99it/s]\n",
      " 90%|███████████████████████████████████████████████████████████████████▍       | 9000/10001 [00:05<00:00, 1516.29it/s]\n",
      "100%|█████████████████████████████████████████████████████████████████████████▉| 10000/10001 [00:06<00:00, 1488.42it/s]"
     ]
    },
    {
     "name": "stdout",
     "output_type": "stream",
     "text": [
      "Complete. Time elapsed: 6.548250675201416\n",
      "Parsing with tshark...\n",
      "tshark parsing complete. File saved as: ./pcaps/16-11-18.pcap.tsv\n",
      "counting lines in file...\n",
      "There are 10001 Packets.\n"
     ]
    },
    {
     "name": "stderr",
     "output_type": "stream",
     "text": [
      "100%|█████████████████████████████████████████████████████████████████████████▉| 10000/10001 [00:09<00:00, 1054.25it/s]\n",
      "100%|█████████████████████████████████████████████████████████████████████████▉| 10000/10001 [00:06<00:00, 1446.14it/s]"
     ]
    },
    {
     "name": "stdout",
     "output_type": "stream",
     "text": [
      "Complete. Time elapsed: 6.752547979354858\n",
      "Parsing with tshark...\n",
      "tshark parsing complete. File saved as: ./pcaps/16-11-22.pcap.tsv\n",
      "counting lines in file...\n",
      "There are 10001 Packets.\n"
     ]
    },
    {
     "name": "stderr",
     "output_type": "stream",
     "text": [
      "\n",
      "100%|█████████████████████████████████████████████████████████████████████████▉| 10000/10001 [00:09<00:00, 1015.80it/s]\n",
      "\n",
      " 10%|███████▍                                                                   | 1000/10001 [00:00<00:05, 1587.14it/s]\n",
      " 20%|██████████████▉                                                            | 2000/10001 [00:01<00:05, 1538.64it/s]\n",
      " 30%|██████████████████████▍                                                    | 3000/10001 [00:01<00:04, 1511.24it/s]\n",
      " 40%|█████████████████████████████▉                                             | 4000/10001 [00:02<00:04, 1483.14it/s]\n",
      " 50%|█████████████████████████████████████▍                                     | 5000/10001 [00:03<00:03, 1458.37it/s]\n",
      " 60%|████████████████████████████████████████████▉                              | 6000/10001 [00:04<00:02, 1460.19it/s]\n",
      " 70%|████████████████████████████████████████████████████▍                      | 7000/10001 [00:04<00:02, 1464.81it/s]\n",
      " 80%|███████████████████████████████████████████████████████████▉               | 8000/10001 [00:05<00:01, 1473.68it/s]\n",
      " 90%|███████████████████████████████████████████████████████████████████▍       | 9000/10001 [00:06<00:00, 1464.21it/s]\n",
      "100%|█████████████████████████████████████████████████████████████████████████▉| 10000/10001 [00:06<00:00, 1468.50it/s]"
     ]
    },
    {
     "name": "stdout",
     "output_type": "stream",
     "text": [
      "Complete. Time elapsed: 6.792440891265869\n",
      "Parsing with tshark...\n",
      "tshark parsing complete. File saved as: ./pcaps/18-06-11.pcap.tsv\n",
      "counting lines in file...\n",
      "There are 10001 Packets.\n"
     ]
    },
    {
     "name": "stderr",
     "output_type": "stream",
     "text": [
      "100%|█████████████████████████████████████████████████████████████████████████▉| 10000/10001 [00:09<00:00, 1017.93it/s]\n",
      "100%|█████████████████████████████████████████████████████████████████████████▉| 10000/10001 [00:06<00:00, 1368.53it/s]"
     ]
    },
    {
     "name": "stdout",
     "output_type": "stream",
     "text": [
      "Complete. Time elapsed: 6.803783416748047\n",
      "Parsing with tshark...\n",
      "tshark parsing complete. File saved as: ./pcaps/18-06-14.pcap.tsv\n",
      "counting lines in file...\n",
      "There are 10001 Packets.\n"
     ]
    },
    {
     "name": "stderr",
     "output_type": "stream",
     "text": [
      "\n",
      "100%|█████████████████████████████████████████████████████████████████████████▉| 10000/10001 [00:09<00:00, 1007.74it/s]\n",
      "\n",
      " 10%|███████▍                                                                   | 1000/10001 [00:00<00:05, 1664.11it/s]\n",
      " 20%|██████████████▉                                                            | 2000/10001 [00:01<00:05, 1588.77it/s]\n",
      " 30%|██████████████████████▍                                                    | 3000/10001 [00:01<00:04, 1542.74it/s]\n",
      " 40%|█████████████████████████████▉                                             | 4000/10001 [00:02<00:03, 1514.39it/s]\n",
      " 50%|█████████████████████████████████████▍                                     | 5000/10001 [00:03<00:03, 1504.63it/s]\n",
      " 60%|████████████████████████████████████████████▉                              | 6000/10001 [00:03<00:02, 1461.11it/s]\n",
      " 70%|████████████████████████████████████████████████████▍                      | 7000/10001 [00:04<00:02, 1423.27it/s]\n",
      " 80%|███████████████████████████████████████████████████████████▉               | 8000/10001 [00:05<00:01, 1400.26it/s]\n",
      " 90%|███████████████████████████████████████████████████████████████████▍       | 9000/10001 [00:06<00:00, 1348.31it/s]\n",
      "100%|█████████████████████████████████████████████████████████████████████████▉| 10000/10001 [00:07<00:00, 1334.96it/s]"
     ]
    },
    {
     "name": "stdout",
     "output_type": "stream",
     "text": [
      "Complete. Time elapsed: 7.053796052932739\n",
      "Parsing with tshark...\n",
      "tshark parsing complete. File saved as: ./pcaps/18-10-13.pcap.tsv\n",
      "counting lines in file...\n",
      "There are 10001 Packets.\n"
     ]
    },
    {
     "name": "stderr",
     "output_type": "stream",
     "text": [
      "100%|██████████████████████████████████████████████████████████████████████████▉| 10000/10001 [00:10<00:00, 996.81it/s]\n",
      "100%|██████████████████████████████████████████████████████████████████████████▉| 10000/10001 [00:20<00:00, 339.50it/s]"
     ]
    },
    {
     "name": "stdout",
     "output_type": "stream",
     "text": [
      "Complete. Time elapsed: 20.32079577445984\n",
      "Parsing with tshark...\n",
      "tshark parsing complete. File saved as: ./pcaps/18-10-16.pcap.tsv\n",
      "counting lines in file...\n",
      "There are 10001 Packets.\n"
     ]
    },
    {
     "name": "stderr",
     "output_type": "stream",
     "text": [
      "\n",
      "100%|██████████████████████████████████████████████████████████████████████████▉| 10000/10001 [00:23<00:00, 429.21it/s]\n",
      "\n",
      " 10%|███████▍                                                                   | 1000/10001 [00:00<00:07, 1194.08it/s]\n",
      " 20%|███████████████▏                                                            | 2000/10001 [00:02<00:11, 690.06it/s]\n",
      " 30%|██████████████████████▊                                                     | 3000/10001 [00:04<00:12, 564.80it/s]\n",
      " 40%|██████████████████████████████▍                                             | 4000/10001 [00:08<00:15, 394.70it/s]\n",
      " 50%|█████████████████████████████████████▉                                      | 5000/10001 [00:11<00:13, 358.54it/s]\n",
      " 60%|█████████████████████████████████████████████▌                              | 6000/10001 [00:15<00:11, 337.75it/s]\n",
      " 70%|█████████████████████████████████████████████████████▏                      | 7000/10001 [00:20<00:11, 270.00it/s]\n",
      " 80%|████████████████████████████████████████████████████████████▊               | 8000/10001 [00:24<00:07, 257.02it/s]\n",
      " 90%|████████████████████████████████████████████████████████████████████▍       | 9000/10001 [00:31<00:04, 204.62it/s]\n",
      "100%|██████████████████████████████████████████████████████████████████████████▉| 10000/10001 [00:37<00:00, 195.32it/s]"
     ]
    },
    {
     "name": "stdout",
     "output_type": "stream",
     "text": [
      "Complete. Time elapsed: 37.36553597450256\n"
     ]
    }
   ],
   "source": [
    "# FE Main function\n",
    "\n",
    "for i in files_add: # in this section, a file is opened for each attack type and is recorded at a random benign flow.\n",
    "    output=i.replace(\"pcap\",\"csv\")    \n",
    "    output=output.replace(\"\\\\\",\"/\")   \n",
    "    folder(output[:output.rfind(\"/\")])\n",
    "\n",
    "    \n",
    "    ths = open(output, \"w\")\n",
    "    \n",
    "    ths.write(str(main_labels)+\"\\n\")\n",
    "    \n",
    "    \n",
    "        # Build Kitsune\n",
    "    K = Kitsune(i,limit,maxAE,FMgrace,ADgrace)\n",
    "    \n",
    "    sayac = 0\n",
    "    start = time.time()\n",
    "    linenum=howmanylines(f\"{i}.tsv\")\n",
    "    pbar = tqdm(total=linenum)\n",
    "    while True:\n",
    "        sayac+=1\n",
    "        if sayac % 1000 == 0:\n",
    "            #print(sayac)\n",
    "            pbar.update(1000)\n",
    "        rmse = K.proc_next_packet()\n",
    "        try:\n",
    "            if rmse==-1:\n",
    "                break\n",
    "        except:\n",
    "            temp= \",\".join( str(j) for j in rmse ) \n",
    "            ths.write(str(temp)+\"\\n\")\n",
    "            #print(rmse)\n",
    "            #print(len(rmse))\n",
    "\n",
    "    stop = time.time()\n",
    "    print(\"Complete. Time elapsed: \"+ str(stop - start))\n",
    "    ths.close()\n",
    "\n",
    "    #LAbelling\n",
    "    output=output.replace(\".csv\",\"_label.csv\")  \n",
    "    if \" \" not in i:\n",
    "        command=f\"tshark -r {i}  -T fields -e eth.src  -E header=y -E separator=, -E quote=d -E occurrence=f >{output}\"\n",
    "    else:\n",
    "        command=f\"tshark -r \\\"{i}\\\" -T fields  -e eth.src  -E header=y -E separator=, -E quote=d -E occurrence=f >\\\"{output}\\\"\"\n",
    "    os.system(command)\n",
    "    \n",
    "    \n",
    "    df=pd.read_csv(output.replace(\"_label\",\"\"))\n",
    "    label=pd.read_csv(output)\n",
    "    \n",
    "    df[\"Label\"]=label[\"eth.src\"]\n",
    "    df[\"Label\"]=df[\"Label\"].replace(macrenamer)\n",
    "    df.to_csv(output.replace(\"_label\",\"\"),index=False)\n",
    "\n",
    "\n"
   ]
  },
  {
   "cell_type": "code",
   "execution_count": 38,
   "id": "91b074db-664e-4d39-bf10-67c88efdf11f",
   "metadata": {},
   "outputs": [],
   "source": [
    "# In order to cope with missing devices in the experimental environment, appropriate sessions were combined to obtain sessions containing all devices."
   ]
  },
  {
   "cell_type": "code",
   "execution_count": 39,
   "id": "36984068-52b6-474f-b7de-be7cf60b3c50",
   "metadata": {},
   "outputs": [],
   "source": [
    "them={\"DI-S1\": ['./csvs/16-09-29.csv', './csvs/16-11-18.csv'],\n",
    "\"DI-S2\": ['./csvs/16-10-03.csv','./csvs/16-11-22.csv'],\n",
    "\"AD-S1\": ['./csvs/18-06-14.csv',  './csvs/18-10-13.csv'],\n",
    "\"AD-S2\": [ './csvs/18-06-11.csv','./csvs/18-10-16.csv']}"
   ]
  },
  {
   "cell_type": "code",
   "execution_count": 40,
   "id": "4f269949-5adb-4b06-8a4f-4de33d7af4c4",
   "metadata": {},
   "outputs": [
    {
     "name": "stderr",
     "output_type": "stream",
     "text": [
      "\n",
      "100%|██████████████████████████████████████████████████████████████████████████▉| 10000/10001 [00:57<00:00, 195.32it/s]"
     ]
    }
   ],
   "source": [
    "for output in them:\n",
    "    ths = open(f\"./csvs/{output}.csv\", \"w\")\n",
    "    flag=1\n",
    "\n",
    "    for t in them[output]:\n",
    "        with open(t, \"r\") as file:\n",
    "            while True:\n",
    "                line=file.readline()\n",
    "                if line==\"\":break\n",
    "                if not line.startswith(\"dns\"):\n",
    "                    #print(line)\n",
    "                    ths.write(line)\n",
    "                    #print(line)\n",
    "                    #break\n",
    "                else:\n",
    "                    if flag:\n",
    "                        ths.write(line)\n",
    "                        flag=0\n",
    "        os.remove(t)\n",
    "        os.remove(t.replace(\".csv\",\"_label.csv\"))\n",
    "    ths.close()"
   ]
  },
  {
   "cell_type": "code",
   "execution_count": null,
   "id": "4dbd2de9-ee0d-4c84-ab6f-0a6108829568",
   "metadata": {},
   "outputs": [],
   "source": []
  },
  {
   "cell_type": "code",
   "execution_count": 41,
   "id": "62003d40-2883-49af-bdd7-8a7ac4129a23",
   "metadata": {},
   "outputs": [],
   "source": [
    "macrenamer={'d0:52:a8:00:67:5e': 'Smart Things',\n",
    " '44:65:0d:56:cc:d3': 'Amazon Echo',\n",
    " '70:ee:50:18:34:43': 'Netatmo Welcome',\n",
    " 'f4:f2:6d:93:51:f1': 'TP-Link Day Night Cloud camera',\n",
    " '00:16:6c:ab:6b:88': 'Samsung SmartCam',\n",
    " '30:8c:fb:2f:e4:b2': 'Dropcam',\n",
    " 'ec:1a:59:79:f4:89': 'Belkin Wemo switch',\n",
    " '50:c7:bf:00:56:39': 'TP-Link Smart plug',\n",
    " '74:c6:3b:29:d7:1d': 'iHome',\n",
    " 'ec:1a:59:83:28:11': 'Belkin wemo motion sensor',\n",
    " '18:b4:30:25:be:e4': 'NEST Protect smoke alarm',\n",
    " '70:ee:50:03:b8:ac': 'Netatmo weather station',\n",
    " 'd0:73:d5:01:83:08': 'Light Bulbs LiFX Smart Bulb',\n",
    " '18:b7:9e:02:20:44': 'Triby Speaker',\n",
    " 'e0:76:d0:33:bb:85': 'PIX-STAR Photo-frame',\n",
    " '70:5a:0f:e4:9b:c0': 'HP Printer',\n",
    " '08:21:ef:3b:fc:e3': 'Samsung Galaxy Tab',\n",
    " 'ac:bc:32:d4:6f:2f': 'MacBook',\n",
    " '14:cc:20:51:33:ea': 'TPLink Router Bridge LAN',\n",
    " '00:17:88:2b:9a:25': 'Phillip Hue Lightbulb',\n",
    "# '7c:70:bc:5d:5e:dc': 'Canary Camera',\n",
    " '70:88:6b:10:0f:c6': 'Awair air quality monitor'}\n",
    "\n",
    "devices=list(macrenamer.values())\n",
    "#devices"
   ]
  },
  {
   "cell_type": "code",
   "execution_count": 42,
   "id": "b8d1eaae-8df1-4ed0-a298-e44b477ec786",
   "metadata": {},
   "outputs": [],
   "source": [
    "# This function reduces the csv file size by eliminating unnecessary or unusable samples (irrelevant device samples)"
   ]
  },
  {
   "cell_type": "code",
   "execution_count": 43,
   "id": "deb6ef58-6baa-4dd5-bffa-b7f7207618b7",
   "metadata": {},
   "outputs": [
    {
     "data": {
      "text/plain": [
       "['./csvs/AD-S1.csv',\n",
       " './csvs/AD-S2.csv',\n",
       " './csvs/DI-S1.csv',\n",
       " './csvs/DI-S2.csv']"
      ]
     },
     "execution_count": 43,
     "metadata": {},
     "output_type": "execute_result"
    }
   ],
   "source": [
    "them=find_the_way('./csvs/',\".csv\")\n",
    "them"
   ]
  },
  {
   "cell_type": "code",
   "execution_count": 44,
   "id": "b2efff0a-5b9d-4366-9eed-9e389b461409",
   "metadata": {},
   "outputs": [],
   "source": [
    "proError=[]\n",
    "for t in them:\n",
    "    #main_labels=\"dns.time,http.time,icmp.data_time_relative,icmp.resptime,stun.time,tcp.ack,tcp.ack_raw,tcp.analysis.ack_rtt,tcp.analysis.initial_rtt,tcp.analysis.rto,tcp.nxtseq,tcp.options.timestamp.tsecr,tcp.options.timestamp.tsval,tcp.seq,tcp.seq_raw,tcp.time_delta,tcp.time_relative,udp.time_delta,udp.time_relative,arp.hw.size,arp.hw.type,arp.isannouncement,arp.isgratuitous,arp.isprobe,arp.opcode,arp.proto.size,arp.seconds-since-duplicate-address-frame,dhcp.flags.bc,dhcp.hops,dhcp.hw.addr_padding,dhcp.hw.len,dhcp.option.dhcp,dhcp.option.dhcp_max_message_size,dhcp.option.end,dhcp.option.interface_mtu,dhcp.option.ip_address_lease_time,dhcp.option.padding,dhcp.option.rebinding_time_value,dhcp.option.renewal_time_value,dhcp.secs,dhcp.type,dns.count.add_rr,dns.count.answers,dns.count.auth_rr,dns.count.queries,dns.extraneous,dns.extraneous.data,dns.extraneous.length,dns.flags.authenticated,dns.flags.authoritative,dns.flags.checkdisable,dns.flags.opcode,dns.flags.rcode,dns.flags.recavail,dns.flags.recdesired,dns.flags.response,dns.flags.truncated,dns.flags.z,dns.response_to,dns.retransmission,dns.retransmit_request,dns.retransmit_request_in,dns.retransmit_response,dns.retransmit_response_in,dns.soa.expire_limit,dns.soa.minimum_ttl,dns.soa.refresh_interval,dns.soa.retry_interval,dns.soa.serial_number,dns.unsolicited,eapol.keydes.key_iv,eapol.keydes.key_len,eapol.keydes.replay_counter,eapol.keydes.type,eapol.len,eapol.type,eapol.version,eth.dst.ig,eth.dst.lg,eth.dst.oui,eth.fcs.status,eth.len,eth.padding,eth.padding_bad,eth.src.ig,eth.src.lg,eth.src.oui,http.chat,http.content_length,http.content_length_header,http.notification,http.prev_request_in,http.prev_response_in,http.request,http.request_in,http.request_number,http.response,http.response.code,http.response_number,icmp.checksum.status,icmp.code,icmp.ident,icmp.ident_le,icmp.resp_to,icmp.seq,icmp.seq_le,icmp.type,icmp.unused,icmpv6.checksum.status,icmpv6.code,icmpv6.mldr.nb_mcast_records,icmpv6.opt,icmpv6.opt.length,icmpv6.opt.type,icmpv6.reserved,icmpv6.type,igmp.checksum.status,igmp.max_resp,igmp.num_grp_recs,igmp.version,ip.bogus_ip_length,ip.len,ip.opt.len,ip.opt.ra,ip.opt.type,ip.opt.type.class,ip.opt.type.copy,ip.opt.type.number,ntp.flags.li,ntp.flags.mode,ntp.flags.vn,ntp.ppoll,ntp.precision,ntp.rootdelay,ntp.rootdispersion,ntp.stratum,stun.att.crc32.status,stun.att.error,stun.att.error.class,stun.att.lifetime,stun.attributes,stun.length,stun.network_version,stun.response-to,tcp.analysis,tcp.analysis.ack_lost_segment,tcp.analysis.acks_frame,tcp.analysis.bytes_in_flight,tcp.analysis.duplicate_ack_frame,tcp.analysis.duplicate_ack_num,tcp.analysis.flags,tcp.analysis.keep_alive,tcp.analysis.keep_alive_ack,tcp.analysis.lost_segment,tcp.analysis.out_of_order,tcp.analysis.push_bytes_sent,tcp.analysis.retransmission,tcp.analysis.reused_ports,tcp.analysis.rto_frame,tcp.analysis.spurious_retransmission,tcp.analysis.window_update,tcp.checksum.status,tcp.completeness,tcp.connection.fin,tcp.connection.fin_active,tcp.connection.fin_passive,tcp.connection.rst,tcp.connection.syn,tcp.connection.synack,tcp.dstport,tcp.fin_retransmission,tcp.flags.ack,tcp.flags.ae,tcp.flags.cwr,tcp.flags.ece,tcp.flags.fin,tcp.flags.push,tcp.flags.res,tcp.flags.reset,tcp.flags.syn,tcp.flags.urg,tcp.hdr_len,tcp.len,tcp.options.mss_val,tcp.options.sack.count,tcp.options.sack.dsack,tcp.options.sack.dsack_le,tcp.options.sack.dsack_re,tcp.options.sack_le,tcp.options.sack_perm,tcp.options.sack_re,tcp.options.wscale.multiplier,tcp.options.wscale.shift,tcp.pdu.size,tcp.reassembled.length,tcp.segment.count,tcp.segment.overlap,tcp.segments,tcp.srcport,tcp.stream,tcp.urgent_pointer,tcp.window_size,tcp.window_size_scalefactor,tcp.window_size_value,tls.alert_message,tls.change_cipher_spec,tls.handshake.certificates,tls.handshake.certificates_length,tls.handshake.challenge,tls.handshake.challenge_length,tls.handshake.cipher_spec_len,tls.handshake.cipher_suites_length,tls.handshake.ciphersuites,tls.handshake.client_point_len,tls.handshake.comp_method,tls.handshake.comp_methods,tls.handshake.comp_methods_length,tls.handshake.epms_len,tls.handshake.extension.heartbeat.mode,tls.handshake.extensions_ec_point_formats,tls.handshake.extensions_ec_point_formats_length,tls.handshake.extensions_length,tls.handshake.extensions_reneg_info_len,tls.handshake.extensions_server_name_len,tls.handshake.extensions_server_name_list_len,tls.handshake.extensions_server_name_type,tls.handshake.extensions_supported_groups,tls.handshake.extensions_supported_groups_length,tls.handshake.g_len,tls.handshake.p_len,tls.handshake.server_point_len,tls.handshake.session_id_length,tls.handshake.session_ticket_length,tls.handshake.session_ticket_lifetime_hint,tls.handshake.sig_hash_alg_len,tls.handshake.sig_hash_algs,tls.handshake.sig_len,tls.handshake.yc_len,tls.handshake.ys_len,tls.resumed,tls.sct.scts_length,udp.checksum.status,udp.dstport,udp.length,udp.length.bad,udp.possible_traceroute,udp.srcport,udp.stream,eth.dst,eth.src,stun.cookie,stun.id,stun.value,tcp.options,tcp.options.mss,tcp.options.wscale,ntp.refid,arp.proto.type,dhcp.flags,dhcp.flags.reserved,dhcp.id,dns.flags,dns.id,eth.fcs,eth.type,icmp.checksum,icmpv6.checksum,igmp.checksum,igmp.type,ip.id,ipv6.flow,ipv6.tclass,ntp.flags,stun.att.crc32,stun.att.transp,stun.type,stun.type.class,stun.type.method,stun.type.method-assignment,tcp.checksum,tcp.flags,tls.handshake.server_curve_type,tls.handshake.server_named_curve,tls.handshake.version,udp.checksum,http.connection,http.request.method,http.response.code.desc,http.response.phrase,tcp.flags.str,_ws.col.Protocol,tls.handshake.sig_hash_alg,dhcp.hw.type,ip.dsfield,ip.flags,ipv6.opt.type,ipv6.opt.type.rest,stun.att.family,stun.att.ipv4-xord,stun.att.port-xord,tcp.segment,arp.duplicate-address-detected,arp.duplicate-address-frame,dns.srv.port,dns.srv.priority,dns.srv.weight,eth.addr.oui,eth.ig,eth.lg,ip.checksum.status,ip.dsfield.dscp,ip.dsfield.ecn,ip.flags.df,ip.flags.mf,ip.flags.rb,ip.frag_offset,ip.hdr_len,ip.proto,ip.ttl,ip.version,ipv6.opt,ipv6.opt.length,ipv6.opt.type.action,ipv6.opt.type.change,stun.att.padding,stun.att.port,stun.att.reserved,tcp.analysis.duplicate_ack,tls.record.length,Payload_Entropy,dstport,srcport,dstport_class,srcport_class,Label\\n\"\n",
    "    ths = open(t.replace(\".csv\",\"_.csv\"), \"w\")\n",
    "    #ths.write(main_labels)\n",
    "\n",
    "    with open(t, \"r\") as file:\n",
    "        line=file.readline()\n",
    "        ths.write(line)\n",
    "        while True:\n",
    "                line=file.readline()\n",
    "                if line==\"\":break\n",
    "                temp=line[:-1]\n",
    "                temp=temp.split(\",\")\n",
    "                if temp[-1] in devices:\n",
    "                        ths.write(line)\n",
    "    ths.close()\n",
    "    os.remove(t)\n",
    "    "
   ]
  },
  {
   "cell_type": "code",
   "execution_count": 47,
   "id": "570c9c0d-3e3d-4012-ae2e-23e970925413",
   "metadata": {},
   "outputs": [
    {
     "data": {
      "text/plain": [
       "['./csvs/AD-S1_.csv',\n",
       " './csvs/AD-S2_.csv',\n",
       " './csvs/DI-S1_.csv',\n",
       " './csvs/DI-S2_.csv']"
      ]
     },
     "execution_count": 47,
     "metadata": {},
     "output_type": "execute_result"
    }
   ],
   "source": [
    "files_add=find_the_way('./csvs/',\".csv\")\n",
    "files_add"
   ]
  },
  {
   "cell_type": "code",
   "execution_count": 48,
   "id": "3d48c843-0437-4818-9c8f-ffabb648ed13",
   "metadata": {},
   "outputs": [
    {
     "name": "stdout",
     "output_type": "stream",
     "text": [
      "16 Label\n",
      "Amazon Echo                         157\n",
      "Awair air quality monitor            68\n",
      "Belkin Wemo switch                  111\n",
      "Belkin wemo motion sensor          1859\n",
      "Dropcam                             666\n",
      "HP Printer                           24\n",
      "Light Bulbs LiFX Smart Bulb          30\n",
      "Netatmo Welcome                      67\n",
      "Phillip Hue Lightbulb               211\n",
      "Samsung SmartCam                    722\n",
      "Smart Things                        236\n",
      "TP-Link Day Night Cloud camera       12\n",
      "TP-Link Smart plug                    8\n",
      "TPLink Router Bridge LAN          11454\n",
      "Triby Speaker                        11\n",
      "iHome                                31\n",
      "dtype: int64\n",
      "######################################################################################################################## \n",
      "\n",
      "\n",
      "\n",
      "18 Label\n",
      "Amazon Echo                          30\n",
      "Awair air quality monitor            66\n",
      "Belkin Wemo switch                  127\n",
      "Belkin wemo motion sensor          1630\n",
      "Dropcam                             602\n",
      "HP Printer                           30\n",
      "Light Bulbs LiFX Smart Bulb          19\n",
      "Netatmo Welcome                      69\n",
      "PIX-STAR Photo-frame                  8\n",
      "Phillip Hue Lightbulb               105\n",
      "Samsung Galaxy Tab                  405\n",
      "Samsung SmartCam                    642\n",
      "Smart Things                        224\n",
      "TP-Link Day Night Cloud camera       13\n",
      "TP-Link Smart plug                    9\n",
      "TPLink Router Bridge LAN          11387\n",
      "Triby Speaker                         9\n",
      "iHome                                28\n",
      "dtype: int64\n",
      "######################################################################################################################## \n",
      "\n",
      "\n",
      "\n",
      "19 Label\n",
      "Amazon Echo                        821\n",
      "Awair air quality monitor          230\n",
      "Belkin Wemo switch                 884\n",
      "Belkin wemo motion sensor         1291\n",
      "Dropcam                           2251\n",
      "HP Printer                         199\n",
      "Light Bulbs LiFX Smart Bulb        177\n",
      "Netatmo Welcome                    320\n",
      "Netatmo weather station            200\n",
      "PIX-STAR Photo-frame                68\n",
      "Phillip Hue Lightbulb              436\n",
      "Samsung Galaxy Tab                  35\n",
      "Samsung SmartCam                  1114\n",
      "Smart Things                       410\n",
      "TP-Link Day Night Cloud camera     152\n",
      "TP-Link Smart plug                  20\n",
      "TPLink Router Bridge LAN          9627\n",
      "Triby Speaker                      134\n",
      "iHome                               77\n",
      "dtype: int64\n",
      "######################################################################################################################## \n",
      "\n",
      "\n",
      "\n",
      "18 Label\n",
      "Amazon Echo                        975\n",
      "Awair air quality monitor          237\n",
      "Belkin Wemo switch                 914\n",
      "Belkin wemo motion sensor         1223\n",
      "Dropcam                           2402\n",
      "HP Printer                         205\n",
      "Light Bulbs LiFX Smart Bulb        163\n",
      "Netatmo Welcome                    319\n",
      "Netatmo weather station            191\n",
      "PIX-STAR Photo-frame                30\n",
      "Phillip Hue Lightbulb              421\n",
      "Samsung SmartCam                  1043\n",
      "Smart Things                       393\n",
      "TP-Link Day Night Cloud camera     119\n",
      "TP-Link Smart plug                  59\n",
      "TPLink Router Bridge LAN          9482\n",
      "Triby Speaker                      167\n",
      "iHome                               85\n",
      "dtype: int64\n",
      "######################################################################################################################## \n",
      "\n",
      "\n",
      "\n"
     ]
    }
   ],
   "source": [
    "for i in files_add:\n",
    "    df=pd.read_csv(i,usecols=[\"Label\"])\n",
    "    temp=df.groupby(\"Label\").size()\n",
    "    print(len(temp),temp)\n",
    "    print(\"#\"*120,\"\\n\\n\\n\")"
   ]
  },
  {
   "cell_type": "code",
   "execution_count": 51,
   "id": "ac040df5-5c35-4132-b4af-e420ed4bd115",
   "metadata": {},
   "outputs": [],
   "source": [
    "# CREATE SMALLER CSVs (1/20)\n",
    "\n",
    "#### CSV files may be too large to be processed.  You can sample CSV files using these sections.\n",
    "#### Since sampling uses proportions, the csvs reduced in this type of sampling will reflect real-life examples.\n",
    "folder(\"small\")"
   ]
  },
  {
   "cell_type": "code",
   "execution_count": 52,
   "id": "c6d66da4-8fce-4cb9-af6a-85a3dd69407a",
   "metadata": {},
   "outputs": [],
   "source": [
    "for i in files_add:\n",
    "    df=pd.read_csv(i)\n",
    "    df = df.groupby('Label').apply(lambda x: x.sample(n=min(10000, len(x))))\n",
    "    df = df.droplevel('Label')\n",
    "    name=i.replace(\"csvs\",\"small\")\n",
    "    df.to_csv(name,index=False)"
   ]
  },
  {
   "cell_type": "code",
   "execution_count": null,
   "id": "5a7b980b-b9c3-4dfc-917e-849e6f01754d",
   "metadata": {},
   "outputs": [],
   "source": []
  }
 ],
 "metadata": {
  "kernelspec": {
   "display_name": "Python 3 (ipykernel)",
   "language": "python",
   "name": "python3"
  },
  "language_info": {
   "codemirror_mode": {
    "name": "ipython",
    "version": 3
   },
   "file_extension": ".py",
   "mimetype": "text/x-python",
   "name": "python",
   "nbconvert_exporter": "python",
   "pygments_lexer": "ipython3",
   "version": "3.12.1"
  }
 },
 "nbformat": 4,
 "nbformat_minor": 5
}
