{
 "cells": [
  {
   "cell_type": "markdown",
   "id": "975d26a7-ad10-4a9e-b8c6-76ba213c1964",
   "metadata": {},
   "source": [
    "####  import related modules"
   ]
  },
  {
   "cell_type": "code",
   "execution_count": 22,
   "id": "9d5b53dc-6726-4e8a-8553-70d4464beb9a",
   "metadata": {},
   "outputs": [],
   "source": [
    "import warnings\n",
    "warnings.filterwarnings(\"ignore\")\n",
    "import os\n",
    "from tqdm import tqdm\n",
    "import pandas as pd\n",
    "import numpy as np\n",
    "import math\n",
    "import random"
   ]
  },
  {
   "cell_type": "markdown",
   "id": "e19a2517-20a8-4f2e-9ebf-91ccba8c9a12",
   "metadata": {},
   "source": [
    "#### File finder"
   ]
  },
  {
   "cell_type": "code",
   "execution_count": 23,
   "id": "6741e946-4dfa-472b-b9b6-d18aa883a324",
   "metadata": {},
   "outputs": [],
   "source": [
    "def find_the_way(path,file_format,con=\"\"):\n",
    "    files_add = []\n",
    "    # r=root, d=directories, f = files\n",
    "    for r, d, f in os.walk(path):\n",
    "        for file in f:\n",
    "            if file_format in file:\n",
    "                if con in file:\n",
    "                    files_add.append(os.path.join(r, file))  \n",
    "            \n",
    "    return files_add\n",
    "\n",
    "\n"
   ]
  },
  {
   "cell_type": "markdown",
   "id": "0bd03a3d-d80e-4856-90ca-9df6d9cf39ff",
   "metadata": {},
   "source": [
    "#### Folder creator"
   ]
  },
  {
   "cell_type": "code",
   "execution_count": 24,
   "id": "afda1460-961d-4ed8-92be-00f5b550c5f6",
   "metadata": {},
   "outputs": [],
   "source": [
    "def folder(f_name): #this function creates a folder named \"attacks\" in the program directory.\n",
    "    try:\n",
    "        if not os.path.exists(f_name):\n",
    "            os.makedirs(f_name)\n",
    "    except OSError:\n",
    "        print (\"The folder could not be created!\")\n",
    "\n",
    "folder(\"temp\")"
   ]
  },
  {
   "cell_type": "markdown",
   "id": "10ae4c2c-8c0d-4550-a90e-0e2825a65de7",
   "metadata": {},
   "source": [
    "#### Delete unnecessary files"
   ]
  },
  {
   "cell_type": "code",
   "execution_count": 25,
   "id": "b324059c-ffda-48ef-ae1b-a93b5a1919e0",
   "metadata": {},
   "outputs": [],
   "source": [
    "def killthemall():\n",
    "    them=find_the_way(\"./temp/\",\".csv\")\n",
    "    for t in them:\n",
    "        try:\n",
    "            os.remove(t)\n",
    "        except:\n",
    "            print(f\"error about delete {t} file\")"
   ]
  },
  {
   "cell_type": "code",
   "execution_count": 26,
   "id": "b463f4d5-d600-4213-a7db-4ae0f0f79eca",
   "metadata": {},
   "outputs": [
    {
     "data": {
      "text/plain": [
       "['pcaps\\\\16-09-29.pcap',\n",
       " 'pcaps\\\\16-10-03.pcap',\n",
       " 'pcaps\\\\16-11-18.pcap',\n",
       " 'pcaps\\\\16-11-22.pcap',\n",
       " 'pcaps\\\\18-06-11.pcap',\n",
       " 'pcaps\\\\18-06-14.pcap',\n",
       " 'pcaps\\\\18-10-13.pcap',\n",
       " 'pcaps\\\\18-10-16.pcap']"
      ]
     },
     "execution_count": 26,
     "metadata": {},
     "output_type": "execute_result"
    }
   ],
   "source": [
    "# find pcap file in path folder\n",
    "path=\"pcaps\"\n",
    "pcaps=find_the_way(path,\".pcap\")\n",
    "pcaps"
   ]
  },
  {
   "cell_type": "markdown",
   "id": "48fd4241-6564-4163-ae37-9537d469db11",
   "metadata": {},
   "source": [
    "#### If your computer has difficulty processing large pcap files, you can split them using the following script"
   ]
  },
  {
   "cell_type": "code",
   "execution_count": 27,
   "id": "b92910d6-da4e-465e-bb94-87be612dee2e",
   "metadata": {},
   "outputs": [],
   "source": [
    "#for i in pcaps:\n",
    "    #if os.path.getsize(i)//(1024*1024) >500:\n",
    "        #temp=i.replace(\"\\\\\",\"/\")\n",
    "        #command=f\"editcap  -c 1000000 {temp} {temp.replace(\"pcaps/\",\"pcaps/smaller_\")}\"\n",
    "        #os.system(command)\n",
    "        #print(f\"{i} made smaller\")\n",
    "        #os.remove(temp)"
   ]
  },
  {
   "cell_type": "code",
   "execution_count": 28,
   "id": "2df592f6-b913-4e03-a326-c3cd3702155f",
   "metadata": {},
   "outputs": [],
   "source": [
    "### Renaming tools"
   ]
  },
  {
   "cell_type": "code",
   "execution_count": 29,
   "id": "f3a3dc3b-e088-4eab-8ec9-9287f610e405",
   "metadata": {},
   "outputs": [],
   "source": [
    "# Feature list\n",
    "features=[['dns.time',  'http.time',  'icmp.data_time_relative',  'icmp.resptime',  'stun.time',  'tcp.ack',  'tcp.ack_raw',  'tcp.analysis.ack_rtt',  'tcp.analysis.initial_rtt',  'tcp.analysis.rto',  'tcp.nxtseq',  'tcp.options.timestamp.tsecr',  'tcp.options.timestamp.tsval',  'tcp.seq',  'tcp.seq_raw',  'tcp.time_delta',  'tcp.time_relative',  'udp.time_delta',  'udp.time_relative',  'arp.hw.size',  'arp.hw.type',  'arp.isannouncement',  'arp.isgratuitous',  'arp.isprobe',  'arp.opcode',  'arp.proto.size',  'arp.seconds-since-duplicate-address-frame',  'dhcp.flags.bc',  'dhcp.hops',  'dhcp.hw.addr_padding',  'dhcp.hw.len',  'dhcp.option.dhcp',  'dhcp.option.dhcp_max_message_size',  'dhcp.option.end',  'dhcp.option.interface_mtu',  'dhcp.option.ip_address_lease_time',  'dhcp.option.padding',  'dhcp.option.rebinding_time_value',  'dhcp.option.renewal_time_value',  'dhcp.secs',  'dhcp.type',  'dns.count.add_rr',  'dns.count.answers',  'dns.count.auth_rr',  'dns.count.queries',  'dns.extraneous',  'dns.extraneous.data',  'dns.extraneous.length',  'dns.flags.authenticated',  'dns.flags.authoritative',  'dns.flags.checkdisable'], ['dns.flags.opcode',  'dns.flags.rcode',  'dns.flags.recavail',  'dns.flags.recdesired',  'dns.flags.response',  'dns.flags.truncated',  'dns.flags.z',  'dns.response_to',  'dns.retransmission',  'dns.retransmit_request',  'dns.retransmit_request_in',  'dns.retransmit_response',  'dns.retransmit_response_in',  'dns.soa.expire_limit',  'dns.soa.minimum_ttl',  'dns.soa.refresh_interval',  'dns.soa.retry_interval',  'dns.soa.serial_number',  'dns.unsolicited',  'eapol.keydes.key_iv',  'eapol.keydes.key_len',  'eapol.keydes.replay_counter',  'eapol.keydes.type',  'eapol.len',  'eapol.type',  'eapol.version',  'eth.dst.ig',  'eth.dst.lg',  'eth.dst.oui',  'eth.fcs.status',  'eth.len',  'eth.padding',  'eth.padding_bad',  'eth.src.ig',  'eth.src.lg',  'eth.src.oui',  'http.chat',  'http.content_length',  'http.content_length_header',  'http.notification',  'http.prev_request_in',  'http.prev_response_in',  'http.request',  'http.request_in',  'http.request_number',  'http.response',  'http.response.code',  'http.response_number',  'icmp.checksum.status',  'icmp.code',  'icmp.ident'], ['icmp.ident_le',  'icmp.resp_to',  'icmp.seq',  'icmp.seq_le',  'icmp.type',  'icmp.unused',  'icmpv6.checksum.status',  'icmpv6.code',  'icmpv6.mldr.nb_mcast_records',  'icmpv6.opt',  'icmpv6.opt.length',  'icmpv6.opt.type',  'icmpv6.reserved',  'icmpv6.type',  'igmp.checksum.status',  'igmp.max_resp',  'igmp.num_grp_recs',  'igmp.version',  'ip.bogus_ip_length',  'ip.len',  'ip.opt.len',  'ip.opt.ra',  'ip.opt.type',  'ip.opt.type.class',  'ip.opt.type.copy',  'ip.opt.type.number',  'ipv6.hlim',  'ipv6.hopopts.nxt',  'ipv6.nxt',  'ipv6.opt.router_alert',  'ipv6.plen',  'ipv6.tclass.dscp',  'ipv6.tclass.ecn',  'ipv6.version',  'ntp.flags.li',  'ntp.flags.mode',  'ntp.flags.vn',  'ntp.ppoll',  'ntp.precision',  'ntp.rootdelay',  'ntp.rootdispersion',  'ntp.stratum',  'stun.att.crc32.status',  'stun.att.error',  'stun.att.error.class',  'stun.att.lifetime',  'stun.attributes',  'stun.length',  'stun.network_version',  'stun.response-to',  'tcp.analysis'], ['tcp.analysis.ack_lost_segment',  'tcp.analysis.acks_frame',  'tcp.analysis.bytes_in_flight',  'tcp.analysis.duplicate_ack_frame',  'tcp.analysis.duplicate_ack_num',  'tcp.analysis.flags',  'tcp.analysis.keep_alive',  'tcp.analysis.keep_alive_ack',  'tcp.analysis.lost_segment',  'tcp.analysis.out_of_order',  'tcp.analysis.push_bytes_sent',  'tcp.analysis.retransmission',  'tcp.analysis.reused_ports',  'tcp.analysis.rto_frame',  'tcp.analysis.spurious_retransmission',  'tcp.analysis.window_update',  'tcp.checksum.status',  'tcp.completeness',  'tcp.connection.fin',  'tcp.connection.fin_active',  'tcp.connection.fin_passive',  'tcp.connection.rst',  'tcp.connection.syn',  'tcp.connection.synack',  'tcp.dstport',  'tcp.fin_retransmission',  'tcp.flags.ack',  'tcp.flags.ae',  'tcp.flags.cwr',  'tcp.flags.ece',  'tcp.flags.fin',  'tcp.flags.push',  'tcp.flags.res',  'tcp.flags.reset',  'tcp.flags.syn',  'tcp.flags.urg',  'tcp.hdr_len',  'tcp.len',  'tcp.options.mss_val',  'tcp.options.sack.count',  'tcp.options.sack.dsack',  'tcp.options.sack.dsack_le',  'tcp.options.sack.dsack_re',  'tcp.options.sack_le',  'tcp.options.sack_perm',  'tcp.options.sack_re',  'tcp.options.wscale.multiplier',  'tcp.options.wscale.shift',  'tcp.pdu.size',  'tcp.reassembled.length',  'tcp.segment.count'], ['tcp.segment.overlap',  'tcp.segments',  'tcp.srcport',  'tcp.stream',  'tcp.urgent_pointer',  'tcp.window_size',  'tcp.window_size_scalefactor',  'tcp.window_size_value',  'tls.alert_message',  'tls.change_cipher_spec',  'tls.handshake.certificates',  'tls.handshake.certificates_length',  'tls.handshake.challenge',  'tls.handshake.challenge_length',  'tls.handshake.cipher_spec_len',  'tls.handshake.cipher_suites_length',  'tls.handshake.ciphersuites',  'tls.handshake.client_point_len',  'tls.handshake.comp_method',  'tls.handshake.comp_methods',  'tls.handshake.comp_methods_length',  'tls.handshake.epms_len',  'tls.handshake.extension.heartbeat.mode',  'tls.handshake.extensions_ec_point_formats',  'tls.handshake.extensions_ec_point_formats_length',  'tls.handshake.extensions_length',  'tls.handshake.extensions_reneg_info_len',  'tls.handshake.extensions_server_name_len',  'tls.handshake.extensions_server_name_list_len',  'tls.handshake.extensions_server_name_type',  'tls.handshake.extensions_supported_groups',  'tls.handshake.extensions_supported_groups_length',  'tls.handshake.g_len',  'tls.handshake.p_len',  'tls.handshake.server_point_len',  'tls.handshake.session_id_length',  'tls.handshake.session_ticket_length',  'tls.handshake.session_ticket_lifetime_hint',  'tls.handshake.sig_hash_alg_len',  'tls.handshake.sig_hash_algs',  'tls.handshake.sig_len',  'tls.handshake.yc_len',  'tls.handshake.ys_len',  'tls.resumed',  'tls.sct.scts_length',  'udp.checksum.status',  'udp.dstport',  'udp.length',  'udp.length.bad',  'udp.possible_traceroute',  'udp.srcport'], ['udp.stream',  'eth.dst',  'eth.src', 'udp.payload',  'stun.cookie',  'stun.id',  'stun.value',  'tcp.options',  'tcp.options.mss','tcp.options.wscale',  'ntp.refid','arp.proto.type',  'dhcp.flags',  'dhcp.flags.reserved',  'dhcp.id',  'dns.flags',  'dns.id',  'eth.fcs',  'eth.type',  'icmp.checksum',  'icmpv6.checksum',  'igmp.checksum',  'igmp.type',  'ip.id',  'ipv6.flow',  'ipv6.tclass',  'ntp.flags',  'stun.att.crc32',  'stun.att.transp',  'stun.type',  'stun.type.class',  'stun.type.method',  'stun.type.method-assignment',  'tcp.checksum',  'tcp.flags',  'tls.handshake.server_curve_type',  'tls.handshake.server_named_curve',  'tls.handshake.version',  'udp.checksum',  'http.connection',  'http.request.method','http.response.code.desc',  'http.response.phrase'      ], ['tcp.flags.str',  'tcp.payload',  '_ws.col.Protocol',  'tls.handshake.sig_hash_alg',  'dhcp.hw.type',  'ip.dsfield',  'ip.flags',  'ipv6.opt.type',  'ipv6.opt.type.rest',  'stun.att.family',  'stun.att.ipv4-xord',  'stun.att.port-xord',  'tcp.segment',  'arp.duplicate-address-detected',  'arp.duplicate-address-frame',  'dns.srv.port',  'dns.srv.priority',  'dns.srv.weight',  'eth.addr.oui',  'eth.ig',  'eth.lg',  'ip.checksum.status',  'ip.dsfield.dscp',  'ip.dsfield.ecn',  'ip.flags.df',  'ip.flags.mf',  'ip.flags.rb',  'ip.frag_offset',  'ip.hdr_len',  'ip.proto',  'ip.ttl',  'ip.version',  'ipv6.opt',  'ipv6.opt.length',  'ipv6.opt.type.action',  'ipv6.opt.type.change',  'stun.att.padding',  'stun.att.port',  'stun.att.reserved',  'tcp.analysis.duplicate_ack',  'tls.record.length']]\n",
    "\n",
    "# dictionary to convert string to category\n",
    "strs={\"http_connection\": {'Close': 1, 'Keep-Alive': 2, 'close': 3, 'keep-alive': 4},\n",
    "\"http_request_method\": {'DELETE': 1, 'GET': 2, 'M-SEARCH': 3, 'NOTIFY': 4, 'POST': 5, 'PUT': 6,'SUBSCRIBE':7, 'UNSUBSCRIBE':8},\n",
    "\"http_request_uri_path\": {'/agent/upgrade': 1, '/dst': 2, '/queue/getmessage': 3,\n",
    "'/router/firmware/query.aspx': 4, '/scale/register': 5, '/scale/validate': 6,\"/index.php\":7,},\n",
    "\"http_response_code_desc\": {'Continue': 1, 'Not Found': 2, 'OK': 3, 'Unauthorized': 4,\"Precondition Failed\":5, \"No Content\":6,\"Forbidden\":7,\"Found\":8,\"Moved Temporarily\":9 },\n",
    " \"http_response_phrase\": {'Continue': 1, 'Not Found': 2, 'OK': 3, 'Unauthorized': 4,\"Precondition Failed\":5, \"No Content\":6,\"Forbidden\":7,\"Found\":8,\"Moved Temporarily\":9},\n",
    "\"dns_srv_proto\": {'_dhnap': 1, '_dhnap,_http': 2, '_hap': 3, '_http': 4, '_http,_dhnap': 5,\"_dcp\":7,\"_dcp,_http\":8, \"_http,_dcp\": 9,  '_http,_http': 6},\n",
    "\"tcp_flags_str\": {'·······AP··F': 1, '·······AP···': 2, '·······A·R··': 3, '·······A··S·': 4,\n",
    "    '·······A···F': 5, '·······A····': 6, '·········R··': 7,  '··········S·': 8,'····CE····S·':9, \"····C··AP···\":10,\"···········F\":11},\n",
    "\"_ws_col_Protocol\": {'EAPOL':1,'DHCP':2,'DNS':3,'TCP':4,'HTTP':5,'ICMP':6,'MDNS':7,'IGMPv3':8,'SSDP':9,'NTP':10,'HTTP/XML':11,'UDP':12,'SSLv2':13,\n",
    "                     'TLSv1':14,'TLSv1.2':14,'TLSv1.1':14,\"TLSv1.3\":14,\n",
    "'ADwin Config':15,'ICMPv6':17,'HTTP/JSON':18,'XID':19,'TFTP':20,'NXP 802.15.4 SNIFFER':21,'IGMPv2':22,'A21':23,'STUN':24,'Gearman':25,\n",
    "'?KNXnet/IP':26,\"? KNXnet/IP\":26,'UDPENCAP':27,'ESP':28,'SSL':29,'NBNS':30,'SIP':31,'BROWSER':32,'SABP':33,'ISAKMP':34,'CLASSIC-STUN':35,'Omni-Path':36,'XMPP/XML':37,\n",
    "'ULP':38,'TFPoverTCP':39,'AX4000':40,'MIH':41,'DHCPv6':42,'TDLS':43,'RTMP':44,'TCPCL':45,'IPA':46,'GQUIC':47,'0x86dd':48,'DB-LSP-DISC':49,'SSLv3':50,\n",
    "'LLMNR':51,'FB_ZERO':52,'OCSP':53,'IPv4':54,'STP':55,'SSH':56,'KINK':58,'MANOLITO':59,'PKTC':60,'TELNET':61,'RTSP':62,'HCrt':63,'MPTCP':64,\n",
    "'S101':65,'IRC':66,'AJP13':67,'PMPROXY':68,'PNIO':69,'AMS':70,'ECATF':71,'LLC':72,'TZSP':73,'RSIP':74,'SSHv2':75,'DIAMETER':76,'BFDControl':77,'ASAP':78\n",
    ",'DISTCC':79,'DISTCC ':79,'LISP':80,'WOW':81,'DTLSv1.0':82,'SNMP':83,'SMB2':84,'SMB':85,'NBSS':86,'UDT':87,'HiQnet':88,'POWERLINK/UDP':89\n",
    ",'RTP':90,'WebSocket':91,'NAT-PMP':92,'RTCP':93,'Syslog':94,'Portmap':95,'OpenVPN':96,'BJNP':97,'RIPv1':98,'MAC-Telnet':99,'ECHO':100,'ASF':101\n",
    ",'DAYTIME':102,'SRVLOC':103,'KRB4':104,'CAPWAP-Control':105,'XDMCP':106,'Chargen':107,'RADIUS':108,'L2TP':109,'DCERPC':110,'KPASSWD':111,'H264':112\n",
    ",'FTP':113,'FTP-DATA':114,'ENIP':115,'RIPv2':116,'ICP':117,\"BACnet-APDU\":118,\"IAX2\":119,\"RX\":120,\"HTTP2\":121,\"SIP/SDP\":122,\"TIME\":123,\n",
    "\"Elasticsearch\":124,\"RSL\":125,\"TPCP\":126,\"IPv6\":127,\"ARP\":128,\"TCP/XML\":129, \"TPLINK-SMARTHOME/JSON\" :130, \"DB-LSP-DISC/JSON\":131, \"BFD Control\":132, \"DISTCC\":133,\n",
    "\"TFP over TCP\":134,\"PCEP\":135,\"NDPS\":136,\n",
    "\"GTP\":137,\n",
    "\"TC-NV\":138,\n",
    "\"RDPUDP\":139,\n",
    "\"OpcUa\":140,\n",
    "\"RSVP\":16,\n",
    "\"NVMe/TCP\":57,\n",
    "\"BFD Echo\":141,\n",
    "\"BAT_BATMAN\":142,\n",
    "\"GRE\":143,\n",
    "\"VxLAN\":144,\n",
    "\"RRoCE\":145,\n",
    "\"HICP\":146,\n",
    "\"MQTT\":147,\n",
    "\"VITA 49\":148,\n",
    "\"BAT_GW\":149,\n",
    "\"0x0006\":150,\n",
    "\"0x0009\":150,\n",
    "\"0x0000\":150,\n",
    "\"GSMTAP\":151,\n",
    "\"CBSP\":152,\n",
    "\"DNPv72\":153,\n",
    "\"DNPv0 \":154,\n",
    "\"DNPv27\":155,\n",
    "\"IPP\":156,\n",
    "\"PCP v2\":157,\n",
    "\"IMAP\":158}}\n",
    "# string to category feature list\n",
    "str_cols=[\"http.connection\",\n",
    "\"http.request.method\",\n",
    "#\"http.request.uri.path\",\n",
    "\"http.response.code.desc\",\n",
    "\"http.response.phrase\",\n",
    "#\"dns.srv.proto\",\n",
    "\"tcp.flags.str\",\n",
    "\"_ws.col.Protocol\"]\n",
    "\n",
    "\n",
    "\n",
    "\n",
    "\n",
    "\n",
    "\n",
    "# MAC address of devices and their names. It will use for labelling\n",
    "macs={'d0:52:a8:00:67:5e': 'Smart Things',\n",
    " '44:65:0d:56:cc:d3': 'Amazon Echo',\n",
    " '70:ee:50:18:34:43': 'Netatmo Welcome',\n",
    " 'f4:f2:6d:93:51:f1': 'TP-Link Day Night Cloud camera',\n",
    " '00:16:6c:ab:6b:88': 'Samsung SmartCam',\n",
    " '30:8c:fb:2f:e4:b2': 'Dropcam',\n",
    " 'ec:1a:59:79:f4:89': 'Belkin Wemo switch',\n",
    " '50:c7:bf:00:56:39': 'TP-Link Smart plug',\n",
    " '74:c6:3b:29:d7:1d': 'iHome',\n",
    " 'ec:1a:59:83:28:11': 'Belkin wemo motion sensor',\n",
    " '18:b4:30:25:be:e4': 'NEST Protect smoke alarm',\n",
    " '70:ee:50:03:b8:ac': 'Netatmo weather station',\n",
    " 'd0:73:d5:01:83:08': 'Light Bulbs LiFX Smart Bulb',\n",
    " '18:b7:9e:02:20:44': 'Triby Speaker',\n",
    " 'e0:76:d0:33:bb:85': 'PIX-STAR Photo-frame',\n",
    " '70:5a:0f:e4:9b:c0': 'HP Printer',\n",
    " '08:21:ef:3b:fc:e3': 'Samsung Galaxy Tab',\n",
    " 'ac:bc:32:d4:6f:2f': 'MacBook',\n",
    " '14:cc:20:51:33:ea': 'TPLink Router Bridge LAN',\n",
    " '00:17:88:2b:9a:25': 'Phillip Hue Lightbulb',\n",
    " #'7c:70:bc:5d:5e:dc': 'Canary Camera',\n",
    " '70:88:6b:10:0f:c6': 'Awair air quality monitor'}\n",
    "\n"
   ]
  },
  {
   "cell_type": "code",
   "execution_count": 30,
   "id": "6d9718d4-d9ef-41a9-bb50-a6343966790c",
   "metadata": {},
   "outputs": [],
   "source": [
    "#entropy calculation (shannon entropy )\n",
    "def shannon(hex_string):\n",
    "    LOG_BASE = 2\n",
    "   # We determine the frequency of each byte\n",
    "   # in the dataset and if this frequency is not null we use it for the\n",
    "   # entropy calculation.\n",
    "    try:\n",
    "        binary_data = bytes.fromhex(hex_string)\n",
    "        dataSize = len(binary_data)\n",
    "        ent = 0.0\n",
    "        freq={} \n",
    "        for c in binary_data:\n",
    "            if c in freq:\n",
    "                freq[c] += 1\n",
    "            else:\n",
    "                freq[c] = 1\n",
    "       # to determine if each possible value of a byte is in the list\n",
    "        for key in freq.keys():\n",
    "            f = float(freq[key])/dataSize\n",
    "            if f > 0: # to avoid an error for log(0)\n",
    "                ent = ent + f * math.log(f, LOG_BASE)\n",
    "    except:\n",
    "        return hex_string\n",
    "    return -ent"
   ]
  },
  {
   "cell_type": "code",
   "execution_count": 31,
   "id": "e83889ed-d7c8-40fe-8c02-3c59451e5fc1",
   "metadata": {},
   "outputs": [],
   "source": [
    "# port number to port classes\n",
    "def port_class(port):\n",
    "    port_list=[0,53,67,68,80,123,443,1900,5353,49153]# private port list (0-Reserved,53-DNS, 67-BOOTP server, 68-BOOTP client...)\n",
    "    if port in port_list: #Is the port number in the list?\n",
    "        return port_list.index(port)+1 # return the port's index number in the list (actually with index+1)\n",
    "    elif 0 <= port <= 1023: # return 11 if the port number is in the range 0 :1023\n",
    "        return 11\n",
    "    elif  1024 <= port <= 49151 : # return 12 if the port number is in the range 1024:49151\n",
    "        return 12\n",
    "    elif 49152 <=port <= 65535 :# return 13 if the port number is in the range 49152:65535\n",
    "        return 13\n",
    "    else:# return 0 if no previous conditions are met\n",
    "        return 0\n",
    "    "
   ]
  },
  {
   "cell_type": "code",
   "execution_count": 32,
   "id": "32018c96-278e-4584-831a-a0e941039a8e",
   "metadata": {},
   "outputs": [],
   "source": [
    "# in some cases there are two values in the network packets, for example two IP layers inside each other. In these cases only \n",
    "# the first value is taken and the second value is discarded. Here is a list of features that suffer from this\n",
    "dubs=[\"tls.handshake.sig_hash_alg\",\n",
    "\"dhcp.hw.type\",\n",
    "\"ip.dsfield\",\n",
    "\"ip.flags\",\n",
    "\"ipv6.opt.type\",\n",
    "\"ipv6.opt.type.rest\",\n",
    "\"stun.att.family\",\n",
    "\"stun.att.ipv4-xord\",\n",
    "\"stun.att.port-xord\",\n",
    "\"tcp.segment\",\n",
    "\"arp.duplicate-address-detected\",\n",
    "\"arp.duplicate-address-frame\",\n",
    "\"dns.srv.port\",\n",
    "\"dns.srv.priority\",\n",
    "\"dns.srv.weight\",\n",
    "\"eth.addr.oui\",\n",
    "\"eth.ig\",\n",
    "\"eth.lg\",\n",
    "\"ip.checksum.status\",\n",
    "\"ip.dsfield.dscp\",\n",
    "\"ip.dsfield.ecn\",\n",
    "\"ip.flags.df\",\n",
    "\"ip.flags.mf\",\n",
    "\"tcp.options.sack_le\",\n",
    "\"tcp.options.sack_re\",\n",
    "\"icmp.unused\",\n",
    "'arp.seconds-since-duplicate-address-frame',\n",
    "'ip.len',\n",
    "'ip.id',\n",
    "\"ip.flags.rb\",\n",
    "\"ip.frag_offset\",\n",
    "\"ip.hdr_len\",\n",
    "\"ip.proto\",\n",
    "\"ip.ttl\",\n",
    "\"ip.version\",\n",
    "\"ipv6.opt\",\n",
    "\"ipv6.opt.length\",\n",
    "\"ipv6.opt.type.action\",\n",
    "\"ipv6.opt.type.change\",\n",
    "\"stun.att.padding\",\n",
    "\"stun.att.port\",\n",
    "\"stun.att.reserved\",\n",
    "\"tcp.analysis.duplicate_ack\",\n",
    "\"tls.record.length\"]\n",
    "#\"ip.dst\",\n",
    "#\"ip.src\",\n",
    "#\"ip.src_host\",\n",
    "#\"stun.att.ipv4\",\n",
    "#\"dhcp.hw.mac_addr\"]\n",
    "\n",
    "\n",
    "# hexadecimal to decimal function\n",
    "def comma_cleaner(val):\n",
    "    clean=[]\n",
    "    for v in val:\n",
    "        if \",\" in str(v):\n",
    "            temp=v.split(\",\")\n",
    "            temp=temp[0]\n",
    "        else:\n",
    "            temp=v\n",
    "        clean.append(temp)  \n",
    "    return clean\n"
   ]
  },
  {
   "cell_type": "code",
   "execution_count": 33,
   "id": "afbaed23-3b62-4f55-8d15-84678cc4f74e",
   "metadata": {},
   "outputs": [],
   "source": [
    "# features with hexadecimal values\n",
    "hexvalues=[\"stun.cookie\",\n",
    "\"stun.id\",\n",
    "\"stun.value\",\n",
    "\"tcp.options\",\n",
    "\"tcp.options.mss\",\n",
    "#\"tcp.options.sack\",\n",
    "\"tcp.options.wscale\",\n",
    "\"ntp.refid\",\n",
    "#\"stun.att.username\",\n",
    "\"arp.proto.type\",\n",
    "\"dhcp.flags\",\n",
    "\"dhcp.flags.reserved\",\n",
    "\"dhcp.id\",\n",
    "\"dns.flags\",\n",
    "\"dns.id\",\n",
    "\"eth.fcs\",\n",
    "\"eth.type\",\n",
    "\"icmp.checksum\",\n",
    "\"icmpv6.checksum\",\n",
    "\"igmp.checksum\",\n",
    "\"igmp.type\",\n",
    "\"ip.id\",\n",
    "\"ipv6.flow\",\n",
    "\"ipv6.tclass\",\n",
    "\"ntp.flags\",\n",
    "\"stun.att.crc32\",\n",
    "\"stun.att.transp\",\n",
    "\"stun.type\",\n",
    "\"stun.type.class\",\n",
    "\"stun.type.method\",\n",
    "\"stun.type.method-assignment\",\n",
    "\"tcp.checksum\",\n",
    "\"tcp.flags\",\n",
    "\"tls.handshake.server_curve_type\",\n",
    "\"tls.handshake.server_named_curve\",\n",
    "\"tls.handshake.version\",\n",
    "\"udp.checksum\",\n",
    "\"dhcp.hw.type\",\n",
    "\"ipv6.opt.type\",\"tls.handshake.sig_hash_alg\",\n",
    "\"ip.dsfield\",\n",
    "\"ip.flags\",\n",
    "\"stun.att.family\",\n",
    "\"stun.att.ipv4-xord\",\n",
    "\"stun.att.port-xord\",\n",
    "\"ipv6.opt.type.rest\"]\n",
    "\n",
    "# function that holds the first value and discards the second value for repeated values\n",
    "def hex2dec(val):\n",
    "    clean=[]\n",
    "    for v in val:\n",
    "        try:\n",
    "            clean.append(int(v, 16))\n",
    "        except:\n",
    "            clean.append(v)  \n",
    "    return clean\n"
   ]
  },
  {
   "cell_type": "code",
   "execution_count": 34,
   "id": "ac7b9faf-e8bd-47ef-9fd4-9388a51e2a0a",
   "metadata": {},
   "outputs": [
    {
     "data": {
      "text/plain": [
       "['pcaps\\\\16-09-29.pcap',\n",
       " 'pcaps\\\\16-10-03.pcap',\n",
       " 'pcaps\\\\16-11-18.pcap',\n",
       " 'pcaps\\\\16-11-22.pcap',\n",
       " 'pcaps\\\\18-06-11.pcap',\n",
       " 'pcaps\\\\18-06-14.pcap',\n",
       " 'pcaps\\\\18-10-13.pcap',\n",
       " 'pcaps\\\\18-10-16.pcap']"
      ]
     },
     "execution_count": 34,
     "metadata": {},
     "output_type": "execute_result"
    }
   ],
   "source": [
    "path=\"pcaps\"\n",
    "pcaps=find_the_way(path,\".pcap\")\n",
    "pcaps"
   ]
  },
  {
   "cell_type": "code",
   "execution_count": 35,
   "id": "648a868e-59b7-4998-9848-51f449dd2cbf",
   "metadata": {},
   "outputs": [
    {
     "name": "stdout",
     "output_type": "stream",
     "text": [
      "1/8   ---> pcaps\\16-09-29.pcap   \n",
      "STEP - 1 - (PCAP2CSV)\n"
     ]
    },
    {
     "name": "stderr",
     "output_type": "stream",
     "text": [
      "100%|████████████████████████████████████████████████████████████████████████████████████| 7/7 [00:03<00:00,  2.07it/s]\n"
     ]
    },
    {
     "name": "stdout",
     "output_type": "stream",
     "text": [
      "STEP - 2 - (CSV Merge)\n"
     ]
    },
    {
     "name": "stderr",
     "output_type": "stream",
     "text": [
      "100%|████████████████████████████████████████████████████████████████████████████████████| 7/7 [00:07<00:00,  1.13s/it]\n"
     ]
    },
    {
     "name": "stdout",
     "output_type": "stream",
     "text": [
      "2/8   ---> pcaps\\16-10-03.pcap   \n",
      "STEP - 1 - (PCAP2CSV)\n"
     ]
    },
    {
     "name": "stderr",
     "output_type": "stream",
     "text": [
      "100%|████████████████████████████████████████████████████████████████████████████████████| 7/7 [00:03<00:00,  1.98it/s]\n"
     ]
    },
    {
     "name": "stdout",
     "output_type": "stream",
     "text": [
      "STEP - 2 - (CSV Merge)\n"
     ]
    },
    {
     "name": "stderr",
     "output_type": "stream",
     "text": [
      "100%|████████████████████████████████████████████████████████████████████████████████████| 7/7 [00:07<00:00,  1.11s/it]\n"
     ]
    },
    {
     "name": "stdout",
     "output_type": "stream",
     "text": [
      "3/8   ---> pcaps\\16-11-18.pcap   \n",
      "STEP - 1 - (PCAP2CSV)\n"
     ]
    },
    {
     "name": "stderr",
     "output_type": "stream",
     "text": [
      "100%|████████████████████████████████████████████████████████████████████████████████████| 7/7 [00:03<00:00,  1.92it/s]\n"
     ]
    },
    {
     "name": "stdout",
     "output_type": "stream",
     "text": [
      "STEP - 2 - (CSV Merge)\n"
     ]
    },
    {
     "name": "stderr",
     "output_type": "stream",
     "text": [
      "100%|████████████████████████████████████████████████████████████████████████████████████| 7/7 [00:08<00:00,  1.16s/it]\n"
     ]
    },
    {
     "name": "stdout",
     "output_type": "stream",
     "text": [
      "4/8   ---> pcaps\\16-11-22.pcap   \n",
      "STEP - 1 - (PCAP2CSV)\n"
     ]
    },
    {
     "name": "stderr",
     "output_type": "stream",
     "text": [
      "100%|████████████████████████████████████████████████████████████████████████████████████| 7/7 [00:03<00:00,  1.91it/s]\n"
     ]
    },
    {
     "name": "stdout",
     "output_type": "stream",
     "text": [
      "STEP - 2 - (CSV Merge)\n"
     ]
    },
    {
     "name": "stderr",
     "output_type": "stream",
     "text": [
      "100%|████████████████████████████████████████████████████████████████████████████████████| 7/7 [00:08<00:00,  1.14s/it]\n"
     ]
    },
    {
     "name": "stdout",
     "output_type": "stream",
     "text": [
      "5/8   ---> pcaps\\18-06-11.pcap   \n",
      "STEP - 1 - (PCAP2CSV)\n"
     ]
    },
    {
     "name": "stderr",
     "output_type": "stream",
     "text": [
      "100%|████████████████████████████████████████████████████████████████████████████████████| 7/7 [00:03<00:00,  1.75it/s]\n"
     ]
    },
    {
     "name": "stdout",
     "output_type": "stream",
     "text": [
      "STEP - 2 - (CSV Merge)\n"
     ]
    },
    {
     "name": "stderr",
     "output_type": "stream",
     "text": [
      "100%|████████████████████████████████████████████████████████████████████████████████████| 7/7 [00:07<00:00,  1.14s/it]\n"
     ]
    },
    {
     "name": "stdout",
     "output_type": "stream",
     "text": [
      "6/8   ---> pcaps\\18-06-14.pcap   \n",
      "STEP - 1 - (PCAP2CSV)\n"
     ]
    },
    {
     "name": "stderr",
     "output_type": "stream",
     "text": [
      "100%|████████████████████████████████████████████████████████████████████████████████████| 7/7 [00:03<00:00,  1.86it/s]\n"
     ]
    },
    {
     "name": "stdout",
     "output_type": "stream",
     "text": [
      "STEP - 2 - (CSV Merge)\n"
     ]
    },
    {
     "name": "stderr",
     "output_type": "stream",
     "text": [
      "100%|████████████████████████████████████████████████████████████████████████████████████| 7/7 [00:08<00:00,  1.16s/it]\n"
     ]
    },
    {
     "name": "stdout",
     "output_type": "stream",
     "text": [
      "7/8   ---> pcaps\\18-10-13.pcap   \n",
      "STEP - 1 - (PCAP2CSV)\n"
     ]
    },
    {
     "name": "stderr",
     "output_type": "stream",
     "text": [
      "100%|████████████████████████████████████████████████████████████████████████████████████| 7/7 [00:03<00:00,  2.00it/s]\n"
     ]
    },
    {
     "name": "stdout",
     "output_type": "stream",
     "text": [
      "STEP - 2 - (CSV Merge)\n"
     ]
    },
    {
     "name": "stderr",
     "output_type": "stream",
     "text": [
      "100%|████████████████████████████████████████████████████████████████████████████████████| 7/7 [00:08<00:00,  1.14s/it]\n"
     ]
    },
    {
     "name": "stdout",
     "output_type": "stream",
     "text": [
      "8/8   ---> pcaps\\18-10-16.pcap   \n",
      "STEP - 1 - (PCAP2CSV)\n"
     ]
    },
    {
     "name": "stderr",
     "output_type": "stream",
     "text": [
      "100%|████████████████████████████████████████████████████████████████████████████████████| 7/7 [00:03<00:00,  2.06it/s]\n"
     ]
    },
    {
     "name": "stdout",
     "output_type": "stream",
     "text": [
      "STEP - 2 - (CSV Merge)\n"
     ]
    },
    {
     "name": "stderr",
     "output_type": "stream",
     "text": [
      "100%|████████████████████████████████████████████████████████████████████████████████████| 7/7 [00:07<00:00,  1.09s/it]\n"
     ]
    }
   ],
   "source": [
    "#### pcap to csv using wireshark\n",
    "#### Feature extraction main part\n",
    "\n",
    "for numero, pp in enumerate(pcaps):\n",
    "    print(f\"{numero+1}/{len(pcaps)}   ---> {pp}   \")\n",
    "    killthemall()\n",
    "    name=pp.replace(\"\\\\\",\"/\")\n",
    "    print(\"STEP - 1 - (PCAP2CSV)\")\n",
    "    for p,feature in enumerate (tqdm(features)):\n",
    "        line=f\"tshark -r {name} -E header=y -E separator=\\\"|\\\" -T fields -e \"\n",
    "        for i in feature:\n",
    "            line=line+ i + \" -e \"\n",
    "        line= line[:-3] + f\"> ./temp/{p}.csv\"\n",
    "        os.system(line)\n",
    "    \n",
    "    files_add=find_the_way('./temp/',\".csv\")\n",
    "    files_add\n",
    "        \n",
    "    csvname=name.replace(\"pcap\",\"csv\")\n",
    "    folder(csvname[:csvname.rfind(\"/\")])\n",
    "    flag=1\n",
    "    print(\"STEP - 2 - (CSV Merge)\")\n",
    "    for i in  tqdm(files_add):\n",
    "        try:\n",
    "            if flag:\n",
    "                df=pd.read_csv(i,sep=\"|\")\n",
    "                #df=df.dropna(axis=1, how='all')\n",
    "                df.to_csv(csvname,sep=\"|\", index=False)\n",
    "                flag=0\n",
    "            else:\n",
    "                df=pd.read_csv(csvname,sep=\"|\")\n",
    "                df1=pd.read_csv(i,sep=\"|\")\n",
    "                #df1=df1.dropna(axis=1, how='all')\n",
    "    \n",
    "                result = pd.concat([df, df1], axis=1)\n",
    "                result.to_csv(csvname,sep=\"|\", index=False)\n",
    "                #result.to_csv(f\"nihai{flag}.csv\", index=False)\n",
    "        except:print(\"error\",i)\n",
    "\n",
    "\n"
   ]
  },
  {
   "cell_type": "code",
   "execution_count": 36,
   "id": "36b0f584-4db6-4b3d-8d87-dc82358b1683",
   "metadata": {},
   "outputs": [],
   "source": [
    "# MAC address of devices and their names. It will use for labelling\n",
    "macs={'d0:52:a8:00:67:5e': 'Smart Things',\n",
    " '44:65:0d:56:cc:d3': 'Amazon Echo',\n",
    " '70:ee:50:18:34:43': 'Netatmo Welcome',\n",
    " 'f4:f2:6d:93:51:f1': 'TP-Link Day Night Cloud camera',\n",
    " '00:16:6c:ab:6b:88': 'Samsung SmartCam',\n",
    " '30:8c:fb:2f:e4:b2': 'Dropcam',\n",
    " 'ec:1a:59:79:f4:89': 'Belkin Wemo switch',\n",
    " '50:c7:bf:00:56:39': 'TP-Link Smart plug',\n",
    " '74:c6:3b:29:d7:1d': 'iHome',\n",
    " 'ec:1a:59:83:28:11': 'Belkin wemo motion sensor',\n",
    " '18:b4:30:25:be:e4': 'NEST Protect smoke alarm',\n",
    " '70:ee:50:03:b8:ac': 'Netatmo weather station',\n",
    " 'd0:73:d5:01:83:08': 'Light Bulbs LiFX Smart Bulb',\n",
    " '18:b7:9e:02:20:44': 'Triby Speaker',\n",
    " 'e0:76:d0:33:bb:85': 'PIX-STAR Photo-frame',\n",
    " '70:5a:0f:e4:9b:c0': 'HP Printer',\n",
    " '08:21:ef:3b:fc:e3': 'Samsung Galaxy Tab',\n",
    " 'ac:bc:32:d4:6f:2f': 'MacBook',\n",
    " '14:cc:20:51:33:ea': 'TPLink Router Bridge LAN',\n",
    " '00:17:88:2b:9a:25': 'Phillip Hue Lightbulb',\n",
    "# '7c:70:bc:5d:5e:dc': 'Canary Camera',\n",
    " '70:88:6b:10:0f:c6': 'Awair air quality monitor'}\n"
   ]
  },
  {
   "cell_type": "code",
   "execution_count": 37,
   "id": "b06beeac-0d1f-4f50-aed4-4b9e770fe837",
   "metadata": {},
   "outputs": [
    {
     "name": "stderr",
     "output_type": "stream",
     "text": [
      "100%|████████████████████████████████████████████████████████████████████████████████████| 8/8 [00:36<00:00,  4.56s/it]\n"
     ]
    }
   ],
   "source": [
    "#### General corrections in CSV files (payload entropy, port class, merging of IPv4 and IPv6 properties, Labelling, etc.)\n",
    "#### nan values filled with -9999\n",
    "#### inf values filled with max(uint32)\n",
    "files_add=find_the_way('./csvs/',\".csv\")\n",
    "for name in tqdm(files_add):\n",
    "    df=pd.read_csv(name,sep=\"|\")\n",
    "    for d in dubs:\n",
    "        temp=df[d].values\n",
    "        temp=comma_cleaner(temp)\n",
    "        df[d]=temp\n",
    "    for h in hexvalues:\n",
    "        temp=df[h].values\n",
    "        temp=hex2dec(temp)\n",
    "        df[h]=temp\n",
    "    df['tcp.options']=df['tcp.options'].astype(np.float32)\n",
    "    df['tcp.options']=df['tcp.options'].replace([np.inf, -np.inf], np.iinfo(np.uint32).max)  \n",
    "\n",
    "    for i in str_cols:\n",
    "        temp=i.replace(\".\",\"_\")\n",
    "        val=df[i]\n",
    "        val=val.replace(strs[temp])\n",
    "        temp=hex2dec(temp)\n",
    "        df[i]=val\n",
    "    # Sütunları birleştir\n",
    "    df['Payload_Entropy'] = df[\"udp.payload\"].combine_first(df[\"tcp.payload\"])\n",
    "    del df[\"udp.payload\"]\n",
    "    del df[\"tcp.payload\"]\n",
    "    temp=[]\n",
    "    for i in (df['Payload_Entropy'].values):\n",
    "        temp.append(shannon(i))\n",
    "    df['Payload_Entropy']=temp\n",
    "\n",
    "\n",
    "    df['dstport'] = df['udp.dstport'].combine_first(df['udp.dstport'])\n",
    "    df['srcport'] = df['udp.srcport'].combine_first(df['udp.srcport'])\n",
    "    \n",
    "    temp=[]\n",
    "    for i in (df['dstport'].values):\n",
    "        temp.append(port_class(i))\n",
    "    df['dstport_class']=temp\n",
    "    \n",
    "    temp=[]\n",
    "    for i in (df['srcport'].values):\n",
    "        temp.append(port_class(i))\n",
    "    df['srcport_class']=temp\n",
    "\n",
    "\n",
    "    df['dstport'] = df['udp.dstport'].combine_first(df['udp.dstport'])\n",
    "    df['srcport'] = df['udp.srcport'].combine_first(df['udp.srcport'])\n",
    "    #df['ip.dst'] = df['ip.dst'].combine_first(df['ipv6.dst'])\n",
    "   # df['ip.src'] = df['ip.src'].combine_first(df['ipv6.src'])\n",
    "    \n",
    "    df['ip.bogus_ip_length'] = df['ip.bogus_ip_length'].combine_first(df['ipv6.hlim'])\n",
    "    df['ip.len'] = df['ip.len'].combine_first(df['ipv6.hopopts.nxt'])\n",
    "    df['ip.opt.len'] = df['ip.opt.len'].combine_first(df['ipv6.nxt'])\n",
    "    df['ip.opt.ra'] = df['ip.opt.ra'].combine_first(df['ipv6.opt.router_alert'])\n",
    "    df['ip.opt.type'] = df['ip.opt.type'].combine_first(df['ipv6.plen'])\n",
    "    df['ip.opt.type.class'] = df['ip.opt.type.class'].combine_first(df['ipv6.tclass.dscp'])\n",
    "    df['ip.opt.type.copy'] = df['ip.opt.type.copy'].combine_first(df['ipv6.tclass.ecn'])\n",
    "    df['ip.opt.type.number'] = df['ip.opt.type.number'].combine_first(df['ipv6.version'])\n",
    "    \n",
    "\n",
    "    del df['ipv6.hlim']\n",
    "    del df['ipv6.hopopts.nxt']\n",
    "    del df['ipv6.nxt']\n",
    "    del df['ipv6.opt.router_alert']\n",
    "    del df['ipv6.plen']\n",
    "    del df['ipv6.tclass.dscp']\n",
    "    del df['ipv6.tclass.ecn']\n",
    "    del df['ipv6.version']\n",
    "    df=df.fillna(-9999)\n",
    "    df[\"Label\"]=df[\"eth.src\"].replace(macs)\n",
    "    df.to_csv(name,index=False)"
   ]
  },
  {
   "cell_type": "code",
   "execution_count": null,
   "id": "eaf51b64-ba78-4fe9-a74b-fa5d06df83f5",
   "metadata": {},
   "outputs": [],
   "source": []
  },
  {
   "cell_type": "code",
   "execution_count": null,
   "id": "2ca2118a-be73-4fcb-9da3-473c5c94a793",
   "metadata": {},
   "outputs": [],
   "source": []
  },
  {
   "cell_type": "markdown",
   "id": "8ec52852-0e72-423d-8f98-3e866247fbe2",
   "metadata": {},
   "source": [
    "# Merge Small CSVs\n",
    "\n",
    "### if you have split the pcap files into small sizes, you can use this section to merge their csv output"
   ]
  },
  {
   "cell_type": "code",
   "execution_count": 38,
   "id": "8a023095-2755-41f1-b2ad-57f630edc934",
   "metadata": {},
   "outputs": [
    {
     "data": {
      "text/plain": [
       "[]"
      ]
     },
     "execution_count": 38,
     "metadata": {},
     "output_type": "execute_result"
    }
   ],
   "source": [
    "days=[]\n",
    "them=find_the_way(\"./csvs/\",\"small\")\n",
    "for i in them:\n",
    "    days.append(i[15:23])\n",
    "days=list(set(days))\n",
    "days"
   ]
  },
  {
   "cell_type": "code",
   "execution_count": 39,
   "id": "491e5f02-b10e-4177-9eff-369e73dcf35a",
   "metadata": {},
   "outputs": [],
   "source": [
    "def csvmerger(output):\n",
    "    ths = open(f\"{output}.csv\", \"w\")\n",
    "    flag=1\n",
    "    them=find_the_way(\"./csvs/\",output)\n",
    "    for t in them:\n",
    "        print(t)\n",
    "        with open(t, \"r\") as file:\n",
    "            while True:\n",
    "                line=file.readline()\n",
    "                if line==\"\":break\n",
    "                if not line.startswith(\"dns\"):\n",
    "                    #print(line)\n",
    "                    ths.write(line)\n",
    "                    #print(line)\n",
    "                    #break\n",
    "                else:\n",
    "                    if flag:\n",
    "                        ths.write(line)\n",
    "                        flag=0\n",
    "        os.remove(t)\n",
    "    ths.close()"
   ]
  },
  {
   "cell_type": "code",
   "execution_count": 40,
   "id": "4a9b1f2c-1946-4891-bf5b-aceac0adfa6a",
   "metadata": {},
   "outputs": [],
   "source": [
    "for i in days:\n",
    "    csvmerger(i)"
   ]
  },
  {
   "cell_type": "markdown",
   "id": "822908d3-7c7a-4b2c-87a8-a4d8186ecf56",
   "metadata": {},
   "source": [
    "# Function that brings together disjoint csv files for ML evaluation. This function also reduces the csv file size by eliminating unnecessary or unusable samples (irrelevant device names)"
   ]
  },
  {
   "cell_type": "code",
   "execution_count": 41,
   "id": "56a703de-8d95-4b1f-8e63-1010ab6ae2a6",
   "metadata": {},
   "outputs": [],
   "source": [
    "devices=list(macs.values())\n",
    "#devices"
   ]
  },
  {
   "cell_type": "code",
   "execution_count": 42,
   "id": "0033d8fb-1762-4ce1-acb6-723336c166bc",
   "metadata": {},
   "outputs": [],
   "source": [
    "them=find_the_way(\"./csvs/\",\".csv\")"
   ]
  },
  {
   "cell_type": "code",
   "execution_count": 43,
   "id": "fd173787-5014-413c-b456-d85ddf2380eb",
   "metadata": {},
   "outputs": [
    {
     "name": "stdout",
     "output_type": "stream",
     "text": [
      "-9999.0\n"
     ]
    }
   ],
   "source": [
    "proError=[]\n",
    "for t in them:\n",
    "    #main_labels=\"dns.time,http.time,icmp.data_time_relative,icmp.resptime,stun.time,tcp.ack,tcp.ack_raw,tcp.analysis.ack_rtt,tcp.analysis.initial_rtt,tcp.analysis.rto,tcp.nxtseq,tcp.options.timestamp.tsecr,tcp.options.timestamp.tsval,tcp.seq,tcp.seq_raw,tcp.time_delta,tcp.time_relative,udp.time_delta,udp.time_relative,arp.hw.size,arp.hw.type,arp.isannouncement,arp.isgratuitous,arp.isprobe,arp.opcode,arp.proto.size,arp.seconds-since-duplicate-address-frame,dhcp.flags.bc,dhcp.hops,dhcp.hw.addr_padding,dhcp.hw.len,dhcp.option.dhcp,dhcp.option.dhcp_max_message_size,dhcp.option.end,dhcp.option.interface_mtu,dhcp.option.ip_address_lease_time,dhcp.option.padding,dhcp.option.rebinding_time_value,dhcp.option.renewal_time_value,dhcp.secs,dhcp.type,dns.count.add_rr,dns.count.answers,dns.count.auth_rr,dns.count.queries,dns.extraneous,dns.extraneous.data,dns.extraneous.length,dns.flags.authenticated,dns.flags.authoritative,dns.flags.checkdisable,dns.flags.opcode,dns.flags.rcode,dns.flags.recavail,dns.flags.recdesired,dns.flags.response,dns.flags.truncated,dns.flags.z,dns.response_to,dns.retransmission,dns.retransmit_request,dns.retransmit_request_in,dns.retransmit_response,dns.retransmit_response_in,dns.soa.expire_limit,dns.soa.minimum_ttl,dns.soa.refresh_interval,dns.soa.retry_interval,dns.soa.serial_number,dns.unsolicited,eapol.keydes.key_iv,eapol.keydes.key_len,eapol.keydes.replay_counter,eapol.keydes.type,eapol.len,eapol.type,eapol.version,eth.dst.ig,eth.dst.lg,eth.dst.oui,eth.fcs.status,eth.len,eth.padding,eth.padding_bad,eth.src.ig,eth.src.lg,eth.src.oui,http.chat,http.content_length,http.content_length_header,http.notification,http.prev_request_in,http.prev_response_in,http.request,http.request_in,http.request_number,http.response,http.response.code,http.response_number,icmp.checksum.status,icmp.code,icmp.ident,icmp.ident_le,icmp.resp_to,icmp.seq,icmp.seq_le,icmp.type,icmp.unused,icmpv6.checksum.status,icmpv6.code,icmpv6.mldr.nb_mcast_records,icmpv6.opt,icmpv6.opt.length,icmpv6.opt.type,icmpv6.reserved,icmpv6.type,igmp.checksum.status,igmp.max_resp,igmp.num_grp_recs,igmp.version,ip.bogus_ip_length,ip.len,ip.opt.len,ip.opt.ra,ip.opt.type,ip.opt.type.class,ip.opt.type.copy,ip.opt.type.number,ntp.flags.li,ntp.flags.mode,ntp.flags.vn,ntp.ppoll,ntp.precision,ntp.rootdelay,ntp.rootdispersion,ntp.stratum,stun.att.crc32.status,stun.att.error,stun.att.error.class,stun.att.lifetime,stun.attributes,stun.length,stun.network_version,stun.response-to,tcp.analysis,tcp.analysis.ack_lost_segment,tcp.analysis.acks_frame,tcp.analysis.bytes_in_flight,tcp.analysis.duplicate_ack_frame,tcp.analysis.duplicate_ack_num,tcp.analysis.flags,tcp.analysis.keep_alive,tcp.analysis.keep_alive_ack,tcp.analysis.lost_segment,tcp.analysis.out_of_order,tcp.analysis.push_bytes_sent,tcp.analysis.retransmission,tcp.analysis.reused_ports,tcp.analysis.rto_frame,tcp.analysis.spurious_retransmission,tcp.analysis.window_update,tcp.checksum.status,tcp.completeness,tcp.connection.fin,tcp.connection.fin_active,tcp.connection.fin_passive,tcp.connection.rst,tcp.connection.syn,tcp.connection.synack,tcp.dstport,tcp.fin_retransmission,tcp.flags.ack,tcp.flags.ae,tcp.flags.cwr,tcp.flags.ece,tcp.flags.fin,tcp.flags.push,tcp.flags.res,tcp.flags.reset,tcp.flags.syn,tcp.flags.urg,tcp.hdr_len,tcp.len,tcp.options.mss_val,tcp.options.sack.count,tcp.options.sack.dsack,tcp.options.sack.dsack_le,tcp.options.sack.dsack_re,tcp.options.sack_le,tcp.options.sack_perm,tcp.options.sack_re,tcp.options.wscale.multiplier,tcp.options.wscale.shift,tcp.pdu.size,tcp.reassembled.length,tcp.segment.count,tcp.segment.overlap,tcp.segments,tcp.srcport,tcp.stream,tcp.urgent_pointer,tcp.window_size,tcp.window_size_scalefactor,tcp.window_size_value,tls.alert_message,tls.change_cipher_spec,tls.handshake.certificates,tls.handshake.certificates_length,tls.handshake.challenge,tls.handshake.challenge_length,tls.handshake.cipher_spec_len,tls.handshake.cipher_suites_length,tls.handshake.ciphersuites,tls.handshake.client_point_len,tls.handshake.comp_method,tls.handshake.comp_methods,tls.handshake.comp_methods_length,tls.handshake.epms_len,tls.handshake.extension.heartbeat.mode,tls.handshake.extensions_ec_point_formats,tls.handshake.extensions_ec_point_formats_length,tls.handshake.extensions_length,tls.handshake.extensions_reneg_info_len,tls.handshake.extensions_server_name_len,tls.handshake.extensions_server_name_list_len,tls.handshake.extensions_server_name_type,tls.handshake.extensions_supported_groups,tls.handshake.extensions_supported_groups_length,tls.handshake.g_len,tls.handshake.p_len,tls.handshake.server_point_len,tls.handshake.session_id_length,tls.handshake.session_ticket_length,tls.handshake.session_ticket_lifetime_hint,tls.handshake.sig_hash_alg_len,tls.handshake.sig_hash_algs,tls.handshake.sig_len,tls.handshake.yc_len,tls.handshake.ys_len,tls.resumed,tls.sct.scts_length,udp.checksum.status,udp.dstport,udp.length,udp.length.bad,udp.possible_traceroute,udp.srcport,udp.stream,eth.dst,eth.src,stun.cookie,stun.id,stun.value,tcp.options,tcp.options.mss,tcp.options.wscale,ntp.refid,arp.proto.type,dhcp.flags,dhcp.flags.reserved,dhcp.id,dns.flags,dns.id,eth.fcs,eth.type,icmp.checksum,icmpv6.checksum,igmp.checksum,igmp.type,ip.id,ipv6.flow,ipv6.tclass,ntp.flags,stun.att.crc32,stun.att.transp,stun.type,stun.type.class,stun.type.method,stun.type.method-assignment,tcp.checksum,tcp.flags,tls.handshake.server_curve_type,tls.handshake.server_named_curve,tls.handshake.version,udp.checksum,http.connection,http.request.method,http.response.code.desc,http.response.phrase,tcp.flags.str,_ws.col.Protocol,tls.handshake.sig_hash_alg,dhcp.hw.type,ip.dsfield,ip.flags,ipv6.opt.type,ipv6.opt.type.rest,stun.att.family,stun.att.ipv4-xord,stun.att.port-xord,tcp.segment,arp.duplicate-address-detected,arp.duplicate-address-frame,dns.srv.port,dns.srv.priority,dns.srv.weight,eth.addr.oui,eth.ig,eth.lg,ip.checksum.status,ip.dsfield.dscp,ip.dsfield.ecn,ip.flags.df,ip.flags.mf,ip.flags.rb,ip.frag_offset,ip.hdr_len,ip.proto,ip.ttl,ip.version,ipv6.opt,ipv6.opt.length,ipv6.opt.type.action,ipv6.opt.type.change,stun.att.padding,stun.att.port,stun.att.reserved,tcp.analysis.duplicate_ack,tls.record.length,Payload_Entropy,dstport,srcport,dstport_class,srcport_class,Label\\n\"\n",
    "    ths = open(t.replace(\".csv\",\"_.csv\"), \"w\")\n",
    "    #ths.write(main_labels)\n",
    "\n",
    "    with open(t, \"r\") as file:\n",
    "        line=file.readline()\n",
    "        ths.write(line)\n",
    "        while True:\n",
    "            try:\n",
    "                line=file.readline()\n",
    "                if line==\"\":break\n",
    "                temp=line[:-1]\n",
    "                temp=temp.split(\",\")\n",
    "                if temp[-1] in devices:\n",
    "                    if int(temp[290])!=128:\n",
    "                        ths.write(line)\n",
    "            except:\n",
    "                if temp[290] not in proError:\n",
    "                    print(temp[290])\n",
    "                    proError.append(temp[290])\n",
    "\n",
    "    ths.close()\n",
    "    os.remove(t)\n",
    "    "
   ]
  },
  {
   "cell_type": "code",
   "execution_count": 44,
   "id": "c55f9e5f-15f8-4ea9-a232-4f6221273707",
   "metadata": {},
   "outputs": [],
   "source": [
    "files_add=find_the_way(\"./csvs/\",\".csv\")\n",
    "for f in files_add:\n",
    "    output=f.replace(\"_.csv\",\".csv\")\n",
    "    os.rename(f,output)"
   ]
  },
  {
   "cell_type": "markdown",
   "id": "9611b837-c3b5-4bfb-9aa8-a696c0976210",
   "metadata": {},
   "source": [
    "# In order to cope with missing devices in the experimental environment, appropriate sessions were combined to obtain sessions containing all devices."
   ]
  },
  {
   "cell_type": "code",
   "execution_count": 45,
   "id": "72764ba8-e502-4ef7-bc12-99a09f8aa1eb",
   "metadata": {},
   "outputs": [],
   "source": [
    "them={\"DI-S1\": ['./csvs/16-09-29.csv', './csvs/16-11-18.csv'],\n",
    "\"DI-S2\": ['./csvs/16-10-03.csv','./csvs/16-11-22.csv'],\n",
    "\"AD-S1\": ['./csvs/18-06-14.csv',  './csvs/18-10-13.csv'],\n",
    "\"AD-S2\": [ './csvs/18-06-11.csv','./csvs/18-10-16.csv']}"
   ]
  },
  {
   "cell_type": "code",
   "execution_count": 46,
   "id": "8a7a1823-66bc-461a-a75b-c1c61a04aa7a",
   "metadata": {},
   "outputs": [],
   "source": [
    "for output in them:\n",
    "    ths = open(f\"./csvs/{output}.csv\", \"w\")\n",
    "    flag=1\n",
    "\n",
    "    for t in them[output]:\n",
    "        with open(t, \"r\") as file:\n",
    "            while True:\n",
    "                line=file.readline()\n",
    "                if line==\"\":break\n",
    "                if not line.startswith(\"dns\"):\n",
    "                    #print(line)\n",
    "                    ths.write(line)\n",
    "                    #print(line)\n",
    "                    #break\n",
    "                else:\n",
    "                    if flag:\n",
    "                        ths.write(line)\n",
    "                        flag=0\n",
    "        os.remove(t)\n",
    "    ths.close()"
   ]
  },
  {
   "cell_type": "markdown",
   "id": "5c6fa15d-d555-4423-a33f-aea22007cec9",
   "metadata": {},
   "source": [
    "# CREATE SMALLER CSVs (1/20)\n",
    "\n",
    "#### CSV files may be too large to be processed.  You can sample CSV files using these sections.\n",
    "#### Since sampling uses proportions, the csvs reduced in this type of sampling will reflect real-life examples."
   ]
  },
  {
   "cell_type": "markdown",
   "id": "aef22588-421b-41de-b6d5-b83088b0899e",
   "metadata": {},
   "source": [
    "### USING PANDAS"
   ]
  },
  {
   "cell_type": "code",
   "execution_count": 68,
   "id": "70497bc2-d401-4fba-9eff-b31c817fbf8d",
   "metadata": {},
   "outputs": [
    {
     "data": {
      "text/plain": [
       "['./csvs/AD-S1.csv',\n",
       " './csvs/AD-S2.csv',\n",
       " './csvs/DI-S1.csv',\n",
       " './csvs/DI-S2.csv']"
      ]
     },
     "execution_count": 68,
     "metadata": {},
     "output_type": "execute_result"
    }
   ],
   "source": [
    "files_add=find_the_way(\"./csvs/\",\".csv\")\n",
    "files_add"
   ]
  },
  {
   "cell_type": "code",
   "execution_count": 69,
   "id": "75b3ce11-7e90-4e27-8b08-6103250cd581",
   "metadata": {},
   "outputs": [],
   "source": [
    "folder(\"small\")"
   ]
  },
  {
   "cell_type": "code",
   "execution_count": 70,
   "id": "02f960c0-ca3a-4f22-b893-7ab821516b92",
   "metadata": {},
   "outputs": [],
   "source": [
    "import random\n",
    "random.seed(12)"
   ]
  },
  {
   "cell_type": "code",
   "execution_count": 71,
   "id": "5aa3ae7f-0c95-46f4-960c-d2c416d2faee",
   "metadata": {},
   "outputs": [
    {
     "name": "stdout",
     "output_type": "stream",
     "text": [
      "./csvs/AD-S1.csv\n",
      "./csvs/AD-S2.csv\n",
      "./csvs/DI-S1.csv\n",
      "./csvs/DI-S2.csv\n"
     ]
    }
   ],
   "source": [
    "for f in files_add:\n",
    "    print(f)\n",
    "    name=f.replace(\"./csvs\",\"./small\")\n",
    "    ths = open(name, \"w\")\n",
    "    with open(f, \"r\") as file:\n",
    "        line=file.readline()\n",
    "        ths.write(line)\n",
    "        while True:\n",
    "            line=file.readline()\n",
    "            if line==\"\":break\n",
    "            rnd=random.randint(0,20)\n",
    "            if rnd==12:\n",
    "                ths.write(line)\n",
    "    ths.close()       "
   ]
  },
  {
   "cell_type": "code",
   "execution_count": 72,
   "id": "1a31caa2-cd28-4742-8b00-94bf049b2027",
   "metadata": {},
   "outputs": [],
   "source": [
    "files_add=find_the_way(\"./small/\",\".csv\")"
   ]
  },
  {
   "cell_type": "code",
   "execution_count": 73,
   "id": "807756c6-26cd-4253-9445-147be0c0b2f7",
   "metadata": {},
   "outputs": [
    {
     "name": "stdout",
     "output_type": "stream",
     "text": [
      "21 Label\n",
      "Amazon Echo                         2821\n",
      "Awair air quality monitor            739\n",
      "Belkin Wemo switch                  1500\n",
      "Belkin wemo motion sensor          25267\n",
      "Dropcam                            14935\n",
      "HP Printer                           354\n",
      "Light Bulbs LiFX Smart Bulb         1303\n",
      "MacBook                               93\n",
      "NEST Protect smoke alarm              13\n",
      "Netatmo Welcome                     4218\n",
      "Netatmo weather station              314\n",
      "PIX-STAR Photo-frame                 215\n",
      "Phillip Hue Lightbulb               4479\n",
      "Samsung Galaxy Tab                 12705\n",
      "Samsung SmartCam                   12253\n",
      "Smart Things                        1961\n",
      "TP-Link Day Night Cloud camera       387\n",
      "TP-Link Smart plug                   165\n",
      "TPLink Router Bridge LAN          175530\n",
      "Triby Speaker                       1518\n",
      "iHome                                418\n",
      "dtype: int64\n",
      "21 Label\n",
      "Amazon Echo                         1349\n",
      "Awair air quality monitor            736\n",
      "Belkin Wemo switch                   977\n",
      "Belkin wemo motion sensor          24526\n",
      "Dropcam                            12868\n",
      "HP Printer                           350\n",
      "Light Bulbs LiFX Smart Bulb          665\n",
      "MacBook                              148\n",
      "NEST Protect smoke alarm              21\n",
      "Netatmo Welcome                     1739\n",
      "Netatmo weather station              340\n",
      "PIX-STAR Photo-frame                 204\n",
      "Phillip Hue Lightbulb               4732\n",
      "Samsung Galaxy Tab                 12163\n",
      "Samsung SmartCam                   12081\n",
      "Smart Things                        2001\n",
      "TP-Link Day Night Cloud camera       412\n",
      "TP-Link Smart plug                   160\n",
      "TPLink Router Bridge LAN          175044\n",
      "Triby Speaker                        314\n",
      "iHome                                387\n",
      "dtype: int64\n",
      "21 Label\n",
      "Amazon Echo                        3108\n",
      "Awair air quality monitor          1072\n",
      "Belkin Wemo switch                 3214\n",
      "Belkin wemo motion sensor          4792\n",
      "Dropcam                            9352\n",
      "HP Printer                          748\n",
      "Light Bulbs LiFX Smart Bulb         594\n",
      "MacBook                            1645\n",
      "NEST Protect smoke alarm              5\n",
      "Netatmo Welcome                    2612\n",
      "Netatmo weather station             627\n",
      "PIX-STAR Photo-frame                208\n",
      "Phillip Hue Lightbulb              1840\n",
      "Samsung Galaxy Tab                  777\n",
      "Samsung SmartCam                   3741\n",
      "Smart Things                       1439\n",
      "TP-Link Day Night Cloud camera      396\n",
      "TP-Link Smart plug                  106\n",
      "TPLink Router Bridge LAN          46081\n",
      "Triby Speaker                       514\n",
      "iHome                               231\n",
      "dtype: int64\n",
      "21 Label\n",
      "Amazon Echo                        3049\n",
      "Awair air quality monitor           789\n",
      "Belkin Wemo switch                 3178\n",
      "Belkin wemo motion sensor          5291\n",
      "Dropcam                           11665\n",
      "HP Printer                          889\n",
      "Light Bulbs LiFX Smart Bulb        1025\n",
      "MacBook                            3445\n",
      "NEST Protect smoke alarm             19\n",
      "Netatmo Welcome                    4826\n",
      "Netatmo weather station             704\n",
      "PIX-STAR Photo-frame                 85\n",
      "Phillip Hue Lightbulb              2417\n",
      "Samsung Galaxy Tab                 4716\n",
      "Samsung SmartCam                   4336\n",
      "Smart Things                       1494\n",
      "TP-Link Day Night Cloud camera      362\n",
      "TP-Link Smart plug                  155\n",
      "TPLink Router Bridge LAN          69411\n",
      "Triby Speaker                       504\n",
      "iHome                               327\n",
      "dtype: int64\n"
     ]
    }
   ],
   "source": [
    "for i in files_add:\n",
    "    df=pd.read_csv(i,usecols=[\"Label\"])\n",
    "    temp=df.groupby(\"Label\").size()\n",
    "    print(len(temp),temp)\n",
    "    print(\"#\"*120,\"\\n\\n\\n\")"
   ]
  },
  {
   "cell_type": "markdown",
   "id": "96280b4e-1fc8-4be8-8d51-ec32e0fa78cb",
   "metadata": {},
   "source": [
    "# Alternative method to shrink CSV\n",
    "# CREATE SMALLER CSVs (choose 10000 each)\n",
    "\n",
    "#### Using pandas on large CSV files can sometimes cause problems. In the following example I have developed a system that can sample very large files quickly and without problems."
   ]
  },
  {
   "cell_type": "code",
   "execution_count": 14,
   "id": "92ae7a42-2aa4-4ead-9f88-f40e5164773f",
   "metadata": {},
   "outputs": [
    {
     "data": {
      "text/plain": [
       "['./csvs/AD-S1.csv',\n",
       " './csvs/AD-S2.csv',\n",
       " './csvs/DI-S1.csv',\n",
       " './csvs/DI-S2.csv']"
      ]
     },
     "execution_count": 14,
     "metadata": {},
     "output_type": "execute_result"
    }
   ],
   "source": [
    "them=find_the_way(\"./csvs/\",\".csv\")\n",
    "them"
   ]
  },
  {
   "cell_type": "code",
   "execution_count": 9,
   "id": "138110f8-efef-460c-8a59-c912b5db80d3",
   "metadata": {},
   "outputs": [
    {
     "name": "stdout",
     "output_type": "stream",
     "text": [
      "{'Label': 1, 'TPLink Router Bridge LAN': 3686119, 'Dropcam': 315620, 'Samsung SmartCam': 256673, 'Netatmo Welcome': 89183, 'Belkin wemo motion sensor': 527710, 'Amazon Echo': 59980, 'Awair air quality monitor': 15125, 'Smart Things': 42351, 'Belkin Wemo switch': 31059, 'iHome': 9043, 'HP Printer': 7402, 'TP-Link Smart plug': 3350, 'PIX-STAR Photo-frame': 4156, 'MacBook': 2197, 'Samsung Galaxy Tab': 263823, 'Triby Speaker': 31746, 'Light Bulbs LiFX Smart Bulb': 27200, 'NEST Protect smoke alarm': 273, 'Phillip Hue Lightbulb': 96581, 'TP-Link Day Night Cloud camera': 8347, 'Netatmo weather station': 6791}\n",
      "{'Label': 1, 'Dropcam': 267373, 'TPLink Router Bridge LAN': 3681953, 'Belkin wemo motion sensor': 514614, 'Samsung SmartCam': 253855, 'Smart Things': 42312, 'Netatmo Welcome': 36227, 'Awair air quality monitor': 15266, 'PIX-STAR Photo-frame': 4161, 'Belkin Wemo switch': 20733, 'HP Printer': 7299, 'iHome': 8901, 'TP-Link Smart plug': 3321, 'NEST Protect smoke alarm': 431, 'Phillip Hue Lightbulb': 99306, 'TP-Link Day Night Cloud camera': 8580, 'Samsung Galaxy Tab': 257415, 'Amazon Echo': 28216, 'Triby Speaker': 6514, 'Light Bulbs LiFX Smart Bulb': 15195, 'Netatmo weather station': 6869, 'MacBook': 3020}\n",
      "{'Label': 1, 'Dropcam': 198230, 'TPLink Router Bridge LAN': 964339, 'Amazon Echo': 63314, 'Netatmo Welcome': 53493, 'Belkin Wemo switch': 66667, 'Triby Speaker': 10734, 'HP Printer': 14920, 'Light Bulbs LiFX Smart Bulb': 12446, 'Smart Things': 30208, 'iHome': 4592, 'Samsung SmartCam': 80942, 'Belkin wemo motion sensor': 101555, 'TP-Link Day Night Cloud camera': 8218, 'TP-Link Smart plug': 2665, 'PIX-STAR Photo-frame': 4447, 'Netatmo weather station': 13032, 'Samsung Galaxy Tab': 16457, 'NEST Protect smoke alarm': 219, 'MacBook': 34600, 'Awair air quality monitor': 20201, 'Phillip Hue Lightbulb': 39188}\n",
      "{'Label': 1, 'Dropcam': 244948, 'Samsung SmartCam': 90723, 'TPLink Router Bridge LAN': 1467386, 'Netatmo Welcome': 102418, 'Belkin wemo motion sensor': 109823, 'Smart Things': 29968, 'TP-Link Day Night Cloud camera': 6963, 'Amazon Echo': 64943, 'iHome': 7056, 'PIX-STAR Photo-frame': 2033, 'Triby Speaker': 10563, 'Belkin Wemo switch': 65635, 'Light Bulbs LiFX Smart Bulb': 21561, 'HP Printer': 19037, 'TP-Link Smart plug': 3478, 'Netatmo weather station': 14132, 'Samsung Galaxy Tab': 99943, 'NEST Protect smoke alarm': 363, 'Awair air quality monitor': 16256, 'Phillip Hue Lightbulb': 50022, 'MacBook': 72514}\n"
     ]
    }
   ],
   "source": [
    "sizes={}\n",
    "for t in them:\n",
    "    hist= {} \n",
    "    with open(t, \"r\") as file:\n",
    "        while True:\n",
    "            line=file.readline()\n",
    "            if line==\"\":break\n",
    "            temp=line[:-1]\n",
    "            temp=temp.split(\",\")\n",
    "            temp=temp[-1]\n",
    "            hist[temp]= hist.get(temp,0) +1\n",
    "\n",
    "    print(hist)\n",
    "    sizes[t]=hist\n",
    "    "
   ]
  },
  {
   "cell_type": "code",
   "execution_count": 10,
   "id": "1f2d9270-c231-49c5-b914-8ef68bcd2091",
   "metadata": {},
   "outputs": [
    {
     "data": {
      "text/plain": [
       "{'./csvs/AD-S1.csv': {'Label': 1,\n",
       "  'TPLink Router Bridge LAN': 3686119,\n",
       "  'Dropcam': 315620,\n",
       "  'Samsung SmartCam': 256673,\n",
       "  'Netatmo Welcome': 89183,\n",
       "  'Belkin wemo motion sensor': 527710,\n",
       "  'Amazon Echo': 59980,\n",
       "  'Awair air quality monitor': 15125,\n",
       "  'Smart Things': 42351,\n",
       "  'Belkin Wemo switch': 31059,\n",
       "  'iHome': 9043,\n",
       "  'HP Printer': 7402,\n",
       "  'TP-Link Smart plug': 3350,\n",
       "  'PIX-STAR Photo-frame': 4156,\n",
       "  'MacBook': 2197,\n",
       "  'Samsung Galaxy Tab': 263823,\n",
       "  'Triby Speaker': 31746,\n",
       "  'Light Bulbs LiFX Smart Bulb': 27200,\n",
       "  'NEST Protect smoke alarm': 273,\n",
       "  'Phillip Hue Lightbulb': 96581,\n",
       "  'TP-Link Day Night Cloud camera': 8347,\n",
       "  'Netatmo weather station': 6791},\n",
       " './csvs/AD-S2.csv': {'Label': 1,\n",
       "  'Dropcam': 267373,\n",
       "  'TPLink Router Bridge LAN': 3681953,\n",
       "  'Belkin wemo motion sensor': 514614,\n",
       "  'Samsung SmartCam': 253855,\n",
       "  'Smart Things': 42312,\n",
       "  'Netatmo Welcome': 36227,\n",
       "  'Awair air quality monitor': 15266,\n",
       "  'PIX-STAR Photo-frame': 4161,\n",
       "  'Belkin Wemo switch': 20733,\n",
       "  'HP Printer': 7299,\n",
       "  'iHome': 8901,\n",
       "  'TP-Link Smart plug': 3321,\n",
       "  'NEST Protect smoke alarm': 431,\n",
       "  'Phillip Hue Lightbulb': 99306,\n",
       "  'TP-Link Day Night Cloud camera': 8580,\n",
       "  'Samsung Galaxy Tab': 257415,\n",
       "  'Amazon Echo': 28216,\n",
       "  'Triby Speaker': 6514,\n",
       "  'Light Bulbs LiFX Smart Bulb': 15195,\n",
       "  'Netatmo weather station': 6869,\n",
       "  'MacBook': 3020},\n",
       " './csvs/DI-S1.csv': {'Label': 1,\n",
       "  'Dropcam': 198230,\n",
       "  'TPLink Router Bridge LAN': 964339,\n",
       "  'Amazon Echo': 63314,\n",
       "  'Netatmo Welcome': 53493,\n",
       "  'Belkin Wemo switch': 66667,\n",
       "  'Triby Speaker': 10734,\n",
       "  'HP Printer': 14920,\n",
       "  'Light Bulbs LiFX Smart Bulb': 12446,\n",
       "  'Smart Things': 30208,\n",
       "  'iHome': 4592,\n",
       "  'Samsung SmartCam': 80942,\n",
       "  'Belkin wemo motion sensor': 101555,\n",
       "  'TP-Link Day Night Cloud camera': 8218,\n",
       "  'TP-Link Smart plug': 2665,\n",
       "  'PIX-STAR Photo-frame': 4447,\n",
       "  'Netatmo weather station': 13032,\n",
       "  'Samsung Galaxy Tab': 16457,\n",
       "  'NEST Protect smoke alarm': 219,\n",
       "  'MacBook': 34600,\n",
       "  'Awair air quality monitor': 20201,\n",
       "  'Phillip Hue Lightbulb': 39188},\n",
       " './csvs/DI-S2.csv': {'Label': 1,\n",
       "  'Dropcam': 244948,\n",
       "  'Samsung SmartCam': 90723,\n",
       "  'TPLink Router Bridge LAN': 1467386,\n",
       "  'Netatmo Welcome': 102418,\n",
       "  'Belkin wemo motion sensor': 109823,\n",
       "  'Smart Things': 29968,\n",
       "  'TP-Link Day Night Cloud camera': 6963,\n",
       "  'Amazon Echo': 64943,\n",
       "  'iHome': 7056,\n",
       "  'PIX-STAR Photo-frame': 2033,\n",
       "  'Triby Speaker': 10563,\n",
       "  'Belkin Wemo switch': 65635,\n",
       "  'Light Bulbs LiFX Smart Bulb': 21561,\n",
       "  'HP Printer': 19037,\n",
       "  'TP-Link Smart plug': 3478,\n",
       "  'Netatmo weather station': 14132,\n",
       "  'Samsung Galaxy Tab': 99943,\n",
       "  'NEST Protect smoke alarm': 363,\n",
       "  'Awair air quality monitor': 16256,\n",
       "  'Phillip Hue Lightbulb': 50022,\n",
       "  'MacBook': 72514}}"
      ]
     },
     "execution_count": 10,
     "metadata": {},
     "output_type": "execute_result"
    }
   ],
   "source": [
    "sizes"
   ]
  },
  {
   "cell_type": "code",
   "execution_count": 20,
   "id": "c1e54dcc-d64d-488c-a43d-bd97a8e5c6da",
   "metadata": {},
   "outputs": [
    {
     "name": "stdout",
     "output_type": "stream",
     "text": [
      "./csvs/AD-S1.csv\n",
      "./csvs/AD-S2.csv\n",
      "./csvs/DI-S1.csv\n",
      "./csvs/DI-S2.csv\n"
     ]
    }
   ],
   "source": [
    "limit=5000\n",
    "for t in them:\n",
    "    print(t)\n",
    "    name=t.replace(\"./csvs\",\"./small\")\n",
    "    ths = open(name, \"w\")\n",
    "    with open(t, \"r\") as file:\n",
    "        line=file.readline()\n",
    "        ths.write(line)\n",
    "        while True:\n",
    "            line=file.readline()\n",
    "            if line==\"\":break\n",
    "            temp=line[:-1]\n",
    "            temp=temp.split(\",\")\n",
    "            temp=temp[-1]\n",
    "            if sizes[t][temp]<limit:\n",
    "                ths.write(line)\n",
    "            else:\n",
    "                temp=sizes[t][temp]\n",
    "                temp=temp//limit\n",
    "                rnd=random.randint(0,temp)\n",
    "                if rnd==1:\n",
    "                    ths.write(line)\n",
    "                \n",
    "    ths.close()       "
   ]
  },
  {
   "cell_type": "code",
   "execution_count": 21,
   "id": "9288f400-d384-471f-a8e8-a28c421a5304",
   "metadata": {},
   "outputs": [],
   "source": [
    "files_add=find_the_way(\"./small/\",\".csv\")"
   ]
  },
  {
   "cell_type": "code",
   "execution_count": 22,
   "id": "c680e315-f699-44ba-8147-cba1e04edf0a",
   "metadata": {},
   "outputs": [
    {
     "name": "stdout",
     "output_type": "stream",
     "text": [
      "21 Label\n",
      "Amazon Echo                       4569\n",
      "Awair air quality monitor         3288\n",
      "Belkin Wemo switch                3999\n",
      "Belkin wemo motion sensor         4954\n",
      "Dropcam                           4742\n",
      "HP Printer                        2816\n",
      "Light Bulbs LiFX Smart Bulb       4043\n",
      "MacBook                           2189\n",
      "NEST Protect smoke alarm           262\n",
      "Netatmo Welcome                   4876\n",
      "Netatmo weather station           2014\n",
      "PIX-STAR Photo-frame              3533\n",
      "Phillip Hue Lightbulb             4710\n",
      "Samsung Galaxy Tab                4860\n",
      "Samsung SmartCam                  4756\n",
      "Smart Things                      3734\n",
      "TP-Link Day Night Cloud camera    3401\n",
      "TP-Link Smart plug                2437\n",
      "TPLink Router Bridge LAN          4970\n",
      "Triby Speaker                     4246\n",
      "iHome                             3077\n",
      "dtype: int64\n",
      "######################################################################################################################## \n",
      "\n",
      "\n",
      "\n",
      "21 Label\n",
      "Amazon Echo                       4285\n",
      "Awair air quality monitor         3368\n",
      "Belkin Wemo switch                3561\n",
      "Belkin wemo motion sensor         4882\n",
      "Dropcam                           4769\n",
      "HP Printer                        2717\n",
      "Light Bulbs LiFX Smart Bulb       3228\n",
      "MacBook                           2985\n",
      "NEST Protect smoke alarm           410\n",
      "Netatmo Welcome                   3960\n",
      "Netatmo weather station           2024\n",
      "PIX-STAR Photo-frame              3530\n",
      "Phillip Hue Lightbulb             4777\n",
      "Samsung Galaxy Tab                4735\n",
      "Samsung SmartCam                  4820\n",
      "Smart Things                      3857\n",
      "TP-Link Day Night Cloud camera    3601\n",
      "TP-Link Smart plug                2412\n",
      "TPLink Router Bridge LAN          4964\n",
      "Triby Speaker                     2703\n",
      "iHome                             3055\n",
      "dtype: int64\n",
      "######################################################################################################################## \n",
      "\n",
      "\n",
      "\n",
      "21 Label\n",
      "Amazon Echo                       4565\n",
      "Awair air quality monitor         3550\n",
      "Belkin Wemo switch                4447\n",
      "Belkin wemo motion sensor         4623\n",
      "Dropcam                           4790\n",
      "HP Printer                        4295\n",
      "Light Bulbs LiFX Smart Bulb       3115\n",
      "MacBook                           4870\n",
      "NEST Protect smoke alarm           213\n",
      "Netatmo Welcome                   4221\n",
      "Netatmo weather station           3653\n",
      "PIX-STAR Photo-frame              3703\n",
      "Phillip Hue Lightbulb             4551\n",
      "Samsung Galaxy Tab                3791\n",
      "Samsung SmartCam                  4634\n",
      "Smart Things                      3663\n",
      "TP-Link Day Night Cloud camera    3418\n",
      "TP-Link Smart plug                2051\n",
      "TPLink Router Bridge LAN          4679\n",
      "Triby Speaker                     2427\n",
      "iHome                             3151\n",
      "dtype: int64\n",
      "######################################################################################################################## \n",
      "\n",
      "\n",
      "\n",
      "21 Label\n",
      "Amazon Echo                       4592\n",
      "Awair air quality monitor         3671\n",
      "Belkin Wemo switch                4486\n",
      "Belkin wemo motion sensor         4796\n",
      "Dropcam                           4905\n",
      "HP Printer                        4220\n",
      "Light Bulbs LiFX Smart Bulb       3703\n",
      "MacBook                           4788\n",
      "NEST Protect smoke alarm           351\n",
      "Netatmo Welcome                   4611\n",
      "Netatmo weather station           3776\n",
      "PIX-STAR Photo-frame              1755\n",
      "Phillip Hue Lightbulb             4295\n",
      "Samsung Galaxy Tab                4968\n",
      "Samsung SmartCam                  4659\n",
      "Smart Things                      4140\n",
      "TP-Link Day Night Cloud camera    2761\n",
      "TP-Link Smart plug                2578\n",
      "TPLink Router Bridge LAN          4675\n",
      "Triby Speaker                     2332\n",
      "iHome                             2508\n",
      "dtype: int64\n",
      "######################################################################################################################## \n",
      "\n",
      "\n",
      "\n"
     ]
    }
   ],
   "source": [
    "for i in files_add:\n",
    "    df=pd.read_csv(i,usecols=[\"Label\"])\n",
    "    temp=df.groupby(\"Label\").size()\n",
    "    print(len(temp),temp)\n",
    "    print(\"#\"*120,\"\\n\\n\\n\")"
   ]
  },
  {
   "cell_type": "code",
   "execution_count": 15,
   "id": "c88a88a4-fbfd-4045-b78a-5d21895aad55",
   "metadata": {},
   "outputs": [],
   "source": [
    "sizes={'./csvs/AD-S1.csv':{'Label': 1, 'TPLink Router Bridge LAN': 3686119, 'Dropcam': 315620, 'Samsung SmartCam': 256673, 'Netatmo Welcome': 89183, 'Belkin wemo motion sensor': 527710, 'Amazon Echo': 59980, 'Awair air quality monitor': 15125, 'Smart Things': 42351, 'Belkin Wemo switch': 31059, 'iHome': 9043, 'HP Printer': 7402, 'TP-Link Smart plug': 3350, 'PIX-STAR Photo-frame': 4156, 'MacBook': 2197, 'Samsung Galaxy Tab': 263823, 'Triby Speaker': 31746, 'Light Bulbs LiFX Smart Bulb': 27200, 'NEST Protect smoke alarm': 273, 'Phillip Hue Lightbulb': 96581, 'TP-Link Day Night Cloud camera': 8347, 'Netatmo weather station': 6791},\n",
    " './csvs/AD-S2.csv':{'Label': 1, 'Dropcam': 267373, 'TPLink Router Bridge LAN': 3681953, 'Belkin wemo motion sensor': 514614, 'Samsung SmartCam': 253855, 'Smart Things': 42312, 'Netatmo Welcome': 36227, 'Awair air quality monitor': 15266, 'PIX-STAR Photo-frame': 4161, 'Belkin Wemo switch': 20733, 'HP Printer': 7299, 'iHome': 8901, 'TP-Link Smart plug': 3321, 'NEST Protect smoke alarm': 431, 'Phillip Hue Lightbulb': 99306, 'TP-Link Day Night Cloud camera': 8580, 'Samsung Galaxy Tab': 257415, 'Amazon Echo': 28216, 'Triby Speaker': 6514, 'Light Bulbs LiFX Smart Bulb': 15195, 'Netatmo weather station': 6869, 'MacBook': 3020},\n",
    " './csvs/DI-S1.csv':{'Label': 1, 'Dropcam': 198230, 'TPLink Router Bridge LAN': 964339, 'Amazon Echo': 63314, 'Netatmo Welcome': 53493, 'Belkin Wemo switch': 66667, 'Triby Speaker': 10734, 'HP Printer': 14920, 'Light Bulbs LiFX Smart Bulb': 12446, 'Smart Things': 30208, 'iHome': 4592, 'Samsung SmartCam': 80942, 'Belkin wemo motion sensor': 101555, 'TP-Link Day Night Cloud camera': 8218, 'TP-Link Smart plug': 2665, 'PIX-STAR Photo-frame': 4447, 'Netatmo weather station': 13032, 'Samsung Galaxy Tab': 16457, 'NEST Protect smoke alarm': 219, 'MacBook': 34600, 'Awair air quality monitor': 20201, 'Phillip Hue Lightbulb': 39188},\n",
    " './csvs/DI-S2.csv':{'Label': 1, 'Dropcam': 244948, 'Samsung SmartCam': 90723, 'TPLink Router Bridge LAN': 1467386, 'Netatmo Welcome': 102418, 'Belkin wemo motion sensor': 109823, 'Smart Things': 29968, 'TP-Link Day Night Cloud camera': 6963, 'Amazon Echo': 64943, 'iHome': 7056, 'PIX-STAR Photo-frame': 2033, 'Triby Speaker': 10563, 'Belkin Wemo switch': 65635, 'Light Bulbs LiFX Smart Bulb': 21561, 'HP Printer': 19037, 'TP-Link Smart plug': 3478, 'Netatmo weather station': 14132, 'Samsung Galaxy Tab': 99943, 'NEST Protect smoke alarm': 363, 'Awair air quality monitor': 16256, 'Phillip Hue Lightbulb': 50022, 'MacBook': 72514}}\n"
   ]
  },
  {
   "cell_type": "code",
   "execution_count": 18,
   "id": "a007a415-45d3-4e6d-9752-dc106715a6e6",
   "metadata": {},
   "outputs": [],
   "source": [
    "df=pd.read_csv(i)"
   ]
  },
  {
   "cell_type": "code",
   "execution_count": 19,
   "id": "8adf59a7-b0d1-4149-802c-1d3f18eadd79",
   "metadata": {},
   "outputs": [
    {
     "name": "stdout",
     "output_type": "stream",
     "text": [
      "0 dns.time\n",
      "1 http.time\n",
      "2 icmp.data_time_relative\n",
      "3 icmp.resptime\n",
      "4 stun.time\n",
      "5 tcp.ack\n",
      "6 tcp.ack_raw\n",
      "7 tcp.analysis.ack_rtt\n",
      "8 tcp.analysis.initial_rtt\n",
      "9 tcp.analysis.rto\n",
      "10 tcp.nxtseq\n",
      "11 tcp.options.timestamp.tsecr\n",
      "12 tcp.options.timestamp.tsval\n",
      "13 tcp.seq\n",
      "14 tcp.seq_raw\n",
      "15 tcp.time_delta\n",
      "16 tcp.time_relative\n",
      "17 udp.time_delta\n",
      "18 udp.time_relative\n",
      "19 arp.hw.size\n",
      "20 arp.hw.type\n",
      "21 arp.isannouncement\n",
      "22 arp.isgratuitous\n",
      "23 arp.isprobe\n",
      "24 arp.opcode\n",
      "25 arp.proto.size\n",
      "26 arp.seconds-since-duplicate-address-frame\n",
      "27 dhcp.flags.bc\n",
      "28 dhcp.hops\n",
      "29 dhcp.hw.addr_padding\n",
      "30 dhcp.hw.len\n",
      "31 dhcp.option.dhcp\n",
      "32 dhcp.option.dhcp_max_message_size\n",
      "33 dhcp.option.end\n",
      "34 dhcp.option.interface_mtu\n",
      "35 dhcp.option.ip_address_lease_time\n",
      "36 dhcp.option.padding\n",
      "37 dhcp.option.rebinding_time_value\n",
      "38 dhcp.option.renewal_time_value\n",
      "39 dhcp.secs\n",
      "40 dhcp.type\n",
      "41 dns.count.add_rr\n",
      "42 dns.count.answers\n",
      "43 dns.count.auth_rr\n",
      "44 dns.count.queries\n",
      "45 dns.extraneous\n",
      "46 dns.extraneous.data\n",
      "47 dns.extraneous.length\n",
      "48 dns.flags.authenticated\n",
      "49 dns.flags.authoritative\n",
      "50 dns.flags.checkdisable\n",
      "51 dns.flags.opcode\n",
      "52 dns.flags.rcode\n",
      "53 dns.flags.recavail\n",
      "54 dns.flags.recdesired\n",
      "55 dns.flags.response\n",
      "56 dns.flags.truncated\n",
      "57 dns.flags.z\n",
      "58 dns.response_to\n",
      "59 dns.retransmission\n",
      "60 dns.retransmit_request\n",
      "61 dns.retransmit_request_in\n",
      "62 dns.retransmit_response\n",
      "63 dns.retransmit_response_in\n",
      "64 dns.soa.expire_limit\n",
      "65 dns.soa.minimum_ttl\n",
      "66 dns.soa.refresh_interval\n",
      "67 dns.soa.retry_interval\n",
      "68 dns.soa.serial_number\n",
      "69 dns.unsolicited\n",
      "70 eapol.keydes.key_iv\n",
      "71 eapol.keydes.key_len\n",
      "72 eapol.keydes.replay_counter\n",
      "73 eapol.keydes.type\n",
      "74 eapol.len\n",
      "75 eapol.type\n",
      "76 eapol.version\n",
      "77 eth.dst.ig\n",
      "78 eth.dst.lg\n",
      "79 eth.dst.oui\n",
      "80 eth.fcs.status\n",
      "81 eth.len\n",
      "82 eth.padding\n",
      "83 eth.padding_bad\n",
      "84 eth.src.ig\n",
      "85 eth.src.lg\n",
      "86 eth.src.oui\n",
      "87 http.chat\n",
      "88 http.content_length\n",
      "89 http.content_length_header\n",
      "90 http.notification\n",
      "91 http.prev_request_in\n",
      "92 http.prev_response_in\n",
      "93 http.request\n",
      "94 http.request_in\n",
      "95 http.request_number\n",
      "96 http.response\n",
      "97 http.response.code\n",
      "98 http.response_number\n",
      "99 icmp.checksum.status\n",
      "100 icmp.code\n",
      "101 icmp.ident\n",
      "102 icmp.ident_le\n",
      "103 icmp.resp_to\n",
      "104 icmp.seq\n",
      "105 icmp.seq_le\n",
      "106 icmp.type\n",
      "107 icmp.unused\n",
      "108 icmpv6.checksum.status\n",
      "109 icmpv6.code\n",
      "110 icmpv6.mldr.nb_mcast_records\n",
      "111 icmpv6.opt\n",
      "112 icmpv6.opt.length\n",
      "113 icmpv6.opt.type\n",
      "114 icmpv6.reserved\n",
      "115 icmpv6.type\n",
      "116 igmp.checksum.status\n",
      "117 igmp.max_resp\n",
      "118 igmp.num_grp_recs\n",
      "119 igmp.version\n",
      "120 ip.bogus_ip_length\n",
      "121 ip.len\n",
      "122 ip.opt.len\n",
      "123 ip.opt.ra\n",
      "124 ip.opt.type\n",
      "125 ip.opt.type.class\n",
      "126 ip.opt.type.copy\n",
      "127 ip.opt.type.number\n",
      "128 ntp.flags.li\n",
      "129 ntp.flags.mode\n",
      "130 ntp.flags.vn\n",
      "131 ntp.ppoll\n",
      "132 ntp.precision\n",
      "133 ntp.rootdelay\n",
      "134 ntp.rootdispersion\n",
      "135 ntp.stratum\n",
      "136 stun.att.crc32.status\n",
      "137 stun.att.error\n",
      "138 stun.att.error.class\n",
      "139 stun.att.lifetime\n",
      "140 stun.attributes\n",
      "141 stun.length\n",
      "142 stun.network_version\n",
      "143 stun.response-to\n",
      "144 tcp.analysis\n",
      "145 tcp.analysis.ack_lost_segment\n",
      "146 tcp.analysis.acks_frame\n",
      "147 tcp.analysis.bytes_in_flight\n",
      "148 tcp.analysis.duplicate_ack_frame\n",
      "149 tcp.analysis.duplicate_ack_num\n",
      "150 tcp.analysis.flags\n",
      "151 tcp.analysis.keep_alive\n",
      "152 tcp.analysis.keep_alive_ack\n",
      "153 tcp.analysis.lost_segment\n",
      "154 tcp.analysis.out_of_order\n",
      "155 tcp.analysis.push_bytes_sent\n",
      "156 tcp.analysis.retransmission\n",
      "157 tcp.analysis.reused_ports\n",
      "158 tcp.analysis.rto_frame\n",
      "159 tcp.analysis.spurious_retransmission\n",
      "160 tcp.analysis.window_update\n",
      "161 tcp.checksum.status\n",
      "162 tcp.completeness\n",
      "163 tcp.connection.fin\n",
      "164 tcp.connection.fin_active\n",
      "165 tcp.connection.fin_passive\n",
      "166 tcp.connection.rst\n",
      "167 tcp.connection.syn\n",
      "168 tcp.connection.synack\n",
      "169 tcp.dstport\n",
      "170 tcp.fin_retransmission\n",
      "171 tcp.flags.ack\n",
      "172 tcp.flags.ae\n",
      "173 tcp.flags.cwr\n",
      "174 tcp.flags.ece\n",
      "175 tcp.flags.fin\n",
      "176 tcp.flags.push\n",
      "177 tcp.flags.res\n",
      "178 tcp.flags.reset\n",
      "179 tcp.flags.syn\n",
      "180 tcp.flags.urg\n",
      "181 tcp.hdr_len\n",
      "182 tcp.len\n",
      "183 tcp.options.mss_val\n",
      "184 tcp.options.sack.count\n",
      "185 tcp.options.sack.dsack\n",
      "186 tcp.options.sack.dsack_le\n",
      "187 tcp.options.sack.dsack_re\n",
      "188 tcp.options.sack_le\n",
      "189 tcp.options.sack_perm\n",
      "190 tcp.options.sack_re\n",
      "191 tcp.options.wscale.multiplier\n",
      "192 tcp.options.wscale.shift\n",
      "193 tcp.pdu.size\n",
      "194 tcp.reassembled.length\n",
      "195 tcp.segment.count\n",
      "196 tcp.segment.overlap\n",
      "197 tcp.segments\n",
      "198 tcp.srcport\n",
      "199 tcp.stream\n",
      "200 tcp.urgent_pointer\n",
      "201 tcp.window_size\n",
      "202 tcp.window_size_scalefactor\n",
      "203 tcp.window_size_value\n",
      "204 tls.alert_message\n",
      "205 tls.change_cipher_spec\n",
      "206 tls.handshake.certificates\n",
      "207 tls.handshake.certificates_length\n",
      "208 tls.handshake.challenge\n",
      "209 tls.handshake.challenge_length\n",
      "210 tls.handshake.cipher_spec_len\n",
      "211 tls.handshake.cipher_suites_length\n",
      "212 tls.handshake.ciphersuites\n",
      "213 tls.handshake.client_point_len\n",
      "214 tls.handshake.comp_method\n",
      "215 tls.handshake.comp_methods\n",
      "216 tls.handshake.comp_methods_length\n",
      "217 tls.handshake.epms_len\n",
      "218 tls.handshake.extension.heartbeat.mode\n",
      "219 tls.handshake.extensions_ec_point_formats\n",
      "220 tls.handshake.extensions_ec_point_formats_length\n",
      "221 tls.handshake.extensions_length\n",
      "222 tls.handshake.extensions_reneg_info_len\n",
      "223 tls.handshake.extensions_server_name_len\n",
      "224 tls.handshake.extensions_server_name_list_len\n",
      "225 tls.handshake.extensions_server_name_type\n",
      "226 tls.handshake.extensions_supported_groups\n",
      "227 tls.handshake.extensions_supported_groups_length\n",
      "228 tls.handshake.g_len\n",
      "229 tls.handshake.p_len\n",
      "230 tls.handshake.server_point_len\n",
      "231 tls.handshake.session_id_length\n",
      "232 tls.handshake.session_ticket_length\n",
      "233 tls.handshake.session_ticket_lifetime_hint\n",
      "234 tls.handshake.sig_hash_alg_len\n",
      "235 tls.handshake.sig_hash_algs\n",
      "236 tls.handshake.sig_len\n",
      "237 tls.handshake.yc_len\n",
      "238 tls.handshake.ys_len\n",
      "239 tls.resumed\n",
      "240 tls.sct.scts_length\n",
      "241 udp.checksum.status\n",
      "242 udp.dstport\n",
      "243 udp.length\n",
      "244 udp.length.bad\n",
      "245 udp.possible_traceroute\n",
      "246 udp.srcport\n",
      "247 udp.stream\n",
      "248 eth.dst\n",
      "249 eth.src\n",
      "250 stun.cookie\n",
      "251 stun.id\n",
      "252 stun.value\n",
      "253 tcp.options\n",
      "254 tcp.options.mss\n",
      "255 tcp.options.wscale\n",
      "256 ntp.refid\n",
      "257 arp.proto.type\n",
      "258 dhcp.flags\n",
      "259 dhcp.flags.reserved\n",
      "260 dhcp.id\n",
      "261 dns.flags\n",
      "262 dns.id\n",
      "263 eth.fcs\n",
      "264 eth.type\n",
      "265 icmp.checksum\n",
      "266 icmpv6.checksum\n",
      "267 igmp.checksum\n",
      "268 igmp.type\n",
      "269 ip.id\n",
      "270 ipv6.flow\n",
      "271 ipv6.tclass\n",
      "272 ntp.flags\n",
      "273 stun.att.crc32\n",
      "274 stun.att.transp\n",
      "275 stun.type\n",
      "276 stun.type.class\n",
      "277 stun.type.method\n",
      "278 stun.type.method-assignment\n",
      "279 tcp.checksum\n",
      "280 tcp.flags\n",
      "281 tls.handshake.server_curve_type\n",
      "282 tls.handshake.server_named_curve\n",
      "283 tls.handshake.version\n",
      "284 udp.checksum\n",
      "285 http.connection\n",
      "286 http.request.method\n",
      "287 http.response.code.desc\n",
      "288 http.response.phrase\n",
      "289 tcp.flags.str\n",
      "290 _ws.col.Protocol\n",
      "291 tls.handshake.sig_hash_alg\n",
      "292 dhcp.hw.type\n",
      "293 ip.dsfield\n",
      "294 ip.flags\n",
      "295 ipv6.opt.type\n",
      "296 ipv6.opt.type.rest\n",
      "297 stun.att.family\n",
      "298 stun.att.ipv4-xord\n",
      "299 stun.att.port-xord\n",
      "300 tcp.segment\n",
      "301 arp.duplicate-address-detected\n",
      "302 arp.duplicate-address-frame\n",
      "303 dns.srv.port\n",
      "304 dns.srv.priority\n",
      "305 dns.srv.weight\n",
      "306 eth.addr.oui\n",
      "307 eth.ig\n",
      "308 eth.lg\n",
      "309 ip.checksum.status\n",
      "310 ip.dsfield.dscp\n",
      "311 ip.dsfield.ecn\n",
      "312 ip.flags.df\n",
      "313 ip.flags.mf\n",
      "314 ip.flags.rb\n",
      "315 ip.frag_offset\n",
      "316 ip.hdr_len\n",
      "317 ip.proto\n",
      "318 ip.ttl\n",
      "319 ip.version\n",
      "320 ipv6.opt\n",
      "321 ipv6.opt.length\n",
      "322 ipv6.opt.type.action\n",
      "323 ipv6.opt.type.change\n",
      "324 stun.att.padding\n",
      "325 stun.att.port\n",
      "326 stun.att.reserved\n",
      "327 tcp.analysis.duplicate_ack\n",
      "328 tls.record.length\n",
      "329 Payload_Entropy\n",
      "330 dstport\n",
      "331 srcport\n",
      "332 dstport_class\n",
      "333 srcport_class\n",
      "334 Label\n"
     ]
    }
   ],
   "source": [
    "for i,ii in enumerate(df.columns):\n",
    "    print(i,ii)"
   ]
  },
  {
   "cell_type": "code",
   "execution_count": 20,
   "id": "74f1e4af-a030-4cf8-a809-a2e46e2ea4dc",
   "metadata": {
    "scrolled": true
   },
   "outputs": [
    {
     "data": {
      "text/plain": [
       "0           4\n",
       "1          14\n",
       "2           4\n",
       "3         128\n",
       "4          16\n",
       "         ... \n",
       "161885     14\n",
       "161886      9\n",
       "161887     16\n",
       "161888     12\n",
       "161889    128\n",
       "Name: _ws.col.Protocol, Length: 161890, dtype: object"
      ]
     },
     "execution_count": 20,
     "metadata": {},
     "output_type": "execute_result"
    }
   ],
   "source": [
    "df[\"_ws.col.Protocol\"]"
   ]
  },
  {
   "cell_type": "code",
   "execution_count": null,
   "id": "9bea8b2c-2e47-4062-b702-e0a9452a440a",
   "metadata": {},
   "outputs": [],
   "source": []
  }
 ],
 "metadata": {
  "kernelspec": {
   "display_name": "Python 3 (ipykernel)",
   "language": "python",
   "name": "python3"
  },
  "language_info": {
   "codemirror_mode": {
    "name": "ipython",
    "version": 3
   },
   "file_extension": ".py",
   "mimetype": "text/x-python",
   "name": "python",
   "nbconvert_exporter": "python",
   "pygments_lexer": "ipython3",
   "version": "3.12.1"
  }
 },
 "nbformat": 4,
 "nbformat_minor": 5
}
