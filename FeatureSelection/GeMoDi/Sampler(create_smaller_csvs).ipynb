{
 "cells": [
  {
   "cell_type": "code",
   "execution_count": 20,
   "id": "a99349a3-b261-4a8c-bad5-34831fcf19ac",
   "metadata": {},
   "outputs": [],
   "source": [
    "import os\n",
    "import time\n",
    "import sklearn\n",
    "import numpy as np\n",
    "import pandas as pd\n",
    "from tqdm import tqdm"
   ]
  },
  {
   "cell_type": "code",
   "execution_count": 21,
   "id": "46ef26c4-6c6b-4540-976d-34f763d1d9b5",
   "metadata": {},
   "outputs": [],
   "source": [
    "def find_the_way(path,file_format,con=\"\"):\n",
    "    files_add = []\n",
    "    # r=root, d=directories, f = files\n",
    "    for r, d, f in os.walk(path):\n",
    "        for file in f:\n",
    "            if file_format in file:\n",
    "                if con in file:\n",
    "                    files_add.append(os.path.join(r, file))  \n",
    "            \n",
    "    return files_add\n",
    "\n",
    "files_add=find_the_way(\"./\",\".csv\")\n",
    "files_add=['./session-1-DeviceGroup-1.csv',\n",
    " './session-1-DeviceGroup-2.csv',\n",
    " './session-2-DeviceGroup-1.csv',\n",
    " './session-2-DeviceGroup-2.csv']"
   ]
  },
  {
   "cell_type": "code",
   "execution_count": 22,
   "id": "cdaec908-fd5a-4b73-9364-aa97e4655bce",
   "metadata": {},
   "outputs": [],
   "source": [
    "def folder(f_name): #this function creates a folder named \"attacks\" in the program directory.\n",
    "    try:\n",
    "        if not os.path.exists(f_name):\n",
    "            os.makedirs(f_name)\n",
    "    except OSError:\n",
    "        print (\"The folder could not be created!\")\n",
    "folder(\"small\")\n",
    "\n",
    "\n"
   ]
  },
  {
   "cell_type": "code",
   "execution_count": 23,
   "id": "ce4de2b1-40d9-4367-90f1-2a1f09a72f17",
   "metadata": {},
   "outputs": [
    {
     "name": "stdout",
     "output_type": "stream",
     "text": [
      "./session-1-DeviceGroup-1.csv\n"
     ]
    },
    {
     "name": "stderr",
     "output_type": "stream",
     "text": [
      "C:\\Users\\kahra\\AppData\\Local\\Temp\\ipykernel_2000\\2266853500.py:3: DtypeWarning: Columns (253,257,341) have mixed types. Specify dtype option on import or set low_memory=False.\n",
      "  df=pd.read_csv(f)\n"
     ]
    },
    {
     "name": "stdout",
     "output_type": "stream",
     "text": [
      "./session-1-DeviceGroup-2.csv\n"
     ]
    },
    {
     "name": "stderr",
     "output_type": "stream",
     "text": [
      "C:\\Users\\kahra\\AppData\\Local\\Temp\\ipykernel_2000\\2266853500.py:3: DtypeWarning: Columns (188,190,257,341) have mixed types. Specify dtype option on import or set low_memory=False.\n",
      "  df=pd.read_csv(f)\n"
     ]
    },
    {
     "name": "stdout",
     "output_type": "stream",
     "text": [
      "./session-2-DeviceGroup-1.csv\n"
     ]
    },
    {
     "name": "stderr",
     "output_type": "stream",
     "text": [
      "C:\\Users\\kahra\\AppData\\Local\\Temp\\ipykernel_2000\\2266853500.py:3: DtypeWarning: Columns (253,257,289,341) have mixed types. Specify dtype option on import or set low_memory=False.\n",
      "  df=pd.read_csv(f)\n"
     ]
    },
    {
     "name": "stdout",
     "output_type": "stream",
     "text": [
      "./session-2-DeviceGroup-2.csv\n"
     ]
    },
    {
     "name": "stderr",
     "output_type": "stream",
     "text": [
      "C:\\Users\\kahra\\AppData\\Local\\Temp\\ipykernel_2000\\2266853500.py:3: DtypeWarning: Columns (257,289,341) have mixed types. Specify dtype option on import or set low_memory=False.\n",
      "  df=pd.read_csv(f)\n"
     ]
    }
   ],
   "source": [
    "for f in files_add:\n",
    "    print(f)\n",
    "    df=pd.read_csv(f)\n",
    "    df = df.sample(n = len(df)//10) \n",
    "    df.to_csv(f.replace(\"./\",\"./small/\"),index=False)"
   ]
  },
  {
   "cell_type": "code",
   "execution_count": 24,
   "id": "6b118707-2586-4436-9b5e-09ef62a80206",
   "metadata": {},
   "outputs": [
    {
     "name": "stdout",
     "output_type": "stream",
     "text": [
      "./session-1-DeviceGroup-1.csv\n",
      "AmazonAlexaEchoDot_@12047\n",
      "D-LinkCam1_@39837\n",
      "D-LinkDayCam1_@67843\n",
      "EdimaxCam_@270\n",
      "EdnetCam_@117\n",
      "GosundPlug_@9631\n",
      "GosundSocket_@9613\n",
      "LinkSmartPlug_@15590\n",
      "TeckinPlug_@6155\n",
      "WeMoInsightSwitch_@2201\n",
      "WeMoSwitch_@1925\n",
      "YutronPlug_@6149\n",
      "./session-1-DeviceGroup-2.csv\n",
      "AmazonAlexaEchoDot_@11508\n",
      "D-LinkCam2_@108294\n",
      "D-LinkDayCam4_@8323\n",
      "EdimaxCam_@177\n",
      "EdnetCam_@110\n",
      "GosundPlug_@9617\n",
      "GosundSocket_@9636\n",
      "LinkSmartPlug_@14469\n",
      "TeckinPlug_@6016\n",
      "WeMoInsightSwitch_@1038\n",
      "WeMoSwitch_@518\n",
      "YutronPlug_@6352\n",
      "./session-2-DeviceGroup-1.csv\n",
      "AmazonAlexaEchoDot_@12005\n",
      "D-LinkCam1_@86191\n",
      "D-LinkDayCam1_@88836\n",
      "EdimaxCam_@255\n",
      "EdnetCam_@90\n",
      "GosundPlug_@9647\n",
      "GosundSocket_@9626\n",
      "LinkSmartPlug_@9005\n",
      "TeckinPlug_@7028\n",
      "WeMoInsightSwitch_@2143\n",
      "WeMoSwitch_@1717\n",
      "YutronPlug_@7044\n",
      "./session-2-DeviceGroup-2.csv\n",
      "AmazonAlexaEchoDot_@9640\n",
      "D-LinkCam2_@225603\n",
      "D-LinkDayCam4_@20664\n",
      "EdimaxCam_@194\n",
      "EdnetCam_@73\n",
      "GosundPlug_@9631\n",
      "GosundSocket_@9623\n",
      "LinkSmartPlug_@9036\n",
      "TeckinPlug_@7231\n",
      "WeMoInsightSwitch_@695\n",
      "WeMoSwitch_@447\n",
      "YutronPlug_@6628\n"
     ]
    }
   ],
   "source": [
    "for f in files_add:\n",
    "    print(f)\n",
    "    df=pd.read_csv(f,usecols=[\"Label\"])\n",
    "    temp=dict(df.groupby(\"Label\").size())\n",
    "    temp=dict(sorted(temp.items()))\n",
    "    for i in temp:\n",
    "        print(f\"{i}@{temp[i]}\")"
   ]
  },
  {
   "cell_type": "code",
   "execution_count": null,
   "id": "b099fc33-3529-4196-b3b0-c2725477caef",
   "metadata": {},
   "outputs": [],
   "source": []
  }
 ],
 "metadata": {
  "kernelspec": {
   "display_name": "Python 3 (ipykernel)",
   "language": "python",
   "name": "python3"
  },
  "language_info": {
   "codemirror_mode": {
    "name": "ipython",
    "version": 3
   },
   "file_extension": ".py",
   "mimetype": "text/x-python",
   "name": "python",
   "nbconvert_exporter": "python",
   "pygments_lexer": "ipython3",
   "version": "3.12.1"
  }
 },
 "nbformat": 4,
 "nbformat_minor": 5
}
