{
 "cells": [
  {
   "cell_type": "markdown",
   "id": "65f43c71-a6f0-4af1-8ce2-3695d0f99ec9",
   "metadata": {},
   "source": [
    "## ML Hyperparameter Selection - Value Ranges and Selected Parameters"
   ]
  },
  {
   "cell_type": "markdown",
   "id": "d7b0d234-0757-4a5a-8883-4029dc41283d",
   "metadata": {},
   "source": [
    "### Classical Machine Learning Algorithms"
   ]
  },
  {
   "cell_type": "code",
   "execution_count": null,
   "id": "a322a76f-52b8-4052-bf28-b4d5467061d7",
   "metadata": {},
   "outputs": [],
   "source": [
    "DT = { 'criterion':['gini','entropy'], \"max_depth\":np.linspace(1, 32, 32, endpoint=True).astype(int),\n",
    "\"min_samples_split\": sp_randint(2,10),\"max_features\" : sp_randint(1,X_train.shape[1])}\n",
    "#    Method       criterion      max_depth    max_features    min_samples_split \n",
    "#    GEMID        entropy           14            21              5  \n",
    "#    CICFwMtr     entropy           18            6               6\n",
    "#    IoTDevID     entropy           19            24              5 \n",
    "#    Kitsune      entropy           16            33              5\n",
    "\n",
    "RF = {\"max_depth\":np.linspace(1, 32, 32, endpoint=True).astype(int), \"n_estimators\" : sp_randint(1, 200),\n",
    "\"max_features\": sp_randint(1, 11), \"min_samples_split\":sp_randint(2, 11),\n",
    "\"bootstrap\": [True, False], \"criterion\": [\"gini\", \"entropy\"]}\n",
    "#    Method        bootst    criter      max_depth    max_features    min_samp_split    n_estimators      \n",
    "#    GEMID         False     entropy        17             3                5              71   \n",
    "#    CICFwMtr      False     gini           29             6                5              88\n",
    "#    IoTDevID      False     gini           31             10               2              136 \n",
    "#    Kitsune       False     entropy        20             2                2              79 \n",
    "\n",
    "XGB = {'n_estimators': [100, 500, 900, 1100, 1500], 'max_depth': [2, 3, 5, 10, 15],\n",
    "'learning_rate': [0.05, 0.1, 0.15, 0.20], 'min_child_weight': [1, 2, 3, 4]}\n",
    "#    Method  n_estimators    min_child_weight max_depth    learning_rate            \n",
    "#    GEMID        900            1             3            0.15  \n",
    "#    CICFwMtr     1100           1             3            0.15 \n",
    "#    IoTDevID     1500           1             3            0.15\n",
    "#    Kitsune      1100           1             2            0.2 \n",
    "\n",
    "KNN = {\"n_neighbors\" : sp_randint(1,64) , \"leaf_size\": sp_randint(1,50) , \n",
    "\"algorithm\" : [\"auto\", \"ball_tree\", \"kd_tree\", \"brute\"], \"weights\" : [\"uniform\", \"distance\"]}\n",
    "#    Method     algorithm      leaf_size    n_neighbors    weights      \n",
    "#    GEMID      kd_tree            39            5         distance   \n",
    "#    CICFwMtr   ball_tree          44            4         distance \n",
    "#    IoTDevID   ball_tree          35            13        distance\n",
    "#    Kitsune    ball_tree          44            2         distance \n",
    "\n",
    "NBguasian = {'var_smoothing': np.logspace(0,-9, num=100)}\n",
    "#    Method             var_smoothing        \n",
    "#    GEMID               1.51991e-06  \n",
    "#    CICFwMtr            8.11131e-09\n",
    "#    IoTDevID            2.31013e-06 \n",
    "#    Kitsune             8.11131e-09\n",
    "\n",
    "LR = {'solver': ['newton-cg', 'lbfgs', 'liblinear'],    'penalty' : ['none', 'l1', 'l2', 'elasticnet'],\n",
    "    'C' : loguniform(1e-5, 100)}\n",
    "#    Method             C             penalty          Solver       \n",
    "#    GEMID           0.0809264           l2           newton-cg  \n",
    "#    CICFwMtr        0.10342             l1           liblinea\n",
    "#    IoTDevID        0.689136            l1           liblinear \n",
    "#    Kitsune         0.071026            l1           liblinear \n",
    "\n",
    "SVM =  {'C': [0.001, 0.01, 0.1, 1, 10], 'gamma' : [0.001, 0.01, 0.1, 1]}  \n",
    "#    Method        gamma       C\n",
    "#    GEMID        0.001        1 \n",
    "#    CICFwMtr     0.001        1 \n",
    "#    IoTDevID     1            10\n",
    "#    Kitsune      0.001        10 "
   ]
  },
  {
   "cell_type": "markdown",
   "id": "14ce3b12-6a1a-44c7-a3c6-68a7f9484972",
   "metadata": {},
   "source": [
    "### Deep Learning Algorithms"
   ]
  },
  {
   "cell_type": "code",
   "execution_count": null,
   "id": "f4953a1d-1f0b-476f-9b0f-880fab37b661",
   "metadata": {},
   "outputs": [],
   "source": [
    "CNN= {\"filters\": [32, 64, 96, 128], \"kernel_size\": [3, 4, 5], \"num_layers\": [1, 2, 3], \"dense_units\": \n",
    "      [32, 64, 96, 128], \"dropout\": [0.0, 0.1, 0.2, 0.3, 0.4, 0.5], \"learning_rate\": [1e-2, 1e-3, 1e-4]}\n",
    "#GEMID {\"conv1d_filters\": 32, \"conv1d_kernel_size\": 3,  \"max_pooling1d_pool_size\": 2,   \n",
    "#GEMID \"dense_units_1\": 32,    \"dropout_rate_1\": 0.0,     \n",
    "#GEMID \"dense_units_2\": 96,    \"dropout_rate_2\": 0.0,      \"dense_units_3\": 21,    \"learning_rate\": 0.01}\n",
    "#CICFlwMtr {\"conv1d_filters\": 32, \"conv1d_kernel_size\": 3, \"max_pooling1d_pool_size\": 2, \"dense_units_1\": 128,\n",
    "#CICFlwMtr \"dropout_rate_1\": 0.0, \"dense_units_2\": 128, \"dropout_rate_2\": 0.0,\n",
    "#CICFlwMtr \"dense_units_3\": 21, \"learning_rate\": 0.01}\n",
    "#IoTDevID {\"conv1d_filters\": 32, \"conv1d_kernel_size\": 3, \"max_pooling1d_pool_size\": 2,\"dense_units_1\": 96,\n",
    "#IoTDevID  \"dropout_rate_1\": 0.0, \"dense_units_2\": 21, \"learning_rate\": 0.01 }\n",
    "#Kitsune {\"conv1d_filters\": 32,\"conv1d_kernel_size\": 3,\"max_pooling1d_pool_size\": 2,\"dense_units_1\": 32,\n",
    "#Kitsune \"dropout_rate_1\": 0.0,\"dense_units_2\": 21,\"learning_rate\": 0.01}\n",
    "\n",
    "LSTM={ \"units\": [32, 64, 96, 128], \"dropout_1\": [0.0, 0.1, 0.2, 0.3, 0.4, 0.5], \"num_layers\": [1, 2], \n",
    "\"lstm_units\": [32, 64, 96, 128], \"dropout\": [0.0, 0.1, 0.2, 0.3, 0.4, 0.5], \"units_last\": [32, 64, 96, 128],\n",
    "\"dropout_last\": [0.0, 0.1, 0.2, 0.3, 0.4, 0.5], \"learning_rate\": [1e-2, 1e-3, 1e-4]}\n",
    "#GEMID  {'units': 64, 'dropout_1': 0.1, 'num_layers': 1, 'lstm_0_units': 64, 'dropout_2': 0.3, 'units_last': 128, \n",
    "#GEMID 'dropout_last': 0.4, 'learning_rate': 0.01, 'lstm_1_units': 96, \n",
    "#GEMID 'dropout_3': 0.0, 'lstm_2_units': 32, 'dropout_4': 0.4}\n",
    "#CICFwMtr {'units': 128, 'dropout_1': 0.3, 'num_layers': 2, 'lstm_0_units': 96, 'dropout_2': 0.4, 'units_last': 128,\n",
    "#CICFwMtr 'dropout_last': 0.4, 'learning_rate': 0.01, 'lstm_1_units': 96, 'dropout_3': 0.30000000000000004}\n",
    "#IoTDevID {'units': 32, 'dropout_1': 0.2, 'num_layers': 1, 'lstm_0_units': 96, 'dropout_2': 0.2, 'units_last': 128,\n",
    "#IoTDevID 'dropout_last': 0.2, 'learning_rate': 0.01, 'lstm_1_units': 96, 'dropout_3': 0.0, 'lstm_2_units': 64, 'dropout_4': 0.0}      \n",
    "#Kitsune {'units': 32, 'dropout_1': 0.1, 'num_layers': 1, 'lstm_0_units': 128, 'dropout_2': 0.4, 'units_last': 96,\n",
    "#Kitsune 'dropout_last': 0.30, 'learning_rate': 0.0001, 'lstm_1_units': 128, 'dropout_3': 0.4, 'lstm_2_units': 64, 'dropout_4': 0.0}         \n",
    "\n",
    "ANN=  {\"units_input\": [32, 64, 96, 128], \"num_layers\": [1, 2], \"units\": [32, 64, 96, 128],  \n",
    "\"dropout\": [0.0, 0.1, 0.2, 0.3, 0.4, 0.5], \"learning_rate\": [1e-2, 1e-3, 1e-4], \"epochs\": [20], \n",
    "\"validation_split\": [0.3] }\n",
    "#GEMID  # {'units_input': 128, 'num_layers': 1, 'units_0': 96, 'dropout_0': 0.0, 'learning_rate': 0.01, \n",
    "#GEMID  #'units_1': 96, 'dropout_1': 0.4, 'units_2': 96, 'dropout_2': 0.2}\n",
    "#CICFwMtr {'units_input': 128, 'num_layers': 3, 'units_0': 128, 'dropout_0': 0.1, 'learning_rate': 0.01,\n",
    "#CICFwMtr 'units_1': 64, 'dropout_1': 0.1, 'units_2': 32, 'dropout_2': 0.1}          \n",
    "#IoTDevID  {'units_input': 32, 'num_layers': 2, 'units_0': 128, 'dropout_0': 0.0, 'learning_rate': 0.01,\n",
    "#IoTDevID 'units_1': 32, 'dropout_1': 0.30000000000000004, 'units_2': 32, 'dropout_2': 0.2}         \n",
    "#Kitsune  {'units_input': 32, 'num_layers': 1, 'units_0': 32, 'dropout_0': 0.0, \n",
    "#Kitsune 'learning_rate': 0.001, 'units_1': 32, 'dropout_1': 0.2, 'units_2': 128, 'dropout_2': 0.4}\n",
    "\n",
    "BERT= {'batch_size': [16, 32, 64], 'learning_rate': [1e-5, 3e-5, 5e-5],\n",
    "    'epochs': [3, 5, 7], 'weight_decay': [0, 0.01, 0.1]}\n",
    "#GEMID        {'weight_decay': 0, 'learning_rate': 1e-05, 'epochs': 7, 'batch_size': 16}\n",
    "#CICFwMtr     {'weight_decay': 0.01, 'learning_rate': 3e-05, 'epochs': 3, 'batch_size': 32}\n",
    "#IoTDevID     {'weight_decay': 0, 'learning_rate': 1e-05, 'epochs': 3, 'batch_size': 16}\n",
    "#Kitsune      {'weight_decay': 0.01, 'learning_rate': 3e-05, 'epochs': 7, 'batch_size': 16}"
   ]
  }
 ],
 "metadata": {
  "kernelspec": {
   "display_name": "Python 3 (ipykernel)",
   "language": "python",
   "name": "python3"
  },
  "language_info": {
   "codemirror_mode": {
    "name": "ipython",
    "version": 3
   },
   "file_extension": ".py",
   "mimetype": "text/x-python",
   "name": "python",
   "nbconvert_exporter": "python",
   "pygments_lexer": "ipython3",
   "version": "3.13.0"
  }
 },
 "nbformat": 4,
 "nbformat_minor": 5
}
