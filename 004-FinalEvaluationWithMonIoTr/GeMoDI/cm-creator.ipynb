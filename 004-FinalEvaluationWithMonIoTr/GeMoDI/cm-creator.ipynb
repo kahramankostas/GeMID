{
 "cells": [
  {
   "cell_type": "code",
   "execution_count": null,
   "id": "cf3bbd28-a214-40f6-963a-4c088bc187ee",
   "metadata": {},
   "outputs": [],
   "source": [
    "import pandas as pd\n",
    "import numpy as np\n",
    "import time\n",
    "import warnings\n",
    "import os\n",
    "warnings.filterwarnings(\"ignore\")"
   ]
  },
  {
   "cell_type": "code",
   "execution_count": null,
   "id": "7e165c4a-9461-4cdb-b842-6e3e8bb1b1eb",
   "metadata": {},
   "outputs": [],
   "source": [
    "import pandas as pd\n",
    "import seaborn as sns\n",
    "import matplotlib.pyplot as plt\n",
    "%matplotlib inline\n",
    "sns.set_style(\"darkgrid\")\n",
    "\n",
    "def find_the_way(path,file_format,con=\"\"):\n",
    "    files_add = []\n",
    "    # r=root, d=directories, f = files\n",
    "    for r, d, f in os.walk(path):\n",
    "        for file in f:\n",
    "            if file_format in file:\n",
    "                if con in file:\n",
    "                    files_add.append(os.path.join(r, file))  \n",
    "            \n",
    "    return files_add"
   ]
  },
  {
   "cell_type": "code",
   "execution_count": null,
   "id": "310e1ae9-0992-4d31-bdc7-41a591f4bfc9",
   "metadata": {},
   "outputs": [],
   "source": [
    "\n",
    "target_names=['appletv',\n",
    "'blink-camera',\n",
    "'blink-security-hub',\n",
    "'echodot',\n",
    "'echoplus',\n",
    "'echospot',\n",
    "'firetv',\n",
    "'google-home-mini',\n",
    "'insteon-hub',\n",
    "'lightify-hub',\n",
    "'magichome-strip',\n",
    "'nest-tstat',\n",
    "'ring-doorbell',\n",
    "'roku-tv',\n",
    "'samsungtv-wired',\n",
    "'sengled-hub',\n",
    "'smartthings-hub',\n",
    "'sousvide',\n",
    "'t-philips-hub',\n",
    "'t-wemo-plug',\n",
    "'tplink-bulb',\n",
    "'tplink-plug',\n",
    "'wansview-cam-wired',\n",
    "'xiaomi-hub',\n",
    "'yi-camera']"
   ]
  },
  {
   "cell_type": "code",
   "execution_count": null,
   "id": "f84ae7c0-a243-4dff-9987-ebdd9585ba6f",
   "metadata": {},
   "outputs": [],
   "source": [
    "path=\"./\"\n",
    "files_add=find_the_way(path,\"CM.csv\")\n",
    "for i in files_add:\n",
    "    print(i)\n",
    "    df=pd.read_csv(i,index_col=0)\n",
    "    graph_name=i.replace(\".csv\",\".pdf\")\n",
    "    plt.figure(figsize = (15,9))\n",
    "    sns.heatmap(df,xticklabels=target_names, yticklabels=target_names, annot=True, fmt='g')\n",
    "    plt.savefig(graph_name,bbox_inches='tight')#, dpi=400)\n",
    "    plt.show()\n",
    "    #print(cm)\n",
    "    print(\"\\n\\n\\n\")          "
   ]
  },
  {
   "cell_type": "code",
   "execution_count": null,
   "id": "993b2a00-5f5f-4a4c-8e84-57fee72b12a1",
   "metadata": {},
   "outputs": [],
   "source": []
  },
  {
   "cell_type": "code",
   "execution_count": null,
   "id": "be061675-3875-4ec2-89df-7c8c914cc1f5",
   "metadata": {},
   "outputs": [],
   "source": []
  }
 ],
 "metadata": {
  "kernelspec": {
   "display_name": "Python 3 (ipykernel)",
   "language": "python",
   "name": "python3"
  },
  "language_info": {
   "codemirror_mode": {
    "name": "ipython",
    "version": 3
   },
   "file_extension": ".py",
   "mimetype": "text/x-python",
   "name": "python",
   "nbconvert_exporter": "python",
   "pygments_lexer": "ipython3",
   "version": "3.10.11"
  }
 },
 "nbformat": 4,
 "nbformat_minor": 5
}
