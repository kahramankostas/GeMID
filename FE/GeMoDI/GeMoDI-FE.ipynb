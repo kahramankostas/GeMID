{
 "cells": [
  {
   "cell_type": "markdown",
   "id": "975d26a7-ad10-4a9e-b8c6-76ba213c1964",
   "metadata": {},
   "source": [
    "####  import related modules"
   ]
  },
  {
   "cell_type": "code",
   "execution_count": 1,
   "id": "9d5b53dc-6726-4e8a-8553-70d4464beb9a",
   "metadata": {},
   "outputs": [],
   "source": [
    "import warnings\n",
    "warnings.filterwarnings(\"ignore\")\n",
    "import os\n",
    "from tqdm import tqdm\n",
    "import pandas as pd\n",
    "import numpy as np\n",
    "import math"
   ]
  },
  {
   "cell_type": "markdown",
   "id": "e19a2517-20a8-4f2e-9ebf-91ccba8c9a12",
   "metadata": {},
   "source": [
    "#### File finder"
   ]
  },
  {
   "cell_type": "code",
   "execution_count": 2,
   "id": "6741e946-4dfa-472b-b9b6-d18aa883a324",
   "metadata": {},
   "outputs": [],
   "source": [
    "def find_the_way(path,file_format,con=\"\"):\n",
    "    files_add = []\n",
    "    # r=root, d=directories, f = files\n",
    "    for r, d, f in os.walk(path):\n",
    "        for file in f:\n",
    "            if file_format in file:\n",
    "                if con in file:\n",
    "                    files_add.append(os.path.join(r, file))  \n",
    "            \n",
    "    return files_add\n",
    "\n",
    "\n"
   ]
  },
  {
   "cell_type": "markdown",
   "id": "0bd03a3d-d80e-4856-90ca-9df6d9cf39ff",
   "metadata": {},
   "source": [
    "#### Folder creator"
   ]
  },
  {
   "cell_type": "code",
   "execution_count": 3,
   "id": "afda1460-961d-4ed8-92be-00f5b550c5f6",
   "metadata": {},
   "outputs": [],
   "source": [
    "def folder(f_name): #this function creates a folder named \"attacks\" in the program directory.\n",
    "    try:\n",
    "        if not os.path.exists(f_name):\n",
    "            os.makedirs(f_name)\n",
    "    except OSError:\n",
    "        print (\"The folder could not be created!\")\n",
    "\n",
    "folder(\"temp\")"
   ]
  },
  {
   "cell_type": "markdown",
   "id": "10ae4c2c-8c0d-4550-a90e-0e2825a65de7",
   "metadata": {},
   "source": [
    "#### Delete unnecessary files"
   ]
  },
  {
   "cell_type": "code",
   "execution_count": 4,
   "id": "b324059c-ffda-48ef-ae1b-a93b5a1919e0",
   "metadata": {},
   "outputs": [],
   "source": [
    "def killthemall():\n",
    "    them=find_the_way(\"./temp/\",\".csv\")\n",
    "    for t in them:\n",
    "        try:\n",
    "            os.remove(t)\n",
    "        except:\n",
    "            print(f\"error about delete {t} file\")"
   ]
  },
  {
   "cell_type": "code",
   "execution_count": 5,
   "id": "b463f4d5-d600-4213-a7db-4ae0f0f79eca",
   "metadata": {},
   "outputs": [
    {
     "data": {
      "text/plain": [
       "[]"
      ]
     },
     "execution_count": 5,
     "metadata": {},
     "output_type": "execute_result"
    }
   ],
   "source": [
    "# find pcap file in path folder\n",
    "path=\"pcaps\"\n",
    "pcaps=find_the_way(path,\".pcap\")\n",
    "pcaps"
   ]
  },
  {
   "cell_type": "markdown",
   "id": "48fd4241-6564-4163-ae37-9537d469db11",
   "metadata": {},
   "source": [
    "#### If your computer has difficulty processing large pcap files, you can split them using the following script"
   ]
  },
  {
   "cell_type": "code",
   "execution_count": 6,
   "id": "b92910d6-da4e-465e-bb94-87be612dee2e",
   "metadata": {},
   "outputs": [],
   "source": [
    "#for i in pcaps:\n",
    "    #if os.path.getsize(i)//(1024*1024) >500:\n",
    "        #temp=i.replace(\"\\\\\",\"/\")\n",
    "        #command=f\"editcap  -c 1000000 {temp} {temp.replace(\"pcaps/\",\"pcaps/smaller_\")}\"\n",
    "        #os.system(command)\n",
    "        #print(f\"{i} made smaller\")\n",
    "        #os.remove(temp)"
   ]
  },
  {
   "cell_type": "code",
   "execution_count": 7,
   "id": "f3a3dc3b-e088-4eab-8ec9-9287f610e405",
   "metadata": {},
   "outputs": [],
   "source": [
    "# Feature list\n",
    "features=[['dns.time',  'http.time',  'icmp.data_time_relative',  'icmp.resptime',  'stun.time',  'tcp.ack',  'tcp.ack_raw',  'tcp.analysis.ack_rtt',  'tcp.analysis.initial_rtt',  'tcp.analysis.rto',  'tcp.nxtseq',  'tcp.options.timestamp.tsecr',  'tcp.options.timestamp.tsval',  'tcp.seq',  'tcp.seq_raw',  'tcp.time_delta',  'tcp.time_relative',  'udp.time_delta',  'udp.time_relative',  'arp.hw.size',  'arp.hw.type',  'arp.isannouncement',  'arp.isgratuitous',  'arp.isprobe',  'arp.opcode',  'arp.proto.size',  'arp.seconds-since-duplicate-address-frame',  'dhcp.flags.bc',  'dhcp.hops',  'dhcp.hw.addr_padding',  'dhcp.hw.len',  'dhcp.option.dhcp',  'dhcp.option.dhcp_max_message_size',  'dhcp.option.end',  'dhcp.option.interface_mtu',  'dhcp.option.ip_address_lease_time',  'dhcp.option.padding',  'dhcp.option.rebinding_time_value',  'dhcp.option.renewal_time_value',  'dhcp.secs',  'dhcp.type',  'dns.count.add_rr',  'dns.count.answers',  'dns.count.auth_rr',  'dns.count.queries',  'dns.extraneous',  'dns.extraneous.data',  'dns.extraneous.length',  'dns.flags.authenticated',  'dns.flags.authoritative',  'dns.flags.checkdisable'], ['dns.flags.opcode',  'dns.flags.rcode',  'dns.flags.recavail',  'dns.flags.recdesired',  'dns.flags.response',  'dns.flags.truncated',  'dns.flags.z',  'dns.response_to',  'dns.retransmission',  'dns.retransmit_request',  'dns.retransmit_request_in',  'dns.retransmit_response',  'dns.retransmit_response_in',  'dns.soa.expire_limit',  'dns.soa.minimum_ttl',  'dns.soa.refresh_interval',  'dns.soa.retry_interval',  'dns.soa.serial_number',  'dns.unsolicited',  'eapol.keydes.key_iv',  'eapol.keydes.key_len',  'eapol.keydes.replay_counter',  'eapol.keydes.type',  'eapol.len',  'eapol.type',  'eapol.version',  'eth.dst.ig',  'eth.dst.lg',  'eth.dst.oui',  'eth.fcs.status',  'eth.len',  'eth.padding',  'eth.padding_bad',  'eth.src.ig',  'eth.src.lg',  'eth.src.oui',  'http.chat',  'http.content_length',  'http.content_length_header',  'http.notification',  'http.prev_request_in',  'http.prev_response_in',  'http.request',  'http.request_in',  'http.request_number',  'http.response',  'http.response.code',  'http.response_number',  'icmp.checksum.status',  'icmp.code',  'icmp.ident'], ['icmp.ident_le',  'icmp.resp_to',  'icmp.seq',  'icmp.seq_le',  'icmp.type',  'icmp.unused',  'icmpv6.checksum.status',  'icmpv6.code',  'icmpv6.mldr.nb_mcast_records',  'icmpv6.opt',  'icmpv6.opt.length',  'icmpv6.opt.type',  'icmpv6.reserved',  'icmpv6.type',  'igmp.checksum.status',  'igmp.max_resp',  'igmp.num_grp_recs',  'igmp.version',  'ip.bogus_ip_length',  'ip.len',  'ip.opt.len',  'ip.opt.ra',  'ip.opt.type',  'ip.opt.type.class',  'ip.opt.type.copy',  'ip.opt.type.number',  'ipv6.hlim',  'ipv6.hopopts.nxt',  'ipv6.nxt',  'ipv6.opt.router_alert',  'ipv6.plen',  'ipv6.tclass.dscp',  'ipv6.tclass.ecn',  'ipv6.version',  'ntp.flags.li',  'ntp.flags.mode',  'ntp.flags.vn',  'ntp.ppoll',  'ntp.precision',  'ntp.rootdelay',  'ntp.rootdispersion',  'ntp.stratum',  'stun.att.crc32.status',  'stun.att.error',  'stun.att.error.class',  'stun.att.lifetime',  'stun.attributes',  'stun.length',  'stun.network_version',  'stun.response-to',  'tcp.analysis'], ['tcp.analysis.ack_lost_segment',  'tcp.analysis.acks_frame',  'tcp.analysis.bytes_in_flight',  'tcp.analysis.duplicate_ack_frame',  'tcp.analysis.duplicate_ack_num',  'tcp.analysis.flags',  'tcp.analysis.keep_alive',  'tcp.analysis.keep_alive_ack',  'tcp.analysis.lost_segment',  'tcp.analysis.out_of_order',  'tcp.analysis.push_bytes_sent',  'tcp.analysis.retransmission',  'tcp.analysis.reused_ports',  'tcp.analysis.rto_frame',  'tcp.analysis.spurious_retransmission',  'tcp.analysis.window_update',  'tcp.checksum.status',  'tcp.completeness',  'tcp.connection.fin',  'tcp.connection.fin_active',  'tcp.connection.fin_passive',  'tcp.connection.rst',  'tcp.connection.syn',  'tcp.connection.synack',  'tcp.dstport',  'tcp.fin_retransmission',  'tcp.flags.ack',  'tcp.flags.ae',  'tcp.flags.cwr',  'tcp.flags.ece',  'tcp.flags.fin',  'tcp.flags.push',  'tcp.flags.res',  'tcp.flags.reset',  'tcp.flags.syn',  'tcp.flags.urg',  'tcp.hdr_len',  'tcp.len',  'tcp.options.mss_val',  'tcp.options.sack.count',  'tcp.options.sack.dsack',  'tcp.options.sack.dsack_le',  'tcp.options.sack.dsack_re',  'tcp.options.sack_le',  'tcp.options.sack_perm',  'tcp.options.sack_re',  'tcp.options.wscale.multiplier',  'tcp.options.wscale.shift',  'tcp.pdu.size',  'tcp.reassembled.length',  'tcp.segment.count'], ['tcp.segment.overlap',  'tcp.segments',  'tcp.srcport',  'tcp.stream',  'tcp.urgent_pointer',  'tcp.window_size',  'tcp.window_size_scalefactor',  'tcp.window_size_value',  'tls.alert_message',  'tls.change_cipher_spec',  'tls.handshake.certificates',  'tls.handshake.certificates_length',  'tls.handshake.challenge',  'tls.handshake.challenge_length',  'tls.handshake.cipher_spec_len',  'tls.handshake.cipher_suites_length',  'tls.handshake.ciphersuites',  'tls.handshake.client_point_len',  'tls.handshake.comp_method',  'tls.handshake.comp_methods',  'tls.handshake.comp_methods_length',  'tls.handshake.epms_len',  'tls.handshake.extension.heartbeat.mode',  'tls.handshake.extensions_ec_point_formats',  'tls.handshake.extensions_ec_point_formats_length',  'tls.handshake.extensions_length',  'tls.handshake.extensions_reneg_info_len',  'tls.handshake.extensions_server_name_len',  'tls.handshake.extensions_server_name_list_len',  'tls.handshake.extensions_server_name_type',  'tls.handshake.extensions_supported_groups',  'tls.handshake.extensions_supported_groups_length',  'tls.handshake.g_len',  'tls.handshake.p_len',  'tls.handshake.server_point_len',  'tls.handshake.session_id_length',  'tls.handshake.session_ticket_length',  'tls.handshake.session_ticket_lifetime_hint',  'tls.handshake.sig_hash_alg_len',  'tls.handshake.sig_hash_algs',  'tls.handshake.sig_len',  'tls.handshake.yc_len',  'tls.handshake.ys_len',  'tls.resumed',  'tls.sct.scts_length',  'udp.checksum.status',  'udp.dstport',  'udp.length',  'udp.length.bad',  'udp.possible_traceroute',  'udp.srcport'], ['udp.stream',  'eth.dst',  'eth.src', 'udp.payload',  'stun.cookie',  'stun.id',  'stun.value',  'tcp.options',  'tcp.options.mss','tcp.options.wscale',  'ntp.refid','arp.proto.type',  'dhcp.flags',  'dhcp.flags.reserved',  'dhcp.id',  'dns.flags',  'dns.id',  'eth.fcs',  'eth.type',  'icmp.checksum',  'icmpv6.checksum',  'igmp.checksum',  'igmp.type',  'ip.id',  'ipv6.flow',  'ipv6.tclass',  'ntp.flags',  'stun.att.crc32',  'stun.att.transp',  'stun.type',  'stun.type.class',  'stun.type.method',  'stun.type.method-assignment',  'tcp.checksum',  'tcp.flags',  'tls.handshake.server_curve_type',  'tls.handshake.server_named_curve',  'tls.handshake.version',  'udp.checksum',  'http.connection',  'http.request.method','http.response.code.desc',  'http.response.phrase'      ], ['tcp.flags.str',  'tcp.payload',  '_ws.col.Protocol',  'tls.handshake.sig_hash_alg',  'dhcp.hw.type',  'ip.dsfield',  'ip.flags',  'ipv6.opt.type',  'ipv6.opt.type.rest',  'stun.att.family',  'stun.att.ipv4-xord',  'stun.att.port-xord',  'tcp.segment',  'arp.duplicate-address-detected',  'arp.duplicate-address-frame',  'dns.srv.port',  'dns.srv.priority',  'dns.srv.weight',  'eth.addr.oui',  'eth.ig',  'eth.lg',  'ip.checksum.status',  'ip.dsfield.dscp',  'ip.dsfield.ecn',  'ip.flags.df',  'ip.flags.mf',  'ip.flags.rb',  'ip.frag_offset',  'ip.hdr_len',  'ip.proto',  'ip.ttl',  'ip.version',  'ipv6.opt',  'ipv6.opt.length',  'ipv6.opt.type.action',  'ipv6.opt.type.change',  'stun.att.padding',  'stun.att.port',  'stun.att.reserved',  'tcp.analysis.duplicate_ack',  'tls.record.length']]\n",
    "\n",
    "# dictionary to convert string to category\n",
    "strs={\"http_connection\": {'Close': 1, 'Keep-Alive': 2, 'close': 3, 'keep-alive': 4},\n",
    "\"http_request_method\": {'DELETE': 1, 'GET': 2, 'M-SEARCH': 3, 'NOTIFY': 4, 'POST': 5, 'PUT': 6,'SUBSCRIBE':7, 'UNSUBSCRIBE':8},\n",
    "\"http_request_uri_path\": {'/agent/upgrade': 1, '/dst': 2, '/queue/getmessage': 3,\n",
    "'/router/firmware/query.aspx': 4, '/scale/register': 5, '/scale/validate': 6,\"/index.php\":7,},\n",
    "\"http_response_code_desc\": {'Continue': 1, 'Not Found': 2, 'OK': 3, 'Unauthorized': 4,\"Precondition Failed\":5, \"No Content\":6},\n",
    " \"http_response_phrase\": {'Continue': 1, 'Not Found': 2, 'OK': 3, 'Unauthorized': 4,\"Precondition Failed\":5, \"No Content\":6},\n",
    "\"dns_srv_proto\": {'_dhnap': 1, '_dhnap,_http': 2, '_hap': 3, '_http': 4, '_http,_dhnap': 5,\"_dcp\":7,\"_dcp,_http\":8, \"_http,_dcp\": 9,  '_http,_http': 6},\n",
    "\"tcp_flags_str\": {'·······AP··F': 1, '·······AP···': 2, '·······A·R··': 3, '·······A··S·': 4,\n",
    "    '·······A···F': 5, '·······A····': 6, '·········R··': 7,  '··········S·': 8,'····CE····S·':9},\n",
    "\"_ws_col_Protocol\": {'EAPOL':1,'DHCP':2,'DNS':3,'TCP':4,'HTTP':5,'ICMP':6,'MDNS':7,'IGMPv3':8,'SSDP':9,'NTP':10,'HTTP/XML':11,'UDP':12,'SSLv2':13,'TLSv1':14,\n",
    "'ADwin Config':15,'TLSv1.2':16,'ICMPv6':17,'HTTP/JSON':18,'XID':19,'TFTP':20,'NXP 802.15.4 SNIFFER':21,'IGMPv2':22,'A21':23,'STUN':24,'Gearman':25,\n",
    "'?KNXnet/IP':26,'UDPENCAP':27,'ESP':28,'SSL':29,'NBNS':30,'SIP':31,'BROWSER':32,'SABP':33,'ISAKMP':34,'CLASSIC-STUN':35,'Omni-Path':36,'XMPP/XML':37,\n",
    "'ULP':38,'TFPoverTCP':39,'AX4000':40,'MIH':41,'DHCPv6':42,'TDLS':43,'RTMP':44,'TCPCL':45,'IPA':46,'GQUIC':47,'0x86dd':48,'DB-LSP-DISC':49,'SSLv3':50,\n",
    "'LLMNR':51,'FB_ZERO':52,'OCSP':53,'IPv4':54,'STP':55,'SSH':56,'TLSv1.1':57,'KINK':58,'MANOLITO':59,'PKTC':60,'TELNET':61,'RTSP':62,'HCrt':63,'MPTCP':64,\n",
    "'S101':65,'IRC':66,'AJP13':67,'PMPROXY':68,'PNIO':69,'AMS':70,'ECATF':71,'LLC':72,'TZSP':73,'RSIP':74,'SSHv2':75,'DIAMETER':76,'BFDControl':77,'ASAP':78\n",
    ",'DISTCC':79,'DISTCC':79,'LISP':80,'WOW':81,'DTLSv1.0':82,'SNMP':83,'SMB2':84,'SMB':85,'NBSS':86,'UDT':87,'HiQnet':88,'POWERLINK/UDP':89\n",
    ",'RTP':90,'WebSocket':91,'NAT-PMP':92,'RTCP':93,'Syslog':94,'Portmap':95,'OpenVPN':96,'BJNP':97,'RIPv1':98,'MAC-Telnet':99,'ECHO':100,'ASF':101\n",
    ",'DAYTIME':102,'SRVLOC':103,'KRB4':104,'CAPWAP-Control':105,'XDMCP':106,'Chargen':107,'RADIUS':108,'L2TP':109,'DCERPC':110,'KPASSWD':111,'H264':112\n",
    ",'FTP':113,'FTP-DATA':114,'ENIP':115,'RIPv2':116,'ICP':117,\"BACnet-APDU\":118,\"IAX2\":119,\"RX\":120,\"HTTP2\":121,\"SIP/SDP\":122,\"TIME\":123,\n",
    "\"Elasticsearch\":124,\"RSL\":125,\"TPCP\":126,\"IPv6\":127,\"ARP\":128,\"TCP/XML\":129, \"TPLINK-SMARTHOME/JSON\" :130, \"DB-LSP-DISC/JSON\":131, \"BFD Control\":132, \"DISTCC\":133,\n",
    "\"TFP over TCP\":134,\"PCEP\":135}}\n",
    "# string to category feature list\n",
    "str_cols=[\"http.connection\",\n",
    "\"http.request.method\",\n",
    "#\"http.request.uri.path\",\n",
    "\"http.response.code.desc\",\n",
    "\"http.response.phrase\",\n",
    "#\"dns.srv.proto\",\n",
    "\"tcp.flags.str\",\n",
    "\"_ws.col.Protocol\"]\n",
    "\n",
    "\n",
    "\n",
    "\n",
    "\n",
    "\n",
    "\n",
    "# MAC address of devices and their names. It will use for labelling\n",
    "macs={'d0:52:a8:00:67:5e': 'Smart Things',\n",
    " '44:65:0d:56:cc:d3': 'Amazon Echo',\n",
    " '70:ee:50:18:34:43': 'Netatmo Welcome',\n",
    " 'f4:f2:6d:93:51:f1': 'TP-Link Day Night Cloud camera',\n",
    " '00:16:6c:ab:6b:88': 'Samsung SmartCam',\n",
    " '30:8c:fb:2f:e4:b2': 'Dropcam',\n",
    " 'ec:1a:59:79:f4:89': 'Belkin Wemo switch',\n",
    " '50:c7:bf:00:56:39': 'TP-Link Smart plug',\n",
    " '74:c6:3b:29:d7:1d': 'iHome',\n",
    " 'ec:1a:59:83:28:11': 'Belkin wemo motion sensor',\n",
    " '18:b4:30:25:be:e4': 'NEST Protect smoke alarm',\n",
    " '70:ee:50:03:b8:ac': 'Netatmo weather station',\n",
    " 'd0:73:d5:01:83:08': 'Light Bulbs LiFX Smart Bulb',\n",
    " '18:b7:9e:02:20:44': 'Triby Speaker',\n",
    " 'e0:76:d0:33:bb:85': 'PIX-STAR Photo-frame',\n",
    " '70:5a:0f:e4:9b:c0': 'HP Printer',\n",
    " '08:21:ef:3b:fc:e3': 'Samsung Galaxy Tab',\n",
    " 'ac:bc:32:d4:6f:2f': 'MacBook',\n",
    " '14:cc:20:51:33:ea': 'TPLink Router Bridge LAN',\n",
    " '00:17:88:2b:9a:25': 'Phillip Hue Lightbulb',\n",
    " '7c:70:bc:5d:5e:dc': 'Canary Camera',\n",
    " '70:88:6b:10:0f:c6': 'Awair air quality monitor'}\n",
    "\n"
   ]
  },
  {
   "cell_type": "code",
   "execution_count": 8,
   "id": "6d9718d4-d9ef-41a9-bb50-a6343966790c",
   "metadata": {},
   "outputs": [],
   "source": [
    "#entropy calculation (shannon entropy )\n",
    "def shannon(hex_string):\n",
    "    LOG_BASE = 2\n",
    "   # We determine the frequency of each byte\n",
    "   # in the dataset and if this frequency is not null we use it for the\n",
    "   # entropy calculation.\n",
    "    try:\n",
    "        binary_data = bytes.fromhex(hex_string)\n",
    "        dataSize = len(binary_data)\n",
    "        ent = 0.0\n",
    "        freq={} \n",
    "        for c in binary_data:\n",
    "            if c in freq:\n",
    "                freq[c] += 1\n",
    "            else:\n",
    "                freq[c] = 1\n",
    "       # to determine if each possible value of a byte is in the list\n",
    "        for key in freq.keys():\n",
    "            f = float(freq[key])/dataSize\n",
    "            if f > 0: # to avoid an error for log(0)\n",
    "                ent = ent + f * math.log(f, LOG_BASE)\n",
    "    except:\n",
    "        return hex_string\n",
    "    return -ent"
   ]
  },
  {
   "cell_type": "code",
   "execution_count": 9,
   "id": "e83889ed-d7c8-40fe-8c02-3c59451e5fc1",
   "metadata": {},
   "outputs": [],
   "source": [
    "# port number to port classes\n",
    "def port_class(port):\n",
    "    port_list=[0,53,67,68,80,123,443,1900,5353,49153]# private port list (0-Reserved,53-DNS, 67-BOOTP server, 68-BOOTP client...)\n",
    "    if port in port_list: #Is the port number in the list?\n",
    "        return port_list.index(port)+1 # return the port's index number in the list (actually with index+1)\n",
    "    elif 0 <= port <= 1023: # return 11 if the port number is in the range 0 :1023\n",
    "        return 11\n",
    "    elif  1024 <= port <= 49151 : # return 12 if the port number is in the range 1024:49151\n",
    "        return 12\n",
    "    elif 49152 <=port <= 65535 :# return 13 if the port number is in the range 49152:65535\n",
    "        return 13\n",
    "    else:# return 0 if no previous conditions are met\n",
    "        return 0\n",
    "    "
   ]
  },
  {
   "cell_type": "code",
   "execution_count": 10,
   "id": "32018c96-278e-4584-831a-a0e941039a8e",
   "metadata": {},
   "outputs": [],
   "source": [
    "# in some cases there are two values in the network packets, for example two IP layers inside each other. In these cases only \n",
    "# the first value is taken and the second value is discarded. Here is a list of features that suffer from this\n",
    "dubs=[\"tls.handshake.sig_hash_alg\",\n",
    "\"dhcp.hw.type\",\n",
    "\"ip.dsfield\",\n",
    "\"ip.flags\",\n",
    "\"ipv6.opt.type\",\n",
    "\"ipv6.opt.type.rest\",\n",
    "\"stun.att.family\",\n",
    "#\"stun.att.ipv4-xord\",\n",
    "\"stun.att.port-xord\",\n",
    "\"tcp.segment\",\n",
    "\"arp.duplicate-address-detected\",\n",
    "\"arp.duplicate-address-frame\",\n",
    "\"dns.srv.port\",\n",
    "\"dns.srv.priority\",\n",
    "\"dns.srv.weight\",\n",
    "\"eth.addr.oui\",\n",
    "\"eth.ig\",\n",
    "\"eth.lg\",\n",
    "\"ip.checksum.status\",\n",
    "\"ip.dsfield.dscp\",\n",
    "\"ip.dsfield.ecn\",\n",
    "\"ip.flags.df\",\n",
    "\"ip.flags.mf\",\n",
    "\"tcp.options.sack_le\",\n",
    "\"tcp.options.sack_re\",\n",
    "\"icmp.unused\",\n",
    "'arp.seconds-since-duplicate-address-frame',\n",
    "'ip.len',\n",
    "'ip.id',\n",
    "\"ip.flags.rb\",\n",
    "\"ip.frag_offset\",\n",
    "\"ip.hdr_len\",\n",
    "\"ip.proto\",\n",
    "\"ip.ttl\",\n",
    "\"ip.version\",\n",
    "\"ipv6.opt\",\n",
    "\"ipv6.opt.length\",\n",
    "\"ipv6.opt.type.action\",\n",
    "\"ipv6.opt.type.change\",\n",
    "\"stun.att.padding\",\n",
    "\"stun.att.port\",\n",
    "\"stun.att.reserved\",\n",
    "\"tcp.analysis.duplicate_ack\",\n",
    "\"tls.record.length\"]\n",
    "#\"ip.dst\",\n",
    "#\"ip.src\",\n",
    "#\"ip.src_host\",\n",
    "#\"stun.att.ipv4\",\n",
    "#\"dhcp.hw.mac_addr\"]\n",
    "\n",
    "\n",
    "# hexadecimal to decimal function\n",
    "def comma_cleaner(val):\n",
    "    clean=[]\n",
    "    for v in val:\n",
    "        if \",\" in str(v):\n",
    "            temp=v.split(\",\")\n",
    "            temp=temp[0]\n",
    "        else:\n",
    "            temp=v\n",
    "        clean.append(temp)  \n",
    "    return clean\n"
   ]
  },
  {
   "cell_type": "code",
   "execution_count": 11,
   "id": "afbaed23-3b62-4f55-8d15-84678cc4f74e",
   "metadata": {},
   "outputs": [],
   "source": [
    "# features with hexadecimal values\n",
    "hexvalues=[\"stun.cookie\",\n",
    "\"stun.id\",\n",
    "\"stun.value\",\n",
    "\"tcp.options\",\n",
    "\"tcp.options.mss\",\n",
    "#\"tcp.options.sack\",\n",
    "\"tcp.options.wscale\",\n",
    "\"ntp.refid\",\n",
    "#\"stun.att.username\",\n",
    "\"arp.proto.type\",\n",
    "\"dhcp.flags\",\n",
    "\"dhcp.flags.reserved\",\n",
    "\"dhcp.id\",\n",
    "\"dns.flags\",\n",
    "\"dns.id\",\n",
    "\"eth.fcs\",\n",
    "\"eth.type\",\n",
    "\"icmp.checksum\",\n",
    "\"icmpv6.checksum\",\n",
    "\"igmp.checksum\",\n",
    "\"igmp.type\",\n",
    "\"ip.id\",\n",
    "\"ipv6.flow\",\n",
    "\"ipv6.tclass\",\n",
    "\"ntp.flags\",\n",
    "\"stun.att.crc32\",\n",
    "\"stun.att.transp\",\n",
    "\"stun.type\",\n",
    "\"stun.type.class\",\n",
    "\"stun.type.method\",\n",
    "\"stun.type.method-assignment\",\n",
    "\"tcp.checksum\",\n",
    "\"tcp.flags\",\n",
    "\"tls.handshake.server_curve_type\",\n",
    "\"tls.handshake.server_named_curve\",\n",
    "\"tls.handshake.version\",\n",
    "\"udp.checksum\",\n",
    "\"dhcp.hw.type\",\n",
    "\"ipv6.opt.type\",\"tls.handshake.sig_hash_alg\",\n",
    "\"ip.dsfield\",\n",
    "\"ip.flags\",\n",
    "\"stun.att.family\",\n",
    "\"stun.att.ipv4-xord\",\n",
    "\"stun.att.port-xord\",\n",
    "\"ipv6.opt.type.rest\"]\n",
    "\n",
    "# function that holds the first value and discards the second value for repeated values\n",
    "def hex2dec(val):\n",
    "    clean=[]\n",
    "    for v in val:\n",
    "        try:\n",
    "            clean.append(int(v, 16))\n",
    "        except:\n",
    "            clean.append(v)  \n",
    "    return clean\n"
   ]
  },
  {
   "cell_type": "code",
   "execution_count": 12,
   "id": "ac7b9faf-e8bd-47ef-9fd4-9388a51e2a0a",
   "metadata": {},
   "outputs": [
    {
     "data": {
      "text/plain": [
       "[]"
      ]
     },
     "execution_count": 12,
     "metadata": {},
     "output_type": "execute_result"
    }
   ],
   "source": [
    "path=\"pcaps\"\n",
    "pcaps=find_the_way(path,\".pcap\")\n",
    "pcaps"
   ]
  },
  {
   "cell_type": "code",
   "execution_count": 13,
   "id": "648a868e-59b7-4998-9848-51f449dd2cbf",
   "metadata": {},
   "outputs": [
    {
     "name": "stdout",
     "output_type": "stream",
     "text": [
      "1/22   ---> pcaps\\16-09-29.pcap   \n",
      "STEP - 1 - (PCAP2CSV)\n"
     ]
    },
    {
     "name": "stderr",
     "output_type": "stream",
     "text": [
      "100%|████████████████████████████████████████████████████████████████████████████████████| 7/7 [06:18<00:00, 54.14s/it]\n"
     ]
    },
    {
     "name": "stdout",
     "output_type": "stream",
     "text": [
      "STEP - 2 - (CSV Merge)\n"
     ]
    },
    {
     "name": "stderr",
     "output_type": "stream",
     "text": [
      "100%|████████████████████████████████████████████████████████████████████████████████████| 7/7 [10:48<00:00, 92.60s/it]\n"
     ]
    },
    {
     "name": "stdout",
     "output_type": "stream",
     "text": [
      "2/22   ---> pcaps\\16-10-03.pcap   \n",
      "STEP - 1 - (PCAP2CSV)\n"
     ]
    },
    {
     "name": "stderr",
     "output_type": "stream",
     "text": [
      "100%|████████████████████████████████████████████████████████████████████████████████████| 7/7 [05:27<00:00, 46.72s/it]\n"
     ]
    },
    {
     "name": "stdout",
     "output_type": "stream",
     "text": [
      "STEP - 2 - (CSV Merge)\n"
     ]
    },
    {
     "name": "stderr",
     "output_type": "stream",
     "text": [
      "100%|████████████████████████████████████████████████████████████████████████████████████| 7/7 [09:28<00:00, 81.28s/it]\n"
     ]
    },
    {
     "name": "stdout",
     "output_type": "stream",
     "text": [
      "3/22   ---> pcaps\\16-11-18.pcap   \n",
      "STEP - 1 - (PCAP2CSV)\n"
     ]
    },
    {
     "name": "stderr",
     "output_type": "stream",
     "text": [
      "100%|███████████████████████████████████████████████████████████████████████████████████| 7/7 [13:34<00:00, 116.31s/it]\n"
     ]
    },
    {
     "name": "stdout",
     "output_type": "stream",
     "text": [
      "STEP - 2 - (CSV Merge)\n"
     ]
    },
    {
     "name": "stderr",
     "output_type": "stream",
     "text": [
      "100%|███████████████████████████████████████████████████████████████████████████████████| 7/7 [21:14<00:00, 182.00s/it]\n"
     ]
    },
    {
     "name": "stdout",
     "output_type": "stream",
     "text": [
      "4/22   ---> pcaps\\smaller_16-11-22_00000_20161121160002.pcap   \n",
      "STEP - 1 - (PCAP2CSV)\n"
     ]
    },
    {
     "name": "stderr",
     "output_type": "stream",
     "text": [
      "100%|████████████████████████████████████████████████████████████████████████████████████| 7/7 [10:31<00:00, 90.15s/it]\n"
     ]
    },
    {
     "name": "stdout",
     "output_type": "stream",
     "text": [
      "STEP - 2 - (CSV Merge)\n"
     ]
    },
    {
     "name": "stderr",
     "output_type": "stream",
     "text": [
      "100%|███████████████████████████████████████████████████████████████████████████████████| 7/7 [16:03<00:00, 137.64s/it]\n"
     ]
    },
    {
     "name": "stdout",
     "output_type": "stream",
     "text": [
      "5/22   ---> pcaps\\smaller_16-11-22_00001_20161122053931.pcap   \n",
      "STEP - 1 - (PCAP2CSV)\n"
     ]
    },
    {
     "name": "stderr",
     "output_type": "stream",
     "text": [
      "100%|████████████████████████████████████████████████████████████████████████████████████| 7/7 [10:52<00:00, 93.21s/it]\n"
     ]
    },
    {
     "name": "stdout",
     "output_type": "stream",
     "text": [
      "STEP - 2 - (CSV Merge)\n"
     ]
    },
    {
     "name": "stderr",
     "output_type": "stream",
     "text": [
      "100%|███████████████████████████████████████████████████████████████████████████████████| 7/7 [17:00<00:00, 145.82s/it]\n"
     ]
    },
    {
     "name": "stdout",
     "output_type": "stream",
     "text": [
      "6/22   ---> pcaps\\smaller_16-11-22_00002_20161122081418.pcap   \n",
      "STEP - 1 - (PCAP2CSV)\n"
     ]
    },
    {
     "name": "stderr",
     "output_type": "stream",
     "text": [
      "100%|████████████████████████████████████████████████████████████████████████████████████| 7/7 [05:05<00:00, 43.60s/it]\n"
     ]
    },
    {
     "name": "stdout",
     "output_type": "stream",
     "text": [
      "STEP - 2 - (CSV Merge)\n"
     ]
    },
    {
     "name": "stderr",
     "output_type": "stream",
     "text": [
      "100%|████████████████████████████████████████████████████████████████████████████████████| 7/7 [08:54<00:00, 76.40s/it]\n"
     ]
    },
    {
     "name": "stdout",
     "output_type": "stream",
     "text": [
      "7/22   ---> pcaps\\smaller_18-06-11_00000_20180611030000.pcap   \n",
      "STEP - 1 - (PCAP2CSV)\n"
     ]
    },
    {
     "name": "stderr",
     "output_type": "stream",
     "text": [
      "100%|████████████████████████████████████████████████████████████████████████████████████| 7/7 [10:21<00:00, 88.83s/it]\n"
     ]
    },
    {
     "name": "stdout",
     "output_type": "stream",
     "text": [
      "STEP - 2 - (CSV Merge)\n"
     ]
    },
    {
     "name": "stderr",
     "output_type": "stream",
     "text": [
      "100%|███████████████████████████████████████████████████████████████████████████████████| 7/7 [14:42<00:00, 126.09s/it]\n"
     ]
    },
    {
     "name": "stdout",
     "output_type": "stream",
     "text": [
      "8/22   ---> pcaps\\smaller_18-06-11_00001_20180611131231.pcap   \n",
      "STEP - 1 - (PCAP2CSV)\n"
     ]
    },
    {
     "name": "stderr",
     "output_type": "stream",
     "text": [
      "100%|████████████████████████████████████████████████████████████████████████████████████| 7/7 [06:52<00:00, 58.94s/it]\n"
     ]
    },
    {
     "name": "stdout",
     "output_type": "stream",
     "text": [
      "STEP - 2 - (CSV Merge)\n"
     ]
    },
    {
     "name": "stderr",
     "output_type": "stream",
     "text": [
      "100%|████████████████████████████████████████████████████████████████████████████████████| 7/7 [05:38<00:00, 48.36s/it]\n"
     ]
    },
    {
     "name": "stdout",
     "output_type": "stream",
     "text": [
      "9/22   ---> pcaps\\smaller_18-06-11_00002_20180612014632.pcap   \n",
      "STEP - 1 - (PCAP2CSV)\n"
     ]
    },
    {
     "name": "stderr",
     "output_type": "stream",
     "text": [
      "100%|████████████████████████████████████████████████████████████████████████████████████| 7/7 [00:23<00:00,  3.35s/it]\n"
     ]
    },
    {
     "name": "stdout",
     "output_type": "stream",
     "text": [
      "STEP - 2 - (CSV Merge)\n"
     ]
    },
    {
     "name": "stderr",
     "output_type": "stream",
     "text": [
      "100%|████████████████████████████████████████████████████████████████████████████████████| 7/7 [00:32<00:00,  4.59s/it]\n"
     ]
    },
    {
     "name": "stdout",
     "output_type": "stream",
     "text": [
      "10/22   ---> pcaps\\smaller_18-06-14_00000_20180614030001.pcap   \n",
      "STEP - 1 - (PCAP2CSV)\n"
     ]
    },
    {
     "name": "stderr",
     "output_type": "stream",
     "text": [
      "100%|████████████████████████████████████████████████████████████████████████████████████| 7/7 [03:58<00:00, 34.04s/it]\n"
     ]
    },
    {
     "name": "stdout",
     "output_type": "stream",
     "text": [
      "STEP - 2 - (CSV Merge)\n"
     ]
    },
    {
     "name": "stderr",
     "output_type": "stream",
     "text": [
      "100%|████████████████████████████████████████████████████████████████████████████████████| 7/7 [05:45<00:00, 49.31s/it]\n"
     ]
    },
    {
     "name": "stdout",
     "output_type": "stream",
     "text": [
      "11/22   ---> pcaps\\smaller_18-06-14_00001_20180614091631.pcap   \n",
      "STEP - 1 - (PCAP2CSV)\n"
     ]
    },
    {
     "name": "stderr",
     "output_type": "stream",
     "text": [
      "100%|████████████████████████████████████████████████████████████████████████████████████| 7/7 [03:55<00:00, 33.61s/it]\n"
     ]
    },
    {
     "name": "stdout",
     "output_type": "stream",
     "text": [
      "STEP - 2 - (CSV Merge)\n"
     ]
    },
    {
     "name": "stderr",
     "output_type": "stream",
     "text": [
      "100%|████████████████████████████████████████████████████████████████████████████████████| 7/7 [05:45<00:00, 49.42s/it]\n"
     ]
    },
    {
     "name": "stdout",
     "output_type": "stream",
     "text": [
      "12/22   ---> pcaps\\smaller_18-06-14_00002_20180614162703.pcap   \n",
      "STEP - 1 - (PCAP2CSV)\n"
     ]
    },
    {
     "name": "stderr",
     "output_type": "stream",
     "text": [
      "100%|████████████████████████████████████████████████████████████████████████████████████| 7/7 [03:47<00:00, 32.57s/it]\n"
     ]
    },
    {
     "name": "stdout",
     "output_type": "stream",
     "text": [
      "STEP - 2 - (CSV Merge)\n"
     ]
    },
    {
     "name": "stderr",
     "output_type": "stream",
     "text": [
      "100%|████████████████████████████████████████████████████████████████████████████████████| 7/7 [05:42<00:00, 48.87s/it]\n"
     ]
    },
    {
     "name": "stdout",
     "output_type": "stream",
     "text": [
      "13/22   ---> pcaps\\smaller_18-06-14_00003_20180615014413.pcap   \n",
      "STEP - 1 - (PCAP2CSV)\n"
     ]
    },
    {
     "name": "stderr",
     "output_type": "stream",
     "text": [
      "100%|████████████████████████████████████████████████████████████████████████████████████| 7/7 [00:25<00:00,  3.64s/it]\n"
     ]
    },
    {
     "name": "stdout",
     "output_type": "stream",
     "text": [
      "STEP - 2 - (CSV Merge)\n"
     ]
    },
    {
     "name": "stderr",
     "output_type": "stream",
     "text": [
      "100%|████████████████████████████████████████████████████████████████████████████████████| 7/7 [00:35<00:00,  5.04s/it]\n"
     ]
    },
    {
     "name": "stdout",
     "output_type": "stream",
     "text": [
      "14/22   ---> pcaps\\smaller_18-10-13_00000_20181012160011.pcap   \n",
      "STEP - 1 - (PCAP2CSV)\n"
     ]
    },
    {
     "name": "stderr",
     "output_type": "stream",
     "text": [
      "100%|████████████████████████████████████████████████████████████████████████████████████| 7/7 [07:06<00:00, 60.94s/it]\n"
     ]
    },
    {
     "name": "stdout",
     "output_type": "stream",
     "text": [
      "STEP - 2 - (CSV Merge)\n"
     ]
    },
    {
     "name": "stderr",
     "output_type": "stream",
     "text": [
      "100%|███████████████████████████████████████████████████████████████████████████████████| 7/7 [14:48<00:00, 126.97s/it]\n"
     ]
    },
    {
     "name": "stdout",
     "output_type": "stream",
     "text": [
      "15/22   ---> pcaps\\smaller_18-10-13_00001_20181012230800.pcap   \n",
      "STEP - 1 - (PCAP2CSV)\n"
     ]
    },
    {
     "name": "stderr",
     "output_type": "stream",
     "text": [
      "100%|████████████████████████████████████████████████████████████████████████████████████| 7/7 [09:11<00:00, 78.74s/it]\n"
     ]
    },
    {
     "name": "stdout",
     "output_type": "stream",
     "text": [
      "STEP - 2 - (CSV Merge)\n"
     ]
    },
    {
     "name": "stderr",
     "output_type": "stream",
     "text": [
      "100%|███████████████████████████████████████████████████████████████████████████████████| 7/7 [14:58<00:00, 128.41s/it]\n"
     ]
    },
    {
     "name": "stdout",
     "output_type": "stream",
     "text": [
      "16/22   ---> pcaps\\smaller_18-10-13_00002_20181013055832.pcap   \n",
      "STEP - 1 - (PCAP2CSV)\n"
     ]
    },
    {
     "name": "stderr",
     "output_type": "stream",
     "text": [
      "100%|████████████████████████████████████████████████████████████████████████████████████| 7/7 [08:40<00:00, 74.36s/it]\n"
     ]
    },
    {
     "name": "stdout",
     "output_type": "stream",
     "text": [
      "STEP - 2 - (CSV Merge)\n"
     ]
    },
    {
     "name": "stderr",
     "output_type": "stream",
     "text": [
      "100%|███████████████████████████████████████████████████████████████████████████████████| 7/7 [14:30<00:00, 124.34s/it]\n"
     ]
    },
    {
     "name": "stdout",
     "output_type": "stream",
     "text": [
      "17/22   ---> pcaps\\smaller_18-10-13_00003_20181013113332.pcap   \n",
      "STEP - 1 - (PCAP2CSV)\n"
     ]
    },
    {
     "name": "stderr",
     "output_type": "stream",
     "text": [
      "100%|████████████████████████████████████████████████████████████████████████████████████| 7/7 [06:24<00:00, 54.99s/it]\n"
     ]
    },
    {
     "name": "stdout",
     "output_type": "stream",
     "text": [
      "STEP - 2 - (CSV Merge)\n"
     ]
    },
    {
     "name": "stderr",
     "output_type": "stream",
     "text": [
      "100%|████████████████████████████████████████████████████████████████████████████████████| 7/7 [11:05<00:00, 95.10s/it]\n"
     ]
    },
    {
     "name": "stdout",
     "output_type": "stream",
     "text": [
      "18/22   ---> pcaps\\smaller_18-10-16_00000_20181015155959.pcap   \n",
      "STEP - 1 - (PCAP2CSV)\n"
     ]
    },
    {
     "name": "stderr",
     "output_type": "stream",
     "text": [
      "100%|████████████████████████████████████████████████████████████████████████████████████| 7/7 [09:47<00:00, 83.92s/it]\n"
     ]
    },
    {
     "name": "stdout",
     "output_type": "stream",
     "text": [
      "STEP - 2 - (CSV Merge)\n"
     ]
    },
    {
     "name": "stderr",
     "output_type": "stream",
     "text": [
      "100%|███████████████████████████████████████████████████████████████████████████████████| 7/7 [14:37<00:00, 125.42s/it]\n"
     ]
    },
    {
     "name": "stdout",
     "output_type": "stream",
     "text": [
      "19/22   ---> pcaps\\smaller_18-10-16_00001_20181015220936.pcap   \n",
      "STEP - 1 - (PCAP2CSV)\n"
     ]
    },
    {
     "name": "stderr",
     "output_type": "stream",
     "text": [
      "100%|████████████████████████████████████████████████████████████████████████████████████| 7/7 [09:31<00:00, 81.71s/it]\n"
     ]
    },
    {
     "name": "stdout",
     "output_type": "stream",
     "text": [
      "STEP - 2 - (CSV Merge)\n"
     ]
    },
    {
     "name": "stderr",
     "output_type": "stream",
     "text": [
      "100%|███████████████████████████████████████████████████████████████████████████████████| 7/7 [14:39<00:00, 125.59s/it]\n"
     ]
    },
    {
     "name": "stdout",
     "output_type": "stream",
     "text": [
      "20/22   ---> pcaps\\smaller_18-10-16_00002_20181016044113.pcap   \n",
      "STEP - 1 - (PCAP2CSV)\n"
     ]
    },
    {
     "name": "stderr",
     "output_type": "stream",
     "text": [
      "100%|████████████████████████████████████████████████████████████████████████████████████| 7/7 [09:31<00:00, 81.71s/it]\n"
     ]
    },
    {
     "name": "stdout",
     "output_type": "stream",
     "text": [
      "STEP - 2 - (CSV Merge)\n"
     ]
    },
    {
     "name": "stderr",
     "output_type": "stream",
     "text": [
      "100%|███████████████████████████████████████████████████████████████████████████████████| 7/7 [14:32<00:00, 124.70s/it]\n"
     ]
    },
    {
     "name": "stdout",
     "output_type": "stream",
     "text": [
      "21/22   ---> pcaps\\smaller_18-10-16_00003_20181016081728.pcap   \n",
      "STEP - 1 - (PCAP2CSV)\n"
     ]
    },
    {
     "name": "stderr",
     "output_type": "stream",
     "text": [
      "100%|████████████████████████████████████████████████████████████████████████████████████| 7/7 [11:26<00:00, 98.05s/it]\n"
     ]
    },
    {
     "name": "stdout",
     "output_type": "stream",
     "text": [
      "STEP - 2 - (CSV Merge)\n"
     ]
    },
    {
     "name": "stderr",
     "output_type": "stream",
     "text": [
      "100%|███████████████████████████████████████████████████████████████████████████████████| 7/7 [14:52<00:00, 127.45s/it]\n"
     ]
    },
    {
     "name": "stdout",
     "output_type": "stream",
     "text": [
      "22/22   ---> pcaps\\smaller_18-10-16_00004_20181016113904.pcap   \n",
      "STEP - 1 - (PCAP2CSV)\n"
     ]
    },
    {
     "name": "stderr",
     "output_type": "stream",
     "text": [
      "100%|████████████████████████████████████████████████████████████████████████████████████| 7/7 [07:02<00:00, 60.38s/it]\n"
     ]
    },
    {
     "name": "stdout",
     "output_type": "stream",
     "text": [
      "STEP - 2 - (CSV Merge)\n"
     ]
    },
    {
     "name": "stderr",
     "output_type": "stream",
     "text": [
      "100%|███████████████████████████████████████████████████████████████████████████████████| 7/7 [12:13<00:00, 104.83s/it]\n"
     ]
    }
   ],
   "source": [
    "#### pcap to csv using wireshark\n",
    "#### Feature extraction main part\n",
    "\n",
    "for numero, pp in enumerate(pcaps):\n",
    "    print(f\"{numero+1}/{len(pcaps)}   ---> {pp}   \")\n",
    "    killthemall()\n",
    "    name=pp.replace(\"\\\\\",\"/\")\n",
    "    print(\"STEP - 1 - (PCAP2CSV)\")\n",
    "    for p,feature in enumerate (tqdm(features)):\n",
    "        line=f\"tshark -r {name} -E header=y -E separator=\\\"|\\\" -T fields -e \"\n",
    "        for i in feature:\n",
    "            line=line+ i + \" -e \"\n",
    "        line= line[:-3] + f\"> ./temp/{p}.csv\"\n",
    "        os.system(line)\n",
    "    \n",
    "    files_add=find_the_way('./temp/',\".csv\")\n",
    "    files_add\n",
    "        \n",
    "    csvname=name.replace(\"pcap\",\"csv\")\n",
    "    folder(csvname[:csvname.rfind(\"/\")])\n",
    "    flag=1\n",
    "    print(\"STEP - 2 - (CSV Merge)\")\n",
    "    for i in  tqdm(files_add):\n",
    "        try:\n",
    "            if flag:\n",
    "                df=pd.read_csv(i,sep=\"|\")\n",
    "                #df=df.dropna(axis=1, how='all')\n",
    "                df.to_csv(csvname,sep=\"|\", index=False)\n",
    "                flag=0\n",
    "            else:\n",
    "                df=pd.read_csv(csvname,sep=\"|\")\n",
    "                df1=pd.read_csv(i,sep=\"|\")\n",
    "                #df1=df1.dropna(axis=1, how='all')\n",
    "    \n",
    "                result = pd.concat([df, df1], axis=1)\n",
    "                result.to_csv(csvname,sep=\"|\", index=False)\n",
    "                #result.to_csv(f\"nihai{flag}.csv\", index=False)\n",
    "        except:print(\"error\",i)\n",
    "\n",
    "\n"
   ]
  },
  {
   "cell_type": "code",
   "execution_count": 13,
   "id": "36b0f584-4db6-4b3d-8d87-dc82358b1683",
   "metadata": {},
   "outputs": [],
   "source": [
    "# MAC address of devices and their names. It will use for labelling\n",
    "macs={'d0:52:a8:00:67:5e': 'Smart Things',\n",
    " '44:65:0d:56:cc:d3': 'Amazon Echo',\n",
    " '70:ee:50:18:34:43': 'Netatmo Welcome',\n",
    " 'f4:f2:6d:93:51:f1': 'TP-Link Day Night Cloud camera',\n",
    " '00:16:6c:ab:6b:88': 'Samsung SmartCam',\n",
    " '30:8c:fb:2f:e4:b2': 'Dropcam',\n",
    " 'ec:1a:59:79:f4:89': 'Belkin Wemo switch',\n",
    " '50:c7:bf:00:56:39': 'TP-Link Smart plug',\n",
    " '74:c6:3b:29:d7:1d': 'iHome',\n",
    " 'ec:1a:59:83:28:11': 'Belkin wemo motion sensor',\n",
    " '18:b4:30:25:be:e4': 'NEST Protect smoke alarm',\n",
    " '70:ee:50:03:b8:ac': 'Netatmo weather station',\n",
    " 'd0:73:d5:01:83:08': 'Light Bulbs LiFX Smart Bulb',\n",
    " '18:b7:9e:02:20:44': 'Triby Speaker',\n",
    " 'e0:76:d0:33:bb:85': 'PIX-STAR Photo-frame',\n",
    " '70:5a:0f:e4:9b:c0': 'HP Printer',\n",
    " '08:21:ef:3b:fc:e3': 'Samsung Galaxy Tab',\n",
    " 'ac:bc:32:d4:6f:2f': 'MacBook',\n",
    " '14:cc:20:51:33:ea': 'TPLink Router Bridge LAN',\n",
    " '00:17:88:2b:9a:25': 'Phillip Hue Lightbulb',\n",
    " '7c:70:bc:5d:5e:dc': 'Canary Camera',\n",
    " '70:88:6b:10:0f:c6': 'Awair air quality monitor'}\n"
   ]
  },
  {
   "cell_type": "code",
   "execution_count": 21,
   "id": "b06beeac-0d1f-4f50-aed4-4b9e770fe837",
   "metadata": {},
   "outputs": [
    {
     "name": "stderr",
     "output_type": "stream",
     "text": [
      " 91%|███████████████████████████████████████████████████████████████████████▊       | 20/22 [2:38:36<15:51, 475.83s/it]\n"
     ]
    },
    {
     "ename": "MemoryError",
     "evalue": "Unable to allocate 1.85 GiB for an array with shape (248, 1000000) and data type float64",
     "output_type": "error",
     "traceback": [
      "\u001b[1;31m---------------------------------------------------------------------------\u001b[0m",
      "\u001b[1;31mMemoryError\u001b[0m                               Traceback (most recent call last)",
      "Cell \u001b[1;32mIn[21], line 6\u001b[0m\n\u001b[0;32m      4\u001b[0m files_add\u001b[38;5;241m=\u001b[39mfind_the_way(\u001b[38;5;124m'\u001b[39m\u001b[38;5;124m./csvs/\u001b[39m\u001b[38;5;124m'\u001b[39m,\u001b[38;5;124m\"\u001b[39m\u001b[38;5;124m.csv\u001b[39m\u001b[38;5;124m\"\u001b[39m)\n\u001b[0;32m      5\u001b[0m \u001b[38;5;28;01mfor\u001b[39;00m name \u001b[38;5;129;01min\u001b[39;00m tqdm(files_add):\n\u001b[1;32m----> 6\u001b[0m     df\u001b[38;5;241m=\u001b[39m\u001b[43mpd\u001b[49m\u001b[38;5;241;43m.\u001b[39;49m\u001b[43mread_csv\u001b[49m\u001b[43m(\u001b[49m\u001b[43mname\u001b[49m\u001b[43m,\u001b[49m\u001b[43msep\u001b[49m\u001b[38;5;241;43m=\u001b[39;49m\u001b[38;5;124;43m\"\u001b[39;49m\u001b[38;5;124;43m|\u001b[39;49m\u001b[38;5;124;43m\"\u001b[39;49m\u001b[43m)\u001b[49m\n\u001b[0;32m      7\u001b[0m     \u001b[38;5;28;01mfor\u001b[39;00m d \u001b[38;5;129;01min\u001b[39;00m dubs:\n\u001b[0;32m      8\u001b[0m         temp\u001b[38;5;241m=\u001b[39mdf[d]\u001b[38;5;241m.\u001b[39mvalues\n",
      "File \u001b[1;32m~\\AppData\\Local\\Programs\\Python\\Python312\\Lib\\site-packages\\pandas\\io\\parsers\\readers.py:1024\u001b[0m, in \u001b[0;36mread_csv\u001b[1;34m(filepath_or_buffer, sep, delimiter, header, names, index_col, usecols, dtype, engine, converters, true_values, false_values, skipinitialspace, skiprows, skipfooter, nrows, na_values, keep_default_na, na_filter, verbose, skip_blank_lines, parse_dates, infer_datetime_format, keep_date_col, date_parser, date_format, dayfirst, cache_dates, iterator, chunksize, compression, thousands, decimal, lineterminator, quotechar, quoting, doublequote, escapechar, comment, encoding, encoding_errors, dialect, on_bad_lines, delim_whitespace, low_memory, memory_map, float_precision, storage_options, dtype_backend)\u001b[0m\n\u001b[0;32m   1011\u001b[0m kwds_defaults \u001b[38;5;241m=\u001b[39m _refine_defaults_read(\n\u001b[0;32m   1012\u001b[0m     dialect,\n\u001b[0;32m   1013\u001b[0m     delimiter,\n\u001b[1;32m   (...)\u001b[0m\n\u001b[0;32m   1020\u001b[0m     dtype_backend\u001b[38;5;241m=\u001b[39mdtype_backend,\n\u001b[0;32m   1021\u001b[0m )\n\u001b[0;32m   1022\u001b[0m kwds\u001b[38;5;241m.\u001b[39mupdate(kwds_defaults)\n\u001b[1;32m-> 1024\u001b[0m \u001b[38;5;28;01mreturn\u001b[39;00m \u001b[43m_read\u001b[49m\u001b[43m(\u001b[49m\u001b[43mfilepath_or_buffer\u001b[49m\u001b[43m,\u001b[49m\u001b[43m \u001b[49m\u001b[43mkwds\u001b[49m\u001b[43m)\u001b[49m\n",
      "File \u001b[1;32m~\\AppData\\Local\\Programs\\Python\\Python312\\Lib\\site-packages\\pandas\\io\\parsers\\readers.py:624\u001b[0m, in \u001b[0;36m_read\u001b[1;34m(filepath_or_buffer, kwds)\u001b[0m\n\u001b[0;32m    621\u001b[0m     \u001b[38;5;28;01mreturn\u001b[39;00m parser\n\u001b[0;32m    623\u001b[0m \u001b[38;5;28;01mwith\u001b[39;00m parser:\n\u001b[1;32m--> 624\u001b[0m     \u001b[38;5;28;01mreturn\u001b[39;00m \u001b[43mparser\u001b[49m\u001b[38;5;241;43m.\u001b[39;49m\u001b[43mread\u001b[49m\u001b[43m(\u001b[49m\u001b[43mnrows\u001b[49m\u001b[43m)\u001b[49m\n",
      "File \u001b[1;32m~\\AppData\\Local\\Programs\\Python\\Python312\\Lib\\site-packages\\pandas\\io\\parsers\\readers.py:1966\u001b[0m, in \u001b[0;36mTextFileReader.read\u001b[1;34m(self, nrows)\u001b[0m\n\u001b[0;32m   1963\u001b[0m     \u001b[38;5;28;01melse\u001b[39;00m:\n\u001b[0;32m   1964\u001b[0m         new_col_dict \u001b[38;5;241m=\u001b[39m col_dict\n\u001b[1;32m-> 1966\u001b[0m     df \u001b[38;5;241m=\u001b[39m \u001b[43mDataFrame\u001b[49m\u001b[43m(\u001b[49m\n\u001b[0;32m   1967\u001b[0m \u001b[43m        \u001b[49m\u001b[43mnew_col_dict\u001b[49m\u001b[43m,\u001b[49m\n\u001b[0;32m   1968\u001b[0m \u001b[43m        \u001b[49m\u001b[43mcolumns\u001b[49m\u001b[38;5;241;43m=\u001b[39;49m\u001b[43mcolumns\u001b[49m\u001b[43m,\u001b[49m\n\u001b[0;32m   1969\u001b[0m \u001b[43m        \u001b[49m\u001b[43mindex\u001b[49m\u001b[38;5;241;43m=\u001b[39;49m\u001b[43mindex\u001b[49m\u001b[43m,\u001b[49m\n\u001b[0;32m   1970\u001b[0m \u001b[43m        \u001b[49m\u001b[43mcopy\u001b[49m\u001b[38;5;241;43m=\u001b[39;49m\u001b[38;5;129;43;01mnot\u001b[39;49;00m\u001b[43m \u001b[49m\u001b[43musing_copy_on_write\u001b[49m\u001b[43m(\u001b[49m\u001b[43m)\u001b[49m\u001b[43m,\u001b[49m\n\u001b[0;32m   1971\u001b[0m \u001b[43m    \u001b[49m\u001b[43m)\u001b[49m\n\u001b[0;32m   1973\u001b[0m     \u001b[38;5;28mself\u001b[39m\u001b[38;5;241m.\u001b[39m_currow \u001b[38;5;241m+\u001b[39m\u001b[38;5;241m=\u001b[39m new_rows\n\u001b[0;32m   1974\u001b[0m \u001b[38;5;28;01mreturn\u001b[39;00m df\n",
      "File \u001b[1;32m~\\AppData\\Local\\Programs\\Python\\Python312\\Lib\\site-packages\\pandas\\core\\frame.py:767\u001b[0m, in \u001b[0;36mDataFrame.__init__\u001b[1;34m(self, data, index, columns, dtype, copy)\u001b[0m\n\u001b[0;32m    761\u001b[0m     mgr \u001b[38;5;241m=\u001b[39m \u001b[38;5;28mself\u001b[39m\u001b[38;5;241m.\u001b[39m_init_mgr(\n\u001b[0;32m    762\u001b[0m         data, axes\u001b[38;5;241m=\u001b[39m{\u001b[38;5;124m\"\u001b[39m\u001b[38;5;124mindex\u001b[39m\u001b[38;5;124m\"\u001b[39m: index, \u001b[38;5;124m\"\u001b[39m\u001b[38;5;124mcolumns\u001b[39m\u001b[38;5;124m\"\u001b[39m: columns}, dtype\u001b[38;5;241m=\u001b[39mdtype, copy\u001b[38;5;241m=\u001b[39mcopy\n\u001b[0;32m    763\u001b[0m     )\n\u001b[0;32m    765\u001b[0m \u001b[38;5;28;01melif\u001b[39;00m \u001b[38;5;28misinstance\u001b[39m(data, \u001b[38;5;28mdict\u001b[39m):\n\u001b[0;32m    766\u001b[0m     \u001b[38;5;66;03m# GH#38939 de facto copy defaults to False only in non-dict cases\u001b[39;00m\n\u001b[1;32m--> 767\u001b[0m     mgr \u001b[38;5;241m=\u001b[39m \u001b[43mdict_to_mgr\u001b[49m\u001b[43m(\u001b[49m\u001b[43mdata\u001b[49m\u001b[43m,\u001b[49m\u001b[43m \u001b[49m\u001b[43mindex\u001b[49m\u001b[43m,\u001b[49m\u001b[43m \u001b[49m\u001b[43mcolumns\u001b[49m\u001b[43m,\u001b[49m\u001b[43m \u001b[49m\u001b[43mdtype\u001b[49m\u001b[38;5;241;43m=\u001b[39;49m\u001b[43mdtype\u001b[49m\u001b[43m,\u001b[49m\u001b[43m \u001b[49m\u001b[43mcopy\u001b[49m\u001b[38;5;241;43m=\u001b[39;49m\u001b[43mcopy\u001b[49m\u001b[43m,\u001b[49m\u001b[43m \u001b[49m\u001b[43mtyp\u001b[49m\u001b[38;5;241;43m=\u001b[39;49m\u001b[43mmanager\u001b[49m\u001b[43m)\u001b[49m\n\u001b[0;32m    768\u001b[0m \u001b[38;5;28;01melif\u001b[39;00m \u001b[38;5;28misinstance\u001b[39m(data, ma\u001b[38;5;241m.\u001b[39mMaskedArray):\n\u001b[0;32m    769\u001b[0m     \u001b[38;5;28;01mfrom\u001b[39;00m \u001b[38;5;21;01mnumpy\u001b[39;00m\u001b[38;5;21;01m.\u001b[39;00m\u001b[38;5;21;01mma\u001b[39;00m \u001b[38;5;28;01mimport\u001b[39;00m mrecords\n",
      "File \u001b[1;32m~\\AppData\\Local\\Programs\\Python\\Python312\\Lib\\site-packages\\pandas\\core\\internals\\construction.py:503\u001b[0m, in \u001b[0;36mdict_to_mgr\u001b[1;34m(data, index, columns, dtype, typ, copy)\u001b[0m\n\u001b[0;32m    499\u001b[0m     \u001b[38;5;28;01melse\u001b[39;00m:\n\u001b[0;32m    500\u001b[0m         \u001b[38;5;66;03m# dtype check to exclude e.g. range objects, scalars\u001b[39;00m\n\u001b[0;32m    501\u001b[0m         arrays \u001b[38;5;241m=\u001b[39m [x\u001b[38;5;241m.\u001b[39mcopy() \u001b[38;5;28;01mif\u001b[39;00m \u001b[38;5;28mhasattr\u001b[39m(x, \u001b[38;5;124m\"\u001b[39m\u001b[38;5;124mdtype\u001b[39m\u001b[38;5;124m\"\u001b[39m) \u001b[38;5;28;01melse\u001b[39;00m x \u001b[38;5;28;01mfor\u001b[39;00m x \u001b[38;5;129;01min\u001b[39;00m arrays]\n\u001b[1;32m--> 503\u001b[0m \u001b[38;5;28;01mreturn\u001b[39;00m \u001b[43marrays_to_mgr\u001b[49m\u001b[43m(\u001b[49m\u001b[43marrays\u001b[49m\u001b[43m,\u001b[49m\u001b[43m \u001b[49m\u001b[43mcolumns\u001b[49m\u001b[43m,\u001b[49m\u001b[43m \u001b[49m\u001b[43mindex\u001b[49m\u001b[43m,\u001b[49m\u001b[43m \u001b[49m\u001b[43mdtype\u001b[49m\u001b[38;5;241;43m=\u001b[39;49m\u001b[43mdtype\u001b[49m\u001b[43m,\u001b[49m\u001b[43m \u001b[49m\u001b[43mtyp\u001b[49m\u001b[38;5;241;43m=\u001b[39;49m\u001b[43mtyp\u001b[49m\u001b[43m,\u001b[49m\u001b[43m \u001b[49m\u001b[43mconsolidate\u001b[49m\u001b[38;5;241;43m=\u001b[39;49m\u001b[43mcopy\u001b[49m\u001b[43m)\u001b[49m\n",
      "File \u001b[1;32m~\\AppData\\Local\\Programs\\Python\\Python312\\Lib\\site-packages\\pandas\\core\\internals\\construction.py:152\u001b[0m, in \u001b[0;36marrays_to_mgr\u001b[1;34m(arrays, columns, index, dtype, verify_integrity, typ, consolidate)\u001b[0m\n\u001b[0;32m    149\u001b[0m axes \u001b[38;5;241m=\u001b[39m [columns, index]\n\u001b[0;32m    151\u001b[0m \u001b[38;5;28;01mif\u001b[39;00m typ \u001b[38;5;241m==\u001b[39m \u001b[38;5;124m\"\u001b[39m\u001b[38;5;124mblock\u001b[39m\u001b[38;5;124m\"\u001b[39m:\n\u001b[1;32m--> 152\u001b[0m     \u001b[38;5;28;01mreturn\u001b[39;00m \u001b[43mcreate_block_manager_from_column_arrays\u001b[49m\u001b[43m(\u001b[49m\n\u001b[0;32m    153\u001b[0m \u001b[43m        \u001b[49m\u001b[43marrays\u001b[49m\u001b[43m,\u001b[49m\u001b[43m \u001b[49m\u001b[43maxes\u001b[49m\u001b[43m,\u001b[49m\u001b[43m \u001b[49m\u001b[43mconsolidate\u001b[49m\u001b[38;5;241;43m=\u001b[39;49m\u001b[43mconsolidate\u001b[49m\u001b[43m,\u001b[49m\u001b[43m \u001b[49m\u001b[43mrefs\u001b[49m\u001b[38;5;241;43m=\u001b[39;49m\u001b[43mrefs\u001b[49m\n\u001b[0;32m    154\u001b[0m \u001b[43m    \u001b[49m\u001b[43m)\u001b[49m\n\u001b[0;32m    155\u001b[0m \u001b[38;5;28;01melif\u001b[39;00m typ \u001b[38;5;241m==\u001b[39m \u001b[38;5;124m\"\u001b[39m\u001b[38;5;124marray\u001b[39m\u001b[38;5;124m\"\u001b[39m:\n\u001b[0;32m    156\u001b[0m     \u001b[38;5;28;01mreturn\u001b[39;00m ArrayManager(arrays, [index, columns])\n",
      "File \u001b[1;32m~\\AppData\\Local\\Programs\\Python\\Python312\\Lib\\site-packages\\pandas\\core\\internals\\managers.py:2143\u001b[0m, in \u001b[0;36mcreate_block_manager_from_column_arrays\u001b[1;34m(arrays, axes, consolidate, refs)\u001b[0m\n\u001b[0;32m   2141\u001b[0m     raise_construction_error(\u001b[38;5;28mlen\u001b[39m(arrays), arrays[\u001b[38;5;241m0\u001b[39m]\u001b[38;5;241m.\u001b[39mshape, axes, e)\n\u001b[0;32m   2142\u001b[0m \u001b[38;5;28;01mif\u001b[39;00m consolidate:\n\u001b[1;32m-> 2143\u001b[0m     \u001b[43mmgr\u001b[49m\u001b[38;5;241;43m.\u001b[39;49m\u001b[43m_consolidate_inplace\u001b[49m\u001b[43m(\u001b[49m\u001b[43m)\u001b[49m\n\u001b[0;32m   2144\u001b[0m \u001b[38;5;28;01mreturn\u001b[39;00m mgr\n",
      "File \u001b[1;32m~\\AppData\\Local\\Programs\\Python\\Python312\\Lib\\site-packages\\pandas\\core\\internals\\managers.py:1787\u001b[0m, in \u001b[0;36mBlockManager._consolidate_inplace\u001b[1;34m(self)\u001b[0m\n\u001b[0;32m   1781\u001b[0m \u001b[38;5;28;01mdef\u001b[39;00m \u001b[38;5;21m_consolidate_inplace\u001b[39m(\u001b[38;5;28mself\u001b[39m) \u001b[38;5;241m-\u001b[39m\u001b[38;5;241m>\u001b[39m \u001b[38;5;28;01mNone\u001b[39;00m:\n\u001b[0;32m   1782\u001b[0m     \u001b[38;5;66;03m# In general, _consolidate_inplace should only be called via\u001b[39;00m\n\u001b[0;32m   1783\u001b[0m     \u001b[38;5;66;03m#  DataFrame._consolidate_inplace, otherwise we will fail to invalidate\u001b[39;00m\n\u001b[0;32m   1784\u001b[0m     \u001b[38;5;66;03m#  the DataFrame's _item_cache. The exception is for newly-created\u001b[39;00m\n\u001b[0;32m   1785\u001b[0m     \u001b[38;5;66;03m#  BlockManager objects not yet attached to a DataFrame.\u001b[39;00m\n\u001b[0;32m   1786\u001b[0m     \u001b[38;5;28;01mif\u001b[39;00m \u001b[38;5;129;01mnot\u001b[39;00m \u001b[38;5;28mself\u001b[39m\u001b[38;5;241m.\u001b[39mis_consolidated():\n\u001b[1;32m-> 1787\u001b[0m         \u001b[38;5;28mself\u001b[39m\u001b[38;5;241m.\u001b[39mblocks \u001b[38;5;241m=\u001b[39m \u001b[43m_consolidate\u001b[49m\u001b[43m(\u001b[49m\u001b[38;5;28;43mself\u001b[39;49m\u001b[38;5;241;43m.\u001b[39;49m\u001b[43mblocks\u001b[49m\u001b[43m)\u001b[49m\n\u001b[0;32m   1788\u001b[0m         \u001b[38;5;28mself\u001b[39m\u001b[38;5;241m.\u001b[39m_is_consolidated \u001b[38;5;241m=\u001b[39m \u001b[38;5;28;01mTrue\u001b[39;00m\n\u001b[0;32m   1789\u001b[0m         \u001b[38;5;28mself\u001b[39m\u001b[38;5;241m.\u001b[39m_known_consolidated \u001b[38;5;241m=\u001b[39m \u001b[38;5;28;01mTrue\u001b[39;00m\n",
      "File \u001b[1;32m~\\AppData\\Local\\Programs\\Python\\Python312\\Lib\\site-packages\\pandas\\core\\internals\\managers.py:2268\u001b[0m, in \u001b[0;36m_consolidate\u001b[1;34m(blocks)\u001b[0m\n\u001b[0;32m   2266\u001b[0m new_blocks: \u001b[38;5;28mlist\u001b[39m[Block] \u001b[38;5;241m=\u001b[39m []\n\u001b[0;32m   2267\u001b[0m \u001b[38;5;28;01mfor\u001b[39;00m (_can_consolidate, dtype), group_blocks \u001b[38;5;129;01min\u001b[39;00m grouper:\n\u001b[1;32m-> 2268\u001b[0m     merged_blocks, _ \u001b[38;5;241m=\u001b[39m \u001b[43m_merge_blocks\u001b[49m\u001b[43m(\u001b[49m\n\u001b[0;32m   2269\u001b[0m \u001b[43m        \u001b[49m\u001b[38;5;28;43mlist\u001b[39;49m\u001b[43m(\u001b[49m\u001b[43mgroup_blocks\u001b[49m\u001b[43m)\u001b[49m\u001b[43m,\u001b[49m\u001b[43m \u001b[49m\u001b[43mdtype\u001b[49m\u001b[38;5;241;43m=\u001b[39;49m\u001b[43mdtype\u001b[49m\u001b[43m,\u001b[49m\u001b[43m \u001b[49m\u001b[43mcan_consolidate\u001b[49m\u001b[38;5;241;43m=\u001b[39;49m\u001b[43m_can_consolidate\u001b[49m\n\u001b[0;32m   2270\u001b[0m \u001b[43m    \u001b[49m\u001b[43m)\u001b[49m\n\u001b[0;32m   2271\u001b[0m     new_blocks \u001b[38;5;241m=\u001b[39m extend_blocks(merged_blocks, new_blocks)\n\u001b[0;32m   2272\u001b[0m \u001b[38;5;28;01mreturn\u001b[39;00m \u001b[38;5;28mtuple\u001b[39m(new_blocks)\n",
      "File \u001b[1;32m~\\AppData\\Local\\Programs\\Python\\Python312\\Lib\\site-packages\\pandas\\core\\internals\\managers.py:2300\u001b[0m, in \u001b[0;36m_merge_blocks\u001b[1;34m(blocks, dtype, can_consolidate)\u001b[0m\n\u001b[0;32m   2297\u001b[0m     new_values \u001b[38;5;241m=\u001b[39m bvals2[\u001b[38;5;241m0\u001b[39m]\u001b[38;5;241m.\u001b[39m_concat_same_type(bvals2, axis\u001b[38;5;241m=\u001b[39m\u001b[38;5;241m0\u001b[39m)\n\u001b[0;32m   2299\u001b[0m argsort \u001b[38;5;241m=\u001b[39m np\u001b[38;5;241m.\u001b[39margsort(new_mgr_locs)\n\u001b[1;32m-> 2300\u001b[0m new_values \u001b[38;5;241m=\u001b[39m \u001b[43mnew_values\u001b[49m\u001b[43m[\u001b[49m\u001b[43margsort\u001b[49m\u001b[43m]\u001b[49m\n\u001b[0;32m   2301\u001b[0m new_mgr_locs \u001b[38;5;241m=\u001b[39m new_mgr_locs[argsort]\n\u001b[0;32m   2303\u001b[0m bp \u001b[38;5;241m=\u001b[39m BlockPlacement(new_mgr_locs)\n",
      "\u001b[1;31mMemoryError\u001b[0m: Unable to allocate 1.85 GiB for an array with shape (248, 1000000) and data type float64"
     ]
    }
   ],
   "source": [
    "#### General corrections in CSV files (payload entropy, port class, merging of IPv4 and IPv6 properties, Labelling, etc.)\n",
    "#### nan values filled with -9999\n",
    "#### inf values filled with max(uint32)\n",
    "files_add=find_the_way('./csvs/',\".csv\")\n",
    "for name in tqdm(files_add):\n",
    "    df=pd.read_csv(name,sep=\"|\")\n",
    "    for d in dubs:\n",
    "        temp=df[d].values\n",
    "        temp=comma_cleaner(temp)\n",
    "        df[d]=temp\n",
    "    for h in hexvalues:\n",
    "        temp=df[h].values\n",
    "        temp=hex2dec(temp)\n",
    "        df[h]=temp\n",
    "    df['tcp.options']=df['tcp.options'].astype(np.float32)\n",
    "    df['tcp.options']=df['tcp.options'].replace([np.inf, -np.inf], np.iinfo(np.uint32).max)  \n",
    "\n",
    "    for i in str_cols:\n",
    "        temp=i.replace(\".\",\"_\")\n",
    "        val=df[i]\n",
    "        val=val.replace(strs[temp])\n",
    "        temp=hex2dec(temp)\n",
    "        df[i]=val\n",
    "    # Sütunları birleştir\n",
    "    df['Payload_Entropy'] = df[\"udp.payload\"].combine_first(df[\"tcp.payload\"])\n",
    "    del df[\"udp.payload\"]\n",
    "    del df[\"tcp.payload\"]\n",
    "    temp=[]\n",
    "    for i in (df['Payload_Entropy'].values):\n",
    "        temp.append(shannon(i))\n",
    "    df['Payload_Entropy']=temp\n",
    "\n",
    "\n",
    "    df['dstport'] = df['udp.dstport'].combine_first(df['udp.dstport'])\n",
    "    df['srcport'] = df['udp.srcport'].combine_first(df['udp.srcport'])\n",
    "    \n",
    "    temp=[]\n",
    "    for i in (df['dstport'].values):\n",
    "        temp.append(port_class(i))\n",
    "    df['dstport_class']=temp\n",
    "    \n",
    "    temp=[]\n",
    "    for i in (df['srcport'].values):\n",
    "        temp.append(port_class(i))\n",
    "    df['srcport_class']=temp\n",
    "\n",
    "\n",
    "    df['dstport'] = df['udp.dstport'].combine_first(df['udp.dstport'])\n",
    "    df['srcport'] = df['udp.srcport'].combine_first(df['udp.srcport'])\n",
    "    #df['ip.dst'] = df['ip.dst'].combine_first(df['ipv6.dst'])\n",
    "   # df['ip.src'] = df['ip.src'].combine_first(df['ipv6.src'])\n",
    "    \n",
    "    df['ip.bogus_ip_length'] = df['ip.bogus_ip_length'].combine_first(df['ipv6.hlim'])\n",
    "    df['ip.len'] = df['ip.len'].combine_first(df['ipv6.hopopts.nxt'])\n",
    "    df['ip.opt.len'] = df['ip.opt.len'].combine_first(df['ipv6.nxt'])\n",
    "    df['ip.opt.ra'] = df['ip.opt.ra'].combine_first(df['ipv6.opt.router_alert'])\n",
    "    df['ip.opt.type'] = df['ip.opt.type'].combine_first(df['ipv6.plen'])\n",
    "    df['ip.opt.type.class'] = df['ip.opt.type.class'].combine_first(df['ipv6.tclass.dscp'])\n",
    "    df['ip.opt.type.copy'] = df['ip.opt.type.copy'].combine_first(df['ipv6.tclass.ecn'])\n",
    "    df['ip.opt.type.number'] = df['ip.opt.type.number'].combine_first(df['ipv6.version'])\n",
    "    \n",
    "\n",
    "    del df['ipv6.hlim']\n",
    "    del df['ipv6.hopopts.nxt']\n",
    "    del df['ipv6.nxt']\n",
    "    del df['ipv6.opt.router_alert']\n",
    "    del df['ipv6.plen']\n",
    "    del df['ipv6.tclass.dscp']\n",
    "    del df['ipv6.tclass.ecn']\n",
    "    del df['ipv6.version']\n",
    "    df=df.fillna(-9999)\n",
    "    df[\"Label\"]=df[\"eth.src\"].replace(macs)\n",
    "    df.to_csv(name,index=False)"
   ]
  },
  {
   "cell_type": "code",
   "execution_count": 15,
   "id": "6b7ff3b2-8dcb-4ccd-807c-beda15082eae",
   "metadata": {},
   "outputs": [],
   "source": []
  },
  {
   "cell_type": "code",
   "execution_count": 16,
   "id": "66a4ac16-9eb3-46bf-896a-39bf209783d4",
   "metadata": {},
   "outputs": [
    {
     "name": "stderr",
     "output_type": "stream",
     "text": [
      "100%|███████████████████████████████████████████████████████████████████████████████████| 2/2 [13:55<00:00, 417.69s/it]\n"
     ]
    }
   ],
   "source": [
    "#### General corrections in CSV files (payload entropy, port class, merging of IPv4 and IPv6 properties, Labelling, etc.)\n",
    "#### nan values filled with -9999\n",
    "#### inf values filled with max(uint32)\n",
    "files_add=find_the_way('./csvs/',\".csv\")\n",
    "for name in tqdm(files_add):\n",
    "    df=pd.read_csv(name,sep=\"|\")\n",
    "    for d in dubs:\n",
    "        temp=df[d].values\n",
    "        temp=comma_cleaner(temp)\n",
    "        df[d]=temp\n",
    "    for h in hexvalues:\n",
    "        temp=df[h].values\n",
    "        temp=hex2dec(temp)\n",
    "        df[h]=temp\n",
    "    df['tcp.options']=df['tcp.options'].astype(np.float32)\n",
    "    df['tcp.options']=df['tcp.options'].replace([np.inf, -np.inf], np.iinfo(np.uint32).max)  \n",
    "\n",
    "    for i in str_cols:\n",
    "        temp=i.replace(\".\",\"_\")\n",
    "        val=df[i]\n",
    "        val=val.replace(strs[temp])\n",
    "        temp=hex2dec(temp)\n",
    "        df[i]=val\n",
    "    # Sütunları birleştir\n",
    "    df['Payload_Entropy'] = df[\"udp.payload\"].combine_first(df[\"tcp.payload\"])\n",
    "    del df[\"udp.payload\"]\n",
    "    del df[\"tcp.payload\"]\n",
    "    temp=[]\n",
    "    for i in (df['Payload_Entropy'].values):\n",
    "        temp.append(shannon(i))\n",
    "    df['Payload_Entropy']=temp\n",
    "\n",
    "\n",
    "    df['dstport'] = df['udp.dstport'].combine_first(df['udp.dstport'])\n",
    "    df['srcport'] = df['udp.srcport'].combine_first(df['udp.srcport'])\n",
    "    \n",
    "    temp=[]\n",
    "    for i in (df['dstport'].values):\n",
    "        temp.append(port_class(i))\n",
    "    df['dstport_class']=temp\n",
    "    \n",
    "    temp=[]\n",
    "    for i in (df['srcport'].values):\n",
    "        temp.append(port_class(i))\n",
    "    df['srcport_class']=temp\n",
    "\n",
    "\n",
    "    df['dstport'] = df['udp.dstport'].combine_first(df['udp.dstport'])\n",
    "    df['srcport'] = df['udp.srcport'].combine_first(df['udp.srcport'])\n",
    "    #df['ip.dst'] = df['ip.dst'].combine_first(df['ipv6.dst'])\n",
    "   # df['ip.src'] = df['ip.src'].combine_first(df['ipv6.src'])\n",
    "    \n",
    "    df['ip.bogus_ip_length'] = df['ip.bogus_ip_length'].combine_first(df['ipv6.hlim'])\n",
    "    df['ip.len'] = df['ip.len'].combine_first(df['ipv6.hopopts.nxt'])\n",
    "    df['ip.opt.len'] = df['ip.opt.len'].combine_first(df['ipv6.nxt'])\n",
    "    df['ip.opt.ra'] = df['ip.opt.ra'].combine_first(df['ipv6.opt.router_alert'])\n",
    "    df['ip.opt.type'] = df['ip.opt.type'].combine_first(df['ipv6.plen'])\n",
    "    df['ip.opt.type.class'] = df['ip.opt.type.class'].combine_first(df['ipv6.tclass.dscp'])\n",
    "    df['ip.opt.type.copy'] = df['ip.opt.type.copy'].combine_first(df['ipv6.tclass.ecn'])\n",
    "    df['ip.opt.type.number'] = df['ip.opt.type.number'].combine_first(df['ipv6.version'])\n",
    "    \n",
    "\n",
    "    del df['ipv6.hlim']\n",
    "    del df['ipv6.hopopts.nxt']\n",
    "    del df['ipv6.nxt']\n",
    "    del df['ipv6.opt.router_alert']\n",
    "    del df['ipv6.plen']\n",
    "    del df['ipv6.tclass.dscp']\n",
    "    del df['ipv6.tclass.ecn']\n",
    "    del df['ipv6.version']\n",
    "    df=df.fillna(-9999)\n",
    "    df[\"Label\"]=df[\"eth.src\"].replace(macs)\n",
    "    df.to_csv(name,index=False)"
   ]
  },
  {
   "cell_type": "code",
   "execution_count": null,
   "id": "2f1fe8b2-e55e-4d4b-8d10-a36bc885d6cd",
   "metadata": {},
   "outputs": [],
   "source": []
  },
  {
   "cell_type": "code",
   "execution_count": null,
   "id": "8a023095-2755-41f1-b2ad-57f630edc934",
   "metadata": {},
   "outputs": [],
   "source": []
  },
  {
   "cell_type": "code",
   "execution_count": null,
   "id": "0033d8fb-1762-4ce1-acb6-723336c166bc",
   "metadata": {},
   "outputs": [],
   "source": []
  },
  {
   "cell_type": "code",
   "execution_count": null,
   "id": "fd173787-5014-413c-b456-d85ddf2380eb",
   "metadata": {},
   "outputs": [],
   "source": []
  },
  {
   "cell_type": "code",
   "execution_count": null,
   "id": "4d7b7b26-3770-46f7-92b6-bc514a692af2",
   "metadata": {},
   "outputs": [],
   "source": [
    "!shutdown /s /t 360"
   ]
  },
  {
   "cell_type": "code",
   "execution_count": null,
   "id": "c55f9e5f-15f8-4ea9-a232-4f6221273707",
   "metadata": {},
   "outputs": [],
   "source": []
  },
  {
   "cell_type": "code",
   "execution_count": null,
   "id": "501fcb97-2455-4ff3-85c8-a778172bca0e",
   "metadata": {},
   "outputs": [],
   "source": []
  },
  {
   "cell_type": "code",
   "execution_count": null,
   "id": "72764ba8-e502-4ef7-bc12-99a09f8aa1eb",
   "metadata": {},
   "outputs": [],
   "source": []
  },
  {
   "cell_type": "code",
   "execution_count": null,
   "id": "8a7a1823-66bc-461a-a75b-c1c61a04aa7a",
   "metadata": {},
   "outputs": [],
   "source": []
  },
  {
   "cell_type": "code",
   "execution_count": null,
   "id": "8089dc37-938a-428b-8053-4fc30fdbdd10",
   "metadata": {},
   "outputs": [],
   "source": []
  },
  {
   "cell_type": "code",
   "execution_count": 15,
   "id": "3f679f79-9265-4113-b244-fa844bcba18a",
   "metadata": {},
   "outputs": [],
   "source": [
    "# SELECTED DEVICES\n",
    "macs={\n",
    "#AALTO    \n",
    "\"74:da:38:80:7a:08\":\"EdimaxCam_08\",\n",
    "\"74:da:38:80:79:fc\":\"EdimaxCam_fc\",\n",
    "\"3c:49:37:03:17:db\":\"EdnetCam_db\",\n",
    "\"3c:49:37:03:17:f0\":\"EdnetCam_f0\",\n",
    "\"94:10:3e:41:c2:05\":\"WeMoInsightSwitch_05\",\n",
    "\"94:10:3e:42:80:69\":\"WeMoInsightSwitch_69\",\n",
    "\"94:10:3e:35:01:c1\":\"WeMoSwitch_c1\",\n",
    "\"94:10:3e:34:0c:b5\":\"WeMoSwitch_b5\",\n",
    "#D-LinkIoT\n",
    "\"c4:12:f5:16:40:6e\":\"LinkSmartPlug_6e\",\n",
    "\"c4:12:f5:16:40:3b\": \"LinkSmartPlug_3b\",\n",
    "\"b2:c5:54:44:0f:a4\":\"D-LinkCam1_a4\", \n",
    "\"b2:c5:54:44:0f:11\":\"D-LinkCam2_11\",\n",
    "\"b0:c5:54:46:48:5d\": \"D-LinkDayCam1_5d\",\n",
    "\"b0:c5:54:42:8f:a6\":\"D-LinkDayCam4_a6\",\n",
    "#CIC-IoT-22\n",
    "\"b8:f0:09:03:9a:af\":\"GosundSocket_af\",\n",
    "\"50:02:91:10:09:8f\":\"GosundSocket_8f\",\n",
    "\"c4:dd:57:0c:39:94\":\"GosundPlug_94\",\n",
    "\"50:02:91:10:ac:d8\":\"GosundPlug_d8\",\n",
    "\"d4:a6:51:76:06:64\":\"TeckinPlug_64\",\n",
    "\"d4:a6:51:78:97:4e\":\"TeckinPlug_4e\",\n",
    "\"d4:a6:51:20:91:d1\":\"YutronPlug_d1\",\n",
    "\"d4:a6:51:21:6c:29\":\"YutronPlug_29\",\n",
    "\"1c:fe:2b:98:16:dd\":\"AmazonAlexaEchoDot_dd\",\n",
    "\"a0:d0:dc:c4:08:ff\":\"AmazonAlexaEchoDot_ff\"}"
   ]
  },
  {
   "cell_type": "code",
   "execution_count": 16,
   "id": "57f7e1bb-d720-4e71-828a-e080d194ac53",
   "metadata": {},
   "outputs": [],
   "source": [
    "# SELECTED DEVICES\n",
    "macs_devicegroup1={\n",
    "#AALTO    \n",
    "\"74:da:38:80:7a:08\":\"EdimaxCam_08\",\n",
    "#\"74:da:38:80:79:fc\":\"EdimaxCam_fc\",\n",
    "\"3c:49:37:03:17:db\":\"EdnetCam_db\",\n",
    "#\"3c:49:37:03:17:f0\":\"EdnetCam_f0\",\n",
    "\"94:10:3e:41:c2:05\":\"WeMoInsightSwitch_05\",\n",
    "#\"94:10:3e:42:80:69\":\"WeMoInsightSwitch_69\",\n",
    "\"94:10:3e:35:01:c1\":\"WeMoSwitch_c1\",\n",
    "#\"94:10:3e:34:0c:b5\":\"WeMoSwitch_b5\",\n",
    "#D-LinkIoT\n",
    "\"c4:12:f5:16:40:6e\":\"LinkSmartPlug_6e\",\n",
    "#\"c4:12:f5:16:40:3b\": \"LinkSmartPlug_3b\",\n",
    "\"b2:c5:54:44:0f:a4\":\"D-LinkCam1_a4\", \n",
    "#\"b2:c5:54:44:0f:11\":\"D-LinkCam2_11\",\n",
    "\"b0:c5:54:46:48:5d\": \"D-LinkDayCam1_5d\",\n",
    "#\"b0:c5:54:42:8f:a6\":\"D-LinkDayCam4_a6\",\n",
    "#CIC-IoT-22\n",
    "\"b8:f0:09:03:9a:af\":\"GosundSocket_af\",\n",
    "#\"50:02:91:10:09:8f\":\"GosundSocket_8f\",\n",
    "\"c4:dd:57:0c:39:94\":\"GosundPlug_94\",\n",
    "#\"50:02:91:10:ac:d8\":\"GosundPlug_d8\",\n",
    "\"d4:a6:51:76:06:64\":\"TeckinPlug_64\",\n",
    "#\"d4:a6:51:78:97:4e\":\"TeckinPlug_4e\",\n",
    "\"d4:a6:51:20:91:d1\":\"YutronPlug_d1\",\n",
    "#\"d4:a6:51:21:6c:29\":\"YutronPlug_29\",\n",
    "\"1c:fe:2b:98:16:dd\":\"AmazonAlexaEchoDot_dd\"\n",
    "#\"a0:d0:dc:c4:08:ff\":\"AmazonAlexaEchoDot_ff\"\n",
    "}\n",
    "\n",
    "# SELECTED DEVICES\n",
    "macs_devicegroup2={\n",
    "#AALTO    \n",
    "#\"74:da:38:80:7a:08\":\"EdimaxCam_08\",\n",
    "\"74:da:38:80:79:fc\":\"EdimaxCam_fc\",\n",
    "#\"3c:49:37:03:17:db\":\"EdnetCam_db\",\n",
    "\"3c:49:37:03:17:f0\":\"EdnetCam_f0\",\n",
    "#\"94:10:3e:41:c2:05\":\"WeMoInsightSwitch_05\",\n",
    "\"94:10:3e:42:80:69\":\"WeMoInsightSwitch_69\",\n",
    "#\"94:10:3e:35:01:c1\":\"WeMoSwitch_c1\",\n",
    "\"94:10:3e:34:0c:b5\":\"WeMoSwitch_b5\",\n",
    "#D-LinkIoT\n",
    "#\"c4:12:f5:16:40:6e\":\"LinkSmartPlug_6e\",\n",
    "\"c4:12:f5:16:40:3b\": \"LinkSmartPlug_3b\",\n",
    "#\"b2:c5:54:44:0f:a4\":\"D-LinkCam1_a4\", \n",
    "\"b2:c5:54:44:0f:11\":\"D-LinkCam2_11\",\n",
    "#\"b0:c5:54:46:48:5d\": \"D-LinkDayCam1_5d\",\n",
    "\"b0:c5:54:42:8f:a6\":\"D-LinkDayCam4_a6\",\n",
    "#CIC-IoT-22\n",
    "#\"b8:f0:09:03:9a:af\":\"GosundSocket_af\",\n",
    "\"50:02:91:10:09:8f\":\"GosundSocket_8f\",\n",
    "#\"c4:dd:57:0c:39:94\":\"GosundPlug_94\",\n",
    "\"50:02:91:10:ac:d8\":\"GosundPlug_d8\",\n",
    "#\"d4:a6:51:76:06:64\":\"TeckinPlug_64\",\n",
    "\"d4:a6:51:78:97:4e\":\"TeckinPlug_4e\",\n",
    "#\"d4:a6:51:20:91:d1\":\"YutronPlug_d1\",\n",
    "\"d4:a6:51:21:6c:29\":\"YutronPlug_29\",\n",
    "#\"1c:fe:2b:98:16:dd\":\"AmazonAlexaEchoDot_dd\",\n",
    "\"a0:d0:dc:c4:08:ff\":\"AmazonAlexaEchoDot_ff\"}"
   ]
  },
  {
   "cell_type": "code",
   "execution_count": 17,
   "id": "77786623-d1ba-4c4f-a4e6-7f6c926203be",
   "metadata": {},
   "outputs": [],
   "source": [
    "#Function that brings together disjoint csv files for ML evaluation. \n",
    "#This function also reduces the csv file size by eliminating unnecessary or unusable samples (irrelevant device names)\n",
    "\n",
    "def csv_merger(output,csvs,devices):\n",
    "    main_labels=\"dns.time,http.time,icmp.data_time_relative,icmp.resptime,stun.time,tcp.ack,tcp.ack_raw,tcp.analysis.ack_rtt,tcp.analysis.initial_rtt,tcp.analysis.rto,tcp.nxtseq,tcp.options.timestamp.tsecr,tcp.options.timestamp.tsval,tcp.seq,tcp.seq_raw,tcp.time_delta,tcp.time_relative,udp.time_delta,udp.time_relative,arp.hw.size,arp.hw.type,arp.isannouncement,arp.isgratuitous,arp.isprobe,arp.opcode,arp.proto.size,arp.seconds-since-duplicate-address-frame,dhcp.flags.bc,dhcp.hops,dhcp.hw.addr_padding,dhcp.hw.len,dhcp.option.dhcp,dhcp.option.dhcp_max_message_size,dhcp.option.end,dhcp.option.interface_mtu,dhcp.option.ip_address_lease_time,dhcp.option.padding,dhcp.option.rebinding_time_value,dhcp.option.renewal_time_value,dhcp.secs,dhcp.type,dns.count.add_rr,dns.count.answers,dns.count.auth_rr,dns.count.queries,dns.extraneous,dns.extraneous.data,dns.extraneous.length,dns.flags.authenticated,dns.flags.authoritative,dns.flags.checkdisable,dns.flags.opcode,dns.flags.rcode,dns.flags.recavail,dns.flags.recdesired,dns.flags.response,dns.flags.truncated,dns.flags.z,dns.response_to,dns.retransmission,dns.retransmit_request,dns.retransmit_request_in,dns.retransmit_response,dns.retransmit_response_in,dns.soa.expire_limit,dns.soa.minimum_ttl,dns.soa.refresh_interval,dns.soa.retry_interval,dns.soa.serial_number,dns.unsolicited,eapol.keydes.key_iv,eapol.keydes.key_len,eapol.keydes.replay_counter,eapol.keydes.type,eapol.len,eapol.type,eapol.version,eth.dst.ig,eth.dst.lg,eth.dst.oui,eth.fcs.status,eth.len,eth.padding,eth.padding_bad,eth.src.ig,eth.src.lg,eth.src.oui,http.chat,http.content_length,http.content_length_header,http.notification,http.prev_request_in,http.prev_response_in,http.request,http.request_in,http.request_number,http.response,http.response.code,http.response_number,icmp.checksum.status,icmp.code,icmp.ident,icmp.ident_le,icmp.resp_to,icmp.seq,icmp.seq_le,icmp.type,icmp.unused,icmpv6.checksum.status,icmpv6.code,icmpv6.mldr.nb_mcast_records,icmpv6.opt,icmpv6.opt.length,icmpv6.opt.type,icmpv6.reserved,icmpv6.type,igmp.checksum.status,igmp.max_resp,igmp.num_grp_recs,igmp.version,ip.bogus_ip_length,ip.len,ip.opt.len,ip.opt.ra,ip.opt.type,ip.opt.type.class,ip.opt.type.copy,ip.opt.type.number,ntp.flags.li,ntp.flags.mode,ntp.flags.vn,ntp.ppoll,ntp.precision,ntp.rootdelay,ntp.rootdispersion,ntp.stratum,stun.att.crc32.status,stun.att.error,stun.att.error.class,stun.att.lifetime,stun.attributes,stun.length,stun.network_version,stun.response-to,tcp.analysis,tcp.analysis.ack_lost_segment,tcp.analysis.acks_frame,tcp.analysis.bytes_in_flight,tcp.analysis.duplicate_ack_frame,tcp.analysis.duplicate_ack_num,tcp.analysis.flags,tcp.analysis.keep_alive,tcp.analysis.keep_alive_ack,tcp.analysis.lost_segment,tcp.analysis.out_of_order,tcp.analysis.push_bytes_sent,tcp.analysis.retransmission,tcp.analysis.reused_ports,tcp.analysis.rto_frame,tcp.analysis.spurious_retransmission,tcp.analysis.window_update,tcp.checksum.status,tcp.completeness,tcp.connection.fin,tcp.connection.fin_active,tcp.connection.fin_passive,tcp.connection.rst,tcp.connection.syn,tcp.connection.synack,tcp.dstport,tcp.fin_retransmission,tcp.flags.ack,tcp.flags.ae,tcp.flags.cwr,tcp.flags.ece,tcp.flags.fin,tcp.flags.push,tcp.flags.res,tcp.flags.reset,tcp.flags.syn,tcp.flags.urg,tcp.hdr_len,tcp.len,tcp.options.mss_val,tcp.options.sack.count,tcp.options.sack.dsack,tcp.options.sack.dsack_le,tcp.options.sack.dsack_re,tcp.options.sack_le,tcp.options.sack_perm,tcp.options.sack_re,tcp.options.wscale.multiplier,tcp.options.wscale.shift,tcp.pdu.size,tcp.reassembled.length,tcp.segment.count,tcp.segment.overlap,tcp.segments,tcp.srcport,tcp.stream,tcp.urgent_pointer,tcp.window_size,tcp.window_size_scalefactor,tcp.window_size_value,tls.alert_message,tls.change_cipher_spec,tls.handshake.certificates,tls.handshake.certificates_length,tls.handshake.challenge,tls.handshake.challenge_length,tls.handshake.cipher_spec_len,tls.handshake.cipher_suites_length,tls.handshake.ciphersuites,tls.handshake.client_point_len,tls.handshake.comp_method,tls.handshake.comp_methods,tls.handshake.comp_methods_length,tls.handshake.epms_len,tls.handshake.extension.heartbeat.mode,tls.handshake.extensions_ec_point_formats,tls.handshake.extensions_ec_point_formats_length,tls.handshake.extensions_length,tls.handshake.extensions_reneg_info_len,tls.handshake.extensions_server_name_len,tls.handshake.extensions_server_name_list_len,tls.handshake.extensions_server_name_type,tls.handshake.extensions_supported_groups,tls.handshake.extensions_supported_groups_length,tls.handshake.g_len,tls.handshake.p_len,tls.handshake.server_point_len,tls.handshake.session_id_length,tls.handshake.session_ticket_length,tls.handshake.session_ticket_lifetime_hint,tls.handshake.sig_hash_alg_len,tls.handshake.sig_hash_algs,tls.handshake.sig_len,tls.handshake.yc_len,tls.handshake.ys_len,tls.resumed,tls.sct.scts_length,udp.checksum.status,udp.dstport,udp.length,udp.length.bad,udp.possible_traceroute,udp.srcport,udp.stream,eth.dst,eth.src,_ws.col.Destination,_ws.col.Source,stun.cookie,stun.id,stun.value,tcp.options,tcp.options.mss,tcp.options.sack,tcp.options.wscale,ntp.refid,stun.att.username,arp.proto.type,dhcp.flags,dhcp.flags.reserved,dhcp.id,dns.flags,dns.id,eth.fcs,eth.type,icmp.checksum,icmpv6.checksum,igmp.checksum,igmp.type,ip.id,ipv6.flow,ipv6.tclass,ntp.flags,stun.att.crc32,stun.att.transp,stun.type,stun.type.class,stun.type.method,stun.type.method-assignment,tcp.checksum,tcp.flags,tls.handshake.server_curve_type,tls.handshake.server_named_curve,tls.handshake.version,udp.checksum,http.connection,http.request.method,http.request.uri.path,http.response.code.desc,http.response.phrase,dns.srv.proto,tcp.flags.str,_ws.col.Protocol,tls.handshake.sig_hash_alg,dhcp.hw.type,ip.dsfield,ip.flags,ipv6.opt.type,ipv6.opt.type.rest,stun.att.family,stun.att.ipv4-xord,stun.att.port-xord,tcp.segment,arp.duplicate-address-detected,arp.duplicate-address-frame,dns.srv.port,dns.srv.priority,dns.srv.weight,eth.addr.oui,eth.ig,eth.lg,ip.checksum.status,ip.dsfield.dscp,ip.dsfield.ecn,ip.flags.df,ip.flags.mf,ip.flags.rb,ip.frag_offset,ip.hdr_len,ip.proto,ip.ttl,ip.version,ipv6.opt,ipv6.opt.length,ipv6.opt.type.action,ipv6.opt.type.change,stun.att.padding,stun.att.port,stun.att.reserved,tcp.analysis.duplicate_ack,tcp.port,tls.record.length,udp.port,ip.dst,ip.src,ip.src_host,stun.att.ipv4,dhcp.hw.mac_addr,Payload_Entropy,dstport,srcport,dstport_class,srcport_class,Label\\n\"\n",
    "    ths = open(output, \"w\")\n",
    "    ths.write(main_labels)\n",
    "    for c in tqdm(csvs):\n",
    "        with open(c, \"r\") as file:\n",
    "            while True:\n",
    "                line=file.readline()\n",
    "                if line==\"\":break\n",
    "                temp=line[:-1]\n",
    "                temp=temp.split(\",\")\n",
    "                if temp[-1] in devices:\n",
    "                    ths.write(line)\n",
    "    ths.close()\n"
   ]
  },
  {
   "cell_type": "code",
   "execution_count": 18,
   "id": "f630a3ea-522c-42d6-83e7-c2482956b443",
   "metadata": {},
   "outputs": [
    {
     "name": "stderr",
     "output_type": "stream",
     "text": [
      "100%|██████████████████████████████████████████████████████████████████████████████████| 62/62 [00:43<00:00,  1.41it/s]\n",
      "100%|██████████████████████████████████████████████████████████████████████████████████| 62/62 [00:46<00:00,  1.32it/s]\n"
     ]
    }
   ],
   "source": [
    "# find all csv files in folder 1\n",
    "path=\"./csvs/1\"\n",
    "csvs=find_the_way(path,\".csv\")\n",
    "# Create the final session 1 device group 1 file by eliminating unwanted, irrelevant samples using MAC addresses (device names)\n",
    "devices=list(macs_devicegroup1.values()) #Devices names\n",
    "csv_merger(\"session-1-DeviceGroup-1.csv\",csvs,devices)\n",
    "# Create the final session 1 device group 2 file by eliminating unwanted, irrelevant samples using MAC addresses (device names)\n",
    "devices=list(macs_devicegroup2.values()) #Devices names\n",
    "csv_merger(\"session-1-DeviceGroup-2.csv\",csvs,devices)"
   ]
  },
  {
   "cell_type": "code",
   "execution_count": 19,
   "id": "ca8ce280-d86a-4c7e-9d86-c0be5cc17b09",
   "metadata": {},
   "outputs": [
    {
     "name": "stderr",
     "output_type": "stream",
     "text": [
      "100%|██████████████████████████████████████████████████████████████████████████████████| 58/58 [00:57<00:00,  1.01it/s]\n",
      "100%|██████████████████████████████████████████████████████████████████████████████████| 58/58 [01:03<00:00,  1.09s/it]\n"
     ]
    }
   ],
   "source": [
    "# find all csv files in folder 1\n",
    "path=\"./csvs/2\"\n",
    "csvs=find_the_way(path,\".csv\")\n",
    "# Create the final session 2 device group 1 file by eliminating unwanted, irrelevant samples using MAC addresses (device names)\n",
    "devices=list(macs_devicegroup1.values()) #Devices names\n",
    "csv_merger(\"session-2-DeviceGroup-1.csv\",csvs,devices)\n",
    "# Create the final session 2 device group 2 file by eliminating unwanted, irrelevant samples using MAC addresses (device names)\n",
    "devices=list(macs_devicegroup2.values()) #Devices names\n",
    "csv_merger(\"session-2-DeviceGroup-2.csv\",csvs,devices)"
   ]
  },
  {
   "cell_type": "code",
   "execution_count": null,
   "id": "fcf6c934-14d3-4cc6-ac47-3534c06c3e71",
   "metadata": {},
   "outputs": [],
   "source": [
    "def labelcleaner(output):\n",
    "    ths = open(output.replace(\".csv\",\"_.csv\"), \"w\")\n",
    "\n",
    "    with open(output, \"r\") as file:\n",
    "        while True:\n",
    "            line=file.readline()\n",
    "            if line==\"\":break\n",
    "            if not line.startswith(\"Flow\"):\n",
    "                #print(line)\n",
    "                line=line[:-3]+\"\\n\"\n",
    "                ths.write(line)\n",
    "                #print(line)\n",
    "                #break\n",
    "            else:ths.write(line)\n",
    "    ths.close()"
   ]
  },
  {
   "cell_type": "code",
   "execution_count": null,
   "id": "50516262",
   "metadata": {},
   "outputs": [],
   "source": [
    "files_add=['./session-1-DeviceGroup-1.csv',\n",
    " './session-1-DeviceGroup-2.csv',\n",
    " './session-2-DeviceGroup-1.csv',\n",
    " './session-2-DeviceGroup-2.csv']"
   ]
  },
  {
   "cell_type": "code",
   "execution_count": null,
   "id": "9130fc70",
   "metadata": {},
   "outputs": [],
   "source": [
    "for f in files_add:\n",
    "    print(f)\n",
    "    labelcleaner(f)\n",
    "    os.remove(f)\n",
    "    output=f.replace(\".csv\",\"_.csv\")\n",
    "    os.rename(output,f)"
   ]
  }
 ],
 "metadata": {
  "kernelspec": {
   "display_name": "Python 3 (ipykernel)",
   "language": "python",
   "name": "python3"
  },
  "language_info": {
   "codemirror_mode": {
    "name": "ipython",
    "version": 3
   },
   "file_extension": ".py",
   "mimetype": "text/x-python",
   "name": "python",
   "nbconvert_exporter": "python",
   "pygments_lexer": "ipython3",
   "version": "3.12.1"
  }
 },
 "nbformat": 4,
 "nbformat_minor": 5
}
