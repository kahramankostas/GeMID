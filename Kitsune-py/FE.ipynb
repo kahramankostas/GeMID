{
 "cells": [
  {
   "cell_type": "code",
   "execution_count": 1,
   "id": "4e6c4dc4",
   "metadata": {},
   "outputs": [
    {
     "name": "stdout",
     "output_type": "stream",
     "text": [
      "Importing Scapy Library\n"
     ]
    }
   ],
   "source": [
    "import os\n",
    "from tqdm import tqdm\n",
    "import pandas as pd\n",
    "import warnings\n",
    "warnings.filterwarnings(\"ignore\")\n",
    "\n",
    "from FeatureExtractor import *\n",
    "import numpy as np"
   ]
  },
  {
   "cell_type": "code",
   "execution_count": 2,
   "id": "7541dc1e",
   "metadata": {},
   "outputs": [],
   "source": [
    "def folder(f_name): #this function creates a folder named \"attacks\" in the program directory.\n",
    "    try:\n",
    "        if not os.path.exists(f_name):\n",
    "            os.makedirs(f_name)\n",
    "    except OSError:\n",
    "        print (\"Tthe folder could not be created!\")\n",
    "folder(\"csvs\")"
   ]
  },
  {
   "cell_type": "code",
   "execution_count": 3,
   "id": "2a852505",
   "metadata": {},
   "outputs": [
    {
     "data": {
      "text/plain": [
       "['./pcaps/mirai.pcap', './pcaps/mirai.pcap.tsv']"
      ]
     },
     "execution_count": 3,
     "metadata": {},
     "output_type": "execute_result"
    }
   ],
   "source": [
    "def find_the_way(path,file_format,con=\"\"):\n",
    "    files_add = []\n",
    "    # r=root, d=directories, f = files\n",
    "    for r, d, f in os.walk(path):\n",
    "        for file in f:\n",
    "            if file_format in file:\n",
    "                if con in file:\n",
    "                    files_add.append(os.path.join(r, file))  \n",
    "            \n",
    "    return files_add\n",
    "path=\"pcaps\"\n",
    "\n",
    "files_add=find_the_way('./pcaps/',\".pcap\")\n",
    "files_add"
   ]
  },
  {
   "cell_type": "code",
   "execution_count": 4,
   "id": "d37948a7",
   "metadata": {},
   "outputs": [],
   "source": [
    "main_labels=ln=['MI_dir_5_weight', 'MI_dir_5_mean', 'MI_dir_5_std', 'MI_dir_3_weight', 'MI_dir_3_mean', 'MI_dir_3_std', 'MI_dir_1_weight', 'MI_dir_1_mean', 'MI_dir_1_std', 'MI_dir_0.1_weight', 'MI_dir_0.1_mean', 'MI_dir_0.1_std', 'MI_dir_0.01_weight', 'MI_dir_0.01_mean', 'MI_dir_0.01_std', 'HH_5_weight_0', 'HH_5_mean_0', 'HH_5_std_0', 'HH_5_radius_0_1', 'HH_5_magnitude_0_1', 'HH_5_covariance_0_1', 'HH_5_pcc_0_1', 'HH_3_weight_0', 'HH_3_mean_0', 'HH_3_std_0', 'HH_3_radius_0_1', 'HH_3_magnitude_0_1', 'HH_3_covariance_0_1', 'HH_3_pcc_0_1', 'HH_1_weight_0', 'HH_1_mean_0', 'HH_1_std_0', 'HH_1_radius_0_1', 'HH_1_magnitude_0_1', 'HH_1_covariance_0_1', 'HH_1_pcc_0_1', 'HH_0.1_weight_0', 'HH_0.1_mean_0', 'HH_0.1_std_0', 'HH_0.1_radius_0_1', 'HH_0.1_magnitude_0_1', 'HH_0.1_covariance_0_1', 'HH_0.1_pcc_0_1', 'HH_0.01_weight_0', 'HH_0.01_mean_0', 'HH_0.01_std_0', 'HH_0.01_radius_0_1', 'HH_0.01_magnitude_0_1', 'HH_0.01_covariance_0_1', 'HH_0.01_pcc_0_1', 'HH_jit_5_weight', 'HH_jit_5_mean', 'HH_jit_5_std', 'HH_jit_3_weight', 'HH_jit_3_mean', 'HH_jit_3_std', 'HH_jit_1_weight', 'HH_jit_1_mean', 'HH_jit_1_std', 'HH_jit_0.1_weight', 'HH_jit_0.1_mean', 'HH_jit_0.1_std', 'HH_jit_0.01_weight', 'HH_jit_0.01_mean', 'HH_jit_0.01_std', 'HpHp_5_weight_0', 'HpHp_5_mean_0', 'HpHp_5_std_0', 'HpHp_5_radius_0_1', 'HpHp_5_magnitude_0_1', 'HpHp_5_covariance_0_1', 'HpHp_5_pcc_0_1', 'HpHp_3_weight_0', 'HpHp_3_mean_0', 'HpHp_3_std_0', 'HpHp_3_radius_0_1', 'HpHp_3_magnitude_0_1', 'HpHp_3_covariance_0_1', 'HpHp_3_pcc_0_1', 'HpHp_1_weight_0', 'HpHp_1_mean_0', 'HpHp_1_std_0', 'HpHp_1_radius_0_1', 'HpHp_1_magnitude_0_1', 'HpHp_1_covariance_0_1', 'HpHp_1_pcc_0_1', 'HpHp_0.1_weight_0', 'HpHp_0.1_mean_0', 'HpHp_0.1_std_0', 'HpHp_0.1_radius_0_1', 'HpHp_0.1_magnitude_0_1', 'HpHp_0.1_covariance_0_1', 'HpHp_0.1_pcc_0_1', 'HpHp_0.01_weight_0', 'HpHp_0.01_mean_0', 'HpHp_0.01_std_0', 'HpHp_0.01_radius_0_1', 'HpHp_0.01_magnitude_0_1', 'HpHp_0.01_covariance_0_1', 'HpHp_0.01_pcc_0_1']\n",
    "\n"
   ]
  },
  {
   "cell_type": "code",
   "execution_count": 5,
   "id": "5b00cd83",
   "metadata": {},
   "outputs": [
    {
     "data": {
      "text/plain": [
       "'MI_dir_5_weight,MI_dir_5_mean,MI_dir_5_std,MI_dir_3_weight,MI_dir_3_mean,MI_dir_3_std,MI_dir_1_weight,MI_dir_1_mean,MI_dir_1_std,MI_dir_0.1_weight,MI_dir_0.1_mean,MI_dir_0.1_std,MI_dir_0.01_weight,MI_dir_0.01_mean,MI_dir_0.01_std,HH_5_weight_0,HH_5_mean_0,HH_5_std_0,HH_5_radius_0_1,HH_5_magnitude_0_1,HH_5_covariance_0_1,HH_5_pcc_0_1,HH_3_weight_0,HH_3_mean_0,HH_3_std_0,HH_3_radius_0_1,HH_3_magnitude_0_1,HH_3_covariance_0_1,HH_3_pcc_0_1,HH_1_weight_0,HH_1_mean_0,HH_1_std_0,HH_1_radius_0_1,HH_1_magnitude_0_1,HH_1_covariance_0_1,HH_1_pcc_0_1,HH_0.1_weight_0,HH_0.1_mean_0,HH_0.1_std_0,HH_0.1_radius_0_1,HH_0.1_magnitude_0_1,HH_0.1_covariance_0_1,HH_0.1_pcc_0_1,HH_0.01_weight_0,HH_0.01_mean_0,HH_0.01_std_0,HH_0.01_radius_0_1,HH_0.01_magnitude_0_1,HH_0.01_covariance_0_1,HH_0.01_pcc_0_1,HH_jit_5_weight,HH_jit_5_mean,HH_jit_5_std,HH_jit_3_weight,HH_jit_3_mean,HH_jit_3_std,HH_jit_1_weight,HH_jit_1_mean,HH_jit_1_std,HH_jit_0.1_weight,HH_jit_0.1_mean,HH_jit_0.1_std,HH_jit_0.01_weight,HH_jit_0.01_mean,HH_jit_0.01_std,HpHp_5_weight_0,HpHp_5_mean_0,HpHp_5_std_0,HpHp_5_radius_0_1,HpHp_5_magnitude_0_1,HpHp_5_covariance_0_1,HpHp_5_pcc_0_1,HpHp_3_weight_0,HpHp_3_mean_0,HpHp_3_std_0,HpHp_3_radius_0_1,HpHp_3_magnitude_0_1,HpHp_3_covariance_0_1,HpHp_3_pcc_0_1,HpHp_1_weight_0,HpHp_1_mean_0,HpHp_1_std_0,HpHp_1_radius_0_1,HpHp_1_magnitude_0_1,HpHp_1_covariance_0_1,HpHp_1_pcc_0_1,HpHp_0.1_weight_0,HpHp_0.1_mean_0,HpHp_0.1_std_0,HpHp_0.1_radius_0_1,HpHp_0.1_magnitude_0_1,HpHp_0.1_covariance_0_1,HpHp_0.1_pcc_0_1,HpHp_0.01_weight_0,HpHp_0.01_mean_0,HpHp_0.01_std_0,HpHp_0.01_radius_0_1,HpHp_0.01_magnitude_0_1,HpHp_0.01_covariance_0_1,HpHp_0.01_pcc_0_1'"
      ]
     },
     "execution_count": 5,
     "metadata": {},
     "output_type": "execute_result"
    }
   ],
   "source": [
    "main_labels=( \",\".join( i for i in main_labels ) )\n",
    "main_labels"
   ]
  },
  {
   "cell_type": "code",
   "execution_count": 6,
   "id": "2abf025c",
   "metadata": {},
   "outputs": [],
   "source": [
    "class Kitsune:\n",
    "    def __init__(self,file_path,limit,max_autoencoder_size=10,FM_grace_period=None,AD_grace_period=10000,learning_rate=0.1,hidden_ratio=0.75,):\n",
    "        #init packet feature extractor (AfterImage)\n",
    "        self.FE = FE(file_path,limit)\n",
    "    def proc_next_packet(self):\n",
    "        # create feature vector\n",
    "        x = self.FE.get_next_vector()\n",
    "        if len(x) == 0:\n",
    "            return -1 #Error or no packets left\n",
    "        return x\n"
   ]
  },
  {
   "cell_type": "code",
   "execution_count": 7,
   "id": "94b7bff6",
   "metadata": {},
   "outputs": [],
   "source": [
    "# KitNET params:\n",
    "maxAE = 10 #maximum size for any autoencoder in the ensemble layer\n",
    "FMgrace = 5000 #the number of instances taken to learn the feature mapping (the ensemble's architecture)\n",
    "ADgrace = 50000 #the number of instances used to train the anomaly detector (ensemble itself)\n",
    "limit=np.inf"
   ]
  },
  {
   "cell_type": "code",
   "execution_count": 8,
   "id": "3c3e1929",
   "metadata": {},
   "outputs": [
    {
     "name": "stdout",
     "output_type": "stream",
     "text": [
      "Parsing with tshark...\n",
      "tshark parsing complete. File saved as: ./pcaps/mirai.pcap.tsv\n",
      "counting lines in file...\n",
      "There are 500 Packets.\n",
      "Complete. Time elapsed: 0.07843422889709473\n",
      "counting lines in file...\n",
      "There are 500 Packets.\n",
      "Complete. Time elapsed: 0.08440446853637695\n"
     ]
    }
   ],
   "source": [
    "for i in files_add: # in this section, a file is opened for each attack type and is recorded at a random benign flow.\n",
    "    temp=i.replace(\"pcap\",\"csv\")    \n",
    "    ths = open(temp, \"w\")\n",
    "    ths.write(str(main_labels)+\"\\n\")\n",
    "    \n",
    "    \n",
    "        # Build Kitsune\n",
    "    K = Kitsune(i,limit,maxAE,FMgrace,ADgrace)\n",
    "    sayac = 0\n",
    "    start = time.time()\n",
    "\n",
    "    while True:\n",
    "        sayac+=1\n",
    "        if sayac % 1000 == 0:\n",
    "            print(sayac)\n",
    "        rmse = K.proc_next_packet()\n",
    "        try:\n",
    "            if rmse==-1:\n",
    "                break\n",
    "        except:\n",
    "            temp= \",\".join( str(j) for j in rmse ) \n",
    "            ths.write(str(temp)+\"\\n\")\n",
    "            #print(rmse)\n",
    "            #print(len(rmse))\n",
    "\n",
    "    stop = time.time()\n",
    "    print(\"Complete. Time elapsed: \"+ str(stop - start))\n",
    "    ths.close()\n",
    "    \n",
    "    \n",
    "    \n",
    "    "
   ]
  }
 ],
 "metadata": {
  "kernelspec": {
   "display_name": "Python 3 (ipykernel)",
   "language": "python",
   "name": "python3"
  },
  "language_info": {
   "codemirror_mode": {
    "name": "ipython",
    "version": 3
   },
   "file_extension": ".py",
   "mimetype": "text/x-python",
   "name": "python",
   "nbconvert_exporter": "python",
   "pygments_lexer": "ipython3",
   "version": "3.11.5"
  }
 },
 "nbformat": 4,
 "nbformat_minor": 5
}
