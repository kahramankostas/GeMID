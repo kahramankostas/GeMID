{
 "cells": [
  {
   "cell_type": "markdown",
   "id": "3b11dbe4",
   "metadata": {},
   "source": [
    "Adapted from the [Kitsune](https://github.com/ymirsky/Kitsune-py). Code uses raw data with the pcap extension in the pcaps folder to create 115 customized csv files and saves them in the csvs folder.\n",
    "\n",
    "\n",
    "The Kitsune Study: \n",
    "\n",
    "* Paper: https://arxiv.org/abs/1802.09089\n",
    "* Code:  https://github.com/ymirsky/Kitsune-py\n"
   ]
  },
  {
   "cell_type": "code",
   "execution_count": 1,
   "id": "4e6c4dc4",
   "metadata": {},
   "outputs": [
    {
     "name": "stderr",
     "output_type": "stream",
     "text": [
      "C:\\Users\\kahra\\AppData\\Local\\Temp\\ipykernel_9192\\2980180834.py:3: DeprecationWarning: \n",
      "Pyarrow will become a required dependency of pandas in the next major release of pandas (pandas 3.0),\n",
      "(to allow more performant data types, such as the Arrow string type, and better interoperability with other libraries)\n",
      "but was not found to be installed on your system.\n",
      "If this would cause problems for you,\n",
      "please provide us feedback at https://github.com/pandas-dev/pandas/issues/54466\n",
      "        \n",
      "  import pandas as pd\n"
     ]
    },
    {
     "name": "stdout",
     "output_type": "stream",
     "text": [
      "Importing Scapy Library\n"
     ]
    }
   ],
   "source": [
    "import os\n",
    "from tqdm.auto import tqdm\n",
    "import pandas as pd\n",
    "import warnings\n",
    "warnings.filterwarnings(\"ignore\")\n",
    "\n",
    "from FeatureExtractor import *\n",
    "import numpy as np"
   ]
  },
  {
   "cell_type": "code",
   "execution_count": 2,
   "id": "7541dc1e",
   "metadata": {},
   "outputs": [],
   "source": [
    "def folder(f_name): #this function creates a folder named \"attacks\" in the program directory.\n",
    "    try:\n",
    "        if not os.path.exists(f_name):\n",
    "            os.makedirs(f_name)\n",
    "    except OSError:\n",
    "        print (\"Tthe folder could not be created!\")\n",
    "folder(\"csvs\")"
   ]
  },
  {
   "cell_type": "code",
   "execution_count": 3,
   "id": "2a852505",
   "metadata": {},
   "outputs": [
    {
     "data": {
      "text/plain": [
       "['./pcaps/00-16-6c-ab-6b-88.pcap',\n",
       " './pcaps/00-17-88-2b-9a-25.pcap',\n",
       " './pcaps/08-2e-5f-25-88-e5.pcap',\n",
       " './pcaps/14-cc-20-51-33-e8.pcap',\n",
       " './pcaps/14-cc-20-51-33-e9.pcap',\n",
       " './pcaps/14-cc-20-51-33-ea.pcap',\n",
       " './pcaps/18-10-29.pcap',\n",
       " './pcaps/18-b4-30-25-be-e4.pcap',\n",
       " './pcaps/18-b7-9e-02-20-44.pcap',\n",
       " './pcaps/2c-27-d7-3b-e1-05.pcap',\n",
       " './pcaps/30-8c-fb-2f-e4-b2.pcap',\n",
       " './pcaps/44-65-0d-56-cc-d3.pcap',\n",
       " './pcaps/50-c7-bf-00-56-39.pcap',\n",
       " './pcaps/70-5a-0f-e4-9b-c0.pcap',\n",
       " './pcaps/70-ee-50-03-b8-ac.pcap',\n",
       " './pcaps/74-c6-3b-29-d7-1d.pcap',\n",
       " './pcaps/7c-70-bc-5d-5e-dc.pcap',\n",
       " './pcaps/84-f3-eb-52-42-db.pcap',\n",
       " './pcaps/88-4a-ea-31-66-9d.pcap',\n",
       " './pcaps/b4-75-0e-ec-e5-a9.pcap',\n",
       " './pcaps/d0-52-a8-00-67-5e.pcap',\n",
       " './pcaps/d0-73-d5-01-83-08.pcap',\n",
       " './pcaps/e0-76-d0-33-bb-85.pcap',\n",
       " './pcaps/e0-76-d0-3f-00-ae.pcap',\n",
       " './pcaps/ec-1a-59-7a-02-c5.pcap',\n",
       " './pcaps/ec-1a-59-83-28-11.pcap',\n",
       " './pcaps/f4-f2-6d-93-51-f1.pcap',\n",
       " './pcaps/f4-f5-d8-8f-0a-3c.pcap',\n",
       " './pcaps/f4-f5-d8-d4-eb-12.pcap']"
      ]
     },
     "execution_count": 3,
     "metadata": {},
     "output_type": "execute_result"
    }
   ],
   "source": [
    "def find_the_way(path,file_format,con=\"\"):\n",
    "    files_add = []\n",
    "    # r=root, d=directories, f = files\n",
    "    for r, d, f in os.walk(path):\n",
    "        for file in f:\n",
    "            if file_format in file:\n",
    "                if con in file:\n",
    "                    files_add.append(os.path.join(r, file))  \n",
    "            \n",
    "    return files_add\n",
    "path=\"pcaps\"\n",
    "\n",
    "files_add=find_the_way('./pcaps/',\".pcap\")\n",
    "files_add"
   ]
  },
  {
   "cell_type": "code",
   "execution_count": 4,
   "id": "d37948a7",
   "metadata": {},
   "outputs": [],
   "source": [
    "main_labels=ln=['MI_dir_5_weight', 'MI_dir_5_mean', 'MI_dir_5_std', 'MI_dir_3_weight', 'MI_dir_3_mean', 'MI_dir_3_std', 'MI_dir_1_weight', 'MI_dir_1_mean', 'MI_dir_1_std', 'MI_dir_0.1_weight', 'MI_dir_0.1_mean', 'MI_dir_0.1_std', 'MI_dir_0.01_weight', 'MI_dir_0.01_mean', 'MI_dir_0.01_std', 'HH_5_weight_0', 'HH_5_mean_0', 'HH_5_std_0', 'HH_5_radius_0_1', 'HH_5_magnitude_0_1', 'HH_5_covariance_0_1', 'HH_5_pcc_0_1', 'HH_3_weight_0', 'HH_3_mean_0', 'HH_3_std_0', 'HH_3_radius_0_1', 'HH_3_magnitude_0_1', 'HH_3_covariance_0_1', 'HH_3_pcc_0_1', 'HH_1_weight_0', 'HH_1_mean_0', 'HH_1_std_0', 'HH_1_radius_0_1', 'HH_1_magnitude_0_1', 'HH_1_covariance_0_1', 'HH_1_pcc_0_1', 'HH_0.1_weight_0', 'HH_0.1_mean_0', 'HH_0.1_std_0', 'HH_0.1_radius_0_1', 'HH_0.1_magnitude_0_1', 'HH_0.1_covariance_0_1', 'HH_0.1_pcc_0_1', 'HH_0.01_weight_0', 'HH_0.01_mean_0', 'HH_0.01_std_0', 'HH_0.01_radius_0_1', 'HH_0.01_magnitude_0_1', 'HH_0.01_covariance_0_1', 'HH_0.01_pcc_0_1', 'HH_jit_5_weight', 'HH_jit_5_mean', 'HH_jit_5_std', 'HH_jit_3_weight', 'HH_jit_3_mean', 'HH_jit_3_std', 'HH_jit_1_weight', 'HH_jit_1_mean', 'HH_jit_1_std', 'HH_jit_0.1_weight', 'HH_jit_0.1_mean', 'HH_jit_0.1_std', 'HH_jit_0.01_weight', 'HH_jit_0.01_mean', 'HH_jit_0.01_std', 'HpHp_5_weight_0', 'HpHp_5_mean_0', 'HpHp_5_std_0', 'HpHp_5_radius_0_1', 'HpHp_5_magnitude_0_1', 'HpHp_5_covariance_0_1', 'HpHp_5_pcc_0_1', 'HpHp_3_weight_0', 'HpHp_3_mean_0', 'HpHp_3_std_0', 'HpHp_3_radius_0_1', 'HpHp_3_magnitude_0_1', 'HpHp_3_covariance_0_1', 'HpHp_3_pcc_0_1', 'HpHp_1_weight_0', 'HpHp_1_mean_0', 'HpHp_1_std_0', 'HpHp_1_radius_0_1', 'HpHp_1_magnitude_0_1', 'HpHp_1_covariance_0_1', 'HpHp_1_pcc_0_1', 'HpHp_0.1_weight_0', 'HpHp_0.1_mean_0', 'HpHp_0.1_std_0', 'HpHp_0.1_radius_0_1', 'HpHp_0.1_magnitude_0_1', 'HpHp_0.1_covariance_0_1', 'HpHp_0.1_pcc_0_1', 'HpHp_0.01_weight_0', 'HpHp_0.01_mean_0', 'HpHp_0.01_std_0', 'HpHp_0.01_radius_0_1', 'HpHp_0.01_magnitude_0_1', 'HpHp_0.01_covariance_0_1', 'HpHp_0.01_pcc_0_1']\n",
    "\n"
   ]
  },
  {
   "cell_type": "code",
   "execution_count": 5,
   "id": "5b00cd83",
   "metadata": {},
   "outputs": [
    {
     "data": {
      "text/plain": [
       "'MI_dir_5_weight,MI_dir_5_mean,MI_dir_5_std,MI_dir_3_weight,MI_dir_3_mean,MI_dir_3_std,MI_dir_1_weight,MI_dir_1_mean,MI_dir_1_std,MI_dir_0.1_weight,MI_dir_0.1_mean,MI_dir_0.1_std,MI_dir_0.01_weight,MI_dir_0.01_mean,MI_dir_0.01_std,HH_5_weight_0,HH_5_mean_0,HH_5_std_0,HH_5_radius_0_1,HH_5_magnitude_0_1,HH_5_covariance_0_1,HH_5_pcc_0_1,HH_3_weight_0,HH_3_mean_0,HH_3_std_0,HH_3_radius_0_1,HH_3_magnitude_0_1,HH_3_covariance_0_1,HH_3_pcc_0_1,HH_1_weight_0,HH_1_mean_0,HH_1_std_0,HH_1_radius_0_1,HH_1_magnitude_0_1,HH_1_covariance_0_1,HH_1_pcc_0_1,HH_0.1_weight_0,HH_0.1_mean_0,HH_0.1_std_0,HH_0.1_radius_0_1,HH_0.1_magnitude_0_1,HH_0.1_covariance_0_1,HH_0.1_pcc_0_1,HH_0.01_weight_0,HH_0.01_mean_0,HH_0.01_std_0,HH_0.01_radius_0_1,HH_0.01_magnitude_0_1,HH_0.01_covariance_0_1,HH_0.01_pcc_0_1,HH_jit_5_weight,HH_jit_5_mean,HH_jit_5_std,HH_jit_3_weight,HH_jit_3_mean,HH_jit_3_std,HH_jit_1_weight,HH_jit_1_mean,HH_jit_1_std,HH_jit_0.1_weight,HH_jit_0.1_mean,HH_jit_0.1_std,HH_jit_0.01_weight,HH_jit_0.01_mean,HH_jit_0.01_std,HpHp_5_weight_0,HpHp_5_mean_0,HpHp_5_std_0,HpHp_5_radius_0_1,HpHp_5_magnitude_0_1,HpHp_5_covariance_0_1,HpHp_5_pcc_0_1,HpHp_3_weight_0,HpHp_3_mean_0,HpHp_3_std_0,HpHp_3_radius_0_1,HpHp_3_magnitude_0_1,HpHp_3_covariance_0_1,HpHp_3_pcc_0_1,HpHp_1_weight_0,HpHp_1_mean_0,HpHp_1_std_0,HpHp_1_radius_0_1,HpHp_1_magnitude_0_1,HpHp_1_covariance_0_1,HpHp_1_pcc_0_1,HpHp_0.1_weight_0,HpHp_0.1_mean_0,HpHp_0.1_std_0,HpHp_0.1_radius_0_1,HpHp_0.1_magnitude_0_1,HpHp_0.1_covariance_0_1,HpHp_0.1_pcc_0_1,HpHp_0.01_weight_0,HpHp_0.01_mean_0,HpHp_0.01_std_0,HpHp_0.01_radius_0_1,HpHp_0.01_magnitude_0_1,HpHp_0.01_covariance_0_1,HpHp_0.01_pcc_0_1'"
      ]
     },
     "execution_count": 5,
     "metadata": {},
     "output_type": "execute_result"
    }
   ],
   "source": [
    "main_labels=( \",\".join( i for i in main_labels ) )\n",
    "main_labels"
   ]
  },
  {
   "cell_type": "code",
   "execution_count": 6,
   "id": "2abf025c",
   "metadata": {},
   "outputs": [],
   "source": [
    "class Kitsune:\n",
    "    def __init__(self,file_path,limit,max_autoencoder_size=10,FM_grace_period=None,AD_grace_period=10000,learning_rate=0.1,hidden_ratio=0.75,):\n",
    "        #init packet feature extractor (AfterImage)\n",
    "        self.FE = FE(file_path,limit)\n",
    "    def proc_next_packet(self):\n",
    "        # create feature vector\n",
    "        x = self.FE.get_next_vector()\n",
    "        if len(x) == 0:\n",
    "            return -1 #Error or no packets left\n",
    "        return x\n"
   ]
  },
  {
   "cell_type": "code",
   "execution_count": 7,
   "id": "64434e2d-973e-4b86-bce8-b4fa20db2abf",
   "metadata": {},
   "outputs": [],
   "source": [
    "def howmanylines(file):\n",
    "    with open(file, 'r') as fp:\n",
    "        x = len(fp.readlines())\n",
    "        return x"
   ]
  },
  {
   "cell_type": "code",
   "execution_count": 8,
   "id": "94b7bff6",
   "metadata": {},
   "outputs": [],
   "source": [
    "# KitNET params:\n",
    "maxAE = 10 #maximum size for any autoencoder in the ensemble layer\n",
    "FMgrace = 5000 #the number of instances taken to learn the feature mapping (the ensemble's architecture)\n",
    "ADgrace = 50000 #the number of instances used to train the anomaly detector (ensemble itself)\n",
    "limit=np.inf"
   ]
  },
  {
   "cell_type": "code",
   "execution_count": 9,
   "id": "c9e64ab5",
   "metadata": {},
   "outputs": [],
   "source": [
    "macrenamer={\"4c:09:d4:c6:12:7b\":\"sudoku\"}"
   ]
  },
  {
   "cell_type": "code",
   "execution_count": null,
   "id": "3c3e1929",
   "metadata": {},
   "outputs": [
    {
     "name": "stdout",
     "output_type": "stream",
     "text": [
      "Parsing with tshark...\n",
      "tshark parsing complete. File saved as: ./pcaps/00-16-6c-ab-6b-88.pcap.tsv\n",
      "counting lines in file...\n",
      "There are 39110 Packets.\n"
     ]
    },
    {
     "data": {
      "application/vnd.jupyter.widget-view+json": {
       "model_id": "0d5f7bddc2c74ee8ae14f53658ecb5d0",
       "version_major": 2,
       "version_minor": 0
      },
      "text/plain": [
       "  0%|          | 0/39110 [00:00<?, ?it/s]"
      ]
     },
     "metadata": {},
     "output_type": "display_data"
    },
    {
     "name": "stdout",
     "output_type": "stream",
     "text": [
      "Complete. Time elapsed: 131.17056679725647\n",
      "Parsing with tshark...\n",
      "tshark parsing complete. File saved as: ./pcaps/00-17-88-2b-9a-25.pcap.tsv\n",
      "counting lines in file...\n",
      "There are 48292 Packets.\n"
     ]
    },
    {
     "data": {
      "application/vnd.jupyter.widget-view+json": {
       "model_id": "a2eb8aa89ea04c16950b5c5f07ce1197",
       "version_major": 2,
       "version_minor": 0
      },
      "text/plain": [
       "  0%|          | 0/48292 [00:00<?, ?it/s]"
      ]
     },
     "metadata": {},
     "output_type": "display_data"
    },
    {
     "name": "stdout",
     "output_type": "stream",
     "text": [
      "Complete. Time elapsed: 436.55186223983765\n",
      "Parsing with tshark...\n",
      "tshark parsing complete. File saved as: ./pcaps/08-2e-5f-25-88-e5.pcap.tsv\n",
      "counting lines in file...\n",
      "There are 2394 Packets.\n"
     ]
    },
    {
     "data": {
      "application/vnd.jupyter.widget-view+json": {
       "model_id": "ef2418bde1b841eb9cf4d29eb236e406",
       "version_major": 2,
       "version_minor": 0
      },
      "text/plain": [
       "  0%|          | 0/2394 [00:00<?, ?it/s]"
      ]
     },
     "metadata": {},
     "output_type": "display_data"
    },
    {
     "name": "stdout",
     "output_type": "stream",
     "text": [
      "Complete. Time elapsed: 1.5671041011810303\n",
      "Parsing with tshark...\n",
      "tshark parsing complete. File saved as: ./pcaps/14-cc-20-51-33-e8.pcap.tsv\n",
      "counting lines in file...\n",
      "There are 14 Packets.\n"
     ]
    },
    {
     "data": {
      "application/vnd.jupyter.widget-view+json": {
       "model_id": "b000490fee3340f6965704890a5813c9",
       "version_major": 2,
       "version_minor": 0
      },
      "text/plain": [
       "  0%|          | 0/14 [00:00<?, ?it/s]"
      ]
     },
     "metadata": {},
     "output_type": "display_data"
    },
    {
     "name": "stdout",
     "output_type": "stream",
     "text": [
      "Complete. Time elapsed: 0.015700101852416992\n",
      "Parsing with tshark...\n",
      "tshark parsing complete. File saved as: ./pcaps/14-cc-20-51-33-e9.pcap.tsv\n",
      "counting lines in file...\n",
      "There are 452 Packets.\n"
     ]
    },
    {
     "data": {
      "application/vnd.jupyter.widget-view+json": {
       "model_id": "902280a1ef1f4b1997cfc5b5c0f015b6",
       "version_major": 2,
       "version_minor": 0
      },
      "text/plain": [
       "  0%|          | 0/452 [00:00<?, ?it/s]"
      ]
     },
     "metadata": {},
     "output_type": "display_data"
    },
    {
     "name": "stdout",
     "output_type": "stream",
     "text": [
      "Complete. Time elapsed: 0.2676105499267578\n",
      "Parsing with tshark...\n"
     ]
    }
   ],
   "source": [
    "for i in files_add: # in this section, a file is opened for each attack type and is recorded at a random benign flow.\n",
    "    output=i.replace(\"pcap\",\"csv\")    \n",
    "    ths = open(output, \"w\")\n",
    "    ths.write(str(main_labels)+\"\\n\")\n",
    "    \n",
    "    \n",
    "        # Build Kitsune\n",
    "    K = Kitsune(i,limit,maxAE,FMgrace,ADgrace)\n",
    "    \n",
    "    sayac = 0\n",
    "    start = time.time()\n",
    "    linenum=howmanylines(f\"{i}.tsv\")\n",
    "    pbar = tqdm(total=linenum)\n",
    "    while True:\n",
    "        sayac+=1\n",
    "        if sayac % 1000 == 0:\n",
    "            #print(sayac)\n",
    "            pbar.update(1000)\n",
    "        rmse = K.proc_next_packet()\n",
    "        try:\n",
    "            if rmse==-1:\n",
    "                break\n",
    "        except:\n",
    "            temp= \",\".join( str(j) for j in rmse ) \n",
    "            ths.write(str(temp)+\"\\n\")\n",
    "            #print(rmse)\n",
    "            #print(len(rmse))\n",
    "\n",
    "    stop = time.time()\n",
    "    print(\"Complete. Time elapsed: \"+ str(stop - start))\n",
    "    ths.close()\n",
    "    \n",
    "    output=output.replace(\".csv\",\"_label.csv\")  \n",
    "    if \" \" not in i:\n",
    "        command=f\"tshark -r {i}  -T fields -e eth.src  -E header=y -E separator=, -E quote=d -E occurrence=f >{output}\"\n",
    "    else:\n",
    "        command=f\"tshark -r \\\"{i}\\\" -T fields  -e eth.src  -E header=y -E separator=, -E quote=d -E occurrence=f >\\\"{output}\\\"\"\n",
    "    os.system(command)\n",
    "    \n",
    "    \n",
    "    df=pd.read_csv(output.replace(\"_label\",\"\"))\n",
    "    label=pd.read_csv(output)\n",
    "    \n",
    "    df[\"Label\"]=label[\"eth.src\"]\n",
    "    df[\"Label\"]=df[\"Label\"].replace(macrenamer)\n",
    "    df.to_csv(output.replace(\"_label\",\"\"),index=False)\n",
    "\n",
    "\n"
   ]
  },
  {
   "cell_type": "code",
   "execution_count": null,
   "id": "dbd5fe53-6422-4a02-a2fd-9f0bee1e91fe",
   "metadata": {},
   "outputs": [],
   "source": []
  }
 ],
 "metadata": {
  "kernelspec": {
   "display_name": "Python 3 (ipykernel)",
   "language": "python",
   "name": "python3"
  },
  "language_info": {
   "codemirror_mode": {
    "name": "ipython",
    "version": 3
   },
   "file_extension": ".py",
   "mimetype": "text/x-python",
   "name": "python",
   "nbconvert_exporter": "python",
   "pygments_lexer": "ipython3",
   "version": "3.12.1"
  }
 },
 "nbformat": 4,
 "nbformat_minor": 5
}
