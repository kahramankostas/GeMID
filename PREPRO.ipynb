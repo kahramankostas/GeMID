{
 "cells": [
  {
   "cell_type": "markdown",
   "id": "975d26a7-ad10-4a9e-b8c6-76ba213c1964",
   "metadata": {},
   "source": [
    "# FIX Dublicated, Hexedecimal and string charaters"
   ]
  },
  {
   "cell_type": "code",
   "execution_count": 24,
   "id": "9d5b53dc-6726-4e8a-8553-70d4464beb9a",
   "metadata": {},
   "outputs": [],
   "source": [
    "import os\n",
    "from tqdm import tqdm\n",
    "import pandas as pd\n",
    "import numpy as np\n",
    "import math\n",
    "import warnings\n",
    "warnings.filterwarnings(\"ignore\")"
   ]
  },
  {
   "cell_type": "code",
   "execution_count": 33,
   "id": "5cc2b630-ff8a-4be8-9a96-50b53fce9487",
   "metadata": {},
   "outputs": [],
   "source": [
    "strs={\"http_connection\": {'Close': 1, 'Keep-Alive': 2, 'close': 3, 'keep-alive': 4},\n",
    "\"http_request_method\": {'DELETE': 1, 'GET': 2, 'M-SEARCH': 3, 'NOTIFY': 4, 'POST': 5, 'PUT': 6},\n",
    "\"http_request_uri_path\": {'/agent/upgrade': 1, '/dst': 2, '/queue/getmessage': 3,\n",
    "                        '/router/firmware/query.aspx': 4, '/scale/register': 5, '/scale/validate': 6},\n",
    "\"http_response_code_desc\": {'Continue': 1, 'Not Found': 2, 'OK': 3, 'Unauthorized': 4},\n",
    " \"http_response_phrase\": {'Continue': 1, 'Not Found': 2, 'OK': 3, 'Unauthorized': 4},\n",
    "\"dns_srv_proto\": {'_dhnap': 1, '_dhnap,_http': 2, '_hap': 3, '_http': 4, '_http,_dhnap': 5, '_http,_http': 6},\n",
    "\"tcp_flags_str\": {'·······AP··F': 1, '·······AP···': 2, '·······A·R··': 3, '·······A··S·': 4,\n",
    "                '·······A···F': 5, '·······A····': 6, '·········R··': 7,  '··········S·': 8},\n",
    "\"_ws_col_Protocol\": {'EAPOL':1,'DHCP':2,'DNS':3,'TCP':4,'HTTP':5,'ICMP':6,'MDNS':7,'IGMPv3':8,'SSDP':9,'NTP':10,'HTTP/XML':11,'UDP':12,'SSLv2':13,'TLSv1':14,\n",
    "'ADwinConfig':15,'TLSv1.2':16,'ICMPv6':17,'HTTP/JSON':18,'XID':19,'TFTP':20,'NXP802.15.4SNIFFER':21,'IGMPv2':22,'A21':23,'STUN':24,'Gearman':25,\n",
    "'?KNXnet/IP':26,'UDPENCAP':27,'ESP':28,'SSL':29,'NBNS':30,'SIP':31,'BROWSER':32,'SABP':33,'ISAKMP':34,'CLASSIC-STUN':35,'Omni-Path':36,'XMPP/XML':37,\n",
    "'ULP':38,'TFPoverTCP':39,'AX4000':40,'MIH':41,'DHCPv6':42,'TDLS':43,'RTMP':44,'TCPCL':45,'IPA':46,'GQUIC':47,'0x86dd':48,'DB-LSP-DISC':49,'SSLv3':50,\n",
    "'LLMNR':51,'FB_ZERO':52,'OCSP':53,'IPv4':54,'STP':55,'SSH':56,'TLSv1.1':57,'KINK':58,'MANOLITO':59,'PKTC':60,'TELNET':61,'RTSP':62,'HCrt':63,'MPTCP':64,\n",
    "'S101':65,'IRC':66,'AJP13':67,'PMPROXY':68,'PNIO':69,'AMS':70,'ECATF':71,'LLC':72,'TZSP':73,'RSIP':74,'SSHv2':75,'DIAMETER':76,'BFDControl':77,'ASAP':78\n",
    ",'DISTCC':79,'DISTCC':79,'LISP':80,'WOW':81,'DTLSv1.0':82,'SNMP':83,'SMB2':84,'SMB':85,'NBSS':86,'UDT':87,'HiQnet':88,'POWERLINK/UDP':89\n",
    ",'RTP':90,'WebSocket':91,'NAT-PMP':92,'RTCP':93,'Syslog':94,'Portmap':95,'OpenVPN':96,'BJNP':97,'RIPv1':98,'MAC-Telnet':99,'ECHO':100,'ASF':101\n",
    ",'DAYTIME':102,'SRVLOC':103,'KRB4':104,'CAPWAP-Control':105,'XDMCP':106,'Chargen':107,'RADIUS':108,'L2TP':109,'DCERPC':110,'KPASSWD':111,'H264':112\n",
    ",'FTP':113,'FTP-DATA':114,'ENIP':115,'RIPv2':116,'ICP':117,\"BACnet-APDU\":118,\"IAX2\":119,\"RX\":120,\"HTTP2\":121,\"SIP/SDP\":122,\"TIME\":123,\n",
    "\"Elasticsearch\":124,\"RSL\":125,\"TPCP\":126,\"IPv6\":127,\"ARP\":128}}\n",
    "\n",
    "\n",
    "dubs=[\"tls.handshake.sig_hash_alg\",\n",
    "\"dhcp.hw.type\",\n",
    "\"ip.dsfield\",\n",
    "\"ip.flags\",\n",
    "\"ipv6.opt.type\",\n",
    "\"ipv6.opt.type.rest\",\n",
    "\"stun.att.family\",\n",
    "\"stun.att.ipv4-xord\",\n",
    "\"stun.att.port-xord\",\n",
    "\"tcp.segment\",\n",
    "\"arp.duplicate-address-detected\",\n",
    "\"arp.duplicate-address-frame\",\n",
    "\"dns.srv.port\",\n",
    "\"dns.srv.priority\",\n",
    "\"dns.srv.weight\",\n",
    "\"eth.addr.oui\",\n",
    "\"eth.ig\",\n",
    "\"eth.lg\",\n",
    "\"ip.checksum.status\",\n",
    "\"ip.dsfield.dscp\",\n",
    "\"ip.dsfield.ecn\",\n",
    "\"ip.flags.df\",\n",
    "\"ip.flags.mf\",\n",
    "\"ip.flags.rb\",\n",
    "\"ip.frag_offset\",\n",
    "\"ip.hdr_len\",\n",
    "\"ip.proto\",\n",
    "\"ip.ttl\",\n",
    "\"ip.version\",\n",
    "\"ipv6.opt\",\n",
    "\"ipv6.opt.length\",\n",
    "\"ipv6.opt.type.action\",\n",
    "\"ipv6.opt.type.change\",\n",
    "\"stun.att.padding\",\n",
    "\"stun.att.port\",\n",
    "\"stun.att.reserved\",\n",
    "\"tcp.analysis.duplicate_ack\",\n",
    "\"tcp.port\",\n",
    "\"tls.record.length\",\n",
    "\"udp.port\",\n",
    "\"ip.dst\",\n",
    "\"ip.src\",\n",
    "\"ip.src_host\",\n",
    "\"stun.att.ipv4\",\n",
    "\"dhcp.hw.mac_addr\"]\n",
    "\n",
    "hexvalues=[\"stun.cookie\",\n",
    "\"stun.id\",\n",
    "\"stun.value\",\n",
    "\"tcp.options\",\n",
    "\"tcp.options.mss\",\n",
    "\"tcp.options.sack\",\n",
    "\"tcp.options.wscale\",\n",
    "\"ntp.refid\",\n",
    "\"stun.att.username\",\n",
    "\"arp.proto.type\",\n",
    "\"dhcp.flags\",\n",
    "\"dhcp.flags.reserved\",\n",
    "\"dhcp.id\",\n",
    "\"dns.flags\",\n",
    "\"dns.id\",\n",
    "\"eth.fcs\",\n",
    "\"eth.type\",\n",
    "\"icmp.checksum\",\n",
    "\"icmpv6.checksum\",\n",
    "\"igmp.checksum\",\n",
    "\"igmp.type\",\n",
    "\"ip.id\",\n",
    "\"ipv6.flow\",\n",
    "\"ipv6.tclass\",\n",
    "\"ntp.flags\",\n",
    "\"stun.att.crc32\",\n",
    "\"stun.att.transp\",\n",
    "\"stun.type\",\n",
    "\"stun.type.class\",\n",
    "\"stun.type.method\",\n",
    "\"stun.type.method-assignment\",\n",
    "\"tcp.checksum\",\n",
    "\"tcp.flags\",\n",
    "\"tls.handshake.server_curve_type\",\n",
    "\"tls.handshake.server_named_curve\",\n",
    "\"tls.handshake.version\",\n",
    "\"udp.checksum\",\n",
    "\"dhcp.hw.type\",\n",
    "\"ipv6.opt.type\",\n",
    "\"ipv6.opt.type.rest\"]\n"
   ]
  },
  {
   "cell_type": "code",
   "execution_count": 34,
   "id": "23bfa525-fe5e-47a1-8d7f-de570f27bae1",
   "metadata": {},
   "outputs": [],
   "source": [
    "def find_the_way(path,file_format,con=\"\"):\n",
    "    files_add = []\n",
    "    # r=root, d=directories, f = files\n",
    "    for r, d, f in os.walk(path):\n",
    "        for file in f:\n",
    "            if file_format in file:\n",
    "                if con in file:\n",
    "                    files_add.append(os.path.join(r, file))  \n",
    "            \n",
    "    return files_add\n",
    "path=\"pcaps\"\n",
    "\n",
    "def folder(f_name): #this function creates a folder named \"attacks\" in the program directory.\n",
    "    try:\n",
    "        if not os.path.exists(f_name):\n",
    "            os.makedirs(f_name)\n",
    "    except OSError:\n",
    "        print (\"Tthe folder could not be created!\")\n"
   ]
  },
  {
   "cell_type": "code",
   "execution_count": null,
   "id": "a8a376f9-c4a2-43f2-b210-f1bafb1f5771",
   "metadata": {},
   "outputs": [],
   "source": []
  },
  {
   "cell_type": "code",
   "execution_count": 92,
   "id": "3a60cedb-4b05-4af6-b7d8-2103a42f0b21",
   "metadata": {},
   "outputs": [],
   "source": [
    "def shannon(hex_string):\n",
    "    LOG_BASE = 2\n",
    "   # We determine the frequency of each byte\n",
    "   # in the dataset and if this frequency is not null we use it for the\n",
    "   # entropy calculation.\n",
    "    try:\n",
    "        binary_data = bytes.fromhex(hex_string)\n",
    "        dataSize = len(binary_data)\n",
    "        ent = 0.0\n",
    "        freq={} \n",
    "        for c in binary_data:\n",
    "            if c in freq:\n",
    "                freq[c] += 1\n",
    "            else:\n",
    "                freq[c] = 1\n",
    "       # to determine if each possible value of a byte is in the list\n",
    "        for key in freq.keys():\n",
    "            f = float(freq[key])/dataSize\n",
    "            if f > 0: # to avoid an error for log(0)\n",
    "                ent = ent + f * math.log(f, LOG_BASE)\n",
    "    except:\n",
    "        return hex_string\n",
    "    return -ent"
   ]
  },
  {
   "cell_type": "code",
   "execution_count": 36,
   "id": "a5fb1dc7-7b33-415d-a075-55d1db73b378",
   "metadata": {},
   "outputs": [],
   "source": [
    "def port_class(port):\n",
    "    port_list=[0,53,67,68,80,123,443,1900,5353,49153]# private port list (0-Reserved,53-DNS, 67-BOOTP server, 68-BOOTP client...)\n",
    "    if port in port_list: #Is the port number in the list?\n",
    "        return port_list.index(port)+1 # return the port's index number in the list (actually with index+1)\n",
    "    elif 0 <= port <= 1023: # return 11 if the port number is in the range 0 :1023\n",
    "        return 11\n",
    "    elif  1024 <= port <= 49151 : # return 12 if the port number is in the range 1024:49151\n",
    "        return 12\n",
    "    elif 49152 <=port <= 65535 :# return 13 if the port number is in the range 49152:65535\n",
    "        return 13\n",
    "    else:# return 0 if no previous conditions are met\n",
    "        return 0\n",
    "    "
   ]
  },
  {
   "cell_type": "code",
   "execution_count": 37,
   "id": "87603e0a-f075-420f-ad8f-ae787ed32c74",
   "metadata": {},
   "outputs": [],
   "source": [
    "def comma_cleaner(val):\n",
    "    clean=[]\n",
    "    for v in val:\n",
    "        if \",\" in str(v):\n",
    "            temp=v.split(\",\")\n",
    "            temp=temp[0]\n",
    "        else:\n",
    "            temp=v\n",
    "        clean.append(temp)  \n",
    "    return clean\n"
   ]
  },
  {
   "cell_type": "code",
   "execution_count": 38,
   "id": "468fba1a-bea3-4452-8f87-e47de27017d7",
   "metadata": {},
   "outputs": [],
   "source": [
    "def hex2dec(val):\n",
    "    clean=[]\n",
    "    for v in val:\n",
    "        try:\n",
    "            \n",
    "            clean.append(int(v, 16))\n",
    "        except:\n",
    "            clean.append(temp)  \n",
    "    return clean\n"
   ]
  },
  {
   "cell_type": "code",
   "execution_count": 99,
   "id": "990f0cd9-fe73-4706-a8ab-d8bb5a8a2858",
   "metadata": {},
   "outputs": [],
   "source": [
    "df=pd.read_csv(name,sep=\"|\")"
   ]
  },
  {
   "cell_type": "code",
   "execution_count": 40,
   "id": "d53cdea0-e6df-472a-b48a-d414e67da837",
   "metadata": {},
   "outputs": [],
   "source": [
    "for d in dubs:\n",
    "    temp=df[d].values\n",
    "    temp=comma_cleaner(temp)\n",
    "    df[d]=temp"
   ]
  },
  {
   "cell_type": "code",
   "execution_count": 41,
   "id": "cb663f8d-ed9d-4787-a817-41abe55660dc",
   "metadata": {},
   "outputs": [],
   "source": [
    "for h in hexvalues:\n",
    "    temp=df[h].values\n",
    "    temp=hex2dec(temp)\n",
    "    df[h]=temp"
   ]
  },
  {
   "cell_type": "code",
   "execution_count": 44,
   "id": "c9fd2339-dea9-48cd-84b0-548665df1344",
   "metadata": {},
   "outputs": [],
   "source": [
    "str_cols=[\"http.connection\",\n",
    "\"http.request.method\",\n",
    "\"http.request.uri.path\",\n",
    "\"http.response.code.desc\",\n",
    "\"http.response.phrase\",\n",
    "\"dns.srv.proto\",\n",
    "\"tcp.flags.str\",\n",
    "\"_ws.col.Protocol\"]"
   ]
  },
  {
   "cell_type": "code",
   "execution_count": 49,
   "id": "461c113c-9393-42b5-bfd8-532feb5b85d1",
   "metadata": {},
   "outputs": [],
   "source": [
    "for i in str_cols:\n",
    "    temp=i.replace(\".\",\"_\")\n",
    "    val=df[i]\n",
    "    val=val.replace(strs[temp])\n",
    "    temp=hex2dec(temp)\n",
    "    df[i]=val"
   ]
  },
  {
   "cell_type": "code",
   "execution_count": 114,
   "id": "d0f39677-c269-4eee-81c1-a351824c2725",
   "metadata": {},
   "outputs": [],
   "source": [
    "# Sütunları birleştir\n",
    "df['Payload_Entropy'] = df[\"udp.payload\"].combine_first(df[\"tcp.payload\"])\n",
    "del df[\"udp.payload\"]\n",
    "del df[\"tcp.payload\"]\n"
   ]
  },
  {
   "cell_type": "code",
   "execution_count": 116,
   "id": "9a62a637-25f4-4286-9036-07aacb11ee73",
   "metadata": {},
   "outputs": [
    {
     "name": "stderr",
     "output_type": "stream",
     "text": [
      "100%|██████████████████████████████████████████████████████████████████████| 197763/197763 [00:00<00:00, 774117.88it/s]\n"
     ]
    }
   ],
   "source": [
    "temp=[]\n",
    "for i in tqdm(df['Payload_Entropy'].values):\n",
    "    temp.append(shannon(i))\n",
    "df['Payload_Entropy']=temp"
   ]
  },
  {
   "cell_type": "code",
   "execution_count": null,
   "id": "faf71522-a51d-4be4-bc7d-bd17ac239267",
   "metadata": {},
   "outputs": [],
   "source": []
  },
  {
   "cell_type": "code",
   "execution_count": 117,
   "id": "0654325c-1d27-4867-8971-9d06ccdb3c98",
   "metadata": {},
   "outputs": [
    {
     "name": "stderr",
     "output_type": "stream",
     "text": [
      "100%|██████████████████████████████████████████████████████████████████████| 197763/197763 [00:00<00:00, 807106.76it/s]\n",
      "100%|██████████████████████████████████████████████████████████████████████| 197763/197763 [00:00<00:00, 719265.14it/s]\n"
     ]
    }
   ],
   "source": [
    "df['dstport'] = df['udp.dstport'].combine_first(df['udp.dstport'])\n",
    "df['srcport'] = df['udp.srcport'].combine_first(df['udp.srcport'])\n",
    "\n",
    "temp=[]\n",
    "for i in tqdm(df['dstport'].values):\n",
    "    temp.append(port_class(i))\n",
    "df['dstport_class']=temp\n",
    "\n",
    "temp=[]\n",
    "for i in tqdm(df['srcport'].values):\n",
    "    temp.append(port_class(i))\n",
    "df['srcport_class']=temp"
   ]
  },
  {
   "cell_type": "code",
   "execution_count": 7,
   "id": "06b7d2ee-046a-4994-b432-48f9055f0af4",
   "metadata": {},
   "outputs": [],
   "source": [
    "df.to_csv(\"selected.csv\",index=False,sep=\"|\")"
   ]
  }
 ],
 "metadata": {
  "kernelspec": {
   "display_name": "Python 3 (ipykernel)",
   "language": "python",
   "name": "python3"
  },
  "language_info": {
   "codemirror_mode": {
    "name": "ipython",
    "version": 3
   },
   "file_extension": ".py",
   "mimetype": "text/x-python",
   "name": "python",
   "nbconvert_exporter": "python",
   "pygments_lexer": "ipython3",
   "version": "3.12.1"
  }
 },
 "nbformat": 4,
 "nbformat_minor": 5
}
