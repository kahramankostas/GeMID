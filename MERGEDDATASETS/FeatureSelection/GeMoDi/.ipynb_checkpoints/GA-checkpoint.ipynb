{
 "cells": [
  {
   "cell_type": "markdown",
   "metadata": {},
   "source": [
    "# genetic algorithm"
   ]
  },
  {
   "cell_type": "code",
   "execution_count": 5,
   "metadata": {},
   "outputs": [
    {
     "data": {
      "text/plain": [
       "['arp.hw.size',\n",
       " 'arp.hw.type',\n",
       " 'arp.opcode',\n",
       " 'arp.proto.size',\n",
       " 'arp.proto.type',\n",
       " 'dstport',\n",
       " 'dstport_class',\n",
       " 'eth.addr.oui',\n",
       " 'eth.dst.oui',\n",
       " 'eth.src.lg',\n",
       " 'eth.src.oui',\n",
       " 'eth.type',\n",
       " 'ip.flags',\n",
       " 'ip.flags.df',\n",
       " 'ip.id',\n",
       " 'ip.len',\n",
       " 'ip.proto',\n",
       " 'ip.ttl',\n",
       " 'ip.version',\n",
       " 'Payload_Entropy',\n",
       " 'srcport',\n",
       " 'srcport_class',\n",
       " 'tcp.ack',\n",
       " 'tcp.analysis.acks_frame',\n",
       " 'tcp.analysis.bytes_in_flight',\n",
       " 'tcp.analysis',\n",
       " 'tcp.analysis.initial_rtt',\n",
       " 'tcp.analysis.push_bytes_sent',\n",
       " 'tcp.checksum',\n",
       " 'tcp.checksum.status',\n",
       " 'tcp.completeness',\n",
       " 'tcp.dstport',\n",
       " 'tcp.flags.ack',\n",
       " 'tcp.flags.ae',\n",
       " 'tcp.flags',\n",
       " 'tcp.flags.cwr',\n",
       " 'tcp.flags.ece',\n",
       " 'tcp.flags.fin',\n",
       " 'tcp.flags.push',\n",
       " 'tcp.flags.res',\n",
       " 'tcp.flags.reset',\n",
       " 'tcp.flags.str',\n",
       " 'tcp.flags.syn',\n",
       " 'tcp.flags.urg',\n",
       " 'tcp.hdr_len',\n",
       " 'tcp.len',\n",
       " 'tcp.nxtseq',\n",
       " 'tcp.options.timestamp.tsecr',\n",
       " 'tcp.port',\n",
       " 'tcp.seq',\n",
       " 'tcp.seq_raw',\n",
       " 'tcp.srcport',\n",
       " 'tcp.stream',\n",
       " 'tcp.time_delta',\n",
       " 'tcp.time_relative',\n",
       " 'tcp.urgent_pointer',\n",
       " 'tcp.window_size',\n",
       " 'tcp.window_size_scalefactor',\n",
       " 'tcp.window_size_value',\n",
       " 'tls.record.length',\n",
       " 'udp.dstport',\n",
       " 'udp.length',\n",
       " 'udp.port',\n",
       " 'udp.srcport',\n",
       " 'udp.stream',\n",
       " 'udp.time_delta',\n",
       " 'udp.time_relative',\n",
       " '_ws.col.Protocol']"
      ]
     },
     "execution_count": 5,
     "metadata": {},
     "output_type": "execute_result"
    }
   ],
   "source": [
    "import pickle\n",
    "#from sklearn.ensemble import BaggingClassifier\n",
    "from sklearn.tree import DecisionTreeClassifier\n",
    "train='./small/session-1-DeviceGroup-1.csv'\n",
    "#train='./Aalto_BIG_train_IoTDevID.csv'\n",
    "vali='./small/session-2-DeviceGroup-2.csv'\n",
    "test='./small/session-1-DeviceGroup-2.csv'\n",
    "pickle_name=\"GA_input_features.pickle\"\n",
    "with open(pickle_name, 'rb') as handle:\n",
    "    GA_input_features = pickle.load(handle)\n",
    "import matplotlib.pyplot as plt\n",
    "\n",
    "import warnings\n",
    "warnings.filterwarnings(\"ignore\")\n",
    "import pandas as pd\n",
    "import pickle\n",
    "import time\n",
    "import random\n",
    "from tqdm import tqdm\n",
    "import sklearn\n",
    "import numpy as np\n",
    "from tabulate import tabulate\n",
    "GA_input_features"
   ]
  },
  {
   "cell_type": "code",
   "execution_count": 6,
   "metadata": {},
   "outputs": [],
   "source": [
    "def makePie(name):\n",
    "    df = pd.read_csv(name,usecols=[\"Label\"])#,header=None )\n",
    "    your_data = dict(df.groupby(\"Label\").size())\n",
    "\n",
    "    x = np.char.array(list(your_data.keys()))\n",
    "    y = np.array(list(your_data.values()))\n",
    "    print(your_data)\n",
    "    colors = ['yellowgreen','red','gold','lightskyblue','black','lightcoral','blue','pink', 'darkgreen','yellow','grey','violet','magenta','cyan']\n",
    "    porcent = 100.*y/y.sum()\n",
    "    \n",
    "    patches, texts = plt.pie(y,colors=colors,   startangle=90, radius=1.2)\n",
    "    labels = ['{0} - {1:1.2f} %'.format(i,j) for i,j in zip(x, porcent)]\n",
    "    \n",
    "    sort_legend = True\n",
    "    if sort_legend:\n",
    "        patches, labels, dummy =  zip(*sorted(zip(patches, labels, y),\n",
    "                                              key=lambda x: x[2],\n",
    "                                              reverse=True))\n",
    "    \n",
    "    plt.legend(patches, labels, loc= 'upper right', bbox_to_anchor=(-0.1, 1.),\n",
    "               fontsize=8)\n",
    "    plt.savefig('piechart.png', bbox_inches='tight')\n",
    "    \n",
    "    plt.show()\n"
   ]
  },
  {
   "cell_type": "code",
   "execution_count": 7,
   "metadata": {},
   "outputs": [],
   "source": [
    "file_list={\"DD1\":['./small/session-1-DeviceGroup-1.csv','./small/session-2-DeviceGroup-2.csv','./small/session-1-DeviceGroup-2.csv'],\n",
    "\"DD1T\":['./small/session-2-DeviceGroup-2.csv','./small/session-1-DeviceGroup-1.csv','./small/session-2-DeviceGroup-1.csv'],\n",
    "\"DD2\":['./small/session-2-DeviceGroup-1.csv','./small/session-1-DeviceGroup-2.csv','./small/session-2-DeviceGroup-2.csv'],\n",
    "\"DD2T\":['./small/session-1-DeviceGroup-2.csv','./small/session-2-DeviceGroup-1.csv','./small/session-1-DeviceGroup-1.csv']}"
   ]
  },
  {
   "cell_type": "code",
   "execution_count": 8,
   "metadata": {
    "scrolled": true
   },
   "outputs": [
    {
     "name": "stdout",
     "output_type": "stream",
     "text": [
      "./small/session-1-DeviceGroup-1.csv\n"
     ]
    },
    {
     "ename": "FileNotFoundError",
     "evalue": "[Errno 2] No such file or directory: './small/session-1-DeviceGroup-1.csv'",
     "output_type": "error",
     "traceback": [
      "\u001b[1;31m---------------------------------------------------------------------------\u001b[0m",
      "\u001b[1;31mFileNotFoundError\u001b[0m                         Traceback (most recent call last)",
      "Cell \u001b[1;32mIn[8], line 3\u001b[0m\n\u001b[0;32m      1\u001b[0m \u001b[38;5;28;01mfor\u001b[39;00m i \u001b[38;5;129;01min\u001b[39;00m file_list:\n\u001b[0;32m      2\u001b[0m     \u001b[38;5;28mprint\u001b[39m(file_list[i][\u001b[38;5;241m0\u001b[39m])\n\u001b[1;32m----> 3\u001b[0m     \u001b[43mmakePie\u001b[49m\u001b[43m(\u001b[49m\u001b[43mfile_list\u001b[49m\u001b[43m[\u001b[49m\u001b[43mi\u001b[49m\u001b[43m]\u001b[49m\u001b[43m[\u001b[49m\u001b[38;5;241;43m0\u001b[39;49m\u001b[43m]\u001b[49m\u001b[43m)\u001b[49m\n\u001b[0;32m      4\u001b[0m     \u001b[38;5;28mprint\u001b[39m(\u001b[38;5;124m\"\u001b[39m\u001b[38;5;124m*\u001b[39m\u001b[38;5;124m\"\u001b[39m\u001b[38;5;241m*\u001b[39m\u001b[38;5;241m130\u001b[39m)\n\u001b[0;32m      5\u001b[0m     \u001b[38;5;28mprint\u001b[39m(\u001b[38;5;124m\"\u001b[39m\u001b[38;5;130;01m\\n\u001b[39;00m\u001b[38;5;124m\"\u001b[39m\u001b[38;5;241m*\u001b[39m\u001b[38;5;241m5\u001b[39m)\n",
      "Cell \u001b[1;32mIn[6], line 2\u001b[0m, in \u001b[0;36mmakePie\u001b[1;34m(name)\u001b[0m\n\u001b[0;32m      1\u001b[0m \u001b[38;5;28;01mdef\u001b[39;00m \u001b[38;5;21mmakePie\u001b[39m(name):\n\u001b[1;32m----> 2\u001b[0m     df \u001b[38;5;241m=\u001b[39m \u001b[43mpd\u001b[49m\u001b[38;5;241;43m.\u001b[39;49m\u001b[43mread_csv\u001b[49m\u001b[43m(\u001b[49m\u001b[43mname\u001b[49m\u001b[43m,\u001b[49m\u001b[43musecols\u001b[49m\u001b[38;5;241;43m=\u001b[39;49m\u001b[43m[\u001b[49m\u001b[38;5;124;43m\"\u001b[39;49m\u001b[38;5;124;43mLabel\u001b[39;49m\u001b[38;5;124;43m\"\u001b[39;49m\u001b[43m]\u001b[49m\u001b[43m)\u001b[49m\u001b[38;5;66;03m#,header=None )\u001b[39;00m\n\u001b[0;32m      3\u001b[0m     your_data \u001b[38;5;241m=\u001b[39m \u001b[38;5;28mdict\u001b[39m(df\u001b[38;5;241m.\u001b[39mgroupby(\u001b[38;5;124m\"\u001b[39m\u001b[38;5;124mLabel\u001b[39m\u001b[38;5;124m\"\u001b[39m)\u001b[38;5;241m.\u001b[39msize())\n\u001b[0;32m      5\u001b[0m     x \u001b[38;5;241m=\u001b[39m np\u001b[38;5;241m.\u001b[39mchar\u001b[38;5;241m.\u001b[39marray(\u001b[38;5;28mlist\u001b[39m(your_data\u001b[38;5;241m.\u001b[39mkeys()))\n",
      "File \u001b[1;32m~\\AppData\\Local\\Programs\\Python\\Python312\\Lib\\site-packages\\pandas\\io\\parsers\\readers.py:1024\u001b[0m, in \u001b[0;36mread_csv\u001b[1;34m(filepath_or_buffer, sep, delimiter, header, names, index_col, usecols, dtype, engine, converters, true_values, false_values, skipinitialspace, skiprows, skipfooter, nrows, na_values, keep_default_na, na_filter, verbose, skip_blank_lines, parse_dates, infer_datetime_format, keep_date_col, date_parser, date_format, dayfirst, cache_dates, iterator, chunksize, compression, thousands, decimal, lineterminator, quotechar, quoting, doublequote, escapechar, comment, encoding, encoding_errors, dialect, on_bad_lines, delim_whitespace, low_memory, memory_map, float_precision, storage_options, dtype_backend)\u001b[0m\n\u001b[0;32m   1011\u001b[0m kwds_defaults \u001b[38;5;241m=\u001b[39m _refine_defaults_read(\n\u001b[0;32m   1012\u001b[0m     dialect,\n\u001b[0;32m   1013\u001b[0m     delimiter,\n\u001b[1;32m   (...)\u001b[0m\n\u001b[0;32m   1020\u001b[0m     dtype_backend\u001b[38;5;241m=\u001b[39mdtype_backend,\n\u001b[0;32m   1021\u001b[0m )\n\u001b[0;32m   1022\u001b[0m kwds\u001b[38;5;241m.\u001b[39mupdate(kwds_defaults)\n\u001b[1;32m-> 1024\u001b[0m \u001b[38;5;28;01mreturn\u001b[39;00m \u001b[43m_read\u001b[49m\u001b[43m(\u001b[49m\u001b[43mfilepath_or_buffer\u001b[49m\u001b[43m,\u001b[49m\u001b[43m \u001b[49m\u001b[43mkwds\u001b[49m\u001b[43m)\u001b[49m\n",
      "File \u001b[1;32m~\\AppData\\Local\\Programs\\Python\\Python312\\Lib\\site-packages\\pandas\\io\\parsers\\readers.py:618\u001b[0m, in \u001b[0;36m_read\u001b[1;34m(filepath_or_buffer, kwds)\u001b[0m\n\u001b[0;32m    615\u001b[0m _validate_names(kwds\u001b[38;5;241m.\u001b[39mget(\u001b[38;5;124m\"\u001b[39m\u001b[38;5;124mnames\u001b[39m\u001b[38;5;124m\"\u001b[39m, \u001b[38;5;28;01mNone\u001b[39;00m))\n\u001b[0;32m    617\u001b[0m \u001b[38;5;66;03m# Create the parser.\u001b[39;00m\n\u001b[1;32m--> 618\u001b[0m parser \u001b[38;5;241m=\u001b[39m \u001b[43mTextFileReader\u001b[49m\u001b[43m(\u001b[49m\u001b[43mfilepath_or_buffer\u001b[49m\u001b[43m,\u001b[49m\u001b[43m \u001b[49m\u001b[38;5;241;43m*\u001b[39;49m\u001b[38;5;241;43m*\u001b[39;49m\u001b[43mkwds\u001b[49m\u001b[43m)\u001b[49m\n\u001b[0;32m    620\u001b[0m \u001b[38;5;28;01mif\u001b[39;00m chunksize \u001b[38;5;129;01mor\u001b[39;00m iterator:\n\u001b[0;32m    621\u001b[0m     \u001b[38;5;28;01mreturn\u001b[39;00m parser\n",
      "File \u001b[1;32m~\\AppData\\Local\\Programs\\Python\\Python312\\Lib\\site-packages\\pandas\\io\\parsers\\readers.py:1618\u001b[0m, in \u001b[0;36mTextFileReader.__init__\u001b[1;34m(self, f, engine, **kwds)\u001b[0m\n\u001b[0;32m   1615\u001b[0m     \u001b[38;5;28mself\u001b[39m\u001b[38;5;241m.\u001b[39moptions[\u001b[38;5;124m\"\u001b[39m\u001b[38;5;124mhas_index_names\u001b[39m\u001b[38;5;124m\"\u001b[39m] \u001b[38;5;241m=\u001b[39m kwds[\u001b[38;5;124m\"\u001b[39m\u001b[38;5;124mhas_index_names\u001b[39m\u001b[38;5;124m\"\u001b[39m]\n\u001b[0;32m   1617\u001b[0m \u001b[38;5;28mself\u001b[39m\u001b[38;5;241m.\u001b[39mhandles: IOHandles \u001b[38;5;241m|\u001b[39m \u001b[38;5;28;01mNone\u001b[39;00m \u001b[38;5;241m=\u001b[39m \u001b[38;5;28;01mNone\u001b[39;00m\n\u001b[1;32m-> 1618\u001b[0m \u001b[38;5;28mself\u001b[39m\u001b[38;5;241m.\u001b[39m_engine \u001b[38;5;241m=\u001b[39m \u001b[38;5;28;43mself\u001b[39;49m\u001b[38;5;241;43m.\u001b[39;49m\u001b[43m_make_engine\u001b[49m\u001b[43m(\u001b[49m\u001b[43mf\u001b[49m\u001b[43m,\u001b[49m\u001b[43m \u001b[49m\u001b[38;5;28;43mself\u001b[39;49m\u001b[38;5;241;43m.\u001b[39;49m\u001b[43mengine\u001b[49m\u001b[43m)\u001b[49m\n",
      "File \u001b[1;32m~\\AppData\\Local\\Programs\\Python\\Python312\\Lib\\site-packages\\pandas\\io\\parsers\\readers.py:1878\u001b[0m, in \u001b[0;36mTextFileReader._make_engine\u001b[1;34m(self, f, engine)\u001b[0m\n\u001b[0;32m   1876\u001b[0m     \u001b[38;5;28;01mif\u001b[39;00m \u001b[38;5;124m\"\u001b[39m\u001b[38;5;124mb\u001b[39m\u001b[38;5;124m\"\u001b[39m \u001b[38;5;129;01mnot\u001b[39;00m \u001b[38;5;129;01min\u001b[39;00m mode:\n\u001b[0;32m   1877\u001b[0m         mode \u001b[38;5;241m+\u001b[39m\u001b[38;5;241m=\u001b[39m \u001b[38;5;124m\"\u001b[39m\u001b[38;5;124mb\u001b[39m\u001b[38;5;124m\"\u001b[39m\n\u001b[1;32m-> 1878\u001b[0m \u001b[38;5;28mself\u001b[39m\u001b[38;5;241m.\u001b[39mhandles \u001b[38;5;241m=\u001b[39m \u001b[43mget_handle\u001b[49m\u001b[43m(\u001b[49m\n\u001b[0;32m   1879\u001b[0m \u001b[43m    \u001b[49m\u001b[43mf\u001b[49m\u001b[43m,\u001b[49m\n\u001b[0;32m   1880\u001b[0m \u001b[43m    \u001b[49m\u001b[43mmode\u001b[49m\u001b[43m,\u001b[49m\n\u001b[0;32m   1881\u001b[0m \u001b[43m    \u001b[49m\u001b[43mencoding\u001b[49m\u001b[38;5;241;43m=\u001b[39;49m\u001b[38;5;28;43mself\u001b[39;49m\u001b[38;5;241;43m.\u001b[39;49m\u001b[43moptions\u001b[49m\u001b[38;5;241;43m.\u001b[39;49m\u001b[43mget\u001b[49m\u001b[43m(\u001b[49m\u001b[38;5;124;43m\"\u001b[39;49m\u001b[38;5;124;43mencoding\u001b[39;49m\u001b[38;5;124;43m\"\u001b[39;49m\u001b[43m,\u001b[49m\u001b[43m \u001b[49m\u001b[38;5;28;43;01mNone\u001b[39;49;00m\u001b[43m)\u001b[49m\u001b[43m,\u001b[49m\n\u001b[0;32m   1882\u001b[0m \u001b[43m    \u001b[49m\u001b[43mcompression\u001b[49m\u001b[38;5;241;43m=\u001b[39;49m\u001b[38;5;28;43mself\u001b[39;49m\u001b[38;5;241;43m.\u001b[39;49m\u001b[43moptions\u001b[49m\u001b[38;5;241;43m.\u001b[39;49m\u001b[43mget\u001b[49m\u001b[43m(\u001b[49m\u001b[38;5;124;43m\"\u001b[39;49m\u001b[38;5;124;43mcompression\u001b[39;49m\u001b[38;5;124;43m\"\u001b[39;49m\u001b[43m,\u001b[49m\u001b[43m \u001b[49m\u001b[38;5;28;43;01mNone\u001b[39;49;00m\u001b[43m)\u001b[49m\u001b[43m,\u001b[49m\n\u001b[0;32m   1883\u001b[0m \u001b[43m    \u001b[49m\u001b[43mmemory_map\u001b[49m\u001b[38;5;241;43m=\u001b[39;49m\u001b[38;5;28;43mself\u001b[39;49m\u001b[38;5;241;43m.\u001b[39;49m\u001b[43moptions\u001b[49m\u001b[38;5;241;43m.\u001b[39;49m\u001b[43mget\u001b[49m\u001b[43m(\u001b[49m\u001b[38;5;124;43m\"\u001b[39;49m\u001b[38;5;124;43mmemory_map\u001b[39;49m\u001b[38;5;124;43m\"\u001b[39;49m\u001b[43m,\u001b[49m\u001b[43m \u001b[49m\u001b[38;5;28;43;01mFalse\u001b[39;49;00m\u001b[43m)\u001b[49m\u001b[43m,\u001b[49m\n\u001b[0;32m   1884\u001b[0m \u001b[43m    \u001b[49m\u001b[43mis_text\u001b[49m\u001b[38;5;241;43m=\u001b[39;49m\u001b[43mis_text\u001b[49m\u001b[43m,\u001b[49m\n\u001b[0;32m   1885\u001b[0m \u001b[43m    \u001b[49m\u001b[43merrors\u001b[49m\u001b[38;5;241;43m=\u001b[39;49m\u001b[38;5;28;43mself\u001b[39;49m\u001b[38;5;241;43m.\u001b[39;49m\u001b[43moptions\u001b[49m\u001b[38;5;241;43m.\u001b[39;49m\u001b[43mget\u001b[49m\u001b[43m(\u001b[49m\u001b[38;5;124;43m\"\u001b[39;49m\u001b[38;5;124;43mencoding_errors\u001b[39;49m\u001b[38;5;124;43m\"\u001b[39;49m\u001b[43m,\u001b[49m\u001b[43m \u001b[49m\u001b[38;5;124;43m\"\u001b[39;49m\u001b[38;5;124;43mstrict\u001b[39;49m\u001b[38;5;124;43m\"\u001b[39;49m\u001b[43m)\u001b[49m\u001b[43m,\u001b[49m\n\u001b[0;32m   1886\u001b[0m \u001b[43m    \u001b[49m\u001b[43mstorage_options\u001b[49m\u001b[38;5;241;43m=\u001b[39;49m\u001b[38;5;28;43mself\u001b[39;49m\u001b[38;5;241;43m.\u001b[39;49m\u001b[43moptions\u001b[49m\u001b[38;5;241;43m.\u001b[39;49m\u001b[43mget\u001b[49m\u001b[43m(\u001b[49m\u001b[38;5;124;43m\"\u001b[39;49m\u001b[38;5;124;43mstorage_options\u001b[39;49m\u001b[38;5;124;43m\"\u001b[39;49m\u001b[43m,\u001b[49m\u001b[43m \u001b[49m\u001b[38;5;28;43;01mNone\u001b[39;49;00m\u001b[43m)\u001b[49m\u001b[43m,\u001b[49m\n\u001b[0;32m   1887\u001b[0m \u001b[43m\u001b[49m\u001b[43m)\u001b[49m\n\u001b[0;32m   1888\u001b[0m \u001b[38;5;28;01massert\u001b[39;00m \u001b[38;5;28mself\u001b[39m\u001b[38;5;241m.\u001b[39mhandles \u001b[38;5;129;01mis\u001b[39;00m \u001b[38;5;129;01mnot\u001b[39;00m \u001b[38;5;28;01mNone\u001b[39;00m\n\u001b[0;32m   1889\u001b[0m f \u001b[38;5;241m=\u001b[39m \u001b[38;5;28mself\u001b[39m\u001b[38;5;241m.\u001b[39mhandles\u001b[38;5;241m.\u001b[39mhandle\n",
      "File \u001b[1;32m~\\AppData\\Local\\Programs\\Python\\Python312\\Lib\\site-packages\\pandas\\io\\common.py:873\u001b[0m, in \u001b[0;36mget_handle\u001b[1;34m(path_or_buf, mode, encoding, compression, memory_map, is_text, errors, storage_options)\u001b[0m\n\u001b[0;32m    868\u001b[0m \u001b[38;5;28;01melif\u001b[39;00m \u001b[38;5;28misinstance\u001b[39m(handle, \u001b[38;5;28mstr\u001b[39m):\n\u001b[0;32m    869\u001b[0m     \u001b[38;5;66;03m# Check whether the filename is to be opened in binary mode.\u001b[39;00m\n\u001b[0;32m    870\u001b[0m     \u001b[38;5;66;03m# Binary mode does not support 'encoding' and 'newline'.\u001b[39;00m\n\u001b[0;32m    871\u001b[0m     \u001b[38;5;28;01mif\u001b[39;00m ioargs\u001b[38;5;241m.\u001b[39mencoding \u001b[38;5;129;01mand\u001b[39;00m \u001b[38;5;124m\"\u001b[39m\u001b[38;5;124mb\u001b[39m\u001b[38;5;124m\"\u001b[39m \u001b[38;5;129;01mnot\u001b[39;00m \u001b[38;5;129;01min\u001b[39;00m ioargs\u001b[38;5;241m.\u001b[39mmode:\n\u001b[0;32m    872\u001b[0m         \u001b[38;5;66;03m# Encoding\u001b[39;00m\n\u001b[1;32m--> 873\u001b[0m         handle \u001b[38;5;241m=\u001b[39m \u001b[38;5;28;43mopen\u001b[39;49m\u001b[43m(\u001b[49m\n\u001b[0;32m    874\u001b[0m \u001b[43m            \u001b[49m\u001b[43mhandle\u001b[49m\u001b[43m,\u001b[49m\n\u001b[0;32m    875\u001b[0m \u001b[43m            \u001b[49m\u001b[43mioargs\u001b[49m\u001b[38;5;241;43m.\u001b[39;49m\u001b[43mmode\u001b[49m\u001b[43m,\u001b[49m\n\u001b[0;32m    876\u001b[0m \u001b[43m            \u001b[49m\u001b[43mencoding\u001b[49m\u001b[38;5;241;43m=\u001b[39;49m\u001b[43mioargs\u001b[49m\u001b[38;5;241;43m.\u001b[39;49m\u001b[43mencoding\u001b[49m\u001b[43m,\u001b[49m\n\u001b[0;32m    877\u001b[0m \u001b[43m            \u001b[49m\u001b[43merrors\u001b[49m\u001b[38;5;241;43m=\u001b[39;49m\u001b[43merrors\u001b[49m\u001b[43m,\u001b[49m\n\u001b[0;32m    878\u001b[0m \u001b[43m            \u001b[49m\u001b[43mnewline\u001b[49m\u001b[38;5;241;43m=\u001b[39;49m\u001b[38;5;124;43m\"\u001b[39;49m\u001b[38;5;124;43m\"\u001b[39;49m\u001b[43m,\u001b[49m\n\u001b[0;32m    879\u001b[0m \u001b[43m        \u001b[49m\u001b[43m)\u001b[49m\n\u001b[0;32m    880\u001b[0m     \u001b[38;5;28;01melse\u001b[39;00m:\n\u001b[0;32m    881\u001b[0m         \u001b[38;5;66;03m# Binary mode\u001b[39;00m\n\u001b[0;32m    882\u001b[0m         handle \u001b[38;5;241m=\u001b[39m \u001b[38;5;28mopen\u001b[39m(handle, ioargs\u001b[38;5;241m.\u001b[39mmode)\n",
      "\u001b[1;31mFileNotFoundError\u001b[0m: [Errno 2] No such file or directory: './small/session-1-DeviceGroup-1.csv'"
     ]
    }
   ],
   "source": [
    "for i in file_list:\n",
    "    print(file_list[i][0])\n",
    "    makePie(file_list[i][0])\n",
    "    print(\"*\"*130)\n",
    "    print(\"\\n\"*5)"
   ]
  },
  {
   "cell_type": "code",
   "execution_count": 5,
   "metadata": {},
   "outputs": [],
   "source": [
    "from  ML_initial_test import ML\n",
    "\n",
    "fold=1\n",
    "#df=ML(GA_input_features,train,vali,test,fold)"
   ]
  },
  {
   "cell_type": "code",
   "execution_count": null,
   "metadata": {},
   "outputs": [],
   "source": []
  },
  {
   "cell_type": "code",
   "execution_count": null,
   "metadata": {},
   "outputs": [],
   "source": []
  },
  {
   "cell_type": "code",
   "execution_count": 10,
   "metadata": {},
   "outputs": [
    {
     "name": "stderr",
     "output_type": "stream",
     "text": [
      "100%|████████████████████████████████████████████████████████████████████████████████████| 1/1 [00:04<00:00,  4.08s/it]"
     ]
    },
    {
     "name": "stdout",
     "output_type": "stream",
     "text": [
      "    ML                        Vali-ACC    Vali-F1    Vali-STD    Test-ACC    Test-F1    Test-STD    Total-TIME\n",
      "--  ----------------------  ----------  ---------  ----------  ----------  ---------  ----------  ------------\n",
      " 0  DecisionTreeClassifier      0.9712      0.496       0.017       0.782     0.5097      0.0441        4.0843\n"
     ]
    },
    {
     "name": "stderr",
     "output_type": "stream",
     "text": [
      "\n"
     ]
    }
   ],
   "source": [
    "from  ML_initial_test import ML\n",
    "#ml_list={\"BaggingClassifier\":BaggingClassifier()}\n",
    "ml_list={\"DecisionTreeClassifier\":DecisionTreeClassifier()}\n",
    "\n",
    "fold=10\n",
    "df=ML(GA_input_features,train,vali,test,fold,ml_list)"
   ]
  },
  {
   "cell_type": "code",
   "execution_count": null,
   "metadata": {},
   "outputs": [],
   "source": []
  },
  {
   "cell_type": "code",
   "execution_count": 11,
   "metadata": {},
   "outputs": [],
   "source": [
    "with open(pickle_name, 'rb') as handle:\n",
    "    GA_input_features = pickle.load(handle)"
   ]
  },
  {
   "cell_type": "code",
   "execution_count": 12,
   "metadata": {},
   "outputs": [],
   "source": [
    "def FeatureMaker(f):\n",
    "    selected=[]\n",
    "    for i,ii in enumerate(f):\n",
    "        if ii:\n",
    "            selected.append(GA_input_features[i])\n",
    "    return selected"
   ]
  },
  {
   "cell_type": "code",
   "execution_count": null,
   "metadata": {},
   "outputs": [],
   "source": []
  },
  {
   "cell_type": "code",
   "execution_count": 13,
   "metadata": {},
   "outputs": [],
   "source": [
    "def ReadCSV(features,train,vali,test):\n",
    "    df = pd.read_csv(train,usecols=features)#,header=None )\n",
    "    X_train =df[df.columns[0:-1]]\n",
    "    #X_train=np.array(X_train)\n",
    "    df[df.columns[-1]] = df[df.columns[-1]].astype('category')\n",
    "    y_train=df[df.columns[-1]].cat.codes  \n",
    "    \n",
    "    df = pd.read_csv(vali,usecols=features)#,header=None )\n",
    "    X_vali =df[df.columns[0:-1]]\n",
    "    #X_test=np.array(X_test)\n",
    "    df[df.columns[-1]] = df[df.columns[-1]].astype('category')\n",
    "    y_vali=df[df.columns[-1]].cat.codes  \n",
    "    \n",
    "    df = pd.read_csv(test,usecols=features)#,header=None )\n",
    "    X_test =df[df.columns[0:-1]]\n",
    "    #X_test=np.array(X_test)\n",
    "    df[df.columns[-1]] = df[df.columns[-1]].astype('category')\n",
    "    y_test=df[df.columns[-1]].cat.codes  \n",
    "    return X_train, y_train,  X_vali, y_vali, X_test, y_test"
   ]
  },
  {
   "cell_type": "code",
   "execution_count": 14,
   "metadata": {},
   "outputs": [],
   "source": [
    "model=DecisionTreeClassifier()"
   ]
  },
  {
   "cell_type": "code",
   "execution_count": 15,
   "metadata": {},
   "outputs": [],
   "source": [
    "#defining various steps required for the genetic algorithm\n",
    "# GA adapted from https://datascienceplus.com/genetic-algorithm-in-machine-learning-using-python/\n",
    "def initilization_of_population(size,n_feat):\n",
    "    population = []\n",
    "    for i in range(size):\n",
    "        chromosome = np.ones(n_feat,dtype=np.bool_)\n",
    "        chromosome[:int(0.3*n_feat)]=False\n",
    "        np.random.shuffle(chromosome)\n",
    "        population.append(chromosome)\n",
    "    return population\n",
    "\n",
    "def fitness_score(population):\n",
    "    scores = []\n",
    "    for chromosome in population:\n",
    "        model.fit(X_train.iloc[:,chromosome],y_train)\n",
    "        predictions = model.predict(X_test.iloc[:,chromosome])\n",
    "        scores.append(sklearn.metrics.f1_score(y_test,predictions,average= \"macro\"))\n",
    "    scores, population = np.array(scores), np.array(population) \n",
    "    inds = np.argsort(scores)\n",
    "    return list(scores[inds][::-1]), list(population[inds,:][::-1])\n",
    "\n",
    "def selection(pop_after_fit,n_parents):\n",
    "    population_nextgen = []\n",
    "    for i in range(n_parents):\n",
    "        population_nextgen.append(pop_after_fit[i])\n",
    "    return population_nextgen\n",
    "\n",
    "def crossover(pop_after_sel):\n",
    "    population_nextgen=pop_after_sel\n",
    "    for i in range(len(pop_after_sel)):\n",
    "        child=pop_after_sel[i]\n",
    "        child[3:7]=pop_after_sel[(i+1)%len(pop_after_sel)][3:7]\n",
    "        population_nextgen.append(child)\n",
    "    return population_nextgen\n",
    "\n",
    "def mutation(pop_after_cross,mutation_rate):\n",
    "    population_nextgen = []\n",
    "    for i in range(0,len(pop_after_cross)):\n",
    "        chromosome = pop_after_cross[i]\n",
    "        for j in range(len(chromosome)):\n",
    "            if random.random() < mutation_rate:\n",
    "                chromosome[j]= not chromosome[j]\n",
    "        population_nextgen.append(chromosome)\n",
    "    #print(population_nextgen)\n",
    "    return population_nextgen\n",
    "\n",
    "def generations(size,n_feat,n_parents,mutation_rate,n_gen,X_train,\n",
    "                                   X_test, y_train, y_test):\n",
    "    \n",
    "    best_chromo= []\n",
    "    best_score= []\n",
    "    population_nextgen=initilization_of_population(size,n_feat)\n",
    "    for i in range(n_gen):\n",
    "        second=time.time()\n",
    "        scores, pop_after_fit = fitness_score(population_nextgen)\n",
    "        #print(scores[:2])\n",
    "        zaman=time.time()-second\n",
    "        print ('%-30s %-30s %-30s' % (np.mean(scores),np.std(scores),zaman))\n",
    "\n",
    "        pop_after_sel = selection(pop_after_fit,n_parents)\n",
    "        pop_after_cross = crossover(pop_after_sel)\n",
    "        population_nextgen = mutation(pop_after_cross,mutation_rate)\n",
    "        best_chromo.append(pop_after_fit[0])\n",
    "        best_score.append(scores[0])\n",
    "    return best_chromo,best_score"
   ]
  },
  {
   "cell_type": "code",
   "execution_count": null,
   "metadata": {},
   "outputs": [],
   "source": []
  },
  {
   "cell_type": "code",
   "execution_count": 17,
   "metadata": {},
   "outputs": [
    {
     "name": "stdout",
     "output_type": "stream",
     "text": [
      "Before GA\n"
     ]
    },
    {
     "name": "stderr",
     "output_type": "stream",
     "text": [
      "100%|████████████████████████████████████████████████████████████████████████████████████| 1/1 [00:05<00:00,  5.35s/it]\n"
     ]
    },
    {
     "name": "stdout",
     "output_type": "stream",
     "text": [
      "    ML                        Vali-ACC    Vali-F1    Vali-STD    Test-ACC    Test-F1    Test-STD    Total-TIME\n",
      "--  ----------------------  ----------  ---------  ----------  ----------  ---------  ----------  ------------\n",
      " 0  DecisionTreeClassifier      0.9712     0.4948      0.0136       0.782     0.5327      0.0376        5.3496\n",
      "\n",
      "\n",
      "MEAN                           STD                            TIME                          \n",
      "0.4945894690386507             0.021732863211637733           78.76144480705261             \n",
      "0.49368093990989065            0.018634223418098835           88.24245429039001             \n",
      "0.4928380334945076             0.02253402460898949            85.09854102134705             \n",
      "0.4914620236226239             0.02870589013699616            84.51801133155823             \n",
      "0.493709191683404              0.01648793707251197            78.98657941818237             \n",
      "0.4920801368337794             0.025632650097134328           76.25773453712463             \n",
      "0.49365163545194723            0.0200220618848558             74.19021701812744             \n",
      "0.4941477468189056             0.022307252632690535           78.26953196525574             \n",
      "0.4926194981414088             0.025793118134104846           75.33393383026123             \n",
      "0.4921854143374283             0.018802843705710063           80.05105209350586             \n",
      "0.48453528869787               0.035306089237529745           86.73449110984802             \n",
      "0.4890270481949757             0.028229835406091162           82.25689196586609             \n",
      "0.4910950694914898             0.028763175354063707           79.28563380241394             \n",
      "0.4923264154159078             0.028467341866406804           71.40962386131287             \n",
      "0.48481198472606296            0.03740494706754711            75.98443984985352             \n",
      "0.49447300476714445            0.017380596771544292           79.92859292030334             \n",
      "0.49010447731704804            0.023367953376697545           87.89623975753784             \n",
      "0.4950423896120801             0.022882558112099605           83.61369347572327             \n",
      "0.4949243773898599             0.013288485369415072           53.94598460197449             \n",
      "0.4887657874897202             0.03395942753797818            74.83503079414368             \n",
      "0.49031426460831007            0.02644716860563628            73.36600661277771             \n",
      "0.4918160503635596             0.023894125299045617           71.9542350769043              \n",
      "0.492043669247167              0.02185330224324686            72.84001612663269             \n",
      "0.49157204652465175            0.028471632757906908           72.32000732421875             \n",
      "0.49134825088809814            0.020074099224687815           72.72565746307373             \n",
      "\n",
      "\n",
      "After GA\n"
     ]
    },
    {
     "name": "stderr",
     "output_type": "stream",
     "text": [
      "100%|████████████████████████████████████████████████████████████████████████████████████| 1/1 [00:50<00:00, 50.59s/it]\n"
     ]
    },
    {
     "name": "stdout",
     "output_type": "stream",
     "text": [
      "    ML                        Vali-ACC    Vali-F1    Vali-STD    Test-ACC    Test-F1    Test-STD    Total-TIME\n",
      "--  ----------------------  ----------  ---------  ----------  ----------  ---------  ----------  ------------\n",
      " 0  DecisionTreeClassifier      0.7252     0.0012      0.0001      0.7798     0.0042      0.0004       50.5782\n",
      "\n",
      " ******************************************************************************************************************************************** \n",
      "\n",
      "\n",
      "\n",
      "\n",
      "\n",
      "Before GA\n"
     ]
    },
    {
     "name": "stderr",
     "output_type": "stream",
     "text": [
      "100%|████████████████████████████████████████████████████████████████████████████████████| 1/1 [00:07<00:00,  7.26s/it]\n"
     ]
    },
    {
     "name": "stdout",
     "output_type": "stream",
     "text": [
      "    ML                        Vali-ACC    Vali-F1    Vali-STD    Test-ACC    Test-F1    Test-STD    Total-TIME\n",
      "--  ----------------------  ----------  ---------  ----------  ----------  ---------  ----------  ------------\n",
      " 0  DecisionTreeClassifier      0.9898     0.5099      0.0123      0.5245     0.2208      0.0014        7.2591\n",
      "\n",
      "\n",
      "MEAN                           STD                            TIME                          \n",
      "0.5045474365829503             0.024782930081143392           99.08958458900452             \n",
      "0.5071499450221393             0.01864166251937406            113.3474349975586             \n",
      "0.5027377486558825             0.02767661939832877            109.61617755889893            \n",
      "0.5051504119912779             0.028293951589991602           106.7752296924591             \n",
      "0.5057757871127155             0.025317878422274533           105.51544046401978            \n",
      "0.5061757133616077             0.012183543598587632           103.73818135261536            \n",
      "0.5034493119830581             0.026023616967925933           100.82687473297119            \n",
      "0.5052374068789122             0.022413743377338154           99.89314603805542             \n",
      "0.5042267566426327             0.025003083335946242           98.77758717536926             \n",
      "0.5012138908191548             0.04221305531924097            95.29251170158386             \n",
      "0.5052509889646705             0.029096197791424066           95.32471704483032             \n",
      "0.5020698311577004             0.03486754136766231            94.644859790802               \n",
      "0.5081220349035616             0.019131134427881634           92.43476581573486             \n",
      "0.5075350978608467             0.027069973227778734           90.41494870185852             \n",
      "0.5066961237081652             0.021524127724756134           91.69964027404785             \n",
      "0.5044929010618978             0.02725562003789164            90.15654182434082             \n",
      "0.5041959590881541             0.03288514316079306            91.87594223022461             \n",
      "0.5097913356816038             0.012123354749043769           91.81058120727539             \n",
      "0.5067278503472561             0.021542558203500786           91.14638257026672             \n",
      "0.5033058313382428             0.0319431992841873             93.38352417945862             \n",
      "0.50713365994725               0.020395466314488107           92.41595244407654             \n",
      "0.5057148650134402             0.031806219234011              91.62622094154358             \n",
      "0.5049923876232871             0.03135523026291291            98.25610375404358             \n",
      "0.5067815542225232             0.024273212989889676           99.83795595169067             \n",
      "0.5061915613338633             0.02718270445545906            100.26308083534241            \n",
      "\n",
      "\n",
      "After GA\n"
     ]
    },
    {
     "name": "stderr",
     "output_type": "stream",
     "text": [
      "100%|████████████████████████████████████████████████████████████████████████████████████| 1/1 [00:04<00:00,  4.17s/it]\n"
     ]
    },
    {
     "name": "stdout",
     "output_type": "stream",
     "text": [
      "    ML                        Vali-ACC    Vali-F1    Vali-STD    Test-ACC    Test-F1    Test-STD    Total-TIME\n",
      "--  ----------------------  ----------  ---------  ----------  ----------  ---------  ----------  ------------\n",
      " 0  DecisionTreeClassifier      0.9898     0.5025      0.0075      0.5245     0.2218      0.0013        4.1732\n",
      "\n",
      " ******************************************************************************************************************************************** \n",
      "\n",
      "\n",
      "\n",
      "\n",
      "\n",
      "Before GA\n"
     ]
    },
    {
     "name": "stderr",
     "output_type": "stream",
     "text": [
      "100%|████████████████████████████████████████████████████████████████████████████████████| 1/1 [00:07<00:00,  7.44s/it]\n"
     ]
    },
    {
     "name": "stdout",
     "output_type": "stream",
     "text": [
      "    ML                        Vali-ACC    Vali-F1    Vali-STD    Test-ACC    Test-F1    Test-STD    Total-TIME\n",
      "--  ----------------------  ----------  ---------  ----------  ----------  ---------  ----------  ------------\n",
      " 0  DecisionTreeClassifier      0.9988     0.7727      0.0168      0.7251     0.2212      0.0032        7.4418\n",
      "\n",
      "\n",
      "MEAN                           STD                            TIME                          \n",
      "0.7678117352427085             0.04713521455328732            97.108651638031               \n",
      "0.7764529650177274             0.028325274725925106           106.39484548568726            \n",
      "0.7747588599169533             0.027311349449073603           108.98473453521729            \n",
      "0.7695713081815221             0.04813269227974719            103.16141366958618            \n",
      "0.7716616988114803             0.04084139177235096            97.62634801864624             \n",
      "0.7733493399398744             0.04369556802132074            93.42892456054688             \n",
      "0.7698054659618054             0.05135797438591735            91.67737531661987             \n",
      "0.7759234403642655             0.02996514791936513            87.28447413444519             \n",
      "0.7760039288842421             0.03184594432718829            85.24982810020447             \n",
      "0.7778772897177978             0.023397577459008178           85.36007261276245             \n",
      "0.7766066479949971             0.02160327539215723            83.24008297920227             \n",
      "0.7764461979716681             0.024363144065882022           83.71973466873169             \n",
      "0.773628474777492              0.036282831676803885           82.98627543449402             \n",
      "0.7759971079718853             0.031043683296631205           82.19219660758972             \n",
      "0.7664814437927829             0.056676808848069374           84.7546968460083              \n",
      "0.7724032240138989             0.044626674901598704           83.13510584831238             \n",
      "0.7666104662455557             0.06074822210284108            86.37854528427124             \n",
      "0.7729839135676017             0.038027275732047984           83.44340682029724             \n",
      "0.7761577441501849             0.03099870035449015            81.02629613876343             \n",
      "0.7760358651687208             0.03223523040624635            82.09926152229309             \n",
      "0.7735361775012997             0.03574104243629106            79.7006504535675              \n",
      "0.774560049562771              0.0331713494931875             79.37250828742981             \n",
      "0.7708815208189843             0.04109674145981617            82.43570828437805             \n",
      "0.7770975933167338             0.029521919314051796           79.5528666973114              \n",
      "0.7762212731885373             0.031476034679236514           80.43105745315552             \n",
      "\n",
      "\n",
      "After GA\n"
     ]
    },
    {
     "name": "stderr",
     "output_type": "stream",
     "text": [
      "100%|████████████████████████████████████████████████████████████████████████████████████| 1/1 [00:03<00:00,  3.54s/it]\n"
     ]
    },
    {
     "name": "stdout",
     "output_type": "stream",
     "text": [
      "    ML                        Vali-ACC    Vali-F1    Vali-STD    Test-ACC    Test-F1    Test-STD    Total-TIME\n",
      "--  ----------------------  ----------  ---------  ----------  ----------  ---------  ----------  ------------\n",
      " 0  DecisionTreeClassifier      0.8799     0.4566      0.0065      0.7641     0.2502       0.008        3.5314\n",
      "\n",
      " ******************************************************************************************************************************************** \n",
      "\n",
      "\n",
      "\n",
      "\n",
      "\n",
      "Before GA\n"
     ]
    },
    {
     "name": "stderr",
     "output_type": "stream",
     "text": [
      "100%|████████████████████████████████████████████████████████████████████████████████████| 1/1 [00:05<00:00,  5.25s/it]\n"
     ]
    },
    {
     "name": "stdout",
     "output_type": "stream",
     "text": [
      "    ML                        Vali-ACC    Vali-F1    Vali-STD    Test-ACC    Test-F1    Test-STD    Total-TIME\n",
      "--  ----------------------  ----------  ---------  ----------  ----------  ---------  ----------  ------------\n",
      " 0  DecisionTreeClassifier      0.9899     0.7442      0.0495      0.5649     0.5495      0.0077        5.2485\n",
      "\n",
      "\n",
      "MEAN                           STD                            TIME                          \n",
      "0.7573028271233069             0.04333099706897917            72.17975115776062             \n",
      "0.7556990029925555             0.05219429398953705            84.66967463493347             \n",
      "0.7594081337672752             0.04267629672810382            82.35337090492249             \n",
      "0.7570022672491362             0.04803717566066942            74.36586308479309             \n",
      "0.7588978050281118             0.057623310259068146           78.31014347076416             \n",
      "0.7645269141181117             0.03729431466033434            73.54073905944824             \n",
      "0.7546992905148274             0.05787768154422466            75.88391923904419             \n",
      "0.7637789787973153             0.03991998990480755            69.91902565956116             \n",
      "0.7680070513850957             0.036901866560293185           69.98886847496033             \n",
      "0.7628888636294339             0.04474886343183986            73.02328681945801             \n",
      "0.7626038830743413             0.052009222694168675           69.85767126083374             \n",
      "0.7615183722088038             0.05078886736270918            67.90397787094116             \n",
      "0.7554290520282485             0.06924579659001205            67.67399740219116             \n",
      "0.7634888946203141             0.04481811403864354            67.32391357421875             \n",
      "0.7651056266374596             0.039683681526364326           67.82807445526123             \n",
      "0.7647895942283983             0.05030879445454932            65.55320811271667             \n",
      "0.770157506269091              0.027149960569965548           68.9666657447815              \n",
      "0.7614134367915533             0.057292045210874026           66.93092703819275             \n",
      "0.7595490618278853             0.05190330175570198            66.63689422607422             \n",
      "0.7614126218173887             0.05701362212824084            65.81800436973572             \n",
      "0.7681083535030228             0.038834546923987155           67.5818612575531              \n",
      "0.7630986736323835             0.05165507112808675            68.03770470619202             \n",
      "0.7666922737954613             0.04231350373092891            73.90238094329834             \n",
      "0.7623116432458512             0.053830435690413216           51.37249684333801             \n",
      "0.7581386716695984             0.0600047872708752             48.3428738117218              \n",
      "\n",
      "\n",
      "After GA\n"
     ]
    },
    {
     "name": "stderr",
     "output_type": "stream",
     "text": [
      "100%|████████████████████████████████████████████████████████████████████████████████████| 1/1 [00:29<00:00, 29.73s/it]"
     ]
    },
    {
     "name": "stdout",
     "output_type": "stream",
     "text": [
      "    ML                        Vali-ACC    Vali-F1    Vali-STD    Test-ACC    Test-F1    Test-STD    Total-TIME\n",
      "--  ----------------------  ----------  ---------  ----------  ----------  ---------  ----------  ------------\n",
      " 0  DecisionTreeClassifier      0.5377     0.0009           0       0.564     0.0026           0       29.7299\n",
      "\n",
      " ******************************************************************************************************************************************** \n",
      "\n",
      "\n",
      "\n",
      "\n",
      "\n"
     ]
    },
    {
     "name": "stderr",
     "output_type": "stream",
     "text": [
      "\n"
     ]
    }
   ],
   "source": [
    "final_features=[]\n",
    "\n",
    "for i in file_list:\n",
    "    features=GA_input_features\n",
    "    train=file_list[i][0]\n",
    "    vali=file_list[i][1]\n",
    "    test=file_list[i][2]\n",
    "    X_train, y_train, X_test, y_test, X_final, y_final=ReadCSV(features,train,vali,test)\n",
    "    fold=10\n",
    "    print(\"Before GA\")\n",
    "    df=ML(GA_input_features,train,vali,test,fold,ml_list)\n",
    "    \n",
    "    print ('\\n\\n%-30s %-30s %-30s' % (\"MEAN\",\"STD\",\"TIME\"))\n",
    "    chromo,score=generations(size=200,n_feat=X_train.shape[1],n_parents=120,mutation_rate=0.05,\n",
    "                         n_gen=25,X_train=X_train,X_test=X_test,y_train=y_train,y_test=y_test)\n",
    "    print(\"\\n\\nAfter GA\")\n",
    "    selected=FeatureMaker(chromo[-1])\n",
    "    df=ML(selected,train,vali,test,fold,ml_list)\n",
    "    print(\"\\n\",\"*\"*140,\"\\n\\n\\n\\n\\n\")\n",
    "    final_features.append(selected)"
   ]
  },
  {
   "cell_type": "code",
   "execution_count": null,
   "metadata": {},
   "outputs": [],
   "source": []
  },
  {
   "cell_type": "code",
   "execution_count": null,
   "metadata": {},
   "outputs": [],
   "source": []
  },
  {
   "cell_type": "code",
   "execution_count": 18,
   "metadata": {},
   "outputs": [
    {
     "name": "stdout",
     "output_type": "stream",
     "text": [
      "98\n",
      "113\n",
      "106\n",
      "107\n"
     ]
    }
   ],
   "source": [
    "for i in final_features:\n",
    "    print(len(i))"
   ]
  },
  {
   "cell_type": "code",
   "execution_count": 19,
   "metadata": {},
   "outputs": [
    {
     "name": "stdout",
     "output_type": "stream",
     "text": [
      "Kesişim: {'stun.att.transp', 'tls.handshake.sig_hash_alg', 'ipv6.tclass', 'tcp.port', 'icmpv6.opt.length', 'icmpv6.opt.type', 'ntp.rootdispersion', 'tcp.options.sack.dsack', 'icmpv6.reserved', 'arp.isannouncement', 'tcp.options.sack.count', 'icmp.checksum.status', 'tcp.options.sack.dsack_re', 'tcp.nxtseq', 'dns.flags', 'tcp.reassembled.length', 'ip.opt.len'}\n"
     ]
    }
   ],
   "source": [
    "# Listeleri tanımla\n",
    "liste1 = final_features[0]\n",
    "liste2 = final_features[1]\n",
    "liste3 = final_features[2]\n",
    "liste4 = final_features[3]\n",
    "\n",
    "# Listeleri kümeye çevir\n",
    "kume1 = set(liste1)\n",
    "kume2 = set(liste2)\n",
    "kume3 = set(liste3)\n",
    "kume4 = set(liste4)\n",
    "\n",
    "# Kümelerin kesişimini bul\n",
    "kesisim = kume1.intersection(kume2, kume3, kume4)\n",
    "\n",
    "# Kesişim elemanlarını yazdır\n",
    "print(\"Kesişim:\", kesisim)"
   ]
  },
  {
   "cell_type": "code",
   "execution_count": null,
   "metadata": {},
   "outputs": [],
   "source": []
  },
  {
   "cell_type": "code",
   "execution_count": null,
   "metadata": {},
   "outputs": [],
   "source": [
    "len(kesisim)"
   ]
  },
  {
   "cell_type": "code",
   "execution_count": 10,
   "metadata": {},
   "outputs": [
    {
     "data": {
      "text/plain": [
       "array([ True,  True,  True,  True,  True,  True,  True,  True, False,\n",
       "        True, False,  True,  True, False, False,  True,  True,  True,\n",
       "       False,  True,  True,  True,  True, False,  True,  True,  True,\n",
       "        True, False,  True, False,  True,  True, False, False, False,\n",
       "        True,  True,  True,  True, False,  True,  True, False, False,\n",
       "       False,  True,  True,  True,  True,  True, False])"
      ]
     },
     "execution_count": 10,
     "metadata": {},
     "output_type": "execute_result"
    }
   ],
   "source": []
  },
  {
   "cell_type": "code",
   "execution_count": 11,
   "metadata": {},
   "outputs": [
    {
     "data": {
      "text/plain": [
       "52"
      ]
     },
     "execution_count": 11,
     "metadata": {},
     "output_type": "execute_result"
    }
   ],
   "source": [
    "len(chromo[-1])"
   ]
  },
  {
   "cell_type": "code",
   "execution_count": 14,
   "metadata": {},
   "outputs": [
    {
     "name": "stdout",
     "output_type": "stream",
     "text": [
      "Parametre 1: Deger1\n",
      "Parametre 2: Varsayilan Deger\n",
      "Parametre 1: Deger1\n",
      "Parametre 2: Deger2\n"
     ]
    }
   ],
   "source": [
    "def ornek_fonksiyon(parametre1, parametre2=\"Varsayilan Deger\"):\n",
    "    print(\"Parametre 1:\", parametre1)\n",
    "    print(\"Parametre 2:\", parametre2)\n",
    "\n",
    "# Fonksiyonu çağırma\n",
    "ornek_fonksiyon(\"Deger1\")  # Parametre 1: Deger1, Parametre 2: Varsayilan Deger\n",
    "ornek_fonksiyon(\"Deger1\", \"Deger2\")  # Parametre 1: Deger1, Parametre 2: Deger2"
   ]
  },
  {
   "cell_type": "code",
   "execution_count": 2,
   "metadata": {},
   "outputs": [
    {
     "ename": "NameError",
     "evalue": "name 'pd' is not defined",
     "output_type": "error",
     "traceback": [
      "\u001b[1;31m---------------------------------------------------------------------------\u001b[0m",
      "\u001b[1;31mNameError\u001b[0m                                 Traceback (most recent call last)",
      "Cell \u001b[1;32mIn[2], line 5\u001b[0m\n\u001b[0;32m      3\u001b[0m vali\u001b[38;5;241m=\u001b[39m\u001b[38;5;124m'\u001b[39m\u001b[38;5;124m./Aalto_validation_IoTDevID.csv\u001b[39m\u001b[38;5;124m'\u001b[39m\n\u001b[0;32m      4\u001b[0m test\u001b[38;5;241m=\u001b[39m\u001b[38;5;124m\"\u001b[39m\u001b[38;5;124mAalto_test_IoTDevID.csv\u001b[39m\u001b[38;5;124m\"\u001b[39m\n\u001b[1;32m----> 5\u001b[0m df \u001b[38;5;241m=\u001b[39m \u001b[43mpd\u001b[49m\u001b[38;5;241m.\u001b[39mread_csv(train,usecols\u001b[38;5;241m=\u001b[39mGA_input_features)\u001b[38;5;66;03m#,header=None )\u001b[39;00m\n\u001b[0;32m      7\u001b[0m X_train \u001b[38;5;241m=\u001b[39mdf[df\u001b[38;5;241m.\u001b[39mcolumns[\u001b[38;5;241m0\u001b[39m:\u001b[38;5;241m-\u001b[39m\u001b[38;5;241m1\u001b[39m]]\n\u001b[0;32m      8\u001b[0m \u001b[38;5;66;03m#X_train=np.array(X_train)\u001b[39;00m\n",
      "\u001b[1;31mNameError\u001b[0m: name 'pd' is not defined"
     ]
    }
   ],
   "source": [
    "train='./Aalto_train_IoTDevID.csv'\n",
    "#train='./Aalto_BIG_train_IoTDevID.csv'\n",
    "vali='./Aalto_validation_IoTDevID.csv'\n",
    "test=\"Aalto_test_IoTDevID.csv\"\n",
    "df = pd.read_csv(train,usecols=GA_input_features)#,header=None )\n",
    "\n",
    "X_train =df[df.columns[0:-1]]\n",
    "#X_train=np.array(X_train)\n",
    "df[df.columns[-1]] = df[df.columns[-1]].astype('category')\n",
    "y_train=df[df.columns[-1]].cat.codes  "
   ]
  },
  {
   "cell_type": "code",
   "execution_count": 1,
   "metadata": {},
   "outputs": [],
   "source": [
    "import warnings\n",
    "warnings.filterwarnings(\"ignore\")\n",
    "import pandas as pd\n",
    "import pickle\n",
    "import time\n",
    "from tqdm import tqdm\n",
    "import sklearn\n",
    "import numpy as np\n",
    "from tabulate import tabulate"
   ]
  },
  {
   "cell_type": "code",
   "execution_count": 2,
   "metadata": {},
   "outputs": [],
   "source": [
    "with open('GA_input_features.pickle', 'rb') as handle:\n",
    "    GA_input_features = pickle.load(handle)"
   ]
  },
  {
   "cell_type": "code",
   "execution_count": 3,
   "metadata": {},
   "outputs": [
    {
     "name": "stdout",
     "output_type": "stream",
     "text": [
      "(62923, 52) (20971, 52) (19932, 52) (62923,) (20971,) (19932,)\n"
     ]
    }
   ],
   "source": [
    "\n",
    "train='./Aalto_train_IoTDevID.csv'\n",
    "#train='./Aalto_BIG_train_IoTDevID.csv'\n",
    "vali='./Aalto_validation_IoTDevID.csv'\n",
    "test=\"Aalto_test_IoTDevID.csv\"\n",
    "df = pd.read_csv(train,usecols=GA_input_features)#,header=None )\n",
    "\n",
    "X_train =df[df.columns[0:-1]]\n",
    "#X_train=np.array(X_train)\n",
    "df[df.columns[-1]] = df[df.columns[-1]].astype('category')\n",
    "y_train=df[df.columns[-1]].cat.codes  \n",
    "\n",
    "df = pd.read_csv(vali,usecols=GA_input_features)#,header=None )\n",
    "X_vali =df[df.columns[0:-1]]\n",
    "#X_test=np.array(X_test)\n",
    "df[df.columns[-1]] = df[df.columns[-1]].astype('category')\n",
    "y_vali=df[df.columns[-1]].cat.codes  \n",
    "\n",
    "df = pd.read_csv(test,usecols=GA_input_features)#,header=None )\n",
    "X_test =df[df.columns[0:-1]]\n",
    "#X_test=np.array(X_test)\n",
    "df[df.columns[-1]] = df[df.columns[-1]].astype('category')\n",
    "y_test=df[df.columns[-1]].cat.codes  \n",
    "\n",
    "\n",
    "print(X_train.shape,\n",
    "X_vali.shape,\n",
    "      X_test.shape,\n",
    "\n",
    "y_train.shape,\n",
    "y_vali.shape ,y_test.shape)"
   ]
  },
  {
   "cell_type": "code",
   "execution_count": 4,
   "metadata": {},
   "outputs": [],
   "source": [
    "from sklearn.tree import ExtraTreeClassifier\n",
    "from sklearn.tree import DecisionTreeClassifier\n",
    "from sklearn.svm import OneClassSVM\n",
    "from sklearn.experimental import enable_hist_gradient_boosting  # noqa\n",
    "from sklearn.ensemble import HistGradientBoostingClassifier\n",
    "from sklearn.neural_network import MLPClassifier\n",
    "from sklearn.neighbors import RadiusNeighborsClassifier\n",
    "from sklearn.neighbors import KNeighborsClassifier\n",
    "from sklearn.multioutput import ClassifierChain\n",
    "from sklearn.multioutput import MultiOutputClassifier\n",
    "from sklearn.multiclass import OutputCodeClassifier\n",
    "from sklearn.multiclass import OneVsOneClassifier\n",
    "from sklearn.multiclass import OneVsRestClassifier\n",
    "from sklearn.linear_model import SGDClassifier\n",
    "from sklearn.linear_model import RidgeClassifierCV\n",
    "from sklearn.linear_model import RidgeClassifier\n",
    "from sklearn.linear_model import PassiveAggressiveClassifier    \n",
    "from sklearn.gaussian_process import GaussianProcessClassifier\n",
    "from sklearn.ensemble import AdaBoostClassifier\n",
    "from sklearn.ensemble import GradientBoostingClassifier\n",
    "from sklearn.ensemble import BaggingClassifier\n",
    "from sklearn.ensemble import ExtraTreesClassifier\n",
    "from sklearn.ensemble import RandomForestClassifier\n",
    "from sklearn.naive_bayes import BernoulliNB\n",
    "from sklearn.naive_bayes import CategoricalNB\n",
    "from sklearn.naive_bayes import  ComplementNB\n",
    "from sklearn.calibration import CalibratedClassifierCV\n",
    "from sklearn.naive_bayes import GaussianNB\n",
    "from sklearn.semi_supervised import LabelPropagation\n",
    "from sklearn.semi_supervised import LabelSpreading\n",
    "from sklearn.discriminant_analysis import LinearDiscriminantAnalysis\n",
    "from sklearn.svm import LinearSVC\n",
    "from sklearn.linear_model import LogisticRegression\n",
    "from sklearn.linear_model import LogisticRegressionCV\n",
    "from sklearn.naive_bayes import MultinomialNB  \n",
    "from sklearn.neighbors import NearestCentroid\n",
    "from sklearn.svm import NuSVC\n",
    "from sklearn.linear_model import Perceptron\n",
    "from sklearn.discriminant_analysis import QuadraticDiscriminantAnalysis\n",
    "from sklearn.svm import SVC\n",
    "from sklearn.model_selection import train_test_split\n",
    "from sklearn.dummy import DummyClassifier"
   ]
  },
  {
   "cell_type": "code",
   "execution_count": 5,
   "metadata": {},
   "outputs": [],
   "source": [
    "ml_list={\"ExtraTreeClassifier\":ExtraTreeClassifier(),\n",
    "\"DecisionTreeClassifier\":DecisionTreeClassifier(),\n",
    "#\"OneClassSVM\":OneClassSVM(),\n",
    "#\"MLPClassifier\":MLPClassifier(),\n",
    "\"ComplementNB\":ComplementNB(),\n",
    "\"DummyClassifier\":DummyClassifier(),         \n",
    "\"RadiusNeighborsClassifier\":RadiusNeighborsClassifier(),\n",
    "\"KNeighborsClassifier\":KNeighborsClassifier(),\n",
    "\"ClassifierChain\":ClassifierChain(base_estimator=DecisionTreeClassifier()),\n",
    "\"MultiOutputClassifier\":MultiOutputClassifier(estimator=DecisionTreeClassifier()),\n",
    "\"OutputCodeClassifier\":OutputCodeClassifier(estimator=DecisionTreeClassifier()),\n",
    "\"OneVsOneClassifier\":OneVsOneClassifier(estimator=DecisionTreeClassifier()),\n",
    "\"OneVsRestClassifier\":OneVsRestClassifier(estimator=DecisionTreeClassifier()),\n",
    "#\"SGDClassifier\":SGDClassifier(),\n",
    "\"RidgeClassifierCV\":RidgeClassifierCV(),\n",
    "\"RidgeClassifier\":RidgeClassifier(),\n",
    "\"PassiveAggressiveClassifier    \":PassiveAggressiveClassifier    (),\n",
    "#\"GaussianProcessClassifier\":GaussianProcessClassifier(),\n",
    "\"AdaBoostClassifier\":AdaBoostClassifier(),\n",
    "#\"GradientBoostingClassifier\":GradientBoostingClassifier(),\n",
    "\"BaggingClassifier\":BaggingClassifier(),\n",
    "\"ExtraTreesClassifier\":ExtraTreesClassifier(),\n",
    "\"RandomForestClassifier\":RandomForestClassifier(),\n",
    "\"BernoulliNB\":BernoulliNB(),\n",
    "#\"CalibratedClassifierCV\":CalibratedClassifierCV(),\n",
    "\"GaussianNB\":GaussianNB(),\n",
    "\"LabelPropagation\":LabelPropagation(),\n",
    "\"LabelSpreading\":LabelSpreading(),\n",
    "\"LinearDiscriminantAnalysis\":LinearDiscriminantAnalysis(),\n",
    "#\"LinearSVC\":LinearSVC(),\n",
    "\"LogisticRegression\":LogisticRegression(),\n",
    "#\"LogisticRegressionCV\":LogisticRegressionCV(),\n",
    "\"MultinomialNB  \":MultinomialNB  (),\n",
    "\"NearestCentroid\":NearestCentroid(),\n",
    "\"NuSVC\":NuSVC(),\n",
    "\"Perceptron\":Perceptron(),\n",
    "\"QuadraticDiscriminantAnalysis\":QuadraticDiscriminantAnalysis(),\n",
    "#\"SVC\":SVC(),\n",
    "#\"HistGradientBoostingClassifier\":HistGradientBoostingClassifier(),\n",
    "\"CategoricalNB\" : CategoricalNB()}\n"
   ]
  },
  {
   "cell_type": "code",
   "execution_count": 6,
   "metadata": {},
   "outputs": [
    {
     "name": "stderr",
     "output_type": "stream",
     "text": [
      " 17%|█████████████▊                                                                     | 5/30 [00:01<00:06,  3.66it/s]"
     ]
    },
    {
     "name": "stdout",
     "output_type": "stream",
     "text": [
      "ML                             F1 Score                       TIME                          \n",
      "RadiusNeighborsClassifier      ERROR                          0.9151864051818848            \n"
     ]
    },
    {
     "name": "stderr",
     "output_type": "stream",
     "text": [
      " 20%|████████████████▌                                                                  | 6/30 [00:09<00:54,  2.27s/it]"
     ]
    },
    {
     "name": "stdout",
     "output_type": "stream",
     "text": [
      "ClassifierChain                ERROR                          0.010268688201904297          \n",
      "MultiOutputClassifier          ERROR                          0.0                           \n"
     ]
    },
    {
     "name": "stderr",
     "output_type": "stream",
     "text": [
      " 67%|██████████████████████████████████████████████████████▋                           | 20/30 [01:18<00:37,  3.72s/it]"
     ]
    },
    {
     "name": "stdout",
     "output_type": "stream",
     "text": [
      "LabelPropagation               ERROR                          0.03358936309814453           \n",
      "LabelSpreading                 ERROR                          0.028523683547973633          \n"
     ]
    },
    {
     "name": "stderr",
     "output_type": "stream",
     "text": [
      " 87%|███████████████████████████████████████████████████████████████████████           | 26/30 [01:27<00:07,  1.89s/it]"
     ]
    },
    {
     "name": "stdout",
     "output_type": "stream",
     "text": [
      "NuSVC                          ERROR                          0.06484293937683105           \n"
     ]
    },
    {
     "name": "stderr",
     "output_type": "stream",
     "text": [
      "100%|██████████████████████████████████████████████████████████████████████████████████| 30/30 [01:35<00:00,  3.17s/it]"
     ]
    },
    {
     "name": "stdout",
     "output_type": "stream",
     "text": [
      "CategoricalNB                  ERROR                          0.9598946571350098            \n"
     ]
    },
    {
     "name": "stderr",
     "output_type": "stream",
     "text": [
      "\n"
     ]
    }
   ],
   "source": [
    "line=[[\"ML\",\"V-ACC\",\"V-F1\",\"V-STD\",\"T-ACC\",\"T-F1\",\"T-STD\",\"T-TIME\"]]\n",
    "fold=1\n",
    "flag=1\n",
    "for ii in tqdm(ml_list):\n",
    "    second=time.time()\n",
    "    logmodel = ml_list[ii]\n",
    "    v_acc=[]\n",
    "    t_acc=[]\n",
    "\n",
    "    v_f1=[]\n",
    "    t_f1=[]\n",
    "    #print(\"Accuracy = \"+ str(accuracy_score(y_test,predictions)))\n",
    "    try:\n",
    "        for i in range(fold):\n",
    "            logmodel.fit(X_train,y_train)\n",
    "            pred_v = logmodel.predict(X_vali)\n",
    "            pred_t = logmodel.predict(X_test)\n",
    "            v_f1.append(sklearn.metrics.f1_score(y_vali,pred_v,average= \"macro\"))\n",
    "            t_f1.append(sklearn.metrics.f1_score(y_test,pred_t,average= \"macro\"))\n",
    "            v_acc.append(sklearn.metrics.accuracy_score(y_vali,pred_v))\n",
    "            t_acc.append(sklearn.metrics.accuracy_score(y_test,pred_t))\n",
    "\n",
    "        result=[ii,round(np.mean(v_acc),4),round(np.mean(v_f1),4),round(np.std(v_f1),4),round(np.mean(t_acc),4),round(np.mean(t_f1),4),round(np.std(t_f1),4),round((time.time()-second),4)]\n",
    "        line.append(result)\n",
    "        #print ('%-30s %-30s %-30s %-30s' % (ii[30:],np.mean(v_results),np.mean(t_results),time.time()-second))\n",
    "    except:\n",
    "        if flag:\n",
    "            print ('%-30s %-30s %-30s' % (\"ML\",\"F1 Score\",\"TIME\"))\n",
    "            flag=0\n",
    "        print ('%-30s %-30s %-30s' % (ii[:30],\"ERROR\",time.time()-second))\n",
    "        #result=[ii,\"ERROR\",\"ERROR\",\"ERROR\",\"ERROR\",\"ERROR\",\"ERROR\",round((time.time()-second),4)]\n",
    "        #line.append(result)\n",
    "  "
   ]
  },
  {
   "cell_type": "code",
   "execution_count": 8,
   "metadata": {},
   "outputs": [
    {
     "data": {
      "text/html": [
       "<div>\n",
       "<style scoped>\n",
       "    .dataframe tbody tr th:only-of-type {\n",
       "        vertical-align: middle;\n",
       "    }\n",
       "\n",
       "    .dataframe tbody tr th {\n",
       "        vertical-align: top;\n",
       "    }\n",
       "\n",
       "    .dataframe thead th {\n",
       "        text-align: right;\n",
       "    }\n",
       "</style>\n",
       "<table border=\"1\" class=\"dataframe\">\n",
       "  <thead>\n",
       "    <tr style=\"text-align: right;\">\n",
       "      <th></th>\n",
       "      <th>ML</th>\n",
       "      <th>V-ACC</th>\n",
       "      <th>V-F1</th>\n",
       "      <th>V-STD</th>\n",
       "      <th>T-ACC</th>\n",
       "      <th>T-F1</th>\n",
       "      <th>T-STD</th>\n",
       "      <th>T-TIME</th>\n",
       "    </tr>\n",
       "  </thead>\n",
       "  <tbody>\n",
       "    <tr>\n",
       "      <th>5</th>\n",
       "      <td>OutputCodeClassifier</td>\n",
       "      <td>0.7184</td>\n",
       "      <td>0.7246</td>\n",
       "      <td>0.0</td>\n",
       "      <td>0.7387</td>\n",
       "      <td>0.7423</td>\n",
       "      <td>0.0</td>\n",
       "      <td>12.7049</td>\n",
       "    </tr>\n",
       "    <tr>\n",
       "      <th>12</th>\n",
       "      <td>BaggingClassifier</td>\n",
       "      <td>0.7162</td>\n",
       "      <td>0.7227</td>\n",
       "      <td>0.0</td>\n",
       "      <td>0.7368</td>\n",
       "      <td>0.7387</td>\n",
       "      <td>0.0</td>\n",
       "      <td>2.5253</td>\n",
       "    </tr>\n",
       "    <tr>\n",
       "      <th>13</th>\n",
       "      <td>ExtraTreesClassifier</td>\n",
       "      <td>0.7190</td>\n",
       "      <td>0.7217</td>\n",
       "      <td>0.0</td>\n",
       "      <td>0.7348</td>\n",
       "      <td>0.7304</td>\n",
       "      <td>0.0</td>\n",
       "      <td>8.1266</td>\n",
       "    </tr>\n",
       "    <tr>\n",
       "      <th>14</th>\n",
       "      <td>RandomForestClassifier</td>\n",
       "      <td>0.7204</td>\n",
       "      <td>0.7192</td>\n",
       "      <td>0.0</td>\n",
       "      <td>0.7363</td>\n",
       "      <td>0.7330</td>\n",
       "      <td>0.0</td>\n",
       "      <td>8.5834</td>\n",
       "    </tr>\n",
       "    <tr>\n",
       "      <th>6</th>\n",
       "      <td>OneVsOneClassifier</td>\n",
       "      <td>0.7163</td>\n",
       "      <td>0.7176</td>\n",
       "      <td>0.0</td>\n",
       "      <td>0.7390</td>\n",
       "      <td>0.7321</td>\n",
       "      <td>0.0</td>\n",
       "      <td>10.3076</td>\n",
       "    </tr>\n",
       "    <tr>\n",
       "      <th>1</th>\n",
       "      <td>DecisionTreeClassifier</td>\n",
       "      <td>0.7160</td>\n",
       "      <td>0.7168</td>\n",
       "      <td>0.0</td>\n",
       "      <td>0.7361</td>\n",
       "      <td>0.7304</td>\n",
       "      <td>0.0</td>\n",
       "      <td>0.1757</td>\n",
       "    </tr>\n",
       "    <tr>\n",
       "      <th>0</th>\n",
       "      <td>ExtraTreeClassifier</td>\n",
       "      <td>0.7119</td>\n",
       "      <td>0.7115</td>\n",
       "      <td>0.0</td>\n",
       "      <td>0.7324</td>\n",
       "      <td>0.7287</td>\n",
       "      <td>0.0</td>\n",
       "      <td>0.0702</td>\n",
       "    </tr>\n",
       "    <tr>\n",
       "      <th>7</th>\n",
       "      <td>OneVsRestClassifier</td>\n",
       "      <td>0.7076</td>\n",
       "      <td>0.7020</td>\n",
       "      <td>0.0</td>\n",
       "      <td>0.7361</td>\n",
       "      <td>0.7260</td>\n",
       "      <td>0.0</td>\n",
       "      <td>5.4144</td>\n",
       "    </tr>\n",
       "    <tr>\n",
       "      <th>4</th>\n",
       "      <td>KNeighborsClassifier</td>\n",
       "      <td>0.5804</td>\n",
       "      <td>0.6398</td>\n",
       "      <td>0.0</td>\n",
       "      <td>0.5985</td>\n",
       "      <td>0.6492</td>\n",
       "      <td>0.0</td>\n",
       "      <td>8.4197</td>\n",
       "    </tr>\n",
       "    <tr>\n",
       "      <th>17</th>\n",
       "      <td>LinearDiscriminantAnalysis</td>\n",
       "      <td>0.4664</td>\n",
       "      <td>0.3986</td>\n",
       "      <td>0.0</td>\n",
       "      <td>0.4551</td>\n",
       "      <td>0.3978</td>\n",
       "      <td>0.0</td>\n",
       "      <td>0.6418</td>\n",
       "    </tr>\n",
       "    <tr>\n",
       "      <th>22</th>\n",
       "      <td>QuadraticDiscriminantAnalysis</td>\n",
       "      <td>0.3561</td>\n",
       "      <td>0.3355</td>\n",
       "      <td>0.0</td>\n",
       "      <td>0.3466</td>\n",
       "      <td>0.3419</td>\n",
       "      <td>0.0</td>\n",
       "      <td>1.3765</td>\n",
       "    </tr>\n",
       "    <tr>\n",
       "      <th>9</th>\n",
       "      <td>RidgeClassifier</td>\n",
       "      <td>0.4708</td>\n",
       "      <td>0.2018</td>\n",
       "      <td>0.0</td>\n",
       "      <td>0.4552</td>\n",
       "      <td>0.1992</td>\n",
       "      <td>0.0</td>\n",
       "      <td>0.1739</td>\n",
       "    </tr>\n",
       "    <tr>\n",
       "      <th>8</th>\n",
       "      <td>RidgeClassifierCV</td>\n",
       "      <td>0.4686</td>\n",
       "      <td>0.1983</td>\n",
       "      <td>0.0</td>\n",
       "      <td>0.4558</td>\n",
       "      <td>0.1988</td>\n",
       "      <td>0.0</td>\n",
       "      <td>0.6732</td>\n",
       "    </tr>\n",
       "    <tr>\n",
       "      <th>16</th>\n",
       "      <td>GaussianNB</td>\n",
       "      <td>0.2739</td>\n",
       "      <td>0.1316</td>\n",
       "      <td>0.0</td>\n",
       "      <td>0.2631</td>\n",
       "      <td>0.1343</td>\n",
       "      <td>0.0</td>\n",
       "      <td>0.9702</td>\n",
       "    </tr>\n",
       "    <tr>\n",
       "      <th>15</th>\n",
       "      <td>BernoulliNB</td>\n",
       "      <td>0.2832</td>\n",
       "      <td>0.1049</td>\n",
       "      <td>0.0</td>\n",
       "      <td>0.2571</td>\n",
       "      <td>0.0995</td>\n",
       "      <td>0.0</td>\n",
       "      <td>0.2168</td>\n",
       "    </tr>\n",
       "    <tr>\n",
       "      <th>11</th>\n",
       "      <td>AdaBoostClassifier</td>\n",
       "      <td>0.2910</td>\n",
       "      <td>0.0933</td>\n",
       "      <td>0.0</td>\n",
       "      <td>0.2595</td>\n",
       "      <td>0.0858</td>\n",
       "      <td>0.0</td>\n",
       "      <td>14.1909</td>\n",
       "    </tr>\n",
       "    <tr>\n",
       "      <th>10</th>\n",
       "      <td>PassiveAggressiveClassifier</td>\n",
       "      <td>0.2491</td>\n",
       "      <td>0.0619</td>\n",
       "      <td>0.0</td>\n",
       "      <td>0.2336</td>\n",
       "      <td>0.0613</td>\n",
       "      <td>0.0</td>\n",
       "      <td>4.6268</td>\n",
       "    </tr>\n",
       "    <tr>\n",
       "      <th>21</th>\n",
       "      <td>Perceptron</td>\n",
       "      <td>0.1425</td>\n",
       "      <td>0.0556</td>\n",
       "      <td>0.0</td>\n",
       "      <td>0.1485</td>\n",
       "      <td>0.0554</td>\n",
       "      <td>0.0</td>\n",
       "      <td>5.1488</td>\n",
       "    </tr>\n",
       "    <tr>\n",
       "      <th>20</th>\n",
       "      <td>NearestCentroid</td>\n",
       "      <td>0.0824</td>\n",
       "      <td>0.0490</td>\n",
       "      <td>0.0</td>\n",
       "      <td>0.0848</td>\n",
       "      <td>0.0508</td>\n",
       "      <td>0.0</td>\n",
       "      <td>0.1279</td>\n",
       "    </tr>\n",
       "    <tr>\n",
       "      <th>18</th>\n",
       "      <td>LogisticRegression</td>\n",
       "      <td>0.2365</td>\n",
       "      <td>0.0462</td>\n",
       "      <td>0.0</td>\n",
       "      <td>0.2154</td>\n",
       "      <td>0.0410</td>\n",
       "      <td>0.0</td>\n",
       "      <td>8.3657</td>\n",
       "    </tr>\n",
       "    <tr>\n",
       "      <th>2</th>\n",
       "      <td>ComplementNB</td>\n",
       "      <td>0.1411</td>\n",
       "      <td>0.0453</td>\n",
       "      <td>0.0</td>\n",
       "      <td>0.1395</td>\n",
       "      <td>0.0453</td>\n",
       "      <td>0.0</td>\n",
       "      <td>0.0500</td>\n",
       "    </tr>\n",
       "    <tr>\n",
       "      <th>19</th>\n",
       "      <td>MultinomialNB</td>\n",
       "      <td>0.0818</td>\n",
       "      <td>0.0445</td>\n",
       "      <td>0.0</td>\n",
       "      <td>0.0839</td>\n",
       "      <td>0.0461</td>\n",
       "      <td>0.0</td>\n",
       "      <td>0.1522</td>\n",
       "    </tr>\n",
       "    <tr>\n",
       "      <th>3</th>\n",
       "      <td>DummyClassifier</td>\n",
       "      <td>0.1753</td>\n",
       "      <td>0.0111</td>\n",
       "      <td>0.0</td>\n",
       "      <td>0.1594</td>\n",
       "      <td>0.0102</td>\n",
       "      <td>0.0</td>\n",
       "      <td>0.0046</td>\n",
       "    </tr>\n",
       "  </tbody>\n",
       "</table>\n",
       "</div>"
      ],
      "text/plain": [
       "                                 ML   V-ACC    V-F1  V-STD   T-ACC    T-F1  \\\n",
       "5              OutputCodeClassifier  0.7184  0.7246    0.0  0.7387  0.7423   \n",
       "12                BaggingClassifier  0.7162  0.7227    0.0  0.7368  0.7387   \n",
       "13             ExtraTreesClassifier  0.7190  0.7217    0.0  0.7348  0.7304   \n",
       "14           RandomForestClassifier  0.7204  0.7192    0.0  0.7363  0.7330   \n",
       "6                OneVsOneClassifier  0.7163  0.7176    0.0  0.7390  0.7321   \n",
       "1            DecisionTreeClassifier  0.7160  0.7168    0.0  0.7361  0.7304   \n",
       "0               ExtraTreeClassifier  0.7119  0.7115    0.0  0.7324  0.7287   \n",
       "7               OneVsRestClassifier  0.7076  0.7020    0.0  0.7361  0.7260   \n",
       "4              KNeighborsClassifier  0.5804  0.6398    0.0  0.5985  0.6492   \n",
       "17       LinearDiscriminantAnalysis  0.4664  0.3986    0.0  0.4551  0.3978   \n",
       "22    QuadraticDiscriminantAnalysis  0.3561  0.3355    0.0  0.3466  0.3419   \n",
       "9                   RidgeClassifier  0.4708  0.2018    0.0  0.4552  0.1992   \n",
       "8                 RidgeClassifierCV  0.4686  0.1983    0.0  0.4558  0.1988   \n",
       "16                       GaussianNB  0.2739  0.1316    0.0  0.2631  0.1343   \n",
       "15                      BernoulliNB  0.2832  0.1049    0.0  0.2571  0.0995   \n",
       "11               AdaBoostClassifier  0.2910  0.0933    0.0  0.2595  0.0858   \n",
       "10  PassiveAggressiveClassifier      0.2491  0.0619    0.0  0.2336  0.0613   \n",
       "21                       Perceptron  0.1425  0.0556    0.0  0.1485  0.0554   \n",
       "20                  NearestCentroid  0.0824  0.0490    0.0  0.0848  0.0508   \n",
       "18               LogisticRegression  0.2365  0.0462    0.0  0.2154  0.0410   \n",
       "2                      ComplementNB  0.1411  0.0453    0.0  0.1395  0.0453   \n",
       "19                  MultinomialNB    0.0818  0.0445    0.0  0.0839  0.0461   \n",
       "3                   DummyClassifier  0.1753  0.0111    0.0  0.1594  0.0102   \n",
       "\n",
       "    T-STD   T-TIME  \n",
       "5     0.0  12.7049  \n",
       "12    0.0   2.5253  \n",
       "13    0.0   8.1266  \n",
       "14    0.0   8.5834  \n",
       "6     0.0  10.3076  \n",
       "1     0.0   0.1757  \n",
       "0     0.0   0.0702  \n",
       "7     0.0   5.4144  \n",
       "4     0.0   8.4197  \n",
       "17    0.0   0.6418  \n",
       "22    0.0   1.3765  \n",
       "9     0.0   0.1739  \n",
       "8     0.0   0.6732  \n",
       "16    0.0   0.9702  \n",
       "15    0.0   0.2168  \n",
       "11    0.0  14.1909  \n",
       "10    0.0   4.6268  \n",
       "21    0.0   5.1488  \n",
       "20    0.0   0.1279  \n",
       "18    0.0   8.3657  \n",
       "2     0.0   0.0500  \n",
       "19    0.0   0.1522  \n",
       "3     0.0   0.0046  "
      ]
     },
     "execution_count": 8,
     "metadata": {},
     "output_type": "execute_result"
    }
   ],
   "source": [
    "df = pd.DataFrame (line[1:], columns = line[0])\n",
    "df.sort_values(by=['V-F1'], ascending=False)"
   ]
  },
  {
   "cell_type": "code",
   "execution_count": 9,
   "metadata": {},
   "outputs": [
    {
     "ename": "UFuncTypeError",
     "evalue": "ufunc 'greater' did not contain a loop with signature matching types (<class 'numpy.dtypes.Float64DType'>, <class 'numpy.dtypes.StrDType'>) -> None",
     "output_type": "error",
     "traceback": [
      "\u001b[1;31m---------------------------------------------------------------------------\u001b[0m",
      "\u001b[1;31mUFuncTypeError\u001b[0m                            Traceback (most recent call last)",
      "Cell \u001b[1;32mIn[9], line 1\u001b[0m\n\u001b[1;32m----> 1\u001b[0m \u001b[43mdf\u001b[49m\u001b[38;5;241;43m.\u001b[39;49m\u001b[43msort_values\u001b[49m\u001b[43m(\u001b[49m\u001b[43mby\u001b[49m\u001b[38;5;241;43m=\u001b[39;49m\u001b[43m[\u001b[49m\u001b[38;5;124;43m'\u001b[39;49m\u001b[38;5;124;43mV-F1\u001b[39;49m\u001b[38;5;124;43m'\u001b[39;49m\u001b[43m]\u001b[49m\u001b[43m)\u001b[49m\n",
      "File \u001b[1;32m~\\AppData\\Local\\Programs\\Python\\Python312\\Lib\\site-packages\\pandas\\core\\frame.py:7184\u001b[0m, in \u001b[0;36mDataFrame.sort_values\u001b[1;34m(self, by, axis, ascending, inplace, kind, na_position, ignore_index, key)\u001b[0m\n\u001b[0;32m   7181\u001b[0m     \u001b[38;5;28;01mif\u001b[39;00m \u001b[38;5;28misinstance\u001b[39m(ascending, (\u001b[38;5;28mtuple\u001b[39m, \u001b[38;5;28mlist\u001b[39m)):\n\u001b[0;32m   7182\u001b[0m         ascending \u001b[38;5;241m=\u001b[39m ascending[\u001b[38;5;241m0\u001b[39m]\n\u001b[1;32m-> 7184\u001b[0m     indexer \u001b[38;5;241m=\u001b[39m \u001b[43mnargsort\u001b[49m\u001b[43m(\u001b[49m\n\u001b[0;32m   7185\u001b[0m \u001b[43m        \u001b[49m\u001b[43mk\u001b[49m\u001b[43m,\u001b[49m\u001b[43m \u001b[49m\u001b[43mkind\u001b[49m\u001b[38;5;241;43m=\u001b[39;49m\u001b[43mkind\u001b[49m\u001b[43m,\u001b[49m\u001b[43m \u001b[49m\u001b[43mascending\u001b[49m\u001b[38;5;241;43m=\u001b[39;49m\u001b[43mascending\u001b[49m\u001b[43m,\u001b[49m\u001b[43m \u001b[49m\u001b[43mna_position\u001b[49m\u001b[38;5;241;43m=\u001b[39;49m\u001b[43mna_position\u001b[49m\u001b[43m,\u001b[49m\u001b[43m \u001b[49m\u001b[43mkey\u001b[49m\u001b[38;5;241;43m=\u001b[39;49m\u001b[43mkey\u001b[49m\n\u001b[0;32m   7186\u001b[0m \u001b[43m    \u001b[49m\u001b[43m)\u001b[49m\n\u001b[0;32m   7187\u001b[0m \u001b[38;5;28;01melse\u001b[39;00m:\n\u001b[0;32m   7188\u001b[0m     \u001b[38;5;28;01mif\u001b[39;00m inplace:\n",
      "File \u001b[1;32m~\\AppData\\Local\\Programs\\Python\\Python312\\Lib\\site-packages\\pandas\\core\\sorting.py:439\u001b[0m, in \u001b[0;36mnargsort\u001b[1;34m(items, kind, ascending, na_position, key, mask)\u001b[0m\n\u001b[0;32m    437\u001b[0m     non_nans \u001b[38;5;241m=\u001b[39m non_nans[::\u001b[38;5;241m-\u001b[39m\u001b[38;5;241m1\u001b[39m]\n\u001b[0;32m    438\u001b[0m     non_nan_idx \u001b[38;5;241m=\u001b[39m non_nan_idx[::\u001b[38;5;241m-\u001b[39m\u001b[38;5;241m1\u001b[39m]\n\u001b[1;32m--> 439\u001b[0m indexer \u001b[38;5;241m=\u001b[39m non_nan_idx[\u001b[43mnon_nans\u001b[49m\u001b[38;5;241;43m.\u001b[39;49m\u001b[43margsort\u001b[49m\u001b[43m(\u001b[49m\u001b[43mkind\u001b[49m\u001b[38;5;241;43m=\u001b[39;49m\u001b[43mkind\u001b[49m\u001b[43m)\u001b[49m]\n\u001b[0;32m    440\u001b[0m \u001b[38;5;28;01mif\u001b[39;00m \u001b[38;5;129;01mnot\u001b[39;00m ascending:\n\u001b[0;32m    441\u001b[0m     indexer \u001b[38;5;241m=\u001b[39m indexer[::\u001b[38;5;241m-\u001b[39m\u001b[38;5;241m1\u001b[39m]\n",
      "\u001b[1;31mUFuncTypeError\u001b[0m: ufunc 'greater' did not contain a loop with signature matching types (<class 'numpy.dtypes.Float64DType'>, <class 'numpy.dtypes.StrDType'>) -> None"
     ]
    }
   ],
   "source": []
  },
  {
   "cell_type": "code",
   "execution_count": 10,
   "metadata": {},
   "outputs": [
    {
     "name": "stdout",
     "output_type": "stream",
     "text": [
      "    ML                               V-ACC    V-F1    V-STD    T-ACC    T-F1    T-STD    T-TIME\n",
      "--  -----------------------------  -------  ------  -------  -------  ------  -------  --------\n",
      " 0  ExtraTreeClassifier             0.7119  0.7115        0   0.7324  0.7287        0    0.0702\n",
      " 1  DecisionTreeClassifier          0.716   0.7168        0   0.7361  0.7304        0    0.1757\n",
      " 2  ComplementNB                    0.1411  0.0453        0   0.1395  0.0453        0    0.05\n",
      " 3  DummyClassifier                 0.1753  0.0111        0   0.1594  0.0102        0    0.0046\n",
      " 4  KNeighborsClassifier            0.5804  0.6398        0   0.5985  0.6492        0    8.4197\n",
      " 5  OutputCodeClassifier            0.7184  0.7246        0   0.7387  0.7423        0   12.7049\n",
      " 6  OneVsOneClassifier              0.7163  0.7176        0   0.739   0.7321        0   10.3076\n",
      " 7  OneVsRestClassifier             0.7076  0.702         0   0.7361  0.726         0    5.4144\n",
      " 8  RidgeClassifierCV               0.4686  0.1983        0   0.4558  0.1988        0    0.6732\n",
      " 9  RidgeClassifier                 0.4708  0.2018        0   0.4552  0.1992        0    0.1739\n",
      "10  PassiveAggressiveClassifier     0.2491  0.0619        0   0.2336  0.0613        0    4.6268\n",
      "11  AdaBoostClassifier              0.291   0.0933        0   0.2595  0.0858        0   14.1909\n",
      "12  BaggingClassifier               0.7162  0.7227        0   0.7368  0.7387        0    2.5253\n",
      "13  ExtraTreesClassifier            0.719   0.7217        0   0.7348  0.7304        0    8.1266\n",
      "14  RandomForestClassifier          0.7204  0.7192        0   0.7363  0.733         0    8.5834\n",
      "15  BernoulliNB                     0.2832  0.1049        0   0.2571  0.0995        0    0.2168\n",
      "16  GaussianNB                      0.2739  0.1316        0   0.2631  0.1343        0    0.9702\n",
      "17  LinearDiscriminantAnalysis      0.4664  0.3986        0   0.4551  0.3978        0    0.6418\n",
      "18  LogisticRegression              0.2365  0.0462        0   0.2154  0.041         0    8.3657\n",
      "19  MultinomialNB                   0.0818  0.0445        0   0.0839  0.0461        0    0.1522\n",
      "20  NearestCentroid                 0.0824  0.049         0   0.0848  0.0508        0    0.1279\n",
      "21  Perceptron                      0.1425  0.0556        0   0.1485  0.0554        0    5.1488\n",
      "22  QuadraticDiscriminantAnalysis   0.3561  0.3355        0   0.3466  0.3419        0    1.3765\n"
     ]
    }
   ],
   "source": []
  },
  {
   "cell_type": "code",
   "execution_count": null,
   "metadata": {},
   "outputs": [],
   "source": []
  },
  {
   "cell_type": "code",
   "execution_count": 9,
   "metadata": {},
   "outputs": [
    {
     "name": "stderr",
     "output_type": "stream",
     "text": [
      " 17%|█████████████▊                                                                     | 5/30 [00:03<00:20,  1.19it/s]"
     ]
    },
    {
     "name": "stdout",
     "output_type": "stream",
     "text": [
      "ML                             F1 Score                       TIME                          \n",
      "RadiusNeighborsClassifier      ERROR                          2.530848741531372             \n"
     ]
    },
    {
     "name": "stderr",
     "output_type": "stream",
     "text": [
      " 20%|████████████████▌                                                                  | 6/30 [00:12<01:15,  3.16s/it]"
     ]
    },
    {
     "name": "stdout",
     "output_type": "stream",
     "text": [
      "ClassifierChain                ERROR                          0.01482701301574707           \n",
      "MultiOutputClassifier          ERROR                          0.0009937286376953125         \n"
     ]
    },
    {
     "name": "stderr",
     "output_type": "stream",
     "text": [
      " 67%|██████████████████████████████████████████████████████▋                           | 20/30 [01:24<00:37,  3.75s/it]"
     ]
    },
    {
     "name": "stdout",
     "output_type": "stream",
     "text": [
      "LabelPropagation               ERROR                          0.04171562194824219           \n",
      "LabelSpreading                 ERROR                          0.04339456558227539           \n"
     ]
    },
    {
     "name": "stderr",
     "output_type": "stream",
     "text": [
      " 87%|███████████████████████████████████████████████████████████████████████           | 26/30 [01:33<00:07,  1.85s/it]"
     ]
    },
    {
     "name": "stdout",
     "output_type": "stream",
     "text": [
      "NuSVC                          ERROR                          0.058086395263671875          \n"
     ]
    },
    {
     "name": "stderr",
     "output_type": "stream",
     "text": [
      "100%|██████████████████████████████████████████████████████████████████████████████████| 30/30 [01:40<00:00,  3.37s/it]"
     ]
    },
    {
     "name": "stdout",
     "output_type": "stream",
     "text": [
      "CategoricalNB                  ERROR                          0.9407484531402588            \n"
     ]
    },
    {
     "name": "stderr",
     "output_type": "stream",
     "text": [
      "\n"
     ]
    }
   ],
   "source": []
  },
  {
   "cell_type": "code",
   "execution_count": null,
   "metadata": {},
   "outputs": [],
   "source": []
  },
  {
   "cell_type": "code",
   "execution_count": null,
   "metadata": {},
   "outputs": [],
   "source": []
  },
  {
   "cell_type": "code",
   "execution_count": null,
   "metadata": {},
   "outputs": [],
   "source": []
  },
  {
   "cell_type": "code",
   "execution_count": 1,
   "metadata": {},
   "outputs": [
    {
     "name": "stderr",
     "output_type": "stream",
     "text": [
      "C:\\Users\\kahra\\AppData\\Local\\Temp\\ipykernel_19592\\3672796229.py:2: DeprecationWarning: \n",
      "Pyarrow will become a required dependency of pandas in the next major release of pandas (pandas 3.0),\n",
      "(to allow more performant data types, such as the Arrow string type, and better interoperability with other libraries)\n",
      "but was not found to be installed on your system.\n",
      "If this would cause problems for you,\n",
      "please provide us feedback at https://github.com/pandas-dev/pandas/issues/54466\n",
      "        \n",
      "  import pandas as pd\n"
     ]
    }
   ],
   "source": [
    "\n",
    "\n",
    "import random\n",
    "import os\n",
    "import seaborn as sns\n",
    "%matplotlib inline \n",
    "import time\n",
    "import warnings\n",
    "warnings.filterwarnings(\"ignore\")"
   ]
  },
  {
   "cell_type": "code",
   "execution_count": 2,
   "metadata": {},
   "outputs": [],
   "source": [
    "from sklearn.datasets import load_breast_cancer\n",
    "from sklearn.model_selection import train_test_split\n",
    "from sklearn.linear_model import LogisticRegression\n",
    "from sklearn.ensemble import RandomForestClassifier\n",
    "from sklearn.metrics import accuracy_score\n",
    "from sklearn.metrics import  f1_score\n",
    "from sklearn.tree import DecisionTreeClassifier"
   ]
  },
  {
   "cell_type": "code",
   "execution_count": 3,
   "metadata": {},
   "outputs": [],
   "source": [
    "import warnings\n",
    "warnings.filterwarnings('ignore')\n",
    "\n",
    "import statistics as stat"
   ]
  },
  {
   "cell_type": "code",
   "execution_count": 4,
   "metadata": {},
   "outputs": [],
   "source": [
    "import numpy as np\n",
    "import pandas as pd\n",
    "import random\n",
    "import matplotlib.pyplot as plt\n",
    "%matplotlib inline"
   ]
  },
  {
   "cell_type": "code",
   "execution_count": 5,
   "metadata": {},
   "outputs": [],
   "source": [
    "from sklearn.datasets import load_breast_cancer\n",
    "from sklearn.model_selection import train_test_split\n",
    "from sklearn.linear_model import LogisticRegression\n",
    "from sklearn.metrics import accuracy_score"
   ]
  },
  {
   "cell_type": "code",
   "execution_count": 6,
   "metadata": {},
   "outputs": [
    {
     "name": "stdout",
     "output_type": "stream",
     "text": [
      "True\n"
     ]
    }
   ],
   "source": []
  },
  {
   "cell_type": "code",
   "execution_count": 58,
   "metadata": {},
   "outputs": [
    {
     "data": {
      "text/plain": [
       "53"
      ]
     },
     "execution_count": 58,
     "metadata": {},
     "output_type": "execute_result"
    }
   ],
   "source": [
    "len(cols)"
   ]
  },
  {
   "cell_type": "code",
   "execution_count": 59,
   "metadata": {},
   "outputs": [
    {
     "name": "stdout",
     "output_type": "stream",
     "text": [
      "(83894, 52) (19932, 52) (83894,) (19932,)\n"
     ]
    }
   ],
   "source": [
    "test='./Aalto_validation_IoTDevID.csv'\n",
    "train='./Aalto_train_IoTDevID.csv'\n",
    "train='./Aalto_BIG_train_IoTDevID.csv'\n",
    "test=\"Aalto_test_IoTDevID.csv\"\n",
    "df = pd.read_csv(train,usecols=cols)#,header=None )\n",
    "\n",
    "X_train =df[df.columns[0:-1]]\n",
    "#X_train=np.array(X_train)\n",
    "df[df.columns[-1]] = df[df.columns[-1]].astype('category')\n",
    "y_train=df[df.columns[-1]].cat.codes  \n",
    "\n",
    "\n",
    "\n",
    "df = pd.read_csv(test,usecols=cols)#,header=None )\n",
    "\n",
    "X_test =df[df.columns[0:-1]]\n",
    "#X_test=np.array(X_test)\n",
    "df[df.columns[-1]] = df[df.columns[-1]].astype('category')\n",
    "y_test=df[df.columns[-1]].cat.codes  \n",
    "\n",
    "\n",
    "print(X_train.shape,\n",
    "X_test.shape,\n",
    "y_train.shape,\n",
    "y_test.shape ,)"
   ]
  },
  {
   "cell_type": "code",
   "execution_count": 60,
   "metadata": {},
   "outputs": [
    {
     "name": "stdout",
     "output_type": "stream",
     "text": [
      "MEAN                           STD                           \n",
      "0.7486299759074645             0.0003859666296718498         \n"
     ]
    }
   ],
   "source": []
  },
  {
   "cell_type": "code",
   "execution_count": 61,
   "metadata": {},
   "outputs": [],
   "source": [
    "#defining various steps required for the genetic algorithm\n",
    "# GA adapted from https://datascienceplus.com/genetic-algorithm-in-machine-learning-using-python/\n",
    "def initilization_of_population(size,n_feat):\n",
    "    population = []\n",
    "    for i in range(size):\n",
    "        chromosome = np.ones(n_feat,dtype=np.bool_)\n",
    "        chromosome[:int(0.3*n_feat)]=False\n",
    "        np.random.shuffle(chromosome)\n",
    "        population.append(chromosome)\n",
    "    return population\n",
    "\n",
    "def fitness_score(population):\n",
    "    scores = []\n",
    "    for chromosome in population:\n",
    "        logmodel.fit(X_train.iloc[:,chromosome],y_train)\n",
    "        predictions = logmodel.predict(X_test.iloc[:,chromosome])\n",
    "        scores.append(f1_score(y_test,predictions,average= \"macro\"))\n",
    "    scores, population = np.array(scores), np.array(population) \n",
    "    inds = np.argsort(scores)\n",
    "    return list(scores[inds][::-1]), list(population[inds,:][::-1])\n",
    "\n",
    "def selection(pop_after_fit,n_parents):\n",
    "    population_nextgen = []\n",
    "    for i in range(n_parents):\n",
    "        population_nextgen.append(pop_after_fit[i])\n",
    "    return population_nextgen\n",
    "\n",
    "def crossover(pop_after_sel):\n",
    "    population_nextgen=pop_after_sel\n",
    "    for i in range(len(pop_after_sel)):\n",
    "        child=pop_after_sel[i]\n",
    "        child[3:7]=pop_after_sel[(i+1)%len(pop_after_sel)][3:7]\n",
    "        population_nextgen.append(child)\n",
    "    return population_nextgen\n",
    "\n",
    "def mutation(pop_after_cross,mutation_rate):\n",
    "    population_nextgen = []\n",
    "    for i in range(0,len(pop_after_cross)):\n",
    "        chromosome = pop_after_cross[i]\n",
    "        for j in range(len(chromosome)):\n",
    "            if random.random() < mutation_rate:\n",
    "                chromosome[j]= not chromosome[j]\n",
    "        population_nextgen.append(chromosome)\n",
    "    #print(population_nextgen)\n",
    "    return population_nextgen\n",
    "\n",
    "def generations(size,n_feat,n_parents,mutation_rate,n_gen,X_train,\n",
    "                                   X_test, y_train, y_test):\n",
    "    \n",
    "    best_chromo= []\n",
    "    best_score= []\n",
    "    population_nextgen=initilization_of_population(size,n_feat)\n",
    "    for i in range(n_gen):\n",
    "        second=time.time()\n",
    "        scores, pop_after_fit = fitness_score(population_nextgen)\n",
    "        #print(scores[:2])\n",
    "        zaman=time.time()-second\n",
    "        print ('%-30s %-30s %-30s' % (np.mean(scores),np.std(scores),zaman))\n",
    "\n",
    "        pop_after_sel = selection(pop_after_fit,n_parents)\n",
    "        pop_after_cross = crossover(pop_after_sel)\n",
    "        population_nextgen = mutation(pop_after_cross,mutation_rate)\n",
    "        best_chromo.append(pop_after_fit[0])\n",
    "        best_score.append(scores[0])\n",
    "    return best_chromo,best_score"
   ]
  },
  {
   "cell_type": "code",
   "execution_count": 62,
   "metadata": {},
   "outputs": [
    {
     "name": "stdout",
     "output_type": "stream",
     "text": [
      "MEAN                           STD                            TIME                          \n",
      "0.6987900935132535             0.04789734494483554            89.38974571228027             \n",
      "0.730464768238678              0.021932308069618392           119.0492811203003             \n",
      "0.7471168323510604             0.015714811820857426           121.25504922866821            \n",
      "0.7546497207088598             0.013992187767660801           109.62578082084656            \n",
      "0.7610188934772908             0.014068672178674043           109.87600922584534            \n",
      "0.764313490524593              0.016284265273293005           103.0002007484436             \n",
      "0.7663491909813184             0.013135956187449704           78.09997773170471             \n",
      "0.7657932117870396             0.016441013319956326           84.57985258102417             \n",
      "0.7677501683369835             0.005820428734471165           83.02574563026428             \n",
      "0.7670823101203682             0.01186024921031818            82.4296133518219              \n",
      "F1 Score score after genetic algorithm is= 0.7693606691610563\n"
     ]
    }
   ],
   "source": [
    "print ('%-30s %-30s %-30s' % (\"MEAN\",\"STD\",\"TIME\"))\n",
    "\n",
    "\n",
    "chromo,score=generations(size=200,n_feat=52,n_parents=120,mutation_rate=0.005,\n",
    "                     n_gen=10,X_train=X_train,X_test=X_test,y_train=y_train,y_test=y_test)\n",
    "logmodel.fit(X_train.iloc[:,chromo[-1]],y_train)\n",
    "predictions = logmodel.predict(X_test.iloc[:,chromo[-1]])\n",
    "print(\"F1 Score score after genetic algorithm is= \"+str(f1_score(y_test,predictions,average= \"macro\")))"
   ]
  },
  {
   "cell_type": "code",
   "execution_count": 63,
   "metadata": {},
   "outputs": [
    {
     "name": "stdout",
     "output_type": "stream",
     "text": [
      "MEAN                           STD                           \n",
      "0.769368956479099              4.611936141022803e-05         \n"
     ]
    }
   ],
   "source": [
    "results=[]\n",
    "for i in range(10):\n",
    "    logmodel.fit(X_train.iloc[:,chromo[-1]],y_train)\n",
    "    predictions = logmodel.predict(X_test.iloc[:,chromo[-1]])\n",
    "    results.append(f1_score(y_test,predictions,average= \"macro\"))\n",
    "print ('%-30s %-30s' % (\"MEAN\",\"STD\"))\n",
    "print ('%-30s %-30s' % (np.mean(results),np.std(results)))"
   ]
  },
  {
   "cell_type": "code",
   "execution_count": 64,
   "metadata": {},
   "outputs": [
    {
     "name": "stdout",
     "output_type": "stream",
     "text": [
      "MEAN                           STD                           \n",
      "0.7693671144182802             6.228674260305963e-05         \n"
     ]
    }
   ],
   "source": [
    "train='./Aalto_BIG_train_IoTDevID.csv'\n",
    "final=\"Aalto_test_IoTDevID.csv\"\n",
    "df = pd.read_csv(final,usecols=cols)#,header=None )\n",
    "X_final =df[df.columns[0:-1]]\n",
    "#X_test=np.array(X_test)\n",
    "df[df.columns[-1]] = df[df.columns[-1]].astype('category')\n",
    "y_final=df[df.columns[-1]].cat.codes  \n",
    "\n",
    "df = pd.read_csv(train,usecols=cols)#,header=None )\n",
    "\n",
    "X_train =df[df.columns[0:-1]]\n",
    "#X_train=np.array(X_train)\n",
    "df[df.columns[-1]] = df[df.columns[-1]].astype('category')\n",
    "y_train=df[df.columns[-1]].cat.codes  \n",
    "\n",
    "\n",
    "\n",
    "results=[]\n",
    "for i in range(10):\n",
    "    logmodel.fit(X_train.iloc[:,chromo[-1]],y_train)\n",
    "    predictions = logmodel.predict(X_final.iloc[:,chromo[-1]])\n",
    "    results.append(f1_score(y_final,predictions,average= \"macro\"))\n",
    "print ('%-30s %-30s' % (\"MEAN\",\"STD\"))\n",
    "print ('%-30s %-30s' % (np.mean(results),np.std(results)))\n",
    "\n"
   ]
  },
  {
   "cell_type": "code",
   "execution_count": 65,
   "metadata": {},
   "outputs": [
    {
     "name": "stdout",
     "output_type": "stream",
     "text": [
      "MEAN                           STD                           \n",
      "0.7930055791325142             0.0026327440232437336         \n",
      "MEAN                           STD                           \n",
      "0.7939562155591295             0.0025566294558324477         \n"
     ]
    }
   ],
   "source": [
    "cols=feature=[#'IP_id',\n",
    "#'ICMP_chksum',\n",
    "#'ICMP_id',\n",
    "#'TCP_seq',\n",
    "#'TCP_ack',\n",
    " #'TCP_chksum',\n",
    "# 'UDP_chksum',\n",
    "# 'DNS_id',\n",
    "# 'BOOTP_xid',\n",
    "'sport_class',\n",
    "'dport_class',\n",
    "#'sport23',\n",
    "#'dport23',\n",
    "#'sport_bare',\n",
    "# 'dport_bare',\n",
    "# 'TCP_sport',\n",
    "# 'TCP_dport',\n",
    "# 'UDP_sport',\n",
    "# 'UDP_dport',\n",
    " 'pck_size',\n",
    " 'Ether_type',\n",
    " 'LLC_ssap',\n",
    " 'LLC_ctrl',\n",
    " 'EAPOL_version',\n",
    " 'EAPOL_type',\n",
    " 'EAPOL_len',\n",
    " 'IP_version',\n",
    " 'IP_ihl',\n",
    " 'IP_tos',\n",
    " 'IP_len',\n",
    " 'IP_flags',\n",
    " 'IP_DF',\n",
    " 'IP_ttl',\n",
    " 'IP_proto',\n",
    " 'IP_options',\n",
    " 'ICMP_type',\n",
    " 'ICMP_code',\n",
    " 'ICMP_seq',\n",
    " 'TCP_dataofs',\n",
    " 'TCP_flags',\n",
    " 'TCP_FIN',\n",
    " 'TCP_SYN',\n",
    " 'TCP_RST',\n",
    " 'TCP_PSH',\n",
    " 'TCP_ACK',\n",
    " 'TCP_window',\n",
    " 'TCP_options',\n",
    " 'UDP_len',\n",
    " 'DHCP_options',\n",
    " 'BOOTP_op',\n",
    " 'BOOTP_htype',\n",
    " 'BOOTP_hlen',\n",
    " 'BOOTP_secs',\n",
    " 'BOOTP_flags',\n",
    " 'BOOTP_sname',\n",
    " 'BOOTP_file',\n",
    " 'BOOTP_options',\n",
    " 'DNS_qr',\n",
    " 'DNS_aa',\n",
    " 'DNS_rd',\n",
    " 'DNS_ra',\n",
    " 'DNS_rcode',\n",
    " 'DNS_qdcount',\n",
    " 'DNS_ancount',\n",
    " 'DNS_nscount',\n",
    " 'DNS_arcount',\n",
    " 'payload_bytes',    \n",
    " 'entropy',\n",
    "# 'Protocol',\n",
    "#\"MAC\",\n",
    " 'Label']\n",
    "\n",
    "\n",
    "\n",
    "\n",
    "train='./UNSW_BIG_train_IoTDevID.csv'\n",
    "final=\"UNSW_test_IoTDevID.csv\"\n",
    "df = pd.read_csv(final,usecols=cols)#,header=None )\n",
    "X_final =df[df.columns[0:-1]]\n",
    "#X_test=np.array(X_test)\n",
    "df[df.columns[-1]] = df[df.columns[-1]].astype('category')\n",
    "y_final=df[df.columns[-1]].cat.codes  \n",
    "\n",
    "df = pd.read_csv(train,usecols=cols)#,header=None )\n",
    "X_train =df[df.columns[0:-1]]\n",
    "#X_train=np.array(X_train)\n",
    "df[df.columns[-1]] = df[df.columns[-1]].astype('category')\n",
    "y_train=df[df.columns[-1]].cat.codes  \n",
    "\n",
    "\n",
    "\n",
    "results=[]\n",
    "for i in range(10):\n",
    "    logmodel.fit(X_train,y_train)\n",
    "    predictions = logmodel.predict(X_final)\n",
    "    results.append(f1_score(y_final,predictions,average= \"macro\"))\n",
    "print ('%-30s %-30s' % (\"MEAN\",\"STD\"))\n",
    "print ('%-30s %-30s' % (np.mean(results),np.std(results)))\n",
    "\n",
    "cols=feature=[#'IP_id',\n",
    "#'ICMP_chksum',\n",
    "#'ICMP_id',\n",
    "#'TCP_seq',\n",
    "#'TCP_ack',\n",
    " #'TCP_chksum',\n",
    "# 'UDP_chksum',\n",
    "# 'DNS_id',\n",
    "# 'BOOTP_xid',\n",
    "'sport_class',\n",
    "'dport_class',\n",
    "#'sport23',\n",
    "#'dport23',\n",
    "#'sport_bare',\n",
    "# 'dport_bare',\n",
    "# 'TCP_sport',\n",
    "# 'TCP_dport',\n",
    "# 'UDP_sport',\n",
    "# 'UDP_dport',\n",
    " 'pck_size',\n",
    " 'Ether_type',\n",
    " 'LLC_ssap',\n",
    " 'LLC_ctrl',\n",
    " 'EAPOL_version',\n",
    " 'EAPOL_type',\n",
    " 'EAPOL_len',\n",
    " 'IP_version',\n",
    " 'IP_ihl',\n",
    " 'IP_tos',\n",
    " 'IP_len',\n",
    " 'IP_flags',\n",
    " 'IP_DF',\n",
    " 'IP_ttl',\n",
    " 'IP_proto',\n",
    " 'IP_options',\n",
    " 'ICMP_type',\n",
    " 'ICMP_code',\n",
    " 'ICMP_seq',\n",
    " 'TCP_dataofs',\n",
    " 'TCP_flags',\n",
    " 'TCP_FIN',\n",
    " 'TCP_SYN',\n",
    " 'TCP_RST',\n",
    " 'TCP_PSH',\n",
    " 'TCP_ACK',\n",
    " 'TCP_window',\n",
    " 'TCP_options',\n",
    " 'UDP_len',\n",
    " 'DHCP_options',\n",
    " 'BOOTP_op',\n",
    " 'BOOTP_htype',\n",
    " 'BOOTP_hlen',\n",
    " 'BOOTP_secs',\n",
    " 'BOOTP_flags',\n",
    " 'BOOTP_sname',\n",
    " 'BOOTP_file',\n",
    " 'BOOTP_options',\n",
    " 'DNS_qr',\n",
    " 'DNS_aa',\n",
    " 'DNS_rd',\n",
    " 'DNS_ra',\n",
    " 'DNS_rcode',\n",
    " 'DNS_qdcount',\n",
    " 'DNS_ancount',\n",
    " 'DNS_nscount',\n",
    " 'DNS_arcount',\n",
    " 'payload_bytes',    \n",
    " 'entropy',\n",
    " 'Protocol',\n",
    "#\"MAC\",\n",
    " 'Label']\n",
    "\n",
    "train='./UNSW_BIG_train_IoTDevID.csv'\n",
    "final=\"UNSW_test_IoTDevID.csv\"\n",
    "df = pd.read_csv(final,usecols=cols)#,header=None )\n",
    "X_final =df[df.columns[0:-1]]\n",
    "#X_test=np.array(X_test)\n",
    "df[df.columns[-1]] = df[df.columns[-1]].astype('category')\n",
    "y_final=df[df.columns[-1]].cat.codes  \n",
    "\n",
    "df = pd.read_csv(train,usecols=cols)#,header=None )\n",
    "X_train =df[df.columns[0:-1]]\n",
    "#X_train=np.array(X_train)\n",
    "df[df.columns[-1]] = df[df.columns[-1]].astype('category')\n",
    "y_train=df[df.columns[-1]].cat.codes  \n",
    "\n",
    "\n",
    "\n",
    "\n",
    "results=[]\n",
    "for i in range(10):\n",
    "    logmodel.fit(X_train.iloc[:,chromo[-1]],y_train)\n",
    "    predictions = logmodel.predict(X_final.iloc[:,chromo[-1]])\n",
    "    results.append(f1_score(y_final,predictions,average= \"macro\"))\n",
    "print ('%-30s %-30s' % (\"MEAN\",\"STD\"))\n",
    "print ('%-30s %-30s' % (np.mean(results),np.std(results)))\n",
    "\n"
   ]
  },
  {
   "cell_type": "code",
   "execution_count": null,
   "metadata": {},
   "outputs": [],
   "source": []
  },
  {
   "cell_type": "code",
   "execution_count": null,
   "metadata": {},
   "outputs": [],
   "source": []
  },
  {
   "cell_type": "code",
   "execution_count": 66,
   "metadata": {},
   "outputs": [
    {
     "name": "stdout",
     "output_type": "stream",
     "text": [
      "MEAN                           STD                           \n",
      "0.8183834517042609             0.001062669724204336          \n"
     ]
    }
   ],
   "source": [
    "cols= ['pck_size', 'Ether_type', 'LLC_ctrl', 'EAPOL_version', 'EAPOL_type', 'IP_ihl', 'IP_tos', 'IP_len', 'IP_flags', 'IP_DF', 'IP_ttl', 'IP_options', 'ICMP_code', 'TCP_dataofs', 'TCP_FIN', 'TCP_ACK', 'TCP_window', 'UDP_len', 'DHCP_options', 'BOOTP_hlen', 'BOOTP_flags', 'BOOTP_sname', 'BOOTP_file', 'BOOTP_options', 'DNS_qr', 'DNS_rd', 'DNS_qdcount', 'dport_class', 'payload_bytes', 'entropy',\n",
    "'Label']\n",
    "\n",
    "train='./UNSW_BIG_train_IoTDevID.csv'\n",
    "final=\"UNSW_test_IoTDevID.csv\"\n",
    "df = pd.read_csv(final,usecols=cols)#,header=None )\n",
    "X_final =df[df.columns[0:-1]]\n",
    "#X_test=np.array(X_test)\n",
    "df[df.columns[-1]] = df[df.columns[-1]].astype('category')\n",
    "y_final=df[df.columns[-1]].cat.codes  \n",
    "\n",
    "df = pd.read_csv(train,usecols=cols)#,header=None )\n",
    "X_train =df[df.columns[0:-1]]\n",
    "#X_train=np.array(X_train)\n",
    "df[df.columns[-1]] = df[df.columns[-1]].astype('category')\n",
    "y_train=df[df.columns[-1]].cat.codes  \n",
    "\n",
    "\n",
    "\n",
    "results=[]\n",
    "for i in range(10):\n",
    "    logmodel.fit(X_train,y_train)\n",
    "    predictions = logmodel.predict(X_final)\n",
    "    results.append(f1_score(y_final,predictions,average= \"macro\"))\n",
    "print ('%-30s %-30s' % (\"MEAN\",\"STD\"))\n",
    "print ('%-30s %-30s' % (np.mean(results),np.std(results)))\n"
   ]
  },
  {
   "cell_type": "code",
   "execution_count": null,
   "metadata": {},
   "outputs": [],
   "source": []
  }
 ],
 "metadata": {
  "kernelspec": {
   "display_name": "Python 3 (ipykernel)",
   "language": "python",
   "name": "python3"
  },
  "language_info": {
   "codemirror_mode": {
    "name": "ipython",
    "version": 3
   },
   "file_extension": ".py",
   "mimetype": "text/x-python",
   "name": "python",
   "nbconvert_exporter": "python",
   "pygments_lexer": "ipython3",
   "version": "3.12.1"
  }
 },
 "nbformat": 4,
 "nbformat_minor": 4
}
