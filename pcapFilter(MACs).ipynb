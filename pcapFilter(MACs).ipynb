{
 "cells": [
  {
   "cell_type": "code",
   "execution_count": 1,
   "id": "1943766c",
   "metadata": {},
   "outputs": [],
   "source": [
    "import os\n",
    "from tqdm import tqdm\n",
    "import pandas as pd\n",
    "import warnings\n",
    "warnings.filterwarnings(\"ignore\")"
   ]
  },
  {
   "cell_type": "code",
   "execution_count": 2,
   "id": "5636bdf3",
   "metadata": {},
   "outputs": [],
   "source": [
    "def folder(f_name): #this function creates a folder named \"attacks\" in the program directory.\n",
    "    try:\n",
    "        if not os.path.exists(f_name):\n",
    "            os.makedirs(f_name)\n",
    "    except OSError:\n",
    "        print (\"Tthe folder could not be created!\")\n",
    "        "
   ]
  },
  {
   "cell_type": "code",
   "execution_count": 3,
   "id": "c53f0c8b",
   "metadata": {},
   "outputs": [],
   "source": [
    "def folder(f_name): #this function creates a folder named \"attacks\" in the program directory.\n",
    "    try:\n",
    "        if not os.path.exists(f_name):\n",
    "            os.makedirs(f_name)\n",
    "    except OSError:\n",
    "        print (\"Tthe folder could not be created!\")\n",
    "folder(\"devices\")  "
   ]
  },
  {
   "cell_type": "code",
   "execution_count": 4,
   "id": "bd047131",
   "metadata": {},
   "outputs": [
    {
     "data": {
      "text/plain": [
       "['./pcaps/2021_11_02_Idle.pcap',\n",
       " './pcaps/2021_11_03_Idle.pcap',\n",
       " './pcaps/2021_11_04_Idle.pcap',\n",
       " './pcaps/2021_11_08_Idle.pcap',\n",
       " './pcaps/2021_11_10_Idle.pcap',\n",
       " './pcaps/2021_11_12_Idle.pcap',\n",
       " './pcaps/2021_11_15_Idle.pcap',\n",
       " './pcaps/2021_11_16_Idle.pcap',\n",
       " './pcaps/2021_11_17_Idle.pcap',\n",
       " './pcaps/2021_11_18_Idle.pcap',\n",
       " './pcaps/2021_11_19_Idle.pcap',\n",
       " './pcaps/2021_11_22_Idle.pcap',\n",
       " './pcaps/2021_11_24_Idle.pcap',\n",
       " './pcaps/2021_11_25_Idle.pcap',\n",
       " './pcaps/2021_11_26_Idle.pcap',\n",
       " './pcaps/2021_11_29_Idle.pcap',\n",
       " './pcaps/2021_11_30_Idle.pcap',\n",
       " './pcaps/2021_12_01_Idle.pcap',\n",
       " './pcaps/2021_12_02_Idle.pcap',\n",
       " './pcaps/2021_12_03_Idle.pcap',\n",
       " './pcaps/2021_12_07_Idle.pcap',\n",
       " './pcaps/2021_12_08_Idle.pcap',\n",
       " './pcaps/2021_12_09_Idle.pcap',\n",
       " './pcaps/2021_12_10_Idle.pcap',\n",
       " './pcaps/2021_12_13_Idle.pcap',\n",
       " './pcaps/2021_12_15_Idle.pcap',\n",
       " './pcaps/2021_12_16_Idle.pcap',\n",
       " './pcaps/2021_12_20_Idle.pcap',\n",
       " './pcaps/2021_12_22_Idle.pcap',\n",
       " './pcaps/2021_12_23_Idle.pcap']"
      ]
     },
     "execution_count": 4,
     "metadata": {},
     "output_type": "execute_result"
    }
   ],
   "source": [
    "def find_the_way(path,file_format,con=\"\"):\n",
    "    files_add = []\n",
    "    # r=root, d=directories, f = files\n",
    "    for r, d, f in os.walk(path):\n",
    "        for file in f:\n",
    "            if file_format in file:\n",
    "                if con in file:\n",
    "                    files_add.append(os.path.join(r, file))  \n",
    "            \n",
    "    return files_add\n",
    "path=\"pcaps\"\n",
    "\n",
    "files_add=find_the_way('./pcaps/',\".pcap\")\n",
    "files_add"
   ]
  },
  {
   "cell_type": "code",
   "execution_count": 5,
   "id": "2d542ce3",
   "metadata": {},
   "outputs": [],
   "source": [
    "cicmacs=[\"b8:f0:09:03:9a:af\",\n",
    "\"50:02:91:1a:ce:e1\",\n",
    "\"50:02:91:10:09:8f\",\n",
    "\"c4:dd:57:0c:39:94\",\n",
    "\"b8:f0:09:03:29:79\",\n",
    "\"24:a1:60:14:7f:f9\",\n",
    "\"50:02:91:10:ac:d8\",\n",
    "\"d4:a6:51:76:06:64\",\n",
    "\"d4:a6:51:78:97:4e\",\n",
    "\"d4:a6:51:20:91:d1\",\n",
    "\"d4:a6:51:21:6c:29\",\n",
    "\"1c:fe:2b:98:16:dd\",\n",
    "\"a0:d0:dc:c4:08:ff\"]"
   ]
  },
  {
   "cell_type": "code",
   "execution_count": null,
   "id": "e761a141",
   "metadata": {},
   "outputs": [
    {
     "name": "stderr",
     "output_type": "stream",
     "text": [
      "  0%|                                                                                           | 0/30 [00:00<?, ?it/s]"
     ]
    }
   ],
   "source": [
    "for i in tqdm(files_add):\n",
    "    for m in cicmacs:\n",
    "        newfolder=f\"filtered/{i[8:-5]}/\"\n",
    "        folder(newfolder)\n",
    "        newname=f\"{newfolder}{m}.pcap\"\n",
    "        newname=newname.replace(\":\",\"-\")\n",
    "        line=f\"tshark -r {i} -Y eth.src=={m} -w {newname}\"\n",
    "        os.system(line)\n",
    "    \n",
    "\n",
    "    \n",
    "    "
   ]
  },
  {
   "cell_type": "code",
   "execution_count": null,
   "id": "a5c87d5c",
   "metadata": {},
   "outputs": [],
   "source": []
  }
 ],
 "metadata": {
  "kernelspec": {
   "display_name": "Python 3 (ipykernel)",
   "language": "python",
   "name": "python3"
  },
  "language_info": {
   "codemirror_mode": {
    "name": "ipython",
    "version": 3
   },
   "file_extension": ".py",
   "mimetype": "text/x-python",
   "name": "python",
   "nbconvert_exporter": "python",
   "pygments_lexer": "ipython3",
   "version": "3.11.5"
  }
 },
 "nbformat": 4,
 "nbformat_minor": 5
}
